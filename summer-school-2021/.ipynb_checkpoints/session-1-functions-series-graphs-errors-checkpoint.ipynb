{
 "cells": [
  {
   "cell_type": "markdown",
   "metadata": {},
   "source": [
    "# Section 1 : Functions, Series, Graphs and Errors\n",
    "[Statistics study of summer school 2021](https://datastudio.google.com/u/0/reporting/816227b7-14f4-4014-aaf1-7d3a830883af/page/Xyy1B)\\\n",
    "[Sesion 1](https://youtu.be/d4W4uykMd3I)\\\n",
    "Code sessions: IIEVFC3"
   ]
  },
  {
   "cell_type": "markdown",
   "metadata": {},
   "source": [
    "## Overview\n",
    "\n",
    "---\n",
    "\n",
    "### Functions \n",
    "$$\\mathbb{R}\\rightarrow\\mathbb{R}$$\n",
    "$$\\mathbb{R}^n\\rightarrow\\mathbb{R}$$\n",
    "**Cheatsheet:**\n",
    "- built-in\n",
    "    - [print](https://docs.python.org/3/library/functions.html#print)\n",
    "- numpy\n",
    "    - [linspace](https://numpy.org/doc/stable/reference/generated/numpy.linspace.html)\n",
    "- matplotlib\n",
    "    - [plot](https://matplotlib.org/stable/api/_as_gen/matplotlib.pyplot.plot.html)\n",
    "    - [xlabel](https://matplotlib.org/3.1.1/api/_as_gen/matplotlib.pyplot.xlabel.html)\n",
    "    - [ylabel](https://matplotlib.org/3.3.4/api/_as_gen/matplotlib.pyplot.ylabel.html)\n",
    "    - [legend](https://matplotlib.org/stable/api/_as_gen/matplotlib.pyplot.legend.html)\n",
    "\n",
    "---\n",
    "\n",
    "### Functions \n",
    "$$\\mathbb{R}^n \\rightarrow \\mathbb{R}^m$$\n",
    "Starts: 58''. \\\n",
    "Here we'll use:\n",
    "- numpy - linalg.norm, array, shape\n",
    "\n",
    "--- \n",
    "\n",
    "### Functions\n",
    "$$\\mathbb{R} \\rightarrow \\mathbb{C}$$\n",
    "Here we'll use:\n",
    "- j\n",
    "- numpy: imag, real\n",
    "\n",
    "---\n",
    "\n",
    "### Series\n",
    "- numpy\n",
    "    - vectorize\n",
    " ---"
   ]
  },
  {
   "cell_type": "markdown",
   "metadata": {},
   "source": [
    "## Functions \n",
    "$$\\mathbb{R}\\rightarrow\\mathbb{R}$$\n",
    "\n",
    "---\n",
    "\n",
    "### Exercise 1/2\n",
    "Build a function to calculate the factorial of a number:\n",
    "$$n!$$\n",
    "\n",
    "---\n",
    "\n",
    "### Exercise 2/2\n",
    "Build a function to calculate the factorial of a bunch of numbers within a range. "
   ]
  },
  {
   "cell_type": "code",
   "execution_count": 46,
   "metadata": {},
   "outputs": [
    {
     "name": "stdout",
     "output_type": "stream",
     "text": [
      "Test 1:\n",
      "factorial(3): 6 \n",
      "factorial(5): 120 \n",
      "\n"
     ]
    }
   ],
   "source": [
    "# Exercise 1/2\n",
    "\n",
    "def factorial(n):\n",
    "    f = 1\n",
    "    for _int in range(2,n+1):\n",
    "        f *= _int\n",
    "    return f\n",
    "\n",
    "# test\n",
    "# factorial(3) = 6\n",
    "# factorial(5) = 120\n",
    "print('Test 1:\\nfactorial(3): {} \\nfactorial(5): {} \\n'.format(factorial(3), factorial(5)))"
   ]
  },
  {
   "cell_type": "code",
   "execution_count": 47,
   "metadata": {},
   "outputs": [
    {
     "name": "stdout",
     "output_type": "stream",
     "text": [
      "Test 2:\n",
      "         n         n!\n",
      "         1          1\n",
      "         2          2\n",
      "         3          6\n",
      "         4         24\n",
      "         5        120\n",
      "         6        720\n",
      "         7       5040\n",
      "         8      40320\n",
      "         9     362880\n",
      "        10    3628800\n"
     ]
    }
   ],
   "source": [
    "# Exercise 2/2\n",
    "\n",
    "def factorials(a, b):\n",
    "    print('Test 2:\\n%10s %10s' % ('n', 'n!'))\n",
    "    for n in range(a, b+1):\n",
    "        print('%10d %10d' % (n, factorial(n)))\n",
    "\n",
    "# test\n",
    "factorials(1, 10)"
   ]
  },
  {
   "cell_type": "markdown",
   "metadata": {},
   "source": [
    "## Functions \n",
    "$$\\mathbb{R}^n\\rightarrow\\mathbb{R}$$\n",
    "\n",
    "---\n",
    "\n",
    "### Exercise 1/2\n",
    "Build a function to plot the position of the vertical movement of a particle, given $y_0, v_0$:\n",
    "$$y(y_0,v_0,t)=y_0+v_0 t - \\frac{1}{2} g t^2$$\n",
    "\n",
    "---\n",
    "\n",
    "### Exercise 2/2\n",
    "Build a function to plot the speed of the vertical movement of a particle, given $v_0$:\n",
    "$$\\frac{dy}{dt} = v(v_0,t) = v_0-gt$$"
   ]
  },
  {
   "cell_type": "code",
   "execution_count": 53,
   "metadata": {},
   "outputs": [
    {
     "name": "stdout",
     "output_type": "stream",
     "text": [
      "Test 1: \n",
      "The positions are: \n",
      " [   0.      13.775   25.1     33.975   40.4     44.375   45.9     44.975\n",
      "   41.6     35.775   27.5     16.775    3.6    -12.025  -30.1    -50.625\n",
      "  -73.6    -99.025 -126.9   -157.225 -190.   ]\n"
     ]
    },
    {
     "data": {
      "image/png": "[encoded data removed]",
      "text/plain": [
       "<Figure size 432x288 with 1 Axes>"
      ]
     },
     "metadata": {
      "needs_background": "light"
     },
     "output_type": "display_data"
    }
   ],
   "source": [
    "# Exercise 1/2\n",
    "\n",
    "import numpy as np\n",
    "import matplotlib.pyplot as plt\n",
    "\n",
    "def y_pos(y0, v0, t):\n",
    "    g = 9.8\n",
    "    return (y0 + v0 * t - 0.5 * g * t ** 2)\n",
    "\n",
    "# test\n",
    "t = np.linspace(0, 10, 21)\n",
    "print('Test 1: \\nThe positions are: \\n', y_pos(0, 30, t))        \n",
    "plt.plot(t, y_pos(0, 30, t))\n",
    "plt.ylabel('y(m)')\n",
    "plt.xlabel('t(s)')\n",
    "plt.grid()"
   ]
  },
  {
   "cell_type": "code",
   "execution_count": 60,
   "metadata": {},
   "outputs": [
    {
     "name": "stdout",
     "output_type": "stream",
     "text": [
      "The speed points are: \n",
      " [ 30.   25.1  20.2  15.3  10.4   5.5   0.6  -4.3  -9.2 -14.1 -19.  -23.9\n",
      " -28.8 -33.7 -38.6 -43.5 -48.4 -53.3 -58.2 -63.1 -68. ]\n"
     ]
    },
    {
     "data": {
      "image/png": "[encoded data removed]",
      "text/plain": [
       "<Figure size 432x288 with 1 Axes>"
      ]
     },
     "metadata": {
      "needs_background": "light"
     },
     "output_type": "display_data"
    }
   ],
   "source": [
    "# Exercise 2/2\n",
    "\n",
    "import numpy as np\n",
    "import matplotlib.pyplot as plt\n",
    "\n",
    "def y_vel(v0, t):\n",
    "    g = 9.8 #[m/s²]\n",
    "    return v0 - g * t\n",
    "\n",
    "# test\n",
    "t = np.linspace(0, 10, 21)\n",
    "print('The speed points are: \\n', y_vel(30, t))\n",
    "plt.plot(t, y_vel(30, t))\n",
    "plt.xlabel('t(s)')\n",
    "plt.ylabel('y(m/s)')\n",
    "plt.grid()"
   ]
  }
 ],
 "metadata": {
  "kernelspec": {
   "display_name": "Python 3",
   "language": "python",
   "name": "python3"
  },
  "language_info": {
   "codemirror_mode": {
    "name": "ipython",
    "version": 3
   },
   "file_extension": ".py",
   "mimetype": "text/x-python",
   "name": "python",
   "nbconvert_exporter": "python",
   "pygments_lexer": "ipython3",
   "version": "3.8.5"
  }
 },
 "nbformat": 4,
 "nbformat_minor": 4
}
