{
 "cells": [
  {
   "cell_type": "markdown",
   "metadata": {
    "_uuid": "1752ce061957fd1ce93d2e4db9494b7b29da7935",
    "id": "4skdndoa-7GI"
   },
   "source": [
    "<center>\n",
    "<img src=\"https://habrastorage.org/webt/jq/gc/r5/jqgcr5azmatev6zvgufn8xftehy.png\">\n",
    "    \n",
    "##  II Escuela de Verano en Física Computacional\n",
    "\n",
    "Autores: [Neisser Pino R.](https://scholar.google.com.pe/citations?user=pAB28NEAAAAJ&hl=es), [Ricardo Quispe M.](https://github.com/RcrdPhysics).\\\n",
    "Institución: Universidad Nacional Mayor de San Marcos\\\n",
    "Correo: ricardo.quispe5@unmsm.edu.pe\n",
    "    \n",
    "Este material está sujeto a los términos y condiciones de la licencia [Creative Commons CC BY-NC-SA 4.0](https://creativecommons.org/licenses/by-nc-sa/4.0/). Se permite el uso gratuito para cualquier propósito no comercial.\n",
    "\n",
    "*También puede consultar la última versión de este notebook en nuestro [repositorio](https://github.com/PCPUNMSM) y los videos de clase [en nuestro canal de Youtube](https://www.youtube.com/channel/UCze8vzQLcplutz0nWDNjFCA).*\n",
    "    "
   ]
  },
  {
   "cell_type": "markdown",
   "metadata": {
    "_uuid": "9b690f2c8129ad9445c544337375b93246c26668",
    "id": "Vm9O4SUd-7GJ"
   },
   "source": [
    "# <center> Sesión 1. Funciones, series y gráficos\n",
    "\n",
    "<img align=\"center\" src=\"https://school.eckovation.com/wp-content/uploads/2017/07/trigonometry_functions_wallpaper_by_integral_love-dact22q.jpg\"  width=65% />\n",
    "\n",
    "## Outline\n",
    "1. [Funciones](#1.-Funciones)\n",
    "2. [Series](#2.-Series)\n",
    "3. [Gráficos](#3-Gráficos)\n",
    "4. [Errores](#4.-Errores)    "
   ]
  },
  {
   "cell_type": "markdown",
   "metadata": {
    "id": "XS4Ufo9g-7GK"
   },
   "source": [
    "## 1. Funciones"
   ]
  },
  {
   "cell_type": "markdown",
   "metadata": {
    "id": "doLcsGvk-7GK"
   },
   "source": [
    "En el contexto de la programación, una función es una secuencia de declaraciones que realizan determinadas operaciones."
   ]
  },
  {
   "cell_type": "markdown",
   "metadata": {
    "id": "QOXcXyoJ-7GK"
   },
   "source": [
    "Syntax de una función:\n",
    "\n",
    "\n",
    ">     def mi_función(x1,x2,...,xn):  \n",
    "          operacion_1= x1+x4+x3*x2\n",
    "          operacion_2= x1+x4+x3*x2\n",
    "          operación_3= x1**2+x2+x3*x4\n",
    "       return(lo que quiero extraer)\n",
    "\n"
   ]
  },
  {
   "cell_type": "markdown",
   "metadata": {
    "id": "5lM81OmG-7GK"
   },
   "source": [
    "Una vez definida la función puedes llamarla, por ejemplo:"
   ]
  },
  {
   "cell_type": "code",
   "execution_count": null,
   "metadata": {
    "colab": {
     "base_uri": "https://localhost:8080/"
    },
    "id": "Aife9tjT-7GL",
    "outputId": "3abbaa04-a66c-461d-b487-1a96ce48e0c5"
   },
   "outputs": [
    {
     "data": {
      "text/plain": [
       "int"
      ]
     },
     "execution_count": 1,
     "metadata": {
      "tags": []
     },
     "output_type": "execute_result"
    }
   ],
   "source": [
    "type(32)"
   ]
  },
  {
   "cell_type": "markdown",
   "metadata": {
    "id": "iEsqlSmS-7GL"
   },
   "source": [
    "### Función Factorial$$n!$$\n",
    "\n",
    "Factorial de un número entero positivo."
   ]
  },
  {
   "cell_type": "code",
   "execution_count": null,
   "metadata": {
    "colab": {
     "base_uri": "https://localhost:8080/",
     "height": 162
    },
    "id": "Lzr30iyl-7GL",
    "outputId": "3f6ac938-96bd-4b33-d3ac-8a6fb52f7030"
   },
   "outputs": [
    {
     "ename": "NameError",
     "evalue": "ignored",
     "output_type": "error",
     "traceback": [
      "\u001b[0;31m---------------------------------------------------------------------------\u001b[0m",
      "\u001b[0;31mNameError\u001b[0m                                 Traceback (most recent call last)",
      "\u001b[0;32m<ipython-input-2-637175d621a4>\u001b[0m in \u001b[0;36m<module>\u001b[0;34m()\u001b[0m\n\u001b[0;32m----> 1\u001b[0;31m \u001b[0mfactorial\u001b[0m\u001b[0;34m(\u001b[0m\u001b[0;36m5\u001b[0m\u001b[0;34m)\u001b[0m\u001b[0;34m\u001b[0m\u001b[0;34m\u001b[0m\u001b[0m\n\u001b[0m",
      "\u001b[0;31mNameError\u001b[0m: name 'factorial' is not defined"
     ]
    }
   ],
   "source": [
    "factorial(5)"
   ]
  },
  {
   "cell_type": "code",
   "execution_count": null,
   "metadata": {
    "id": "y0IDHZct-7GM"
   },
   "outputs": [],
   "source": [
    "def factorial(n):\n",
    "    f=1\n",
    "    for i in range(2,n+1):\n",
    "        f*=i #o f=i*f\n",
    "    return(f)"
   ]
  },
  {
   "cell_type": "code",
   "execution_count": null,
   "metadata": {
    "colab": {
     "base_uri": "https://localhost:8080/"
    },
    "id": "EE4WJxIP-7GM",
    "outputId": "ef18adaa-5605-4e02-c90d-69e9bd86526a"
   },
   "outputs": [
    {
     "data": {
      "text/plain": [
       "6"
      ]
     },
     "execution_count": 4,
     "metadata": {
      "tags": []
     },
     "output_type": "execute_result"
    }
   ],
   "source": [
    "factorial(3)"
   ]
  },
  {
   "cell_type": "code",
   "execution_count": null,
   "metadata": {
    "colab": {
     "base_uri": "https://localhost:8080/"
    },
    "id": "xbpZcpyWEcTq",
    "outputId": "93d71ea4-ec99-4233-d03f-5258f2586680"
   },
   "outputs": [
    {
     "name": "stdout",
     "output_type": "stream",
     "text": [
      "n n!\n",
      "0 1\n",
      "1 1\n",
      "2 2\n",
      "3 6\n",
      "4 24\n",
      "5 120\n",
      "6 720\n",
      "7 5040\n",
      "8 40320\n",
      "9 362880\n"
     ]
    }
   ],
   "source": [
    "print('n','n!') #%10s, 10 espacios para caracteres tipo string\n",
    "for j in range(10):\n",
    "    print(j,factorial(j))"
   ]
  },
  {
   "cell_type": "code",
   "execution_count": null,
   "metadata": {
    "colab": {
     "base_uri": "https://localhost:8080/"
    },
    "id": "ggqZCsGk-7GM",
    "outputId": "4c286344-2c62-407c-b8f4-45d82a158de9"
   },
   "outputs": [
    {
     "name": "stdout",
     "output_type": "stream",
     "text": [
      "         n         n!\n",
      "         0          1\n",
      "         1          1\n",
      "         2          2\n",
      "         3          6\n",
      "         4         24\n",
      "         5        120\n",
      "         6        720\n",
      "         7       5040\n",
      "         8      40320\n",
      "         9     362880\n"
     ]
    }
   ],
   "source": [
    "print('%10s %10s' %('n','n!')) #%10s, 10 espacios para caracteres tipo string\n",
    "for j in range(10):\n",
    "    print('%10d %10d' % (j,factorial(j))) # %10d, 10 espacios para cateres de tipo entero decimal"
   ]
  },
  {
   "cell_type": "markdown",
   "metadata": {
    "id": "HgHGgK27-7GM"
   },
   "source": [
    "## 1.1 Funciones Matemáticas\n",
    "\n",
    "### 1.1.1 $$\\mathbb{R}^n\\rightarrow\\mathbb{R}$$"
   ]
  },
  {
   "cell_type": "markdown",
   "metadata": {
    "id": "_2pML3Go-7GN"
   },
   "source": [
    "Por ejemplo: \n",
    "La ecuación de movimiento en el eje Y de una partícula libre:\n",
    "$$y(y_0,v_0,t)=y_0+v_0 t - \\frac{1}{2} g t^2$$"
   ]
  },
  {
   "cell_type": "code",
   "execution_count": null,
   "metadata": {
    "id": "jAdLOHrP-7GN"
   },
   "outputs": [],
   "source": [
    "def y_pos(y0,v0,t):\n",
    "    g= 9.8 #m/s^2\n",
    "    return(y0+v0*t-0.5*g*t**2)"
   ]
  },
  {
   "cell_type": "code",
   "execution_count": null,
   "metadata": {
    "id": "S_1pi4IN-7GN"
   },
   "outputs": [],
   "source": [
    "import numpy as np"
   ]
  },
  {
   "cell_type": "code",
   "execution_count": null,
   "metadata": {
    "colab": {
     "base_uri": "https://localhost:8080/"
    },
    "id": "YINeWIo6-7GN",
    "outputId": "310fd1a6-5d9f-4800-82be-08b964cf9a24"
   },
   "outputs": [
    {
     "data": {
      "text/plain": [
       "array([ 0.,  1.,  2.,  3.,  4.,  5.,  6.,  7.,  8.,  9., 10.])"
      ]
     },
     "execution_count": 9,
     "metadata": {
      "tags": []
     },
     "output_type": "execute_result"
    }
   ],
   "source": [
    "t= np.linspace(0,10,11)\n",
    "t"
   ]
  },
  {
   "cell_type": "code",
   "execution_count": null,
   "metadata": {
    "colab": {
     "base_uri": "https://localhost:8080/"
    },
    "id": "AsNCjXF6-7GN",
    "outputId": "0994e560-afb8-4160-a0c5-62d28275bd32"
   },
   "outputs": [
    {
     "data": {
      "text/plain": [
       "array([   0. ,   25.1,   40.4,   45.9,   41.6,   27.5,    3.6,  -30.1,\n",
       "        -73.6, -126.9, -190. ])"
      ]
     },
     "execution_count": 10,
     "metadata": {
      "tags": []
     },
     "output_type": "execute_result"
    }
   ],
   "source": [
    "y_pos(0,30,t)"
   ]
  },
  {
   "cell_type": "code",
   "execution_count": null,
   "metadata": {
    "id": "Y6UCZEUG-7GN"
   },
   "outputs": [],
   "source": [
    "import matplotlib.pyplot as plt"
   ]
  },
  {
   "cell_type": "code",
   "execution_count": null,
   "metadata": {
    "colab": {
     "base_uri": "https://localhost:8080/",
     "height": 296
    },
    "id": "PRtoDSwM-7GO",
    "outputId": "951c6536-130c-4118-97ad-3626af932ea7"
   },
   "outputs": [
    {
     "data": {
      "text/plain": [
       "Text(0.5, 0, 't(s)')"
      ]
     },
     "execution_count": 12,
     "metadata": {
      "tags": []
     },
     "output_type": "execute_result"
    },
    {
     "data": {
      "image/png": "[encoded data removed]",
      "text/plain": [
       "<Figure size 432x288 with 1 Axes>"
      ]
     },
     "metadata": {
      "needs_background": "light",
      "tags": []
     },
     "output_type": "display_data"
    }
   ],
   "source": [
    "plt.plot(t,y_pos(0,30,t))\n",
    "plt.ylabel('y(m)')\n",
    "plt.xlabel('t(s)')"
   ]
  },
  {
   "cell_type": "markdown",
   "metadata": {
    "id": "YZU93U8z-7GO"
   },
   "source": [
    "$$\\frac{dy}{dt}= v(v_0,t)=v_0-gt$$"
   ]
  },
  {
   "cell_type": "code",
   "execution_count": null,
   "metadata": {
    "id": "J90rm3oB-7GP"
   },
   "outputs": [],
   "source": [
    "def y_vel(v0,t):\n",
    "    g= 9.8 #m/s^2\n",
    "    return(v0-g*t)"
   ]
  },
  {
   "cell_type": "code",
   "execution_count": null,
   "metadata": {
    "colab": {
     "base_uri": "https://localhost:8080/",
     "height": 296
    },
    "id": "SnKAo1FS-7GP",
    "outputId": "dc84fed4-8959-42a4-9831-760cc1ddd660",
    "scrolled": true
   },
   "outputs": [
    {
     "data": {
      "text/plain": [
       "Text(0.5, 0, 't(s)')"
      ]
     },
     "execution_count": 14,
     "metadata": {
      "tags": []
     },
     "output_type": "execute_result"
    },
    {
     "data": {
      "image/png": "[encoded data removed]",
      "text/plain": [
       "<Figure size 432x288 with 1 Axes>"
      ]
     },
     "metadata": {
      "needs_background": "light",
      "tags": []
     },
     "output_type": "display_data"
    }
   ],
   "source": [
    "plt.plot(t,y_vel(30,t))\n",
    "plt.ylabel('$v_y$(m)')\n",
    "plt.xlabel('t(s)')"
   ]
  },
  {
   "cell_type": "markdown",
   "metadata": {
    "id": "GLa76od1-7GP"
   },
   "source": [
    "### 1.1.2 $$\\mathbb{R}^n \\rightarrow \\mathbb{R}^m$$"
   ]
  },
  {
   "cell_type": "markdown",
   "metadata": {
    "id": "mKOgQ88T-7GP"
   },
   "source": [
    "$$\\vec{F}= (F_x \\hat{i},F_y \\hat{j})$$"
   ]
  },
  {
   "cell_type": "markdown",
   "metadata": {
    "id": "qLXvQh_0-7GP"
   },
   "source": [
    "<center>\n",
    "<img src=\"https://habrastorage.org/webt/fy/ho/j1/fyhoj19o3jco4oeywggykf6uffe.png\" />\n",
    "    "
   ]
  },
  {
   "cell_type": "markdown",
   "metadata": {
    "id": "-covLbAE-7GQ"
   },
   "source": [
    "$$ F_x=|\\vec{F}| cos(\\theta) $$\n",
    "$$F_y=|\\vec{F}| sen(\\theta)$$"
   ]
  },
  {
   "cell_type": "markdown",
   "metadata": {
    "id": "UtJIjYQl-7GQ"
   },
   "source": [
    "$$\\vec{F}=-\\frac{mv^2}{r}\\hat{u}_r$$"
   ]
  },
  {
   "cell_type": "markdown",
   "metadata": {
    "id": "Aziqf0gG-7GQ"
   },
   "source": [
    "Entonces nuestras función en coordenadas cartesianas sería:\n",
    "\n",
    "$$\\vec{F}=F_x \\hat{i}+ F_y\\hat{j}$$"
   ]
  },
  {
   "cell_type": "code",
   "execution_count": null,
   "metadata": {
    "id": "GQyBZuqV-7GQ"
   },
   "outputs": [],
   "source": [
    "def force(F, θ): #F:vector\n",
    "    Fmag= np.linalg.norm(F) \n",
    "    Fx=Fmag*np.cos(θ)\n",
    "    Fy=Fmag*np.sin(θ)\n",
    "    return np.array([Fx,Fy])"
   ]
  },
  {
   "cell_type": "code",
   "execution_count": null,
   "metadata": {
    "id": "yUV9OTmE-7GQ"
   },
   "outputs": [],
   "source": [
    "θ= np.linspace(-2*np.pi,2*np.pi,100) #np.pi/6"
   ]
  },
  {
   "cell_type": "code",
   "execution_count": null,
   "metadata": {
    "id": "7pjlCCgO-7GQ"
   },
   "outputs": [],
   "source": [
    "m=10 #np.linspace(1,100,100)\n",
    "v=5\n",
    "r=2\n",
    "F=-m*v**2/r #variar radio"
   ]
  },
  {
   "cell_type": "code",
   "execution_count": null,
   "metadata": {
    "colab": {
     "base_uri": "https://localhost:8080/"
    },
    "id": "yxXeKEYZ-7GQ",
    "outputId": "96a6256c-ba01-46f0-c1b4-700712d02da3"
   },
   "outputs": [
    {
     "data": {
      "text/plain": [
       "numpy.ndarray"
      ]
     },
     "execution_count": 18,
     "metadata": {
      "tags": []
     },
     "output_type": "execute_result"
    }
   ],
   "source": [
    "type(force(F,θ))"
   ]
  },
  {
   "cell_type": "code",
   "execution_count": null,
   "metadata": {
    "colab": {
     "base_uri": "https://localhost:8080/"
    },
    "id": "T7geyCBY-7GR",
    "outputId": "93d12b16-572c-4e3f-d2da-d86a5fe6a56b"
   },
   "outputs": [
    {
     "data": {
      "text/plain": [
       "(2, 100)"
      ]
     },
     "execution_count": 19,
     "metadata": {
      "tags": []
     },
     "output_type": "execute_result"
    }
   ],
   "source": [
    "force(F,θ).shape"
   ]
  },
  {
   "cell_type": "code",
   "execution_count": null,
   "metadata": {
    "colab": {
     "base_uri": "https://localhost:8080/"
    },
    "id": "PvGjT6Ws-7GR",
    "outputId": "0f41a646-f961-48e2-9098-64b7307a0492"
   },
   "outputs": [
    {
     "data": {
      "text/plain": [
       "array([[ 1.25000000e+02,  1.23994352e+02,  1.20993588e+02,\n",
       "         1.16045992e+02,  1.09231172e+02,  1.00658782e+02,\n",
       "         9.04667548e+01,  7.88190834e+01,  6.59031835e+01,\n",
       "         5.19268766e+01,  3.71150469e+01,  2.17060222e+01,\n",
       "         5.94773948e+00, -9.90624461e+00, -2.56008335e+01,\n",
       "        -4.08834954e+01, -5.55083266e+01, -6.92400080e+01,\n",
       "        -8.18575917e+01, -9.31580562e+01, -1.02959573e+02,\n",
       "        -1.11104431e+02, -1.17461578e+02, -1.21928723e+02,\n",
       "        -1.24433990e+02, -1.24937068e+02, -1.23429861e+02,\n",
       "        -1.19936622e+02, -1.14513557e+02, -1.07247927e+02,\n",
       "        -9.82566368e+01, -8.76843610e+01, -7.57012109e+01,\n",
       "        -6.25000000e+01, -4.82931407e+01, -3.33092267e+01,\n",
       "        -1.77893548e+01, -1.98324548e+00,  1.38547750e+01,\n",
       "         2.94698669e+01,  4.46107777e+01,  5.90338843e+01,\n",
       "         7.25071137e+01,  8.48136764e+01,  9.57555554e+01,\n",
       "         1.05156692e+02,  1.12865817e+02,  1.18758890e+02,\n",
       "         1.22741087e+02,  1.24748335e+02,  1.24748335e+02,\n",
       "         1.22741087e+02,  1.18758890e+02,  1.12865817e+02,\n",
       "         1.05156692e+02,  9.57555554e+01,  8.48136764e+01,\n",
       "         7.25071137e+01,  5.90338843e+01,  4.46107777e+01,\n",
       "         2.94698669e+01,  1.38547750e+01, -1.98324548e+00,\n",
       "        -1.77893548e+01, -3.33092267e+01, -4.82931407e+01,\n",
       "        -6.25000000e+01, -7.57012109e+01, -8.76843610e+01,\n",
       "        -9.82566368e+01, -1.07247927e+02, -1.14513557e+02,\n",
       "        -1.19936622e+02, -1.23429861e+02, -1.24937068e+02,\n",
       "        -1.24433990e+02, -1.21928723e+02, -1.17461578e+02,\n",
       "        -1.11104431e+02, -1.02959573e+02, -9.31580562e+01,\n",
       "        -8.18575917e+01, -6.92400080e+01, -5.55083266e+01,\n",
       "        -4.08834954e+01, -2.56008335e+01, -9.90624461e+00,\n",
       "         5.94773948e+00,  2.17060222e+01,  3.71150469e+01,\n",
       "         5.19268766e+01,  6.59031835e+01,  7.88190834e+01,\n",
       "         9.04667548e+01,  1.00658782e+02,  1.09231172e+02,\n",
       "         1.16045992e+02,  1.20993588e+02,  1.23994352e+02,\n",
       "         1.25000000e+02],\n",
       "       [ 3.06161700e-14,  1.58240567e+01,  3.13934984e+01,\n",
       "         4.64578070e+01,  6.07745920e+01,  7.41134911e+01,\n",
       "         8.62598764e+01,  9.70183080e+01,  1.06215679e+02,\n",
       "         1.13703999e+02,  1.19362780e+02,  1.23100969e+02,\n",
       "         1.24858417e+02,  1.24606847e+02,  1.22350306e+02,\n",
       "         1.18125102e+02,  1.11999222e+02,  1.04071232e+02,\n",
       "         9.44686968e+01,  8.33461251e+01,  7.08824830e+01,\n",
       "         5.72783152e+01,  4.27525179e+01,  2.75388166e+01,\n",
       "         1.18820054e+01, -3.96599169e+00, -1.97501745e+01,\n",
       "        -3.52165696e+01, -5.01163169e+01, -6.42096739e+01,\n",
       "        -7.72698733e+01, -8.90867714e+01, -9.94702301e+01,\n",
       "        -1.08253175e+02, -1.15294287e+02, -1.20480270e+02,\n",
       "        -1.23727680e+02, -1.24984266e+02, -1.24229808e+02,\n",
       "        -1.21476446e+02, -1.16768483e+02, -1.10181670e+02,\n",
       "        -1.01821994e+02, -9.18239636e+01, -8.03484512e+01,\n",
       "        -6.75801022e+01, -5.37243640e+01, -3.90041807e+01,\n",
       "        -2.36564055e+01, -7.92798996e+00,  7.92798996e+00,\n",
       "         2.36564055e+01,  3.90041807e+01,  5.37243640e+01,\n",
       "         6.75801022e+01,  8.03484512e+01,  9.18239636e+01,\n",
       "         1.01821994e+02,  1.10181670e+02,  1.16768483e+02,\n",
       "         1.21476446e+02,  1.24229808e+02,  1.24984266e+02,\n",
       "         1.23727680e+02,  1.20480270e+02,  1.15294287e+02,\n",
       "         1.08253175e+02,  9.94702301e+01,  8.90867714e+01,\n",
       "         7.72698733e+01,  6.42096739e+01,  5.01163169e+01,\n",
       "         3.52165696e+01,  1.97501745e+01,  3.96599169e+00,\n",
       "        -1.18820054e+01, -2.75388166e+01, -4.27525179e+01,\n",
       "        -5.72783152e+01, -7.08824830e+01, -8.33461251e+01,\n",
       "        -9.44686968e+01, -1.04071232e+02, -1.11999222e+02,\n",
       "        -1.18125102e+02, -1.22350306e+02, -1.24606847e+02,\n",
       "        -1.24858417e+02, -1.23100969e+02, -1.19362780e+02,\n",
       "        -1.13703999e+02, -1.06215679e+02, -9.70183080e+01,\n",
       "        -8.62598764e+01, -7.41134911e+01, -6.07745920e+01,\n",
       "        -4.64578070e+01, -3.13934984e+01, -1.58240567e+01,\n",
       "        -3.06161700e-14]])"
      ]
     },
     "execution_count": 20,
     "metadata": {
      "tags": []
     },
     "output_type": "execute_result"
    }
   ],
   "source": [
    "force(F,θ)"
   ]
  },
  {
   "cell_type": "code",
   "execution_count": null,
   "metadata": {
    "colab": {
     "base_uri": "https://localhost:8080/",
     "height": 282
    },
    "id": "hZmndW39-7GR",
    "outputId": "2d7fd2b3-9e90-4b73-f6c7-254d803761ff"
   },
   "outputs": [
    {
     "data": {
      "text/plain": [
       "[<matplotlib.lines.Line2D at 0x7f99aa4c1a58>]"
      ]
     },
     "execution_count": 21,
     "metadata": {
      "tags": []
     },
     "output_type": "execute_result"
    },
    {
     "data": {
      "image/png": "[encoded data removed]",
      "text/plain": [
       "<Figure size 432x288 with 1 Axes>"
      ]
     },
     "metadata": {
      "needs_background": "light",
      "tags": []
     },
     "output_type": "display_data"
    }
   ],
   "source": [
    "plt.plot(θ,force(F,θ)[0])"
   ]
  },
  {
   "cell_type": "code",
   "execution_count": null,
   "metadata": {
    "colab": {
     "base_uri": "https://localhost:8080/",
     "height": 282
    },
    "id": "5UqnQ5bE-7GR",
    "outputId": "882765a6-fbde-4bd5-ac61-78d24ca6d275"
   },
   "outputs": [
    {
     "data": {
      "text/plain": [
       "[<matplotlib.lines.Line2D at 0x7f99aa3e1a58>]"
      ]
     },
     "execution_count": 22,
     "metadata": {
      "tags": []
     },
     "output_type": "execute_result"
    },
    {
     "data": {
      "image/png": "[encoded data removed]",
      "text/plain": [
       "<Figure size 432x288 with 1 Axes>"
      ]
     },
     "metadata": {
      "needs_background": "light",
      "tags": []
     },
     "output_type": "display_data"
    }
   ],
   "source": [
    "plt.plot(θ,force(F,θ)[1])"
   ]
  },
  {
   "cell_type": "markdown",
   "metadata": {
    "id": "FLRSDxHp-7GR"
   },
   "source": [
    "### 1.1.3 $$\\mathbb{R} \\rightarrow \\mathbb{C}$$"
   ]
  },
  {
   "cell_type": "code",
   "execution_count": null,
   "metadata": {
    "colab": {
     "base_uri": "https://localhost:8080/"
    },
    "id": "s9JJDpAI-7GR",
    "outputId": "0ae5defe-f268-4d4b-b4ad-9c7f1fe5e2dc",
    "scrolled": true
   },
   "outputs": [
    {
     "name": "stdout",
     "output_type": "stream",
     "text": [
      "1j , tipo: <class 'complex'>\n"
     ]
    }
   ],
   "source": [
    "print(1j,', tipo:', type(1j))"
   ]
  },
  {
   "cell_type": "markdown",
   "metadata": {
    "id": "0VfDYW4G-7GS"
   },
   "source": [
    "$$y= e^{-i \\theta} \\leftrightarrow y=cos\\theta-isen\\theta$$"
   ]
  },
  {
   "cell_type": "markdown",
   "metadata": {
    "id": "uZtpKJi1-7GS"
   },
   "source": [
    "$$Re(y)=cos\\theta \\qquad , \\quad Im(y)=-sen\\theta$$"
   ]
  },
  {
   "cell_type": "code",
   "execution_count": null,
   "metadata": {
    "id": "9iD2ViP2-7GS"
   },
   "outputs": [],
   "source": [
    "def f_com(x):\n",
    "    return(np.e**(-1j*x))"
   ]
  },
  {
   "cell_type": "code",
   "execution_count": null,
   "metadata": {
    "colab": {
     "base_uri": "https://localhost:8080/",
     "height": 314
    },
    "id": "WJmNDJuw-7GS",
    "outputId": "d1538b7f-388f-4b68-c065-bb693ecb89c6"
   },
   "outputs": [
    {
     "data": {
      "text/plain": [
       "Text(0, 0.5, 'f')"
      ]
     },
     "execution_count": 25,
     "metadata": {
      "tags": []
     },
     "output_type": "execute_result"
    },
    {
     "data": {
      "image/png": "[encoded data removed]",
      "text/plain": [
       "<Figure size 432x288 with 1 Axes>"
      ]
     },
     "metadata": {
      "needs_background": "light",
      "tags": []
     },
     "output_type": "display_data"
    }
   ],
   "source": [
    "θ=np.linspace(-2*np.pi,2*np.pi,50)\n",
    "y=f_com(θ)\n",
    "\n",
    "plt.plot(θ, np.imag(y))\n",
    "plt.plot(θ, np.real(y))\n",
    "#plt.plot(θ, np.sin(θ))\n",
    "plt.title('Función compleja')\n",
    "plt.legend(['Im(f)','Re(f)'])\n",
    "plt.xlabel('$θ$')\n",
    "plt.ylabel('f')"
   ]
  },
  {
   "cell_type": "code",
   "execution_count": null,
   "metadata": {
    "colab": {
     "base_uri": "https://localhost:8080/",
     "height": 296
    },
    "id": "OmdwMTnb-7GS",
    "outputId": "798a89eb-03f3-4919-e20d-271f4fc65d4a"
   },
   "outputs": [
    {
     "data": {
      "text/plain": [
       "Text(0, 0.5, 'Im(f)')"
      ]
     },
     "execution_count": 26,
     "metadata": {
      "tags": []
     },
     "output_type": "execute_result"
    },
    {
     "data": {
      "image/png": "[encoded data removed]",
      "text/plain": [
       "<Figure size 432x288 with 1 Axes>"
      ]
     },
     "metadata": {
      "needs_background": "light",
      "tags": []
     },
     "output_type": "display_data"
    }
   ],
   "source": [
    "plt.plot(np.real(y),np.imag(y))\n",
    "plt.xlabel('Re(f)')\n",
    "plt.ylabel('Im(f)')"
   ]
  },
  {
   "cell_type": "markdown",
   "metadata": {
    "id": "ZzxDz7Sx-7GU"
   },
   "source": [
    "## 2. Series"
   ]
  },
  {
   "cell_type": "markdown",
   "metadata": {
    "id": "rBBY_xGrAtBK"
   },
   "source": [
    "Expansión en series de la función $sen(x)$:"
   ]
  },
  {
   "cell_type": "markdown",
   "metadata": {
    "id": "UGcIEvABtcJl"
   },
   "source": [
    "$$sen(x)= x- \\frac{x^3}{3!}+\\frac{x^5}{5!}-\\frac{x^7}{7!}+\\frac{x^9}{9!}+\\frac{x^{11}}{11!}+\\frac{x^{13}}{13!}+\\frac{x^{15}}{15!}+ O(9)$$"
   ]
  },
  {
   "cell_type": "markdown",
   "metadata": {
    "id": "dwnKiiLbtcJm"
   },
   "source": [
    "$$\\sin x = \\sum_{n=0}^{\\infty} \\frac{(-1)^n x^{2n+1}}{(2n+1)!} $$"
   ]
  },
  {
   "cell_type": "code",
   "execution_count": null,
   "metadata": {
    "id": "p9AzmUYstcJq"
   },
   "outputs": [],
   "source": [
    "def mysin(x,orden):\n",
    "    ordn=[]\n",
    "    mysn=[]\n",
    "    y=0        \n",
    "    '''\n",
    "    Creamos lista ordn y mysn\n",
    "    '''\n",
    "    for i in range(0,orden,1):\n",
    "        y += ((-1)**i)*(x**(1+2*i))/factorial(1+2*i)\n",
    "        ordn.append(i)\n",
    "        mysn.append(y)\n",
    "    #print('orden: ', ordn ,'\\n sen(x): ', mysn)\n",
    "    return(y)\n",
    "    #return(ordn,mysn,y)"
   ]
  },
  {
   "cell_type": "code",
   "execution_count": null,
   "metadata": {
    "colab": {
     "base_uri": "https://localhost:8080/"
    },
    "id": "Q4_3_plutcJt",
    "outputId": "a7a50060-c815-40bc-b8fe-e25c9bbeb79e"
   },
   "outputs": [
    {
     "data": {
      "text/plain": [
       "0.5"
      ]
     },
     "execution_count": 28,
     "metadata": {
      "tags": []
     },
     "output_type": "execute_result"
    }
   ],
   "source": [
    "mysin(np.pi/6,7)"
   ]
  },
  {
   "cell_type": "code",
   "execution_count": null,
   "metadata": {
    "colab": {
     "base_uri": "https://localhost:8080/"
    },
    "id": "6ZIM3bsqtcJv",
    "outputId": "7b9f892e-f867-4e03-d8be-0f6b46f259f2"
   },
   "outputs": [
    {
     "data": {
      "text/plain": [
       "0.5000021325887924"
      ]
     },
     "execution_count": 29,
     "metadata": {
      "tags": []
     },
     "output_type": "execute_result"
    }
   ],
   "source": [
    "mysin(np.pi/6,3)"
   ]
  },
  {
   "cell_type": "code",
   "execution_count": null,
   "metadata": {
    "colab": {
     "base_uri": "https://localhost:8080/"
    },
    "id": "hQ8JS_cttcJx",
    "outputId": "9452b708-032d-4976-868c-be8e56f93e26"
   },
   "outputs": [
    {
     "data": {
      "text/plain": [
       "0.49967417939436376"
      ]
     },
     "execution_count": 30,
     "metadata": {
      "tags": []
     },
     "output_type": "execute_result"
    }
   ],
   "source": [
    "mysin(np.pi/6,2)"
   ]
  },
  {
   "cell_type": "code",
   "execution_count": null,
   "metadata": {
    "colab": {
     "base_uri": "https://localhost:8080/"
    },
    "id": "0vWKr3H2tcJz",
    "outputId": "abf0eecc-fe1f-47ab-d091-0e436cd1a7fe"
   },
   "outputs": [
    {
     "data": {
      "text/plain": [
       "0.5235987755982988"
      ]
     },
     "execution_count": 31,
     "metadata": {
      "tags": []
     },
     "output_type": "execute_result"
    }
   ],
   "source": [
    "mysin(np.pi/6,1)"
   ]
  },
  {
   "cell_type": "code",
   "execution_count": null,
   "metadata": {
    "colab": {
     "base_uri": "https://localhost:8080/",
     "height": 275
    },
    "id": "XXSWbt3ntcJ4",
    "outputId": "4aaa9331-9e2b-4aa8-e50a-9169f286f087"
   },
   "outputs": [
    {
     "data": {
      "image/png": "[encoded data removed]",
      "text/plain": [
       "<Figure size 1080x360 with 1 Axes>"
      ]
     },
     "metadata": {
      "needs_background": "light",
      "tags": []
     },
     "output_type": "display_data"
    }
   ],
   "source": [
    "import numpy as np\n",
    "vmysin = np.vectorize(mysin, excluded=['order'])\n",
    "\n",
    "#x = np.linspace(-pi/2, pi/2, 500)\n",
    "#x = np.linspace(-pi, pi, 500)\n",
    "#x = np.linspace(-2*pi, 2*pi, 500)\n",
    "x = np.linspace(-4*np.pi, 4*np.pi, 500)\n",
    "\n",
    "y2 = vmysin(x, 2)\n",
    "y3 = vmysin(x, 3)\n",
    "y4 = vmysin(x, 4)\n",
    "y5 = vmysin(x, 5)\n",
    "y6 = vmysin(x, 6)\n",
    "y7 = vmysin(x, 7)\n",
    "y8 = vmysin(x, 8)\n",
    "\n",
    "y = np.sin(x)\n",
    "\n",
    "import matplotlib.pyplot as plt\n",
    "plt.plot(x, y, label='sin(x)')\n",
    "plt.plot(x, y2, label='orden 2')\n",
    "plt.plot(x, y3, label='orden 3')\n",
    "plt.plot(x, y4, label='orden 4')\n",
    "plt.plot(x, y5, label='orden 5')\n",
    "plt.plot(x, y6, label='orden 6')\n",
    "plt.plot(x, y7, label='orden 7')\n",
    "plt.plot(x, y8, label='orden 8')\n",
    "plt.title('Aproximación de sen(x) en distintos órdenes')\n",
    "plt.xlabel('x: ángulo (radianes)')\n",
    "plt.ylabel('sin(x)')\n",
    "plt.ylim([-3, 3])\n",
    "#plt.ylim([-5, 5])\n",
    "#plt.ylim([-10, 10])\n",
    "#plt.ylim([-20, 20])\n",
    "plt.legend()\n",
    "plt.savefig('plot1.png')\n",
    "#plt.show()"
   ]
  },
  {
   "cell_type": "code",
   "execution_count": null,
   "metadata": {
    "colab": {
     "base_uri": "https://localhost:8080/",
     "height": 275
    },
    "id": "Q6KSi8zztcJ6",
    "outputId": "b0d19bcc-5117-4ce4-b34a-996730b1ba93"
   },
   "outputs": [
    {
     "data": {
      "image/png": "[encoded data removed]",
      "text/plain": [
       "<Figure size 1080x360 with 1 Axes>"
      ]
     },
     "metadata": {
      "needs_background": "light",
      "tags": []
     },
     "output_type": "display_data"
    }
   ],
   "source": [
    "\n",
    "#plt.plot(x, y, label='sin(x)')\n",
    "plt.plot(x, y-y2, label='err. ord. 2')\n",
    "plt.plot(x, y-y3, label='err. ord. 3')\n",
    "plt.plot(x, y-y4, label='err. ord. 4')\n",
    "plt.plot(x, y-y5, label='err. ord. 5')\n",
    "plt.plot(x, y-y6, label='err. ord. 6')\n",
    "plt.plot(x, y-y7, label='err. ord. 7')\n",
    "plt.plot(x, y-y8, label='err. ord. 8')\n",
    "plt.title('Errores de aproximación de sen(x) en distintos órdenes')\n",
    "plt.xlabel('x: ángulo (radianes)')\n",
    "plt.ylabel('sin(x)')\n",
    "plt.ylim([-3, 3])\n",
    "#plt.ylim([-5, 5])\n",
    "#plt.ylim([-10, 10])\n",
    "#plt.ylim([-20, 20])\n",
    "plt.legend()\n",
    "plt.show()"
   ]
  },
  {
   "cell_type": "code",
   "execution_count": null,
   "metadata": {
    "colab": {
     "base_uri": "https://localhost:8080/",
     "height": 271
    },
    "id": "NqHl5M7gtcJ8",
    "outputId": "ab726ceb-14df-4b74-9ba7-b57579dabdd7"
   },
   "outputs": [
    {
     "data": {
      "image/png": "[encoded data removed]",
      "text/plain": [
       "<Figure size 1080x360 with 1 Axes>"
      ]
     },
     "metadata": {
      "needs_background": "light",
      "tags": []
     },
     "output_type": "display_data"
    }
   ],
   "source": [
    "#plt.plot(x, y, label='sin(x)')\n",
    "plt.plot(x, y-y2, label='err. ord. 2')\n",
    "plt.plot(x, y-y3, label='err. ord. 3')\n",
    "plt.plot(x, y-y4, label='err. ord. 4')\n",
    "plt.plot(x, y-y5, label='err. ord. 5')\n",
    "plt.plot(x, y-y6, label='err. ord. 6')\n",
    "plt.plot(x, y-y7, label='err. ord. 7')\n",
    "plt.plot(x, y-y8, label='err. ord. 8')\n",
    "plt.title('Errores de aproximación de sen(x) en distintos órdenes')\n",
    "plt.xlabel('x: ángulo (radianes)')\n",
    "plt.ylabel('sin(x)')\n",
    "plt.ylim([-0.5, 0.5])\n",
    "plt.xlim([-6, 0])\n",
    "#plt.ylim([-5, 5])\n",
    "#plt.ylim([-10, 10])\n",
    "#plt.ylim([-20, 20])\n",
    "#plt.legend()\n",
    "plt.show()"
   ]
  },
  {
   "cell_type": "markdown",
   "metadata": {
    "id": "7E-8Th7P-7GU"
   },
   "source": [
    "## 3. Gráficos"
   ]
  },
  {
   "cell_type": "code",
   "execution_count": null,
   "metadata": {
    "id": "Y9vPKb8i-7GU"
   },
   "outputs": [],
   "source": [
    "def plottrig(f,a,b,n):\n",
    "    '''\n",
    "    f: es la función a potear\n",
    "    a y b son los límites del dominio \n",
    "    en el que queremos plotear [a,b]\n",
    "    n: número de pasos\n",
    "    '''\n",
    "    xvals=np.linspace(a,b,n)\n",
    "    plt.plot(xvals,f(xvals))"
   ]
  },
  {
   "cell_type": "code",
   "execution_count": null,
   "metadata": {
    "id": "Ty4Mn4lU-7GU"
   },
   "outputs": [],
   "source": [
    "funtrig = (np.sin,np.cos,np.tan)"
   ]
  },
  {
   "cell_type": "code",
   "execution_count": null,
   "metadata": {
    "colab": {
     "base_uri": "https://localhost:8080/",
     "height": 235
    },
    "id": "ZqnreQ8v-7GU",
    "outputId": "c8df4bfa-9302-4e22-9daf-ff100caecd5b"
   },
   "outputs": [
    {
     "data": {
      "image/png": "[encoded data removed]",
      "text/plain": [
       "<Figure size 1080x360 with 1 Axes>"
      ]
     },
     "metadata": {
      "needs_background": "light",
      "tags": []
     },
     "output_type": "display_data"
    }
   ],
   "source": [
    "for ft in funtrig:\n",
    "    #print(ft(np.pi/6.0))\n",
    "    plottrig(ft,-np.pi,np.pi,1000)\n",
    "    plt.ylim(-2,2)\n",
    "    plt.legend(labels=['sen(x)','cos(x)','tan(h)'])"
   ]
  },
  {
   "cell_type": "markdown",
   "metadata": {
    "id": "WuBo2O-Q-7GV"
   },
   "source": [
    "$$\\psi(x,t)=[Asin(kx)+Bcos(kx)]e^{-i\\omega t}$$"
   ]
  },
  {
   "cell_type": "code",
   "execution_count": null,
   "metadata": {
    "id": "UQ6PIY_T-7GV"
   },
   "outputs": [],
   "source": [
    "k=1\n",
    "A=1\n",
    "ω=1\n",
    "def psi(x,t):\n",
    "    return((A*np.sin(k*x)+B*np.cos(k*x))*np.exp(-1j*ω*t))"
   ]
  },
  {
   "cell_type": "code",
   "execution_count": null,
   "metadata": {
    "colab": {
     "base_uri": "https://localhost:8080/",
     "height": 297
    },
    "id": "WqwOZwQJ-7GV",
    "outputId": "79e504f8-32a9-4228-b164-c940297f7c88",
    "scrolled": true
   },
   "outputs": [
    {
     "data": {
      "image/png": "[encoded data removed]",
      "text/plain": [
       "<Figure size 432x288 with 1 Axes>"
      ]
     },
     "metadata": {
      "needs_background": "light",
      "tags": []
     },
     "output_type": "display_data"
    }
   ],
   "source": [
    "#matplotlib.pyplot for the graph\n",
    "import matplotlib.pyplot as plt\n",
    "#numpy for the arrays and math-on-array stuff\n",
    "import numpy as np\n",
    "#defining the domain\n",
    "x = np.linspace(-5,5,50)\n",
    "t=1#0.0\n",
    "#t = np.linspace(0,1,50)\n",
    "k=1\n",
    "A=1#+1j\n",
    "T=10\n",
    "ω=1#2*np.pi/T\n",
    "B=1#+1j\n",
    "#f, the function\n",
    "\n",
    "plt.plot(x,np.imag(psi(x,t)), label='Im($\\psi$)')\n",
    "#plt.plot(x,np.imag(psi(x,t+0.125)), label='Im($\\psi$) t+1')\n",
    "#plt.plot(x,np.imag(psi(x,t+0.250)), label='Im($\\psi$) t+2')\n",
    "#plt.plot(x,np.imag(psi(x,t+0.375)), label='Im($\\psi$) t+3')\n",
    "#plt.plot(x,np.imag(psi(x,t+0.5)), label='Im($\\psi$) t+4')\n",
    "\n",
    "plt.plot(x,np.real(psi(x,t)), label='Re($\\psi$)')\n",
    "plt.plot(x,np.real(psi(x,t+0.125)), label='Re($\\psi$) en t+0.125')\n",
    "plt.plot(x,np.real(psi(x,t+0.250)), label='Re($\\psi$) en t+0.250')\n",
    "plt.plot(x,np.real(psi(x,t+0.375)), label='Re($\\psi$) en t+0.375')\n",
    "plt.plot(x,np.real(psi(x,t+0.5)), label='Re($\\psi$) en t+0.5')\n",
    "\n",
    "#ejes\n",
    "plt.title('$ψ(x,t=1)$')\n",
    "plt.xlabel('x')\n",
    "plt.ylabel('ψ(x,1)')\n",
    "#mostrar la leyenda\n",
    "plt.legend()\n",
    "#mostrar el gráfico\n",
    "plt.show()"
   ]
  },
  {
   "cell_type": "code",
   "execution_count": null,
   "metadata": {
    "colab": {
     "base_uri": "https://localhost:8080/",
     "height": 353
    },
    "id": "h9pPVZcS-7GV",
    "outputId": "06f22cce-6cd0-4266-e678-a4e7c93797b1"
   },
   "outputs": [
    {
     "name": "stderr",
     "output_type": "stream",
     "text": [
      "/usr/local/lib/python3.6/dist-packages/numpy/core/_asarray.py:83: ComplexWarning: Casting complex values to real discards the imaginary part\n",
      "  return array(a, dtype, copy=False, order=order)\n"
     ]
    },
    {
     "data": {
      "image/png": "[encoded data removed]",
      "text/plain": [
       "<Figure size 432x288 with 1 Axes>"
      ]
     },
     "metadata": {
      "needs_background": "light",
      "tags": []
     },
     "output_type": "display_data"
    }
   ],
   "source": [
    "plt.plot(x,psi(x,t)*np.conjugate(psi(x,t)), label='Re($\\psi$)')\n",
    "#ejes\n",
    "plt.title('$|ψ(x,t=1)|^2$')\n",
    "plt.xlabel('x')\n",
    "plt.ylabel('$|ψ(x,1)|^2$')\n",
    "#mostrar la leyenda\n",
    "plt.legend()\n",
    "#mostrar el gráfico\n",
    "plt.show()"
   ]
  },
  {
   "cell_type": "code",
   "execution_count": null,
   "metadata": {
    "colab": {
     "base_uri": "https://localhost:8080/",
     "height": 269
    },
    "id": "Db3O4EoS-7GV",
    "outputId": "f70cd950-75eb-4496-d20a-5b9523aae927"
   },
   "outputs": [
    {
     "data": {
      "image/png": "[encoded data removed]",
      "text/plain": [
       "<Figure size 432x288 with 1 Axes>"
      ]
     },
     "metadata": {
      "needs_background": "light",
      "tags": []
     },
     "output_type": "display_data"
    }
   ],
   "source": [
    "%matplotlib inline\n",
    "\n",
    "# First set up the figure, the axis, and the plot element we want to animate\n",
    "\n",
    "fig, ax = plt.subplots()\n",
    "\n",
    "ax.set_xlim(( -5, 5))\n",
    "ax.set_ylim((-2, 2))\n",
    "\n",
    "line, = ax.plot([], [], lw=2)"
   ]
  },
  {
   "cell_type": "code",
   "execution_count": null,
   "metadata": {
    "id": "Mfjm2cWd-7GW"
   },
   "outputs": [],
   "source": [
    "# initialization function: plot the background of each frame\n",
    "def init():\n",
    "    line.set_data([], [])\n",
    "    return (line,)\n",
    "t=0\n",
    "# animation function. This is called sequentially\n",
    "def animate(i):\n",
    "    x = np.linspace(-5,5,50)\n",
    "    y = np.real(psi(x,t+i/10))\n",
    "    line.set_data(x, y)\n",
    "    return (line,)"
   ]
  },
  {
   "cell_type": "code",
   "execution_count": null,
   "metadata": {
    "id": "ez1usNHx-7GW"
   },
   "outputs": [],
   "source": [
    "# call the animator. blit=True means only re-draw the parts that have changed.\n",
    "from matplotlib.animation import FuncAnimation\n",
    "anim = FuncAnimation(fig, animate, init_func=init,\n",
    "                               frames=200, interval=50, blit=True)"
   ]
  },
  {
   "cell_type": "code",
   "execution_count": null,
   "metadata": {
    "colab": {
     "base_uri": "https://localhost:8080/",
     "height": 309
    },
    "id": "g_dWSQyl-7GW",
    "outputId": "4f59c424-848d-48bd-b081-290f0911f885",
    "scrolled": true
   },
   "outputs": [
    {
     "data": {
      "text/html": [
       "<video width=\"432\" height=\"288\" controls autoplay loop>\n",
       "  <source type=\"video/mp4\" src=\"data:video/mp4;base64,AAAAHGZ0eXBNNFYgAAACAGlzb21pc28yYXZjMQAAAAhmcmVlAAF/v21kYXQAAAKuBgX//6rcRem9\n",
       "5tlIt5Ys2CDZI+7veDI2NCAtIGNvcmUgMTUyIHIyODU0IGU5YTU5MDMgLSBILjI2NC9NUEVHLTQg\n",
       "QVZDIGNvZGVjIC0gQ29weWxlZnQgMjAwMy0yMDE3IC0gaHR0cDovL3d3dy52aWRlb2xhbi5vcmcv\n",
       "eDI2NC5odG1sIC0gb3B0aW9uczogY2FiYWM9MSByZWY9MyBkZWJsb2NrPTE6MDowIGFuYWx5c2U9\n",
       "MHgzOjB4MTEzIG1lPWhleCBzdWJtZT03IHBzeT0xIHBzeV9yZD0xLjAwOjAuMDAgbWl4ZWRfcmVm\n",
       "PTEgbWVfcmFuZ2U9MTYgY2hyb21hX21lPTEgdHJlbGxpcz0xIDh4OGRjdD0xIGNxbT0wIGRlYWR6\n",
       "b25lPTIxLDExIGZhc3RfcHNraXA9MSBjaHJvbWFfcXBfb2Zmc2V0PS0yIHRocmVhZHM9MyBsb29r\n",
       "YWhlYWRfdGhyZWFkcz0xIHNsaWNlZF90aHJlYWRzPTAgbnI9MCBkZWNpbWF0ZT0xIGludGVybGFj\n",
       "ZWQ9MCBibHVyYXlfY29tcGF0PTAgY29uc3RyYWluZWRfaW50cmE9MCBiZnJhbWVzPTMgYl9weXJh\n",
       "bWlkPTIgYl9hZGFwdD0xIGJfYmlhcz0wIGRpcmVjdD0xIHdlaWdodGI9MSBvcGVuX2dvcD0wIHdl\n",
       "aWdodHA9MiBrZXlpbnQ9MjUwIGtleWludF9taW49MjAgc2NlbmVjdXQ9NDAgaW50cmFfcmVmcmVz\n",
       "aD0wIHJjX2xvb2thaGVhZD00MCByYz1jcmYgbWJ0cmVlPTEgY3JmPTIzLjAgcWNvbXA9MC42MCBx\n",
       "cG1pbj0wIHFwbWF4PTY5IHFwc3RlcD00IGlwX3JhdGlvPTEuNDAgYXE9MToxLjAwAIAAABELZYiE\n",
       "ADv//vdOvwKbRZdqA5JXCvbKpCZZuVJrAfKmAAADAAARsIY/zxd2GYDzCcM1vQjm+x3K3c/KgECT\n",
       "PDTVXpFdmrnlHIUf5TwvriFJsvGvW8Dg40xVhV4kbpsAAAnA+SrEWBuvpwnbyHCt+NHOYvaRCLJI\n",
       "tH5FywhwGf9/5NPABcaX1jyJcn2VKPe5lpe93mykwUbHu6b1laurNNXYMaGyAQwvVOL9ugzENBZA\n",
       "hMK10yw7G9anzN2eJwuk34/bdUYYCJrcGSdJ83PqfJp3johT657EAlfgt/1hkRxQ4gcK0mnqT2/k\n",
       "MTY6ZDOBDBE+D5ByOaae60rIVbhaicvnPdbjVQfptarpF2/6RndWZ7is0qpmHLuqTfn2xEbRNvq5\n",
       "wJrdWP+VFVImpbU5RpVFyURNT/SuJNANjdNxi7bfhkbgTDe1rcgrFPXcp2Bvtdjb6Krt6Ch5EcAA\n",
       "Bg4IATYNJJ/GJ3bop1EqVkiNVkWrZQbnSRMsMelQViDcLqWczZx0Qg7N8dSvFrdxvSu1KETE8EFW\n",
       "9Q8W4LRkH0M9UwlT1lk5qoAQ8rgYzGmQ5qjREgoW6OwH3UiBqSEwHd1LYsP3D+yDb/VZYGJAY7rN\n",
       "OPu+rEbnpIOcpmRgIUji9bZKcv9iLctNwNPwnwWbO3toSlMOaqQ76fesZzb9JnfTyade8V/MjG8v\n",
       "Bp/lsobsXszb6fWO0v0Wbp7a0rVOYSkvYtheZyd+L1jq1zEHH19lgfGwEew5YeWzEAraYS0X3zmR\n",
       "WOEVKLbarmw9glXPcmkdkTFcbYajIwYiTnnvL8wsJqu/EePtGzv9duFUJBkD2xI1bM6lNkFEsUIe\n",
       "sD133KIYTv6gw4laJG/1tmDR/4HUUHPgctkjXCrigp01XSzHJqDQcaIMsrWvnf2jfG7wy5h8dqK3\n",
       "VzXQD1x2yCbFvtb9U/oRo+0gPtp+nUflgJekdMuy5LTuyWBYgfJyGM7gxUPy0QGS/UpyetyvVgi0\n",
       "3KrUvgWevRtszoSc69b8+vgrRo1HeGJAIZDFfWhBviBmZnEVNVIKf/q8jbW0OAwSFwlHVTwbuacc\n",
       "cU3ZPcSxhQ6qFu2gjm/er2ACIj6hhMI/YhZz1vN0w/A3A2+VEfeoG6/enHepmXlNLuQrzb+zjFue\n",
       "AVLsHEAAiptYaGFxZ/4fqqqw46cGLb0bDlXSyviQ7C0FCYYYNHuyH4ASRAAQiy75BtPlr0sQqO7k\n",
       "9wwRUahu4WZwtvJ3dnnGP2DARZwQXb/xcHREtDymjs1c4HXGusohnL/nn/HVMSv+HAVfiEh+lZii\n",
       "HpcWfPWOiW8nljET3GmrisIK1LEKz5Qi/QHzNmlk5fNiEqlQsqJEIcphq5A1PUy1Fn9fC8/irXGB\n",
       "PvanEmxvVpGhDyM4fYUR8lcmSaqcCZboWgx66xAaKk42Ti609MfHyLa6gO/imVRiKtkTKSEEHC12\n",
       "AUEPaP+bHl4+XcWv0tf92uMexwE+QpUIFcsz+a3tQGJU/Hs0v91ByC/ZpDKOcTlOxo4bXlhHy1HS\n",
       "oX0+ADhCdDfRKfOyAj0YGs1x8Q1rcrUQgr2zyCy4i7vMak6wFxuV+K56op/DRKE/3gSRIAviTXgc\n",
       "Rp85SZMtID+IX75svPbTRsy0XuGBQysmWTAsfhW6l75F3ytJwGk932UQ+wV69BTvCGhE7jxku4Kt\n",
       "0sWQGeKK2/xx2a07po9ri4IkHNVlytJwnpjUHOt5gqIkvGzrWW/PCtOFHoTB/AOiY0j0ajQSH0Fu\n",
       "jwzGa5yNc0tjHYfr3o5NSrpN79bwoW3e0CVHkqiusb/vlIf0oH8MoOWzcpZWBpO/gVoToO14bU7e\n",
       "C2Sjssuy3EJcrw8S/x444rVdEMw7oTVARAJHhbHxDKYUsycSXqEsKNLtNccUViRjuE0qRiSxT/PD\n",
       "AHe6czn5q2qxjC2mdyFFKKkQ1VGB28VZF89mzNb5rS/PPJ4ushrXEY9lj+DHEhIDIcJOlYXJefQc\n",
       "xPd86TwKWXrFFwsCHy0dkf5P5e6CXUMEpgIT3qDVQGQzgY/K9lv3yOtrKFT1JV+q7D3fg0PhAg8m\n",
       "ckpDScTG3ZN11yFlaM8kslou0lNfQC/akaPLLS7YkQnM7W4oxPV/9QRZ7Z4+xLZWeuj3xZhoEj9D\n",
       "U/G3S8U42bpfZdLRsLkbSVaaN+AIezEba30VsTVs99gTzK4HjgNuL2ELhqJ+pBfLxL+7rk/RdF5E\n",
       "B3S8PJVjk/BUsd9NrVqP1qFNSvaM2iWna2aucwgXADKUL99X4MhZCxY6051TXrJ90Fya4+FGtmfk\n",
       "rLA7oqaEoBbOy9uHyDIUBZIW4Lk+PJ3HO+iX8/8v9GABr+lvgqMRkIUyJ2QGTyCHsFchpWwiKiDI\n",
       "jMtqAkAwyNazFC3QKw0/eRI94krAQb7i6/XP8f5LMQAKkv7pCK6lE5bCLbshVrxEX2fwpDcRNrjX\n",
       "dsc63Rhc1QLLRPq839IDvbcUJ/bwB6J3WmLM0xKWawXsLRkpBgplQ7n0ESG4xzic2oXV2lxS4+1M\n",
       "n8Fr0ieFgKj9NvBCuvzHRBq8qtX2Pulvl1Ud8crV5DW/Y6EmQ7/kBgMHl3HYTQnR0fBXpLScLp9N\n",
       "2LcQM6A1+S0/iVzb//QO7sWhFg8o/oN49rv0OaimBCl7ZkuUo3C8lZEz0gHYypE1fpT6hmZm388S\n",
       "rbTJ2z5PCh6U+SY5GL2NWaAnTYAEt4FvVr+T9Si7ganSAsbSoWnOng/lpj3ulUqsQjLjXE+hpclo\n",
       "eVFRoMEUl6pMU8SCkFC5lMMkA99clFXpuC2bAz6piIBOhGZQxy5XZL3kNRLTJ9+Wcbh49J+Lifrw\n",
       "3xqeckatJjnTpt5h0Dc5Kexv7ULXiNDYdG5+P/bxg2M//TKS0ueAhIYOvr14vWZ2dlIiPFsqsi9O\n",
       "FgYKNpV3L+xwmBm2nTNHURF6H+TxeNLfeTaJZsYm0BR5OBc/riVaV5qRh+AXgkmJ0FEZcM+6/axU\n",
       "yepI/To31rhw4QZiZn5RxJf6o0NK4Bm1PKTYDqLq3kcFVQny9+5vtDQJZjPMO1zvahQh9LBo4IVc\n",
       "KehmbTT0CHzLCLzkjxRG1S0cfpcB1/daK8jA+aB38tq9PK5pDppVeI9S7+dKswWmfhOChf2Fuc7G\n",
       "xbI2sDx7zenjE6HC4r/GRSw4ex88PCZ9ha7WWouhlq22+y7vTxA5k9gt4SBzvZvu2xFQ81E0umOk\n",
       "FdBGSBvbdU2BpvYv8QbCx12hZ2OatH32/kh99CKcoDrm6sW5W03Ggt2sswbc3MaHf9HWGQ1G9L08\n",
       "x79dd7ba4EtvqYJYPqiuQe3JiGK0OEvShMzB47yn9Z0T3P1iRl08WJl1NUIKovsieHOTX086W0bE\n",
       "sdos5WPAcLPjBZwsxlCXRUYsYyZeJE5ZwYmQBYfnIJ/6UU2o6t7AbTQWyXzmnrTbSeVq0q6HImuL\n",
       "3qdOoH5ETW1JMcvKhESJa1BUNxiaqaY2ST7jOnfbM61mmB5WWJ+p3+m5gIl/hxVxiAWdPRPXzJce\n",
       "fXO5Ublaa0inY5JO/YqmZlXBhWtt5pw8M1ir/8eX/xV4K1EM1J4TN9jIyqAGWvS+O8N0rsWEV2qe\n",
       "zzdLKuyhpzEYVp54NohAF7ubvrESR2AHxbt29dt9YO/AKbKMFlkvt5f/z7MVgnVynFFBwpJtEbAA\n",
       "4me5RcqC80lvNyLhwXP8tCduZqhT1IQb1e5y95Md5CdR5kG7bPnPNZFPFpOIllYARUyccs0Mlw6m\n",
       "nY+O2DasLmpk3uqpkJxlgJjbeiGzPdfbKxNyMmHWn3VPXFepCc5iur6SEoFqi1xgN7PuwxQJKeut\n",
       "nRxUr4F8mLkngPgqEZHbXick0vOPfAYR90mapxdOk0zzhXGSzQQW3TyPoB2Idf2E4xCc2hPY9KFJ\n",
       "/0KqPGmdRSE4OFD2W8DfQD7GwEE8wLaC01AAwsQp0oAFYp6Z//+64c7zEfGvJSiltjUh8A/Ncm0o\n",
       "MYkbSHZ3eob7OIO7bpto6iycOvFsVgD6fhZxOWUgfIAsbipXVpAXSncUQNWKZePOmnXBMPCsL/0b\n",
       "o17jS+0Vo41WUPxxftMbnLdie9tkKSR8Nj0JU+ghdNjB6MNwzPypejgtLHcM1tL2obVKMYUNtLCA\n",
       "ZptgKi3YONKXUKNc4ZuQYAVj99uV6fYHvjRVl5pdS4rgKb7MSwuXIultrGT1mcB9HaoOiMNnvgEg\n",
       "mDgDMEt0E1hbkMYcLU4W5FhNRo3YFWdS9Ikzuyad1qKZimAR6yfl2NJnkVke8oytggZlPA/g/LWS\n",
       "mz2+4RUqLdU30XNB9PAwA/icNRC1+9R9rVhGiLhE0GT+Q4LnaU0x7K9ds/ha/CIdS7qkmWu1uQAh\n",
       "s8jGa6eaTFJciA2BdNi3HT8pR9ikYLpS0ZzP5ivfxY5M2inPDYmuQVyr6JTlySaqfP4k6eu993+r\n",
       "MPQ6XViTwA/ZtiP4y5UvXHOxp/GR0lrJunwCbgZs/IuYLyw3b75OX2bgwMlqMEV0GK0MSkAQzMs5\n",
       "0ex4xfijuwaqxaVqZX2zvMXiawT0/mDCg+SVtsF/5DpTdJ5x69VoaHoXVcAd3nGSaSuoRVI3/Xge\n",
       "2U+RJeOPp0O/TIlplMC0tli9mr+G7kzNfz4mfuHGxmIiCk4KT92z5tpQroYvlRgB7Xnt034FFndO\n",
       "Q941ph/kTfNshifP8kEiUXx41NL1kEM5Kri9BHGjwTiLPbma8+fB+0PLxTwD/HtsooIwY5hK5gnn\n",
       "xNFwMZQNf//d6fg54eXLyf/gtQ77dlRBiq8C6uFBEaYtqkeJnWfDzfViAp0pgfK8e7mLFFlSf16F\n",
       "guMrQSWtr6cyKIZorFze5Lw7N081yx8jX8igQa2jaek4Pn6ZaM0ZZXPSqyCacw0ru5nqA//2q+Z0\n",
       "nwxvJtzzi44Z7vK9hsb6KOQgS8n6ZuXAgbjrNyZpUvCAR+sc7kTOOp3vYzUyJWT6m/XwkG/fGdcI\n",
       "0tZjl2GMLgc6z5s851Yr1QsE5srXMtieweyKmJq49r/v+MogPz/HnbSd6iaIWIrXVBAzRtjwWd9P\n",
       "ZLscYqeWU565L2dOJRo1wzmFN2uUN/hTIUUyYxKnquI6/mT7DQdgUiH1X28u2gzeqWkLWDSWR6Mp\n",
       "qSzhdbZSr8EYxlvntJdOx8t2BHZfDWFDU9HJjrpoBXoQg/hkL7Y6ehnN3zcYVzSMF9RMB2Bxeym/\n",
       "7JgC3kNIyq0o6Uw8SxK5yfn66WgjMC6boBc9n3fzlFROap5YXMbrsrYoPfACqxdhpgefeu6No6q9\n",
       "ITlqNg9qH5h1gGOvU7UvsfFm6GEsCeGBf2SzMKYZ4lzT8+MggmH5BpJskHFZbqQQnisqeQhWVmpc\n",
       "umwSwIqsBKJ7bJd3pnX2Bl3MctT0JJNNhFYVMs9vB/tFceSwi3IjmIoc+a8BsvXT4XTC5DVLWyeD\n",
       "P02/QV+F3qy6dkLjJsZe+9CD4VwjsLEQpjjYyH8PLTySWRWVGSBRHVVq2xd152U11JYReS1+rkvF\n",
       "PIhGEKHkssBJ/NSbwcHP0vH+w2H+TtUI8S94aHYutjRObriiuVYuyY4s/GjnG+/ls1QraVNqW8Qc\n",
       "S3hiL3ua0n/y/2JzJiAwZW1ey7KJM+pqb65ArNydJEjyDJTELu9YcWbd3/kGpCaBYHTbitTJDH5V\n",
       "ckLd6TH0pHoSJVv+cL6Mit6o2bKpbOHoBH1fGtULUbpQavms2E9KaXcIeP/kpM1TXSjC7jIt6kb6\n",
       "YNFc+GwWZiUvDsQoQ1piXFUXnjI0OuHfuDz/lqGh/9J01ShgOKouw77QSJGLI6f/j8qYxfzm8xav\n",
       "cwMRcZnaqmPDVA5/3QphGD6nOAh9snVCaQ00gQAAAhlBmiJsQ7/+qZYBBdYFQBZgrikKXjkgq98Y\n",
       "JcX6zp3a2XNKaOj3lI/0u7XnKYjRZgRDF2Ss37K9qPXISBqjPr3BQ1dczHpjsACsmpk4Fdjvqta+\n",
       "1rD0n4Lvj5sWS7QZYGodTPUa0TEfyWvnQjJDMz2GO1VanzlYw2u/ayHWFkcKnNmyTjLaddBZM/q4\n",
       "Cav7ss6pAcuezZC49k0eG8sbzbZV7qO3hQofhjUjMRM1NO0D5cbdNzWNqaBntnB2MTrmEL3aT2xF\n",
       "HO9uroJMXsIE/babmcuJCZcyZ7mAzW6qfL8CIZPfVJrvHD0ROFXSSoc8dgIS9+qbgQ2/cUbjaUoE\n",
       "c4qFkbU5dul/hLjR/Sj5zH6BLLff2Kt9w7bgiZVOZz7bH++rtCEeATUj6jySB+CdVRk5GHbCYCc1\n",
       "K++OUkSpG1OWdcVjOLyWioQFfLy8rWcyrQUts2QhVgmkWcbxilXq8i5QZn+DHYxxHl5gurzjneTR\n",
       "OO0m2XdiUygR3N5QcikqZdHpPHwjeVIFBg+oYI7a4AQJY+GFwOkcRGNwj6BgI85JOqQtktQUWy8/\n",
       "wwsV1WmDVLV6zodMo7pjp8aztppc9qb9qJnczlAfX0bv0tBDR/W49uCe9uYAt4JlHclRUh0VSP1T\n",
       "AL1pYmDzxRryFGIXrgM5MAYHnZOUOWJ1p4M0caRC8L4aApmkVt0e7m5i02jgxibNrbGQ9kPwFKEA\n",
       "AAB5AZ5BeQr/AWxqDEIukV5OmSraCCJUd48g1SfRk7W6voT6KmNyNDx1bBjna2VQWkaSDH/IM25w\n",
       "SfWFzNezoI18P4dEjaTj+dp3u9xKm7ZrdYOiF9+qJ4SJO+VmoHWpRdsFjDZDaNw727odsLq74A41\n",
       "TnAA4lsDHhfG/QAAAaNBmkQ8IZMphDv//qmWADfcyQANfQL5aidbK3P/ook8mqUBF1DRkuAV9ZB1\n",
       "/1A+5cwuUR3TFRlSh2i3KLNnKzUOi7UegadCTWvbx1ntZB+v5/gTeC5QvKOrHiUmSeneQU/fGIvZ\n",
       "iq8PFpHrGUFvS0uO0SLDEuVHx+jlc7StRHpYVNDu7eXuV32yzSinyYM0H4t06cGH9zZuOXEuyNg2\n",
       "SW8cGdVhE275KCWN2w5FY9/Ry0sLNaK+b4BWFvHe6mODp8qzqguXzRnKjpvWK3dVNMY9NBs7dszX\n",
       "AKX+g0K1f0Tp2t20nlwlxztMjjZtKEhaSX5bvUqwMKl+xefitOVOREgzbmHpHnaAyyMQfJ9y9gzZ\n",
       "Ta0fDYPlGIP0sSyp5BLimlDMh9JLqJGyzmB9Tm9Lb9bPlD6GLVuwXyiAhKn5eTMT/aYvHigxiQdJ\n",
       "85GtNuFivQoiIP69R6ZFCZFKRtFrvy07nyPTgORKOAQBF/hJ82iHRdfAw/X7IEqBAwgIuwVNl9CB\n",
       "dio6irHDhOp42RjuZh3WHYWbXf73B61XQ36/C40CEysQ2QAAAKIBnmNqQr8AWuMExxyD70Q6Pucv\n",
       "ZhUcH936LgQw3y6DdrOa6SpMqbq9IKkrpmqMrGi2kweIpUUh7+EE1bEsFeb7pnNPLLpqB3FX7r6I\n",
       "2inhpB/p8G66GHIh8VuCffRYeJT96u9LitFxIWTbSRqLgUGLA8GNIUrzJ578lk4Pu9CjKSdRhtna\n",
       "P6wOIU0g+vzrx4M5W5lHkqEYLBAu1Eh65Aj85mUAAAItQZpmSeEPJlMFPDf//qeEAFR/jCHSsjNC\n",
       "/gUvqVgjcPWgQ2ERQyIVeG3+LWr8TClXg9OvhQAB2+rm3P6rcII5m7NWiEFqTRHRpoVCU/cd/kS+\n",
       "WdV8b6XJd37surs3knOIm+9HS6+rU0dLqOy5c3VsxO+BA2p4rsG4083nXj80+YWN0vBL6/GiFxCZ\n",
       "7xD8hLElruQhK6HyGqCLOUV9hPPd9gC+j7AeSZBPqa9NuIOKX+//W8WDXLjMJq0HhAK8m+K5mBkp\n",
       "a/5qXYf0OBG15V+VBoKu9VaLhCgB9EOZ/L/c8SPPNPCn+RQhi1UX2Bvnp+1+C+BRXPGW1FjnQt1G\n",
       "/1avrXps9wbZHmdKcXPNyMxV5mXnadK2QHq0m6TCKp4lNpbnpC7PBcCd/TYOKCsDatUelDEBtLTt\n",
       "cWhBA6v4UsvWu5ZCK2Nn7MoZllKuxbTsdYbDFeArGt+rrUrLGBOWfurxOnXNZkmS9FjTSw1QlR4n\n",
       "Qr1qsjc06z+pZ4FAcQYP1RXhMJ+iymm/vtD8bO/pDk4+d70ZsPrDemmqmmr5ANsYCi1p2/E7uhn4\n",
       "b4O5SaltLZOn6exEixX5RgRPIYb/tvgJgOzngX8migMON2Ub0+TQDG6aaY+B6EMK9jpu81OuuQKW\n",
       "rbPJaJbWSACa7nBvi99aVwUQIauPPvzAIk/ECsBHom4oE09C5C6FIogeppyr+9eV5NfxxnH/gpoZ\n",
       "cpfE26pKo18x2HcVCeh5TBPmmMEAAAC/AZ6FakK/AENcf3f2SS//voxSyGFXSzjUcdw0y0hSHUeo\n",
       "4NPD5iyARU3wl4WAVOYBlWTvXFUZ9fUx7pUaEwVUg0srYHrtdy7IimLObPsr6NSORclw/DupSkVP\n",
       "s/RMksMJbFhJFSsJ3dHtvs8K9Bu5mu5oHohGQyOchpEIe/oB/tLYTHR+g2STq/gmQo43u4tTRqrx\n",
       "eiegtdAI9zVTkyFnvuwqXF5ZHzHjYgTV/l7TuDN1qwM7Db8h7J87UqsQH5EAAAIgQZqISeEPJlMF\n",
       "PDf//qeEAFI5l2prrYlXjAgAmvLur9eDI4H4GMnnd/eMxuOZAPjLSrr5qgI84Npmh2OJW31mJn8n\n",
       "G30rwuYstU075GnigCGIQcOenCirONpgk76i7HbUaAUG0MGjiwpry8Sl7Wca+98wI06sk5a5vidm\n",
       "ELNJwPTvVgT87W3VrjSdKa5FskHM095PZsaHysfrZMcgiNVrexdSGmcMvAq3xKkk8LVG8neIy4F4\n",
       "d6lDPbmg2QdwaOqU808jKVPQiTSpE3/lWqtGMOsKAQQhpi4quXjVjeVNGYTJZmBMGkBuvb5A+KsI\n",
       "ptZ3yII+TMOYHsQO1wgOnG1S/cBdtjt4nz+gJDHnHkIjz2cPJudPE+E/NjNcNUunjFLt5A+0RkAk\n",
       "I3Gf63oaq0I4AyRk+NfwZYdjseQG3nMudGLADRbYmvRMa6XWE0qFK5WnQC8iMIWeptfvaq1D99bi\n",
       "Z/ela9gD4jgPXV0KClzKHKLRdaq19J3cJxirdcfAUwBBRVsiiXI3Wfwh/aDXFmglLec8pTrOftIe\n",
       "X7HQmuZ8q2B/vFyyqXn5rGfTgGFSwslfkjcwuaMd0VHX5n0iXaOvsmFMLvoHm4w6axYVpM3s1u1+\n",
       "OryxLxjUBR7LnqtoOhpeBIaURmqt536PqO6jh6VjPDkKUMW9ehKT0stYgdrIwuknIvDstO4yTU4D\n",
       "bZlqeZpAVQM4HmL1XZT8skSI4xbx/wAAAN8BnqdqQr8AQWSWMvSd7wl4ATV50ZkyYoNTpP+cLe4L\n",
       "JzbbnXImpF7/9cHeDkuesqn30qD7YZ94ilrY/MH8/Vpb9DDT4mL9J4vpeNJtWxbAMIEPGraMfSrm\n",
       "LYkT1ztO4sXY5A0Tz/IeIHUVUsSlYMB7/3McirXbemYT2nPszcgkHvcN0+M9OCKPtHueHNwHFCld\n",
       "2A4y39XjGsqeDxqaYc7wnPO1G8sNtSR5cb4k5N/dPjIsYATok+hr2vl4jVN5YIFflDTFLDHN5OxV\n",
       "iTLan0GNIh2klSi7wCOCJU61nEKCAAABrUGaqUnhDyZTAh3//qmWABVPTUcyikQG/leAzFz2OLgl\n",
       "hN29gEpNmsPSqQ0AF2HlT2n+tTjS+CVwx6rlpCgi/gdDyxTnNaxuFYIyZSD/1v5c/2nBzobAKQI9\n",
       "0Jxs4eiI5+Ok74XLk/uT5tsSx+XwvmXz8d1UXYKm0OD05t1tm5D77fo6JMnxnckISvZ0ELbkyf/1\n",
       "6CokB+w/U7nMeQD/NlHAoY541d6Yo/8IIkbi5JqJ7IHfTtP2BG0YBS5rlzdmioMxv7FtpK4ErLI4\n",
       "+umjbbL2it6eq1frOikQ8LnY3O6gp6PBBGCGRRsNAYCOWpq6foqPD7tBwK28LkYJVYk+e3qQuZTH\n",
       "FZp3HEu4M8InHL4+WfZ4Bkf5Tm7Mw7nBgPT83ywXrbW1p3ry6ID4fQdKVdRy3YWVmg72sslr76uI\n",
       "Ov75Y3jmLNC2GlzruDmZI6fga411u7p3KYwnafGrzYyeui3HyrukoOck+DcNWaSJyyTBTw1wMdCh\n",
       "+AdLjEkoKOQY6r/FXLTogJ/A53IE+UX1684eQlM0cOuoa1fFu+PF0KgAAOcnHkEfCAM6fpUC+gAA\n",
       "AjpBmstJ4Q8mUwURPDv//qmWABVPeXAJ7/miKiZDmj6hZ33VXoAVXQAdiCWg8akjK3Mi4E5CoGKI\n",
       "/GPKIW9Z7eogIIac8I1Uik+t/YHtqxwYZ6I6NNcQkD0+xaPc0CoaMZ/Ut01rK9Kah0mEhAwABm3H\n",
       "WC0sUIbIyFknNIT05gHVkLCZrhHx+eFXnw9wI2IibAcakupdZpTdU//gmo45qD2z7Xk59X7bq3tZ\n",
       "iog+7uBMseLLJ2lxnG9jx6mUo0sGp3BCPXm0OcZ6DUafdnmzDs/LtG2Nd70Upx/ZzcAgNr/xt+Zo\n",
       "X5Fp19W5/ctUfcMn7ZJJDTKH7f3/g7OsJZCTSL25QfRE/DNNuf1qjunF1y7CL5hYszLcqzLUyGkv\n",
       "C5y8gF+IDvUZQ5qioGdJHSj/ZC0ZpP+nXvIAmGPohwPsgXdYFwVEWiM1VCzqwnJ1tH/aA4xvYLjs\n",
       "Yot8dS1oYgin3MGEs9ShCXbQtjTYAgM1bhplXDd5lqdHu7y/gF/LnjT+e9GClIV11ib/hqD5oL7e\n",
       "4uyxCldRMHuQ/Jh0uaR1Pst3AGGq/JVT5ShBeMdVRkdUqEcSwdrzBq3vwDrtQ5kZLT3e4JzoxO8e\n",
       "/KlkBANhQXJ9FrovncYEGSbmwSb1LOw7d/01RHSdhaqXHjUNJAdOwmLKnt20w8w2ILjID8YJPtaF\n",
       "aKJkgv3YEXapL+xF+BYuTAg/XbxIL2fboVyq4E5/CNBugOfAdJSQO42NWczRj0mYNNKQ5tNfP+2D\n",
       "DtkAAAD2AZ7qakK/ACGyE93NdzST/4+wHhEkHSsXshTSFiTlwnNOgBLJg5Gy/FzZvO24g0dzwzbh\n",
       "Rmk7vhx1ev/01WebD03K6Cqcy1tONzA2a+LCpTTLZ/62Z5VUzvvxlsHFRx4QiV/sqomDHK39cBCH\n",
       "mPuWTWLGR1TUBc0xgxUGbvClTUMkBdRazmroP228Oo4pn2M3A4IamB+ayqbQpEqgHbilRuAtNfMN\n",
       "Mf1Kr29oduunlgJpt9FvnkH7PQ6zVLO/P5XEwPOYjhqeEJwgJ6HYPGQS9ug1q6FL34doJWkrggCb\n",
       "KI8R6ZUXjy2zHGTySSKPk9ERH5XNrZNQAAACRUGa7UnhDyZTBTw7//6plgAKp8A2brrA8ju8pj2f\n",
       "Hp352AANCS0VtawKZi9jUTHrUlJTHkqAQGMoYdPmsid57S4Up9UH6iO9Db4U+tU0c1dYekvpMrix\n",
       "Sa1/CWZ3M3SHmsoH+SKCE6tPWbfeqdfjqYMOEMC6WuRxH/LC9C/09eC0Nff6nBFkeLswDcIngBps\n",
       "cQF2RVcN7cY6+NdHz0yPbz8Rq6MeTReVEAmnYRIt1Cerl9GsfSULvgTxMPNMehUu8iktvk4NQe69\n",
       "PkWhXhDDsgd4wc+Sp8cQ4M26jadlofHwNkvuj+SMU+bN4u1IVErc44wp1Ho9XL08bmwlNu7//jcW\n",
       "pyXP6Ho3lruGSFDcEB3B2JWcWAOssBzmxNJOIEL8KLyY8xEkOVj5175YRWtvLzyD32hhAXKI9TYH\n",
       "hwbdE5VisH96gSQuryXQCPwYrfuGyNjePwi1tIn8b30WyITDY0qwoUDkZ21bZKoxQUngTi/WUIB0\n",
       "3H8QxRD4VAAqMcgUDKyYYYrGfnO3aqQl9YvPfqf7BYRyuvLWEf2vooRIU1gJBFslUXQ8Njjyh2k3\n",
       "flMgQmwxpVArxwONfVbTaEFCcx3a2Zb65GlS/mV9TwYOe9N1b8Kt4XyrmVBoNnX2oNjjW8rbE8e7\n",
       "n2rf2V6tjmoxr1qdp9ChxXDDWMYkegZY46ERqBCske7Fv+lX5KIXnGxrLcuPKrF/ZU4qtcNUTdm2\n",
       "lLWXrJVOsfxbN8noVEL9b5f606U30dmY+ShTqPSTTcDNnxhht4c0AAABHgGfDGpCvwAQ2QnJhZGy\n",
       "UCmsM/Z9wv+7cAJq7oMyEssTWQNt3fLchNe+EGEe66OvfFEtRJPmQRrbDIp2W3aVgwwptpzI/Jsd\n",
       "7gNUQWqjcX+Y8cejn/W+xc24bp5W/BfDQb1kk06BPHpnbf1P4Wyr03lnJVpxj4TqlSj6RN9YUpCm\n",
       "ZxFaxJQxTnv3W2ab7+GFpWm7BjRQdl4ZvhqCOVH7mkIHkjdsKBK4POzbrr04CAqTWSQMquUqRLxW\n",
       "Z6Hnn22GgoMH1rfkRTPYPnOMvqgmKAwy6/OnFc2yWawFA7WgsLMAYFp71kEhgGUqBnd9umZw8LT6\n",
       "11o7X1ZWdR8qK3IUwtOIo49jjmmT2wNYB9LtpWv7mf55C7kuaSyINFnEZMEAAAHRQZsQSeEPJlMC\n",
       "G//+p4QADc4GYsEtC+ah0GEL8uzm3YBa7gjICH/cEHePjECCYg75waSXBBSlJbSw4tLCBFsQ0nVe\n",
       "6woeYCjpqJ7xLVHo9soBIBnJb4gamIov8hbXgPOqrwlNIB6t4zJ3E4epJH2/dU4mBk/PXrGAfUDM\n",
       "SoC8oWh7wTd2YNoeZ7ZPLre4UiUGL7G32uMBz4qiirdcYX+fYl97zzKLD07SYUGNUw3we0M05t2q\n",
       "Pm0HF1eqh+1FyCe6JFvV6JpeDb1Z4CYzngs0EaemdKm3y8mXsViuqGTmXNDB9Kyi1UI0/yzBMpqJ\n",
       "6IMFjXKKbg0z2RZW1hK0WnLYT0dJ0UTMVhdnkjwuUorpP3gb+2WfR/e273qP9jA9OBOvW2I4em7d\n",
       "GC5IcBl0V+d/H6NCVsy0AEoAYjk5/H5fKq4iEUSUdySG588s7HKAImQQVQnfDuuYZFi1PZGOm9Oy\n",
       "YYVfsdEF9ZeGg2fIkRJcrflz7gaLtvoM0m5vugVRdY3INP0oFIMHxJi0Hx+cB4DGgNLvp9diC8Fs\n",
       "wdw6GBLHRbHkX7nxkDnQ+UpBqz4hMKxxROVTgJBYx+MyYOoecg7aYBHzVA3wR0w+Rf1Q8aT2EiXB\n",
       "AAABxkGfLkURPC//AAgs5nXNrggoWN19E+ZNHmVAvCa0pJcTABOyDq1xSSNp3k8iX3w2T7/DXEwT\n",
       "i4qkbsW38KEw7ATXO3HDKWU15n226vkEQdxZTLJq8u/rFq9LpneEU0FYuuhbNBjMNOVHEUQ6BkIt\n",
       "lDKsnNyIEuwMBc4jJJTQ5MQko16zbtSxoWdCovOYdQjkg74aU1rQUDJS5fy8FaCInlb7UOANumjV\n",
       "xdfQXdHSlrxPgfzA9q344xBbzxX7liPoDy7F/HOYNsxw9L8zcJTQPR/+RU0CKsA7FB7rjLYMcERQ\n",
       "YRo1J5VYaixmDwJ9NhHtJ/DjzdxAw0JuhVCEMLZYYNZ5eB2Raoq8aaCC0eidfAAU3VhJIoqxO9wh\n",
       "Pm2dbE0y9Zy7THxtJtZUE3YO6qw6VmjUSLHNiRb+jd+wq7l823YQIJfG4IiNzMqz8kkvNIktSAXe\n",
       "WtK6htzFQzMvduW2u2Il48KIECvw43Im13zybADJbJf9YKleEWylyeQzz9Ae35rphB2scldMGTF8\n",
       "dJ96PW3D58CpYiJDBpGUy0QgJgoPnT2iR/zMVM2dR7E+tUBgPqvST8AP6Y+vqXCD+ZmWf4Z4aB0I\n",
       "Q0cAAAFiAZ9PakK/AAishQCG2RZ6f3/59ABOOqTzs98Pk/BeIB6weJp2j35n88RQ5BOM1vFQ7L/6\n",
       "CmroKAv90dsq8RRnEfbG7L4hUhUxIZO2iGrl2avLoql/4OmSyY/VMfrR2R1xcKZ5Bg80oC5Pq7uu\n",
       "rplkTa/RAfNoGBvdNJ2MJs8QStkAQjs/t5FxmuADWsJI+7Gi8PPUyZK4lJ4IQAjq2+gBa2Cumrt5\n",
       "4ml/zHXP26WlMVXbCPWl7sw64oygl3AMvER4uU/mrM99FnVz8oDoUzgMl+ElPHbj5TrImKHorvy1\n",
       "5hEU9RhlImzZMHQpLlEqfwr6/6lkux67VtOaB+rGIFfE4D1qjsSaPqrs/Z4XehIQBt1iGKeNxHcT\n",
       "QHbci3enoYbHodBU516OEA7vUZ6zER0Dx1/31bcqmf4F0aVHiqdRGcmcVW325k+YfWgYpQuW/Xsq\n",
       "ZQqQhHsXBk/F5WNoYKzw7nFgAAACpEGbUUmoQWiZTAhv//6nhAAG6HpSEr+Hb3rOnUAALoug+tW8\n",
       "JNviwpmV1gL/P8Ezb55n8DK//JJppGOCqJ4VQlnLkea3kAiLK8Wcv5ohPJMN2x0PRummGs7CLkQk\n",
       "9csMgRS8/kZymAqmTQCfSIFLXDl7Tkl7itzQvmZrBO9kGPrSWcZD6vYu6sFW9e7g3Qa2LnP/Jc5u\n",
       "hx3KIWK2P/7R6DhOt1H5QW4SDkl2sAedCdkEcoMa7uoGVlChylygoHk2i2bf5bv0G4S5tKJmH9Wl\n",
       "++9XgEiO/qU9t9PjKkAkTMikJGtLVNnFdPfGmHOHQgTB7+9W9SOYMIXzsw2gpwHpM4G3GHq6asnD\n",
       "vkk68QrUtTD4kbWUqEGoevqZWB8dhyvlZ1DI9dCM4J4BYg9kVzMT11EoQd+E4FO00Xf+7OAQkwDK\n",
       "nL2r6sE81KTkwnt6m/ZmqL2VTqSyRyBvYF072iQ4992s7u1NB0dy9uB6dV7g31ShA78D/UZzczKP\n",
       "GK+nVW9fweqoYZlDfj/FJ4naoU+2hT/59r3SA3cQaZo2BFEWEOIhbLGUrrzBHiapzjs3pgKTeQpL\n",
       "FS/y8lLGySOU8nAbVReJj1UoskG6vIfEgr9NTn2qkTQ3JV7Nbj2pJg/FbU32iIzYs8lpkkjKhrGf\n",
       "yTUuH6CbhD5XKxvDaI9KjMPnlibUQij/3wn9VZdPqgcCYTPf9FcQGS0eTKmixid1GUuZjVmEottV\n",
       "vgdYeCNAzDlGvfwyS1Rd9xLOsAIIn1g0T4J0uH5t4Eo/5Dhwc80iFRYl1O2KokTxjvVbCviNCXfV\n",
       "jTNoZtAeMi1kBxBZxLXGanI95NxOn5vmfpy+MeLD1QHNkeSVcZ+tILbXnCK7OvFW0FKYSlNVvhiE\n",
       "i6rbe5KKrXadBwUbvFAAAAKNQZtySeEKUmUwIb/+p4QADIundlMGyAImtZ7J+aLpQSwZY74HtQvi\n",
       "gepO1iOnhwWTJMqkzxdzPSafG437Z0UWLAaDkbfuT7I9/98wsx4UAYr8BqKakOxe6FE7X+oFVvqO\n",
       "wrnNr9Qd3lhqKWocu0vBhX4/jwu7Jr8Ik6cKF2JFjtVs2PDsVtEc6inAVykJQEsDiq+g2P9XJj8m\n",
       "vr9i+iZScRnExjz9R3d5Y94swo25RGxIc9LSB5GghG4eGbJhru9gecbrmVEr+u9ieRzKUFPtCVzc\n",
       "ql5SaIuyzJRAETph2f0FyPepDyKwVsufJWUaC5T0iKtXVjocy45qvu7/ZBjDYYUsjYFC7SC06bu8\n",
       "/ejn36V3cmdGIPdy/GqlOecgJbKBULnErpoegr6dBAjR+9wTZanybmYS/hzRdTOlj8WcLHYRQ0U5\n",
       "q9Ih3ek6YdvvsuYhRyiSBE+WsJs9OyhHsCkwU/JagEMmzpqX93a+XnBehHLs1Qb5LlqAN2KcTSWu\n",
       "MUDzM8PC+mpYN2iZp+OggINnprBZkRvaWSNeL0ZuM/eKnQdVK5pSDRVcJQA4yq5ty6wb3LoTFgV9\n",
       "aFK36RehVjSu4Yczf0Y/XQAX/Q24ry2zmnGk6a2VjITAQy4NysCoa32fspH2Ha/8K7K5Egyt9rxQ\n",
       "yZ3PxifBOBiXf50JMdOPZbDJUzEfI7qehmsgj+Thv2FcIliCCJgQJunlAMt7L5GIcvJLXYRotync\n",
       "YpLEvqO2R+CFWoYK/zUN+nDBpuLsPASOadwHyjGSooys6aYVvA5rK18cwJmF8867gD13DIvA0KvZ\n",
       "n7KVHVkjvNUAXSbcPgojNDL5W8I5iUZnvIku9MC83RTdhWAuEtaf5VXBCpkAAAKYQZuTSeEOiZTA\n",
       "hv/+p4QADO69+BoXwD595nK4g88fsu6cJmtQNYjTz4AqqQRTsry8+qOPAiuuqCFQd8HA0yXwrYwI\n",
       "0BOtSF6+mLvl98E3yBqZnl/lChqQO41k7ClD/LRHmzaF3m9jO9nn+u4i4ZBM8MAT6qynA7kP9bly\n",
       "xN4+B46Ryn61VCyCmJtULExCvAnlG9pUoBUK280ASOP6PeeupOohUO0j5Ebc8/mo9YcmTWgDI9fE\n",
       "1jcbTyxSWycjW4BNCquJx460rXSOxPlWlaCFio5DQulxGqXX6cuqta9gdD0jmia29TOQPyyD/x41\n",
       "53bnb7Ysam2vXhFuv0nNbwON1q+mNiexaLkLPjEjnnj8Ff9V8ivhGFjrsF9yl9J+0GVe8nktCsHE\n",
       "aObhQU4+jnJlr2LIDTVuM6SiTHQC/OE7ZeaiaTJF/MbDkvwVuszc+2RDYDoV8A4rb673orK5VX8c\n",
       "NSO1oMOBtGXfX8IcolIT+EE9HqPPzf5c0HF+17JQi3rZ+NE/buwEUJG2Pm6ydS6F3hI6wkIvutcC\n",
       "B0XYrR6IF6DP6kg1u99U/ieu/x4pKc4cZ9CbTYEosu9cH2nkeRN/XWe76LhYRxwxfwnV3SF61x2M\n",
       "hYGZPwQIn9emKp0KJU9N1R2UM0tBHl+mbjFtCgL1mo7jaXMLOYbNXitZs//cmrKmS4Wy56THETF1\n",
       "OhTJynhO+vrRx2kNJBqKunJDYf9g5S9EatWJc25mcNXJlgnEvfMvWcrFxcoxixU6BizTWyWlfzvd\n",
       "jA5nsAhjWIRzON8vxLhHaBGpvpA8XwXI8ELV/7qqT+sad1tYXSYKV+d6F/5X5maSLe3JrvnwxGRT\n",
       "UafjVFGpCRqjitn4sW8k/LJ7V+NkYoXGAInFyQAAAtFBm7RJ4Q8mUwIb//6nhAAYe+1GkvYNyAE1\n",
       "e+dl6qRsMwbKcLFzVOo/Rms0vIzlERX+YPgOp0na/qCKvTDGbo0+9kdBK1IpO6tEJ3SI4l1JR0wy\n",
       "6kaGyMtZsK+uSV6lMQ3kAB4dbpI4D2DZGJf+BG9oWsNOqoIw81x/Y06MzRt17yrzSObaooMFhzt2\n",
       "WFUZveESs04oZ+pAdSzWZcoqxdb6BMSRKmL8pUd6NnXg6qtjGdtHpMcUYI3gYR2LAirS57Z4Xajj\n",
       "Dwd0RD3qV1WUbILu9tBHOq5mczUxVcLJPIkD/5aNd733Mzz/5y8MmfGOMnCf3SNH2u4P81Ewi6dX\n",
       "9Tb94snmq8SKyud/nAY+no6wNkVf5taZRhWf8rXFrantJp2uxjKhMPq56vnQAKdIs/i7h8l3L9fn\n",
       "BioV1uPrhsT50+qpqzhLdDEWY14+WhhQiAGJTfXQn8x/zVMm1hz6BxrcdKxYppcVeNuPHdlq8/0o\n",
       "1AcN6u1ftZItIo7Uuy3hoB2WVNbblLk5a91kqaWD4oLYS5JgVCl/nJkrUOcG+fppa91nx15EtI2E\n",
       "J0mDDGT79h2YXJBem8YTfCTuLh9C5Lt/ASxfp7vQTZPB49KADMJV8Wdcfio7VZmqH+P5C9PRrQu3\n",
       "/n+deguhUBhrK5ZZvweXYDds9z4HJjDs/4OgM3bpmGbQwLnHqm6FDZK10yfGa7S1rlu1Vk3kxMJh\n",
       "aMKGKB0f0K/4ic+7ECQ6mvLcD8C/AnSlYom8yFxdaSxSLyFU6ohdsvtWDje7pg067cju15/0ZU2+\n",
       "CM0JjXs1EuTC8/iItKzPdzC+GUmKNvULFNu+nZ5HBudS/QXF9c11oxupRPe6F71+tqL2FCGZMCto\n",
       "XyQShxYKfqluRa2eCvZmPA73sfgRKK8A1JPr9iwetoCx2zUoNiseeidqD+BVSEddmOi+TPtUOAgc\n",
       "IxeZphaS2EZHYhFwAAAC8UGb1UnhDyZTAhv//qeEABkhPCCYNkALRm3R7kIhIBNGL1eDP83czOgw\n",
       "icBJntdv4R8AZfTUL3wGP3QRPHc67B3F4V9p388Duf+Chujwy5Zgg8qedG2+bz2aa582JLaYCawM\n",
       "H4M5jL6Vh5eoRzs5cuMz1egOaeS54dhfIavDm6rLiFBlacGY37nbEMill0recLMGzTJCJmTR/bDx\n",
       "0MvOB2B7XtiULz97O8B66WRXjXLk9c+Tc7Bmbb/8+GgEoBhcjssL8CgUfbDPKoSkVj/AXDanp0ST\n",
       "OX4qQOqFfZe653nr6gA6XmrIIqHRLaVbqnXayWUuAmilop/xpz1fNuIGhFH7psTsHLxVK/SWeI7H\n",
       "Qzlm1IN8zqJI9k2itwDuUAwQD6x/fEsFxSqoLruJ/g3VaVj++84M3BTK1pp2b3Se9bOpv6WnG+n2\n",
       "4w6vyAUMTd9et5GiolJdvNtTH9O4pgM+kYTSIBNwlIFvWZp8GGy82quc/wUQMk3TIcGrIMG5yJYm\n",
       "0/Zb3F8VVRhULqpN7N4G+b7EEJ/8FOAYGABP9QgNIqvPUbQ1TaDQQNZ8F2HB+j0kI6Ua3NPLpbNg\n",
       "aX6QkPlR5JsNUrOgxy4HOSU0wkTxRMTKlFwJTTjiSWsQCWluiAJzc0ZABd4+sgu5QFbnqzq8KqL3\n",
       "xx82mUhYZveyisrPF3kh4ZH+x4SLcdMnt69udgAf3O10/uMjNNM9w+/HpRWf6wkF+Gyed4CGxw9/\n",
       "rOgCXX8XIXSooedtcZiBetZuo+pxk8fzN79jqPMFvopPRFrVLS3FxUNWcRK9F0ZcLwTld8c6QVTI\n",
       "9RH24hJ2BwgyYu4ouI+SxUpPajwkBTuNYj1aBaSGksyg5Y/4FLcfendzbdiaxClmB5gBBkrkZZBD\n",
       "NQHvVHDRamuZ7NACsuR6WDT81nc7bTYFBNPO55wGli71Xg62AFIZPrjMY0ndLN4f88KIhvCQ8VX/\n",
       "aCIWAE1gmnx660rInLbqS/uPmNPxMhJunDFlTwAAAshBm/ZJ4Q8mUwIb//6nhAAw9oYIr0kLN+mn\n",
       "NFbbTGv7b6Jqm9ieh81XPAB/HcLqpTRainYrAzGxVb36KXyFKskZBY1PUYv8rfyKSlz0w6u8OylN\n",
       "ZKRU+QhuJc06N5AISherRqhd8IH3JnYeYOuaUchZlH8+EE9S0HWXTkCZUiv8XTPJx3/19rct5Yz+\n",
       "CzWMKaKMmXVqUXBJ1k8Y+mq2hS5m4AGx+vErwLeZbY2lbo0coravzgcQlTLhO8mCaZftucqKiGJX\n",
       "WzmHOQgHFB/NvHWlWmPaFds7dvYldRYif+e/hwYIbpqfxW7WKqsFHIyzoWDBpFzp4hG+FlW/NbgC\n",
       "imr8v9N8uSwJ5mcO3V5UHNhMcSXBi7PL7HoClQSP1B01Tb9LhaKMcIaV+ey6D6xJz7a89Hykcxqn\n",
       "5zcyKQeYDDA1fhjBCroCgLumIrvM7zw9dv6pAC20+9W/NqFf2ToheutGiM6M89yMi1Z3pl1XKAia\n",
       "cXw95WsVZIRbq0TbyFgq8IdTCA1UMJbByG3oOjVJv2sfyBKUFcVG7hGWUJL6Ick9tMT9DRb2/4x6\n",
       "mqEuu7ZtkFlyI5SgAJwEgDdJgJjrksaaNP/iUrEJofyEcH49WGWoQ9dhDEySG4lPiw2SGuKq5aKE\n",
       "EZTN3ZNFFGoAXqVym/GwHiKT4kf5uoDgccjosTiyfRFBrLgo2gceTWdhTHuaWR97Aq6NA0riX1jo\n",
       "zb4PoqWYNyhD1LDGf/dvlC+oXiwlh3l4dL4pSUyT2znn6m1KuqaOaZ88m+A9uFKG9XY/XO4Ldc/2\n",
       "keRdpwr/917tVtNrEyqCJtUtsZFRCmgfr+bzO0xH6ortD76cJK7PydYYwwc/v5ADFQqfOUo4tJSW\n",
       "mKGVwBG0MsYqF9QaUaifaTWxzIBTP/wmLbGEm9B+WJqhYIdPYusGCLvWoKLLAr3uaAvpHQSFBL3H\n",
       "bzpgAAACVkGaF0nhDyZTAhv//qeEADJ8j8MQQOr+FLLxf9zO100I1h6rE0+ng6O6NMALoqbkrS5b\n",
       "O/UTZYjs5tw6jcbdxwpjc/oUCFEvFF+BKmmKTaNMRBI5QDYEnAViYSflHqQ7jvPVLI0jiWNPcX3g\n",
       "6hcG/jmYSMoIlOP6xJzKKgQiNa30FFR16yIfDqN9iMBRuTh1b9JWPFSlaW6DWdtdKgn7NMDOLe1i\n",
       "EYtf67OQOQMw5JNh580unH9FwahsuKjEhidN7iJWAXPgHi5/QDZcIhYuDmUv43nKi06KPzjCEl56\n",
       "B7WmN++3dZ7eZ0dAHAaiAtyUtnvUOPYn7t4RmGbxr1Ldszf8gLwJxaqZ4t5u4b1hs0KGU1EN4Y+Q\n",
       "VJI6DbdL2xTKPjIj91u7BjOa+cYkwzq4Jc52iPZQl4hBUKhMsqW0PdE4lVA7lnQeOAUkap/nTEEU\n",
       "/9C+Lp9aHdTszEgbGAAoBxmtBm0VDlZwQy0SXa2c1Kbgxxl7zsRI03RzUaW+JqkQSfrHB+NAPlvS\n",
       "cMRWYs5WKQ4uH3lJcFRZBda750Z11CpFrOpc/ele5SMYwSez4gICSaOkZfxDbTS5C+cclfqApcIo\n",
       "9weMtMUWncHPEUbLKyTA0NgE3qOGLsy1wsuKgq+Y2V0USDXmGbWM5ZyrlfFksMTb9Z7SyJVvaO9R\n",
       "4Cm0Ze+Q630PI+qfPbkzyl7uGDI7ja2X+ZpCbnxZC8vi6PfXXRHSbbL3+uczQJzBleg98Rx19hCb\n",
       "pW2JiPZ9RiJ5A2HOSq4GjRRr4BOOJIpZnHs15SAntUfkgIEAAALRQZo4SeEPJlMCHf/+qZYAGVHr\n",
       "tVI1ACMPLNeWRE+5IKXDFaJzOo9K8nJQNuISkej6fW4WmTcjPpXUq2sJPzTpZW+6gw1e8vNKzWP+\n",
       "vMvrXFJbCyFpFaUkML6xbcxgXvcTzaPjK9AS0Hd4a0J1v8cl3d9I72FRUEMdnoPglwvL/a82NngQ\n",
       "srESejNRgm1+t1T9SRxVZb5647oLPAua+AAOlTr+c7IDl3yLbzLLCpo0thJkhcKjkg2sobz6zABr\n",
       "kDaaH3N5ouulkUXZ6AyfMg8n+cVV0oiBjNuJiBliaxu2X8NIIyAk/+cKZ5vXwp1kzjnjTL0PtlLO\n",
       "2Do2Ee9WOKi8jlzKj3Ony9Yvc18iX2LTWa4v9ZHkwX2mC/SC5nZBXh6cxPaB9eZbzoyn3MLbr7cz\n",
       "jsd8KVADa0aME/Xi92NaqXH/FE8giDyohbZ7uPbQPzMJNAsaHcPkDrE1YjeZFh0mn7IsY0m2pulo\n",
       "2yiiUDzt0sSyrRbfByY2x3yEugMDLxs8B9eda38pQh97N9QSWMZfHB/jcofsH4p2PggQrE2xeaYR\n",
       "uUCe9wgQYBlzIlqmzJuf/Hind1GYVuSDhGjOnBGIxJqiczjAQNt7n082ejw1ylTa5U9nafHb+oFC\n",
       "sKRWIPa9LrTYgC5yZFUMRLN1ECbJUS+VFjzkDeCnj87UNl9KbVUtG5vbAo44lyVoCWEpzwmAaJTq\n",
       "yuSQhtenQsHQnUfR7Hjd8kLALSzXHKalwY5CPAuHxMcRF0/uVHWsDGEMCfy3Q8mymkeamUStXOCY\n",
       "Leq/uftdVStVQUWWOa+wzaGoPVpZLboXX7/OFTe3W7EA2j/WIQd9d62fmb2zKQ1i/+4aG4ZWlcL+\n",
       "xtV+Jg6Q+ysZ2Dn1PSvENZFD7d/JfhIXzNc35AyNsP/pE3EykRpwiLtpuKFWqhezYjDewWdgLMQb\n",
       "T/NWPnj8spUbZEI0DBxst2DRgQAAAr5BmllJ4Q8mUwId//6plgAxVyDj96VHoQx97zHkEMhLHt3I\n",
       "1bgzE/LlD43U8C3Gj0KAkOkhn1bt+TMB6mhcwY4q585oIrXTZh8ZA3g1RuDwkc6GA43K07nruO+r\n",
       "Wu1HBDqxFtzheyAEQzOTNSTS/78CdQNCx8W9/TXgsHqXetOiamsEYuXuvgu7x+yXoFeUF3flk6Fp\n",
       "kFSHrjpV0A9z3npGXDbfx49bLlwHuWnLnpaWkTLgJgzSvhr5L3drdCUyfuv1+rB2uklH8YhYUuGj\n",
       "JI+KZ/kYiAtxWsTY2idGRsIqDyWd8pau69NMMtAAMg+D+PevaOlbLEX12xtVVowIEOFb1jfocc1s\n",
       "J6x5Vp6FOyYMt+nEhhmfiaUIZ1YRE/EwjA9ERTxtdL46t2uQWDpuF6b2oJHdqz3Ue1D4KpAd0D0P\n",
       "gGGQj4ksQFfyebcCAYDPHE7y5559fwruxe+3GtBvrDd1st+N5fd6oWZLazFuvY7OgEzzJyFI4VjP\n",
       "RMbBGiYErbPATglRF6DmzoTYgNWXnYhtxeon7Nbg3qDPmh7VcxNIA7kPPIkZgWTYSPTwY40iqTUN\n",
       "N+ArKBe6Ty6092uluBkNPjz3soDlMPI6Q8MJMkzMuxtqZzxfp1nFmej+8jUHt+TPFSyS0LKGT9Ty\n",
       "hMNfhuDjiyg3iPsgRTrstiMF6lCW52Fe5h0T1UlNnOyackPgmNN/+F+AGNDWZOw6Yejz/ECvqmMP\n",
       "JeebBQri/Fg9l2ktHg2gwOzYveCOWuAMWS4gzw6qp/QsxJA0BdgNJEDjXuH/pErpRCGT88LuBI+R\n",
       "TBKeY8Ztn2Hno7fMxvY/tZhnLNflQY2XmMSLY1LIcKI/vwR/NnVU0Tnaiqw2LUzcrvjeDEDR766j\n",
       "MKKhKEjGjS7JSUjnpm0opapmQaYJ27jRauCu5g4/98wRxpQhDT2LKWAAAAMSQZp7SeEPJlMFETw7\n",
       "//6plgAykoWgoXhpXIDYzSAxpGOtsMKeLhp0tqDvGs178NYWznklu7SVQjD6BT/EATSM0e7shYzc\n",
       "4fhl8wmpHgu+nODwuBG6BW/23LNwOyRuxmAfi9l4prVmMmqi2lMIFgpMNLy2kzojS2Z2vHi73O5M\n",
       "Q45PjVaYD9xSD0TUaXCQyioCWiz/Vi8Wu9inTPKXA/Rq/dPT7fRsFvd1+Cy8vzxCKR/q2FgF6d4Z\n",
       "VAqEgZEc138FzL95J9no2OY2uvTR1pchJvrRUZDh6iSUcNppklxqR0alT8aJkFkwUAnQWIsrvbFz\n",
       "hfzZThiNqgYVwVRx00OToD7RNN3pTVbI99uR1a012HN8VFL7zLZ8XorT+PJc9lHQUtRcsVqvTtHt\n",
       "Zr6lr2mLriCQ16Js3afINayO9Nfl+kffUQNC9C1Wx3fKOHwbYhM+H0JVdjxNn5s3RaaM78gX0tas\n",
       "CWsDr3ksVRuKF/3L8+MmyfhMTzU/0MjFVt3Eo7AY/BiaS+pXITnOCrNC4EUC3iu85rMb0AiRkdaC\n",
       "HSWEowWk2RJjeGrSRs4Qfn9WMlUUAMkpchfyg1jqsBXYsWF57b4s5t32f8G26p1lPXGi+BCZf1jD\n",
       "YovJZ09D+QjRv0RyInN9wkAU/eKAd8NRh9YRuoGaLLW+/pAgSTu/8epTmCP2Ll12U8DnTSz6E5eY\n",
       "FJy1qPoIq378ibku3YHLGwvIJKgQi2qVZXfD+sQ/W3cXwRwQcWdU9isMY2zH5lUF24PiztEECo8f\n",
       "2MPi3BM0oZWnT8MbBA2s4LEcIFNAXCYHIPr+RLXXHL+t7FFF6NiaXJhjWUittg64XN8bWMhJIG5C\n",
       "e56MLtSeihnlK+s/+TfkixTHNYboYVP30aeZzYP8DarRCgAqijimMSu4G2IWm6nNnciNo69JpVwz\n",
       "9FoxjePMkx4BUd8gDs3bwprdEPHG4HV96SRNdJ/0b92+v0plUdbtYKT9DF5+15S7HW9c2K8sn+fZ\n",
       "iYyLSGx7K8ufRVxRmtcPjdoRsQiLm8LTYt+FQGVtViJtAAAA7wGemmpCvwBR66E7SEw3otp/a3nL\n",
       "KCN5SSXHK1AXJABahK6fqYsvFPDyGlMMtL5DLANVlQh/ybLvT9VnkdEhaX+WDGpfhiszUQ6qbvwR\n",
       "6OKDgQEJaaijRaeglD2fyRQW83uEf5zfjvjlP6DGruF3YGhMXT0LM7FKRGhOP5QNTlE/mI5BBZ16\n",
       "vbclRxmbjIRpqVCycvDQlcyhByQViL2rluUzDjlKUDGAJ4V2Nt+ezGGPzcgBCTKR1Fmhg6u8+L7n\n",
       "vMs6qp3gdH4o86877rmCMPODomM24sPa6XRz0/+jB7xEZXE8y49W0esYXUQf5fEgAAADDEGan0nh\n",
       "DyZTAh3//qmWAGKj0QPlV2OQnOiDpqxgD0HNg5fDYFbW83GB/j71FzNJJ/tAzqkxT3/PlRFEYSgI\n",
       "a2we9/m9K1j2jD8Y9+TtNK4yj2dAd1isqZTLwtcaJ2byzj7UEe71LJRFsKhTgfvX7JnOsOollBQv\n",
       "EE2ChvddEpZr/x0GJnil/jPDR5DpsLa8mCIwYK42d5dW8XVLPsTgiOq3mYw5pReDQgrEO4pSq73i\n",
       "RvJftM4chWWJKrThjT67xyg/6meD/A1ZrR6+7w12Gzmgc6ad4s4MMFJAQomlMWA/R2jv8yJb7OLI\n",
       "WqwTKo7ch3V6Zq0N6qXAnmxjGbCoC92jspCPwrdAiGoL3ztmW6Fa+SVQWyWVJemZUu0eOU4+jhUD\n",
       "nKEcAynjubSE432Yky9UbSX90K7VrsgVg5lVok8D0IfvQZqFXnaBgbsd6W3mzFCZiKOptzQw99qN\n",
       "qWsq2nvC6fcUc1kd7yPdMlmYJ5iCouyMD3CvVFYcvm59QxThF/ib2AW5tndXtKoucCEUm4mh3+5W\n",
       "yeL7TRlgQdw0vYLaXoUe6gc2m0RqBVCq6k9Fbtqc1+s9M2atCgRhoCp+ZOk8m9BbHi8/uOoAUIwy\n",
       "RPd4eswpnq6EtbNBD9nyyraQC++LZO5++hGqI4LBlNDO9RJhFCLDL29UyfKQZxKgzeBD34qcXSVx\n",
       "BA4XRoElg/IRQk7WbakQszzU2oLXP4suG8tw0gJazZnGzoycY+A071eHutJ4s6XMrLND273gBEQS\n",
       "nHpyT4FQ5/VUYhYlTfUNeHKLePYNtz2KdSnDs8+ZlWcMWVAGXba1wHVZ8vyzZ0MQ5OwObhU3Hthd\n",
       "DXEW/n0oCs/gj/UgvW9aSoCeCfaZVz7ZxFNuHo42LI71hgP3U8gPe0cAM/A4dxIcVF+vM6m0lBol\n",
       "nl43sEc1vyp5n6zZ///pekNTlKt77sm/oh/x4KiGxDKa60YiUrjdvQM90UP9HreNhpscEVW+s8vN\n",
       "dHviJgtZDdD+eMvQvBHw3yVWaM7sVwRBgwaaYY+kbnmH6wAAAPNBnr1FETwz/wA8xYg2wtPwKsXf\n",
       "UDo1gUdim6meF1suAAXM/Zds9qee/DKLdXHulrJUzJb07QZnDWePIlCFW2EhgqWP4Ajd77C9lVLK\n",
       "PfSG+6J3CJiJcPP7KnSOoFgIHXgcpGpg+bNiq7jaOO0KrrAODbm9Bmv18EP9mBZqQcWqX+XdHB5d\n",
       "Yn70ZRb3xA2uf4dVYMmkaz+xKGDZ0p9uv/1uDUJlbmg1FWNtMIXQDmB9Q+sDJhGweGBq3YEMKvBz\n",
       "8BO4YBttv8JXDx+ez3kuA3SaQ58rg/vVycDFOcybgeDs1qR4I3ijDFt5JAZOSaPKRZm4KiEAAAC3\n",
       "AZ7cdEK/AFHYR7SChzT0ADh9ji9C6qPy7rt0uUR67PFArRS2XlutxBe32uWDocCBctajLEvFg8a2\n",
       "O0Yqe3Rmh9d64D3PFtCIoRtm9qzaCLesyipAn2L4RbO4zv6VAI5pWMR2kog2HgydAv3X32YMaDW5\n",
       "2iZh/IWPiexdiZA9VQF+o7atnXqxTn2rNAprAYTVevSIt9pcm6S3cvEtMJSpe+g2+YhEM7sO8FQl\n",
       "XMBlhvKrOTFSAG/AAAAAlgGe3mpCvwBxWWB3vUx1tV6Bg75Um5DaKEvf+b7QpF1TWCOIPd/92ivS\n",
       "GqAYQqo2BcXrNd0IymCGZlgIVK1bxvtfKNDhN26lizifppT1clwogaGVgaYZlQD6DEXoU9iu33d1\n",
       "Di89CD/hSyRFVFEmMgbVqjjR6pACsCfbU5EqTzu41ahXCSElK8ZvFbnrfCLxuo45Sw2CugAAARxB\n",
       "msJJqEFomUwIb//+p4QAw/CeaPPL+f33OekAC6m/knC4M0HP90tuaYJJJg+gzElOUJUrzs2rxKm3\n",
       "G9V0maoM1uRwgThmIOAKjBiYYqTpfihHFsUngB37uousLqUGc2n5ZshpJYdPNmeipaEsNy11uyfw\n",
       "r3LYCKdHU5Wn9zrkRk37HB7ArPC9p2Wbwq1LciWGTXBFxssACqI5CYsmSD6tqxARzQMvY7rRQyge\n",
       "ymhx3kpQtEBPzdBTf62Yo0bSsMKu/fivRru1is8vfK85UV3biBvv1pHjwGG+M9yEPIUMubopjyJ3\n",
       "LYlnyj+Vrkd+DkXvCEzS2BbH9ux6fQfYlNuEmkTrkcw3WgHaUEKQy7ibj/7F2ozzMpbs+ASEgQAA\n",
       "AHJBnuBFESwv/wBUGIcNmKor5PB6DUQWaFdi8mL6IycXzjM0zbIPf4Eff3YEu6/+vsh2YDZv38Ls\n",
       "sVaA/FCkLmqt6ypWB3jMIxEMAuAm9BUb3TO99ByBisTPHZze2ZJLjRLsYTR/YZso6iJyVyFOquaW\n",
       "AdsAAABqAZ8BakK/AFHp7uCHojnCal8UznE/979DCjdz8iJ/qkwYROfWElDGmzgYd4zr7jovqPV/\n",
       "VGhZzFb8DE4XV4Fo6leqJaj/hZFXueOLHz0cArhMWF5r9V9dv1hJfy20KXXIDjiegItZSoPA4QAA\n",
       "AX1BmwNJqEFsmUwIb//+p4QAZF6DjWABBTZoL0aD5samBGI+sI4xM4XPkpIDg8u9p81QRNyRlP7g\n",
       "XkxHzuFaMSDxQpWo0cXH3AMagZah7Gsi21lmcisk3afEwrGX9e7tx8PVqTfMKaGm3eCoEBxkcDLS\n",
       "F5NM37mhKTMAe0n2nJ1Ck2ZcvRadJ0Lbmf6r3yiTqrY1brUGCrjyj/MrJJa9CkoX/F3QNDCsc8dF\n",
       "v+5kbp58zQW3XQljNplOulOl/OEWT/kHW/GoncL2MTgLBmq5TW8eutucQ6HTNzlE78NAP3qBO+fv\n",
       "uxLIe02pY6yQDnUsZ4km1CILuEQyeEWmJD2JU+k4J9++ZIoz4hrxo+GUV7LSGiA6J04timBCNYHl\n",
       "mj4Gi6fA36FCJ+/MLS98Q5nh6n38qdAbSdI8cogA1J3G5b0MnX/PN7i+zVIPMVi8RbwpVOBgjK0B\n",
       "X8RDyovbVUS2QBE7+jl9q8ed5rWQ+mAbvUl1sfNNzwzRPIPFd8m2kxkAAAHEQZslSeEKUmUwUVLD\n",
       "f/6nhABk+E8mSrrXUAAnYS1AFKgpENIVC6hBDGz6EDH+rt2nXjfirjNBZV8Hgzkq29S0pin5m+26\n",
       "nxYj7pB6Z+ZQLEwbDjDqbUsM2GgR3Y1h6qfxzNMWYmVsF+BwTw6fK60q8l7EaViOutBOW35pWnAC\n",
       "24sMLBxf0vVS5ruID/9ofxfTkRynR8coAnT628BDUiZmwbjIgU/mQodwyjO61860PfG4vcRZX3sj\n",
       "ZNFgCzfkF5ZQf6qn7zy9WsWyT0AcApOLA//Ok94/BU11D7E7Y7C+O3ez2+63dKGLpUe/LCTtWqQw\n",
       "5uyW+ec4uAO/I8g+J9/wMIOwLEwdagwtfPTBVNdtvn114IW4FmtKQFppKL927JloLNBe7xCkPPRm\n",
       "ehc6iWcLd7kAVzrwk3tZIbag/u2bPDpdqlNeH6vbjze/uO/8qv0JJFlfBp9Zo2Uy1F3J0n7zy4rY\n",
       "mMJVaIr6Eyk1jpF3bGZDnHu1ND44nQEw2Dvhwry6/kEHikGBH6dDkB4aSDNx98oACV/8nxNufgCK\n",
       "jLxWTSmzStVz9RhfqLcJgkAku6rMjBLYcb2fXLTtfnKYpdMm6V/RLYEAAADAAZ9EakK/AFHwXiJd\n",
       "+BET5M37cxvVPLE8ciaqJ+sIMnjxm1BkSHc1IXXuwK9UwBElZW8fuGfw9XoB1ACq1csMcmS6PAWs\n",
       "39FOWgtSGZ6zWvRlGWGgiVV7jvNaPFQJ1zP5eLz/66X4If0k+9pu4ey1fmjHoPud3JPkjO/FO2sR\n",
       "2h8tWzN5irRfm2fOPFtvjLpxCR9tqWJHksJVqnf0t9z9hA6jBkOi0nsdnxqEqbuHdmrauSA4raaE\n",
       "l+YGLy3qe2hBAAABykGbRknhDomUwIb//qeEAGJ/o/R+3LNQbA9IG2AlUFMkUmiuh0UBQmVxJjWt\n",
       "iWAdaT7bHcsx3Z59f5JPqUbeJtKp0QlsItLdX4B6XvN/EviEc7Qp36peE6SRRYXhkPCG/Q8YOYhj\n",
       "B5K+O7JuHQ1yPW067WW9QiwT9moqfWm9UplJdxPzjjqQo5Vsgce8c3cUrF0tUdj+2ttkTwiS2wHL\n",
       "G1QKl8YRPBxT4AzfWGZpmyzuX/iXFoxdYl527pNx/6rIuyvDeZKR9U8Dsjqf0DdSuoVgJbRi4a1Z\n",
       "USzTukln4ttNj6hdShJmxb6sNDvcDRKT1xWd61IKRgJVk1xRsUMEU2OedWbFF4ZlLO1uFjZ79cbp\n",
       "jA5+xR5yPbpj2XeQ7KirkQX1qyUeGqS6glw5yH2xERzxbOaAxTwG3wO4oiLoTYbPDcYQgTp9LyPY\n",
       "kXpDgyV/Ua9xd1oH+JVPjzcgI+hGPuLJ6qZp59Q13nFwHD1BNTMxNbuD/jS6XnW5jFnBJaj2D2wB\n",
       "B9DQUbo4iGJeWgeLZB/c8doxASsSHRtMpKmTRSqTI4oVs6b3+1MgYrXd+t4FhMVzDooXMd+MFiEI\n",
       "PXeRpU6Xbfe860IDVyHhAAABikGbZ0nhDyZTAhv//qeEADIuxgBfZADdX3IwuucSFhReHpqh5VkF\n",
       "CjbqXuORpjA5URPyzmzodENyeNARAb8N7ZIP4E5XpVuZQG6swHnEJGryIsY8a2eijOfUsz1xYpNw\n",
       "8UmI/w0XbOuNfdMAOTCE2Zdh3951H5kFZfWn1Ab4yczqcxo2vUm8nveq9Gy6ynAAbw6YsfP2gQDV\n",
       "JJq0E2kAfbHNUtseZl0nqZFaGvz/WhupKbykV0fdfjMpUHxokPS3KwlYAvlSWl7GFTxDVH/7YMXe\n",
       "nRd/LCSSQ5UkBiUwZlH+s6x9dnIKuQzB1yqpzfkMFI51XXCYWZHgFiDrOsbpDTjKLN19YLkhvxhg\n",
       "ADG2VAHigB3ybzPmGhXgmXXNkw02SNF41N+cpW/D6hJfv24+PTCPIPadDM9Z0gHeqgQFmwgv2C5V\n",
       "SitMSJISh+dXqlLshFJFMk0+IROBX+aOR2bSXaWbGza88hwR3wkEeQgAQMVCwoelIPGY5e5HO2+U\n",
       "Jk+5dk/TFjzp/JIAfMEAAAH7QZuISeEPJlMCG//+p4QAMn/R9Of5t0yW1Y4sx2BcTVOa9y82ni6W\n",
       "2miA7DudjRQ3r9Omh/uzD1fWfgLKfgDA9djmoYq4fnKc2dWAUg3EIZwd0eTyAdkJVwJnm/DVYzi7\n",
       "fEECoG4h2IFgRBWdkPiaWAVav3rbYcZLwz1nTspCJb8+E41oMCBieeLbzTtr5Cqud6J6/vlmx5D1\n",
       "s8420pjSnvgVY9Kol3unMDwvWDbVw2YlLmHbRbtCFeMUfYIz4D8++KZIPtlNCJ1KJes5MgfFkHk3\n",
       "tkmNlJC2wHkCeKEap+oIJ6Yw47Z4qMI7AVmUrkvj4RpfzhlwHMc+gCvbSELoXDbnT+dQF1w8TnGG\n",
       "EQYRd9+pK/IqlbOxH+u9uRFQvTePzahoyajUd+m2xKjYJit9y9Pg83/1IOgANCQ71fSPgmIQ7LA9\n",
       "lXIWzG38l79cWqU/afBbHQLjA8I5u9QG40cgoXi8FWSi84hvUVLO1itOkntkUQqDeFHqDRvobsdP\n",
       "Q8/kC1VMePSW4uTNzXOEPXmS4gwatuHgpFpD586QIdTMuafKIGZRAFixMfTCmCpdV8W/xJdIDdyu\n",
       "Ov7WuMPWc/3+FuOsXSscUQElJWBIfrXsr3rlJQqu/8+qoLELku7o9cBpFCCK2UT5DB4ph5QxbwLj\n",
       "ubji9x9xAyII2WKOAAABmEGbqUnhDyZTAhv//qeEADE/jgJI1rqMXXcszfeH8TxAJJ1NhAE+IH3y\n",
       "Be6g6NP3h7sbKU9L8h3DnBSAV2rw+K9oOpWTMBE4Yqz0PPfvv709ugxgSUVWO5FceS7i1a/vYBnN\n",
       "C+qNZ1quBTGBdK2Tlwu+QeGvTj4tR6SrmYRJ9yPnViPn83B0ive6DAsNZZAzEbN7TS/55HiBd1/c\n",
       "DvPwINbnUfrC3H7V31Pb+f2mGbWH7fCPXqjZHgpBWOHaSf1FcViMS6lEdjT/7TVzj2lRYZr13gSq\n",
       "6Zt+v7I1wCV1LNlpHryn7wYyB9y09FpXTMhTw6hnbDSKUTfFGvswaLj0AzDDzR9hhvQ31P6c+QAQ\n",
       "QIi43pHUFEV24YF9NnBF+dS6Uz4sP8R5PUPMqchJcuKxitxPfvCwCrOrSxaN+yc21mspustxQ9I9\n",
       "ywAnCD04kY37DaROq/zn1WZ8w6UQp53Fy778zEJnTfUumc5MOSGY031nmPpMJluQRBmEn+2FJpSr\n",
       "VW93ELfl3Tpkjid9drlejU0ix0TqyyJhlwAAAcxBm8pJ4Q8mUwIb//6nhAAZG+wxj39jqAEcZBwA\n",
       "ENi4k7xZoUkpt0OIA7OyxKViT3Z6eXE+Hg/SLftSOhme5zew/uaRgu6U2yZJeb97S53KpNZT0Lsj\n",
       "8RfM8J2gqDYeXckoNgUqYAmYY7u1bPHIIYYwrBisryUMZD//90eTSDyMSZFWN0OrYDyP8IYnZjMa\n",
       "beMetJlUwQlqerxSlXJSAh148v46paG5Y8moJeJs2vmhcPxCNfvLrlK8ndzyH/Xr7/Vq3Avjhorj\n",
       "Xo3VvOTf9ukkAs3CB5TIM2B2ruI9gCJAaiIFnMIdh/aDVs2+7/3tWSxdJQEa65XWnVa9LVkC0vKW\n",
       "4dP0tKUQv+UC9E30MksrVGUMvpqGKKXl+T3yiLyplicrzr0an66MuJ39hpYBBvxh2RCOYRuh9/uC\n",
       "wMw3gj7firhOzS5kkf/CA5D7Y3+VoYBKbGRB3Je74SMDnb3B6NPJcFUE07JVQOUIV9IZkejpeqY3\n",
       "tUO/hG7hC3ftDktZ93Q37On4XM/UbmqQ90bhYVydeysvIHHV5lJEzTJ/97tcw3uWS8o4z7oWpPqU\n",
       "x341bgr7o63gtGzLWDtt2iR3XqwIj/rMxNb15ptSAEVBAAACB0Gb60nhDyZTAh3//qmWAAy3twEm\n",
       "w7iqg0tBlqGTT891CuIlxs2JD568LlZgLptJIvpkcnXqlj3K0FUItBoPYRGo8+b6WH6iVl1N+oBi\n",
       "jfNRmVdFOEu0+IfmmQhAWeeDTg6hrQnAGFAY+VP1AzrLHpCkhSFETaWq73HfOnpFj0ECdWoZXkUJ\n",
       "QIApdGL58aLFER6GHsH5M8Ct+ROyQtg8rr1f2/I8j8xehGAeS1jndrSKn3SivjtNlmnrG5sBgxQG\n",
       "eylLBud+pZlWiiBmfQpIKuv2Ah4Ve9WrjDCD0GidJEytR7kMrYIEdSTtX1Uq2FThPzQ1d3e34duW\n",
       "c+ToxJaV42rJKqKqQ9o6PEfp9hMFa5xAOENZiS+oIsnM/gepRqHtbQv8cJMGnPkGmr/39txpYPze\n",
       "P98CIZx+liI+9X36t1C385DnEGntnDu4lVzQigm6wSMWYr8I2eObxvWqgxvtHFbHJEE7c5z/rp1I\n",
       "I6AMPLyK8QaMcd56YZdf5K1Y/trZuOwV7ER4fZzzgkeVacRd6j1TfTkA1P3P9Me7Ab/wLFuonjnY\n",
       "2b+zD4MT1uZenFb4aoc3V1W0IF6wak9V2UEytr4KCeO/g8tcNvRHNKwx1Uy7l4sS04VMsmsOLD53\n",
       "jWyJBEufoifnRA3z+N7HLa+sPgZe+jPD3Nm2kGKVWuk9TiJBVU0Q2iNunAAAAu9Bmg5J4Q8mUwIb\n",
       "//6nhAAYn4CrQbnYxNz8BQeOPHlJW/HvVYImFh5CM2eK9UAIUjCMoN9wrGfMg1hkOUTjT5nKuLD5\n",
       "6+rAOwp7IDKbd6FCqlrScUcY8GPFqAqJed0Nfo9rDhEMl4hSUSGA6sX5KnNg9XHyJaXdydc2Xui5\n",
       "cNy6KrWbJz8EGCnKS6Fk8Q2EF28ex4VRbGGbLzFItgq3KVfdxJzF8szjCelVFUXfUdHJce1zQWfp\n",
       "7NsU7EspbB1wZOXxlbGl+1nN5BYDf5rd3q2uJyes+R8Sa5YvBfwk5cwx24qlC+m+mIPJLJtD/7A+\n",
       "gHXBLshXqaMkffNoP5pRWN+jV8dKP/D+B4A3RhgTkI89zfEUh7GvKRLZctEw76/NGkvtXyFL36J+\n",
       "MH/Y/hUbwp/2GuRu9yVvrmqMTpSU/FlEnY/OQtbU4WdIqFh/H/kk67YSAxrazg3MxZzKzxFY4OQQ\n",
       "mQfG4p6oijG7c/M2Xigni5o9pSZpBReKywCdNEtAfECQibuRs9F6zoCQ0OLAFEzMrE5x/+cD92yH\n",
       "0ZKJwjtvw5ao5gURKt0Av7r9cW2R6m36lppYfLKGqkF8ONeOtfXqhjay3+JIM+bKXed2aG8OfAGn\n",
       "vqPatq6j1mCIBn3k/y5RGfRqKi3BBJrQ7bx1ZU5b2G9l2+sQFFu0+W4jnEiKeStcsKKbPEd3f+vO\n",
       "Pm712AwPR2lcNq0IPypeouI2i5eBGIzp53G25CIBhp5az+w9kYfbUyH5IMv/5DuMxs0gu1GygKC7\n",
       "kzSJ40HH52+i8x1bYOPtQEdPGIr+l112EMAM5yF9O5oNVS2Px/mkFH+Ww12xWhE6ZiSPoWUStBrw\n",
       "gBKi2Qjhh7Fl4SX3HrCh6+wFgrlxBX45hVFqsqmypPy2QKMg6Ex5VxIijMtnXUkI4M0sUb6trNnb\n",
       "kB/pYPQIkXCc3BQwAsqF7pSfWvHUPGMJ/GeCoJaw+fY3x8kKPX5lDyxWwixHvYOlOvn659etXTra\n",
       "AAABgUGeLEURPC//AA5/vX30W+UPY7YTI5xWDfvSh6hlAz3nF2AA8Rx4WatnBxVONqC7boqMhl7O\n",
       "v6ycZ3S7KiDIwjme0pbdMYp/2RHxnT0Yieu10xbbGQa/o2eIfSZT6DBKxut9od7O7EdZVgFnWm5W\n",
       "3drN+lInxT8yZW16Fj//j+rMLWFiCTsK27DSekFn68CyCQ0bR/AQ+Dpd2sLSTWJDaJrs+AWKex0j\n",
       "Lped0ezrnoMlTdhreppYge/j5KxKmkra9OZ0ABN79kZP+ZFOnppX1Xd+ingUzOIr9ZV/v2Tc5LlK\n",
       "d0aiXbrmEhTYUmRlm3vXV4f+eLhffr8IIZNiiJjJpaN5LTYCxYauzutpzMouQS0iV4sDct7Nja9s\n",
       "plCuo0rXq+cYVHzmI5kZN7hb/IbA8iZ+WCBN9i2bEdIjaeanamVEKQhoW/J8YNPmpGdkdyTml2GM\n",
       "owWByIiOIPReP90T12GTdNWL/X2Te5x125v6V9EBXrgTdPQtwZHeBAYZJ7PLALkAAAFkAZ5NakK/\n",
       "AA2DqGM3IhAwcvZoYOTa9aWptLjxN0eQJFAA4rE+C3cJ6fzg75WcgACAx4EPa5RaB/2Oas3QeQXO\n",
       "ChWHAVrwkpU3AkvjcXzXdSbFjw8s+1vD8GWve2kodR5gnNdgO86soFXrEslZKi+H0Rf4HOjELsGS\n",
       "orBi1iAtTPCgjBplUN6tcmpoBsRd5OShHY7Y0123Rbs12SkBXO4SbzGXQxmHZY6UqcnbGilXZ/Op\n",
       "teChlfu9w/RrjrBRpwNaR6H/MBeDJQhlRoPYAFS62sXyiVwSarj1lqhoGB51v8A9uSxzpBlD24n1\n",
       "RUAiEQGfwFpShwUvw577r1b1HbU5kZuO8mvg0J6GGcjcRbgjkugoARKC/jil+lqmghYnpNnBcfcb\n",
       "bsFvZjnciNoooZxaSyomv5gbnGRZIFbJ1CnmYR6T/9UgXDtOxndFxx3Ej28i+z9mkfji3gGBdMiT\n",
       "8VLlUNLoQPEAAAFWQZpPSahBaJlMCG///qeEAAxPsqMrOrvehzxIAF9e8zlcUwdxXWVejaKKpCad\n",
       "8hCXEkuaYr7qwVmQ9qcyJAleSuc5edZUffFBFllmB6pDRNMVTdJdW7DBVy3cBRCc89i16RPxTUZI\n",
       "v9W4SM+UQRnje0hjj8R2dqjytAnTChMEYR4YyWOyy6yOldz0G8btqtBdWxK5iz3m6knRPR4rz77R\n",
       "tkz0ng/Y8KJJs4rOgg5XY136w82LcMwm3fniEKsAor9iT25mIx2soJbz9Bmu+T/Udn3EX11K1HNH\n",
       "JBNVpetvN/jgdZCbqV/MZ5/9FRHBZkJ6DT9G7w2oVwBo2/7vOa8SRSjRsu8672X7DNRBoYvbSe6l\n",
       "WehxA4fcvQQBeOpzcCd7e12idUlwBylNm0NtNZmLtCaS03tMOvYEWys1NW9gO0nfNTvs35YwaSTX\n",
       "Ord8aPSeh9uIOIWpAAACUEGacEnhClJlMCHf/qmWAAN5dU6ABdOYjK6DWa6J9f3qgbCyVagivVca\n",
       "O3aR6G5VrcNS6d6G6cd37KBWc6GKHitmjnNzut/wENO3PtJ5EC3FOXcr2Y/lBaS+NeEha1kw8gXK\n",
       "wlw3H/euVNmRP4jBNjAar3ga1c8focBDymdOIbZhFqJZj+kCXkXNtHMDe9RvKtmcJrt5s4rtuWzv\n",
       "tVQ9fG7WyOWBouMekbIZhkWGlb5qEqc5y6t0o7bzZRxSPP3Jz+1tn8f2MsFQ69zrS/+rd7VWxiam\n",
       "Z1SfEHG6CzU6XK/MhV4vsAcpOHjzN/2O3W49Q0G9VJDRhaONKEB/bh+x5Vdo3/PC42z0VmeIId6t\n",
       "P4/U4QwVYDI8xlSRT2N0O4BZCgU/f4p+FgzafMJ476/drjcIS4QQBJfRaFooqQuuMH8m1EyQTRd6\n",
       "/n4auhS+0dcA2bV+bMTIKnglrcW/T0JMb+4dCVGy5mDmgSGS2ZBLS0GVd21BpajBHfWadDRN46Sa\n",
       "jgobOw3JUgDi00t03A8rN85t3/c8Fu6AtN4snae1cNIWS5HWWqUpjqYs+2tBfsxDDoiSC7BtBPS1\n",
       "5MvlV3BOFiyOTp327A2aJGi4GhBnuHOUB0i/h18dt2Qe1Y0gNko1iLPIMfSKOOLJvppQN0evSMNH\n",
       "cMVG+0O2fLYJ3MEv2TaPQ3ROh3q5aBOVRtnKnG5sT9/buJ7ZHVtQTyY/HftCWhpkIP6i40XFYImd\n",
       "SW9TsRk8HHEoN5GYOnZKTvbkYZWpM1CJ5Ws1s0HKVPEAFU+vJSAAAATkQZqTSeEOiZTAhv/+p4QA\n",
       "Dd6KJKCry78AAVHWfZJhwYHGstfXoR4dEwpASNj2u/QKO5Gfhbzsum1nc7jWYNkv9B20Dd4f6Rqy\n",
       "1kdYRDZHlXd90MpE1SZ3XvoGPE4FpQD4Q4znoWASP7vEEQ0878pkUMZ6Uo7uJWiON4+2cYqMfdYs\n",
       "hp3pW0d9vdb6V7w155T1ydeTZZ3Sday5El3j2sLIwmTmTVcLJkDYT/gvNnpVp6RiXgGppbbOsVbs\n",
       "ioqNqrRXurUphrEAkR7Rwc1h6f6MPVsiKhFuKsV2XJ7Ne/AHGeACxkOAEeEwXx5DbqBw/jKIhURZ\n",
       "5lUqEcML2So51j6emVD5MBqrt5lfwgFS1hGu6904/ljvsNA80Yvjvex6EWrb+pVT9pW4nFXOO9B7\n",
       "Bn0S7JSEE77Oobwo/myx3hTUwdeMIxr7eYWbJuxSVF2W4CwGkewHMX1BRbnY35VEvg7o6YSiK1ts\n",
       "2HLB/vVBXy/PWURkBuRbYqtaCIX6bWaEeStBX/PJBKUJb5F/AaukEOcJ/kxRIOSC7wsh4alTVswX\n",
       "gFW746ByNYR1qgdAbxMN+hBp3mfH/mWxsIizk1WDZbm0xMghu/GG91Lma7iUlRTuaP2D/eBQNqsO\n",
       "n7IY1cTZc5ABXT0neTJg58qkkkm5Ernej86TcBglq5G+UrN63D4Cv1TmW6HVprHDd2iWuvC14duw\n",
       "m5mjSOLYT6WIRy6sEXOrcT66U8aPQbUWULR28fP3+i9Kz5iJTJWu3gwipK/p1DAUdOW4Aq9e76YT\n",
       "f5WEq6f9gQ8bi5auMqBpvjoAuTXNGdmsy45zVR+0dxP5+BoU55HFQcUcBtOACldOoJ//rGpXn9P/\n",
       "P287ljjGEgN1QAGv98lC9VyNUYo7uOhvE0Ouqm6ckz/buqopg+5JEKc0uBC2wUai+zKlSUD6uB+h\n",
       "vMDrYp6Sitj1cbvcV9jafPGNUcD08MQ6pRzNyH+ZVALWu5yPStE1KRcndAY+/mSzXmn8ma9iq9o2\n",
       "egZ7ZR6TWLwHX1EA9/IVMs82imjejrccpAPGnzk2OwyXuMgipRNPeSKSKGcWkRLs+UTvC1vEaxel\n",
       "Pj4f4Rqe/8MqmyNwWKXamMSqUUZa5UpARkZX4yfs6IrBkxvM1Wv15UPI0NaaiE6eEB7hCA0JdiM3\n",
       "EAFw1cgrkQ77tog9+d7TtmqG6s7jz6xfdkQ5P4Np3fXpNnbdhsOHvtsTpBgJOL9FeP5Q8yH5LLBC\n",
       "BkZwYPQq2cQqcT9julZ/vqGJSr14ptksouyrERiuUij+4oj/oZ9odJtv7V1zr1/F35uoqq4/BWA2\n",
       "v/0OegKai/LOC80o0AYc/eL3pZlTMNDWgxlx1t9r2IOdFCyDhYIEoy2DTcJQFw1PliHq5X+E88Hf\n",
       "FwfQ4a49VF/fy/zso6pimOGKJX+t8+bSvQEbgX+bRj1JJFetLf6e4Q4PlsrUCwaKj3k1yJ0hoT+k\n",
       "9u+xcw4I3DXfGQ2rLhKqwrUbQktM/i/DrLcTAi3hPPtzzmPZc9aTtBKrRb9aloud5aGCJJMts6vW\n",
       "W6V4CnMbvmI1Qa+yQzTTBQjTSZZAv//2FgHxrYoPIY8br9GVK0fdYdhmX9aL8g0d2PG3chPn62fE\n",
       "dUyX3IDODUW8yr4qVaWPY1dHJmWDq5xC20o6ryXTx6l8md6rNKDzgAAAAjBBnrFFETwv/wAJ9avo\n",
       "wl0u08S9usBZmqAD6oKYSxeW4KkP1JFk6ikE9asc7CEFHGeg+qaXESf4T2AAdd346hQlAEUzcrAe\n",
       "7yttTlWObJmpzBhq3iHdw2pFw44v3Zez4PmHq9vXcXk7TdqMhwPRki3+G1IB463O7+5IX+7SpsCz\n",
       "DJLDPhUyBhE35Ww42gr04BIWwkYAJgvb4IXrk3Q876w4RXJST8LwaMJQB4hFrbTTwI/Y0OOebOak\n",
       "AcRMw3h+lss3x1ATbaQaefR7BW3lXWlVIhlRgrEqjf9vjILFEa39rYqJo+qhPciPkHYcg3Fduc/s\n",
       "SjYkkWhu623hhNTQ/7VyRHcCNlc6HGJNzDfYfRfjg1yi4h4DkGEFTHJIzp5FrNgmDrcUCnrunLl4\n",
       "R4C1k5gW/KE6sOD4YeszY3//JYW7+7URKBYuUai+5JDbBQqXdpgmGx+jLjA7BeAFBdk6XtJKUqXt\n",
       "63OgKL3P2Ak5I5sCHVUCmLwaTIfYVqaq/YzeiKQdiQdVcBxe1VECpKpsqMV4oKGP5HTDqPCai27O\n",
       "F6IeMIJ62FTqhajkX5okEvnaEwqhqP696kifT9qliZ/8hWUNoqsUJZaSoKaZh6L3blZYAa07HBj0\n",
       "pqtmbpBe+wQKjNXj8lSq5qeyaQSHHyV+k0ka2ubmBAwyzB1laZvd3msqll+SSIK1oM4O4mKx58py\n",
       "GFQ5YPAKBT8SFVpj3sFAuuj6QX4U0JdTL/3xaHFr4JPIqQAAAVsBntJqQr8AEN2FSjXQxJH8gAE4\n",
       "VkE/mR5QOCpaqpk8DCebpbOLt3rneLptpviQYFeHE4+uLf1H8L56HjOxMsmnkd59fxRaxPpZW+0e\n",
       "fe/l/lK8xZgDjKX2kXP3lV4HBH9bsE316JTX7ew+NdgaznokWTVvRGNGqwKcxiS3RghKptMdJtSL\n",
       "i4ODgfqL/P/eghtZWrX/kzistncUmmzfdUbGTd0iFQwyKctcV2FFWYwUUv/c6q5ZlvyC3xeKUU3n\n",
       "LjY4E1bpqOv43PcEfIH9w9R71loYaau4OrOV7HF6qQFZDmH+l+SX88hcbJPRu6Iou2oY0VW3lKU3\n",
       "NyfF+pfenyyMEhkQIeUC3eG9MujykKSJd5ekbl552DAQz1Ge5RNRniymxSvcIvpJ48Kp1S6VPG2i\n",
       "jW0cXDl4AP46kXW2IWc/fbz+4U/GkMaO0enTO44i+rOldJjylr94vBuguAAAAs5BmtRJqEFomUwI\n",
       "b//+p4QAG5jw6ABxvd8uA53CDrw02pUP0H1iNe2/dPmdqISV3z/eIrbaxTgF13vr/xPHD918VC8z\n",
       "YskBIqwYpCxqAud/DIB2GkJRQxL4ywHeKpkgCAighXMIm6fVW9zf5hTmoLwZvhrR5+0UJ2/9HEAI\n",
       "wAlRYiV5dBaDq15175dfYgWLNmnX2/2NYBSvtgP9DNWaVnsRsM9iMgUaoDCgt+Gjk55BvNCxnYa8\n",
       "c4E/CIiDaAQRwB/JpxHoP/CuSOtRKbO0n/5pQs7E6h05SjqjrHiqh6JlrTPeGZXk2lUCihSkTAE7\n",
       "HEKVXtAMjd062LIRX4r7UU62W8oRVspoLiTAp7iIknTp0b+iD+5IfMik4hJjWnwSfbjW4/8jsSSd\n",
       "g8wGSt71P+HP9EyqcgSAzEW9XS9KtEuY52H8BRS8+xy1eyY81x2dXqntk6pU837o7za/bIAnbkrv\n",
       "PQvL1I3rwy80Fw9ttx532hXxq657CVqh9kvDH0gYO4BHmD+HxG9NoqRa9cYn0V195XCmfm66H51v\n",
       "eFlxrv2KHeo786nEvXu96vtiBiPl52jtwlgKtBwl3zqy7Le0cFfK8IZR4mFUj8VxYsx6T94rDw3f\n",
       "540PfetR9HRw/QRcIxkO4PPylYM+zJo8Wby5of1UYMPfLAw9HbSgTJPZfCjHfzEQkeNF2A70Rw+h\n",
       "+mUpCj+H2ehAKDh0q+GutSfX7ZfD80xE0rcU7FW5s8fOxvDWkANTjCRtOy6lx/CUhACSH+PicAP7\n",
       "KXLQpcm6Rsr3dyJ8ep5HHmE4LlPjd6W5dQgpfwPTlmHpAg8S+vathuh9rHGCVap3VXszdtjTziI/\n",
       "piog15rtATItEBBlqb8l26dwSAfCbYabKPkomcVocfQb/EPU/TKoRYRbxKSKc0pDQwbHP6L2TlEZ\n",
       "9uAOb2kufK+zlSd1HHDL2sldL5Ss81ZAAAAC10Ga9UnhClJlMCG//qeEABu9FF52H68cAGVImN0u\n",
       "yMfXu7Z8FvVDq7hSIUkzQWV92tBO1OiSm664u1Ic+mfopG0Yx8aThFFfH39rVamtAeVqaCu13zkk\n",
       "xLEgiMJEl4+aFOzlhSbE9TOp/Uhm/gURFV1z1DH5dtrkhSafngGffsx/05+TD6/s6B495AN0ZzmY\n",
       "nFmujTNr8bZ95GHHPemEW/fkZshH5bCLq3GE8PQ97xIx8OEypsk00sncdiXTk2iM6lM87tCnUjqA\n",
       "3EmPRnOzvly3AINPKbWlzBxVhTBuR8wzs5w7EOdSTB/1I9Iy26bmageXg3yvnCG9pTVHHb4w61WV\n",
       "7JgWKdLGhicVmRbFk9iB9utaHjNsu/2fhQ0wbpsysYMK6/oYZr5E4tVnuwU3NgUMP20NHxeA09eZ\n",
       "0yFKuBpt2vl2jpk29/0K70/LeZDIhe4MUnb+JEiqOi/DMAk3P5oDpkRp1A3mKynKG5HjLF15IB9V\n",
       "piQZg+sKsJ8DvAeWWxyfU63fOIJDB511+p5N4JbcZ65VuNgB63gRNqldoa9wYUs5tE0mpD+R7Mcx\n",
       "EuUAEP6yx2BPTwMhRyNMWFkLqgkeOnf2hoUYcC/O++lRAzJRXNuq4iB9eZigAfJRne2nAuArwlHJ\n",
       "2wh4HTeIwQpGoV9x5yMnEeJpPd3dsup8cIYyAuVx1FBW1+HZrNj9zcVlZoq1ccYQS6SoVbkqMFyu\n",
       "XaUFrR4pHRIJ0ze1BjH0aQjYQvMxlK18UQNkWGAWr1gfWWJyNDx6qnGJxmHLeSJwdn06NjVpb7EO\n",
       "9u27YMi2Zk0udByYcmHSp4y1aJqpy8zNLHfLJRlUQsYDVUaMR3XKkHsCRHCN31PhKdx0zHrvnx11\n",
       "7yQiwDBb7YLHVi5rqFis4dlS0s8VMrt0f6zNJVArcgoIM8+zFb3foWbE/lOWbB0CaUoHNfbuPywI\n",
       "OVbmJkAAAAMAByUKH80AAAKDQZsWSeEOiZTAhv/+p4QAKg4d9bEWsUgA/kfCrNbYMrGV7wMOI5Q+\n",
       "kFWS0Rl1mgCc8Ce+0BStbgUQV1VDF8rI5dvLCJweOg4Ynsd/JBx7RYJ0eyhLimKivz2+D4Oy5iwM\n",
       "ZIYR3PittBpDaoeD2Re8Kyz+H73unkdMTQLvDdbZATOQ2RiEnsqK4uOCk/xnmjpEH529rXWBVtXG\n",
       "3iSlIbO9wLH4GqSi8uxDaYse7FNIVLtMuB7MUAZwoX8Y57gKuSFxVhDuZ0OX4m5L454Im5lA+Vva\n",
       "7s93QAmOYVIhflvg9LbQKAURt4N5uaNzYZ/k7s78rmEnJDsUkw/9T67bbZIVKdfk8g3NJIgebTj5\n",
       "pCKJ5n1/VVCvkKQ8HUjbfQtGYtT2nO3UDmJu7C8537VIvgK8rz8kZDEMHAxIf749xlwTJYbLF4li\n",
       "2mj1fHw026f+By1AFOmYUvFFkFbIqDjmD7BaQH79TkvJggaGVOAPXmWlhywZS4YZvEQhAhZGjScb\n",
       "18p4x28dBAZT7RD9Nb/LhSMbkqQ668vIqCPm0GTHdp/Ex0uhBxCA1to1qcLUWFnKiLMMY0RX1gfm\n",
       "byGl/2fyNfraSyOzF9hMWppHjwlLIj4IU6LknLFm/XB+BQVSunXPcE079NLphotCGpUXLOc+2/Nq\n",
       "W/jnuC6hg9MspfqFlDzjfkUxrF2c5qauj9DlNrqkKsINg3ipfmC0J8T/6tWkOnPgyCef06rADZUq\n",
       "Iyn11fpn9u8vLVNgZIDe36/0MlNes4kdDSXJXAb//mAPxiY23WAvzW+nbo2eLqV4E+yAHt9Tz6qB\n",
       "VMJotHvLET/fsrC1IVOWiuS0Dj/dmQjJ54Dkd7FR4AAv4AAAAnpBmzdJ4Q8mUwIb//6nhAA3MeHQ\n",
       "ALquOMTNc62GOlZEEh9GQjns4zLEEWuw91LEWI7JQSjt3zmurtLnapTJxwyZArUnCHBMs+bcPFiI\n",
       "TaCUVfUYMbby5j8yagu8t/0xavrUfsGU4tkQD2lIqDUxb9tUPWaVDqoJWBlbNSQRn4HdXEc1f8E5\n",
       "3elAEEPngJeRtmHk0dsYuHZr4nuYQX9hF+VrK+cEhLhK318iyfQx3x9wx9i9T7H/Wqs3nlf+rE41\n",
       "Nql0Qn+Bz6/2vh/92sm7I8j7kNoHcIJt23+TmPLMXpGwPcGwdFI747N1ye8SX4x2AdZ4oLSg+2zR\n",
       "tR4oevTCCF/h6/C48HTrywXgGYTu2Anlt7J4NxockbWdjAdSBwPFKTvdxhG4vyetejEh5yFp/Ks2\n",
       "gc6et+1xT5Z3ZvMHPtC2y54sh3V5EkcS2jDqVRqQ9tsGrGHa3Y3jJUR/bNukrugtiaInjUE0Oi04\n",
       "or3dugf3afYApwK0nqT5+pgPEf6yM+FhrYB5lDYtqx+3DCvsNdYs/WvrVMRIUBTSpqlSzj2zwEdV\n",
       "UyGLWfm6HOTL9Kwdv636bicHtwltl/DVl2iMyfbJDkS6+5BGHxFEA08qq2dvodJYbtjXGc/BsnoO\n",
       "yY3wV7kpCl3fQD6ZAirb6nu714oQP+6WUjdsassHHbbSTaWxkidEY62Qqks2fPIbXt04kcOWhbwy\n",
       "deOCBOG7pFUmfuxOWCGu6LBVLIUMF5j9S6BMtfgf5xtJK+of7UY3Jm3IfCfiHC368+PBuhdPbLj1\n",
       "hKUw7TIrm3CfQs0B9CFBIBhHMwoTvFKoylo3BtwBgOrztJXTaYwhG4rBTVFxAAACikGbWEnhDyZT\n",
       "Ahv//qeEADdR7sZyIARaB9A1SkxGvngTkVSkLml/HLGRJvF7t7fvLv1YaDTMmji/R69JvcBVDXYe\n",
       "4h6x01hdVtU/KnAARgpAXnySyzAmbQsoAIjQD4dJ4XanLdUzWSiWx3Jb+Xj+KOk3QV9rURzmX5CF\n",
       "xRPR/6C5wKrL+GrOBNP5WGpdeH5/9AEdVbPpQYh62Qqb1TBjJcuIQg6dLTMnIRXRsmjYbhH2BHHf\n",
       "uBDQT0r/8sT8AjlJoDCBXm4rerIevXa9rgN60Yme8wQqp3nvQISx5isTwhlFrVDMymE36UuMYXpZ\n",
       "kfZ2Z18WjeI/Y9qlMwhEofSz+kctq3xwtDpouF07gG8tGIroci0/MGPQ8HS7OTd4NRlfidB1hbnj\n",
       "l9wbMs6rYh/KlOJY1dXC3vtqgxR16sxl9V15djXCl7OKTFCK/TtQ9dKncQyVE64lYaOrU/s76uoK\n",
       "DUjgAU2PdMI9n50E4+8ZSs680gO1rlfZEA12aFpMthXiuTlrVxcNSfnAlb4TrBTjLu3Et7hQN7sK\n",
       "/+GrIw+w7Hx1f4a63l7u+kQeKxNPR8mxW8jcz6ysRd2BrGOfsy563+LnY23TeXYJU9sBy3VJXM6p\n",
       "RiCsNdWFCX1ylU4suNWIM3aIra6EH/ihq4TZj3FwNEKmYTKhquSuscSXuC8UwZcOWWgSAYSjXt6f\n",
       "TgXXN03LVSxbz79CK1RP/Mu+Vp5D1miT9b6YzdXhsZLymUWi/AObL2dBkUGY684HweMnpm3EcYYn\n",
       "5Kt9ddfbuk4DXGIMkMLJacnr47i1L6xEKjC+zBAyO2AhyfY2Cto8ftvqJ0s9xWZ2d5Jni5NWLmq8\n",
       "OM2fJYIDPdkBrr3a5kKXAAAC+0GbeUnhDyZTAhv//qeEAFQBDACbrMEFsma4jwJ/DsMZaWpax85g\n",
       "ZmiG8TlampteJgKgmtgwRvM1z8OpLEE4vyucCqj+095GUII96uGYEp+aZKWjuWxoCHGZRbG57z8B\n",
       "ka7cHtKRd0kvySJmuhNKHdCeSeZnjLtCkTNVVdymdvkavRNtkxSLLBySFK4sxazK5S/PP1WyJ5Fh\n",
       "+1mqYKdDETXKQwFJndWtMEsxpGq6k+Clqo7Gyz1mZ0kT1ffOddoUvjkd7YR60sJ8hRy7gFVoITjB\n",
       "0GiZMkex0mJWGnECoZiUqU8CEzSAK55gCixbTPUgn7Rx9CE+Wxomr8FZGGK78dVxwNJoSIy40uof\n",
       "DZUppxCwmaDn/88SlauWX1ZccqQ0+Ov1MWtUYEKddRbNkZgxjD79IYslkQFsxlXrpw1mWhc8/yq4\n",
       "Kc1s/V3ru98IEb/piSI4/15UomzURe9Mp0F43SUM8WyqbLOgnR56g0gBEyhMA5JDO/06XYtWL5kX\n",
       "QOAwXdRrqkiIXl0xjkZZNrnByF8QW2YD3dhv7B5CzAxH05D2K0HB6No5ZxQyrYhVV5wdh8e/I0OP\n",
       "SyN3kQn6YQJffiVaRnpJskmBRkcjn2uwuO+MYPKoqqhk5oaCw1yNbpYRogiy6U9UC12Alw1dQBo0\n",
       "HIR8bfFkuJrB1/f0MoVR5FXoz42Sgi8Nh/P1l/9PQuR0p2eev/kIIhbbd/OeobNuFbHCEmpZNlvm\n",
       "8sQQBxfoKFtwI6mu0cEyVvqfWmg5KjmLvHMjcDpPZ2sMpzPYeXHx13D3Dm7xiSb35S2M3mT36GhN\n",
       "fHnbsKaxWcU7NDrc1pJ+N45gKWJgcHZ99a+I97IncKUOosTf76eFzn16V5lEe2aO78Hp0QlcGh8c\n",
       "2bdixwygwqXw16kRLVt9tyXIFyIL1VQ+ua1vpg0vJXWB3yD/r5VJ1qfPaa7viJqdOyG6zgjE/Kz3\n",
       "sY5YETcGCeNb+OuYRtr0aYchcMpQRCNq9ddVYEwdsTNlsSPknAsDUYUAAAKfQZuaSeEPJlMCHf/+\n",
       "qZYAKlugCymAI9PxD0qqKidPcdT2uGlNv2JCprD2azqs+m6TIdhS4aqrf0RvaJJ/j5YV+HngJaXf\n",
       "g0+1H+4Q4urLoRRWZDT7u2d0zG3yr9FKec2rfa+PO6TxEKI9Vkg/h7Lk7P+a2+4xce89QqeIKgo1\n",
       "mw24TaSqNZ5JVo7dPMHA2jVfyeNBX8fP2AmxnUdqRJtnm/NsXYgfV/nI2cFSd7YmmeFLJeDGGi73\n",
       "NOfhO6ObwlqhRJKwpBAUrWC5iAhsYMB7uJPYsgpv3y+FtNZdwuaQ5mDXT0YaZW2wBIPm+3V018YW\n",
       "FvC6KO7O/NVrlgYIFIcZBePyx6Q46GSbgTzQLfSLIvk3ZAmhmmrRKvCZXDxurS7e09h5zBa4A3RF\n",
       "eykJA+PFl5ggi7XlV2FpCamEh4WEl1jYw7uF87HR3/LuI4nkBiMIk6bppdx5UtHf5K+uSDc3dUJl\n",
       "EHgs7TULnOv/o0ufI2KhcnEm/cRuBsJ5l8er4dSZ5ZhlCoXsrcpbns0LAbW/6qFPAnNo06Hdf/I4\n",
       "LBGarkgPRmEq1gnDnonXq1FOb9mEEw95Hq21CTBVItIat8ZwzGuUNmFkDH3Vr7LZjnkCx2qD5Tli\n",
       "q2P9jCSkOP99KdjHqgcglQ42VQSvVz24B5ogLaruf4ZlQxZSXkPtYLlghhZyg/5ZnIaumka6JJ6f\n",
       "fn/VUr8VHPLso4ta7v/UIt5ywJykP6RazpeLB2MTkhe2Our3Ye+NacezIJNlKVvYtiSb8KIRhzm+\n",
       "ho8G/ozzHbWJrGUsQHFgFe/4C2cjBZ+YAm2ADx/0n/Rh9IRm7DqyHMfTJCnXWxilv/uadJmY4zDd\n",
       "SF8nm6Ik2EL2cL9Xm4DBrNDicf3fOlKtwELgHxUhQYcAAALnQZu9SeEPJlMCG//+p4QAbmkCOygB\n",
       "0rF/Q4rDAt1nGA2fLuze7qg6YvFXYPdzKAgjMLr78NwmbMFiQ1c1A5DQEkD5DrZqIKUfPw+GEmDw\n",
       "tcqRrj7ELCNB5RFKU3lGlOOP8eQM3TJ0SDTv98tr/IC2WUJOJKVpKmQumglq3n9ahCjN6I73nJ2T\n",
       "7KfzU7YNmEIWXBpf7Zv991JBf35buFj/TVPx9WhXMECZtdOdeDuOA+Ek4Sgxb+0HyFcxSXhamYu1\n",
       "/vQ491vJchvHGuA1Y+XNWuUYScqlK6nubVJOie/wW5Q5ViDod8X7UWznb1k7fepDILUHTRcgcBBS\n",
       "67rKXUHMJRTh0cqONPXcbZ7y1vXDBnC5gC6gXEwKTv1+CDjE9rHlXn6NGd68KGa9vUIMsycbUP0S\n",
       "xf6MWyRA59fpkvYnOSt+NP2CPiX1yQohGRhFojRxH62gvjSTtOzvg4eP+b/FzAWepWDisbr3vLLc\n",
       "QbBB3Wkz9jrkS6tS8KDKFgXMFhDKeceSwVxEScXkdPzEaHHMT+FCDe78Xs0C6MtQJMF20RnONA6k\n",
       "0em2XeHV2v3M8cC2KUvxSMUGcBz4//YQEetpnTJ6UGMGiCxnqoGMfhLjeKzf4D+tdQDIPEKKoyqf\n",
       "L78NOm1KfYPSVq3DmQzASfQumrK+WGz6g4nyuRirJNrzL0PKeJ1sqhT7fGwFSHrwVHZ+v4pBQ5iw\n",
       "ictgwPThsTq8QmTL4i9vTlFUyNhCtRCsu27OHwBNNOXGIedPlJ4e6AA9ZXDHuWw0yiA53KyFxLNq\n",
       "yTaiVc0n10PDKH14tYsXqJTvokHz/8aWQOJQlUawYZVGE70Ke8MDK7xZ69ZEwTBppRjya7lUEibJ\n",
       "XJDp7ICpluqWNhR1UdUu1jg8n3bCCLXb7gNBwTSdMvOAKaClQkHrN368D/zQbc6O8lt41JTosjV0\n",
       "mr5ZqwHvIojOIw1/GktbqTEamJTqa9H9x24R26lr2BiRQFgIC2gAAADzQZ/bRRE8L/8AQXOo03gW\n",
       "q0n8FtAX3Lcs62XRFxropDH3Q71+W+1WsAAseGIYixqdGX9qbuhpvEVRWu2JdavC2BctF57ddpgC\n",
       "twnstJmbj7USpWOlAOfLbefZxFNQY1nzkUvdOrey0Cd5Rx+aqz9dEgW2olxG/tDHR+dalTH2/Bmh\n",
       "TrDGQDqACXZLqWv7rbrnQ0Hd8YxTTcXnZ8mwZXj/7y6NDfcHXw3rrfqWwUS1uEB6cmPz7IQI0m5v\n",
       "wdgfyzvT4dpgjuYVlrYKCTrG0N0JN1GkdvaOj3dza2+nSA26YAeeOuRfkW/LrL3b+mCe/U/NQOHL\n",
       "AAAAwwGf/GpCvwCC7BeOrMKuIG1y0Zf2DoAStBd5bI7R0fxZZ1hyn6Yn1wY5dzoJ/XjuZAOWR3hk\n",
       "v9siFpXZ0ppCSQzKN19P/jEp5UC9SG0hyfYVpQSD4P2tlwu6zPUuDGKawVF+i+vRqwP4LmnQtExK\n",
       "GYRdQxIwO2TgqJlut4wZyhkpN4vrj+dEj2kb0wiQl20cvCGg4+6hxGp3bkCp5CGdrImO2AkeLiTL\n",
       "nUyQnicdNIRQjGv5kg37doFSewB10IiAnr94QQAAAYtBm/5JqEFomUwIb//+p4QAbml0rSAM3t2T\n",
       "ba2LMJ5FhEI7jlXkmq4U/xqkzc3PV/oM7vyXZFUCJdSJGicFabCkCSv8gYAf2JC8pOCpADuOmJL1\n",
       "6apCC4ZLDeJs3wZbRQYZxWACOnNqW3ko5Hw+qRN4z2WcW83X4pob1sR8UCXN8cImkEEAZ2+xi1Ep\n",
       "xaed5WSr2lWflE+0yuEfWXlVlHlkIreXGzWkt+LCUtSq7bP8cUzZvHQMbIlPBthJBLoaN41Sh1Li\n",
       "fScczLtPPNrf1zS6+oGqVIGJuNdaztLhDypMU54Dp06pNxVadWpb7tSeDq3BukD+EKo4bmH+QRPN\n",
       "geActwXVN5gX3yZmP+Ig5cQiK3GF+dU+qTDhAlusE51yXeuYiE23oJBCNVoeB1o7HX8kNkuu0pKi\n",
       "qDqif86XAkWfx+k//5xTfawZxtsdvWgq0vf8VM01M9CsHJl5+OcuiYX1CxuHuIyHNBovL5eGNAlU\n",
       "USWnaj7Wk882w6ZJCyngR+nS7bLrHrZ4Pkan/AAAAMJBmgBJ4QpSZTBREsN//qeEAG7dRUdFmnQA\n",
       "toH9fw0SM3n+Gc3nxgA+nDpZfO0+0oPAy4LG96KyxBqPe6FPfCe1P1RebblVa/AVd+NpWTLsWPVW\n",
       "6H8ZMI4lHCUkBAM6V4YuUAbsGiz1h4sAbSQwdhYLn0sOeUP2o5Sy5EmiIt/z9hmH6/IKfieMIube\n",
       "SaC3flMYXqmuPDDjX7/2O+4vGgOlDc6Jz4+PkzLMytZalxhwjyDQQxRB+2ae+SamyoubefgIqAAA\n",
       "AIABnj9qQr8AWvrR5wGOchhEgBInH/ySWjuCavuKx9wEsQD7XES3wfRoC79SNKieFi8mdQr32Bfl\n",
       "5oOMdNxN9byGFZHS3OcgyVKPvd/sYS8A5IcxhtnMzVRdvI1V3IpvyJgaCyqgBtI2F1qeeS3OwNmP\n",
       "oSLOEypIxxfyOYROHYyBPwAAAP9BmiFJ4Q6JlMCG//6nhABuaWO4QBtiJV+pIxKbp8B+gQlHhuri\n",
       "AXIhXAScnmDqbLbqS7aaeAoF5AGTGl4WIMdFeyJfbk1fBktKBwW4teMmhcQmSm1DFd6deDLZEQG7\n",
       "xSDO4hI3dr108sBUvRPK/6VF9HwD72Hej+2oeNIs3aXyvJ7/WXlRk6VP5PrWQZl2uxNFJX9PCzeX\n",
       "nZhBaeWkdcYSrD1f5a7xpeLUJunO2YI0ksF8tTI6PH0bl4zd3WiDBoTvXhSdRr+nAk6p6+qrYto7\n",
       "TdWVpM/9GQvLenUXpVrYJoabPZw1z1B3HOpWAsWHkdEKpZ7uIlFlC07IPz7Igl4AAAE9QZpCSeEP\n",
       "JlMCG//+p4QAo/Mu1NQn/0zuFvvmQQp4AKronRWbfrkUXo9Agmm7i5aHZGGQG0yr375jXnFcJS/k\n",
       "Zu8q9XRx4rlMEMHnvmGWpn+xmNqZOF3/JIoGUvu1MqtCate9J/YTvzQtgeWIz4a4ZawLlM1iwcoO\n",
       "CV/SoP+lCmuNHhTrlYIsAgfphx4iESVdEKE55hpMGQiAUQcBdVsLPNWwMA3AkyLJJ3nAPNLwnFbO\n",
       "a7lIhwrwbR3FKVxt3Ty4w8eaS6wFtjPrT+mGDofcBUkF5DeUVCOi5XfNm5791Lr+RGewPPm+A/YZ\n",
       "f6kHQAGoZ2QWvmLmq0iMh4VRfZ0CH/dUxTmcYOE3F9zEcX1yILm4/MKd4KKKiCD57Gipyh9D3QXF\n",
       "70g70s7k5WEkInkGPoq48Ds7Pc1if/R1IS8AAAHwQZpkSeEPJlMFETw3//6nhABu/ZmgHvJ8lVn+\n",
       "4VsRJ+TKRyrlTYBDCe9ZrPZHpCquhVZ18BAXZ+NgudyL1EHph/P3uUKSouUKnTrEUhrXlyf7elG5\n",
       "JYMkB7jJ3/1ToP34OX3LrTaY8vgapTjeHGz4dgCm2g0jZVyGYvT8pTcOxuarVbqD8BJAqYX9x6DE\n",
       "Wr+HtbQG3+3/NDzlCESy+FnQavesxkNQqN0TASwWn6PX8NQzwR6/vhpJyyrs+TLmzZxoD6fnRC1h\n",
       "U/RdKuuE2xHlFwp9eQDa1ecNuNlopS37zzEsH3RANSZwqHIHzKjDvysZk9QLsvOjjCPDBzMghiIK\n",
       "6KR+PV4OedhQ1jJxOzBnkT8BaHqJcGghi6NxVzv50nOW6AaT7fxFJx6HYlD+zT5jl4f2ezABEvO7\n",
       "CRvhdiO1fmyjRef9ITgCDMi5pmIlqrbCaItMAX4XTedbAAAKgr8bf/IY1MiZHtHh0swHpt9jPzjK\n",
       "duZr0Dpf3rr5YXYiTDzdTpNIHEP+Ao2+p1Fk0WHxLXsumEVrjg9AYJY8sy2vm5lfRpu7RWlHoPM7\n",
       "Go+4EEOGIrvbVuPeqlXk9O/1yPiyhNLvCkn1Dt0ItB1QeHDF8EAx5VRYJR7wdoiDftPzF0fhHg7z\n",
       "yKQK79hUJ8L2vy1QUAAAAMABnoNqQr8AWtqiya8YGgKoDuI6LVtrl0s95tdqWF7KmPaLOI/U5FWV\n",
       "M+JH/b7OsCWliftPD2A22fb12oIxJXFE5vhGfZBxGIzmt1gdl/g6gJJcpKZj/n9QM/wRt5vgAFlr\n",
       "V5avTZqQMeGqx9nJU/yJwewtN1kKn1/SuY+fYIWNqPtmjZ5erj4UIsqk+L3YOqG7LRzfkbBiYPwi\n",
       "wUebkYZeo77vBynITP5GYlf/beVlkPZ8WyhyvXqQg2MHWK0SYZUAAAGdQZqFSeEPJlMCG//+p4QA\n",
       "VHmXaEwGssEAFJjrv3sWc0Id0BWTT9Ed7HDHnzb1v1UbjzEKO8U9fJjOrlSQXl0VkGwFSWuSfayv\n",
       "w9aZedhi9rZL6gdr72U1jwKo5syD6toxoF5JIoWFy2TY72OqfdMCPKB/aKen8+v+FBjMyT5Gt4Do\n",
       "JY/GX0Sy6JjN3wNZovjBx5ryWPAQn1yX7GWvpulYuIlUw0jpnEg66MFZl0BC8Sdd93MA1fp+WtBO\n",
       "HVRDVi+rtUZ37Jo8Qg2fi6xRWrVDIWZo7HJDhgt5przb7HTzYB9Ppn9+EhoE6RK0pCNbFbPoryij\n",
       "VF95Bh/VygSQTg5aUkN/8FIzBdBdh01UKFQaawprIf60T4oSna1QV+o1q/4lZSgELQVXw6UjgDHs\n",
       "JlxkQ2SeZfcmPfMXY9k3XJG2t9bAmObTj/R/aQt88NWDP/OkKpBQVVBUUXr69hUwePNl6bzUh6f9\n",
       "IBbQahXUGogcu7VNGArCMgZcFDLnI24yB7slF11+Lb9DANzsfFEipE7GHwB/4gv32tnFZdIQqacA\n",
       "AAFJQZqmSeEPJlMCG//+p4QAUjmXamoeKj8lGpbSTwARB7x1WagyEAodquqZJoVhrsZXNGQNBRm1\n",
       "JGlJo+GHPJx7Xetw0vG4eE8T2AehP++uKZcKO0KvH+uyRtdVC8FhB3gASI1bMx+dOQy/61szFwHa\n",
       "76SFc8kFByvyYZwws+tnVzNZcL2+K+bILwUQ3BwFx8FMz7G8KUDWhSP3alyrmzU75N4lzpoflyU1\n",
       "E8sSbR62/FWyKR5fmQI5m4cdq6wkBk1Q/CPbAhiTg1+1C7MpVx7yArO4012b7iPliryoFpKfmRNk\n",
       "M9Clnbrw2nQhddttLPmBxh1yvf7r6ZdBazfIV36BNhJXlOso4JMaT7BrnNGmjYNy7VgJzexsGilw\n",
       "dHDCizJSouRLFy2VU624y8fQjDnYFcnErLYUg1+t0PJi6j2mH9dC70kinr178g8AAAHLQZrHSeEP\n",
       "JlMCG//+p4QANykrn+L5N7dK7MJ5X/12nnt5MgAXSWhtjDpsoi7leixn5GsPuooENnFenfGa6noa\n",
       "xjQdCpKqZIHS9/jjW+V7Ji+REAQhmbd9rWI0+H9VAFToBa5SVw9CW05O5Cue/NUUivMKScR0spEQ\n",
       "OZVFk7kBOqxSbUPGoJ/kf2RJ1cS/3TPM1RS7UoYg8tXhY1u00FVf8cm9E3OBotW9VtlxSyMofnuk\n",
       "CHi0jzrLiKtF0gJns7qGELKwV/sPFPTc+2q2KM00u8fJJ0x9CUTHeh4lyh4+xzd59Na4gLL+f7+m\n",
       "p5/AjqCuLLWRyZVsjmA9PN+oZevZUIzQflHrIaOFy3u0h9uclytnrgHA5cTYk2OEEtWJT1b7040c\n",
       "WdQSRkXbDUgEKHQZvNXqTh0CNzYjuX3FVf024IMFECqOefOP1obWzsW/Vf2fQ8/ouCGM3KN+ifk3\n",
       "d0Q489BscrZ57XqZ1vaqIQ99rhOUZ7PATVqhB9OtGnl/C//09IwC2xeB9wzDYKLxra7FFob3hHpL\n",
       "/yTER9g8HmacO+RhMVKXBHzYatraV82ZjqIr05RH7EyJScbpZ7/NPnPB9txeOMvthQ1posFlAAAB\n",
       "nEGa6EnhDyZTAhv//qeEACn+gpY790fWSwBeyczcAmqGylGp3uZgwkPRJDmPRpWH3QHTD90M/dLg\n",
       "3MlWiRxvg4y2PHWl5pNUz7gZjU4sw5aB46v054FmLNoITKCKMACDY5mnNPIQQUmFtu6XK4eBrxyp\n",
       "Xdvj6EBXqQXerjTTND8SI8//D4KCGCk674Yg45oeNBRub9pUtUkfEJsoetyJ8mmzjFLoKujol8LU\n",
       "Z9sMnl/SuNurOCAubwCgHmrRtLdDyFVUyuneqwjAGRDEEXjkkW4w5H2yIV3t8TSmi7WHhOnSZ/7D\n",
       "w65uwaZFJqx8Z3lloqSE1rlY7GHHmB4nqCkuBkxNhgxJII6iE/aHIteZx7r0YOf8ATAGzZ+siGxQ\n",
       "kOT+qEpsym44O3B+keEm9+QpEnpPLqLQzHDEn5OahZd7Ff8/8R2yP6ILScF7BzT10Is9ltgl6S+u\n",
       "gM5rG1ij4RUru0xqpgVEqWMV2VSVXdPM3hcEhTCT+EkQdqoik8dlhFAc4fZsPCpT6hvyRFd4mdaO\n",
       "+TE5mNpTAh6f6gFS4YwAAAG1QZsJSeEPJlMCG//+p4QAKRzLtTm4BJxUQg8QAf72eBQyYKOCVVz7\n",
       "VciZJQvTZ5CM5XDyyeGXXhsBOu8CtdkrkGLsYglOMCcR2OW1RlkIdpo38DgsccO9tyeREw5NnXp6\n",
       "dNC0CMnHJl7WDADoQvQ0en+0mxtqLlZNAE8Q9zN77r+QcRW1WLhjd9/Lq9uIAM67coSzF5ftJTRc\n",
       "murf7Xpwx1OwanBWjM2R/s66jq5c/voHHv5p6be5gxoOnmTe33RM44GWGjY9+HbzNjfLGTNNx6Cq\n",
       "Fa5F6jBB/zaEh3cPpofiZ4HD4Bmqmu/T2kLWIvZ1tdB9rlZd2R1vsalggO90FfugYjW/EnAL2SO9\n",
       "L4Qyc8OzwECNs4yu1x128io1+0SWr67L1e+ePY+K8WnTiqrendcLRvCfbIu36oVemwCrN53RQUS9\n",
       "5Zq3qliqFql0f0lxVGEEL6QPhbtYoDldPSl+k3UzzulWuj83tc+oO9A+GUuufqBkHThTPnUeM73E\n",
       "hDqN1HUjNadyZNw9NGcPiuSsvXrzEh/rYOcDDkfiyBvufwrIwZq2DyqixWyqsv34f/9BrD6AqqAA\n",
       "AAK0QZsrSeEPJlMFETw3//6nhAAbm6mKyXs7KVDz7lwH2HomFgZR5UgA7M/4h76OGEGpOhXeYHCj\n",
       "Vrd7lMgqfEpJKkk2/UyzD56eQ6SvNCZwxPL9GVHGdo8GKYx9DHGXamp8VbvJXWNbXITnTqFm0fdB\n",
       "PCTbamvCooidN1hGg3NwXICHqSnzZYJ1xNBi5Aow5Xadl/iGewRqc8WY6Jzq42LJbmDvuUf4QupK\n",
       "bfbMWB64NaUnk0UFspRHzU5AXovPFLEx/fGBU4gD2Ixovbsi2w5TBxi9OOgSLV9sBqm8ocNmjf2i\n",
       "vt+8lDoYcXAyRtY5sp95z7C/6r5uCnNTUsAOv6tZOul7yo3MC9ixVlTr3EtA2vAE8TaJnjIhp/Qd\n",
       "WGON7E52a+E9w1tYXWt32+iBJj1PJfQS1M8ZqpyhTCjnZPDQ2j6XwGSdySuz4i6CQ4zN5mguaPY3\n",
       "mzAbTKZj2G28nltNVrw9ThpQb+h7jEremx92jNb+iV1drTDaHWnZe6n3YjbMlBHG87PZkoNS0wBV\n",
       "az+nyQ1ktNSI7GXHgR7Qv+PFjL/GKVneC4XSyKg+VniHlnW/UoArLYe1PEm236FZ5zF3Mvuvl8t5\n",
       "/Ozm50PWcCpRvHni/tx4GVIpeG+nEHg5oszwrGCcrWhh7zYjiNtBsubWtuORBg8Hcvp+yvTWc22Y\n",
       "nX+8vMRlZ9pvRE1bb+fCb1kmX0yXoeIK+R+7KxdZeqYQTSHI3UBBl7dCCy5m0zOsKv/ZXFQ77m8j\n",
       "68SpTm1t3JKNpJ2VO2xoX2ryEL0i3od+RyX7ohWeCvuOPMPKawb1mnxA1ch5IA7XoqHSEjt4qrua\n",
       "pXTX4mNSGQ3mQNmFuAaL6w0UrrzrTz6BcgzMtG46DDmEsqRtDBfLMIBuWqpSq7Frl+8ltNNSuKLu\n",
       "+xtAAAAHVQOUHJkAAAE5AZ9KakK/ABa2WsaPF9pU85jouNJ5igBID5uXfZZfDT/XelLHI8Zpr9d3\n",
       "yuyWDtmhEGaRdrskbrtzt07vtDtaGXx+k6N9M8EoDYPzlqmt1uf/ZD1FdjOt6CxY51dY2fbf0L2B\n",
       "2l+IR6nzTtUekv/t4EUdy3ijRXE57iZ0mvcvf8aWs3JzzrqWDCexkTS6qgAzoYK+JpjkcYACL1J/\n",
       "jxNICVwEa5RI9aW5DJ4U+h+EACflzstcDSX2+g2caglpjzvv67zx+GFn4GbWYyJPVORppaejptBJ\n",
       "S7xAJcRA1SBnnx3FtCRvqcoadX+HNsOckRYI6hnhvKrNN9VJjbg63RvD0ytXvFiQAX71NKWgJpc9\n",
       "iZ7B9miNhABtTDpQk9kP8I70+YKoMxUMtYo7C9gQ1HITYOcsHFuK0hx/gAAAAgpBm0xJ4Q8mUwIb\n",
       "//6nhAANzgkVAA7S5LFUTewxmSi5fGkmOnNSHLh+XezqzwBCq+eSX0EkZcSfCl2XNnz1tTci3AgH\n",
       "gtH7chf1QnHAsokAxFKdtAf/s6DLGEasSQ0YuE5Y1/AQVG2ExrK89eEigmSTAW41vCTyMcFRJKGk\n",
       "A5ZXYegJ9cttwga73Ve2ZgZgI3lcC78BStoj+FrrNVZp7WL0pKc6H7lqGP4ZtsSHNVjH6cz6xh8v\n",
       "phsuE7MuNvl6HB2LK3WfO7I/Q1mBbgyINC7VDvFWHeV7eWkYc//G45CWph/Br1GUxMlSBS+ejlcF\n",
       "hUqgUVercN5rCiSIdgPN3E53VHpLMUxP3DK4NTduaXyC4b4pIzWG8TU104NJBODm/fxeX+w2zWgz\n",
       "UwJEMWHb3KKnfefgkRrXnle0c+KO557l58cTd+ASadG4Ein2Stq1xzxcBE73Enybm1jO13gz0t3p\n",
       "ZnP+RM0PVZEZDnDewb/bCpY/cArQ47Jol3ixiv0wZJKdmgzracgywXXpDUAGZdawPzbVUJ4utvkA\n",
       "RJZh+WcP9OVH+SmbbSbi2PK7WDrE8CR4J6XNIdyoBiY/Dtqr3HL2/Jx4JFyw2+UlrruGsYHAvi6r\n",
       "1Wu6Ru7ldgS5DVY89E7hR1GYZI3YriBWqLF8BkdtMvFX8vU7lydf23tifcWgezAXZrz94CeS9EgA\n",
       "AAIcQZtuSeEPJlMFETw3//6nhAAN1KYv+z12dlMQUm2j54xGQakAGGekngcEa/LqgVS5gH9l+lLg\n",
       "jaRcWHzoN0eeau39nBRmgXnmWdijTWoU1RUxD4lpQNEweXJ1tuxXaaxoUVL7FhcVCQqjaZAzov3Y\n",
       "pZ5w/tB+qeYP8jlMoN1fqiJ8jObDnQZIWR+CqdFfZYZRTmDa0LIOS4S7EBYdp96OCxs1X0y1g6Ez\n",
       "23AwUXz6vKKIH/Xz17o85akWAfDBHTCp/oWOmi3AAqdlzYucLMKZ4KilTIZ2e3Xoa0C5xcJrkIsU\n",
       "FVMwqfiIJF/a9ssGbbo66tnowD/s76/QwahrhBetuZWqfP63FPGje+6Kn2G2l5obTOvfeeIUX7FU\n",
       "A8eQeklT85dqBvGavtGzCH5bdMWQysisClVrAr3RTHRnNLC7rsBlE8FFgvPqaL3HFWl3zVM7o8TG\n",
       "cOWbW8J0xcw/U45KIUfnMlTCKKMJAtrNOl8xseDcpIZSLZrMdtTBUveI3uUwKwAEJq/n5pXd3Osr\n",
       "hh73B3p14ijAaPh6z38tVU/SvfwzYMs+Gk2w1nbeLykaNuHoX6jsA+qPe+sO68h9u8f6Gjukxg3Q\n",
       "O01gIa42f52oEyqcVlNsfwa9TrN1t9J4sCXBWyLxBbO1qkAD+TIGJDkbMm08N30qPuBf86YB/euR\n",
       "Qm21GwzkuIvtzuxBPwoh3jziDsEDmwAAAwGayKWBAAABhQGfjWpCvwALWy30SmU9vLNuiZkRgiDo\n",
       "AJ27q70V0ofETzvcTZ802/44VRQK60ctpPyyDEP1z8DePNycIi8eL/RNESWWXj1GTCfilTIXuO77\n",
       "HVD79vumfUCOtcwRrfjZNAvIGq5XZKFmYFRUilJdL/3mdiM7y/JciuDlJBup5QQBgF8oXHRS0pGx\n",
       "1yA4t9Rdxhu6E+rw5JiMBYEEIKRPq9YFMC6KsyFNbhxxLjRCNzKde7h5XB2mC/IQ5XLT7ntvyE3e\n",
       "Kp4TbAnTP6M/0Vrq/VnrCfVmq9iAHbRkCwgR4fP8sQNw1Hp3Vi/0eeIvSPIY+/iTTONPN5I7BElI\n",
       "zfnn3asWS5Ezljs09IZA/dF02zawJiYHneH5qQUE80Za6w7tt1cdPjkPtSXtNbB1U0i0MlmGJYQD\n",
       "UPVlHslBwgoiGjI4tO/EEFdFTksz7J5qVuBuTTSoEcaSf6jcwp7Y80yxdCDxovWyQ2RmHJiQ6HJ7\n",
       "lHyoHPs47qpBjSjhlmfSWi1BTNJieAdlAAACOEGbj0nhDyZTAhv//qeEAAbnAy0f4LPDcAcs9UEj\n",
       "EWSKTf47AYBSnfIQrgRy0DL4Kl+mCf52CtC00wKfrWJ0JnzGQhRIe5q/D+LCJqHcP+SZTnFAGrca\n",
       "DwyCD0EH1zs2v8POyNcpJVL9rCCrAeCij5KKzIleN2MSSNzmtmiCjmMQSYSePd10MmqbyBh0J95N\n",
       "YOdeEqxxt7HukE/ybnoUGScELekGbeIIHYJlkJwIFkG+sUvZ8bZd127s5svDzs3ApFEBmw/qnkrb\n",
       "QPQr/uIj/Vn8HblQe7gzPogh70cLTGdFMHD81ChtJSkkQUYzQ0J8+5627CdlHN57BDnvaNGkagi7\n",
       "1Fsp5uoeQfT/Z+WhibKS0GeUEext3o7zMZKka8C/nQPlj8NpZK8Pk8RGMb9FAE9Qf17+qbIBf37e\n",
       "nGrbus3pEYhVD2rDZ9perHQ9rwVxUTGV3r5lRGcisL+iVQyaG381wcRADIsVBneVsUairFIqrfwt\n",
       "gvy17G58YknXqdh+11N7zq7eRJbjjGTo/e5moGI0e3bf/Ix9ZsClEQlj4hlkI1BAB8A55ynXhG9g\n",
       "V4Vfam/J8LJBSOj8CaANg8X+QsP0MBiVwLq6LrVYGJJEAQFMwYuFRM+SIPsL/DB73c795a6XRxUR\n",
       "0gySjbOleK0nI1iAITtKlvZn2dibssPcUbbfx7Mmh8eSZVtpkCT249J/vZ1soQ08Cd8gSTm2erV6\n",
       "msrV6EPCYGvvMbNss8XaBaof0erup280toEAAAJNQZuwSeEPJlMCG//+p4QABsfmzkaITEuwAnb2\n",
       "1Grj3SVikWpdiRonFXj2UZ9oEJLOxTw1raTN+JSZWuB6ItMkUh9gbfXP3I74bQi52wNnFZvhdTtM\n",
       "VKC23PAREiOBBXlbBuNCj3xq1XmAgE+pTfELylH3sL6DczOjHh57xpi6qfxUhWdDcrQistDvTdQs\n",
       "K6jbmcVa4vNdYcB3601Wzmdp8EVfhmdpgM2VvKWcjKms+SSMYwIgh6ZnyrPBzlUMj4DMRnyaI/Uo\n",
       "DaXOqQ3OTlPZ/yXl/iAa5MK3aOLHudiZmizDgqyYaZ23jAKDXn7YGMHaYw6eOM2brM0SZwIqbQEU\n",
       "Yd1Yt+gQs4A7yvJnC6O4yOOi4T5Dp+xt2ipHKF3LHoEra/GoNaoWDrDCA/0U+fj3qooQjoLsCAEc\n",
       "C10Qfkmk7kOkr7Sk/nwlAlSsBoRnolJdt2AS0MBWWdg0yzTWfqt5UfF0G+ppOP6btyAox5+0Fu2r\n",
       "B17SjU/f3LDo51ykKizbBqLb/8igYXR2aVC4Uh99b7N/npr+LKCfvKJA6QzI05/Mn/aae0vClfXw\n",
       "/MxShjX61OT1DXV3sKWjAuvG4REij9JKque4YWsO+GEUcX5Oj0B/sSFypdPmIgybUz3t/KIJXO7h\n",
       "22rzlNWBqMMM6ai/FEhKhNPhDpC87KtDjlrmgIp3bglf6ARE+B/8mU0l7t35bwkb9QJMtjRkdcIQ\n",
       "UrB3U+E6M3yoTdxy5JuUgrKty7ejK7eHzXZ8XlJ8wLxmVcjhMNH5FFsCarzXFKO+vgAAAn9Bm9FJ\n",
       "4Q8mUwIb//6nhAAMkcV63ygBsgBuhXPGMu/rONMX5dR2qJIO4xCXhYnMvWn4wMj3aejQotFjP+Pj\n",
       "iCmEjadVfjqMj5/Em1ss7KZTjUv/pDCWbt02Xw6FZonTFBk3Wx0NXd49P8NWIOAAEVzE4OpsVKRT\n",
       "r+Dut3mbF+3EGOvdxnBptM70X7/bp4u8j+KPkG/kMUzcomjWNKU+rctApmxMwIUOwdZ8k8TmOUx+\n",
       "ODMMa5qCxNz7+Oh6qDRE9cjGsg3zEnHQ6yXgfKk6GqVwqdc1A0gnctiPNOWoOVu0yad4UUp2nem6\n",
       "sz57tZIo1nUFKYF1e4cRqa17TcxawOst36xXyC4J+iYzTLkqOzwCKs3wuc0Fv9+oYEtV5VQxe6oc\n",
       "ZtU0YthhXvG+Wuzz5LLlLidv6IA2S7qZ41wR2fx0H2KMZxMQbJveMnqYeovg8syxxog7saW9U9da\n",
       "BXTeiDIFxc2SGFEPS9cthlzeG5Wgis0rh9ZUzHiUoqVu+c4dCUxB8m6xNNAj0aMFBXSuhJwn0UZr\n",
       "54HBYuC2O2N+vQh3BA5C40rYEp0WaQUi0cXlu5BVwuy+exfKjnkbnDr3mB25CrwO+qQvjoPXgZkN\n",
       "gt4IFeqDM3HcySLcVnAvl4FBfbWYZWrpaOKQgZT7q8Vs4+CCO0dFl3/VxxVGk9MxraTmSK8uTajZ\n",
       "se4PuEKc/ORUJJOqqdfXAh0Hj2vcxV+2oAAJ5m6r+159FVWUrtSIxlC7ey2wME5JQRRedftIdAnp\n",
       "sQ9d/mW04DVfLybedREH3hQwFXfKDflNqdN5h3dDgMvXeHSLfhjS84SXLSw4t9UdzEktS5PtYiW4\n",
       "9n2IhYyUtYAAAAKdQZvySeEPJlMCG//+p4QADY/sSrb4q7lhM8SZAIQ7vE8/iz3HxOaeoL9UXggP\n",
       "SfQ5OUchjLR9vTum3711jmtKhj62E5mJMGXW1h3LshgO0y7UbBMDQYUUPX26nWuNR/WJOetIXU5k\n",
       "wNovS7WX1f3BXO4vczFbGIL9MMlYlP1UnbVQMaXvbICArDXCFD3+oe90QluDQFITIXdERxQdM6eQ\n",
       "qhT2u3P+fv7SVHY2xOX34pf+h8J4fHDMNjAUbvbY0trfZGZxSEllhjWDniOE0f8mkhsQlKjDcPIS\n",
       "zdkxue4EaFlgXP1ETtqBF7ccvM4RDu/CcF15uJkJ8K0lfEWOUBU4hqzBryR9f+uddvWqjgq8PDck\n",
       "EmSUX9sKCntpfS2lc9KnZAKT4gUiPXICsh2HbvGPFEexiGqdC3LVPD2X4xSMXKiwiL1SJOgUnlfL\n",
       "fX8BzVPsaLgPcynq1uVZSdx1GefD2wSCpNyQAv34e3K728MEQXczhwm9dbBNPKGIi1/56cr77q1/\n",
       "u4as+YHCXk/IKoA6v+ZtbzMtQSTCajgv92B76Ro80q3JZnLHQrygzSiUjyOtXWKUgGx5ah1W67Kj\n",
       "+czOT5qsXeSco25WVegxtJWz3HNgWgYfKwhj7ANDJt3uNqlgG9va28RjWV6TEZSje1DZ8USK7zZi\n",
       "E71EXrt+8mUKNMno5Ws3wyGKn81jlpqx6sJFY1vLRUNPzCcsAE0HC/oeh+qTeTff8Bj9oSOGTMBs\n",
       "HuNqYYZOwHHKpuIbwYd5kbvAS1TBasYAiil7BVdeIGT9ywRw4sjljm536ooeoh2kg3FaUH6GNHM2\n",
       "V2qmCuTMOdEqQ/D+kjDGQr4Ot4ABVuJ6Vyysgle5nPpr4wXXCx/E2dQVkzkSHMjrmWqqWmOzAAAC\n",
       "8UGaE0nhDyZTAhv//qeEABk/6PoxDzmWMIbpfGqoYM9X9LqZQtSrnIodkQ5dAFpNZeL8c7BLGL9T\n",
       "vx/AZgt4gKbOsCewLKHQ3ld3EBnDZklNRWm67XH9ntCI0xPT7FLAOymN83zPzK21TWcjeS5Q8k82\n",
       "O1pmni+/IiwhDrQbInk6d6dswOwJ7AOWAEyDZIUxizw02dW2m7Fmsq10ySmIqdvkSdQKyKq22Ye/\n",
       "19FuV5rAd9IYrKJ1UAdszsEfWVfp2a4ZwJuL4HZb34VDEMZtLQ3SeutnlB6ZyaDrdEwnHgGCO50H\n",
       "nUN5MNYwfB5r1qRkv4J8wAaO26h+rhE4QMxI6FptOqzS6Fm5spsQwzJM6nBGfjn3+7mXAo3iLGxB\n",
       "GFSdJnVPxtGUmDVlC9iqQ+6xEN+utsTjAOObwfF2ulgJH/7q1RIb19S0FEbbWWutEDB2/A7iPaFs\n",
       "4uF/ofmzu8XqsaQteA8W+WVuwnzzTfEigkvEETA8VO1AwwN1YHtKyRY0zuPziOgEwJlH3yysyMT4\n",
       "dcNFOxkhhLbqngN0eeff5YApDS13HQ/c4zFfPDdMiEP4CP6o+WH/stDVCqLgAEf4lsVpPdC4v+UR\n",
       "ceBPkwtVMSQR9FD6tqUkjYMc1EwZ2zTmV1bYcAYO0TcuQ3rWfEhifBy/eBdq/l5Ep+GCSbNH/zEO\n",
       "myCkMWVpMkU/BHaqhtD1hqwXaDFi7HYgPGsFixUP39D5HnpxIK1XF29lGFL9VDOj3UK2QXAtJsKU\n",
       "Ju2JbGdE/mnMJs7CqmbDA0LRBhjRmYGAiZqkGQ9uSLrdupJZYshT6eeaEPa0mkXqLAEIfyTFaYpt\n",
       "O8P1IiJrOQ+6Vs8jLSluKSObjWSyXrB+YI9CDbTzgrAGzSgSVrU/0E+sVEjmAblRmaty5uJqrAcc\n",
       "9pOAkoRzcT1/x+0FkP/TL80UX9Kndu96FIerUrMOEGa6VvjEgPg7R9r5GmIU0QEX5QshsJNUcMt2\n",
       "ZwpuK/oQgDbNWWaRUAAAAutBmjRJ4Q8mUwIb//6nhAAZ3hPJTRNpyihrZxSAB3/8QuVKazzVqbzQ\n",
       "fJxAJjR6UoFPZSiQOU+wZts+yYpxJLl0CdHfpzeHy4SneydAWDDqbWO95VOk3PlP43LdFflurVlD\n",
       "wOh2FTrMKKvkLBYSs1cuK6pRZB2RabTz5vw1Ka2HQQzc2mjr+kuhMEKvZ+ax607wazzrpG6hnzn2\n",
       "2fWgY9Vpkd11ThvkAL/I4ENardBKYioEPvoTAZFCiXhDSJ0/ZB4KSUDWwdR6DK0hNR/j3P2xFLxd\n",
       "oREJgtKP/pq/MnBZmoCKSRJdCDYGZTbGp4nJ7D/BdT7zvvKMitlgxqlaMpVULcQ6P52FlrXYHUiO\n",
       "wdaNzDlq+JECHXWoaS4aX3IzMiMM+bZpxvGpn46ufy22T0gcr3Bi9KiL8wYhlEtxq95BMDsm75P3\n",
       "NA3OZzf7GzpCclQ5JmsDnzswM4uNULKzDWKgRVC5Pb4s51LIE5jd26n3JaPtbiNBoKwtgmqd57m3\n",
       "UJ5pDet89iKWl6Wl0uADcsHaSkXEXbF05sT26peu3bDOESCE6gpH8yUjiZI4W+FiZphKc2bQ4gaP\n",
       "+AJrq9t+fZDtXNH2uZSO+BA+j6UnnZN4t7lUf3PPUPTteZIXlVKNbJibKwuUMbnOKPruSkkSqv+A\n",
       "AzT1LckLYY+B4NXH4IfSVN+PAWoHzsehVJm0JR2LKk/LRV5uakIPhBdovmbPRS9AsIoqaHUh+5FH\n",
       "al0QuV91jkwxaicjXGwIqrnBmmRbAi2vZBgyy57uOpoNwyxPt8NhajHsqEs7XZ/FNGmrHEO8UUOs\n",
       "v6GLPmKohEsBYWXBOSE1HrVdKHebTCt9ws9JRX1kOr8xaWAZ3vQuQGjH4JfrDMlqFrPe57ycKb/C\n",
       "JE+NvpXYcare2a2CR6GzmJWwbJA4uxAlXf1KBx0Q/1Axo+56vSs3+0+6PUjwmw2QRCwG7dAPio4+\n",
       "VFgrpyR3Obf/Gotc0GL70Yg4ZCFPiU8AAAQGQZpWSeEPJlMFETw3//6nhAAyLpzDoAbID/UX/kfo\n",
       "0P4hizH9jkyrGI8Bcvj8BV8enR9JmTMrsh1UIwAV6Gr+hWL27StRMOwgxENIzgs9mbj7gpeeXzLn\n",
       "rmAvQJc7oJgU/FDac5PX7QMqQreV4VkkH0EatiKnv7WDgpSnYqYu0ZBKZ2MNC+0SbMrlq1O55wDr\n",
       "AfpfiRRD6Xj+HM8128/b+adSh4nqQ4qeghKcPiuY9XwDnZBf+XxUGmQMxKJLwlgv9TphdsQxZvug\n",
       "JZX8DSZ8YZaFHMIQ7MF+EH2WL0Tonm6JjcHASDW78wjxdNr+PeGOMJeuzzxjaNF7OxCmq3zR5gdZ\n",
       "Bji38gQMJSnFz6ChZ8N4XxePJlluTL0WkqagUeCFxwFsAm8a7dy9tLrIV7onQb298MpdPYmNOl3Z\n",
       "y80Keubv3GYRVeNkzf0O9gTkfrZgnNzsWUfc9AMLYoLpeE+MfCcxRBgWRWdNiclNipq9fGaLyDFM\n",
       "BUkwLZeTnxtq9XcdKVi+zW7Ipzpx3BwWaSPfRV+tXYcYbbmn0MulU4mv0pXL4Jwqh8cYjT4VfZjZ\n",
       "g6LIt6FrofRrswpXySyK6F4+Ble5Ux9eRKWl3IKn8TUeM6teuo1p1G2zqNQlLwXOR4X0ZXs9/p/c\n",
       "MPcO4FTY6rS/m5U0hBniHZ0G+/rYWQKJRG5ilhT7bk8bVNsnv7Ch6WUpUJO9j41ssCz5U2zfffYB\n",
       "qcx82j5xEH8BdSNTG7fFeVRw392plwzjstgTZbaDLBC0iMc55v5rE1FV1KOqlSmga4OpU8n36WgJ\n",
       "OaQGn/WJ4yrEtQOEAUQ0InASSwEGbmMnJKxopu4sieJA+oPVLxOyXg7je+G/nMkNTC1EYpiQYeuu\n",
       "9gVAMBv3AvGS719p1YcZE8wlVr/rAo+VoRz0IRjefzy9VdC1vkXSQslEkeCOpS89duUgmvYRTCN2\n",
       "gw5SXUQDXZEEywjF8vT2TGWSD97A3pU2TtqyElKiovPMx1gtO3zOT0NG6PhiZ4JPnIuEeCdDutFt\n",
       "lP/Ivt6FzM7dSInpw7I/k6p3bGmdtklFSQOxWyn5KdUWsyqwq/QYtpAk55g0ukV0LaAfoyopGGBe\n",
       "/Ou0+/bNpN6BhnehV2Csicw1oOdAsaLie5gCQbAl8cDmf6D0P/AqbJ6tZq5f8GSXMvcQhkPEpcGR\n",
       "gNog2eMfrA5tOhX9GJT2XikmImprtkkDSJfNwv1xhVP44BFaqaz20VMVxnsNVmXEk8MFO0YsbgSK\n",
       "dDVb72/sJ+YFhNc+MViWPwf+27uN40hkzPk31zW4DISZBpdQ6w2vFYbpMCbT9Zd1hEPEWOazbNtp\n",
       "6ZReqsijGMNYRn+spiAFNBOAAibaAe7u7lCPxrajZwAAAPwBnnVqQr8AT6wDFWQ9J70b7ab3oS4E\n",
       "vH3ulmzaKIAW3VWtsPpC3HMS+6LutNl5atud7XmGsRk5fxzhqdJShweGEFPAD61jzCTncXYQSZBj\n",
       "bvMn/Opspmnjuew9Gmcs8mU1uozrfiBi3FnqiARbKiQt7tetM8aJVM5T1bPF4lNpDq15Yqgii4Qv\n",
       "1rVAQmbcNFR6RnwkUWiBVoSQJIgNMUz6PJicCQ3eZLrAXFzORsdJSd0agjnls7ZJBJpqjqBqjlVL\n",
       "QOVDCbgkhOR8c875LEtZqNGJhyMEJOsL055UEcf17irkEY1efFLWlTtam6T7JFgyfa41Ybr12nKF\n",
       "Qy4AAAKNQZp3SeEPJlMCG//+p4QAMkiDm2Yv5gAM2+UNTMqEL1zRTLQfLAwvpKlb7xK0HFlU60YV\n",
       "CrPfmnyAErLlTXevVN0r9sSJeKrNAZe2tyK6jyaxCJald5jvNTs/IVJ8Ro6gIaOxhRvflGPEkc5r\n",
       "dMqVGH7PWC2FTbt1TZOWFCHP1LWI47SrBiuGq5ReVLKVnOH0uTCQZfhR2TF9BPWpa9TbKCNAeqZk\n",
       "9P/iHdUqfI6dStrfY4YekCUaTeEKPpy9hE9Tp0lXY6/C/SyWhybMkJcx2VZ+QhJ/hKY24qZeVUh+\n",
       "PwbjCOvbkK6TV1TQ4ZveAqnvRDQ9/unaCih+ay1jiwn6exfWMaeFHZQ70danTgumqPh8plQX9Hvo\n",
       "dZ3xRXVXe9yttfCXHrYc58QDzxyr7vFG4+B4KdqIVxpY9Osm9KMLn4J6G+odVOJWcDprfRKCbS0a\n",
       "pxOdX+qInt7dGK1vmbG/cDaAAY0xMOKzLugxBqWe1bA/pg4XAr4uN35QH18TfoC1lLuSoEb5Qt+6\n",
       "wWQ5BraCuuSSxohjZvoXh2fjACp6a16UnGXxyNklCf7Jwm1mCZdeTs24SMySRJoHTtRa2Xbbouuw\n",
       "98aNaHbSgic9Ew7E5qf0vkwbK6ofCAAFy+klAAmW6Kouk0cDCNhRCwC0SmvKpbkkN9QVCtWxAkaR\n",
       "ArEX5x0fSpggpeP9eYmjfrONMtQLIuGZv/0AQSUav46msnogtSqQVHWuKO33wsWJsG+GAq6Ax7PA\n",
       "VdO4ifIUXkDjnWvE7w/eHna8qRsd14U5mSuuH9eZJOaD795Pv0w/Ns8Rt6m8EBYNjrGS4gIa3ds8\n",
       "Y1ZMEZNro3BYT4GS7VTr/nMm04EcfR4uN5TOUW6+KCEAAALFQZqYSeEPJlMCG//+p4QAYnyYjaJI\n",
       "xktCXxKMDi1JeQa/50mrrT8Pg1rW+snUM7S8Ic0wG4w4MDzFOhZgcqdwdsmcb5ZkWSqScSpA9cTB\n",
       "B8aKpJqqpfXI5sdagpt8OYwnk8djOHHHLZLOAhOAH4yTXJORdwux07hV04kGOezMNmOt7FPhG+Mn\n",
       "p9sdMA5o2rpdHq5TXb7H2767s3sZVADqx8wm+30tfXRRC8mshuAxFgOF+FjPSSSh+z7OeXlKEkGn\n",
       "I7dpUxUgFXVYKZY2ba0zkIwnHb17iAav7yfF9G92tKwTyE6Rtji8/NEoWiwBqtiC2e/2LkoulB3U\n",
       "8NMWhHL3hCSqCpzARj+hUYPk4tXFGp6xbXGVu/YGANBuK3yV2rKfJWzJGsn9QJBCU45rI24cYrcl\n",
       "YpmQAMuEnCVkEmo7/WDhUQ/z4V9xK8axfcTmnCM1IO7tfKqmfHPTK6PYN6snfPUfWQq8Tr0y6ZxI\n",
       "ueAp8VqxHRYLDLmBB1zyCYcBY7y9bRvtDhsyBSq0vHtgurT+9/XUQ6AEpDWHj0Xu9yn1aSU0s4Ok\n",
       "T0Ik8Kc7/FoEQjY6iOTMFFLdBKwdFren/6SjbzVuYLuRY9194+eHRzlZwW7iPRheDFlw9FagUDfe\n",
       "FS/SkGGuab7bmU8UZc4z6Ualwi4iNhIQfBJHaD95ut50XmPUM2JP0F69emYfb8lFpT3YpTtaiNEw\n",
       "kthwHWVnkBNXQzRL1vGerlENHjhG6HRoO8BoZ1N1EWz1WU/SDLWlQmP7PmMOErkZcVJLRgSHdDvo\n",
       "FX556WTJ252DbgTKQM90erMFUpXhTBDnlpu224r5LilDyuEDM/TbKkIh3Tibzwvw2gNMVFS5f/Hq\n",
       "WB+ShmNAFls8zUmNUciWJe8aTT3Cv96bF+/TZezD+XGf0MPCNBRLxoa4GSqYF9boXIFHWt6Qd7Tq\n",
       "MzqpgQAAAk5BmrlJ4Q8mUwId//6plgAxTpY4lABxaupA25YdWOkF2Sz1JK+8jkPTCHb3rudy3jTi\n",
       "9Naago7Cz5VpuB+/2TxeukBO/RX49jMckqXKtsm41Nz2Zch+nitTclO+uzOn0fFLgG5QsxKAFyQz\n",
       "xdsLfvEtleS7aP3oiDVJAW0o+GN6laUt0fXNeyw22adFHC36M0hTlsU0m7CcLj/nMmRZKONIrU6X\n",
       "jeY8OfpK93802fxaECCqP+lxjgzxrM1ftikqC3CAR1CUxuZhOlZyEGAgGVYzKiCdV/+6UdSiiTTz\n",
       "BRNNZhCmXDm+boYwX5vlGoMOW8h3B+SRG267ZbJjSCOu4Z9TXNJqdnNVjMMEoRIr4vZf0k7wpR5B\n",
       "LHiAnxXnOyRqvaAz+NJkiKb82Hpkv9JSARtXe6t7LD6VkqUwrN+eDCYxuk486XBd/BzPHIe6aH2T\n",
       "9rGNhVGZET8HZGraVvioa4bDRe6Pmb+u7sQV19FfAZ8h1h1zb6QGDGgqzf4aM7IDfshcrntC6e1S\n",
       "TyS0zf6R5qZikiQnpTAw1dNBXrcECxomoc5W4iavfBtOTraaMHoSW8MzsagLIy90VTJv1ZXf7skE\n",
       "yYZYdSrHSWSN8hFZ1Kf/wigQZmNCxpv5wRP+OWr+CEBzuZi70FHkdj+HRMEqDSkZazvMFVi+sIMC\n",
       "tNg2j9+g3KCrOdbcGvDcJq7eBTfyXKoMlQBHyC0vK1rdOJosHJL22Xx6LBjmO5g5dGNV2fCh6MPl\n",
       "5U7gn20GDx9Sttb8rTBeipigtwO7NXvkvN9wnAAAAuZBmttJ4Q8mUwURPDv//qmWADKjznaxqAKC\n",
       "a+LuIz1Cvp6/H9IU4KqVEbkKXARZwkU++gOOw0FcoDjHV9DRCOEaZNbNAOY7oh4X4VCO/tAvCyW1\n",
       "HcmBWZMmQsh+3VWjxG7yepDZf7AxrmrwKYi6WEs1YOQiw55dZm8yzPu19GTggjadWxUfdGxYZf/Q\n",
       "AaykeVudcP9VyvGtuyIGV19ggU4JiHTY/j79is1EotQ/INVY2x/uMMlZxebdoJnvFcRatSl97iUc\n",
       "ZCEdm9Dh0hismV8LilFUpeAA2DoKee8QZ7O6BwGySp59JbiI4wzumCQgSNuYliaqPgMD8HeWsMkH\n",
       "xdFtvdccfJpGI8PuLQ+nkC1luHLzXI1CmA0uo8yYKxLL5/KFwwMOtMNsNZGsJS/OKJYluHsVY1qu\n",
       "7t5OroRmKzDq4cAWPj35KXMqUxGyaj2wO2nlrB2UZhDU1EBbT2/dp4kYsEy4vgLRMzFULJYuW+2l\n",
       "9zxeLf7pwsd19xlD4cEuo+xtQtsL95jaNgZknXo4POh6l0FX8gdOh3IOHjIuHoWmlOgKwayIA1mH\n",
       "533IOEaGtQvheK5tRAgdQ91Eh7kEFjlGnraI4yELliHFEBJkiZx2l2Vaj2lwusGSOzuF3hvGOjG7\n",
       "PgBTPpYHx8UK9m8sAuXtn36KSahKy4OKQj/M5oNe3SJyHEeyUW3SWjeL8vL5v2tdHJH1ra8w4euA\n",
       "2qin5TmHYIl/9IPNiBI86Zhs+y5Z+lMDeiNEySbM47MT9lddgM7DktfH56HBQtQaxvwwAQmX6y6s\n",
       "3hcBSCYYVzZvkikZXW8+BnpDgCizR61pJnKdVUkzJDB/cE1PhCOQCUa3GHoqAiQB33kNVVfabLP5\n",
       "g6JE21yg+MiBsb/SUWlrHk9ZrGtRl8Y7H1bjMMxT7et4HPD+O8dxecTeryKwOoKfeubg3j60uLoo\n",
       "4YDF0Ye52GmMkYv0OP0wHkJBzVvr8kgRPgU+OUKIh0mBAAAAuQGe+mpCvwBR1TSOyMrLWopEduPI\n",
       "d7i5W5wE0BwAMTRIe8F/3dk7nEja9jN++T3EC/1Lwz1oeuf6ECxU+EPlvpjd6E9io7SLri2DAi5B\n",
       "LsCJ5GIA4fcrqSB7YxDn9yGvZdLDvPzukgD+bUuHtDWStUY0aDEHB4ICsylm1f74Yko15HAOnNB3\n",
       "3h3KgbFGuyAUC8cMud8V+vmQkCFadMOaCzwEx6vfwAXSE7ZGWognxHi3n9HTo1+tr65YAAAB1kGa\n",
       "/0nhDyZTAhv//qeEAIqoPqXuGSQPAF5t5L9TAOheZcNlOlCLYFmshh83i4afxi891SAh1JhY7wjB\n",
       "nAGHyIPvBHXv68C0Za4v0wtE9m/1uzkicLd2cU9xCgA34zthEkqOjDUBoek4J32yoD8EtNYV84Ht\n",
       "KyvDnqaoFdsGrfbRpnD/LIzVvKRtEE+Xjmheru1ujNHtmuTE5T1CX54/B7VlGf345EuzT8Q8yGvd\n",
       "shtw3xlEJept2D438uumboxuKLt2+WzCX1tJ4ptJc/6tE7t+R7eZwKD1NM3KxsmJJLGvn2Lu7OHf\n",
       "0nYIoL/BukBqgFlTZP4DIZ4D2n55GvO6YWBVmiRFQ8Y2aSo4Ct8LZEupY8816+uYHd1lk+c8sFUp\n",
       "jiB9b5i5FZs/PPQXuZfe7vN/Hk/uvsdStLZ1cY0j+u4DOS36mi8zcg+mfxPpSFA7QEB0mK4gfCd0\n",
       "7Fj4X6nqZDe0dygjz/0ck4G/02m7kB0UnLd38P1mBoP1gDBKwSRQsexqCAtY+j954YirpPHaYRaH\n",
       "IBfrSxY1riza98a+oufdrEYEXJP3PRaSnoH6nl06fPOU7qx4re0RL6/FdzEoXzpP2YgMS805sF/e\n",
       "iHPrxdkqPXroK3HBAAAAxUGfHUURPDP/AFZppF8TmpxnPhi1awiFIlkLR9A0phWbGcHURaYkp/pB\n",
       "9xgA8N/JpqchM2xJ8TBoAlYMe3Rcnrazi425GboA85ub/iMiXim4Bu47ZcfxgYKZTGrZ8d4pH+uw\n",
       "Mmv/ZU36iDgmbGeJV/f9Tymx08KViHyQ3BFNgJodWB0EZxykOCa/Ioo+9EmOBtFnxPDzFCXS49CV\n",
       "7naTCP0ErwjfnLqY4yFexptQCyI5tYdbUphWEYPDm+Nu6hTXY9LQ+zDhAAAAiwGfPHRCvwBuo98U\n",
       "ul/axWU0YK46H+BvaPQtN25o0QZRxtsALJNB2FGemgTrS3a6FFq136fEYNEq9MQbw5/lIS5gxy1h\n",
       "xgfFLHplOL3K0ZbRa/fA+fJiWZA0ErejmQQJFjK445fssS1oHAfwVlNlzRHivAgygGs+PuNvF0/G\n",
       "S0/tWmnpIR/ByJW5Qj4AAABqAZ8+akK/AJ9YGg9d19AJeUUDCYR5yvTD45hcqwLkQn8unAJ8W10B\n",
       "MY9sfX+uRBofRtE4Ui9uQmtIRpSGZmbfyEVAjCyEz5idKGr9vwJn70EtpfeTQrWNk21hBYC1/qm/\n",
       "luUF9kRsondBHQAAARhBmyFJqEFomUwU8N/+p4QAh3Te1QJKByz4Aysp17xOTap4ewQSYH3SZrIs\n",
       "LnwkWYIwBPwJetAoY1gt552dODT5H6SLTezu51GFA1vBeZf0hvNin2bxzX42At9lIYShox4nWT57\n",
       "mC45aBKhxb/vojrJUORxD2os9XRXE+zqP087pSK53gFT4nGUyF6APL/X6HOgUIQZ0J96TjvtFVIq\n",
       "sp6sGbs8Pn3locX2jja+nvZ9u4U3GsuVQgJewSIfKFIDNiSD31k4U0nkRumMb6Th/6DlpQRtJBHW\n",
       "bBiFDQesSPLAOMYYEWFlDziocfr0ntiryRJhOTwxdBnH4izNQ5t8YCXQLq3sf3e/wa7xTuqZPrrt\n",
       "5BwwrcZiPWl1AAAAfAGfQGpCvwCfclPuwP+IOIBv+BxGI/RPpx77ibSr+dA68ygfgDi2oNYcE0Rr\n",
       "FeIxskr+GQ6nmHRSytzcp/wir2Wyu1uEf3DgEo1+cOr2yeWJIJ3lflgPt+gfz/TZZIwDWUL1puE1\n",
       "QN0rH6wFrj6e0ryWu9PSgABRSfW8ecAAAAFwQZtCSeEKUmUwId/+qZYAMpk9tV+pzJ1oAM4ABgtI\n",
       "SynDjJwYJmjHZH10R8Zqnx578zHrDvwN30dvgNECs89VqudeB9z0PF+zk0F7XIIzl897BFfeocRh\n",
       "jJn6m7emdtFyuwKlR941YbVM33nrCIhzyEBvzbrcOJLLlIMfBxeF0LM2/guWqmMWCuzRoVrlQ1Sg\n",
       "sv2ohTyfuDExMHKywf2lAglTWnXsxgOydBkPykHd//XB1PACFRqXB40KMBXR5Wba707ZgCzGkUsF\n",
       "5g4GX+34TxZQ77JmccqkXKSDYaZk3xfX29nHCnki0Zi6U3Do2UHb/DxOjIiEzVbJ40teuShjSkFp\n",
       "7Kn5zF8BV3YhEHV4l20ebSG5imzquUof9nMEAwMqAQqaOGIPp2dx4TQdexr2ZpvGV6xuyt9e99JC\n",
       "KapBKJIm1JZe5nxHAY0ItT9LonyR41zkzgVTPHqHvfV5LKUW0UxY02286P0E+WIbEx2jVF0AAAIc\n",
       "QZtlSeEOiZTAhv/+p4QAZPhPMliAxgRGISd2MK69Y0L3TXxADcnn8PnlYjkFrdZBrxi2wvCOvx58\n",
       "vM68StsMV9k/SXazM+S9dQ8DwilDZ5galvvmE2DYqfmHe8mkvEqK9l7RDrcpmrtgC28eBal6+b4z\n",
       "JhWoAqCeyqUxTn00UarpmLr6p63IaHcRFaoSwRFLNH/bNt6LRijnSZPqN68GsPR12yDfZVIG7gFn\n",
       "t6bAnEJzDcpehDxnhddbbi4KEiPPDrn37P662oWTrEpTEU/5ZPLxaKhty4t0qFVtcZxmoUIZnYxH\n",
       "aD1raKZqP4E783etcWERSHpg8ilwnteHeLWRTmcowJrab7zOceEKO6TjXXUgkjoMFC4QBJW8Iowd\n",
       "CFYKlhPYyzXfaldzUeqbfg6WA8GntzFqawqa7R78vZTbHxVfB45G5ylLyhSwsraCYlDg0cCMwczn\n",
       "BwcKK6qjHZznUNy1whmtnZwWTLcm6f0rOpcwPQiua+U4v9rZ9A7sSxKkiYiecKBPve1stx5kNG4U\n",
       "x1VrY1SQGV1F8UEjfTZ8cQnjCZjKsX3vzaO/4ekhRa0j5aj+2/il5Ec/0/U/hV6ymhyUcxeHtGQj\n",
       "59hfyVBL4dUGSBbWFDMF63DBHeSPGOLqNEPri6Z/1a+UsdXjef3fNADuJ2CUyzrSBBKpeCPNC52O\n",
       "CYTdqaKK7m4YrGIK25uJqwQJ4pOCbTjh4RWwAAAA70Gfg0URPC//ADte/cW68AAXUSSLDIs6kxJ1\n",
       "KkPtmbgapYmlpdXwGBg8kxkyV6xZaSwFaPwawUAvj3un0dOWZWQLKCRUDM41jqTTnsuX/7VAgmHv\n",
       "5vsgRGYT0mHpv97heVx98A8vZoSQKqnJRFL/eqFg//MlExX5d3E4UaHZ08zlurFzlBdKEH5eQU9K\n",
       "BlDqaq1ZarXK4P6TQqncYAnuZ+dYUXj1uKgLKFimfIkSQeUW3eZWelt902PV83ZBIfzfzm4LmNfp\n",
       "E7NYFTE/Ol3JkNXm7HCw9umhfLlBsE7OqtHt06gCq3y3kKRFHrlxL6lHAAAAzwGfpGpCvwBR2jll\n",
       "D6RSNWd2Lam2YwSaC/YrpHxoMrjEzK45pFo/xLJ6yQtfzy4sgaZ/3++LbBzjI8sR2oXf6ZOIl34X\n",
       "zbzZJeri1ng5ToLbsOR7mG/fM5Jl2x4dxKpaa+ToycFcvO7EoZuSXfF5tIl1rg2BHUndssHZeIYZ\n",
       "svOpZINe54+sf9x1N9abeWYSpaboBifzKWeikvEnJ8D8WRG8ydF+mABO3nLW+Xg3E5gHkuTPkJtD\n",
       "WUHBroNRc7ot0hBrKELrVy+xevT+1a4OnQAAAcZBm6ZJqEFomUwIb//+p4QAMi7X3e4qYP9+oscp\n",
       "ABdUp55j1C8P++pBWPtkSgMzs6VrsemVTYcJP/eI9WKlFS1dyFa+LyZRq2iNtpgJefBmo4YCBXza\n",
       "kd5PnHKGRrEdQGIAN8Kl35Y4WNrNFZ14KKvfakxd6i8pHVg7zjqcp99Oj1YVmripjqNshix3Q+W5\n",
       "P/Hgfcb3/opfX6Rb+662WEoOfIRiTemNcsY0jhB4/hkttr0oluViHzP62DLbwnnVy3g3bXPZIEXL\n",
       "aDyJoFbPim9dWir+85rEyfpQSTfs31xcVE4OrIRSEZ/fnLsbyTbIpzYbJADs5gAXzl9rnLq4x89J\n",
       "6OG76V8TdHVbDsUq5nN/UnAw81AtXjHFrIc9knGtpuvpzdLR96GFRKCqro7Qj0+ki6wU2n3soJjL\n",
       "7395dO1K7fwotfTD7HLttybOuFT9reUOI6Y5frQ2aebs2skTLsIAFfiSPVvm5o+XM/pAO0Y/MDIz\n",
       "jlaG+HIPrnG7grgQccWQaHS78+rpmdPDgHq+zBduWXdmejXb3EnlGsLj+tdI/LepFuYlX2oJ6ssg\n",
       "Iwffk7OXnpkRyabVilCAkD1AQ3X9xxC3Kwx5AAABxEGbx0nhClJlMCG//qeEADJ8JnIAlLyThZmx\n",
       "lnNNhf3gA4dDTja8UmAksNa6wo4OV8d4TYF4d/vJsj9qMKx6DMyiOT8sORyKK5e+/6kLtW9sf53h\n",
       "OECeN11Ijn5RPMQbwZXPnlE1eK/AGAdBrGaxlf99+RrBtmLKKMTjwKjvKwNJve8Mc5FseF4Qty5Q\n",
       "slbs7nlL8ZZOMdxZSOSbX0uq9SH7/vGS/P/n10ZqWH7sA8aNmSBVcV7ELcLCDli7YQ/6zjSjQds3\n",
       "I4cX7HIeUTiHBONE/1nbkp77Y5d9j6Fepi4pFTkiqOfEPTMO6KhEVLhEVJMbab7JQztZktIFs+RB\n",
       "uUeZyWi1CRg6LoqBsppDvP+8qlkOoDiBvFbV5W1xh9YPltd2acYkhfR3Jz4ieO+eriG8L5fRcym5\n",
       "q+greVbjplPUW4X7Vn2AbSSflCKKslB2Hni1TxuwEEcz28MLHcZtCYnVskZxF2DWOR0HzVhPuVyi\n",
       "Q7nKcnqwPS3AMdljts561OgLWGYDRwJYLb88cjcEpbr3g4bWNz2PVQmK+UqUneZJeQ6weZiwnZ03\n",
       "/AzC5rnKLANgqEH6tHsYs/s5aPurbbDVOsKjAAABwkGb6EnhDomUwIb//qeEADE8J5ksRC3eZ6B4\n",
       "gsrWPzoJGD/ZlgpNMAH6EP031KeyLBq4mTHwvvkdPfJ/OGnzImt3gQ765B9MbkpMngQFiKRkBGAB\n",
       "p6ajdoJ5o2kY+QfZ9G6wJdtLR9IbjGYwhalTswhXq0nNujbt4KbAhbG3L9PryBNluDTcwG/3EXEZ\n",
       "3wVa7ShumlXcWqIhSjZ1mUtf9VOFgu5FSWis/47RUXwZCXWZS/5OXv21kH+LR3x3t0bc4Pdfj0Q5\n",
       "1K/UBV3fRUIfisenr0OBqWX5bLJTGG3ZuEfEtMRvg2h6ESnSaox9I86+8MXTNO0oJgKq1Uqwysb2\n",
       "9Cq+snjtOX0BeBOGUCY6wzWG6dAnr0vs3eindJIzHoh9+3hmxyI4vxWiCwFu55EuSHugI8c7WXov\n",
       "nI5UAZTzdAw0BwPCu6CAjQBN3TICsA58ZDUDzZTNJNC2wNTVfbk6lt3D3L0rBQ/ETz7aY5+LMO1P\n",
       "zbTACNtGXeSN3x7XCWfjgEHGHngCYmyyHTibQdYQUWX5nKqwMadIEEzuFaAQ9RriD051671kMTNn\n",
       "t7MJtr86hjRerjjCxJm55wGt6zjUufP1kAAAAXRBmglJ4Q8mUwIb//6nhAAZF+8wr+LoLKuzrABe\n",
       "KJ5naB+P5yd+5P6aZQFQ/R6rPIuS26CaBMGBNq+G+biA+a9ltCr29oZFDtL9RJVu9x4OLQFgFB/5\n",
       "Spiyq6qqYaymJ3S+SqQhD9ljAep3CPLd4oLhDoE/DrmGXX4oQYDfOMy8iXX9/AGgEN3/7g+CS+Bb\n",
       "RxtJf7h0+5/1nSXfmloQCJJ6LDSV0EHD/TIspWL/7Gy2C2Eh0DNuttfFw6dsy63WFJyxcjTvtkGD\n",
       "IjPLuHW/DAeW87REXDT8fWFvmURI7oDmPD6nKWaW6MQUQAVtp/4sBLvzxpTkthCSh4vlB2dWXIQe\n",
       "j7eEkp3AQTBKX6T6JUXJY9xR27Nscs7cVAjYTgO6s73tLstijA15W5bBde7DFIRscWfVRfJSczfl\n",
       "+M6At3RkWxxgbe59nBz3jfftL3IrmL7Dl5uTWMrE629m3YeFaSFv0y5/HoPbczEdPHzfB+yD7qwR\n",
       "UvoAAAHMQZoqSeEPJlMCHf/+qZYAFC+Pok7/7My31gtsFV6S6kHIq3Z2wgxtAm1a9LA6MIsN0mTB\n",
       "GqQAlk0mhPeHaVjs9zGfiXTAdrVEqJ5WVHrlQaUoXKs6b/uHWOA4DtVrkvv/XkjaweK9+6y5U9q9\n",
       "1K0O6cmV0IyK7318O+CPr+XyxGhI4Fin7mR0Cn8J+7Uhxp+3yXAtIfWj3jNDJ64W/eJ6UicJVV8m\n",
       "0priXeq3bMgf+KJbU59xMLXIDJyNJHHyLOSJOdTvEHbGE4BNsm5sgyOb18LcYkNF4lVxrmx72hPt\n",
       "84EgVo8JsPnA9FXNvOFeLVsYMyreEk67TOT3TOZsN09HpdLX4omGOVWgF4GowQeQ3mxh92y+5oQg\n",
       "/qkB6VMtfSocB5W82YPmcz2EgXJnz6r/njRaYqn30U7VZMVyLBPnm3gvCrqVAQ1Rl+YzHHCBBSri\n",
       "qASHfe/0m//KNj0IrqrJvRtaEy45Wxzc4oFfHMrfUOsBVFnE0HFDScJl7vKXmNBgjz1ehUDenWiX\n",
       "rXHZzTLbTQa1jdIr/YhnAwsH/OBqhMqfTGUJPOdc4R5rlYbZwKgh9uAsm2e9TucrolpZCd1mZZGk\n",
       "lF61xJAasICKgQAAApdBmk1J4Q8mUwIb//6nhAAM78Xn451sxb0uZaTFeTyJveXQNePgg/OO1Asg\n",
       "EsnrjQWtxa71lfFOlrUZC1KUfsONA/Kz536uq0V+oc9EwMNIvaRuSCS5NOGNnkHaf0d1m0QF4rro\n",
       "jFFXgNG8i/5JrOV5ISbjA8o3MO3DCHRExbZuNcOTzr29hUOjWLUvtPndx4LYB+YfEjjrIwwgfkYB\n",
       "v4t8OUKuEvyO80lNuddcYprrzLe2PTZoYt35TCLEVSwcHTWUnuIWj/j5zgJxgauRSSHhL9dX0Kz0\n",
       "meurgAp0aHzFBkLuGbxNJLrne7Ofh+HfilnXOAvFK6i4gQc8ejEII2LIpxgLAhlVq0q0NtZyrGHw\n",
       "xFFVeZ2qgnd6ymbDEPapgvBt4gVo76oyxgT4EegrGpXE3xfWOC415Lyspg32dbNGyef9dOGv7oi9\n",
       "UMzHkg99nR0UIqbVSJPuJmvOP+AWZiH+Z8DPB60z8OgAl7vD0PHMB2VtQLEO2l3WfMEbk58Cp9aU\n",
       "hlqwQRkxSQaw8rMyLt3SxTtuKEsdkSf9ugEUmRNZzY+ExXbsdGoU+MiCmvu0sYaO+sdm0hc5dK7B\n",
       "kmP+m4CMwGyUo2VQO6BwEuA6q2YBRpQ9j+G1WlT04ojs2gjC78eIJ+FqIkYYfgeokkqu6CQdSK+d\n",
       "FPKKdcMhh+4keKbAatw+rkJIX3DNi6FSSQA2yqA3556v/3GfhHP2B2L2GO2Q9Z+L7xIMk90frmG2\n",
       "ziCFACS1emEr+t0gklVGsDrTrvTrqBY4R8AaKxjbLOwIb+pz2P5eEbdmVm8faDSVevw5/MR/eukW\n",
       "kFSFm/IHP2sC0nPR2+LVaKSEUgEkzy5PcyjNSw291sBblTOeyUgCq1HRofbuvHIAJWAAAAHEQZ5r\n",
       "RRE8L/8AB8Pet2Pp0JRQA3Kq8ugzLEroNLbbiXz7TN7w2B/0qQZ/5LASvO7viZrKO84CSidTzBMm\n",
       "TQpqf3Nu4wNGNGfD6MVw1m5S8sZDQbv10ce5xh+jKgSXQ+zUNAukPfuXKpOvob46lfS3MfQMkAFv\n",
       "LgEQlJVMqZk2RvyPoNburwbJNlaM+46U1WtBBypz63aaNMA0nS2ht6/E3ZFpP//z3jYYlRp9IQEa\n",
       "s/SLgmkdXhddCiSfNsBuRxGqGEvRb6U0BDeLEeusQKNCupe12aPGmJ8XGKse+VA5CMFbSSYYK9qV\n",
       "3f4fmyZRJpfh75MJWBPK+DJlrNkGh9v/rMVfLvLCGsblJJrYYvJHHL8ep3UcrBxNYRFJ3FO1mQY+\n",
       "QWUm/sp9f2LyA5iEXpWnu9MPFw3iI6UyL+v4XqWYUQZ2e4GyGUD4Aa5C4OzLK1E49+C5zh+oDiEI\n",
       "5+kowmGzlzx/zfUWZToDQzp4NINmPcezOvVtKOYXGF7buADLlirCgOeJM3XEvv0gWokA+f6ZVELj\n",
       "wCyS5rs1nc4KmKEWAJTBqs4/wdJn2BlnKw7TAC1emVf856oNNCLPEb+l4fdJh7PI5pAAAAFsAZ6M\n",
       "akK/AAqDRN6LVFWTPX3Qkj6AHSBLx7BQbt+v02sia9CBB1DTjmK2rz+RKUYNuq6CNXc82b71FBND\n",
       "6fMHYERqUQu9cHsVpxLP0rnYpw2SF1GMXjDVI0SB69OIt8vTzO1XMRWlPVWA60ox2b+oBnNuJ0Xw\n",
       "yAHGwcuEwBLo9YR6LFxw9PJhb0BoiThZmqmNdIRKeWrcq+fjMQztiwnPP3nSMDXpQl49JVc/zy4A\n",
       "09AzwSyDEvU6PbOCSb4/AG4df36I3zzZiwLZY8KBZBUHlbj2OA5u0/RUFdyvFUVIbjYZMRQOTs3T\n",
       "6BBR+vZ13EcpIMOkWphJa+cmdXbuIvepjDgbvT5+XZ3an6z3zuN9LeNte78AcCT1Dgfh+tW3bf8G\n",
       "E7QFQgKPbJS2tIOYh9PPCu16XyQocAMiTOFSbq0mMoKifDfb+eaKBSFXIUgN1Oy6s0E+zDu9CwF5\n",
       "V+zCbXvhsMu+OFddJgUbLnuFtQAAAS9Bmo5JqEFomUwIb//+p4QABuYyXAA7S033B3xkQpyB+Pwp\n",
       "m2tqcz8fsw+eajjt4eH5b2f0bvb44fTfO3t5ZDIfHDp5vLn/j4d1A70QkKx3MeRRk43uazG28GBO\n",
       "Gnt/ox8czpiA5huiyzeJHMfuAt/u50hW37C33TkHPucAV+Rj/cfcGl6a3wfaP/rL14F0q7niGgaH\n",
       "Z75Sjc1JBlEBi2DqPzum6PmJx/khK8/Y1vsKuIdCdsBcTnJxb9Mh1RS3OTH1LazxM3LzC2KqYaGZ\n",
       "+6dZRMceVRghRa4/qYREEGyFC0xk3UruMYdpskt1iHkRU7TDxeQFm3QXA7wExAXNc73XOXBwGnR7\n",
       "YduSMEB+ktL4LQhFeG5yDEutyDZEJOKzxE+ktCLTQA3pZEzralUAg4EAAAJqQZqvSeEKUmUwIb/+\n",
       "p4QABubdpQANG9txo6VbmQa5upl8FyuKJLEStpjgywtcWHz181wiLMu1CEufVdzjcWCK87ncqvCY\n",
       "lpRn5L4v+SQyld+BjwC8LPAeyLUl5MRZS0WtjEPyfZ6FgXh82pOXLE7vt5jy0nljkTbTIhA00ab9\n",
       "2MtmbVqdlWbTQ2iHDDI2VtZMTKFdcquYXJ7CTKzgAEJVniWUi4hQh6g5YHxkJHuuWxgkKwYdVz5P\n",
       "FkRmO1uf+H53SOfkisbmY2bsXTHCFQEP30o5iVIgKWPSMulTcEZTcVB+t/uC7rNSFH29Uw9EGVY3\n",
       "ae3KrPf+PTrU13jHk3/Z6r/us5iSv1mhoBacGBYbN6fWnTM4k1gQC1WdBSpGxPGQgS5GjH6CAy+q\n",
       "4OHrphcPZnpf3IiRobqJovwRQozrni/WajuGh4kChILxm5eEZstp4gXUp7HxFDoR7rxsn9mTJW/J\n",
       "lus4EoeXCe72t9iOavtLhtUHJ3WWEYzQ+QfMKAjtV+IoKTN/bbg5MT7rHstKQQEzUF2fFqYOyqnQ\n",
       "t8l+A1WUJYo3eF6puW52BLDqA0hdzIjF9iJGXlZFDWG8jtY9nXrQJNY6o4nXWQeZEiziixv2qIoe\n",
       "Kx6tPujm6uSIjD+Znd/TzSHfnheWEgF2QjifDjmlcDMomP3M8ckKtf/tZAeWBI9O5g3UEsH4qKMz\n",
       "r9RJ01/MCnejHi4P3h9zIyFKCATd4uiks2E+I7eUtHuckrO0IFaovtLA49pRRdNw6THY12aqM6uw\n",
       "Jx/3/c8I3WC3uAhBJOLVX6Ugp2BPx/S1u/YQD2nehjr46K5RAAACfEGa0EnhDomUwIb//qeEAArX\n",
       "Muw5/tGNOAAWH2xqhEGcKVnEMnKUUDN5hJXWObiXJToTYPnyek+Du485RP3V/jnc0F+KHOdRbFzn\n",
       "nPcF4kJbf1Er7SJDu/ncOcHhFimAtuD21BqZtG478ziBZHH/dlw79pXNmoQTREbKJ+i6XdpjKwaS\n",
       "BoScoAAAWF+645IIp1ihAyVQjO+o3GxOcx5BjI1j1qews5LlxRhAGpp7O31IDHT8RCF2C6Rl0KYG\n",
       "5xxDrXiQ72leardC7khIeMQMfqQhdBIng9VLWT3c2nsJ/ezkbA9CBuiHMEDV30FPuRCTkHOT6i0m\n",
       "4ZbyHGg85ajG4e7DJU13wqBlE+5JmwZwMSvFWhS1Z5kxx2gpIG5ociuHhomkY55+BQ6aZ1esfs3s\n",
       "8zNrzgbkM5dAr4Q6Ya+2fjuW5DqcLg5uKMm5jKTRLT2FlGpM5GbU1xp17mZUk8lvDLNGojp9lcf8\n",
       "llGTF/cfMEkBe6c8UEUJSwbYw9xaMfjxYju9GiFl8eULFpC7a7+0ML45j8Z7ImPrZorZ7+tT6INx\n",
       "SuWSNvSBSEyQAmFNxf9EO8k1jxb+2OqA3qQwRvqrsXp5SbhgDLfLj1Y72S8V1S9cZMqPCQ3hAzOw\n",
       "Sgnr8qIbB4nIV0beXIVvPwD6sn6grTlqZAAP68ivg6yc4eLrRv6B0HMwGVaiXHzfyo9HADyVt5Qj\n",
       "lXgzaUJ78Z+Bm8cf+8kBuQoL6F9T0DJzHRxEox642IWnQntWBVaYU/Ndeh8J+jocuCwaUXK7UsgL\n",
       "n74xzjtPyMEZjmzYwyhCkMcsn/t31Qr+08Qiet446BneofwGF6u/lNHjXhJ0ss3m0AAAAuZBmvFJ\n",
       "4Q8mUwIb//6nhAANya76ESXW7gADRpX5NM2zI1i3dhCE9W/8fzHu49LCnhGzFviuguZKhia3oXVi\n",
       "MX5esRc7xbVdT3/3U+f5aSFH6V1jTzl1t5WxvXvbsBSkmFqC3r3xE6NsEyIvaX5gWHXabB3E5j1e\n",
       "k66i02Ci0LfDpOETGhksuUl57cnSpH1qaXqwHrXnvrYOUGpb7D/Gr3H/Uw3NJopMQRCXlDxEaCcJ\n",
       "FBBlyneIYIzBKRifagPAdaabRPPQIysXhESINnX6y9hKJ1GTVNY51Xd2O0ozcNBJnw0YxVjIUzS5\n",
       "WP21gCHloLCXMe2rwEsBfGreB/oAca1z2YfPt9P1mjc22RcdoIQIYZKoRJ//5DzhLGZv982GFvj9\n",
       "F4AtuHnnwuyAElg55ytFGZky/PmKH9WAE+NTEuVuVyHTlbsbnYDos8bGRw0gZ8YBB678XJEaeDPY\n",
       "YoMoY1OFArxouEXGt5j95zHA4rRPPTqXBtf0RO84Yl1ksLzjTwCQTAVXCyYZUOUzGPz/2tBXnfgI\n",
       "/INN2mUffuIOoZSmcK0X6UuSFDUzvY8NySDwP26HWislDitzpki+9LlSn0HYOhrRG/MR897ao708\n",
       "SvXojgPPo1b4PGC12iCIQRAgjqgT6l0GxHT+CzhwFnHQFs/SFKdvIAZmZjl2bw7DlGrMJMO+uljs\n",
       "tPvhitTViRD/kdegE/5TH4iyJeCBy56KmIpSjLGXqWyL++tXQSABNROFgarG7HTJkDWpx1Tzt3/E\n",
       "EVxeCazk7HJgPf5KU8lMqJuvWS4HCN8aRK2Yr4gr4A2/AsehsFy/HQKR6xzjSjB658q5ko0bGuE7\n",
       "M+oGRp/2puHK6woz/RmEcKX/zblKpEWF6eKNqnkQd/4eLcksKxkXFZEnka9QlSFax1mTXqxI7Rsf\n",
       "6FlSIE1YVEFMU9bsqv60nJLe7v6O+5H51HT/u6feo5oU8L+Xpw5PQxttkFLczYD7pKw1YERAAAAC\n",
       "s0GbEknhDyZTAhv//qeEABUAQwFiUF+xTK1ZtAdO3UEl4DqklgKa8lywFAo+HNTDa1yXIgvEwNFr\n",
       "twLTE12nzBmYn44AmKZAG3UwGaX5mYctFf8eAZuj55Bp4/BIiaY8HRJ3jT5znY+C1FNc2GLhIlDn\n",
       "3Av8WvsjYjnWVDweqnpUl8wqlOnkfCBAYJkxqutMTCWJTAnnnS9lu6oYLAIWMmF9buP4p43hoXnA\n",
       "IT9JAtQfP90ymiJWhU5wAr3egGCPzEjhds9r4PD3p8ROY1kBWAbXGicyuZnzuaMUdhPdcXryfifn\n",
       "vO7XFDI7dOw8yiljs2Pl5GE2ynRPm38Z7waKum3N5aqUYMaGqedSuLO+b3OO5a2QZRl6tpPC6VER\n",
       "wnhkuZhSNThgYwpMe0lNI/eXcWnMoYKovQHOm5+zcRERFq5YK+aMl/3QhgqVjc2cNrtRAgkFXQid\n",
       "ZmsWKti34s7SzIM5uR67ooT0cVgC0hipyCm3Nu4XGySFLqV0pr8fB1/FOZGCqMil5EX4DsGJguXO\n",
       "a/+A25Khezd4fWz9VxUzD7V+yyoCjP/pSHACmeVXM2iUYjQ79wrlA/g/75UVKW8EYqQE0ijxOZAu\n",
       "QYQLNjjUyp4DhuoSYiyXUtOiBYwnKzDiObAR4a5wcAGfdpT9f05SBjPPJUo0ZLx1eluGCHB6o059\n",
       "n9q0wlY8/ZrCBlM+TS/t10gQ0zqFM+ToVHW6upczZnIHWOchOpLsEYWvlPEWRC3anXAl7tnoINyg\n",
       "64uscdEuL1Zd8V045s8G+XoJj32zkOdvqJHILhKCP39vpbLE3Ul8Sd13KT/zLxnOD0rkA0XplrLs\n",
       "fya+5XV+fHLgMvhGwQjtXb6R6sDcvsVDfGm9+SA+e20U8K+q1FvVspIcULaGfodGxnaSCZX74HC3\n",
       "FsTluz/ESScAAALyQZszSeEPJlMCG//+p4QAG70UXh2cYABO3ntsqPAL7EzhtR1J7HsmaflL3RLT\n",
       "0MNV1E00dh8lrPjAaE/cKK9N33vR9HKxD5dQgkKzKPedIM8ZawkDFZJ0yTn8dfBbxuvGmA/EFG5F\n",
       "FflO5GLvEDMa7Edoz8PoXXD+G2ofn3/kIUH9XIBj/cBCL32hrv+vII4IpUmva09bx4UrU9At/O8t\n",
       "3j9qKvTe6nm/E8B7eKbLLuc1bJtrkoAcvox9giYwAddThhA7QaVsgNsuJXQRPBvF/Fw4CeWzdJ4d\n",
       "hXqt2o8Q18x7+ZNMM+AZLYqu6betHeVITAiyDUV9ZfNG9rdXyjTiyb8FRJ5oz0BBzR4ZyzEJIiqj\n",
       "9n9te23S0ue211fqULR8jm0aQ4vzT+soc1AqyKElZGoFJwK2esiNvwIA2tc2UhzTa2nD/ypnQUu9\n",
       "IfXGQMq363y+9ORzF8suyCI4N+85IsddkrkKiyL5M5drN3N8YR+6Zxo7qMj//agxv+y4ok1Yg1Qq\n",
       "0NjzpzhjB5nxGbxyfcCBt4SXISRu075zAZvo0BA5iVm5p8fpsCMW6fMby9IOV0h4yORu1PHAF5w0\n",
       "dl8YsSbEFm+mbC4RtWzJxdighcQOfmXsLUaxb4LPk1dUpKWLKqNM8oSQnbCcdsLYd6zCzu2tX+QS\n",
       "k5CxjZhcsT8dxMRFIDpyNrAqSrbWKz0rCEgNdXucD8kZEqqz/XLv9CpoxeJe90saDRGh8zyMx57v\n",
       "k+D8vccLg+jFKKmKb9Sq8WG/x2vqm9+SotFk3RJ8yQFmcaGpnRGvOxPVpqDaIG3oTCpkB7WOSrGe\n",
       "fKN8bKfaP1s6uRa/iX8SjWjBkUFNw3wDX0ASrD6XuixK+Oc/2igJOL5aBZsGtRGB+QU31sC/o63y\n",
       "VpPhKV9mojhns39swv5ntX5ChPIlp7OIx0RWIV4RHNb5vrmzM2zLluwiKuDZZnFp5bZRYcpVnPQM\n",
       "IAg0SEbVm9vXW/urWZWtzZSx/MZExEmDLAAAAvhBm1RJ4Q8mUwIb//6nhAAbonDao05ACD9jB77Y\n",
       "oHLY5ikK4BdShxyx/Ow5/9OUvnQk41bwCuJe8mhQ2NGKWPZEH3+Y9G55YoaZMv6MRinKj86V6qmC\n",
       "vB0LUiv45cAgydhRB+uhFQoW7R7EcnCHj7hBzSlrp7s+VNJDQT3TltG4Q0+HG6tAc3nq/xpYKsdq\n",
       "XhrRJUstrIoO7eQHbjJFTq2YwsB8rpnGdgK7Zn4VmQVObF9DCIE0Owza+L4O8v23bUu1Sci/NA5V\n",
       "IF70S31nfrmEhmhcD0kGi9EkLDnnyrp7kZP630wo5GTAztlu+l+a6v8T+fzjESINt0fWHjL1kM7D\n",
       "hflhgaLvIyljk5kFsN8mCzDnhnNNSfXyb7gpUvWtaKmtTJbVzWMvzM+nWnIb/Jwnl4pyicGpub6S\n",
       "M3gdQ1c1FecIzYpBlONvpBkMbgpEgb1Mhlsx+RxqUm/op012XEkk20Yfwi0NROeRq4CF/JUoq2CC\n",
       "00I4PxOLN9mkAkONbM3fnnJJpup64DMsTNqQy+5E4aPa6FQ3a3D+W12zKe+/ZkuTZfOsxDodc1g5\n",
       "y0dcK6S4lHx1NOesSx2QWaTNV5Fei8bueyqXS40rNgp9i07+puVyEPZ63a1nVCaq2j82jLI+DMG/\n",
       "p0qQj65wxw31QzjN+v1483+uiU+xZSm8b+xaxALgH1jfL18luXb2x+eryFG+qlDUZaaITYzghmI2\n",
       "M6nbYjRBCUOCl5HkEd93P9euhaLtrWN80g7c5g4lWdRC+qH7qw7aTRr5UuTEPItY2R3SJiIIja+q\n",
       "tdxq/suxwDx7cHrGENzN1Tminun58bckYOq6dIrgHr1PNLfYreECgBnJ7IsapiNkpAhfu0Mlf+fc\n",
       "L1TzhSYpwukkxdluuo+nZmdSFYdpZGr7npycSg9VtoYnOWg5qFjSYisspMSQUHvV+jnkQ71mNh8D\n",
       "A56iaTM15ifntAxDDzEV9ysveghhDu0iNrGIjMx2GiY1F4lA94cW0MoMi9QK/Az4AAACnUGbdUnh\n",
       "DyZTAhv//qeEACn6QlmUbVeAA7p/hCUPhR1sWzPYpqt3HBXRbg3DxNh6imCo/ssKpbKNHORusqal\n",
       "KfxKtv8W5kz8ERmPULb0Od7eM+hIEAlAGDErGt8aHvYY/QBAPM7XamfhdaIlXykzBDRHWrYJ/3RM\n",
       "CFDrYPWn21yZWzomJsWQdkq8JEzdImejgWgKKuDD25BnuSIQDFoH88k8We3evqF7kWzZGKwtX0eG\n",
       "sOpYU4AyNG6OOdbjpQEzBxSaRao77p2emr4m6cvyO57yA6/uZvxtSKarPT5fZ5zVow+tb3t6jVf5\n",
       "Qc5h33x42tzIjs2jHt52B/V5blfuh9nTUhI1e/KUbRK4UlHTbCdz7JEt3A1ooBqZ34z5fEWWWNvB\n",
       "WBrlnHuFCSB2WyXzFTfRqed+xjIf8NHHYnG2TlZbwWca6Q9BW99aklINU1NONLoOX2Xbml89Ai/h\n",
       "UVKVaHv8sPvqu5Y4+izHAp4v3TPnRaXyikb9ZqRhZtAGcgl1GZWZJXjgKo1IR7atM10ALmBShDpx\n",
       "dGUdXUglxTte9vcJ7nDBeE7IbO8G9ks9HWDegVzIdxowsw/PyTc8TtLFGsovusfHHzt9g8/wzLhr\n",
       "WgvcS8DyrpQIxVS+XXQgj6ghFkViCbQksM8IZSgmiCczaYQqj6/jzUNzFf9Oe6Dfi3PwlrC50cGR\n",
       "s1R4yrXoRMj5hxNNa49tv03vYPysln6+0d3IvnZ3AaSv0gYWjA3EvQh+g2Q/+Q9z8gbGMQJ38TRw\n",
       "sYPlfSNpXyOtFbWQJsSRI5jMptP+t8k14BRv/nYNWdXNaBJvEi7i3Y7llQb6qheOokkmAQYGb71W\n",
       "FNL6aVv5eIKK3tnZ/cEwB4X0wjAW2OhTxypA7J8Y5aT6UGFkhQAAAp5Bm5ZJ4Q8mUwIb//6nhAA3\n",
       "McfgBbSD7qYlrLlEn1i1xtXXZXqwa5DfG4vJs59u1aiphy0orp/7g97bjLqmyFXZRhCFrYG1ELCu\n",
       "JTK5yZRm7VUv+ZY4O1w0oyjrvLQ1nhlbSUWl3gTO0y7/StSw47Lcd35tNwMtMELRLeiBSgE0iLH8\n",
       "ILOMRPnq6rnjASuMZTzrKyOqG3pxK17EAjICu8qXtqHpHPog8hHuMmJ7CKuYPy4sRi8xySODU1Md\n",
       "hSz2DHzI0KtPasw9ngKTLjW3NTUQzPWTg6HMqX3Ff7xNZn//QE3FqFZEbUtrwbuGBvKLO+2X4pBB\n",
       "m6T1Ehr0/IgCuYo4gvfGRV2qkaYEQuQZwA583JW3w7CG0Lp+owGs2op5aFlSIWObTQdLoTaAL8cK\n",
       "JtfQAP2kBNzN1w15vonAbHeynH4NVShvCj7TpiOVGWhxKnIggAhlmOyZYbb80yZlIWYxLAtTQjx1\n",
       "iAdQdJ1hrE/ZUGtKXskzE89/v1HquXxFQPOlrTq+6nK18cXo25FtYEkn/rQ239K7xgMCT0mhQQRy\n",
       "FkHOyIMHzuosdOQYiF9VaFIEobk5YszKMjnmVJR/Ax97xAUsOknCW04rRQZItMKDO0p9vDNrs6x0\n",
       "5HiHKuWI+WPpEhWITKDd8U43IX0abY/464cx/w+98f92ibzdyp7NwIOdaB6HasNSyAAVRHJOLv3C\n",
       "gycE/4eD5GW6Jurz5H+c3ChLuGEhxDtcdaxSQaSwgwwD9lgDJREcIAcdRQSOai3YCCYQVCjhadCN\n",
       "wzQLGyoGvVP2M9+w5ylrPxmt1zExWzpYJQt8HZ4XuHK4qC3mBwD1g0ZkFxLJra9uVhq8SqV4vxl/\n",
       "CuRC16PqfUW+NkeAPhevlf+X75xWCWdVnN5wAAACTEGbt0nhDyZTAhv//qeEADdDzGrQAHCKMimT\n",
       "aCtj8id1q+7SDwFLkpHm9vuHjM5brUAS+eFJMtpCBueKDWWWaqelJ/a4qElvJFYSiJgJ+ctoWZOZ\n",
       "sCuvt+4Y0o+xxh0CyTmDqQa/lTAZ1HVYCxZaZWEyPwOan0LKIUddVrDvmWplnMawT+lN6UowO8yg\n",
       "kbC7HgIfU3M2EQgqB6nJ0V9SvPE0hK1vP6fZYKBU3C/8LBOC/bHB5bK1ltcIS4iA5N2k4pxdyeMG\n",
       "bgHwLoV/x0AYI10CPwp9ztfe4WINuU4OmAuWeMToFZZO20pQOpq/WP5td5QppHbiWrtPBmCuDPrV\n",
       "ZzYVdQXcqz/WkXjHZA3qUIT/RuoKi/HMwNSYlKPQcHd2W1Xugs+uYzWGLPv8Vb+t2jDAU5941lew\n",
       "7709+YB7HfyXpsLhGW7ORXWCRXd7tc9e+TGg8/exv7ICMymJec3wL56eZMqCj5m5s7peB0Ay2RgF\n",
       "ZClIE6Sg3nXdz5W0U7moYV/XVwNTSCxV6zMe3G05krmjU+pbUgEVXyCpHLXH4t2CZb2RpUD5MVbv\n",
       "U4BoT6N+o3gQexJwbMb3RHh/jc1gR4D9UO2p7ZvAUuprdiy0vRr6Ew+FtuHoSJScd0AI+xRcBqdY\n",
       "p07aEPVfLXrUvj1NJd4Rrm9DgMT73sPpoHkUoLcCf9CEv9+6YK4uk5n362q5clNhxyNVzUi9+t9A\n",
       "KGS5IZcHxaYalKvtaozj3dRgMVos6HGObfY2eufYVFPlvuR5BIIaGZmwBUUG9/qmzQAAAsdBm9hJ\n",
       "4Q8mUwId//6plgAqXIWgMb4Sj1TB8ekq+W1AosAu6PAPpZKWGAzOcyK42++mRWa+93uT37fpY6Xh\n",
       "H5HpxVF12v2OWSvNs0CJMxHG9knTXJiRSt3YBN4vT+GtE8A169HRd8Wb7hGFuOD0HTwiYKRATWvk\n",
       "YysRrpT7hE3bJ1DW0YfpRIYpcBIe/Cx3Ll49fUcOftHXjWtBv/va5k7MbgdT0MtNoq75qWERGkvq\n",
       "tlNkvJPBohDJzFQjMFZOnusSglvroU7ABp40GE/T2NwFPrf7TDXS0bu3ENvOTbvjtzAQvOM28ON+\n",
       "9SOSR0rzTt68+fo3L2cYzQUuHOg5sxbto52qY6TyGJ28Z0ma74QLxQfqak5Z+dvCb4hWRlJeYvZn\n",
       "OpsRS5CRjC3FPRVuUAmhsJPgJOLkJZ2plDOlTOj9LkDhPBSofKpYvGHufTaw5Cc/9uk3Qt8m8pab\n",
       "L2Ru+dLueuUNKkn68patJKAC9bE9sRpRFmCL5zrAwIIXSl/Ea8i53L19NEcd8897VvR5s046tzR4\n",
       "RwuKVkJaMJyun7CS1O6vk+X4uPQBbaHj9MMgaBJscRyUe+BLuCT2HVmaXIOQVsz8C4cEP0KUT9mH\n",
       "9Tsg8njpKXNyWyfIly9TYjkg/etoDAZXEqkm2heXbeIHz6A0sxoX+xzIdh34ExJG/m4Ao2j4MJqx\n",
       "F6DgJHAzHv35rzMyeNvtYoe3TbVOoeXQIRO0umTufzeRCaTMN4ViLW2KjNaY6sIaZKP2rcWBX7A0\n",
       "1GeSv2VQCQpdZ2vQ14QKxB938xBa8d6r3cKtw4UaH6lbcM5TtuYKgPFBFBb+RFdsUql2JXQxUpwG\n",
       "O1DP+Nz/TGNfyvipwojjE283jA65wUYkgu/dRTHJO8JeOXie7b4HXplpAIC7a18GNhz7Djx6nB4J\n",
       "F1ezEWwpj0zUHKtUlCkCC1m/LIlKMWEAAALrQZv5SeEPJlMCHf/+qZYAKmwy27idACN5bGcOlzJB\n",
       "bPMiw8N3Ccy0Xr2og8NNRc4QF7tWxDn3+w4Tu+O0uGpTD+toKVQO4GivjLGdmqCoR/o8XZzKy8jA\n",
       "Fskd+Xq42oxn5pKerJaQcxomOH2wxmk3T9AgZR7+tiyebqusUc/Mobtm24GzqEQpxsQqOA6INgkr\n",
       "6GRrU6n+CLCefvH6v4jVXIwAc3x3Bn0kFO2e8PiwxIhOHtL5hJg9OhioF3Ud3mnqHvklz7h2kgbi\n",
       "ZZ8sOtcMx38eXE8/WNM2DBFD4LKfy2HHF+7NvQaQF6uFbeIug0HTQTu4FIYgSflx56dJd9aA3T56\n",
       "toVfC3cLLWnv3RSXaaZHdTt8+KaD/TxSA25EMr0Hr9ypxV27EVTfNNcERyr/HqV9CDW07DsRqtkG\n",
       "9bLVj35YMS3QxegbgRV/N4SaJKEXcR/Mqt63FJHYNbCD/3s1fuitKaar1Kgl5uYZpUoPCe9vbLGK\n",
       "Utu8QXN0Iru9dqpLDigh5cYfn/EvJseV+UASQt7QVCdP+SIUnLX/1fdm3e0VLwk2fl4eEG9QV8pk\n",
       "aiPKyF6PtPFXPPPhxSB+YYZaO9e0N67Zkce04etYmItyKCTRAEBvMRP/L/6z3BJUB6AeQXpyKlBY\n",
       "jODldq+GdcawCaMZBQLvKrZBDdN9YrBaXNjqXtObpKaBGLS/JyeTCtZYVgL5H8UFHnCw0MF7cRkc\n",
       "CMXjBvRpR7lXIkrxM+cYU1mmpqP1SpGz7hNDD8j1QNlMLJznM7BiTfmhsw00hCpnn+Yw7s2Ltc8Z\n",
       "Lwtp/m/44jhadxjmrCT4dhvpVswwJxO/j7faI04Nk/AuTHUj7kFpdJvFptXu6iKjD/vQYJOQ4rGQ\n",
       "m6BSxIdHP64hf1nQHFFbpbYCBd+YN4TxqafsqiLLw3kD6ELRm24pRMKZzMwCa9ILnHaHKOep8ReT\n",
       "3DEN1igTd/CjMpLrmBHL1IIE0Yb/FoWaSHul/T9www9oAAAC5kGaHUnhDyZTAh3//qmWAFC555Gw\n",
       "mBMO3ZYAIro4ebgY3l3IR9cIS/0HgC681YLGtaG+RwQSHbP6Trc6mYc3VLoVENGZP318Kew8q+jr\n",
       "yHcqNyOtOt4Tj7wD7+AcI1pgI1cSlujmK0FmnvcvQ1M3FPj5yu+jaUxY7/Fyksrou7+4gHgPYyyB\n",
       "m1Uxiw2dqQD4I2OznA16frsbyXVMWRBxmBULn6DV+w2Jx5HqiIOsZWvPPuWLwHkm2FUcMCOu7O7X\n",
       "uhz7Xm9pcf9zpnLsKPfCOSYfx5SDBwI7s2h6delY2v4slL5GhKRQoXjP7qiev0IjvdZALwxuZ1d7\n",
       "RcgI9bM0FOUNUpoM9h7NBEdJgGhRYQzuGMaLqgDW1s5rq38fU2pewMHoHG3gp0WBoAv2PnXrayp3\n",
       "iypCDz+pGOjuhHWlvQSzbVUB1mpl2Eh5otONdAN21CPQXQOUFWpPYz72/FS4eM9uZsojKf0PZzGz\n",
       "Mv15097OHLxGXOcckjjAbogUHDYF0BEby0y+x+gAF0K/yayejaxvMLDe1dkYgKQ3lPdvZ3eqdu3P\n",
       "d8ZhCehq2Mb43N7uUR5u+rWEMVZ2dJ2uejVX+/aO18eHqVBNgH3k12O6UkJzjoCeLSiim4i/vw69\n",
       "AbiFlPgAzJ4g7mTwxZGqGa+oIP6F/RnT1lpyllxM1SvMDnvhEs9Jiytgp3UfYdliC/YnD9RmymPT\n",
       "S1wajn7iLeJGLBox05PL9jHoOHPoOUPM4CCTSk7LLWLWtOoCz41nIE9lj1c9FtOX1+6et2gTD1VF\n",
       "o1L23a958dZZeGqE6ho474nVgwCUjdL6MIUdQow2Ib3TPlA25MD9YCKz6mg3KT6dKgRZH2yas3Dh\n",
       "Jk0navb76G7c/XqRhF3EK6S3WFEOs5ra0LuC8H5o6kdTEMVrA3JgoLPmP64BvepVjzu1UU7GYARZ\n",
       "sevyXLAEXcY5X9C26OJ7BpnLb2X4fN+hAAADAaDBYONGwKPCxYEAAAEVQZ47RRE8M/8AR24wit7l\n",
       "lHIgX9Cet14ugAuOnvsrBaLgv2mZmncP8Rs/vOdlM44S4XSecWzZwpx9PLNVE4B/9mExU7rBqkBP\n",
       "FxHTYfzCKpx7lGzv36ZwELd1cSKWNm7UW9fUcKlZoisIVYeKdIqKWXcUukYo4CmxUeCiYxbsXQE4\n",
       "v8g3e/jXttKll5C7rJpLFXDaQ10GzItMstRUqVnZhpuCd9ZXOxetMxLEDtiZCzjLa+x/dktX8lVr\n",
       "N8k/8/KAZV4MBG4D7Py/IL19RCeFRa7JNRMSzWdNYlS8xakCCLP157Dhz/rNFcsXhOfGS3vbRQjJ\n",
       "fbRu1j47/P7MOe3quykLuZLlGay8i6xQlJKjpi/VUp4XJAAAALcBnlp0Qr8AWvJmFdQI8LstxN0c\n",
       "UM4Cq9qcgccdrlHr/dQoXONLw5vdpytUfhqaMOluavBi8wIihY92IPZlsrxwFmG4Jvu8/3ZTdL9t\n",
       "zeKazGB67oNN0RUf6hrKs9oF91zlGpiKWUCzAzvIusk47G3LIZY+Yf7W/rZxQZZMnw5AOLvi5F1P\n",
       "LY54HGg1z4nhDw2GKC3c+3G7ua9MTyYd6hT/TdQvoAFH6FpvXUvK7AdtSSE98V9gFrEAAACGAZ5c\n",
       "akK/AILsF326B99gaF4kfF4VPdr22e3i0BeOHXEUtz3U/avFxTeQFz1ntVSYgAKCiLap2pAy0+fH\n",
       "whLQ13HQVnbuQLJx0hp1SDAS6MsE4HsMSgGDQ0hcu1zmTMrePN+5zRri8rVzwDeGrBYAtHlF8Ktq\n",
       "F4t4nYZ7LxsTlOzCEH7+WbsAAAEQQZpBSahBaJlMCG///qeEAG5RJiLaBl496FjzimpOOdAEbQkY\n",
       "vD4FsP+hWQC4zAi/JoAcFQxEk67o4id7shNEoX/+Fvr1fFhSeriXjys8xd5c4gghgFYEOJHuoVHX\n",
       "4iYRyUE7I2ERUfBgB8bLx6ZZYeeP6uK4iBu1b038zqHSZaCZHQ0URx6P2F1V/4ippvS666OPuyMB\n",
       "D4gie7hfFDuygRv1zrWmvq1ztXwbekwdfnZrZXp7QV1GgHOB60+pvzAAAIqcDcxCHyDAXdYC8dzn\n",
       "3ypFS11Ot2w0e0ACIVa9tI5E12mOrJlila5Jyb45Md9OyfsqpwCpM+DGMjx923G5w8eUo/RY87wi\n",
       "CudK1QqNYeAAAACiQZ5/RREsM/8AR3Xf0SvSyMOqr9Z8xLN7jACAwNirRRKYj997xhTJSBCKZOJt\n",
       "+jfZ5tpwem5hWIOv/qTFYxcRLYESzpDaQD4SDMY84aotUhgOOj/7AZ5kNnQeVsm/7f812TS5Xvc5\n",
       "UEtvHhoD5s3z4Q4c+ZQ6/j7aTjdSVqBCeFlhk3pbn1Zkq68vvUwhjtj7A3ZO9axCS9l0QymDG/Dw\n",
       "uM1wAAAAWgGennRCvwBa8mi57zh39qDEleqx10yuv47khBIBr3OrWJhzPRDaRrUkkd2MnlVLFz7Z\n",
       "1kzPNzy+dK0Ohad4GMbeZD5nxQAt4c4ebjaq4wmwNKexYuEp2kuT1wAAAHkBnoBqQr8AWuONQGg/\n",
       "ImUcVfqpW/UHtD6TF4dwvrSIiKveI9ZNKP4AE8cpY7bS4dA9LtVa+l2G4h+n7RDKKgBdpB0pArmW\n",
       "S+Oag4OAoLU6a6SQI8vJioTvQAqmbc1l7vZzXwvTZWwk5VxsW2GvNqkdOzJmax3GcSxgAAABRUGa\n",
       "gkmoQWyZTAhv//6nhABu/ZmgHVjxfRTGH6vVs6hFfvKRnK0x3x3oI/vp7oNHcOamfon5DqHUJdsM\n",
       "mW8HvNzH4yImeEZP6wSRRaDwYHK7OGhD7ydzY3v02RceKf4QjfFwfWddXlQI0vGFtpwvZQ10fL1S\n",
       "DEU0JgBkLrMjXhhfklhaIN7PNYKPdh3q/7Q3KpXwjS1Kd1vEn8oSY7s4pKIIRMT8x32BbvM9K0H5\n",
       "m+9nvIw5IKWamsrhCFsD2/S20DaYM0QmPpBSPDn7tLUIa/PuCHOD6cwhyD0GEal1ntA61u6r8Mjt\n",
       "OAKcRM/yEPSfL573qsYn352ALeVHAWt5WcJfOPN9A3d9vucj8UvHpTdDMSpC5QM4IoLpD/redQLb\n",
       "03qRLjbgdL9aWZCbX3PGQjc3g/KCNZuPUxSGoaKFIdvL4/Jx7YkAAAF1QZqjSeEKUmUwIb/+p4QA\n",
       "U//CwntCSAE1JlWmFpkvtjQwYtkWyvbHKqKaQCcijL+aRRbD+kDCpZLxLMsC9juftvaHlQ0e9iN2\n",
       "MGROeEnAeNtmc1uUPiM1rcq12E99XYosNFJU5q0mitmTe1yAOnfeEDf9JAEpQWSmoajiH8B5U4mc\n",
       "8BwEKqbs0jO3knZogj303vg0gRxd0GLPYGD9zWrPwlOPmwFFGGDD0Wq6RhI5+0pR/DBR1OHK0ZEk\n",
       "BAbn6cQQMrNSLwbUgnpAVU+Rf5QM6RsmkTUU2mmoDtPxdWPNjyTClWQIypcBFQSQu4ZEGXW+4P0E\n",
       "Rifej2hQS9ACp4zej/YwO+wFQ7GayZErUgs29eD1fwcv9mIGWx1HBpKg+HCrqaNSxgN7T+q5WdAj\n",
       "MfPdhrqmmFLOwjnu3ommj5W5uAziz2cHMq1HaWkUtpI2X28ePvbTfN2IW/7VALOFKKpnbfEgwPs3\n",
       "YCu441dQak6q1Nk6vG8EnAAAAgVBmsVJ4Q6JlMFNEw3//qeEAFR/HAHm8udFTz90MFCb+x3h/RUR\n",
       "uB7a5LjjHRitx4vJw4/XakBKak1XRWDlDTNbIGU4Tp+CsxIGFn7Z4g4JMNAH1G/OiOUWDPmRIGv5\n",
       "vLu9QMFHeYcTBCGtMmZ5hZ3/IoDO3VO63fqPwSZIt4P16QOdaBUTEX4V71pLEIjgpHfeF9x7OPuh\n",
       "/MiZpBqckpvpKIdyrIqnzol9U82xeEK10XpNGkV9OkY7zgKw/GsQKKXkY4z3SCYXvz+P38UPm/P/\n",
       "1fpPlVQoN8ck0Gx3VOmA8dHwar568lhEId7cD91Yxg8PkVWUHBuuHyAY3k1scpRGP+4Ftc3QiRyB\n",
       "SbJQns39mkv50NE50sSVpso7HqLLDkwMevuQDKwvfM2DJtfqUJQtW1m5i2p9265vBNJ1Jm9z1yL7\n",
       "t710l44eoOBAOdkzf/UhBSy9XFdicCf5/Ubi6vLGaahaINANNIyVKDae1i3KOBjrOMHYT45SVp3e\n",
       "059uklCcAg3OzOMeNpWPfMh3fiAFFCQseGiF9miP+dx91yVfMNPAGrY+U/PwXFcFZX80P1femlas\n",
       "QLpARK8s0eTfWl8D+RZJBqQThUdeiV8oNKH/BA0epGUpyg7MduI045AoPmMRnoxyhn6HgBg5pfUR\n",
       "IplzDsy42HDTSggmXw1r6n5YJm3X2nVJAAAA1QGe5GpCvwBDZCcmFkavMPSEQISAEy6oxOrVXAXq\n",
       "4/v90sXEuXXct7EkD2ikGW27kHVJsVOSF5bcNpBe5KUEgLwt+PEw1wa4XPlYwrDZDfeqVetyGt7c\n",
       "AvfA9nWzXW5J4x/tdaX2v2Wz6TLGsoWcd/P1nI3MUd4suYLX0ajFcLoFau03bsfeKDyRUMquJVsA\n",
       "XzpklYg43rdV70rv4Y7KrPMubzJF/PVK8vn8kLJEOhAyZke4wVMsoH8dxqEx4GjGxmhC++NIn5/y\n",
       "Pg3XSVun3NSskLA84QAAAbFBmuZJ4Q8mUwIb//6nhAA3J0C2JEokBN3p6feBelv5ZVZhPJqRoNJU\n",
       "6C1M+MJfhjhJqoheTHKQV02J4s1NrVNyJmfarLNQdChEygTDLqnNja8W4RMPR/6VJMtRossZaJwh\n",
       "2RmJ11tMQY9EQnaOkMTBUAb5Jlkxh4jVM5hWQ1fw5J4Ns41ag08D4kyczngmPh9JX50aoglrTcLU\n",
       "LFPaN/CEBMtiLNtJbett1ub2RRKNYM6qPcW3dYIValX3iRfRhMh92RUpQUQxYmPe2500syN/6G8C\n",
       "842uFl7mVeoLIzPx5O16Xvaq4ysk65iQMYUm87KNi2yYEV+qz8Hci3WO5JkLoTsFlYoHxepSPk5i\n",
       "QEhLt0VmcGWYrR5SPdTbRXi/rnUQtN3dsYiyMwrbqdgwSVP/8a+4IDMGodta7MTVfCkQDg1NFM1D\n",
       "IBe/lL0ozdAfgjTPiE+3vVhQKrSm3BsZOlUbYv7XcpxrCkm+uiOgZUOMAKVdfwBI0RcL7K50FZsX\n",
       "1EbVqWlHgXnDg86mZ52ttI3wwxjtkIZHVM/g7PWYT/to6R2pQ435jpHc9f5yK+AbGO1TAAABbUGb\n",
       "B0nhDyZTAhv//qeEACo8y7BEB5WrQsrS9carzGknAA5CehkDz85YmDnkI5MnupqHJY60n530E8JO\n",
       "wJmgHSGttjcSrtqHmDVtOqK5iXttSRBmgNLwh5Fdh5DQAC/CfCOClWAmPRxCi+cv8NZsa0eCwR1n\n",
       "Iak193Ui9LQVN3+Kg1Nxqd/u7iJRfo5+QnXyep07PxHVVLlyC7Vk7l08yyXF578Zmh159TmNq+Dw\n",
       "C29Qd5gncraE9R9qiEIKT66f1Yi/BMbCWkgYL1PQgTbOTqQ5ic5wMInY1xDh8vyOAy4HPp707lJA\n",
       "pJ3SRpLKP2yRZzr9HZb69Zn6F/tChYGKOSqtzSb7ry04Rfla9469CkXMpTWhVoZdxACpICZDzePg\n",
       "Pg1xjViAuglaFaLqbzUaETmUupSIh09Lc/poO6gFcF97hKGLbiIHBiflTHchOdAbbLnHlQLAYfEy\n",
       "kVVyp3dkjFk0fRVowHbLo2nH3hRdAAAByUGbKEnhDyZTAh3//qmWAA3pjivqrLGkhfnGDHmMW/Ge\n",
       "FgFAVulnHTu6GZ5lIJgieFpxPyXzhXXJQC9C/LhcLmDHUdu7T6JQljeoswTc4Wx6O482N6OvAz4e\n",
       "IL9OvSyq9OtUfm+O5VzIU5WOipByXR5RpSLpUD+izTpYAc4iQG8sTAFyPSoyByTIVEb2wB05lZBW\n",
       "8/Cy1F+d6yPRpzyn6FPWrPT0GpTclzC1kKcppo7dQwASVMYsfhMrShed/cCdI6zgvaQ4ja6RdGDZ\n",
       "L7PSY3CGAsAs8jz3MBkupm1KwhubGCwags3CxjvkLtcOG4yvOzEZYVG4x/lfpRHBPjOWx9CPH8/a\n",
       "N6MqmkiNiCIQzwjr2LYxZRYFXXG/An232F/6wOcl141BLbdeyOX0Lbo6feb3T3KVrhLKfbYI2gJW\n",
       "O02AyxkLvgjlFslrllvP/9bTqL5uYfZfjxyBJ5KSSwLNeM17YqcQjatRsvbeHstBJ/diL7dNcoTd\n",
       "BXWvftK4RNG/V4p2KWy+RiMwdp6r7+rfsAS9db+fxLimpKap8Qtzz9leN4zvkeYuh9t3U/S3MkDA\n",
       "04ql0ViuCtbPYlMvCtP7DQaIrdv81QjWTWgAAAJzQZtKSeEPJlMFETw7//6plgAN9pQ0mCIggJO9\n",
       "PbfkVP6Ivqoiwbeo+JooUaqBW1frTE1Bq1yD8UFItrHatCJBOKXXlqPZ25XGjnXQw/rmLCUgK/Y3\n",
       "XVT1DSWIgglKNh7Ucj8ttqieFQUv6/qwEsf27tiEH/RTF2XcpEB+pPmbv462v2m6jdHGoMwoReaB\n",
       "lU56fM8eTHb4rXGf1fkBBVx2sukjxKe9f76lAV5POggi/xAPSRnLaR5mpyL2NFo12EHuXYKz/eBu\n",
       "VK9u1dKvtXFf0EbEsPhHYq/8pt8Z93YF8/S2kWAci9MlASrHMcKFL5P8YiZYXaYgjFkMeuL4M4C9\n",
       "iFv/fjdFy3qBtce+GsU4PEfDcEbDRcKwiQDELb0OAHRorHgj6w5L6Q4rJSLYXHqDZ4PIxzaGWLqQ\n",
       "ybEb8GvBAW8eah5QzpgS1H/Lim8DeQ0ZEPpKqfHzng2iyEsKQEe8jlKnIuRiEBS3cQ6/jq2ACu5j\n",
       "LfCneT8+vZ2AcHnOTqiTxySKgUsrl6UqDVbPv8tt2RzstNjze5oC2oiGnWYSPy7gi3YLtG2aevVI\n",
       "YqfXworTMs+2xizWSClpRON+IJ2dndbU60hrYNhsQiMV4Gp/NMkXZncDDqdLvptcdYT6tjLm6dEd\n",
       "veYQj+VlPlfWycGOk4LjFww1zYxSfdW2NvNsfDn9JPKiue/M0tTLUw6m9Eolg6gq7AN24yigqWlx\n",
       "GjxkL0ox6Gpw/1IkcJfKipOCjgE0g2d2rv8vOnrecmJjeDSMqiJWwXvRyg1hmrl3yuQJEJmdAcxv\n",
       "4Nt9Ymlb77ZkxATP2LTN0dtCj6snhhsPxxzPPEnAAAABJAGfaWpCvwAWtonzlvChGCvhAAr4/uLv\n",
       "qgLy8XUrhc0gYuWueHzoltTQb34tgL7e7QjzOYMzO356vzE1dGMJEbMNuQACz6mtCet2zvOchzO7\n",
       "tR5nBuWqhAiAMc/4qgOF5TfSDAFp6IL5/QY0nqCl2ZMcbPj5UBmO7o6+XXaTpNjxu74Y2ZhBaYe8\n",
       "jl/micP5m89GaDtelwQSDeRg4qofihkbFp0YOCJ0SiqP3+WQcfsd64LsXCnb/HC7vgd7JAlnaial\n",
       "NGvDoPj1FOQhcnOtLSXyJFyrR4j4U8JiA98bDVQRmVtmapaA9JFZP8WNhgscGSzcdS+znUZmN6DL\n",
       "SyCGb6N4Em9tjLgk7qHePHuvWRWyfyyLnjxm95T2u/gEEmfUKl0QsoEAAAKLQZtuSeEPJlMCG//+\n",
       "p4QADc4GYsEtDqXl1qvtcyCHdJVXwF0QFUQP/uvRwRYl4oJqRCY4Yvmw1QoNq8Neb9byu4cYhwiL\n",
       "RO5P+4VIekmnuoYrP07jjcTRjxvZJ5f/d0NDjVVQ5eYRVOnSDnA02I49T9joZRpPb7uPmJR3dTL6\n",
       "32T+UwJ1x9Vx12s2+fRSmE4L/4nro5d1Fou3yb0XH/jlA7fnop3g5ebdN//OOm7W5U6M+pJjBsby\n",
       "oihGMXnXOoswBldAP2/s5dat1w/UIL6O+hDlh2ssUaedcLsE6utwuoE42PdK+flCFKIk9pbTEl1X\n",
       "xmqIbmct3+UAxJfpD25Vwl0eDVQbRRuUFXHfawGp9u+fGIC4LmUtUqgnhvG5b6LD7toRpNrJC10u\n",
       "OQ7+UHrEWL7r6GW0XJFzJ4mRdjbmn/i0Xj3MbsNoWjwqeElAl4S+99MltRRflQbOWo55aclkpMY4\n",
       "d5d0O2HX2wG9TABLCLmt0als9JWwdoYQuBIMPMW3WPvRqTdyLoj7VJT/mwnmilP22A4JR3PrquTH\n",
       "6gQgOLaDe3v8nhTvj8QFplgSEiR9oogyIyrihvHOwyuHxLp07JXx2zi0O5d5SVyM7vgiiMqHTA1+\n",
       "p+dT8GE3iqP4lQ5BZDPmIkgMBZd4VnyPqH0sjrMHLAj/Ily+oPpodJIM5WcrvM523Pn5Yz1zudXd\n",
       "s5W/fQSFa9WXcuGx6w2tcQDg56uNmwt1Ex5tvaO4YaO4/dbZ5X588pi9x4h4JxzEwisPHdwMjH39\n",
       "HHO0037EZuaHouDmpF+26ibbmpgASJGwrk9E9qDkGadCfgxnBWY+mEHORl+sFPH/ynUfzQHcOJwV\n",
       "w1amL0wHm9IWmA0sAAACbkGfjEURPDP/AAYhGKnlUOsRr3OvBJpABfXrq7zyHOjPCTU/DSWrg0Td\n",
       "/EkPkyjjJ9CEBi9rRej+KNXQhkMn/QiMwiQyijCzXRl5P1IA6E6NFhpHY2GRkcxs4VHTDapdtmqT\n",
       "9c58a27A760DnjjMMx6oiPUcD6oXqVhHPtc+d0QiCmMVCC1kJ6IG3dtkVVUlrLv6oRmdaMYNKrYG\n",
       "kYGZV2CQ9LX5AN6KS1muZElnN0E6LRGCGmsXeFTjiZRB4W9Jq57dfDNORcN+5nJbTxFMkhUiz95N\n",
       "BFmjeGfXpBDP30GRJy3DxqGGoHGtLi0Oa26jD7twVmqvDp5v+/lVRQirh+UrOwEGUHWYR4ympdrF\n",
       "7LygA9vIHB/b2k3//UQ7Ca0CKr6e5jQe1Acr3o8x586CKPsNDoAoxNm4f1OhLdnsOmdM1fy30H9a\n",
       "66MWWe1b3ed1uafFPfoG6UTMeSiGLdfJqsvZqmm+nBbxAXQa5BWhay6YZiZySr6/gIDVJUILFsH+\n",
       "+SHXa8g1Y/2Aby7B+d/Ktmhs1nT/LXxcOKY1MEM2aqeSULUm3Tgvd0h3+qwoXLgPO0/3ETu4CbAy\n",
       "Tzlp7zSbL1DL/+HeCgW8UUB2wqPb2Tyeo4p8nzRHBt1fG6tYu9e1yGSXOyi79VDYcZzsnaLauuEy\n",
       "1g/f+oOP07AIkyiySfIxmxUUxtvpDY8LX0Ec/ArQtKNJMWnhhrXDHHYGETkIoEnaUPKZp9CzZuUa\n",
       "nuCWe9Gwrplow9+qDYC6UH50G0Z338jeRLrn6rM8jnrCV2d0iR0pXAmvLg6n3lq3E6zw1h/IjVXA\n",
       "1+EMf9JTzhLLK6AAAAFIAZ+rdEK/AAtajiQAt47VTvImu9q7atnJt4Tc160BmnT2SeW8i4kLOT4s\n",
       "cvTEYZeDLxvq4zB5Z24mwteW24tKSFg2igdCnrZ4rMklTjAlS+LuEWmVpTJm/fDzK/LoCML934f3\n",
       "02zu7HZ2jP+7ID6fEURn5+TphMEgsyPuTcIP++mZBJMW8AnsCmh26I1vMg7jIGe7wlg5+l/6KMgo\n",
       "oQ4FPYzJp3oUtHglzsie7UIrSwPV0UInZ3ioMpXEpSeVRu/X+Mhj23z5EZMncuYqwP+wpLL7ZDih\n",
       "ibFnc24btus+sowvtHswZ/B3aiQecQDEo/Qpmw+fzdgwFB4PUqLCd8p8VJV4H9Mn3dNAEPRuLpBI\n",
       "7+sa46+I+iPcAFHJvkyXnUBBIMUtv+8E6IDsv2pOhCHg7CFJ1RaDHGprtYbVnCtMMxaMSbFv7ZdN\n",
       "QQAAATQBn61qQr8ABas8rQGIATV3UvbVTTh5sHB6M3nfLBcHUHFYPC1mXaUctDDA9cLqArSKbvkQ\n",
       "goRpzQsUUOjzREcuoKZy3GiRgJ0ty8OzSElBLGhIyCe9fpz4rwtEp0mNeHKG3HaGKG0f8g0Mgx/S\n",
       "YedHZ7GYhiu2ivoVDLXy2ojLV8YIGG+4g/atT1pbIHZTPes0OUTcIMuafqQ23daQZuiNIiLqJqhW\n",
       "RuWfqJ9P0jZ8wI4nQVWJ9NzTqyzJt0aXmNpQ1vhb17YhGdu67iO1Fiz7iYILMW12NZUqtGz/Go8F\n",
       "UnBgiWI/btcuJelQWiSSbIGtuMrPoI0kh6Lf5IBEZ2SRKnMCEaw7rwJsfjRDPIiJYTqww5/6Sfhd\n",
       "+YRvqoQ6Y0yoxOneThhU70CZQDDgAFMsDoWoGwAAAk1Bm69JqEFomUwIb//+p4QACKrac2YTUype\n",
       "FOLMALeuBuIoWlOX3JV+MY7mIYAJUDfoAjvi1ki7spUjfDhSSUa+mCf/WLgyXOWRjMfTUFbuB2MX\n",
       "FVjPYwGGSmycDi8Ae1llgQyV3ZA6y6bPEyvMzXRygUK/gK2yvfRrXd178h8f2dHvu59h67cE9AWC\n",
       "5PxQhb6UBsW+WeML4PwF97jxBmMjayC1FgbtzP0xTunKa08g73X67lXdcukW9LH9Gv84DkVBw5BR\n",
       "A1QclAAge+VhBRMBBpvBXK1OhO0ligzcFN8maA4OQjeu+Lwk3a+MlBIBJuhZbCxfrTTMd46kxz87\n",
       "ZavAOu8p306pdqqQymAetAJRJk59Xk13n+hQhJpMtM+obu1OrvCTHvPCRTwl1ETwXkfMEnPes3zd\n",
       "wD4O+WI6dk3Ycj1QSMzzwU8ZWt3x8RwgxASIjoY/e2ozurvjh2OguT5a1DoOjH7KPGKmuoCJY64G\n",
       "DGGTfD67KdneYCaJjWNE2Aa5V4zfML0ztmeQMrIl44LN/pCKhcr5pfuMQUdgAmWC8+v6J6mdT9IV\n",
       "mx/bD12SrCzPhBUTnI756unRAjG0dNIlyJx+CMXApVwElkN0PysrBT0uO4FP3IqjVJ+VxckvRMsh\n",
       "VgOdIiTk9fZQYXeiCfh6CyJ3JWV6mH2DHSbHzJnS/OIl3wJPcgprn88fbvlPA9aDr3HIZClv7KSv\n",
       "mOim+o8b8Wxbi4/KSSyruGM/THB5nNp9t2j3h/cjJeWK2cizHNw9tGewvSDllCUAYZCBAAACk0Gb\n",
       "0EnhClJlMCG//qeEAAzvCeSnTcVzXQAlqQloAEzhMahszqwrzoHd6eeY5iHjeFsDNotTjmMbkmAN\n",
       "t7YwvdAMf8/dk/mCIpXD4+BJM2rbGH+9whecHMjlOt72VBMoez6KdaPVRDYdQc4TVOAmxr4KNA8g\n",
       "GBv2M4TnqrQ9lTSTTdJWsARlZsKUCGcitKLQV7BOUPXT5KapHDrhyyAgfhisGnXFK7GAby5C0N0B\n",
       "jYW0oOEnMCLTwSApTD50Qz9rs6EbhLclU++g5Uef4ZJQfre8fzoBkhST0ADDfKIuLWx70oeqgvGa\n",
       "mm7qKotuo8vgEslJsfQLNS8VDjo1+FCqGud/uJSFlYrfht7Qw255pXygYCw7dWOZEtRzbooIOFPR\n",
       "FAcjtnWPAq2IVkhEhD4YGCpPVudj1BFcyXZJHkDOLJwUOA8iTcPE2eh4FfT0tfR0CQvOEBBIRXgY\n",
       "XHwTVpRZ/jaNJ25JZ+yBCwX05zToe8Xsr1RcIJvhzqrHIb34S7Yhr1if9Ljlp8G6PViloC0G1wD2\n",
       "GarDE4stxtagMDRMsFGVq+Yn3yc0+D7MnMFB7uJmd2N/zZIezQzWqv30vK/joj0WPATXpwb4HMg9\n",
       "InMJc14FENj9gQl73jR/Lv14VfgMeTGbk9VAePgxgc6nf4v/yr9QQAmx+tocbCZOQbmNcLgsuIb/\n",
       "ZdOVlB65PWyK0E8C8pv4d0rSzNAhwSF7hLjloEsjAF5N46D8k75LE0Q34EXgpK+zdu57xqpMWfsS\n",
       "ftLGT3MpKT+iGmUVcy9Sbg8OAceSBtgFf2wiKnCQZr1Z1DZEzSTfKixWSjDQkPenD6T3EQ05ppAK\n",
       "K732gQPisvftTCUEm/PXHQ+dSWgpvA6RtqpyfeBeAAAChEGb8UnhDomUwIb//qeEABieE8yWIhbv\n",
       "M94HdybSKSABEw4oBoI1t7douukp+iGB92YooSfq4op6v1CnRoWq2sN8Kn8iVugeHS6rQsv1F/Tp\n",
       "fvO2WexaZFZjo9Z/dfFDdedgFXcqvGrUzKRFq2rzhyaD93JvhI3nb2dFdMJFEehqSV7IVzD7W7aR\n",
       "y/UR9gZE68AnLI3KlwTv87T5/y2fsYjoMnWU8SbOEqqJIHA7ovfENRcwQvc4yHXMXdSIuzeUEMow\n",
       "aVY2V1nbJ8BYDRpYBXbOW++/aiy46P4BGo/4IzGKm+veauLvRAGwfvrIxzqP0JqJ9E9nFO9XXWLj\n",
       "IO+Ogoj/5Y+Y+mkQGiueygfNu8PBnMd9H+QkcMhesfphDSZtC45y1K+V5J1OZOjcJOzgwufIWGlF\n",
       "D5kgHQxzuf+50skHDdBi/A5JMDXy6Sfb9x38b4BRvB51wQB0PB04CndhCOwZc/4HZpjc12jSZ75T\n",
       "i/EK2RbSoYNT2GQZfmka0dQ16O7YOzib0kapXYep4n3sFrpMYlankZwUXQ15DRZWCJNrj+8CitJ8\n",
       "YGBhX9noVxPjFg9CUFL44mI+gTNyRURU2QbRelpXsSZPtXzW/9izTZqpH9R5zKGFRvcjerQFFuVC\n",
       "b7M4Xrc8F4ZhoRChVMRKvvVuIjl9UAkolwmAmgYUqDklUwmE2gNGjjemzgU7H30QFZkPhSh+BXaE\n",
       "wNA+2dk85Jm8facw/WUlPsYtGTpf2ZndldloKTdl8eFBSrugzqm8fwEwF9+4RYMSZRmaih778t9t\n",
       "GdYQanFA+fAcukXytqj7dwte3pgpp5TxNo7uCEpcQVN028QrQ1I6l9KgfKzYVBZMp5LqAAAC70Ga\n",
       "EknhDyZTAhv//qeEABkhUq/sURQDNWuPsTYANjPG3CV0/LU2yQadonptS7UNx8pX3djrcphe3iaq\n",
       "9Uajvox81EWhpfYRpAsQx78hUqHMD/s50W18DZSx1MqxxBDKkkoTA6qMitYLBgWd2j/zOE5ZClni\n",
       "BqeGfdhuCD61xWmQhwqJ6xHxprn/2sGu2E8dLq6Ujb1FI26Re9wfnPSBMyTxkZ2jVv1HFYOviJCh\n",
       "0RjZ6c2ORKXac9XVXCWEtzWQ8ZTQEGpZRVmIDOCFBVrP8NKIJ7u8hTorilN7cGp/QiuRaLexG14G\n",
       "q8m6Ef7wmeLe36dw9PiCLLOiN1RH5UlZCurBEPJUfv/TIty9U6rUpMRXlDOohTfAc6HubqGlxKit\n",
       "j2/W7b0drYeORg12zASmk01GP54+vvGWB6RCAtbzVsDTIiJiDMivtcNbm3FTTzdEfHieTq3X5pIg\n",
       "QLP9DBfcmbiFymQ9rByj+Z2Ka6+Gumn58X23O6Wpr0uMHZyDvdGzWphMF2gym9s681UMyKhEny6g\n",
       "PqRx6WyILVDD3U+lEgpF0QcPtsrn7aqOtYY2zjrsS7kvsm2hqpsA/0HKbOHDwQXp7wmOz6jGXRc8\n",
       "nQp34ZyU244dJ69CXivRuU8sgMsHqzLiKJotp6vhZfFRB+6iUjZIkzaf1kb0BoinfQRMFaRjSpHV\n",
       "X8SHGd3kq3OTE0vPqKI1INWYSWEgw+NZXbzNoveRjTsEauhy5SehL0Vl58Ra7AoMl8Ja7PDXMZeU\n",
       "hchVca7U+Yi4Jodb5iOjHb6JH+EIVg1X2yURT/Ly7iOQZeboi2wTjxP4i0Hnh9WDBtKZPg1fYMab\n",
       "Vb4VPTmvOPzqw9YYs33Kjlfw4sgPH8J61lpMvfS6JBhoQ+5Q0y2d7XGwDrYuQyGopz268aWYeoBt\n",
       "ggT4UVCAfR/UVfBsXBtcsbCIejZED8RLr1+Eu/Oym2FRoOAE6N6Um/R2Nk7vtzsAAAMAA0LdTbK3\n",
       "TTli1HQA9/EAAAK4QZozSeEPJlMCG//+p4QAGRc8gmLKAC6pVfR6aJ+POA6ZuBCPf5TuKIqG2zlg\n",
       "IEA7MNLea2Gl/5zjeNt/f3CoXIPPkd+BUe4lzezOUab62lQ/wG3dxoq1Jqv9jj+JPNJWyn+sN4ZI\n",
       "ukXgzdSosX7L3A/hwHBmowh+u141Jd1fxH0nogFMf/ZQ8sWgXvuFxjvXkf5ufyfOW6ozVige72v/\n",
       "ThYSc1Cg0Np99xdZ2d+hRaP+Pr1Mbh4wrE1rTU3oSODVcXkHSvfQZTH+BmOrSqFLXYx0wQUK5yI4\n",
       "XDyw8vkY1cdNdew6J3ACFDmUh25fwu11T3wuEiMPCvE4IVn6WzM+AwzdcmayQANtEnPKLuxgxUeh\n",
       "dTlwz4mOVUnAf7T4IzEcruFW1T/OHMtQAA8ci0Arx20VbdbWF/JciNOT87hB/hdcmjUDZZn00s/Y\n",
       "BbeEM3fURKZGzQ00x4gu/tnb1fvw5/oV86HKOOCNFY58cEWpeePDmhSRO3EUpz1QhpIxU07HaQsJ\n",
       "LAy3P5uexMa+/gZ4H0Ujz1W/0pDcfBwEK9EnYP3SFA6ikhzaRcNIt2I/8LyO19ZKSbwBrHTGfpmy\n",
       "YBN62lO8AifcEewAigSBtMlHPdxJYgwbB13Vy8UrLd1DAJc0dgpYfjXA48sMgDeIP6JsLgdu7TOg\n",
       "I97hU2CeezVf7cTdNwi8MbQ3nZNkTvIBsowCwXEsHlJcp0vxvHdMnAlWBLsflvqSgsRnCak2VAzI\n",
       "913Ebyvid2fgEJoOuIgry35Wl5eGtUPbuKYFIcYK0329LPfscY520fKujSwEUU+vzUtqeEMsSJ99\n",
       "0L7K/eNSuEWs4v1zQSWRFc1FOuHx+ZMjRf9W/vefJGytMp55RFsCNgtV51jFbpemoDCJZBRXNFb4\n",
       "WvCB9RvjXd7LAawn68iK1kWvYpXNKtJwAAACj0GaVEnhDyZTAhv//qeEADJ8JnHvYmVo7iQVq8Bi\n",
       "2UYBsRawE+Th6WYSH7uQ69UV8ee8p+hlwlrQU1GFcazfkgxZRiLeiUMPEa0esE+p4SKQtGQPhDdi\n",
       "oPDLcEvqY22pUDobJb+hQfozKgH56vfobUU5yw2FRoaYtrVsclMg6ieT/5pOe0iUGy2YUs7uS3Qu\n",
       "71yflcIDax3lqA5F90MEaFrw+C5jsn+QQBR89kpfWkdanyBCjyazcDOH1wGaFNxuuy34gfFze8oD\n",
       "7gukTOK5PhmNODunvsMNSHzTtcUHzVDJndNHe7ynK63hjp7DZopNfKwgDmTeCgb9B3upeK5SDmgW\n",
       "he1i5ORxXuoPpVW1ZMNrHyNrvOgrEhShm7efG6onDHMe2n7oNXLSJ5GmKJ9vuscy2LE5Z9+jHr0Z\n",
       "sgG/BtMK8p68JCdNCgYniURviZOj694RVrDSV/cDZLLUXmFeW/UA8fwRvDc8ovkLaA+v2MYNrDxa\n",
       "+8SQOtiTSjW3O6QMyCqm0pDbZzrGuMDqvVhJKMm6OfkD36nsgEu5QZhfChoGyDBd7SaFOdEHPLC1\n",
       "IYIVaxuW1eIqlCoJNqtAQZWDFPQZh879DSy/roNQBrFKZG/7GgAVK6ZkgsyFZVSzqErND5qTDGjA\n",
       "CwPfRlhBxzMKrSI804OZ9gNPFKrTuKBlmQfoRScMKwF4FRj/ot2xrdLm0Iiwd7lDtEcIdQ5JLkl9\n",
       "0d5XOAOgj29VE30f8DHKN7Bcc6hmMUqHLuD/aWJcYrkoSFCWVohzHOoI3fdZMI6U/B1vUt6tQAkX\n",
       "wPBhEr3PyQliD0Gp9l/AL3zyRXgRot5qFyqAcqbME5c2R2/IWQ7LcO3dwFnpk2xFzk9iqgaVR1wA\n",
       "AAKtQZp1SeEPJlMCG//+p4QAMi55BLbNm+48sGQAE51EeCyrFb6g3hZPc+KjQpS0z8u+eKFYACzf\n",
       "/UhBSy9dAujWnOm3ZDkkJA66Il661qKA5lhjPvzFMDt+Ft08peEQgiDuRAgoHG8yOjaciA6IeGIW\n",
       "yqblgy+w/7ME3HsmMr7SzdDW9CcSeBbyusyv6Wnzou+XpHOzqpTRSpEKLtVerqt9p/HUjlam27fF\n",
       "U2+HAUNilRIEc6GKP/qjn69uCo4nI1nMjrAZIiKdVUuATEiO2kRecXWVIsLr3sZcgIFLLfwT1D0m\n",
       "QfXlwdUBbjvd5erLzrfCOcfPj//Pto4m6HzZdQFm6MOKVwOifvTvcM+NpfHvFM0JeZBJ+2n+HvmU\n",
       "jkVGqhwKgZ5qr9xl0ni4dI/I865HRpUQOEzuQY/Aoqnk3/DEi4odATocyG74zn62W1tn+Bry4DhX\n",
       "224ObuZapYAjFfCwcz9+TT40crtyxyvjhbxBkAuf8TZU04WhsG+PdBqqCbIwLNbvyNG2YXElT/W7\n",
       "hHTy14sJNhMRSd7fSOr1NS0+HbICjdu2K04XNjDvaDklabDri3lguOC37dzHnJMXfQWZLB3YXmgE\n",
       "mQBGhwqXzR0XklMKFNWUHNZZv9DDG3DPvxRPBhy0ctdtnZB1WjoQ1XsJwOyI+foUVoJoFdMJqvxk\n",
       "ZLmdAK1fxJTfKgLIhDP1tjVYJotO+GLinSKCUe5G6/6V4X//xaK83nPSKO5zZoyxRVnRqPyckwg0\n",
       "AePt1ZJqU+aTLmidnsv+i+0pLnRuSMhMj4Ue/gZoObD+sHfFwDCvHa0LIM9JDb8hGX02wGws0XGm\n",
       "abyL05mm9It8+VFCsk6ySYEh5DnptnGS4mLPrLRgXdaynBZunLenPB60oOvTqbgqyIvE7yfXCgGS\n",
       "W6SXkQAAAotBmpZJ4Q8mUwIb//6nhABDum9qgX+GaY0aAIlHA6izYfCFx+0RjckbRTkavs6EiIkk\n",
       "+e8TAQ4NcTd8bitMakUQXWxqc+fj8NbkAnyxuLew3Jhd4bfBNKcsTP6RwffQClgpE9JFAPd67J0m\n",
       "D1fIvYF+bZDMHlxycU7glQhOG23tBxMyJrszncLIx4z7u4b0ClBtGjU88wpEUt9j19phCan/Ohvt\n",
       "vb6Tgvq6cUzdCxX1D/Q0yQafl4s4IDI5Vm9tAao3mI1qb1qIPOrZ+u56Xr4tBvOV70gKMzasazeb\n",
       "cZQGQW0MEgIQmtTlaRe3MMqrlFZjkLLSXGM7NelqyI6XrWco08/BBhHC1jPSLV2Hn4aBXLYkuPKp\n",
       "es/RsNED5jJ1GUM9WWYmSN4dphof6NvLOqc8S9D3mJS7+AHAfTbeoYzg0yKDaLSP5WcHjDuC2zVD\n",
       "ffMg6KQIpm6GkJ593BV5o5Ok9JuIbDKqmrvGf1Jk4kCK8NUaaaFNEYW5PgbiKLkdkIBe/ZwNz2mm\n",
       "K8TUn610ZhvuYB5Wt982G35e31m7nggZD3jZFbkuml0cFM+d23bh8XGFn4yYzIHmLhgjIYYAJw06\n",
       "fXN+7eB9VwLB14aphaUwZzRfzkT8VAu5/1uS6wq74M2vCP0ojQsBFIX0OGyV03qBs5tFOw38V5or\n",
       "XtFP5nIO2xgivGihKyw6Ay31N34/qc0YKXHUQYNeRipxM6WiFfM0LN+O54NzPwBdR3r998hjiuQS\n",
       "Xc/gxOxSA4d829K8+G8IjYA69kpUM7imWdF0fHCCN+pww+mHE2/WmvIlFtvKdvc2K0IsgyL7pNRB\n",
       "id+3HmpUdf6YL4XQdfl3fL4rzUGAS+pTvTpMp+j5EPAAAALMQZq3SeEPJlMCG//+p4QAYgTSFrai\n",
       "APnz3X4WsRieduKk3abc2f7hkeEnjzvbHyAW9S84mjy16gUi8Kg7C+i/xJIZGik1DztrFhtnEJsG\n",
       "zvKXlcad+CGOF6qfC2wHxHK6ynPHFB1yusa58QkNz3SwErDNyyB2wVFy5qDfBSZ2b2PEUQ8XIX94\n",
       "/fKY/mTRRGvu1fm4ylqarB0ijAfSVZoa5kBzqIbCiOoWhBkkr2iTWaDez5nIcEnSNM1O1/lZz5n3\n",
       "Y6sL7UBF3vwe7RGXK+KgNDeGgzcEmWaNLW4e/HSuRV7HsURqWmihbH2p0Ba2BLiCHruey9bn1ICE\n",
       "EgsGfBLB7GXGqJ6DrPibdK1JqaijAdXESZ0QBOoymeIQrsxya+bOc0ZHzKignThT/VIKDB4WFo4P\n",
       "17ld9vs9GZpv7yII2Vn64usnSilA73oAx7RSrQD38tSnLrox+voefYWTx1l/7PTNIq48nrRcxQMs\n",
       "782jJ7NUeGggmtvpuluRkSRl/qQgpZetv0A/hEuuosdbYHu2eDq3xazwwB9qAusOLA0CU6zRFDbP\n",
       "Na7fC3VmAxSN5yp8Y5wClxBdqkLxi92IJRcUZmIfhfM0Z9ArxTYtPpDXnDjzF1BgDT3UmJXC3n+/\n",
       "ZYzHTVc6q/9+7ma6rmNu6dt5gqUa8IWikBCzrcDfz3+qoWWt62rIEpEKWU9hmpYagsbfF9Z3KOZF\n",
       "C9oSVzEGZorNGGKag5L+xvpX4QdfmrPh6qU94Hm3tBJ2AuII/ZJVMGWfMo26cipUcIfs6DU6wlwY\n",
       "/q3nEDu3PG8CskvcwkZ+DuEcHxKcGVmlfc4CVYd8xjwURLVOQ6rM2+FF7RPXgAN5PymHh8Nvgn4e\n",
       "vlMceyqJ152KFJBmIvQfx9klRxy4AwZYOAq+YkONU7gr/W+uICP/9gFmj+oa+E83TJtSLXkfgAR1\n",
       "oXuzOmmZdv8oAicAAAJYQZrYSeEPJlMCHf/+qZYAMWB1xGVrYAbsd3PvFfNAL3cLPMLK82tEyVbm\n",
       "bVJ3qLs0ZrA0HVlVEYPxzyqyczKyRQNYaKfhreypxCyDrqgcqsKgnYKjnyZL9Ju/lbCU/and140w\n",
       "8pVIr+5JOPaHOUQLA4vRUNaO6KVFdzXh6w/getxPzwZSDNqrtaYDFzIMAHdRet7+a/l7h5C8tntf\n",
       "6uSbTsQyGqocf9hnZW4D4bItzqBuovqJNNWLyMMO4Gjz7yLSWr6WuO+GlpimW/u2nNis0/tdA+vz\n",
       "DgZ6bWmzjeYJ82222feblJWMzie3DhmhDpdkd75q6HheKWTPmEfsS80oGqharhRFr11w8GdoleXX\n",
       "jK22w1iL+JSzWVZ5k247PKQs7i6FFFMIcA9F/72Z9A32GWAJpabOWusqW4W9owfmLNQADg9KVA9V\n",
       "qKpYKPfijP+h4A++vgTy0Z3hBXyEo2V+LoUcVjuNPk7FyrjiwnYFC7o7ENYR/QLguYyGSjLpvLu8\n",
       "0vldGm97uLQEaI1JDOgaS6Nzs9Ccp20C/v4NeTTxDpLJI3jHbvaPALd4vKsrow/Rq+l0nUId/BfM\n",
       "hvzG+tIxYa9ggPztZjPNpyB5UShH+uFXsb7aCLQ62F3N4v3p0Nu2HE53V3BqVmnkgRLn1CgslBf/\n",
       "Kmir3/40ToLt0/cZhNJv+2/XW6tzPwr6YsUDVMcGnlXeGchxMCdzcy+dW4wX9jXE2X+SUqqKPdDm\n",
       "zG/jptAKHX4Xonf9r1FequISC2Hy0l97G/RWBCGtXIRTrGnB+3hpnEgH/QnrAAAClkGa+knhDyZT\n",
       "BRE8O//+qZYAMpBEJddcQAv9C6PejVr+kcWae32LMzkI/tPxa8mZ3YF88BuwvORtP3jopyXPw0BW\n",
       "wtm/6Tuq8RmQcDeKiI82Jl9QMOG4eXI+Wukjb7gHkFJpRa9duVYqhs/Gsn10OQt8PHIOIY9oZ+fk\n",
       "JqgfA6E40+i2kwZ1X+d/XPcG9SKA6qERilgNWP1LN/1cSxDz0iYBhI/9DMmLTJ1+i8lB0U7f0lh3\n",
       "L8v3LoZbthXj+zATEUa+ueAR4aMaS04XnDe4dY27YNZTdIsoYvGl2fWY+X3iYS0S+oZGfbi92oun\n",
       "ngB7AsHIj6xVFXu88ybYkqephz8WVCXGLFypor/Jz+ehU0Q1vnoT0fqS0i2jpQcfwTV+PARYdST4\n",
       "4zt9SQ5ycsqubpz6tqYdrXcxWGxLRdVkzORRg7SDNLlwzObdUTA+NCIid39GZCDSpVFKCaqzxoJU\n",
       "0KzPaXMx9qjFjSLuan3ARksvF8UatWJ4tsu/tma18T1TyhHg+8cCB/cQ68AZTiAxZgiCp3lhnoFo\n",
       "/ojrYjjjBfBOyY44WNVzaJ1c7rKmgOiHFmciPkv/VdSKFUMwKdXv8CnILhnyCsnuLc0Hr11MLWIT\n",
       "eF/+zQPx+dy71OCy+AP+qBR//yAqKqySLAmIzZXjZMDMwXUFzk5lreyx+KowSo8tuoyGII9losJa\n",
       "obaqz3Mv14keQ2yczfo2Ilckap1lAp610qSl2n8W74P7SGIp4gtZQ29gT3XRobr/ufMZzsj3Tuei\n",
       "N9X+0WNCf2W73iNNFew/qHTsePjTIWNEzCCdUX7rHEiGs5lUaIGGIDf5RtfBbo3aBlHMQ2YPDXJc\n",
       "t0dcASVPs3cHh2vK1JyXDJi6wgGCS3CzVEdAAAAAqwGfGWpCvwBunT+WkODF8cCgp8eZhSUHvW4V\n",
       "yMBjTY9HYQyAFfE7TBArzZFgyKKm58MaVazkiOE6MHWLKIbXRY+Ll5i42gbTu+d5+4Tn7gDi+85Z\n",
       "suPSedpK1CQ4EYVztvS3XuxCUbzKf0gf8yllxmqkCFyQCS9K4lcY/PiFRkg0YDxVTjpCw7lQTmgS\n",
       "oL9h9To2btpHpD33RifUD9xN94WNMg7ydZQX4zofgQAAAiNBmxxJ4Q8mUwU8O//+qZYAYLi/RvT3\n",
       "tD5uEAG/F93Ljyr5JQ03Y1OlGHN56g76JJU4D6gadxmUuUL0w0oF2UCHOGD0/sjy+rX8ifXJpHHj\n",
       "il2ZUIpntJV9e3Adxzobvqha4rQZxmLagVjZx92Rhz6v4aMRIfqpY4acdmkirAE1wkdMVBrGoITd\n",
       "8KQOXAMvh0iwCrxJf2GwXorKMgum9vkIkbv9tPzsrYnDKznJ706wgbxJK4uy8HbNAZ1iNKEf7cF5\n",
       "L6gcGrPEGc6DZLRAieKNDJXXAgm+gn/FtYWPPbOXzSnTcPq+/fy5ljuXshskZOdhoXLRL8CtzzbV\n",
       "YMPqkUKSbnw/C96gyDVLItCWNOkDjEiEykH238FFUhbW5dr3U4P0Te2b+z4p0vWIJ3oQTIHGD5fv\n",
       "Xrekmauuu76QJ9u4/0HcbPmrPB13W9z7znrVgnfv4n7bfKGYrLRAU7damS8MND6N0XjOFdoTmMsm\n",
       "X7plWBKINOBhdsXXj0AwJWuGRNZh7JRHwp0JOsHyJT0Gh1M1WmgK5lkweUo3X5zkKySoTAewGCyQ\n",
       "XF8ZlSrSmyilqLxlGrkH543jJItxs3Jnbe10KMbVQurVoKtHDA8Olty2YPLn7TSuj+dxua1vZAZw\n",
       "fL0UC11q1EY6kg/u+TgxDvT4UO3lIUWHwruI5iMTkzo7uoQr0McvSTRmDW+nvsA18+vQlhkBZJ06\n",
       "AGsTyUC75H7siAGkAAAAdwGfO2pCvwCa7Byuk9QmMT50LM6nUTFoa58hYLNQ6cpji4S09kRVty17\n",
       "z8FJoApS6CS0hSiQFndqV4lEgihJOA4BR2PNWXVcueFCk9lo/BCwKeIfPSHneY2lEncGx/x4wAWN\n",
       "syK/AJubDfZzAdX5+LTH7ET3JqepAAAAl0GbPknhDyZTBTw7//6plgBjP6PoxL+FI4+Thy2hELwJ\n",
       "ghIVgYbOpj75SAAUWoxPvgM1a9vhV5Qmk929TF55YAhXU3IEOakH8tcFMYDGM2X5Cvbvixcg2gby\n",
       "++WROVpWBNAJgEW35YMEAT7p/H2odTj8qofdv22xIvnG4Z34pmYHMJ7JHlyHykrRuaxKB5F0HbRe\n",
       "u7MQh4EAAAByAZ9dakK/AG6IfPN6KFsKWheaEAAutEPywaQbLhCMJIpPOn/NcGKl0ZC8n0fB4Oij\n",
       "wd+wfyrN3/O6zxInS97s7cqC4qyymU5S3Q1M8aFtUseWCsHG2QEKBonvIlQQl9dzlb3UugvCasuO\n",
       "hSPhHmu+d/RHAAABmkGbQknhDyZTAhv//qeEAGT4TytLmXdFhBwABb5MmGVra0AivApdWZ6aAH4I\n",
       "Y2fQnDKn+oqGzXWmeE6FTt1d+l/VnGLDzG/M71baz5zaqaepEZIjDmf4mH9udmE6gqT4sCyn2rdd\n",
       "ZOfAudwwJIW4zuZrAP5vRbc2xgMV6ZJOMCmRcsTFdSTOnp6I7PWimYd3HNIvSzoCDHDrgmUA/eMJ\n",
       "sXwFfmcfQc5ok9RI59ouosvWz9glxlyyzhlhh4877GLbMGR8/b/i1DyGUQDfJlzO/ZSzctm39oK9\n",
       "5mItDL9E8hDCEHvjXYOxqMhn/sYIfv1FKiYXpiyityuli0BQaq/aIb9mS04osvRpjbc31KIPe74g\n",
       "NcvitZwVoTrZhaT7Y07eVDxkB7UjqUZlPt3f4dQiVHR6IH+ama5K8pNTbgVow8ULsF/LvzInGud/\n",
       "iIMBhF1TnsVLOYmNno7C8G91y0dOd8WVAqexvT4bJ/FRooUOpNa6wbVXau5y0udVAhvSlct1E6rO\n",
       "gbVDDKbqwPeaYSdY0tcmLsUZQsA/aQHxAAAAuEGfYEURPDP/ACxS92LjZr3is3YdNXk1ACVpXZQa\n",
       "g1SqC9jj19gAAAMAGwbLS7VLz6eSXPhCQ6LX8fWDpO3BDl04DXh5byhQJoLQ4ovUbotsLgM/pCMi\n",
       "x9PtIYnyQiAbrkNz2fVgmMfG2huzQx84TpIk+H3aZv9UE175bd/AVMWDuT+Scm/+WpKsWwZbf5cZ\n",
       "PW/1EOJrxcAwwHOxlpdjTouziYZAC8mnNl7tSHiq7J0ExJgGcl8DnCEAAABqAZ+fdEK/AFH6URzN\n",
       "OVDAAPeuq5sVcJkJSdK+Va6Ae7x3bEWAhHdyBlOIRssSxMBiTXNrwu00+7iRpftzn75xFVIcT87Y\n",
       "kMvFy83dHImDd+O00ZOrPsAJmFITL/fRyyuFvmAFxyT8xS30gAAAALIBn4FqQr8AUeMaxrpjP+IA\n",
       "WCaMJ3pAetocIcWigu+bB2h/uSKOlEvZxLir+vCmmNpfejOvT/Hun6JsUkY2w8R3vUuthYRBQwT8\n",
       "Dypd2hKts39ECyVmTCzsmaZ+9pvQ+1DP1CIml6SpaFvsqe+wBmTG3fhof/vpDRIW9PbIlL1KDT1R\n",
       "YIa9QmvvVQc3SVTY2soMmBWRdTCXa5AzY+3GktXfCth023d+V0/Q+s+pTqoKSKRhAAABrEGbg0mo\n",
       "QWiZTAhv//6nhABh37up5cIHwAJKO5J4XnhOkWTyzeF2GNpiO+HbcRpRUjYOCztom/N+sxgv772P\n",
       "HDoW0Gr9FOixX+4rSb7vyvjh7Oy9nFh/cl1+Dna0/WoNPSJE0UbYMo/hs7X7afqThbwQf+ls4lv5\n",
       "D4Oa51o21MaOJHZUnUVCqQ2k9sy3XuCEIaouWLle4rKfG3T1TftukQRhw6zyvzNaEsV1VxjKGQjb\n",
       "wHVIXHzCTsqDRpaVptyz2H0DwF0Pxk9P4dFJ3aoIeznveTzycvLCqvVoNRgJlnjU/qOLVjOxn2ak\n",
       "Agy16Gz35vJGIloEIYpcB3KKwBd7ohXb4dxPLXoBlsT+j5Q9ylto5rbbWXfkG5C6FoxOdp+7i125\n",
       "TApqr2+dVICZV5RjsyuqiFnaqeU4FRyx6B76qeDQHlpFxe0VNxIWiSu/bo1hF07qhR7QF9C2vdnn\n",
       "3f6lg8UDW1rJExnfeHyB98vUKelabdVdu7NI29D5V4lEpqkdcteFnYqUuvabwN77meJW5EJmuzMg\n",
       "9xM84moMW/e4g0Nmg3bMSIj2SAoIZAKeAAACDkGbpUnhClJlMFESw3/+p4QAYnhN2K73HOh1kLXl\n",
       "b1Nn4qxJW+E+xoE7IP+pgP3XDWjII5iXXNIAT3cFINQeXmODwz5JJpU/BTWit6JMXX8ibMXWaPC9\n",
       "10FU0UjNKpUZKJ0D1IgNsiSU0app+e1pRfcLIk32rUCEDQCzBZDoc0f+kvQUe9D4xhjKwqSG6xDy\n",
       "Ui9aP+ZqzhUJZfxb/PF1VyNcJNqkoLgsifztiZnNGngSuUPXAKve/DeJhZ0CcoXl8QyGYejhUKKY\n",
       "44BfiysK5GaoJ4r39x7fc2BTOkWA130JbRCV1B3SxVXkFRr971W32C3lJV83PDuaoMlfhMsXt1+v\n",
       "Kw5s4nPmTEVMzySn2OFL65AdW9EeG0ACiCeuYVJm/ng7735hBdfCW1sOIMWnxJdSv1FcoLbNsIEl\n",
       "r+GMBx/3qFju6k4sKjkKn+m1118DdsF9XJUhe5DdjSTQfqeV0Ct7jIZ05GimHOaoPP3jxdakRQvO\n",
       "/UBVgapF7DoWqtDdfZcAKJiB06/+P2arGUVko+IHO0ddlzYXFreNjhkNW7aMXjBpKjYum88E/Cfq\n",
       "wLpyZ3WA2nYhwBjcJD9z0rU16m8ZwTeXV5vD92s3CkStqHIjcruZUQXa3Kcn5O819uXz3CbL0j0a\n",
       "LTGWEyjmrlkzNGvd5EojEvQdOErwoZxZhqtw/bDBPflrXLGlD2oF6lMAAAD6AZ/EakK/AE+h8J+p\n",
       "S3cFBHpZ+xPhiZc+QABcxVi0anaftBlfXqR9wfw8oCEffiCDzUm+CIspRY/7CPEXhc6bXb6ycyfX\n",
       "w8ptsi30AM7WsF3hnYssp7JqwFTeUO76x1wdDOUP3+50VN5SlY0wuu1w394QbEOP+PUVYwJiAqoA\n",
       "g/l+43UQBuJE3Qxym3fFx+XraMAWner8LOkRSREmxO5kkbwyPnxKZTlSTExYE1W3kGWgAmNcQ1Il\n",
       "Bxe5AKkisZrX1kGN65d9DIEa5ZjOvXeUjuGv4Epdm/r3svBe/tY+Bz979pE8acNUSN2HBB8T3CDR\n",
       "Bpf/SADHaY9LuQAAAdBBm8ZJ4Q6JlMCG//6nhAAyfCeULvgGhLw8ALeguUZG/d4e4EZF3LpDYkms\n",
       "tCsKaAQUmQj7QYX8vvWJOLpG+t46eJIkVsUMwKG9cLY87MM3maCQg/X8Ge+orl//S1OdyDkWY8lw\n",
       "GxxzVa2QNNGWBgdjwXnl5zPL9QYtQ3wYM8WVDxiRzfinJkIYFIL2lcGHJlavO+X2lmxKMEY0cu2z\n",
       "LqXJaqDW+qIV71Z+axP9a+iGB8Li4qkhctNUgbGwKLSBb8lCEjznL/XXHNb1y7v4S4CXAqRVorNN\n",
       "URPtssrp+dSG+NTwQnFTMQFkh4Pjul8hvhYhH+Exil54wJP0xiqX0+qIiD/uod7d2LFHWRT1A3YM\n",
       "wm1mun3DjoX/pqT/eIT1ThKjW/eFq8KRwtDtgdaRATyhN0MpJK4EarKW6by1/i1my/DEzKrdJbba\n",
       "WbOo7Slgh7KJpNfRxk6wEUP8uBZSUKrVwj1Ed+HjvAKtWlM2hbc5Q9CxwNuDp68c/S2r6yfI3HXa\n",
       "bpE+lJtsMQqbJanPEE/OmOKycv4eBZXWibLLzm14PSWIFjOiminlVzthcbO8TcL3kdVP+PPttfHH\n",
       "Ky5N8YIuWvXfRmVglFUYDOLSMVClgQAAAbdBm+dJ4Q8mUwIb//6nhAAxPCbsV3uN/a8BJdVTOL6a\n",
       "3jME/9aP8t1+AEJq2Nf/3rhizgnGNRW6Skz3I2P8A5RmFTIIVoHY53kk7fTDCms57uL+eQ40HPkO\n",
       "AbEcU/qEd38Wl1UcUZp/Dq2zq9RJDo5wyf/aF++G6SFPNaB9tqQJMfe3ukpvBqNJUNR6JncFy1HX\n",
       "xbDETXwzr73l0y4bY2B0VMshPAd1tqwX2wZJ3jf8NxIAAAMAIKGaFrrIAIyUslf03+3mg1GzmVYj\n",
       "AtcbkQEyWOn9XC58E38vXxaL1ahTlV2sbxdLXGo93MIomPxT76d7dHhWfEVoXdiDAf9EeT4oqIIn\n",
       "/Pc82g8u2dH7RTW05hvdtrQzMwgGcSGoo8QIT1B/8fLLzPjUPm78m7jGNXkOr/7GFE0ccSe/1wMX\n",
       "/QTj0rDZ1fKC23LDqkvZeOymGIyuOXogPVpicJxja+Ed3Nxa3aupTPKXLt/Y4MsqpBObe++Ghi/c\n",
       "dc8RU/PmTmxeLpwbyrzOCZi6x6MVtj5biv1594mU21/DscLSy164nTCny1LdCK+5Bkhwdat/jpkU\n",
       "x3/W6XsaqGNBAAACKUGaCEnhDyZTAhv//qeEABkWEcMAP8lMgAIdwPj9m33Id+ur4GyBTe/4AmC6\n",
       "0DdTgpIs4NXvfvIptSTujxuIuF2ZLHgQdI7RFICUc31SRBGaCetLnWx66vYNFzdS7LV5BkAYmkwB\n",
       "447+XdLZbce/y+I/7hoZeydOR0pVEyrOQUynBtyrNb8fkFE91684h44L9FaiuZJWmJTR8Q4HHVWg\n",
       "cGxof6DTuNlbsSodzaheZE55Z6skDKYROdBheHpPaWfnvtmY3s88DWzzxTQj7h/sR/8IlFPILl+l\n",
       "msy+dcZb5e+6olKX2fiCABkNEoqGwgcEdyjwq6CkJe5GwI3Uc5Kmz1RGT6RU1JbNjbzZHlGmD04h\n",
       "chUQysPsMIxLcqetV5M5a6lk5W3ORDsIUH7PrTGOqi4yDLkj1APioHSbrhwqivhB+bbzSTvfw1Z6\n",
       "RWnd0owxZmrMJPCWaHcEFqEUR/ecBPNprj0nfygsNn8IlIDZLr7dt6J/fSuwEV5Fn6RYTwYM2vb2\n",
       "hQMBt5P3eZwf1LKNdRbbAdKOUqg27lzHBMZaczbXGwKcGUSuB/m6UPN2CuCYSJYqfTj7o+JEagpI\n",
       "CzNIj7hz7zqg3KKyh+ItIi3Et08nJ4oQ/S21mkxuIOKoRmlU9/jcuLW7iwj5Ep3KvAEd7JU4ahlZ\n",
       "jZc/n9U0/VK8lLMQRgCdFIhWVZqE6nUCuQ+53aa2tmRaIqfGyNE1LtCV+MDsjj0en7etpOAAAAIB\n",
       "QZopSeEPJlMCHf/+qZYADLcX6NLJKb5xHxB16rnVnd11MQCTwqnaLCmDZ7AARt4q/w+SOiRlaxLh\n",
       "sase6NXpyLIfSWX2L/Oecd25yGVvZlD773pQwOX0W1ozOJphC2g3YpYXIn77iyht0PZRNuS2yuWZ\n",
       "aKQ35PMziUS03oBbTQy0HrQI5jBQG0YCShL+YCX3QASSo6vHjMLdecbyRa60gNz+7ttfre0FTyH9\n",
       "VcNLCAvFp8sECALg8yY9OxJBxPWsscvPFlnboTN7Eo7auzmWAHAzNunfRpaC0d2OXZfD4kOCVCMa\n",
       "V3pGhZj+EIHvANo5JjH+BJqzTr0vbgYLga9oAAYWAmK1N/84Hm2y4pvO89CSaPTIyUPfbnqR36aw\n",
       "n0kfvnHXmbLRpuVXvRKhp8+PGgZ4rptSMZ646ikhSeldFlh6YXcIPcuWF0DJhTMEbsCyaFAPD6tR\n",
       "SQloTN+SxP+8rLXVI6YSnsxmgiHHoE4iRhGo3gm4qyK+znQXuZxVi+Md/FvxzgZxNG8Y6grPioqo\n",
       "0G5v7HvnU12F6Q/FQA4+aHWy3szEjVg/9WJSODbY8tK+8jXLbAGyMv+RHgDISg66DY+/qdxPpWv2\n",
       "iUidvJ12qLPTfV4guQE8C0cAKPunEsA6iBKZukoXIkcvO6gu1L1CvwWXiGleWSi19t2TUQ5V6J0J\n",
       "AAACmUGaTEnhDyZTAhv//qeEAAzvxee78WEJoAuk0mY2TtIT+eEtOQ5840/+WmICMJ6oJ31KK7QF\n",
       "E/f14kZNmkKnnAoYD0P4W2airhxabjnhTBnTazbj1tZ/c9ssPXXDTLQkwDYF1S3rGUdWjAQXvXd2\n",
       "MRir/Ozu1e2By6a2a52/YaReUm08Gk+ZzBgDzT//LIldR1wcw8tfXDlPmtKfXg+4LOJpq9JDuU/1\n",
       "VWkPYXT1zvUeix+l1tdQOMri5TkicWPgePWOnr2CzuFI3hkR5uKCMHrreUh7USC6tE4gQMxXQIVv\n",
       "6mBf3hQORSDTM79r+zLl4LZom9PqW2f7ksRtlQ0d5hgWu0WJBrqsGK/JheH/U5AInwipCY7cObXn\n",
       "jKxiwd6AD6WNRSzspJqC22D0ce2EEj5Tg1MjX1NqS+z3SmoFzuOL8Nsaa5Dek6ymAncC5/IXzj9z\n",
       "43Afa1tOz8i+LZvDzkmb/djfox/0dOmOxxMXFqV+EqfUg/OTWi5PXl9PZgx6uQvhIUg6hrEZEwLp\n",
       "hLZkx2ne9QO9etBPufRfuqIt6gTtNbWyB9/7Z2mTA5W0XeorfOyOpSzJa2+GwBbex0s3xamZ5BQi\n",
       "zCLQUFiqRsif3ZK+mVnvD5jGQ9beGvTXA2WmzBNryr5ulZ9re/NllKXNCUHODFOIyODmhgOmMttq\n",
       "x2YA2Khv62aKdYNvM5i7hzFDLPpvoK0lGqEGJsTyZUCmHWxHC7S2BBe/0Bo4SerZGLNotv988poP\n",
       "3qz64rqHNkwBwER+UwOO2nXiToKzPnrCWZxZma2Bmn74drZDHU+AyOKWh+FTvR15LyDNE61eCOub\n",
       "K+tBBKqfGhEj1jBGWCH+R0m311BPND3hyEJ59yYxlqzpwdxAJMXLmEdBAAABj0GeakURPC//AA5c\n",
       "EMgjB6ScUntunPVvChqKFceuux0IZXrmAB9FXfpDw7PhGLowtTuz3SomDE3BtEK1FPU8DWdGk+ek\n",
       "WxPV26QwLRi0iGuHlFm+NSEuCKw6+SuySFq/pyAUtMPEtTcXilI8QdfSneh1VNSoWRgjSF4Ti0jg\n",
       "vrSH3yxVfnBD+khvpaV81o7eRm2HtSAIKotOJBOjaMB5ssf8L63pJqZtszaHl8UHeIsIG/5BHSHW\n",
       "UwGoRDaE1RVICLAb1DpygW7sOnm7R5xWlF/tENwJ6JQ9DvNth87prrcH4HZXeYH4C0NjVHOtF7iZ\n",
       "IdUxa72eC+KXQ9M7q8miEYZeWt6UufDUyu9GATw3g3oxrQEIedm8OSFS3CtaVrsnsb9qKJlVXYHb\n",
       "nlO7C7HdRJyA1kP4Bub0ihWlqhEJYz5IjTPr3XLPNlJB0+ohSQ5/LEVAV0IhEcfAFrdldDCyfwt2\n",
       "JrNB96xfxYkGO3cALZUNXNZ9iCm2rw4L9iJc9KygpcHWuJh6BHz7xA4azU6K+AAAAXsBnotqQr8A\n",
       "E+sDkmGQQOdMdI7iqaJ+GNeFIDI4Abk9Up6ye0Fhta0Z7NdRfKCpTPkvJkwUwFXa7BowEVRx9PQl\n",
       "1EIfCfE3IF9mdqGOXHQ2tYfQP+4ku79+EFuwiKTGrXSasYXBQ9BMwnWhPPkmIZBs7TG9TqXpey+U\n",
       "wYPEELeim73EIGd6X+o5ErPu2BPBHm2ikM0v8CPyRQf7l8lrT+2E3D7g4fNomJG9yxTNpROrQs56\n",
       "l5bOF0fvcwf25pqsr6M7XqG+Plybbxal9WKpoFOOBBncTkKzNjjbBW4PpdTgkekgK5JPTWzYuwFT\n",
       "nMAdjpvocEDIBoz7yDYaq0KUd2PaIsAuFBCZJPGtrEDUFzLimlcXN9as7EJzVZvlwoh2afFGLLZA\n",
       "wNPCi1NNJOIgei7jZe+u15WgRTXplE7GZljo+wcHRIft7e8gdlGakFlSibBwcJ0M+ma1PS352OwE\n",
       "p3UWHP3wPnxm2fExXNRXtjLPWFmlQm2X/kRBLW58AAABuEGajUmoQWiZTAh3//6plgAIwqc5VEVO\n",
       "gBbRa+zPUGAlSPc1//hlkwIblyp5J8PGCTaOxki3Lw+x+xtFQEzzREd6SyGOlFCb32lf3A89Vamj\n",
       "so/CSjdhQcGMPBtXKCZkTQn7C3wWS7QaX52XhA4PI1dHmvwI6EXs4Dvbd/nF1C+5W1Ek9b0a6OMB\n",
       "IglKjsiUvuQDtGiF5zUR1MI71cWwS4CeZkvuXRmz6CWzj6/NTQmTR0LpW8KbHOKwakpdxbCLBD4s\n",
       "YW/TcNEUeZpS2JSRsiG7lCqqF9lvtY8/S7y5vuUuupzkyeIhVu1+zQqSzwUw9cwyxhL3o7Gr1RoJ\n",
       "m0muBUWeaMH2iKOISpZ2bXSvvLwxzftfT6mRmnAekNoRhjc239fTtSYa3kJiKwhi22VKn/FhzthZ\n",
       "aAAKnDLzqDR3SMj0UYBpv2wfoeaG1K7J5daKoZDKiUaQNHttg2zu6O/FC9yLCeaQP5ThQq83A7kU\n",
       "vFLCwDLgfFHCMvKkAJ/wY6WGcMuwCBSNXglku/MyFGlyHGBhKiCLT/c+xtQBOa70I6IYiM9VIpqe\n",
       "bYtmHnqUJHVIAKEDi20WAo2BAAAE2UGasEnhClJlMCG//qeEAA3eii841vyTAA7M/4h76OFTnF+u\n",
       "UJcxBtwbhXEqiD1m/nW/vaVG85Q66d41oJ2ZdG4ifPS6LE25OwpT1Kv03JGgd8y1FCE57+l83I7W\n",
       "6xfolmec+B5imJCf0BFOdzf7Q4dCQYYb53KbAH1IBFeJP+rtky92SZtYYUsH/9bCfsstj3THzvAB\n",
       "fqr8CwDJT2g6hoeC3sD9o2swn89NUi9Vd1Ycg66cvhbE7/KuWbJQvVXQt/U9z6iqjmgfjvo6Mf7y\n",
       "i5QGB+kpiagG02CGDqbndAaHIZZllq89VFX8mAHJN2PkpxRO1llpgImiOeJWD9zqc5vfAxFkMvGT\n",
       "RGHFEWwsKMJzbfGud4UsoyayD34Jeiq8+QTjU071lBmNMOpCmTEzarbQcJZqfvMgSQqnOmthhF6h\n",
       "AvEIny1d4bZqvnBHcMa3y8i4L/BfvtWpipwxuGtX/qZKYJBgst4nGSDcj5jKF4wzHolxAxD2J8lT\n",
       "F3ie/qjKcx1VEgwtzNES0gHn8g5HGibOICg2vGSYxq8SkRJDPFOMq34erj93d2FUdIuNc897+2Cw\n",
       "BXHbwV6pjElNw6Nk5UfhIAWZofbO1UMaQrihxnFiBgFl3sR9ObljkdISYU6Tse7p0LmgsuERIFVY\n",
       "LvA0BgixriQ6RYZrCP65U5gDyrJHPJJlVF5E5j2h0yyfcw+pqEP3ELZdJu9O5hG5hVBOcwYn/uVN\n",
       "/ZJaQPu3RsByShUYG4XnwhRvjEBQ3lEGH4UliPbrkmf42HK2b7PfXhq3C2C0tjpryWbHo6ZTbLGT\n",
       "WdOrnkr/hb/4kwvCDKFqCiEEvwXXhaPesr+dH5KALgXJbFOKTiGOfuJuTqKw98GL0we5T85xA9VB\n",
       "m0xv3Ycwj7pvb2XuCa4P8bDYxjufaDrFJl6dzV77zMq9XLOzptOFiJLGcLgS0LuJV1A6+K0SyCI6\n",
       "ASvoxjs5NIxjLJo1wmYvegZ+fp+JqRWHMQRvikpCC1WxWPR3GEMIGamhdPEAQ43zPBL6MEvV9CWb\n",
       "cBZlBPp9nJon0digSWgrlG1OLNP4qfMoafS5Uj08niTodXujZ0MvZvdB9w68T3DVbY/mxQ5RXLvK\n",
       "aFnaBIFAkyvNnOpPvn19z8wKtrz18oCpHkeoJVhz3+PXdzuZizJ0zDUChX6fYhKjZF8aKLAKc4ZP\n",
       "yaBZrQtaa3MKkDajyT3qyyKmB10HlgP4iUGY7MIU/az6Nb6B3Zb7VeVsGxJk3As/2cIXNsaeZW53\n",
       "bZ1gAxtHWide+GHDQ/MJNRSPfW6tBOJ/do2iN944Y+8fcGMSI6R+RWcBgnqIUP5NJhvXYALru2F1\n",
       "E8D7d50gGqT42uBT94cb6wRDlh5W/rVIK5o2IFuAxON2s7LXtmW4PBhFc2I8ct8H3ZrdRVEx1+kR\n",
       "gsPX+Q3sne1xuVCj3BgdPRizv0dOSr9MeBz+MEv1tFb1pejX5PgPBp/2fUVE7CbDxhIHquMJaKSx\n",
       "Xg70ZPKU+0THnFLNieafgTFb01l0zQlzhQIasjZ8Yoniw/BeHd8YbHFGDdqi607MgFeOHI0xOpOc\n",
       "K+QCee58PbhVEyViqxRQnqmQOwMbhzq4wJSAIPaC5fIQB42p/2wGZ0K3RK95+cuNOWxuVGY/tZjq\n",
       "gc4AAEhJAZBBAAAB9EGezkU0TC//AA6DWDWlcDMQYGfUrHcRAAnbxr15hviJWpk238xr3lCMr06/\n",
       "7p7usm8yNRZe2SuswnP7LjU8sF70ar2K9zfgosd4xlZNADt47SvtOt3gm2JwCSRBfq9UK1IRN4JY\n",
       "gizanlAvLEI4XAuD47BLZMHx1TAoD5mM/ygX9hwxSvW4CSt8dNJ4HpNHKyqZjNhP3yDoAY5Yny4r\n",
       "hQ3oiTJJQ90NnYS3tOeGE7tk+avgBS7EdbJQCMIfv1POJa9tl/thT8kTQCmqGm/nTOo13eyYXCJQ\n",
       "4BAX7pmi+NRVAScBCnz3bVY4batIQd+YEWbCeAWCr8ykHrSPOtMXBiWkwxPFPzcIhxS6ARo1Wex0\n",
       "l+Z5Tp+NuFuHt+bfVv1JM5JpoK2i9HY6cDVXxVZTb6isuznjmXMdHR/rEQAvOEx3A8xr4mA1vJDY\n",
       "0rW+DJYV5n2bv3lIDYF+wktLVQ1haAO+hSn5qDifF32wDL4M8tYi1HZK0C/4XkXUik/Ba16yPSj8\n",
       "Yvs5qRy4L4tkNbPm08le6oMyy+bun6jnK67s6TJM+AfQYGN1QYFnyqtCL69Ud7bmfzXJOZT+Buxz\n",
       "Vigj7m1oaItSdG6XfZSm2M8Ldc1jNclxVg8p+Sqo1icfu/mmvdsr6xjK1VQQZqohx/cBeJrEgaRB\n",
       "AAABYQGe72pCvwAT6wFtea7nh79/IvieT9AUSE0IxwXAAOIcPPfHUYN5P1zKJBvFnzvjKVIx8HEV\n",
       "zKElYdmcfR2vk9xOnpPeZgOY9Q6bd8/c82APPHd7+zXRIViMMNdogftCENHRueWjWuZUx9PJHTsz\n",
       "HZIYMzCNay7KTmqrwsUS538zufXSoyFD/rIliOeZaotqByDzqTzO8+LAPnfRXRX1N57s2Hyrwc7W\n",
       "tKyqGInbyo6WYOnKNlO/A1mFoQZO+/yRs8HZXibHYoBRyQPCzECG/ppyEVVIlHP/i5uK4Pveo393\n",
       "17l15Jso35tg5yxTVoz9EsEXk5cZvA6ayVIuAYLo9YAZVUjx9dHSd15PGcCZi0WnMDsW5awpx27S\n",
       "LJTANjsyWwW2dmcKSiF5Ofjto+GMAZhQPcXiXVuWc4iPWJOAl5dMXhfOQoGPO4KZNkStlCBLcIbO\n",
       "+uWud8oRyKep/q/CkJ6AAAACpEGa8UmoQWiZTAhv//6nhAAVHf3wNC/B3Jd0tQ2Mfj8WrSMBKHzT\n",
       "3y3nx+zEagpqPLFgBlutrj3/u1auitriC3s0Nkbu6nQecrZ1e0gMLq2psE5D0HCMjHErtO4Gesxw\n",
       "E7s9H1HMqkOBTi3AVXIS5t4hlbva7YCI7tUla0bgeJonBgeEnUQUYCYIyIXx/Wtpc33DNG3xB8y1\n",
       "V7Fv38P2kHg9R0n6opE5EDi0YHiwH6k9jUT6iQq2zyYxbA2mf71o2nQaaNa3Qzh2cgx+GskmoVuN\n",
       "IqfA+mY8oNnHwBaqNEL6e/iiV1QQWQictRCgeP/IWXSN2/hXF/n0+vINR5hns6eSoflALXEfIYro\n",
       "F3k+P7AJ9VQu41qvoK88a0MoZ4S/HtoxGvN+Ry4y/JKd4vjqcSwXtRJbDq3LqtCDLOT7c0RuftDn\n",
       "obg/MEwGUznR5BLxIiN27v60HIsrwicXpMsnWzPSvoI6XtiXTv6TwW2ykRCZB4HLIjanp97kDGDV\n",
       "kwLXujAbKfMLPN9C+UrgA8GHEMQBheULqizqHroCB0uP5CVIN+pHlDNPF/vQMH3tF/j751gkKUw7\n",
       "2h15GqfpT1LLHjbp4TTFwtJWahdfu485gxFEIgX9/CAs4z0slVgW0EMmnhlTwSGGlEfpS9YA3y6P\n",
       "Mp4eVg3aY7TBEokgZMEYfiYKYbPP5APPuxRBRTXWWz3eQoQwo7yzEibLvsDii0wZudQta4ZXaBoR\n",
       "I3rWke+bNr7NyBvx1BFpq3zQwCFc5W/sKn4/bJ7W/9OGsXjkpTDIFa5LPrOLSEqD8E4hCuLAMT9O\n",
       "gNWzZIS5FoOWe5zWzxT5oau3mJPeXY5MO1V5LFAyzziIIUV04vhK+ujI1+Ddw+FpOcxf0esLrLvX\n",
       "8ykbHiqEcVHOnEAAAALRQZsSSeEKUmUwIb/+p4QAG70UXh2YWAA2q5LjjrdvxxnvBqVu7tqF5O0S\n",
       "0licCWquGeGBDT2ukFdrg4pK3WpyW14Gnj6r4t94sFhpcd5oZPSwS2z6xYmaC7SI2I2D1HRomcRg\n",
       "oSJULLE1yjoum82MQnv+1akzLuITJqAP+8BLYTxA2ZjEYDabYInzV4pz0a/XbZFOOuAK45KbWua6\n",
       "v1yftfY2F7N7efbYGuHcun29I8KfborZ+e83bm74xd+Iyrn50YCV7mjq2i8PO/Sr0TndlA6TtUCU\n",
       "yanZwlKPmj/LkoImI7Vgj68XH2mIzZ6bPNmXIfvtO/Sq8VKVNl3iwnxL4kbavw4vdke9RwAawjNB\n",
       "owVCzV3WamS4PWvY34uMkOYlrzEaqGLj7hsQE3YYG0pMRVfDvbT26Rj1MXBh0T5mH9IXE6RpA/8B\n",
       "ra51Onwh768EAvFc8e9RjfeUCkj5yahqQ6nozHdD5Ui1s1Tgoz8Rfm+ccGXPootQeP5EG9FOgGQ2\n",
       "byK665swjxwthEoLBqulMlm53JCCMiy9w5SxsroYc6iYOkqlOv/5Kbw0e3FP1u4fYmI9BJvhigaD\n",
       "dCvreh/QjFGogvThtmIOj32o4L2kzeyQOuyDrQ333aQkXI6aZaOT6MWozDjUzEQTI2o3saWkjBdR\n",
       "caW0c4hqmjmYmpDZqLAi/mPvFcqW8IgUYQZsw7Xw7OBufb4vVDWjYVlPcpfQFBq8/QoQUuecL8vs\n",
       "dFnPoui+l/M0m56NJvGwBHKMmXtEnJUnqrEKTB9gqGV89gnxA/mvCZQ3hqJXYfe+yn344oNUb9jd\n",
       "ALXOGtS8ZZbI7VjzP9Xd7B2CUkM9SG37HeT8hoflfTJ1uIqd94WfTN8sCTOFIGtz5gSjk2NCsn6y\n",
       "liN+rF+YC5nCSrRpkcsz5nGEs+SH23L3jN/sN98chq7F56RgHsKDUdcZTMI5jwxl6PhzQQAAApVB\n",
       "mzNJ4Q6JlMCG//6nhAAboncZo05ACCyd2z6C75PEJ3ZMVzsELn2gXc2AnUabRAdr4HJp4lsHHg75\n",
       "nMJnXIP01lVhVyrMDpYCMCZYO4w1QATIRVbMO7kdRK/5YlEOq8eeJx85CX1BTdofgkvergQffFh4\n",
       "mvY+7SR/fzxHq2zzu3weun9PMu2fhP/onalMXEhTBZKtf5r0wGH+G/SxKbFYniZQnkzYUy3f7hTq\n",
       "7i4ZIWb/Zx8kuJGF8jMkBY4M6jZFehbldStTxMg9cEGe2WqPnVeVRCctH8e2HAm5gADab7JpDGB1\n",
       "DYzhebNTfnqVgMXHlh5MZgiHMz9Pnw9Tr9rN/Zr+mjUgTylxNTNRFaSvmNDdi13nyeR9wxqTdgw7\n",
       "oKK/NJFHjtbZXaBarkJRkUNALol7fWBNMHLDu5JDMgp/IYcKetHUjQ40YeXIKF3qCeafz7pxGrfj\n",
       "9M9uwBvJlDSaQRVpPQcN1KLN/b6cQhw2ObsI/9j3olkY3MOiOAny3GzviO5FMg+Uoz0nmu6IN7Dp\n",
       "UzRdBXLPLNeo6Jm92+lcHLLud7FLdltDhqpHr0HLzW99PNF8ptrSe5oYiFecQCU4sVlMKn5fxRJq\n",
       "XsfWRA07E8NRJdkQAVOJSoUCfBYHhsAMDNwChn6WOdLO8V0Jt3xt4yoWDGaVAiOqLrAv8iTrwiKN\n",
       "KgGRWrSINRUnh8qenKPKkcHz0heUtzzVCbZsPIiIfgeqfLsj6mr4znD+yAc3RpyQACHr1eURApa9\n",
       "22d4VdDbZILpmVx95TQS5nWI9fUHAW2o+6L7XGSbANcwCR/pQHxIkC5x3vvC4sCLU0FUfxmV8g61\n",
       "Qyvid5kfGvEoWlP+efvVKyiMhfwS1ET+bRkvviytYOOAAAACakGbVEnhDyZTAhv//qeEACn5g/7A\n",
       "yWpe5v0ABnDfpo34lbgyNTFddCqK9/e7j0xr/1w7uZlMOuOFRJ/ofeEOmEO+Ha6fBTRCf+hyG6F0\n",
       "/bFYK3WebUR6fKhqcnqla+ZNxbu1xbdfBlzZmIwMPo+cjD6evWBA6LalCR+jMx/CZGU3AW/OsvKV\n",
       "rREbIQGiz9x+eHovuWASSvDFyw0GludB/Xlt+O1T/1FnsJfCViZBstbDpjuIQf2wwdWY9OS4vbXG\n",
       "9cc+B2L/UxrTXfB51qW5U/I/okhLX/cPfy1OLGeyXIsiB1xPGZZWU038Rm8v4Ut2bB2McEEmATLJ\n",
       "Ijgr8CNxYV/UYgWKb/pT5Gp80adZS6nP/TPS1CcSVoTqw3CabV1zNEXPS+WH7Z96XldsDwn9V8y1\n",
       "rUAFC3UwwQoqaPyIIZY0QHLXXFAX5oTGcQ4N/19o18R2eQ19bAWK/l/fA69EgoAE5zxKe6dyDoB1\n",
       "ThdQBsVoSt7AhOQKspzJfTJfueuly0B0zkSuK4x4NpHFbRMG+4Ni9uBybHXYLm0wws7trAA3XaQS\n",
       "yFdidBZ9YcGhvCcSQGi9S8Fgcj7EHQzmltTxA9OVSCkiHoYVmZJ8SjOMFPfYfi5Ggu3rCaNS3ZJF\n",
       "5oe0FaMbxD7gC3ltApshFEDjpoTf+d64IMbnyDJ6ukU2YmN6W0utTu6hnZtc0M+dV4lgWm3LRTSw\n",
       "mFO4gAdUYpe7VE5F1wOC02hleRKx4ovgDQuMP2GAfMXAbIT253poFr92OJ/VawmHkYhVnz1O5xns\n",
       "Z31KbSdgIogHdK9pbLhatVymBxJ4eaxF3KagXAAAAsRBm3VJ4Q8mUwIb//6nhAA3McfgBbSEXp7u\n",
       "jnXVvWyiL9aFLDF7fSWwx1CJt6RCYUo3ccJCaJMH2PlqO82etl2lTOMRukiIDE5m5a/zvCySGBA2\n",
       "Iw1Du/vKZ37035dFFAQ/kveawCDqcBa1ZgGYvVeauNuEix7Vfxvxs2k8nbhDtS+NksSXYfc1J9hb\n",
       "PXjC6+F3QThtUKtAL5MQ7O5ABUiVgUK3GNBTOtAF0mgsbkbSXvu1OOBvv6UV42z+fOHPj1t1sJTd\n",
       "vGHkP6Aznq1YmkCFN/ECtI6VNkpV5bNwTn0t0fpTyHaN2DO5qsV37BNXFVgsFn/r4BRDZhSilDbS\n",
       "gWxE4YGJ9RnsQmfKi4hgCH+vQQL4TdE3JtCg9BdqUxe+TNaSw/bWtsjbTC33U93EoSfW6nX8nJrU\n",
       "PkLlpVe56kXKmWgkhy2TNJFH6Rab00t6dEu1Dae/aReXmVtrA0MV0dIPpaKzvjRzru0dFGafMbZ3\n",
       "lEzUSP5t0FL0GRb4nAf+AezqH2rL0nAvKfECl486k0TSYNffUEG9+0NrRmEhFQvakOlPeHWD4A/x\n",
       "c+SjTjsWgMVCF+s+0ADgchlVwthF4/QUAG5vl0c8juZjxAH5zEipZamg1oDEbTKf9b8lVfvUQAYn\n",
       "9ChE9KCnqhhenl9afBoMMa6TFliVVjgX4jAqfjz12N64hrwf4Xq7xTXlDDTNSXZuTyc2S0BDpzUB\n",
       "K5dO46askS1sGbDqn3RA2k4D1fIiwN2LjLSNP950lyTpbmkm4i+MbbT5PSoYfGP1WbTJwWpsoL83\n",
       "vwaaQ5NaVmhdEO96uCpT4/4QPT9ALgIq7a40Z02/nXJa4jTfvvONnw199LcsG1qPuOtzB+TliI0v\n",
       "F+Fi9NP7LR7/q79S8GPiZo0dvnyGI+ig0ofnROWosMnleIrALqealTcmt+XCGDP9XQ+dYArQqYEA\n",
       "AAKKQZuWSeEPJlMCG//+p4QAUbVAVHFDjjP0KWaXeDdC0rl4PCBVeRk5GrvA2dg9C0xmtu4Qnd72\n",
       "JpwnUa9fFUWbTmzxEZpxOgSZ0eOh26x17YnZesdviXiRKPBkSIAMjJTDVgxgNYI7Ah8H85i0JtIu\n",
       "Cq0p7ajRIwIUMTDTS8PLQ8YQcJKzuPiOKp8f/0QCHA3cxeCFz/07zaXRA1iYm8pKP+2MlbXU3FBg\n",
       "xKkesDuAyoVQoVGjI0rvfWcZr8Ot5Mnu45DZWzBIt7xFbF8+AzuPdzn4Xuek0/cmf6q7btoSIEnl\n",
       "l7osFBotS/i1CilC2bjcsm9rNzKj2Coj4fuYMl/lKCRppljaIPygVyxy6M6JAOVbLIN+8e2g5WKk\n",
       "ACvv4F/QAFMxKRY0P4SDsxWbFeZ36n+sQqYiIZm+rnWH0Z76BiV0pPGpGe60a5fQhOVJ6i2oAbEv\n",
       "CTVx3eUuhYL/1bqaJatgMdDYIKBJuCClfMYS1sEs9MfMB7De3G8LRqBymhtt+Z+VKS9SGvF7V7il\n",
       "Y0nlVqeJzhAaaFFjegXy/4cAiiOUt1PKp7Uow2pWtsAkB/lL5a6J7yyn6uVt1MYp3N4ew7tllQQw\n",
       "J0bNObDOoVjn56EL80iqOCb0VS6TV54h3cWB7BJswHPdmTpFlhF9tgZ/QQ2/ltDlyxiEAtWgK5WJ\n",
       "helnh6U8gOMLyz80DAFrIUM3utRyfQcHqcsSgYRqPfpAVoJ4Il/JZMFNdA0EA4DeSCJB8qtrlqPJ\n",
       "4lVoj8Otr/wyI4VbRWGQfuQzcv2IKrWCyPVIAhTu+K9TeZM0b3OGq6bsm0EwJolrbt1iQ01q2jY6\n",
       "ixJMxyyoQLpsYjUhBeqvSQn73rELYoGWpIAAAAKdQZu3SeEPJlMCHf/+qZYAKmyLAnWfWTQAXN/7\n",
       "rFulAjv0qzGidztSwPSDHXSqhzt3SOmnFESCWFHYOnCVLdjbGLXyOTJKmBayHatMtlNqsAoR5qtB\n",
       "tfHN9JwLSiN/halGysTtG/4G3PeyVQAAugABco6fX8l9ADJLuss1BgN9PK1mk8K/T8y5b2fKdVwd\n",
       "NQ/1nxPY9X4gQ0qkUYINDkWi2oO1lLLkfkfSzZax5Df+izDs7qfANqlVje7quRYs1shnk/JBrFoL\n",
       "QfrlXgm6YGQqDXX72nydRKP05Wv71V/nxKhQ/8TfNKz7tUE0xrFkdyM2DQkt0gTkJk4Zy5WO54vP\n",
       "ieAYwhyCibWHWVIe0VxZBe/q6npXAEJS6ldI68sjucl0V+HOx90MOR5wkDa6Zhqbz3cNrR9oSRaP\n",
       "4Xm7xSBLZes5OKDjkYbTRgEItSzZf0EXKwJFBtTFTauIyLs2x26HOYExnr+Fh6Vij3/H1pSr+H8Q\n",
       "gT0siagq7ucnfRwWZ7wuVD7b74blpXT4O/CLG+Cf8O3ve5vd0ChyO+K0R8SGxo8gT6SvOX8+7ZYo\n",
       "414WbR413+/sPirS8qB7AFNv6xZ1HHN54mgPzuvOAGnuj+6oYgVNp1AUQjDOvsG+2wKA0SNa6Qax\n",
       "FSJo1uUjGXES90ufe3nu942VT2kLW5DJJ1DpA01EJVtpzjR8aHNqcX5HFrb3Fcif19JNAkOkUgPh\n",
       "vPGUcy1vuiBwYCUCR/z4gGNQl+FqV706cktxeW9UGwZaVYuSVaIB/NweLYiW37Xz+E8okdIXvWU/\n",
       "mvIxhEaM/d7WII3zFBfuHyCvv4Qv2aGrQ/6qzSAtuM0YIcPXtRSNxCRNzz2QrqawDmi08tCIBX3H\n",
       "O/eL4xu1e6DZYEblflltAAACo0Gb2EnhDyZTAh3//qmWACu888atri4ysAFffQxAVvcnl2t/2+s6\n",
       "kChQwNu3bUrahGW5M/pLc+QUZ0Hsr7GGNAGtEnE0j7OtzSUdNgPwQscouAiYTAgn+1E76/OkKl+d\n",
       "0LvNtQXlDUygilKZYya1IpDmApSmNURI7X8bJYtnfJJFjmgDei+XEl+lLtLqujD+2+mGLkandy45\n",
       "43pNNaMO9YgIySiBuBQ+nxOq5OJ+QN9brg6PwZRz7gwAPtfuSDKVoS5cRRfQaXOU+ATRMo9130bh\n",
       "oahGRqvNlKGRiYLnRwg5qppNLXySpJCdTKFZ2ykxfdQ9oTaLBnObtZR5iuE9yBVjb0UfZqgJzrns\n",
       "PQvoL1a4vAOMt/51Ng2YqhkX2bmhFHZsBgSbTqQM+MLRUkVyrPm08A7DFed0gVW7OEywXaLQTYAT\n",
       "RZNVIip9h1lSMWdmA5zG8ypW5SPrLBSNuiD9egU1N5ANqP8I6lHBAovL5QV06vfPNfuAz5e/kOSO\n",
       "1GarzrjIczybpNz6kY9lufPCVqBb3Sdxun4t7fRJQHwe14WDkbkXbXvQQZDg9XA/vcu8vWFN7Y40\n",
       "XCdqYTGN5TD/kHDFas+rWgn8MYw+QL7WvZSYHk2+Zh6s2PHqht69XkkUvnahIakK1le5cj8D5a1b\n",
       "wZosgqvp6Qscr/o7L9MmVMhi3lRNzxtuaaeP8HZ3ML19V/53J8wU8YgadF8OBcp/NDxDAq1NWpql\n",
       "3AM2pgNhjCLK1rjQA6N7yeFdcA518tl4IkaST+gtlxzsdbWjbtJGEXOidP/Cc9u2q+ED1MbsMb0c\n",
       "C8gEpApxaijdeQxqJQiLXHCMDbuZ69o/k80d6mrdDGj+D1qm7Sls0t3NmJwepBPJvro3oI+3iU7Y\n",
       "6EknXRygWMhUwQAAAxxBm/xJ4Q8mUwId//6plgA3pjnjSbAADTcvO1584IVYhmdKlHKSQrUzpm9S\n",
       "tRPsEXRccrTRUW9XHK/k1S/+Xg9H4n01Ufx7X+cCQjXlje/FpOSzSfHI7QIUKC2lhmxq85YCZ2Hj\n",
       "FJDIogVemdV6IItmkhUJu46eTHo7i1bhrgeXXPqbqXbaT3wGw5EJfTf/TyGgJ81dTlXgp+RLfR/7\n",
       "L2J1USJNpAxY07Z4cmQtdDlErX0d6+G/QC0pKXR94Iwsm9fHe2HqLMLwk/y8gNHwFUwv95GtQA5s\n",
       "vsIZNjeLGJsxdclDFXyV+2sBm9lfKrI9sc56hd3vLeaS4/QXRpw0PEjx/w4I12V8jI8rGfxrqwu+\n",
       "sRVHIjPmFRI5/FqnIgUGIXtsM8tACOsAq+374lF80DybHrMMR4lAVb2IeLMwNyOdSW0WlhM3Tq3J\n",
       "Q42VG0TFTOM6kctt0BTWzzNGkxWVxjnqmlipJOGBz1WlfpD90ApCSzTBVUWgQN0b6USejP81+Y48\n",
       "+gGRWiYlf4DVWnTueU3tGLmZEyIP6qpckt+MVtGlgJagKR1ajRfHm1G/nnzqu2H3SQ2LjOaY+zF5\n",
       "E8CNmP6yqYX4vCSwRX27B5XkZ8DXxF56YskV7Sr9uzkFlfVDnP85085wSM700Z6COShvK9ZhmeEI\n",
       "4f1RjqIrJ8ONOKLylp0R4NMkulmg1Jp6jcMcG2lAYd1AHCYRuiA+1ygv93UZ4ryhb9qrZN+dvlug\n",
       "k57yKfykdrnr3GVq0+lW3sZRGnY6ZedayYUI9CTaSvv2efhMpQRvGiYMb0/TGo9pRKvIPhUT4M+r\n",
       "qYMaq+F/7MujoH/Rf81rQgG8CB67ppjYuAAotNQ1/LOpw0jw6N3OKF6WbdX64MelkfSZx8W8+/EG\n",
       "Cc80qQ8mAdI5xmn3tS8vq5yZsNsZMjcwV2yUg4n4cF2B0oHhb21w+l36sgHc1hYSONVZn5cHphH2\n",
       "5vCxmc+yQUE0SqqdQamP43FtIbUeNSSD+4q1InCKDbT/iy/ed6uHZrVZ8wHLbnN4W/syFwDgSmts\n",
       "Kl7JfKJzhl+ZiHDAAAAA4EGeGkURPDP/AElt/Z/A/He4j9AKAoiaUOl8RgA41/w2LHv+iM43Hgm1\n",
       "/sOZ7fV6VeAclTFKtCOeIo5debO19EmmCu3sW2KeKLizDpknKWewBQfBZ8BLQUOtiIv68JNelI0g\n",
       "uHxWvou9aGQc0DbCNfBV/WIYoN6E4eIQZkk46smwQChN3VMfTtPUCmNcDTTdHxT2JIuFF8tOQNJg\n",
       "VzZoBjbmCarB9Cg10PMNXiN2DHpSrDDcF/ls/RCltlaCHUdyXt3SSXoshha1UmFPLcIsI5ah9USv\n",
       "4FWZnnqPDRCThEdBAAAAtwGeOXRCvwCCujWS0w9SpDx5uez5Q2VTa5c3PtxZ4YKwnxmW9JQrZ0kZ\n",
       "qJrYeaX8F4Rm+k7yum4b2qF+6jJ9EWWw36FGtsuELGFUjlLNnr1LKbOkRFirvWnhLGgwm5whBgnZ\n",
       "+XVhMC0FeB3+iybJUxorrfOgPmeQuo//ufNbDU8S0Oks1nDx+YObyFN1aEQDUdNgAWgAbfr6ZKJn\n",
       "oealE3HbaxKfQ09U+bstdfhE6xlqx/q8tUdHdgAAAJgBnjtqQr8Ahuu5jo3D8lEHFysqAEdr5NAW\n",
       "1x6l6lupYZKj34HaU1MPc/QkRUCt5gipg5M+37Yxzny2xiyUgmN1L0Id+EvsELHQkiW26yNs5ZXi\n",
       "ZmTJDU91H5vikWgnld4ABaKMuwilpAkqsbbrlDuXNzazta2ORfIqvMf72x9Vu5v9V+IGIcPo98ks\n",
       "bi23gjOWibm74KPNlwAAAJNBmj9JqEFomUwIb//+p4QAbm1DaZUoRoASBXG+q6toxOPY+U11Hl7i\n",
       "WZr8fWC8IjF4Vr1Jw0ozXgmEgbTWpO2ol6AfYc+z1JJMiy33xcPvNKtUfub1PoXULQGxhioH7Cfb\n",
       "0JCUusSU9zONWsCtOtWZFGHwr6u+wSfKKGprs1BmMQsqFXZbeMPqcsHE/fMFDfBYbcEAAABtQZ5d\n",
       "RREsL/8AZKIn4BxfZtIToRD9iCJWWZcmzBljIPbgkvtRsTuW3+B8HWSCdK1fS6ckXCads6+/r6cl\n",
       "9nbn28mGlty3nwJ0VUyQyFAzA+XIecpvutrQZb0wVTCoXreTeKXsoNIlVMQYu57iZgAAAHMBnn5q\n",
       "Qr8Ahuu5jn8H7FJDswrtJ4EbPVfxDpdJ7hRQCXJElZn+W5X6DYNQaU50lHjsHlJDWwsX5U4V11Ur\n",
       "wVp7t48Nr8xJ9RF315TniW4h6QAV2VrqHn7wjizTeV+PJRK1sN7L699EakuYl8vdUiECac7oAAAB\n",
       "bUGaYEmoQWyZTAhv//6nhABuTXe6J9j9HCeVjhjuvX4Abas/D4oDugfppEA9Xlgg4xBg03yBmfzu\n",
       "J/NmTws2WupoyNwxkBF2FQvnHaaGL4qlemc8fQCtwrYtcJXhdTUB/OZWG/ua1Fv2uLo/3dOVcv01\n",
       "seti0zqElG64VAcqFbgcXGWdID7UoOkaAp4cBKavt6+4RcuM8Vuq7fa56En/eFmQvFkLWPKAI7x9\n",
       "ehu+V5a1dW1O7YjzNM0bvCXeYKulsbLq7A2WRUmsk9XFUbVxVGRB1nkrVkn/ndCqfVufhCUbphgW\n",
       "wPnkVmbff1xjWaCrLVxJG/zG0HEf0iI34D63qSMiVebVPJ5gIPMAGTiHFSkwiqcGviEcJYocFYyN\n",
       "nnxU2ZZcKEZYnrAkpYHgCtcDEsEg9qGWscH1vqn0z2hMEmbIfk4AJIt195JPNrGyTk37hTyrMp8F\n",
       "t4HjcPLmjVgAAAMAAAMAAtWoBJloYKyBAAABekGagUnhClJlMCG//qeEAFPsOtegBAcR/LhC5rBQ\n",
       "c0Gq0xe9pSR0Wz3EOh6fNRw3lfezvKMnKoO4ZGk6W3dJjicR8Nm4ne7Z+17pdo+FDRuRWTwci+W5\n",
       "FkPo2E7i0ieXwqG9KKhByurox7B3fmQt09lEh2EPkfY+rP6UiP45f9ci4Hq72W4s5gxr93juVIrk\n",
       "fHiaJMJVynfUWVqfWRndUC1m+YXqPGIEQHJVReS2ADq8r2BV/gaeHPhofuRaE2FvVrW6W8izbVoj\n",
       "i+4q0SegdryFUj6kP9CHxQFQ2uZptPoBY+BKTo7TYaTPyd2NV+4/RIlfFD+NSrZw/yU8M5ZHWGR6\n",
       "/HNN/unis8jF/N+2dHAxK4klYsLmUfxN9DuTxESraLVeGdzHloAYyyDoiO9jYa/X5GinFkXwAjrO\n",
       "w6nHCFtAYYvJ7JAvu4nq+oSPFdlzAsDLmsCJ0e+SvdrWIZw19FxqfihFBs8kBehdi1Xq0Igciyac\n",
       "bOLCXnJYgAAAAYFBmqJJ4Q6JlMCG//6nhABT8lrU9zmmIADhdUqFQPUAHPPzXNhOcaOha2mFrP4O\n",
       "4cElOb/elHBptaHt7C14Xz1dwyZGcA/KMUKH8KTSyM9gir/5BtKn+cuAt79yhnVy0/TazvjMkBH/\n",
       "NlArcb39V9ES4EJnS4HYgyJpOyCLPPnnVqn41uEWL3YaEUXBAX+XuClAsQZR8MMmMAOALURrmmJf\n",
       "TT85D1zTyOoKq6iuX6ignKegIIyc93B5Tj2B7CSxp7ycgt2KJe3E9MV0zVNrlh/zB8iggNlXTjDo\n",
       "EveBYUuV99xhKuuhEXAYOT7UrQ7B/adoctiaFslnr0aT/fCGLpjb6EvXEGgqM9nP0/eVRtT4tNMM\n",
       "9rWXaC6rUMBuwjHr2IcqibqO6sPSB624piKLquQb9QKH2MiIYK+OIkb6m9+kp95ed2op2KCx+mA+\n",
       "kKJzwMOIiKE02U1rrI/metNCWCR7/hxWHDhyR2/TNYlNgFgaX/uwkzkSN/NYR0EJSLmlwbXBAAAB\n",
       "9UGaxEnhDyZTBRE8N//+p4QAVH4/VrsFTDA+cXtZBa3fLAB14IDDDYTHyu9fPDwKkGl3ueP0n6mJ\n",
       "4L6LLeJEnTkZBjjuKNDaaV9vmsAvQexjVgO8M2d655XEkmCpHIrKBbeWoBjrAsfb+YokrtR9JEVt\n",
       "fdbl6trQZHOorVgpqOGQD6MOfvDlkxjkX7A2FMhwqeqNdqjhJjIDbxaHzeyxm9hAlmrI0v1K3QzZ\n",
       "v+btkps0ZHCUzqoD1gfM3ylwTQB6PflCXVqNKKzeXpB1bUoOgxQWZl5+WLkXRrFayuDu/Efeo2So\n",
       "+DkhdY8ugrJ7nMgFCmsAKsBo6NkR/xgG6TIRVhppXgN3AoO81d+F/lTj8va8Rfp6lnoGM7thkrrs\n",
       "O0HcxfhykmxaekO2vdfjjLZXcirtcR71g1IA0GwlZXd1qXJyasxGHauXKW/GX+pB0ABoSHeldCKZ\n",
       "rWKryRrOHHYKydrON0unGUmpPIpU/fdGbgsGVcEqKfWWnGv2o+Zl8Xi8HnXY7kEJ6MZXpjwIkji2\n",
       "Ko19swFE/BRfYlb8RDWhEG9eozU+ePuuSMWirni9e/iV1IqUynZvg1ezbMpqlbPpXFKFHZEVfNsv\n",
       "8oj2ulxhE5UyHBmHLsnc4HRIuI5eB+RiL2I0qguxsUE7IDhhwQDKjdazGDEo+AAAAN0BnuNqQr8A\n",
       "Q2QnJhZGsvX0PKBCQAmXVFlzKy/dR9s4H8wn+3mTBTYETvAWSqld+FAhzDhEavy8DN4eacizzyKL\n",
       "QZfWc3pCDlXsx6v51QfbMz+iz/OAZTGpHdSP4rya+tGhpvwZWvEL9woy1N5iNTTJPNx+yjXn7Hxq\n",
       "7UitJG2tQKwQDS6vdgvfgfCuiqbQENlTlwLpUN88/ltQqId4r69MO75lWT/ULTza8WklkL7gHYAA\n",
       "INqKm1aCql+eRHoxNjGayxhmsvGm6t5QPJU2EwScQmmPhM0UMv7KU3xr+QAAAeRBmuZJ4Q8mUwU8\n",
       "M//+nhAA145bv2h4sXCZmhoTqCGoTz+ZcQAQ3lgUNDdtxRXB7TG2WjJbIZMY6PIw0MaIaejglIb8\n",
       "WrLKr2IhjJ3Mm4DFCxPp7zKkMu1m8YIPOFKLReVH7uuKdYjil6Kib84/Kk/8IPr9UoMZKChkzgmn\n",
       "dwTBHlX/lp38MejnQrmbQRI4Dl1uS2Yg8apaagUBgNnox6udHSisDH5RBGKkAg5+5IEip5yB3X60\n",
       "vghNRLDDeLZ3J/OhwuUSxk3EHP+Bs4Hh2Ow71fLPZ6v/N37Qa7JW/a/JRMqmv7G6qIJosxrKACBy\n",
       "nJlLapbrqmqitXrJos0kSOuaRUPWhfQ5u+bp0/jnwfvS23Gr1KDpDh8L1Yvq1KR2a44qKME0ye6G\n",
       "c/Q4rUgbxSvpHn5WXumwtxrn0Ob8e/q6BxZ/Br901z/SE3tPnx4v8lE68nN3Hzg2scgsB1ld0Kt3\n",
       "AdtioIjavkTRX9rby6IRGQlpg4ZvMWMeqm295t+RosJHgoeCWK/pMsnHSgekPKnILpJDpf+QPPWX\n",
       "pjZ2FzgVwqZRhrqV2cPjH1cGx0jw1nFEtFLOPRsv6Qr9Wpy/xS+Pg/vFxrwsqv4FtVGRB3Xvn8cQ\n",
       "AnyIHzj5mLtdcQvMIDls0sF1AAABDwGfBWpCvwBa+sD8w67rA5iDyN5rIR1j1Wuo+b94Xk5rAbs8\n",
       "ut/9elApjfsayuUzvQYc7/QB+kWmixdAYCuXZv2orJP4Hln9XAyjQck087HanATSaPc1uWxIIgBX\n",
       "61T/QqvoG3AvF61D65onvkHmoTWyO+GQ5rPpxuKLRNCbXD5IA64l0HwYWjpow85ra3nduucZHw2/\n",
       "LaM5yTwzrphAjEuT75rPUP0BtbGcZwfWWGQ3Brb7LbLoOsGFjyN+1489nJHkKlHt+b1N/L1e4CUl\n",
       "ZGqVOC+qLW4Hlkszfi3HAAZj/TeZBvcSxTdtgMhJDsmqiGuOWk0k1B66wVj4lX1D1FpUd/QqswEu\n",
       "0Hm+f8LQ94EAAAFRQZsHSeEPJlMCFf/+OEABpxhLSqgBJezi+3Q9Sl3trgHFzxAwdMRkkFTif+Fg\n",
       "PAgDQ9Lmp/xFywZE8lt7y6Z3hwJK52AsXK9Pt/KKXiG7pLBp9YZIyLpZUC1GeQjX3kMZjGyW+T9J\n",
       "80I9NqnkRx7qZMbg4TpmjQKoapi0HvaGYawC8GWnVovvPH+jJj0YBfaW0Ih2mO9B0CzvleazhDQk\n",
       "B2DEXP9/dlYrfF3397Vj9ipjDRUTJabr5KnDssMs9qOuF7sn4N+ZQz7HVWK0/3msks3QYB8tb/bl\n",
       "3PUJsmCEfgF7i/K7bScgjsNkWctY5A/gyRwuy42Avca6JBy4tXhGlLjJ8WnTktALc43o7urXPbJ/\n",
       "hiC41AUYyd1esONAyL9unTW7O08NcLYrq5sAMJ99zhNvdpBmWArA8drfUpOpQEf0peLVsFL+cMDE\n",
       "yzHfaX9EtQAACgZtb292AAAAbG12aGQAAAAAAAAAAAAAAAAAAAPoAAAnEAABAAABAAAAAAAAAAAA\n",
       "AAAAAQAAAAAAAAAAAAAAAAAAAAEAAAAAAAAAAAAAAAAAAEAAAAAAAAAAAAAAAAAAAAAAAAAAAAAA\n",
       "AAAAAAAAAAACAAAJMHRyYWsAAABcdGtoZAAAAAMAAAAAAAAAAAAAAAEAAAAAAAAnEAAAAAAAAAAA\n",
       "AAAAAAAAAAAAAQAAAAAAAAAAAAAAAAAAAAEAAAAAAAAAAAAAAAAAAEAAAAABsAAAASAAAAAAACRl\n",
       "ZHRzAAAAHGVsc3QAAAAAAAAAAQAAJxAAAAQAAAEAAAAACKhtZGlhAAAAIG1kaGQAAAAAAAAAAAAA\n",
       "AAAAACgAAAGQAFXEAAAAAAAtaGRscgAAAAAAAAAAdmlkZQAAAAAAAAAAAAAAAFZpZGVvSGFuZGxl\n",
       "cgAAAAhTbWluZgAAABR2bWhkAAAAAQAAAAAAAAAAAAAAJGRpbmYAAAAcZHJlZgAAAAAAAAABAAAA\n",
       "DHVybCAAAAABAAAIE3N0YmwAAACzc3RzZAAAAAAAAAABAAAAo2F2YzEAAAAAAAAAAQAAAAAAAAAA\n",
       "AAAAAAAAAAABsAEgAEgAAABIAAAAAAAAAAEAAAAAAAAAAAAAAAAAAAAAAAAAAAAAAAAAAAAAAAAA\n",
       "AAAY//8AAAAxYXZjQwFkABX/4QAYZ2QAFazZQbCWhAAAAwAEAAADAKA8WLZYAQAGaOvjyyLAAAAA\n",
       "HHV1aWRraEDyXyRPxbo5pRvPAyPzAAAAAAAAABhzdHRzAAAAAAAAAAEAAADIAAACAAAAABRzdHNz\n",
       "AAAAAAAAAAEAAAABAAADyGN0dHMAAAAAAAAAdwAAAAEAAAQAAAAAAQAABgAAAAABAAACAAAAAAEA\n",
       "AAYAAAAAAQAAAgAAAAABAAAGAAAAAAEAAAIAAAAAAQAABgAAAAABAAACAAAAAAEAAAQAAAAAAQAA\n",
       "BgAAAAABAAACAAAAAAEAAAYAAAAAAQAAAgAAAAABAAAIAAAAAAIAAAIAAAAACQAABAAAAAABAAAG\n",
       "AAAAAAEAAAIAAAAAAQAACgAAAAABAAAEAAAAAAEAAAAAAAAAAQAAAgAAAAABAAAIAAAAAAIAAAIA\n",
       "AAAAAQAABAAAAAABAAAGAAAAAAEAAAIAAAAABgAABAAAAAABAAAIAAAAAAIAAAIAAAAAAgAABAAA\n",
       "AAABAAAIAAAAAAIAAAIAAAAABwAABAAAAAABAAAIAAAAAAIAAAIAAAAAAQAABAAAAAABAAAGAAAA\n",
       "AAEAAAIAAAAAAgAABAAAAAABAAAGAAAAAAEAAAIAAAAABQAABAAAAAABAAAGAAAAAAEAAAIAAAAA\n",
       "AQAABAAAAAABAAAGAAAAAAEAAAIAAAAABgAABAAAAAABAAAGAAAAAAEAAAIAAAAAAwAABAAAAAAB\n",
       "AAAGAAAAAAEAAAIAAAAAAQAACgAAAAABAAAEAAAAAAEAAAAAAAAAAQAAAgAAAAABAAAGAAAAAAEA\n",
       "AAIAAAAAAQAABAAAAAABAAAIAAAAAAIAAAIAAAAABQAABAAAAAABAAAIAAAAAAIAAAIAAAAADAAA\n",
       "BAAAAAABAAAKAAAAAAEAAAQAAAAAAQAAAAAAAAABAAACAAAAAAEAAAoAAAAAAQAABAAAAAABAAAA\n",
       "AAAAAAEAAAIAAAAAAgAABAAAAAABAAAGAAAAAAEAAAIAAAAAAwAABAAAAAABAAAGAAAAAAEAAAIA\n",
       "AAAAAQAACgAAAAABAAAEAAAAAAEAAAAAAAAAAQAAAgAAAAAKAAAEAAAAAAEAAAYAAAAAAQAAAgAA\n",
       "AAABAAAGAAAAAAEAAAIAAAAAAQAABgAAAAABAAACAAAAAAEAAAoAAAAAAQAABAAAAAABAAAAAAAA\n",
       "AAEAAAIAAAAAAQAABAAAAAABAAAGAAAAAAEAAAIAAAAABAAABAAAAAABAAAIAAAAAAIAAAIAAAAA\n",
       "AQAABAAAAAABAAAIAAAAAAIAAAIAAAAACAAABAAAAAABAAAKAAAAAAEAAAQAAAAAAQAAAAAAAAAB\n",
       "AAACAAAAAAEAAAgAAAAAAgAAAgAAAAADAAAEAAAAAAEAAAYAAAAAAQAAAgAAAAABAAAGAAAAAAEA\n",
       "AAIAAAAAAQAABAAAAAAcc3RzYwAAAAAAAAABAAAAAQAAAMgAAAABAAADNHN0c3oAAAAAAAAAAAAA\n",
       "AMgAABPBAAACHQAAAH0AAAGnAAAApgAAAjEAAADDAAACJAAAAOMAAAGxAAACPgAAAPoAAAJJAAAB\n",
       "IgAAAdUAAAHKAAABZgAAAqgAAAKRAAACnAAAAtUAAAL1AAACzAAAAloAAALVAAACwgAAAxYAAADz\n",
       "AAADEAAAAPcAAAC7AAAAmgAAASAAAAB2AAAAbgAAAYEAAAHIAAAAxAAAAc4AAAGOAAAB/wAAAZwA\n",
       "AAHQAAACCwAAAvMAAAGFAAABaAAAAVoAAAJUAAAE6AAAAjQAAAFfAAAC0gAAAtsAAAKHAAACfgAA\n",
       "Ao4AAAL/AAACowAAAusAAAD3AAAAxwAAAY8AAADGAAAAhAAAAQMAAAFBAAAB9AAAAMQAAAGhAAAB\n",
       "TQAAAc8AAAGgAAABuQAAArgAAAE9AAACDgAAAiAAAAGJAAACPAAAAlEAAAKDAAACoQAAAvUAAALv\n",
       "AAAECgAAAQAAAAKRAAACyQAAAlIAAALqAAAAvQAAAdoAAADJAAAAjwAAAG4AAAEcAAAAgAAAAXQA\n",
       "AAIgAAAA8wAAANMAAAHKAAAByAAAAcYAAAF4AAAB0AAAApsAAAHIAAABcAAAATMAAAJuAAACgAAA\n",
       "AuoAAAK3AAAC9gAAAvwAAAKhAAACogAAAlAAAALLAAAC7wAAAuoAAAEZAAAAuwAAAIoAAAEUAAAA\n",
       "pgAAAF4AAAB9AAABSQAAAXkAAAIJAAAA2QAAAbUAAAFxAAABzQAAAncAAAEoAAACjwAAAnIAAAFM\n",
       "AAABOAAAAlEAAAKXAAACiAAAAvMAAAK8AAACkwAAArEAAAKPAAAC0AAAAlwAAAKaAAAArwAAAicA\n",
       "AAB7AAAAmwAAAHYAAAGeAAAAvAAAAG4AAAC2AAABsAAAAhIAAAD+AAAB1AAAAbsAAAItAAACBQAA\n",
       "Ap0AAAGTAAABfwAAAbwAAATdAAAB+AAAAWUAAAKoAAAC1QAAApkAAAJuAAACyAAAAo4AAAKhAAAC\n",
       "pwAAAyAAAADkAAAAuwAAAJwAAACXAAAAcQAAAHcAAAFxAAABfgAAAYUAAAH5AAAA4QAAAegAAAET\n",
       "AAABVQAAABRzdGNvAAAAAAAAAAEAAAAsAAAAYnVkdGEAAABabWV0YQAAAAAAAAAhaGRscgAAAAAA\n",
       "AAAAbWRpcmFwcGwAAAAAAAAAAAAAAAAtaWxzdAAAACWpdG9vAAAAHWRhdGEAAAABAAAAAExhdmY1\n",
       "Ny44My4xMDA=\n",
       "\">\n",
       "  Your browser does not support the video tag.\n",
       "</video>"
      ],
      "text/plain": [
       "<IPython.core.display.HTML object>"
      ]
     },
     "execution_count": 42,
     "metadata": {
      "tags": []
     },
     "output_type": "execute_result"
    }
   ],
   "source": [
    "from IPython.display import HTML\n",
    "HTML(anim.to_html5_video())"
   ]
  },
  {
   "cell_type": "code",
   "execution_count": null,
   "metadata": {
    "id": "v7_iC9jhLTOI"
   },
   "outputs": [],
   "source": [
    "import matplotlib.animation as animation\n",
    "writergif = animation.PillowWriter(fps=30) \n",
    "anim.save('animación.gif', writer=writergif)"
   ]
  },
  {
   "cell_type": "markdown",
   "metadata": {
    "id": "-sWEGTQC-7GS"
   },
   "source": [
    "### Problema de aplicación:"
   ]
  },
  {
   "cell_type": "markdown",
   "metadata": {
    "id": "ehwaInmy-7GT"
   },
   "source": [
    "El Hamiltoniano de la partícula es: \n",
    "\n",
    "$$\\hat{H}=\\frac{\\hat{p}^2}{2m}-\\frac{1}{2}m\\omega^2\\hat{x}^2$$\n",
    "\n",
    "donde $\\omega=\\sqrt{\\frac{k}{m}}$ y $\\hat{p}=-i\\hbar \\frac{\\partial}{\\partial x}$."
   ]
  },
  {
   "cell_type": "markdown",
   "metadata": {
    "id": "N4Kf8fH5-7GT"
   },
   "source": [
    "tiene tres parámetros dimensionales relevantes, m, ω y ℏ, (es decir, $[m] = [M]$, $[ω] = [T^{−1}]$ y $[ℏ] = [ML^2T^{−1}]$ son todos algebraicamente independientes) entonces tienes un sistema rígido, en el sentido del teorema de Buckingham Pi: dos copias cualesquiera del problema compartirán el mismo comportamiento, y serán idénticas hasta una re-escala . "
   ]
  },
  {
   "cell_type": "markdown",
   "metadata": {
    "id": "CoO_CbyL-7GT"
   },
   "source": [
    "Por lo que utilizamos el hamiltoniano adimensionalizado, escalando las unidades de energía en $\\hbar \\omega$, momentos en $\\sqrt{\\hbar m\\omega}$ y las posiciones en $\\sqrt{\\hbar/(m\\omega)}$:\n",
    "\n",
    "$$\\hat{H}=\\frac{1}{2}\\hat{x}^2-\\frac{1}{2}\\frac{d^2}{dx^2}$$"
   ]
  },
  {
   "cell_type": "markdown",
   "metadata": {
    "id": "Df8JlGf2-7GT"
   },
   "source": [
    "Introducimos en la ecuación de Schrödinger:"
   ]
  },
  {
   "cell_type": "markdown",
   "metadata": {
    "id": "5UrH_n6B-7GT"
   },
   "source": [
    "$$\\hat{H}\\left| \\psi \\right\\rangle = E\\left| \\psi \\right\\rangle$$"
   ]
  },
  {
   "cell_type": "markdown",
   "metadata": {
    "id": "gP7ZiOk9-7GT"
   },
   "source": [
    "$$\\left(\\frac{1}{2}\\hat{x}^2-\\frac{1}{2}\\frac{d^2}{dx^2}\\right) \\left| \\psi \\right\\rangle = E \\left| \\psi \\right\\rangle $$"
   ]
  },
  {
   "cell_type": "markdown",
   "metadata": {
    "id": "ztj4_B4r-7GT"
   },
   "source": [
    "Proyectamos las soluciones de las funciones de onda en el espacio de posiciones: $\\langle x|\\psi\\rangle = \\psi(x)$ [3]"
   ]
  },
  {
   "cell_type": "markdown",
   "metadata": {
    "id": "xBXlFjOh-7GU"
   },
   "source": [
    "$$\\psi_n(x)=\\frac{1}{\\sqrt{2^n n!}}\\pi^{-1/4}exp(-x^2/2)H_n(x)$$\n",
    "$$E_n=n+\\frac{1}{2}$$"
   ]
  },
  {
   "cell_type": "markdown",
   "metadata": {
    "id": "u8SseCZi-7GU"
   },
   "source": [
    "Polinomio de Hermite: (Fórmula de recurrencia)\n",
    "\n",
    "$$H_{n+1}(y)=2yH_n(y)-2nH_{n-1}(y)$$"
   ]
  },
  {
   "cell_type": "code",
   "execution_count": null,
   "metadata": {
    "id": "VvtaGX6T-7GW"
   },
   "outputs": [],
   "source": [
    "def hermite(x2,n):\n",
    "    if n==0:\n",
    "        return 1\n",
    "    elif n==1:\n",
    "        return 2*x2\n",
    "    else:\n",
    "        return 2*x2*hermite(x2,n-1)-2*(n-1)*hermite(x2,n-2)"
   ]
  },
  {
   "cell_type": "code",
   "execution_count": null,
   "metadata": {
    "id": "cmjJiMNw-7GW"
   },
   "outputs": [],
   "source": [
    "def nat_q_osc(x,n):\n",
    "    return(np.sqrt(1/(2**n*factorial(n)))*np.pi**(-1/4)*np.exp(-x**2/2)*hermite(x,n))"
   ]
  },
  {
   "cell_type": "code",
   "execution_count": null,
   "metadata": {
    "id": "6RFWfAa5-7GW"
   },
   "outputs": [],
   "source": [
    "plt.rcParams[\"figure.figsize\"] = (15,5)"
   ]
  },
  {
   "cell_type": "code",
   "execution_count": null,
   "metadata": {
    "id": "A8XYuRHCNqY0"
   },
   "outputs": [],
   "source": [
    "#plt.style.use('default')"
   ]
  },
  {
   "cell_type": "code",
   "execution_count": null,
   "metadata": {
    "colab": {
     "base_uri": "https://localhost:8080/",
     "height": 277
    },
    "id": "G-NA4R5x-7GX",
    "outputId": "c1a85af8-e920-43d5-9fa1-de6893c45439"
   },
   "outputs": [
    {
     "data": {
      "text/plain": [
       "Text(0.5, 0, 'posición')"
      ]
     },
     "execution_count": 72,
     "metadata": {
      "tags": []
     },
     "output_type": "execute_result"
    },
    {
     "data": {
      "image/png": "[encoded data removed]",
      "text/plain": [
       "<Figure size 1080x360 with 1 Axes>"
      ]
     },
     "metadata": {
      "needs_background": "light",
      "tags": []
     },
     "output_type": "display_data"
    }
   ],
   "source": [
    "n=5\n",
    "xx3=np.linspace(-5,5,100)\n",
    "yy3=nat_q_osc(xx3,n)\n",
    "plt.plot(xx3,yy3)\n",
    "plt.ylabel('función de onda')\n",
    "plt.xlabel('posición')\n",
    "#plt.plot(xx3,amp_yy3)"
   ]
  },
  {
   "cell_type": "code",
   "execution_count": null,
   "metadata": {
    "colab": {
     "base_uri": "https://localhost:8080/"
    },
    "id": "4O0FJ6t--7GX",
    "outputId": "a4e64411-35f1-4c3e-8143-82a5a53e7d8a"
   },
   "outputs": [
    {
     "name": "stdout",
     "output_type": "stream",
     "text": [
      "Energía par   a n=5: 5.5\n"
     ]
    }
   ],
   "source": [
    "E_n=n+0.5\n",
    "print('Energía par   a n={}: {}'.format(n,E_n))"
   ]
  },
  {
   "cell_type": "code",
   "execution_count": null,
   "metadata": {
    "colab": {
     "base_uri": "https://localhost:8080/",
     "height": 286
    },
    "id": "9ZGWUS-7-7GX",
    "outputId": "3b86fa71-6fb0-4102-cae4-3c3cd505329c",
    "scrolled": true
   },
   "outputs": [
    {
     "data": {
      "text/plain": [
       "Text(0.5, 1.0, '$|ψ(x,t=1)|^2, n=5$')"
      ]
     },
     "execution_count": 74,
     "metadata": {
      "tags": []
     },
     "output_type": "execute_result"
    },
    {
     "data": {
      "image/png": "[encoded data removed]",
      "text/plain": [
       "<Figure size 1080x360 with 1 Axes>"
      ]
     },
     "metadata": {
      "needs_background": "light",
      "tags": []
     },
     "output_type": "display_data"
    }
   ],
   "source": [
    "yy2=nat_q_osc(xx3,n)*np.conjugate(nat_q_osc(xx3,n))\n",
    "plt.plot(xx3,yy2)\n",
    "plt.title('$|ψ(x,t=1)|^2, n=5$')"
   ]
  },
  {
   "cell_type": "code",
   "execution_count": null,
   "metadata": {
    "colab": {
     "base_uri": "https://localhost:8080/",
     "height": 286
    },
    "id": "YkxqthsV-7GX",
    "outputId": "dd96e0e8-b653-4f14-971e-e6bbffae6d31",
    "scrolled": true
   },
   "outputs": [
    {
     "data": {
      "text/plain": [
       "Text(0.5, 1.0, 'Probabilidad total= $\\\\int \\\\psi^*(x,n)\\\\psi(x,n)$')"
      ]
     },
     "execution_count": 75,
     "metadata": {
      "tags": []
     },
     "output_type": "execute_result"
    },
    {
     "data": {
      "image/png": "[encoded data removed]",
      "text/plain": [
       "<Figure size 1080x360 with 1 Axes>"
      ]
     },
     "metadata": {
      "needs_background": "light",
      "tags": []
     },
     "output_type": "display_data"
    }
   ],
   "source": [
    "plt.fill_between(xx3,yy3,alpha=0.30,color='g')\n",
    "plt.title('Probabilidad total= $\\int \\psi^*(x,n)\\psi(x,n)$')"
   ]
  },
  {
   "cell_type": "markdown",
   "metadata": {
    "id": "zpqGjm0e-7GY"
   },
   "source": [
    "Condición de normalización:\n",
    "\n",
    "$$P_{a\\leq x\\leq b}=\\int_{a}^b |\\psi (x,t=1)|^2dx = 1$$ \n",
    "\n",
    "Donde $[a,b]$ es el dominio espacial"
   ]
  },
  {
   "cell_type": "code",
   "execution_count": null,
   "metadata": {
    "colab": {
     "base_uri": "https://localhost:8080/"
    },
    "id": "cKAl4z5F-7GY",
    "outputId": "5b914162-1cf9-4478-a964-5bef687985f4"
   },
   "outputs": [
    {
     "data": {
      "text/plain": [
       "0.9899965912926796"
      ]
     },
     "execution_count": 88,
     "metadata": {
      "tags": []
     },
     "output_type": "execute_result"
    }
   ],
   "source": [
    "#El área  bajo la curva por regla del trapecio\n",
    "np.trapz(yy2,dx=0.1)"
   ]
  },
  {
   "cell_type": "markdown",
   "metadata": {
    "id": "n7g8VWAS-7GY"
   },
   "source": [
    "## 4. Errores"
   ]
  },
  {
   "cell_type": "markdown",
   "metadata": {
    "id": "O6W0mQjk-7GY"
   },
   "source": [
    "Sean $x$ y $\\bar{x}$ un número y su valor aproximado.\n",
    "\n",
    "Error absoluto:\n",
    "\n",
    "$$e=x-\\bar{x}$$\n",
    "\n",
    "Error relativo $(x≠0)$:\n",
    "\n",
    "$$e_r=\\frac{x-\\bar{x}}{x}$$\n",
    "\n",
    "Error relativo porcentual:\n",
    "\n",
    "$$e_r \\%=e_r100$$\n",
    "\n"
   ]
  },
  {
   "cell_type": "markdown",
   "metadata": {
    "id": "1dpIpPXU-7GZ"
   },
   "source": [
    "Ejemplo:\n",
    "\n",
    "Se tiene una barra de oro de 1kg (idóneamente),  sin embargo la balanza nos muestra 1,034 kg"
   ]
  },
  {
   "cell_type": "code",
   "execution_count": null,
   "metadata": {
    "colab": {
     "base_uri": "https://localhost:8080/"
    },
    "id": "wxAk22eO-7GZ",
    "outputId": "29736876-45c8-497c-8e1a-e0b20d1444da"
   },
   "outputs": [
    {
     "data": {
      "text/plain": [
       "-0.03400000000000003"
      ]
     },
     "execution_count": 89,
     "metadata": {
      "tags": []
     },
     "output_type": "execute_result"
    }
   ],
   "source": [
    "x_real=1.034\n",
    "x_exacto=1\n",
    "e_abs= x_exacto-x_real\n",
    "e_abs"
   ]
  },
  {
   "cell_type": "code",
   "execution_count": null,
   "metadata": {
    "colab": {
     "base_uri": "https://localhost:8080/"
    },
    "id": "Kn4fXgyR-7GZ",
    "outputId": "27e9e702-deb2-4d0f-c21d-1e15377a6cec"
   },
   "outputs": [
    {
     "data": {
      "text/plain": [
       "(50,)"
      ]
     },
     "execution_count": 90,
     "metadata": {
      "tags": []
     },
     "output_type": "execute_result"
    }
   ],
   "source": [
    "x.shape"
   ]
  },
  {
   "cell_type": "code",
   "execution_count": null,
   "metadata": {
    "colab": {
     "base_uri": "https://localhost:8080/"
    },
    "id": "AWSqN-TR-7GZ",
    "outputId": "38e9d59f-019c-41c6-c894-4fc3eefd8048"
   },
   "outputs": [
    {
     "data": {
      "text/plain": [
       "array([0.64236712, 0.01516375, 0.17431316, 0.81572873, 0.15000254,\n",
       "       0.44420055, 0.27864932, 0.59110979, 0.60437618, 0.31414255,\n",
       "       0.16636903, 0.78755224, 0.49665019, 0.47102224, 0.07575641,\n",
       "       0.39629221, 0.50510408, 0.72818856, 0.07349473, 0.35060469,\n",
       "       0.79020847, 0.73647692, 0.71700686, 0.74013104, 0.09023281,\n",
       "       0.60228058, 0.1171198 , 0.71184025, 0.70937833, 0.37515124,\n",
       "       0.75720713, 0.98733862, 0.55475151, 0.33338378, 0.53498585,\n",
       "       0.95773909, 0.87767436, 0.6637328 , 0.47658777, 0.03120043,\n",
       "       0.51910026, 0.51164035, 0.11708907, 0.88927496, 0.5393385 ,\n",
       "       0.46181859, 0.80646129, 0.05791882, 0.97777911, 0.17053159,\n",
       "       0.86514122, 0.04756924, 0.83998885, 0.26345796, 0.69028376,\n",
       "       0.00884036, 0.77513773, 0.91220571, 0.03084352, 0.24058137,\n",
       "       0.86022996, 0.58206336, 0.38222519, 0.63818272, 0.41983845,\n",
       "       0.52013212, 0.54825216, 0.21782943, 0.28901858, 0.53798483,\n",
       "       0.46765704, 0.21613953, 0.54615157, 0.86043347, 0.36007068,\n",
       "       0.54953562, 0.96836957, 0.0386064 , 0.53412298, 0.54353629,\n",
       "       0.24435071, 0.72825065, 0.39870102, 0.77822658, 0.31020128,\n",
       "       0.87406601, 0.21686644, 0.65789223, 0.57699129, 0.13457936,\n",
       "       0.80261891, 0.73712526, 0.28863399, 0.74705486, 0.74771329,\n",
       "       0.25632345, 0.04817381, 0.46371735, 0.35095225, 0.7703592 ])"
      ]
     },
     "execution_count": 91,
     "metadata": {
      "tags": []
     },
     "output_type": "execute_result"
    }
   ],
   "source": [
    "np.random.rand(100,) "
   ]
  },
  {
   "cell_type": "code",
   "execution_count": null,
   "metadata": {
    "colab": {
     "base_uri": "https://localhost:8080/"
    },
    "id": "TIohM4fh-7GZ",
    "outputId": "d6f141c9-107c-48ce-91cf-e16034660077"
   },
   "outputs": [
    {
     "data": {
      "text/plain": [
       "array([-4.9883987 , -4.90102366, -4.7899562 , -4.707093  , -4.5922412 ,\n",
       "       -4.48573933, -4.40847534, -4.28648998, -4.17553318, -4.07830721,\n",
       "       -3.97993483, -3.89694399, -3.78269579, -3.67967151, -3.58169545,\n",
       "       -3.47797018, -3.38748233, -3.27151149, -3.16551216, -3.07034599,\n",
       "       -2.96807806, -2.87860906, -2.78009423, -2.6753543 , -2.57658579,\n",
       "       -2.47291578, -2.39089249, -2.29444722, -2.16874362, -2.08019492,\n",
       "       -1.95452615, -1.85533263, -1.76863635, -1.66890789, -1.56833503,\n",
       "       -1.46086292, -1.36746387, -1.25832224, -1.15319617, -1.07320221,\n",
       "       -0.96007799, -0.87181613, -0.76517398, -0.66075483, -0.54369111,\n",
       "       -0.44856127, -0.34995901, -0.25945565, -0.13783663, -0.04882551,\n",
       "        0.05950908,  0.14441836,  0.23986976,  0.36423958,  0.45801409,\n",
       "        0.54546557,  0.661445  ,  0.7572383 ,  0.86971408,  0.97099744,\n",
       "        1.06544564,  1.16586   ,  1.25525463,  1.36414924,  1.46953071,\n",
       "        1.53732691,  1.65256973,  1.77270739,  1.86508112,  1.96682527,\n",
       "        2.07698244,  2.16541692,  2.28365617,  2.36706732,  2.457695  ,\n",
       "        2.5814658 ,  2.67086297,  2.7744638 ,  2.86481345,  2.96685479,\n",
       "        3.07469294,  3.19045142,  3.28309348,  3.38736977,  3.46967353,\n",
       "        3.59195292,  3.71401936,  3.76488234,  3.88511296,  3.981284  ,\n",
       "        4.10983104,  4.20459919,  4.27836198,  4.38925717,  4.49213532,\n",
       "        4.60532523,  4.70658506,  4.81529595,  4.92296203,  4.98631736])"
      ]
     },
     "execution_count": 99,
     "metadata": {
      "tags": []
     },
     "output_type": "execute_result"
    }
   ],
   "source": [
    "import random\n",
    "random.seed(5)\n",
    "x=np.linspace(-5,5,100)\n",
    "x_pert=x+np.random.randn(100,)/100\n",
    "x_pert"
   ]
  },
  {
   "cell_type": "code",
   "execution_count": null,
   "metadata": {
    "colab": {
     "base_uri": "https://localhost:8080/",
     "height": 270
    },
    "id": "Cm_BDx3W-7Ga",
    "outputId": "20e862af-b54c-4b81-81c8-f8907b205692"
   },
   "outputs": [
    {
     "data": {
      "text/plain": [
       "<matplotlib.legend.Legend at 0x7f99a80e26a0>"
      ]
     },
     "execution_count": 100,
     "metadata": {
      "tags": []
     },
     "output_type": "execute_result"
    },
    {
     "data": {
      "image/png": "[encoded data removed]",
      "text/plain": [
       "<Figure size 1080x360 with 1 Axes>"
      ]
     },
     "metadata": {
      "needs_background": "light",
      "tags": []
     },
     "output_type": "display_data"
    }
   ],
   "source": [
    "y_orig=nat_q_osc(x,n)#*q_osc(xx,10)\n",
    "y_pert=nat_q_osc(x_pert,n)\n",
    "plt.plot(x_pert,y_pert)\n",
    "plt.plot(x,y_orig)\n",
    "plt.legend(['Función perturbada','Función Original'])"
   ]
  },
  {
   "cell_type": "code",
   "execution_count": null,
   "metadata": {
    "colab": {
     "base_uri": "https://localhost:8080/"
    },
    "id": "ftuJPQv2-7Ga",
    "outputId": "4aeeb4ff-8266-498b-8e2d-a46252d4e460",
    "scrolled": true
   },
   "outputs": [
    {
     "data": {
      "text/plain": [
       "array([-1.68485589e-04,  4.11027020e-05, -2.31709450e-04,  3.93097041e-04,\n",
       "       -2.01123854e-04, -6.73601502e-04,  1.35897629e-03, -8.03447586e-04,\n",
       "       -2.63749629e-03, -2.52716329e-03, -2.44637722e-03,  2.34193378e-03,\n",
       "       -1.79447853e-03, -2.86784821e-03, -1.85381122e-03, -3.33140962e-03,\n",
       "        1.84872664e-03, -5.78101201e-03, -7.90912884e-03, -4.48676907e-03,\n",
       "       -3.91269999e-03, -3.74047910e-05,  9.87446949e-05,  2.29937037e-04,\n",
       "       -3.19356953e-04,  1.14352934e-03, -1.42736810e-02, -2.24219700e-02,\n",
       "        3.58903797e-03, -1.22166625e-02,  1.95019461e-02,  1.58040829e-02,\n",
       "       -9.60118385e-04, -1.61077069e-03, -9.73480334e-04, -1.92801619e-04,\n",
       "        1.70964410e-03, -3.62667608e-03, -9.73854401e-03,  1.68977424e-02,\n",
       "        6.86306814e-04,  1.80048021e-02,  8.71989612e-03,  3.37982234e-03,\n",
       "       -4.07175447e-03,  7.00411348e-04,  2.06199284e-03, -6.67000133e-03,\n",
       "        1.76498203e-02,  2.40990310e-03,  1.28789974e-02, -9.10533318e-03,\n",
       "       -1.26192007e-02,  5.83435087e-03,  3.28349949e-04,  3.50374272e-03,\n",
       "       -3.94310852e-03,  3.83587316e-04, -1.51287154e-02, -1.62288345e-02,\n",
       "       -6.52017986e-03, -4.83882514e-03,  6.25062817e-03, -2.32482588e-04,\n",
       "       -1.62410318e-04, -8.60849128e-03, -9.75843596e-03,  5.05768685e-03,\n",
       "       -4.29348962e-03, -3.70078408e-03,  8.08510892e-03, -7.61675851e-03,\n",
       "        1.13906211e-02, -5.72229953e-03, -1.09474782e-02,  2.16897326e-03,\n",
       "       -9.88970583e-04,  1.24039622e-04,  2.77794819e-03,  4.31209668e-03,\n",
       "        2.63246153e-03, -4.22938662e-03, -1.35619359e-04, -1.79165065e-03,\n",
       "        7.36943707e-03, -2.70007537e-03, -1.05845912e-02,  8.06829079e-03,\n",
       "        1.10913376e-03,  2.11237266e-03, -3.66875279e-03, -1.97322391e-03,\n",
       "        1.83615272e-03,  4.49118377e-04,  2.03961700e-04, -4.96763421e-04,\n",
       "       -3.73670886e-04, -4.79645094e-04, -4.66607272e-04,  1.99458414e-04])"
      ]
     },
     "execution_count": 101,
     "metadata": {
      "tags": []
     },
     "output_type": "execute_result"
    }
   ],
   "source": [
    "e_abs_y= y_pert-y_orig\n",
    "e_abs_y"
   ]
  },
  {
   "cell_type": "code",
   "execution_count": null,
   "metadata": {
    "colab": {
     "base_uri": "https://localhost:8080/",
     "height": 268
    },
    "id": "09r5T6uk-7Ga",
    "outputId": "3b962430-512d-4e59-d461-275ee9009e6c"
   },
   "outputs": [
    {
     "data": {
      "text/plain": [
       "[<matplotlib.lines.Line2D at 0x7f99a80cb4e0>]"
      ]
     },
     "execution_count": 102,
     "metadata": {
      "tags": []
     },
     "output_type": "execute_result"
    },
    {
     "data": {
      "image/png": "[encoded data removed]",
      "text/plain": [
       "<Figure size 1080x360 with 1 Axes>"
      ]
     },
     "metadata": {
      "needs_background": "light",
      "tags": []
     },
     "output_type": "display_data"
    }
   ],
   "source": [
    "plt.plot(e_abs_y)"
   ]
  },
  {
   "cell_type": "markdown",
   "metadata": {
    "id": "FGECBA1k-7Ga"
   },
   "source": [
    "En este punto utilizamos el generador de números aleatorios con distribución uniforme en el intervalo de $[0,1]$, esto perturba a la solución de la función de onda sin respetar las condiciones físicas. Un buen ejercicio es controlar esta generación de números aleatorios que respeten la condición de completez, es decir: $\\sum P=1$."
   ]
  },
  {
   "cell_type": "markdown",
   "metadata": {
    "id": "6ucKfX5Q-7Ga"
   },
   "source": [
    "## 5. Recursos útiles\n",
    "\n",
    "* [\"Nondimensionalization of Schrödinger Equation\"](https://physics.stackexchange.com/questions/442923/why-do-we-nondimensionalize-the-schrödinger-equation-when-solving-the-quantum-ha)\n",
    "* [\"Teorema de Buckingham Pi\"](https://en.wikipedia.org/wiki/Buckingham_π_theorem)\n",
    "* David J. Griffiths, 'Introduction to Quantum Mechanics\", Pearson Prentice Hall, Year: 2004, 2nd Ed., Pág. 56\n",
    "* [\"How to Think Like a Computer Scientist\"](https://nbviewer.jupyter.org/github/Yorko/mlcourse.ai/blob/master/jupyter_english/tutorials/merging_dataframes_tutorial_max_palko.ipynb) - Think Python Versión 2.0.17 by Allen Doney. (libro completo [aquí](https://www.greenteapress.com/thinkpython/thinkpython.pdf))\n",
    "* [scipy-lectures.org](http://www.scipy-lectures.org/index.html) — tutorials on pandas, numpy, matplotlib and scikit-learn\n",
    "* https://docs.python.org/3/library/stdtypes.html#printf-style-string-formatting\n",
    "\n",
    "\n",
    "## Donaciones\n",
    "<br>\n",
    "<center>\n",
    "Puedes donar una vez en el siguiente enlace (Ko-Fi):\n",
    "\n",
    "<br>\n",
    "    \n",
    "*Click en la imagen.*\n",
    "\n",
    "<a href=\"https://ko-fi.com/rcrdphysics\">\n",
    "<img src=\"https://habrastorage.org/webt/8r/ml/xf/8rmlxfpdzukegpxa62cxlfvgkqe.png\" width=20% />\n",
    "\n",
    "</center>"
   ]
  }
 ],
 "metadata": {
  "colab": {
   "collapsed_sections": [],
   "name": "Copy of Sesión_1.ipynb",
   "provenance": [
    {
     "file_id": "1xC0lwzCqU32pO3zUvsc9VXoR0G_aQcN2",
     "timestamp": 1613831475096
    }
   ]
  },
  "kernelspec": {
   "display_name": "Python 3",
   "language": "python",
   "name": "python3"
  },
  "language_info": {
   "codemirror_mode": {
    "name": "ipython",
    "version": 3
   },
   "file_extension": ".py",
   "mimetype": "text/x-python",
   "name": "python",
   "nbconvert_exporter": "python",
   "pygments_lexer": "ipython3",
   "version": "3.8.5"
  }
 },
 "nbformat": 4,
 "nbformat_minor": 1
}
