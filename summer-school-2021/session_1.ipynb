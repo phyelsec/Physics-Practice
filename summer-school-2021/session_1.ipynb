{
 "cells": [
  {
   "cell_type": "markdown",
   "metadata": {
    "_uuid": "1752ce061957fd1ce93d2e4db9494b7b29da7935",
    "id": "4skdndoa-7GI"
   },
   "source": [
    "<center>\n",
    "<img src=\"https://habrastorage.org/webt/jq/gc/r5/jqgcr5azmatev6zvgufn8xftehy.png\">\n",
    "    \n",
    "##  II Escuela de Verano en Física Computacional\n",
    "\n",
    "Autores: [Neisser Pino R.](https://scholar.google.com.pe/citations?user=pAB28NEAAAAJ&hl=es), [Ricardo Quispe M.](https://github.com/RcrdPhysics).\\\n",
    "Institución: Universidad Nacional Mayor de San Marcos\\\n",
    "Correo: ricardo.quispe5@unmsm.edu.pe\n",
    "    \n",
    "Este material está sujeto a los términos y condiciones de la licencia [Creative Commons CC BY-NC-SA 4.0](https://creativecommons.org/licenses/by-nc-sa/4.0/). Se permite el uso gratuito para cualquier propósito no comercial.\n",
    "\n",
    "*También puede consultar la última versión de este notebook en nuestro [repositorio](https://github.com/PCPUNMSM) y los videos de clase [en nuestro canal de Youtube](https://www.youtube.com/channel/UCze8vzQLcplutz0nWDNjFCA).*\n",
    "    "
   ]
  },
  {
   "cell_type": "markdown",
   "metadata": {
    "_uuid": "9b690f2c8129ad9445c544337375b93246c26668",
    "id": "Vm9O4SUd-7GJ"
   },
   "source": [
    "# <center> Sesión 1. Funciones, series y gráficos\n",
    "\n",
    "<img align=\"center\" src=\"https://school.eckovation.com/wp-content/uploads/2017/07/trigonometry_functions_wallpaper_by_integral_love-dact22q.jpg\"  width=65% />\n",
    "\n",
    "## Outline\n",
    "1. [Funciones](#1.-Funciones)\n",
    "2. [Series](#2.-Series)\n",
    "3. [Gráficos](#3-Gráficos)\n",
    "4. [Errores](#4.-Errores)    "
   ]
  },
  {
   "cell_type": "markdown",
   "metadata": {
    "id": "XS4Ufo9g-7GK"
   },
   "source": [
    "## 1. Funciones"
   ]
  },
  {
   "cell_type": "markdown",
   "metadata": {
    "id": "doLcsGvk-7GK"
   },
   "source": [
    "En el contexto de la programación, una función es una secuencia de declaraciones que realizan determinadas operaciones."
   ]
  },
  {
   "cell_type": "markdown",
   "metadata": {
    "id": "QOXcXyoJ-7GK"
   },
   "source": [
    "Syntax de una función:\n",
    "\n",
    "\n",
    ">     def mi_función(x1,x2,...,xn):  \n",
    "          operacion_1= x1+x4+x3*x2\n",
    "          operacion_2= x1+x4+x3*x2\n",
    "          operación_3= x1**2+x2+x3*x4\n",
    "       return(lo que quiero extraer)\n",
    "\n"
   ]
  },
  {
   "cell_type": "markdown",
   "metadata": {
    "id": "5lM81OmG-7GK"
   },
   "source": [
    "Una vez definida la función puedes llamarla, por ejemplo:"
   ]
  },
  {
   "cell_type": "code",
   "execution_count": 25,
   "metadata": {
    "colab": {
     "base_uri": "https://localhost:8080/"
    },
    "id": "Aife9tjT-7GL",
    "outputId": "3abbaa04-a66c-461d-b487-1a96ce48e0c5"
   },
   "outputs": [
    {
     "data": {
      "text/plain": [
       "int"
      ]
     },
     "execution_count": 25,
     "metadata": {},
     "output_type": "execute_result"
    }
   ],
   "source": [
    "type(32)"
   ]
  },
  {
   "cell_type": "markdown",
   "metadata": {
    "id": "iEsqlSmS-7GL"
   },
   "source": [
    "### Función Factorial$$n!$$\n",
    "\n",
    "Factorial de un número entero positivo."
   ]
  },
  {
   "cell_type": "code",
   "execution_count": 26,
   "metadata": {
    "colab": {
     "base_uri": "https://localhost:8080/",
     "height": 162
    },
    "id": "Lzr30iyl-7GL",
    "outputId": "3f6ac938-96bd-4b33-d3ac-8a6fb52f7030"
   },
   "outputs": [
    {
     "data": {
      "text/plain": [
       "120"
      ]
     },
     "execution_count": 26,
     "metadata": {},
     "output_type": "execute_result"
    }
   ],
   "source": [
    "factorial(5)"
   ]
  },
  {
   "cell_type": "code",
   "execution_count": 27,
   "metadata": {
    "id": "y0IDHZct-7GM"
   },
   "outputs": [],
   "source": [
    "def factorial(n):\n",
    "    f=1\n",
    "    for i in range(2,n+1):\n",
    "        f*=i #o f=i*f\n",
    "    return(f)"
   ]
  },
  {
   "cell_type": "code",
   "execution_count": 28,
   "metadata": {
    "colab": {
     "base_uri": "https://localhost:8080/"
    },
    "id": "EE4WJxIP-7GM",
    "outputId": "ef18adaa-5605-4e02-c90d-69e9bd86526a"
   },
   "outputs": [
    {
     "data": {
      "text/plain": [
       "6"
      ]
     },
     "execution_count": 28,
     "metadata": {},
     "output_type": "execute_result"
    }
   ],
   "source": [
    "factorial(3)"
   ]
  },
  {
   "cell_type": "code",
   "execution_count": 29,
   "metadata": {
    "colab": {
     "base_uri": "https://localhost:8080/"
    },
    "id": "xbpZcpyWEcTq",
    "outputId": "93d71ea4-ec99-4233-d03f-5258f2586680"
   },
   "outputs": [
    {
     "name": "stdout",
     "output_type": "stream",
     "text": [
      "n n!\n",
      "0 1\n",
      "1 1\n",
      "2 2\n",
      "3 6\n",
      "4 24\n",
      "5 120\n",
      "6 720\n",
      "7 5040\n",
      "8 40320\n",
      "9 362880\n"
     ]
    }
   ],
   "source": [
    "print('n','n!') #%10s, 10 espacios para caracteres tipo string\n",
    "for j in range(10):\n",
    "    print(j,factorial(j))"
   ]
  },
  {
   "cell_type": "code",
   "execution_count": 30,
   "metadata": {
    "colab": {
     "base_uri": "https://localhost:8080/"
    },
    "id": "ggqZCsGk-7GM",
    "outputId": "4c286344-2c62-407c-b8f4-45d82a158de9"
   },
   "outputs": [
    {
     "name": "stdout",
     "output_type": "stream",
     "text": [
      "         n         n!\n",
      "         0          1\n",
      "         1          1\n",
      "         2          2\n",
      "         3          6\n",
      "         4         24\n",
      "         5        120\n",
      "         6        720\n",
      "         7       5040\n",
      "         8      40320\n",
      "         9     362880\n"
     ]
    }
   ],
   "source": [
    "print('%10s %10s' %('n','n!')) #%10s, 10 espacios para caracteres tipo string\n",
    "for j in range(10):\n",
    "    print('%10d %10d' % (j,factorial(j))) # %10d, 10 espacios para cateres de tipo entero decimal"
   ]
  },
  {
   "cell_type": "markdown",
   "metadata": {
    "id": "HgHGgK27-7GM"
   },
   "source": [
    "## 1.1 Funciones Matemáticas\n",
    "\n",
    "### 1.1.1 $$\\mathbb{R}^n\\rightarrow\\mathbb{R}$$"
   ]
  },
  {
   "cell_type": "markdown",
   "metadata": {
    "id": "_2pML3Go-7GN"
   },
   "source": [
    "Por ejemplo: \n",
    "La ecuación de movimiento en el eje Y de una partícula libre:\n",
    "$$y(y_0,v_0,t)=y_0+v_0 t - \\frac{1}{2} g t^2$$"
   ]
  },
  {
   "cell_type": "code",
   "execution_count": 31,
   "metadata": {
    "id": "jAdLOHrP-7GN"
   },
   "outputs": [],
   "source": [
    "def y_pos(y0,v0,t):\n",
    "    g= 9.8 #m/s^2\n",
    "    return(y0+v0*t-0.5*g*t**2)"
   ]
  },
  {
   "cell_type": "code",
   "execution_count": 32,
   "metadata": {
    "id": "S_1pi4IN-7GN"
   },
   "outputs": [],
   "source": [
    "import numpy as np"
   ]
  },
  {
   "cell_type": "code",
   "execution_count": 33,
   "metadata": {
    "colab": {
     "base_uri": "https://localhost:8080/"
    },
    "id": "YINeWIo6-7GN",
    "outputId": "310fd1a6-5d9f-4800-82be-08b964cf9a24"
   },
   "outputs": [
    {
     "data": {
      "text/plain": [
       "array([ 0.,  1.,  2.,  3.,  4.,  5.,  6.,  7.,  8.,  9., 10.])"
      ]
     },
     "execution_count": 33,
     "metadata": {},
     "output_type": "execute_result"
    }
   ],
   "source": [
    "t= np.linspace(0,10,11) # cantidad datos con espacio definido\n",
    "t"
   ]
  },
  {
   "cell_type": "code",
   "execution_count": 34,
   "metadata": {
    "colab": {
     "base_uri": "https://localhost:8080/"
    },
    "id": "AsNCjXF6-7GN",
    "outputId": "0994e560-afb8-4160-a0c5-62d28275bd32"
   },
   "outputs": [
    {
     "data": {
      "text/plain": [
       "array([   0. ,   25.1,   40.4,   45.9,   41.6,   27.5,    3.6,  -30.1,\n",
       "        -73.6, -126.9, -190. ])"
      ]
     },
     "execution_count": 34,
     "metadata": {},
     "output_type": "execute_result"
    }
   ],
   "source": [
    "# posicion\n",
    "y0 = 0\n",
    "v0 = 30\n",
    "y_pos(y0, v0, t)"
   ]
  },
  {
   "cell_type": "code",
   "execution_count": 35,
   "metadata": {
    "id": "Y6UCZEUG-7GN"
   },
   "outputs": [],
   "source": [
    "import matplotlib.pyplot as plt"
   ]
  },
  {
   "cell_type": "code",
   "execution_count": 36,
   "metadata": {
    "colab": {
     "base_uri": "https://localhost:8080/",
     "height": 296
    },
    "id": "PRtoDSwM-7GO",
    "outputId": "951c6536-130c-4118-97ad-3626af932ea7"
   },
   "outputs": [
    {
     "data": {
      "image/png": "[encoded data removed]",
      "text/plain": [
       "<Figure size 432x288 with 1 Axes>"
      ]
     },
     "metadata": {
      "needs_background": "light"
     },
     "output_type": "display_data"
    }
   ],
   "source": [
    "plt.plot(t,y_pos(0,30,t))\n",
    "plt.ylabel('y(m)')\n",
    "plt.xlabel('t(s)')\n",
    "plt.grid()"
   ]
  },
  {
   "cell_type": "markdown",
   "metadata": {
    "id": "YZU93U8z-7GO"
   },
   "source": [
    "$$\\frac{dy}{dt}= v(v_0,t)=v_0-gt$$"
   ]
  },
  {
   "cell_type": "code",
   "execution_count": 37,
   "metadata": {
    "id": "J90rm3oB-7GP"
   },
   "outputs": [],
   "source": [
    "def y_vel(v0,t):\n",
    "    g= 9.8 #m/s^2\n",
    "    return(v0-g*t)"
   ]
  },
  {
   "cell_type": "code",
   "execution_count": 38,
   "metadata": {
    "colab": {
     "base_uri": "https://localhost:8080/",
     "height": 296
    },
    "id": "SnKAo1FS-7GP",
    "outputId": "dc84fed4-8959-42a4-9831-760cc1ddd660",
    "scrolled": true
   },
   "outputs": [
    {
     "data": {
      "text/plain": [
       "Text(0.5, 0, 't(s)')"
      ]
     },
     "execution_count": 38,
     "metadata": {},
     "output_type": "execute_result"
    },
    {
     "data": {
      "image/png": "[encoded data removed]",
      "text/plain": [
       "<Figure size 432x288 with 1 Axes>"
      ]
     },
     "metadata": {
      "needs_background": "light"
     },
     "output_type": "display_data"
    }
   ],
   "source": [
    "plt.plot(t,y_vel(30,t))\n",
    "plt.ylabel('$v_y$(m)')\n",
    "plt.xlabel('t(s)')"
   ]
  },
  {
   "cell_type": "markdown",
   "metadata": {
    "id": "GLa76od1-7GP"
   },
   "source": [
    "### 1.1.2 $$\\mathbb{R}^n \\rightarrow \\mathbb{R}^m$$"
   ]
  },
  {
   "cell_type": "markdown",
   "metadata": {
    "id": "mKOgQ88T-7GP"
   },
   "source": [
    "$$\\vec{F}= (F_x \\hat{i},F_y \\hat{j})$$"
   ]
  },
  {
   "cell_type": "markdown",
   "metadata": {
    "id": "qLXvQh_0-7GP"
   },
   "source": [
    "<center>\n",
    "<img src=\"https://habrastorage.org/webt/fy/ho/j1/fyhoj19o3jco4oeywggykf6uffe.png\" />\n",
    "    "
   ]
  },
  {
   "cell_type": "markdown",
   "metadata": {
    "id": "-covLbAE-7GQ"
   },
   "source": [
    "$$ F_x=|\\vec{F}| cos(\\theta) $$\n",
    "$$F_y=|\\vec{F}| sen(\\theta)$$"
   ]
  },
  {
   "cell_type": "markdown",
   "metadata": {
    "id": "UtJIjYQl-7GQ"
   },
   "source": [
    "$$\\vec{F}=-\\frac{mv^2}{r}\\hat{u}_r$$"
   ]
  },
  {
   "cell_type": "markdown",
   "metadata": {
    "id": "Aziqf0gG-7GQ"
   },
   "source": [
    "Entonces nuestras función en coordenadas cartesianas sería:\n",
    "\n",
    "$$\\vec{F}=F_x \\hat{i}+ F_y\\hat{j}$$"
   ]
  },
  {
   "cell_type": "code",
   "execution_count": 39,
   "metadata": {
    "id": "GQyBZuqV-7GQ"
   },
   "outputs": [],
   "source": [
    "# esta funcion calcula la norma y las componentes de la fuerza\n",
    "# que le envie\n",
    "def force(F, θ): #F:vector\n",
    "    Fmag= np.linalg.norm(F) \n",
    "    Fx=Fmag*np.cos(θ)\n",
    "    Fy=Fmag*np.sin(θ)\n",
    "    return np.array([Fx,Fy])"
   ]
  },
  {
   "cell_type": "code",
   "execution_count": 40,
   "metadata": {
    "id": "yUV9OTmE-7GQ"
   },
   "outputs": [
    {
     "data": {
      "text/plain": [
       "array([-6.28318531, -6.15625227, -6.02931923, -5.9023862 , -5.77545316,\n",
       "       -5.64852012, -5.52158709, -5.39465405, -5.26772102, -5.14078798,\n",
       "       -5.01385494, -4.88692191, -4.75998887, -4.63305583, -4.5061228 ,\n",
       "       -4.37918976, -4.25225672, -4.12532369, -3.99839065, -3.87145761,\n",
       "       -3.74452458, -3.61759154, -3.4906585 , -3.36372547, -3.23679243,\n",
       "       -3.10985939, -2.98292636, -2.85599332, -2.72906028, -2.60212725,\n",
       "       -2.47519421, -2.34826118, -2.22132814, -2.0943951 , -1.96746207,\n",
       "       -1.84052903, -1.71359599, -1.58666296, -1.45972992, -1.33279688,\n",
       "       -1.20586385, -1.07893081, -0.95199777, -0.82506474, -0.6981317 ,\n",
       "       -0.57119866, -0.44426563, -0.31733259, -0.19039955, -0.06346652,\n",
       "        0.06346652,  0.19039955,  0.31733259,  0.44426563,  0.57119866,\n",
       "        0.6981317 ,  0.82506474,  0.95199777,  1.07893081,  1.20586385,\n",
       "        1.33279688,  1.45972992,  1.58666296,  1.71359599,  1.84052903,\n",
       "        1.96746207,  2.0943951 ,  2.22132814,  2.34826118,  2.47519421,\n",
       "        2.60212725,  2.72906028,  2.85599332,  2.98292636,  3.10985939,\n",
       "        3.23679243,  3.36372547,  3.4906585 ,  3.61759154,  3.74452458,\n",
       "        3.87145761,  3.99839065,  4.12532369,  4.25225672,  4.37918976,\n",
       "        4.5061228 ,  4.63305583,  4.75998887,  4.88692191,  5.01385494,\n",
       "        5.14078798,  5.26772102,  5.39465405,  5.52158709,  5.64852012,\n",
       "        5.77545316,  5.9023862 ,  6.02931923,  6.15625227,  6.28318531])"
      ]
     },
     "execution_count": 40,
     "metadata": {},
     "output_type": "execute_result"
    }
   ],
   "source": [
    "θ= np.linspace(-2*np.pi,2*np.pi,100) #np.pi/6\n",
    "θ"
   ]
  },
  {
   "cell_type": "code",
   "execution_count": 41,
   "metadata": {
    "id": "7pjlCCgO-7GQ"
   },
   "outputs": [],
   "source": [
    "m=10 #np.linspace(1,100,100)\n",
    "v=5\n",
    "r=2\n",
    "F=-m*v**2/r #variar radio"
   ]
  },
  {
   "cell_type": "code",
   "execution_count": 42,
   "metadata": {
    "colab": {
     "base_uri": "https://localhost:8080/"
    },
    "id": "yxXeKEYZ-7GQ",
    "outputId": "96a6256c-ba01-46f0-c1b4-700712d02da3"
   },
   "outputs": [
    {
     "data": {
      "text/plain": [
       "numpy.ndarray"
      ]
     },
     "execution_count": 42,
     "metadata": {},
     "output_type": "execute_result"
    }
   ],
   "source": [
    "type(force(F,θ))"
   ]
  },
  {
   "cell_type": "code",
   "execution_count": 43,
   "metadata": {
    "colab": {
     "base_uri": "https://localhost:8080/"
    },
    "id": "T7geyCBY-7GR",
    "outputId": "93d12b16-572c-4e3f-d2da-d86a5fe6a56b"
   },
   "outputs": [
    {
     "data": {
      "text/plain": [
       "(2, 100)"
      ]
     },
     "execution_count": 43,
     "metadata": {},
     "output_type": "execute_result"
    }
   ],
   "source": [
    "force(F,θ).shape"
   ]
  },
  {
   "cell_type": "code",
   "execution_count": 44,
   "metadata": {
    "colab": {
     "base_uri": "https://localhost:8080/"
    },
    "id": "PvGjT6Ws-7GR",
    "outputId": "0f41a646-f961-48e2-9098-64b7307a0492"
   },
   "outputs": [
    {
     "data": {
      "text/plain": [
       "array([[ 1.25000000e+02,  1.23994352e+02,  1.20993588e+02,\n",
       "         1.16045992e+02,  1.09231172e+02,  1.00658782e+02,\n",
       "         9.04667548e+01,  7.88190834e+01,  6.59031835e+01,\n",
       "         5.19268766e+01,  3.71150469e+01,  2.17060222e+01,\n",
       "         5.94773948e+00, -9.90624461e+00, -2.56008335e+01,\n",
       "        -4.08834954e+01, -5.55083266e+01, -6.92400080e+01,\n",
       "        -8.18575917e+01, -9.31580562e+01, -1.02959573e+02,\n",
       "        -1.11104431e+02, -1.17461578e+02, -1.21928723e+02,\n",
       "        -1.24433990e+02, -1.24937068e+02, -1.23429861e+02,\n",
       "        -1.19936622e+02, -1.14513557e+02, -1.07247927e+02,\n",
       "        -9.82566368e+01, -8.76843610e+01, -7.57012109e+01,\n",
       "        -6.25000000e+01, -4.82931407e+01, -3.33092267e+01,\n",
       "        -1.77893548e+01, -1.98324548e+00,  1.38547750e+01,\n",
       "         2.94698669e+01,  4.46107777e+01,  5.90338843e+01,\n",
       "         7.25071137e+01,  8.48136764e+01,  9.57555554e+01,\n",
       "         1.05156692e+02,  1.12865817e+02,  1.18758890e+02,\n",
       "         1.22741087e+02,  1.24748335e+02,  1.24748335e+02,\n",
       "         1.22741087e+02,  1.18758890e+02,  1.12865817e+02,\n",
       "         1.05156692e+02,  9.57555554e+01,  8.48136764e+01,\n",
       "         7.25071137e+01,  5.90338843e+01,  4.46107777e+01,\n",
       "         2.94698669e+01,  1.38547750e+01, -1.98324548e+00,\n",
       "        -1.77893548e+01, -3.33092267e+01, -4.82931407e+01,\n",
       "        -6.25000000e+01, -7.57012109e+01, -8.76843610e+01,\n",
       "        -9.82566368e+01, -1.07247927e+02, -1.14513557e+02,\n",
       "        -1.19936622e+02, -1.23429861e+02, -1.24937068e+02,\n",
       "        -1.24433990e+02, -1.21928723e+02, -1.17461578e+02,\n",
       "        -1.11104431e+02, -1.02959573e+02, -9.31580562e+01,\n",
       "        -8.18575917e+01, -6.92400080e+01, -5.55083266e+01,\n",
       "        -4.08834954e+01, -2.56008335e+01, -9.90624461e+00,\n",
       "         5.94773948e+00,  2.17060222e+01,  3.71150469e+01,\n",
       "         5.19268766e+01,  6.59031835e+01,  7.88190834e+01,\n",
       "         9.04667548e+01,  1.00658782e+02,  1.09231172e+02,\n",
       "         1.16045992e+02,  1.20993588e+02,  1.23994352e+02,\n",
       "         1.25000000e+02],\n",
       "       [ 3.06161700e-14,  1.58240567e+01,  3.13934984e+01,\n",
       "         4.64578070e+01,  6.07745920e+01,  7.41134911e+01,\n",
       "         8.62598764e+01,  9.70183080e+01,  1.06215679e+02,\n",
       "         1.13703999e+02,  1.19362780e+02,  1.23100969e+02,\n",
       "         1.24858417e+02,  1.24606847e+02,  1.22350306e+02,\n",
       "         1.18125102e+02,  1.11999222e+02,  1.04071232e+02,\n",
       "         9.44686968e+01,  8.33461251e+01,  7.08824830e+01,\n",
       "         5.72783152e+01,  4.27525179e+01,  2.75388166e+01,\n",
       "         1.18820054e+01, -3.96599169e+00, -1.97501745e+01,\n",
       "        -3.52165696e+01, -5.01163169e+01, -6.42096739e+01,\n",
       "        -7.72698733e+01, -8.90867714e+01, -9.94702301e+01,\n",
       "        -1.08253175e+02, -1.15294287e+02, -1.20480270e+02,\n",
       "        -1.23727680e+02, -1.24984266e+02, -1.24229808e+02,\n",
       "        -1.21476446e+02, -1.16768483e+02, -1.10181670e+02,\n",
       "        -1.01821994e+02, -9.18239636e+01, -8.03484512e+01,\n",
       "        -6.75801022e+01, -5.37243640e+01, -3.90041807e+01,\n",
       "        -2.36564055e+01, -7.92798996e+00,  7.92798996e+00,\n",
       "         2.36564055e+01,  3.90041807e+01,  5.37243640e+01,\n",
       "         6.75801022e+01,  8.03484512e+01,  9.18239636e+01,\n",
       "         1.01821994e+02,  1.10181670e+02,  1.16768483e+02,\n",
       "         1.21476446e+02,  1.24229808e+02,  1.24984266e+02,\n",
       "         1.23727680e+02,  1.20480270e+02,  1.15294287e+02,\n",
       "         1.08253175e+02,  9.94702301e+01,  8.90867714e+01,\n",
       "         7.72698733e+01,  6.42096739e+01,  5.01163169e+01,\n",
       "         3.52165696e+01,  1.97501745e+01,  3.96599169e+00,\n",
       "        -1.18820054e+01, -2.75388166e+01, -4.27525179e+01,\n",
       "        -5.72783152e+01, -7.08824830e+01, -8.33461251e+01,\n",
       "        -9.44686968e+01, -1.04071232e+02, -1.11999222e+02,\n",
       "        -1.18125102e+02, -1.22350306e+02, -1.24606847e+02,\n",
       "        -1.24858417e+02, -1.23100969e+02, -1.19362780e+02,\n",
       "        -1.13703999e+02, -1.06215679e+02, -9.70183080e+01,\n",
       "        -8.62598764e+01, -7.41134911e+01, -6.07745920e+01,\n",
       "        -4.64578070e+01, -3.13934984e+01, -1.58240567e+01,\n",
       "        -3.06161700e-14]])"
      ]
     },
     "execution_count": 44,
     "metadata": {},
     "output_type": "execute_result"
    }
   ],
   "source": [
    "force(F,θ)"
   ]
  },
  {
   "cell_type": "code",
   "execution_count": 45,
   "metadata": {
    "colab": {
     "base_uri": "https://localhost:8080/",
     "height": 282
    },
    "id": "hZmndW39-7GR",
    "outputId": "2d7fd2b3-9e90-4b73-f6c7-254d803761ff"
   },
   "outputs": [
    {
     "data": {
      "text/plain": [
       "[<matplotlib.lines.Line2D at 0x7f91b3eaceb0>]"
      ]
     },
     "execution_count": 45,
     "metadata": {},
     "output_type": "execute_result"
    },
    {
     "data": {
      "image/png": "[encoded data removed]",
      "text/plain": [
       "<Figure size 432x288 with 1 Axes>"
      ]
     },
     "metadata": {
      "needs_background": "light"
     },
     "output_type": "display_data"
    }
   ],
   "source": [
    "plt.plot(θ,force(F,θ)[0])"
   ]
  },
  {
   "cell_type": "code",
   "execution_count": 46,
   "metadata": {
    "colab": {
     "base_uri": "https://localhost:8080/",
     "height": 282
    },
    "id": "5UqnQ5bE-7GR",
    "outputId": "882765a6-fbde-4bd5-ac61-78d24ca6d275"
   },
   "outputs": [
    {
     "data": {
      "text/plain": [
       "[<matplotlib.lines.Line2D at 0x7f91b3e42820>]"
      ]
     },
     "execution_count": 46,
     "metadata": {},
     "output_type": "execute_result"
    },
    {
     "data": {
      "image/png": "[encoded data removed]",
      "text/plain": [
       "<Figure size 432x288 with 1 Axes>"
      ]
     },
     "metadata": {
      "needs_background": "light"
     },
     "output_type": "display_data"
    }
   ],
   "source": [
    "plt.plot(θ,force(F,θ)[1])"
   ]
  },
  {
   "cell_type": "markdown",
   "metadata": {
    "id": "FLRSDxHp-7GR"
   },
   "source": [
    "### 1.1.3 $$\\mathbb{R} \\rightarrow \\mathbb{C}$$"
   ]
  },
  {
   "cell_type": "code",
   "execution_count": 87,
   "metadata": {
    "colab": {
     "base_uri": "https://localhost:8080/"
    },
    "id": "s9JJDpAI-7GR",
    "outputId": "0ae5defe-f268-4d4b-b4ad-9c7f1fe5e2dc",
    "scrolled": true
   },
   "outputs": [
    {
     "name": "stdout",
     "output_type": "stream",
     "text": [
      "1j , tipo: <class 'complex'>\n"
     ]
    }
   ],
   "source": [
    "print(1j,', tipo:', type(1j))"
   ]
  },
  {
   "cell_type": "markdown",
   "metadata": {
    "id": "0VfDYW4G-7GS"
   },
   "source": [
    "$$y= e^{-i \\theta} \\leftrightarrow y=cos\\theta-isen\\theta$$"
   ]
  },
  {
   "cell_type": "markdown",
   "metadata": {
    "id": "uZtpKJi1-7GS"
   },
   "source": [
    "$$Re(y)=cos\\theta \\qquad , \\quad Im(y)=-sen\\theta$$"
   ]
  },
  {
   "cell_type": "code",
   "execution_count": 48,
   "metadata": {
    "id": "9iD2ViP2-7GS"
   },
   "outputs": [],
   "source": [
    "def f_com(x):\n",
    "    return(np.e**(-1j*x))"
   ]
  },
  {
   "cell_type": "code",
   "execution_count": 49,
   "metadata": {
    "colab": {
     "base_uri": "https://localhost:8080/",
     "height": 314
    },
    "id": "WJmNDJuw-7GS",
    "outputId": "d1538b7f-388f-4b68-c065-bb693ecb89c6"
   },
   "outputs": [
    {
     "data": {
      "text/plain": [
       "Text(0, 0.5, 'f')"
      ]
     },
     "execution_count": 49,
     "metadata": {},
     "output_type": "execute_result"
    },
    {
     "data": {
      "image/png": "[encoded data removed]",
      "text/plain": [
       "<Figure size 432x288 with 1 Axes>"
      ]
     },
     "metadata": {
      "needs_background": "light"
     },
     "output_type": "display_data"
    }
   ],
   "source": [
    "θ=np.linspace(-2*np.pi,2*np.pi,50)\n",
    "y=f_com(θ)\n",
    "\n",
    "plt.plot(θ, np.imag(y))\n",
    "plt.plot(θ, np.real(y))\n",
    "#plt.plot(θ, np.sin(θ))\n",
    "plt.title('Función compleja')\n",
    "plt.legend(['Im(f)','Re(f)'])\n",
    "plt.xlabel('$θ$')\n",
    "plt.ylabel('f')"
   ]
  },
  {
   "cell_type": "code",
   "execution_count": 50,
   "metadata": {
    "colab": {
     "base_uri": "https://localhost:8080/",
     "height": 296
    },
    "id": "OmdwMTnb-7GS",
    "outputId": "798a89eb-03f3-4919-e20d-271f4fc65d4a"
   },
   "outputs": [
    {
     "data": {
      "text/plain": [
       "Text(0, 0.5, 'Im(f)')"
      ]
     },
     "execution_count": 50,
     "metadata": {},
     "output_type": "execute_result"
    },
    {
     "data": {
      "image/png": "[encoded data removed]",
      "text/plain": [
       "<Figure size 432x288 with 1 Axes>"
      ]
     },
     "metadata": {
      "needs_background": "light"
     },
     "output_type": "display_data"
    }
   ],
   "source": [
    "plt.plot(np.real(y),np.imag(y))\n",
    "plt.xlabel('Re(f)')\n",
    "plt.ylabel('Im(f)')"
   ]
  },
  {
   "cell_type": "markdown",
   "metadata": {
    "id": "ZzxDz7Sx-7GU"
   },
   "source": [
    "## 2. Series"
   ]
  },
  {
   "cell_type": "markdown",
   "metadata": {
    "id": "rBBY_xGrAtBK"
   },
   "source": [
    "Expansión en series de la función $sen(x)$:"
   ]
  },
  {
   "cell_type": "markdown",
   "metadata": {
    "id": "UGcIEvABtcJl"
   },
   "source": [
    "$$sen(x)= x- \\frac{x^3}{3!}+\\frac{x^5}{5!}-\\frac{x^7}{7!}+\\frac{x^9}{9!}+\\frac{x^{11}}{11!}+\\frac{x^{13}}{13!}+\\frac{x^{15}}{15!}+ O(9)$$"
   ]
  },
  {
   "cell_type": "markdown",
   "metadata": {
    "id": "dwnKiiLbtcJm"
   },
   "source": [
    "$$\\sin x = \\sum_{n=0}^{\\infty} \\frac{(-1)^n x^{2n+1}}{(2n+1)!} $$"
   ]
  },
  {
   "cell_type": "code",
   "execution_count": 51,
   "metadata": {
    "id": "p9AzmUYstcJq"
   },
   "outputs": [],
   "source": [
    "def mysin(x,orden):\n",
    "    ordn=[]\n",
    "    mysn=[]\n",
    "    y=0        \n",
    "    '''\n",
    "    Creamos lista ordn y mysn\n",
    "    '''\n",
    "    for i in range(0,orden,1):\n",
    "        y += ((-1)**i)*(x**(1+2*i))/factorial(1+2*i)\n",
    "        ordn.append(i)\n",
    "        mysn.append(y)\n",
    "    #print('orden: ', ordn ,'\\n sen(x): ', mysn)\n",
    "    return(y)\n",
    "    #return(ordn,mysn,y)"
   ]
  },
  {
   "cell_type": "code",
   "execution_count": 52,
   "metadata": {
    "colab": {
     "base_uri": "https://localhost:8080/"
    },
    "id": "Q4_3_plutcJt",
    "outputId": "a7a50060-c815-40bc-b8fe-e25c9bbeb79e"
   },
   "outputs": [
    {
     "data": {
      "text/plain": [
       "0.5"
      ]
     },
     "execution_count": 52,
     "metadata": {},
     "output_type": "execute_result"
    }
   ],
   "source": [
    "mysin(np.pi/6,7)"
   ]
  },
  {
   "cell_type": "code",
   "execution_count": 53,
   "metadata": {
    "colab": {
     "base_uri": "https://localhost:8080/"
    },
    "id": "6ZIM3bsqtcJv",
    "outputId": "7b9f892e-f867-4e03-d8be-0f6b46f259f2"
   },
   "outputs": [
    {
     "data": {
      "text/plain": [
       "0.5000021325887924"
      ]
     },
     "execution_count": 53,
     "metadata": {},
     "output_type": "execute_result"
    }
   ],
   "source": [
    "mysin(np.pi/6,3)"
   ]
  },
  {
   "cell_type": "code",
   "execution_count": 54,
   "metadata": {
    "colab": {
     "base_uri": "https://localhost:8080/"
    },
    "id": "hQ8JS_cttcJx",
    "outputId": "9452b708-032d-4976-868c-be8e56f93e26"
   },
   "outputs": [
    {
     "data": {
      "text/plain": [
       "0.49967417939436376"
      ]
     },
     "execution_count": 54,
     "metadata": {},
     "output_type": "execute_result"
    }
   ],
   "source": [
    "mysin(np.pi/6,2)"
   ]
  },
  {
   "cell_type": "code",
   "execution_count": 55,
   "metadata": {
    "colab": {
     "base_uri": "https://localhost:8080/"
    },
    "id": "0vWKr3H2tcJz",
    "outputId": "abf0eecc-fe1f-47ab-d091-0e436cd1a7fe"
   },
   "outputs": [
    {
     "data": {
      "text/plain": [
       "0.5235987755982988"
      ]
     },
     "execution_count": 55,
     "metadata": {},
     "output_type": "execute_result"
    }
   ],
   "source": [
    "mysin(np.pi/6,1)"
   ]
  },
  {
   "cell_type": "code",
   "execution_count": 56,
   "metadata": {
    "colab": {
     "base_uri": "https://localhost:8080/",
     "height": 275
    },
    "id": "XXSWbt3ntcJ4",
    "outputId": "4aaa9331-9e2b-4aa8-e50a-9169f286f087"
   },
   "outputs": [
    {
     "data": {
      "image/png": "[encoded data removed]",
      "text/plain": [
       "<Figure size 432x288 with 1 Axes>"
      ]
     },
     "metadata": {
      "needs_background": "light"
     },
     "output_type": "display_data"
    }
   ],
   "source": [
    "import numpy as np\n",
    "vmysin = np.vectorize(mysin, excluded=['order'])\n",
    "\n",
    "#x = np.linspace(-pi/2, pi/2, 500)\n",
    "#x = np.linspace(-pi, pi, 500)\n",
    "#x = np.linspace(-2*pi, 2*pi, 500)\n",
    "x = np.linspace(-4*np.pi, 4*np.pi, 500)\n",
    "\n",
    "y2 = vmysin(x, 2)\n",
    "y3 = vmysin(x, 3)\n",
    "y4 = vmysin(x, 4)\n",
    "y5 = vmysin(x, 5)\n",
    "y6 = vmysin(x, 6)\n",
    "y7 = vmysin(x, 7)\n",
    "y8 = vmysin(x, 8)\n",
    "\n",
    "y = np.sin(x)\n",
    "\n",
    "import matplotlib.pyplot as plt\n",
    "plt.plot(x, y, label='sin(x)')\n",
    "plt.plot(x, y2, label='orden 2')\n",
    "plt.plot(x, y3, label='orden 3')\n",
    "plt.plot(x, y4, label='orden 4')\n",
    "plt.plot(x, y5, label='orden 5')\n",
    "plt.plot(x, y6, label='orden 6')\n",
    "plt.plot(x, y7, label='orden 7')\n",
    "plt.plot(x, y8, label='orden 8')\n",
    "plt.title('Aproximación de sen(x) en distintos órdenes')\n",
    "plt.xlabel('x: ángulo (radianes)')\n",
    "plt.ylabel('sin(x)')\n",
    "plt.ylim([-3, 3])\n",
    "#plt.ylim([-5, 5])\n",
    "#plt.ylim([-10, 10])\n",
    "#plt.ylim([-20, 20])\n",
    "plt.legend()\n",
    "plt.savefig('plot1.png')\n",
    "#plt.show()"
   ]
  },
  {
   "cell_type": "code",
   "execution_count": 57,
   "metadata": {
    "colab": {
     "base_uri": "https://localhost:8080/",
     "height": 275
    },
    "id": "Q6KSi8zztcJ6",
    "outputId": "b0d19bcc-5117-4ce4-b34a-996730b1ba93"
   },
   "outputs": [
    {
     "data": {
      "image/png": "[encoded data removed]",
      "text/plain": [
       "<Figure size 432x288 with 1 Axes>"
      ]
     },
     "metadata": {
      "needs_background": "light"
     },
     "output_type": "display_data"
    }
   ],
   "source": [
    "\n",
    "#plt.plot(x, y, label='sin(x)')\n",
    "plt.plot(x, y-y2, label='err. ord. 2')\n",
    "plt.plot(x, y-y3, label='err. ord. 3')\n",
    "plt.plot(x, y-y4, label='err. ord. 4')\n",
    "plt.plot(x, y-y5, label='err. ord. 5')\n",
    "plt.plot(x, y-y6, label='err. ord. 6')\n",
    "plt.plot(x, y-y7, label='err. ord. 7')\n",
    "plt.plot(x, y-y8, label='err. ord. 8')\n",
    "plt.title('Errores de aproximación de sen(x) en distintos órdenes')\n",
    "plt.xlabel('x: ángulo (radianes)')\n",
    "plt.ylabel('sin(x)')\n",
    "plt.ylim([-3, 3])\n",
    "#plt.ylim([-5, 5])\n",
    "#plt.ylim([-10, 10])\n",
    "#plt.ylim([-20, 20])\n",
    "plt.legend()\n",
    "plt.show()"
   ]
  },
  {
   "cell_type": "code",
   "execution_count": 58,
   "metadata": {
    "colab": {
     "base_uri": "https://localhost:8080/",
     "height": 271
    },
    "id": "NqHl5M7gtcJ8",
    "outputId": "ab726ceb-14df-4b74-9ba7-b57579dabdd7"
   },
   "outputs": [
    {
     "data": {
      "image/png": "[encoded data removed]",
      "text/plain": [
       "<Figure size 432x288 with 1 Axes>"
      ]
     },
     "metadata": {
      "needs_background": "light"
     },
     "output_type": "display_data"
    }
   ],
   "source": [
    "#plt.plot(x, y, label='sin(x)')\n",
    "plt.plot(x, y-y2, label='err. ord. 2')\n",
    "plt.plot(x, y-y3, label='err. ord. 3')\n",
    "plt.plot(x, y-y4, label='err. ord. 4')\n",
    "plt.plot(x, y-y5, label='err. ord. 5')\n",
    "plt.plot(x, y-y6, label='err. ord. 6')\n",
    "plt.plot(x, y-y7, label='err. ord. 7')\n",
    "plt.plot(x, y-y8, label='err. ord. 8')\n",
    "plt.title('Errores de aproximación de sen(x) en distintos órdenes')\n",
    "plt.xlabel('x: ángulo (radianes)')\n",
    "plt.ylabel('sin(x)')\n",
    "plt.ylim([-0.5, 0.5])\n",
    "plt.xlim([-6, 0])\n",
    "#plt.ylim([-5, 5])\n",
    "#plt.ylim([-10, 10])\n",
    "#plt.ylim([-20, 20])\n",
    "#plt.legend()\n",
    "plt.show()"
   ]
  },
  {
   "cell_type": "markdown",
   "metadata": {
    "id": "7E-8Th7P-7GU"
   },
   "source": [
    "## 3. Gráficos"
   ]
  },
  {
   "cell_type": "code",
   "execution_count": 59,
   "metadata": {
    "id": "Y9vPKb8i-7GU"
   },
   "outputs": [],
   "source": [
    "def plottrig(f,a,b,n):\n",
    "    '''\n",
    "    f: es la función a potear\n",
    "    a y b son los límites del dominio \n",
    "    en el que queremos plotear [a,b]\n",
    "    n: número de pasos\n",
    "    '''\n",
    "    xvals=np.linspace(a,b,n)\n",
    "    plt.plot(xvals,f(xvals))"
   ]
  },
  {
   "cell_type": "code",
   "execution_count": 60,
   "metadata": {
    "id": "Ty4Mn4lU-7GU"
   },
   "outputs": [],
   "source": [
    "funtrig = (np.sin,np.cos,np.tan)"
   ]
  },
  {
   "cell_type": "code",
   "execution_count": 61,
   "metadata": {
    "colab": {
     "base_uri": "https://localhost:8080/",
     "height": 235
    },
    "id": "ZqnreQ8v-7GU",
    "outputId": "c8df4bfa-9302-4e22-9daf-ff100caecd5b"
   },
   "outputs": [
    {
     "data": {
      "image/png": "[encoded data removed]",
      "text/plain": [
       "<Figure size 432x288 with 1 Axes>"
      ]
     },
     "metadata": {
      "needs_background": "light"
     },
     "output_type": "display_data"
    }
   ],
   "source": [
    "for ft in funtrig:\n",
    "    #print(ft(np.pi/6.0))\n",
    "    plottrig(ft,-np.pi,np.pi,1000)\n",
    "    plt.ylim(-2,2)\n",
    "    plt.legend(labels=['sen(x)','cos(x)','tan(h)'])"
   ]
  },
  {
   "cell_type": "markdown",
   "metadata": {
    "id": "WuBo2O-Q-7GV"
   },
   "source": [
    "$$\\psi(x,t)=[Asin(kx)+Bcos(kx)]e^{-i\\omega t}$$"
   ]
  },
  {
   "cell_type": "code",
   "execution_count": 62,
   "metadata": {
    "id": "UQ6PIY_T-7GV"
   },
   "outputs": [],
   "source": [
    "k=1\n",
    "A=1\n",
    "ω=1\n",
    "def psi(x,t):\n",
    "    return((A*np.sin(k*x)+B*np.cos(k*x))*np.exp(-1j*ω*t))"
   ]
  },
  {
   "cell_type": "code",
   "execution_count": 63,
   "metadata": {
    "colab": {
     "base_uri": "https://localhost:8080/",
     "height": 297
    },
    "id": "WqwOZwQJ-7GV",
    "outputId": "79e504f8-32a9-4228-b164-c940297f7c88",
    "scrolled": true
   },
   "outputs": [
    {
     "data": {
      "image/png": "[encoded data removed]",
      "text/plain": [
       "<Figure size 432x288 with 1 Axes>"
      ]
     },
     "metadata": {
      "needs_background": "light"
     },
     "output_type": "display_data"
    }
   ],
   "source": [
    "#matplotlib.pyplot for the graph\n",
    "import matplotlib.pyplot as plt\n",
    "#numpy for the arrays and math-on-array stuff\n",
    "import numpy as np\n",
    "#defining the domain\n",
    "x = np.linspace(-5,5,50)\n",
    "t=1#0.0\n",
    "#t = np.linspace(0,1,50)\n",
    "k=1\n",
    "A=1#+1j\n",
    "T=10\n",
    "ω=1#2*np.pi/T\n",
    "B=1#+1j\n",
    "#f, the function\n",
    "\n",
    "plt.plot(x,np.imag(psi(x,t)), label='Im($\\psi$)')\n",
    "#plt.plot(x,np.imag(psi(x,t+0.125)), label='Im($\\psi$) t+1')\n",
    "#plt.plot(x,np.imag(psi(x,t+0.250)), label='Im($\\psi$) t+2')\n",
    "#plt.plot(x,np.imag(psi(x,t+0.375)), label='Im($\\psi$) t+3')\n",
    "#plt.plot(x,np.imag(psi(x,t+0.5)), label='Im($\\psi$) t+4')\n",
    "\n",
    "plt.plot(x,np.real(psi(x,t)), label='Re($\\psi$)')\n",
    "plt.plot(x,np.real(psi(x,t+0.125)), label='Re($\\psi$) en t+0.125')\n",
    "plt.plot(x,np.real(psi(x,t+0.250)), label='Re($\\psi$) en t+0.250')\n",
    "plt.plot(x,np.real(psi(x,t+0.375)), label='Re($\\psi$) en t+0.375')\n",
    "plt.plot(x,np.real(psi(x,t+0.5)), label='Re($\\psi$) en t+0.5')\n",
    "\n",
    "#ejes\n",
    "plt.title('$ψ(x,t=1)$')\n",
    "plt.xlabel('x')\n",
    "plt.ylabel('ψ(x,1)')\n",
    "#mostrar la leyenda\n",
    "plt.legend()\n",
    "#mostrar el gráfico\n",
    "plt.show()"
   ]
  },
  {
   "cell_type": "code",
   "execution_count": 64,
   "metadata": {
    "colab": {
     "base_uri": "https://localhost:8080/",
     "height": 353
    },
    "id": "h9pPVZcS-7GV",
    "outputId": "06f22cce-6cd0-4266-e678-a4e7c93797b1"
   },
   "outputs": [
    {
     "name": "stderr",
     "output_type": "stream",
     "text": [
      "/home/nelson/anaconda3/lib/python3.8/site-packages/numpy/core/_asarray.py:83: ComplexWarning: Casting complex values to real discards the imaginary part\n",
      "  return array(a, dtype, copy=False, order=order)\n"
     ]
    },
    {
     "data": {
      "image/png": "[encoded data removed]",
      "text/plain": [
       "<Figure size 432x288 with 1 Axes>"
      ]
     },
     "metadata": {
      "needs_background": "light"
     },
     "output_type": "display_data"
    }
   ],
   "source": [
    "plt.plot(x,psi(x,t)*np.conjugate(psi(x,t)), label='Re($\\psi$)')\n",
    "#ejes\n",
    "plt.title('$|ψ(x,t=1)|^2$')\n",
    "plt.xlabel('x')\n",
    "plt.ylabel('$|ψ(x,1)|^2$')\n",
    "#mostrar la leyenda\n",
    "plt.legend()\n",
    "#mostrar el gráfico\n",
    "plt.show()"
   ]
  },
  {
   "cell_type": "code",
   "execution_count": 65,
   "metadata": {
    "colab": {
     "base_uri": "https://localhost:8080/",
     "height": 269
    },
    "id": "Db3O4EoS-7GV",
    "outputId": "f70cd950-75eb-4496-d20a-5b9523aae927"
   },
   "outputs": [
    {
     "data": {
      "image/png": "[encoded data removed]",
      "text/plain": [
       "<Figure size 432x288 with 1 Axes>"
      ]
     },
     "metadata": {
      "needs_background": "light"
     },
     "output_type": "display_data"
    }
   ],
   "source": [
    "%matplotlib inline\n",
    "\n",
    "# First set up the figure, the axis, and the plot element we want to animate\n",
    "\n",
    "fig, ax = plt.subplots()\n",
    "\n",
    "ax.set_xlim(( -5, 5))\n",
    "ax.set_ylim((-2, 2))\n",
    "\n",
    "line, = ax.plot([], [], lw=2)"
   ]
  },
  {
   "cell_type": "code",
   "execution_count": 66,
   "metadata": {
    "id": "Mfjm2cWd-7GW"
   },
   "outputs": [],
   "source": [
    "# initialization function: plot the background of each frame\n",
    "def init():\n",
    "    line.set_data([], [])\n",
    "    return (line,)\n",
    "t=0\n",
    "# animation function. This is called sequentially\n",
    "def animate(i):\n",
    "    x = np.linspace(-5,5,50)\n",
    "    y = np.real(psi(x,t+i/10))\n",
    "    line.set_data(x, y)\n",
    "    return (line,)"
   ]
  },
  {
   "cell_type": "code",
   "execution_count": 67,
   "metadata": {
    "id": "ez1usNHx-7GW"
   },
   "outputs": [],
   "source": [
    "# call the animator. blit=True means only re-draw the parts that have changed.\n",
    "from matplotlib.animation import FuncAnimation\n",
    "anim = FuncAnimation(fig, animate, init_func=init,\n",
    "                               frames=200, interval=50, blit=True)"
   ]
  },
  {
   "cell_type": "code",
   "execution_count": 86,
   "metadata": {
    "colab": {
     "base_uri": "https://localhost:8080/",
     "height": 309
    },
    "id": "g_dWSQyl-7GW",
    "outputId": "4f59c424-848d-48bd-b081-290f0911f885",
    "scrolled": true
   },
   "outputs": [
    {
     "data": {
      "text/html": [
       "<video width=\"432\" height=\"288\" controls autoplay loop>\n",
       "  <source type=\"video/mp4\" src=\"data:video/mp4;base64,AAAAIGZ0eXBNNFYgAAACAE00ViBpc29taXNvMmF2YzEAAAAIZnJlZQABgENtZGF0AAACrgYF//+q\n",
       "3EXpvebZSLeWLNgg2SPu73gyNjQgLSBjb3JlIDE2MCByMzAxMSBjZGU5YTkzIC0gSC4yNjQvTVBF\n",
       "Ry00IEFWQyBjb2RlYyAtIENvcHlsZWZ0IDIwMDMtMjAyMCAtIGh0dHA6Ly93d3cudmlkZW9sYW4u\n",
       "b3JnL3gyNjQuaHRtbCAtIG9wdGlvbnM6IGNhYmFjPTEgcmVmPTMgZGVibG9jaz0xOjA6MCBhbmFs\n",
       "eXNlPTB4MzoweDExMyBtZT1oZXggc3VibWU9NyBwc3k9MSBwc3lfcmQ9MS4wMDowLjAwIG1peGVk\n",
       "X3JlZj0xIG1lX3JhbmdlPTE2IGNocm9tYV9tZT0xIHRyZWxsaXM9MSA4eDhkY3Q9MSBjcW09MCBk\n",
       "ZWFkem9uZT0yMSwxMSBmYXN0X3Bza2lwPTEgY2hyb21hX3FwX29mZnNldD0tMiB0aHJlYWRzPTkg\n",
       "bG9va2FoZWFkX3RocmVhZHM9MSBzbGljZWRfdGhyZWFkcz0wIG5yPTAgZGVjaW1hdGU9MSBpbnRl\n",
       "cmxhY2VkPTAgYmx1cmF5X2NvbXBhdD0wIGNvbnN0cmFpbmVkX2ludHJhPTAgYmZyYW1lcz0zIGJf\n",
       "cHlyYW1pZD0yIGJfYWRhcHQ9MSBiX2JpYXM9MCBkaXJlY3Q9MSB3ZWlnaHRiPTEgb3Blbl9nb3A9\n",
       "MCB3ZWlnaHRwPTIga2V5aW50PTI1MCBrZXlpbnRfbWluPTIwIHNjZW5lY3V0PTQwIGludHJhX3Jl\n",
       "ZnJlc2g9MCByY19sb29rYWhlYWQ9NDAgcmM9Y3JmIG1idHJlZT0xIGNyZj0yMy4wIHFjb21wPTAu\n",
       "NjAgcXBtaW49MCBxcG1heD02OSBxcHN0ZXA9NCBpcF9yYXRpbz0xLjQwIGFxPTE6MS4wMACAAAAR\n",
       "OWWIhAA7//73Tr8Cm0WXagOSVwr2yqQmWblSawHypgAAAwAAEbCGP88sYgMwDZcv3nBP0F1d/+rl\n",
       "JmzNETuN30u4gCdiVt83Bi6L56tlIo5ODSSnlPR/ZVsNwA7BG7OoXdfgAA+Cz9yd0PY0gC0xYHUl\n",
       "r7iOyqc4ovawuL38EOzz8bPUUyDX/JbKe04ypjRUB+Y+HgHGRfGvPjDrE29YQSu9+26Um7/CNmmj\n",
       "j23ypxaEnb5MsIbDdcuAFDUKFxnwRsQcEHOcccq3+72Ud+ZkYpJdb7Xblrvk2nf6eVbAaQt4hM4m\n",
       "V17W82gRvEC93YZlA096eAxDbNziRFfYNj8CAzpcwHYbn186YxyBve+Wkql1Jkvz50KtoYdh7MDo\n",
       "mF79rxZG8QbHb+fAyeSUqSrU6yoWOYhnHjJ9eoI3vpRRLPaBqfp5LLD7AGj58k42idWkhjv/N1k/\n",
       "hfxZVE1S+Pyf2FFGNPm14mMIEBk7B2JzMNb1+BZ+gor2U1r+hEWG7KoHxYJdCse7oLvvhamj+rVl\n",
       "Ra9dRik6ptU49cSCpXg+CQRFgH9yT1G3YTizVS8rnHDAR2BexqoAQ8rgYzGmQ5qjREgyuCHyKZ3Y\n",
       "BVzrQz+OPRm4L09FmobGLN+/Hnqg2Fr1Cql113gfa2kHKzV5mTChYDeh8Mrq3UTa5MK4p29tCUph\n",
       "zVSHfT71jObfpM76eTjmJUaKjK7Y6JYf/aIyUKVbdUB75vcwtmG3akkcSqQVOMEmyT0vKOrXMQcf\n",
       "X2WB8bAR7Dlh5bMQCvsDOyn8ldoQQQqhxxYgwKmiI9YJF/mGjPtjQ/oRWAh72ao7Ks1EB+I8faNn\n",
       "f67cKoSDIHtiRq2v5xfZmh/x6CfrZFBk+hmEXv6dujHMS0dQRdi7cOgzds8OcWe1abtUyrdC8wzf\n",
       "wxo0yq7xtxRtH34YCHDUkqvpiCU65O8a4iYAdn6P5M/x55GtdS2dUHfVumn2Z0v9kvPSPDSlgPry\n",
       "5ON/E0nZ5PYRHmL6mPkAqXL2I7rYO8X66XOvwXquXCHk1lCE2GHhixqravW/Pr4K0aNR3hiQCGQx\n",
       "YDrlq5RhpZI6czQK5TDsmnBDhgayGmtocBgkLhKPJA4lXx0zpS0zQivUqdGOG/bY7EK2ZLNkHgS9\n",
       "uVn47F4i6wRGnHeIcI9gbfKiPvUxuH2vT80IuMOKXphxrqg6CmbngFS7BxAAIqZs81Wq/9f1VVYa\n",
       "DnQyWHIfRRE+y8fG95rbVuiKcliFofgBJEABCLLvkG0+bziIPelgnuZjxGNiHPNg0CmFALya2An6\n",
       "9pfSFxNBdv/FwdES0PKaOzaNiPVXjw7GPDtHqayKxLo3OIzvAlRVfhZaMKD7X7jfyig+Oxhmda6P\n",
       "ADFHyShyf0B8zZpZOXzZqOuWVzjA4opQaCTtz1WPaIK0FQw/YrLO3eQYTGM1Fm5i1JunD7CiPkrk\n",
       "yTVTgTLdC0GPqs2KTOTi6082pHpUfSLpD1j79JUFu7r1a0k9myu6qW2PHl4+XcWv0tf92uMexwUQ\n",
       "WRw8W2wzM6fhPhib4ftw3DOWhFHK/3BXMcQz9Uly5CG/oNFjhrdh2MpH3ZX0xj8HLM4NLJo2g9Je\n",
       "HL3q5izH2eMaWItKZQPqj7ITxAOGUlroHJ23mujl/r0Rt8dMV09KrV2OEk6nyS9GMCUpjDSc5Qde\n",
       "ihGIANV+TKT5uJ1zWX5469MATwriYu7rV9jcX/3I//QYO4nknJX/ftYikZdKzvdAK0M8UVummnSm\n",
       "tQHdgnG07rJ2wZqNljCy3J6Y1BzreYKiJNS4Th6pj/QRqD/3Gg1sM2Oy6sjynUJ0RhHaRPY/z4O2\n",
       "/Hlf51G9HJqVdJvfreFC272e2R3nQnZ9DNmgy/0oH8MoOWzcqLScv9VgsYHw6HLWSFXmtirwAmEb\n",
       "JbzhLLEnnJWJ04HehoD4lkgCfEuTrxRuq3SFLWPNYBjGvnA1bEMvTtfvk6Zjy4TBlBFfk4jRpsbt\n",
       "mLa5NW+Pi6n1j+cYbHoGhBm4eip/CldFtphM7EIfdElxMobTXv1/6oi6XDxijF4TaWaAenjaq8L1\n",
       "tQP1Iaq4SipK9F/b9D9/cTT0IW8XjqinLz9VaFep0N+fV8b3yonTM8X0hmaqZmqn2Kl+XV2wKdF5\n",
       "VniJtKW8Ir91t5qWNl03Dye7/oYKZFlbb9ANhvHjNCHeCjZGYG4tUupH0NMCcrfvjy6IbWwS3eMZ\n",
       "/07DDEpP+4NVYg21fLlPxmHG9Qbh+Anc7cSwmqQDQy0voCxIzAH0v93FcT+zUqfufjmdFzv0FEFt\n",
       "MsuUu+xkAlIpmKTzObGw3XJrVOybO5UTxqRfx450ggxmXl28I4Zhg6+vltdF0r9aNGnU6w/kaiUw\n",
       "tCJAWK6mSFavskGp7KKOc7/PAjyoXJ6aylAjA5wut4KnVMJ/bu8UcduG77PVj3ZMtkG37nF8thHn\n",
       "IA1WwaAj6Z7q8n0AYzM3Ky+TA7USwANVdFGZfnS3Db5ku246SCC0Zu9zERB7rWbU3d4vHprfCqLH\n",
       "RBhBBoEb95vxC/Ba/vt96B3GRho008ZoKEeeGCqz3BmC2JGJ6YHcibS3nWudMVMZtR3KQh+j5QHZ\n",
       "PZw1OhM74c0x/ZkkCrmwSw8ja9R/D0PfQNQs4AZL6BQuugWMNVkJu2h3TASyfJu1ESz17VYA9Y+S\n",
       "QrL+45N/1yXq9yx1wcd6Xopya47lKM/pcpl18ICtvPWoJvQ3fjWAsp8Sjn9Dr2A7Tu7vUPMuhP+Y\n",
       "RReDlybyZP/8wmhcX/NF4lMatJNn/qwJiBtmA6LgnXAicSjb1mifQkMwHOZPzLM0Z86mwaL6LENV\n",
       "VAjIQfc2bYpUkfo2qq+QwDKb0eTYaqSwGq4Asy9I2vT/hT/dVD7w6XLdV/8s+lWtDYMhm9RAb0Ef\n",
       "G6bC0yO4HqPRVQUNdv8IfyjoDMAM7ZDYvVqA6kqtHLNL+0Lge/8+gesRg2VOmtkM1adGUAmepLbf\n",
       "y5p4thB+DbU9o8o3NPhaGkn98M7q378U8+o94duMZA4axElo+oSNdtMljQypye09l7dvOaI9EVF7\n",
       "/DgLShmurqw6Ljw95bswUOeJfD3vTGE3F0o3X1GTgPaHxljBVSb8R1gbn/Nae3JpVuolHts4hjH9\n",
       "MH+GVvT0ew6au6Q+QOBBPNl1aaLvHUPyur6QNvAlyVvT9RUiPRKq5y2zttNf0OMrclG1j5TNvmOb\n",
       "Jo58ZI+Mg2yOKr15s2GmDqdNLRU1SfuFaNEiV+bwwTgkWwzLFOsmXw9gkvHJA508OPuzWNB+E18W\n",
       "OkwwlIKnFJtUq5QqefAmaVII6/A/LBvzB4MyLQQQzez861MOCOK5J6tWEaIqJANJHoO9B2++iLCC\n",
       "LavwIWlKPvbbev9t23yN036abK1jgcjDkAs0qZFvfKmCch16eIhRb6Zb7dTSwFMgi03KKDYgPQ6Y\n",
       "kXF9YCXnwri7pB7kKMAZRd2R5FJcvDMjYzf1WaOB1En4HMVEC/kyr7JHXW2CSzGgyGpN++nIh5n5\n",
       "bFoy7cBFqpnTHzNsMtJnS5UJ9W0J6uuXE3+KifnU0wcLprK5BIYL7dSDvGX2bsCu5MEHcE2yraCj\n",
       "SBL1BetFEK+nMuFyt8aRSL4+aqCYpTA0X3PVABDiHQ/e7p95/z///8I5a4vExN19a0HoUDvuJZSl\n",
       "EyxwYMScd6qvGbZiYpALvHSWR0mgOPm20vX47L1mkg6SK0e3yO3GXB8xo+hFVIuMtXSSvH7n/7Bh\n",
       "iJ9q3o/B6M70XS0XnjG1MNnGP5OKCoLI4eFON3P9yO3o+RZRqlCfDmGy6md6oFAlNL63XMBeSCSZ\n",
       "MrZHzUOg1c0zLI0r4sTmmaGmD3xCRo2RZlcNL7oBjoCGAVxEF54WoXC5OFs/Rmm2Plxb5sVh3NXA\n",
       "54AzHK/bt6X+nU/JdWAx8vy2CyuMMdtjJyTTsZUYoE7nNOWugO9RuSR+aSrB/VcI0myyjJf48sQP\n",
       "8leulUTJx24CMmRWbY1kVFGpREDuEdsGpFSTKCwxTDKF8YQWkjtQjBLsg1G7Omxxg9kixUfrChPR\n",
       "fo+LCjEvXHJeIGW5LQ+JskOvgXaf2jlDbhLz8juClC8zBSDNbVexNWuZnLFrYj/60oTXzA3RJj3M\n",
       "zS2MAfO+eKO5/y+n7rt/RWLI0Hie/+IpZv25kUJexO/wUztLYqeqJVuQpwLX2+PGv6i5A7+iyUDE\n",
       "m8yw5a5EJC8Nqrp8H6NJ8cvHW5vZCmrpKE4eDwHu32Ca6UZGsKB4Er86/JMKY7X0t5ZXqvESvlID\n",
       "zLZLodFdtoLgBe7cW5woWmSsfed/Lieuc4qwzgSW+6w02BciX4uOZGHTqE9iB4VMcXoi8Q0MKuVM\n",
       "qmPODus8D1QQT9MtmWJbbWecK11uYu6jvG1xZyr2EO7Ez2SM/DChErWyVeoL8xlo9mN+4h7stx3f\n",
       "ewqOuINUSdOVKzeEFgALo7ZozwqYN92ksMVMIAsk1P4BF69gGL2O2B89mL3BZh6C5ehmM2tNRtpY\n",
       "G2GO2J+Lh59LGcJ4SBbpRsNImt/vdLj4MyPBB55MNCIQk7Hi5elKYMpCNHXIJP3Xgt2HWAY/ocIl\n",
       "kumncLhZS4w8A8PT02YOCf4QvsQAG4DOs1bsx2FHrskv8gvp1HJx0b9QguxDJ/sa+M4jrl6SD7Bk\n",
       "wkfbaC//e7hv0me/ElIvNQ+nG/rZrjRLrNqcynZwCZgY0gMoRQ6LDIdD4yK4oZsl2t8MbweGO9qg\n",
       "CQJfzWBAFp4Us4y3sp4yaXOMoqOF62o7NXcihZfDHNVQdiQx8aP+kIkmS0he61BCH8Q0Gw8h/7QB\n",
       "VhdOKLIiYcqDqCtmCwlaiOsfIub2vH5SLD6Din+bY+HKgpkiEnvJXvMMUB9geHqJgB+PQavbd9OR\n",
       "rrXWynY7qGrw6QyGnW0Hk6TQDmtRMOxDNsIuwNoNbQpBpqv6PA8unBNHmrnKPrvp/B9j/DzxKWsf\n",
       "lc1M388gNT49ups63j8nv2enfnZsb2FKWdviXX+npv1wND899TmO2AMgU0yuL5w+fWT2U+CYknNP\n",
       "OrPFDQ7Q9GdIKR3wqxHz5jPdKA0nuHjm/8iVc67UF3x/83G/L1An0V5vvAVBBHsPBOI2AE+GgStB\n",
       "HioryzLAqyLQq+N0p3HG/xo/iXTtFeV+h5UXcsU3AYZn47RemcIR49zD89zpPRgTV6rmYmKliZnz\n",
       "014QLO9sP8mN0etj3k7vVVr7N2QUmV5Pp9UIPvDAhWlXgo2DXu8CPDutJBzY8oIL13c0Efpsy1AI\n",
       "RTpeuMVFsDcmAA0OrGcgxw0R61xIAcSjzxZTSJRybwswa8JQhACtOAZlV+evj8Yp78jaY+HyBAuL\n",
       "nmnIKI415i9o00RUtCHfsEpHqJ77701oim8hY0diEOO0PEHbfVtXKpRc+QqaCv+NAhF4xlxanXc3\n",
       "jKEwRNwptB1IN9OZdHAWTh5WI8ovRaHzbMu5pmwVZyL9aqJZfE+n6j1EDVzDD0nYqsYJk1KVsmt1\n",
       "btIr7Yvbn6nNJiC8gd3m8PQrx3wAC2WO/KhgOA5mFZSg/Aj2JstK7UcK3T2RoG4IwSABtD+/rInS\n",
       "BV6fxr2phqDGL9O1RU5COmI+Sb0oNudwgKM8JK4v3HdHAvgPus+uubJEW1J+v3EgH/hX51FTr97e\n",
       "gCXdzepSPBHwdHlUQggsL5sJx/BHp8iIOqmLL/MReokU+YMyGDYFbq7dZjA6dIfcQOnDmi/ozcYu\n",
       "dLluZ21quBd/s1d5UchhET/b0JiLdmlcoooyojWOUuDyVC64Nhcahdxv8EMWTrVXhCaSW95cvuMl\n",
       "RXK9oJ0cx2tVxx/jR36bb5hAhqFXOe7SA0R5FNrKYkzCjXslPa4jf8iEr50XrM3j9mS65LtI4nN8\n",
       "i7zmqoSzHB7XMuuRllM+TgBZh7UFAAACSEGaImxDv/6plgEFwj0AVNTH+YaWuVh6/mTpskev1DkA\n",
       "xAz1ztfGkb1Px/l7rkG5jpdMawNvlBOHNp4bt8hqomG88Iet0ITu7aplyCsZ3o8kKmc4gC5iCxwJ\n",
       "9tBYEQ+rWZCjYyNDKoNF564N2c+C9w2pgU1KHnxnys0p1aqI7dlDqWpyiKG2mzAB755B9mtXiEK2\n",
       "d0M5MpUEZgHfthjJQalkxAMAAP/UGHiLJx85v9RRK9WIx1UVUG4j5tjkr8FTxNjysunH6oAt9V5F\n",
       "Nql7df41/lDYMqFdUHM7Vk845v6hT68c75I7V7RX8wypR14nuSUdwQcxrYwSf7Gy7mQL2l4a3xuR\n",
       "5HBE1YjyGdVKYvK2bvKkjrhwAsDfjqLv7IReWUCPz6ibqI/CiWkHPpbj57+mZWmWl5HugsMocmFA\n",
       "ahfsESFmfr9ZW35z40TY7e969m3P7ljcw3X/SoVW1sd6PdPtvvIKlSjXarmXv6ZvUdAtZ+iqSL7j\n",
       "zba2MblEDdaDTt+zYZeXfktboc1wsmi8TlftM9HkYSBYXEIcZVEIaot2DKfqeh+wyW2Cnj0iJvY+\n",
       "GY0G/OUG1P+rxBOj9Ng5qZY2/VnOwMLouh/yVzZhozPyv4p785n69s1Uy7YKiTGMl+soIgg+5hSL\n",
       "WcoSnYfXo8CF9JxcYDL1IwpJpMsPyyMUK8Tw9J1SdUTzh+kKni/MFPpmFm9rQND/IhA1Ef0hV+d7\n",
       "j2k6DaPmE+pezW7e0so5MMk2zsOPE9G1SXlsN4KCQF0CYHLKkKOAAAAAjgGeQXkK/wOAqR7rKIh5\n",
       "Qea6y0P3TA9Cjw4JAFNES8bYsYyWzHHZ6plrGKNUOFNcKCTs6WBlOpchUzyRpCL4bDBZ5Pl0DvL2\n",
       "8kjUOyrjSLSiYrUCIfqLE9W7NX9APLAp7VUReD2/tzTE+lTxSyfzDcOql/fD2cW2OAitbO6CfCU/\n",
       "Pg5mwf3UdKY8LLbgioEAAAG1QZpEPCGTKYQ7//6plhPsjsHTuQMpCjhE7Vcr3G2hHD6Bnb/EpMeP\n",
       "2qNRU8UWMMb8BJ+RORpq4gH6eyOfESMooLrNKWRtLj8PJI8Yn7EWYEg9aBK+qeyJG/Ybq3iSZ+67\n",
       "LPPWlSEmtvqTPbTH9JqgrEFYBPFWozjNVauHzkSc1Y9IcLuzq4e9ANZQrUTdTst1u+Z6ttn/bqGN\n",
       "6vPNdLodGUhms+l0vxGTTtoW1A5AbSaoddoKHg5ZGrbfptT6bLrloPCBVYw5+jC18D+ZwNJvYnrp\n",
       "cZ4dxo0LxrztoILMflPXCIBjOrckspynAPNyCyzgx93Pcp5sIv+JgONpUTZseMvYjw/hy8oltTRW\n",
       "DBRHzpGYz3TJiS/tNDK+7cHQC6+oZRrsChJW22XuYA20fWdSeCMQjkmVvW1htPYTEu1MkhWsFiuw\n",
       "9nekMD8/NDCNoOhMu3tR9L1we+Rv9ligA9Ho9xj7UuHc5ZhFDTBqYIcjQcxpaO21IaMF0NCDnEYV\n",
       "KtYXf8oIA0+yKe8jKqW+7t3Cmd/8aQVPbpBoqfKAF2m6k8O6/vlCB9QqDKKgABM/faa24hgdMIAA\n",
       "AACmAZ5jakK/A5qPwOoJdgCuQ6QoAAAHA/WjL21RiZEfQ7kySzYFQRRV1+/yPqbGvtHulTpCQYB5\n",
       "Op4Bn2eHmHhqeQmtHovvagETqcJKv+KJA8OeEqiLoCFgMX6KTm44ehyuXBxf4WYI/oXcr4+R/kiS\n",
       "pM/82EwfLynB4vbyWzx6EzYISJKetv3BDXK8k09B5nvM9zAMN3gyUpG3hIYBplRwozbmSZ0TJwAA\n",
       "AglBmmZJ4Q8mUwU8N//+p4QAVH+j6dKyM0L+BS8zTEZN7KB2Dmb9q3gU84ZFFuaDdYiMSkVEyVP1\n",
       "L0VK/Kfh61G+a603+D1L45ar+0bS+J2+y364CfsnQwGwRrJRQJKdFV+WqU+sQurSEU0lt/ljxt/b\n",
       "SJtKrGN8dB9c4hI/569ZY36eInF6lU4C9WyiM7yNeq7D6oG+INYfmPbSleW/wJ8h8yav99Fepcef\n",
       "1glz+IdSKLwXyf3p+JuHmp8EJsKfzZzeSjwJaavvglvQkRdjSvSHtZKeFfEZDWpnE+JZjEalS2MJ\n",
       "4C+OJ706B9M2TS6zKXrVEsHD3D4CpjT8gLhwhBOKlrGc2ixDwxVGppd28flXDUX2ocb18ZVp3YBW\n",
       "VvjtGDrOxNJ/RZ9LcMjY9IJIOvZMKs4vAT6r6ctWVynaO3aV5ku9bjQvdsDQPKZ9tA8OXJr/wCxR\n",
       "FRKvwW46S3Ke2lyk0Gd3xOMLiEpuRRWmgWHr8FZz1UNNfi0gHi2prJ1YEGPw7imTmiPRhYGgHNsX\n",
       "8gzF/Ak7CRvWZaI/xeDyeUTX3kPSI2qclC73uUDJC6kaY1nHMZSUDFNNLq7AG/1oLPn/uQWa9UIf\n",
       "6f7KnrgMa6ff1mqYOw0UaOzpwC0n/CdK+++kfwIcXkzKKO5azyTmvEHJ42SE0p2pN36vHf9NJoem\n",
       "xDcTrHUu5sTtgQAAAMUBnoVqQr8AQ1x/d/ZKj5DYxt0FFFVlE6frdwvc1akyr/ELAqTxLZSDqqPX\n",
       "VGRmhroiwRSIFdx3bcCsp2M30zpRd6FSfLJIN2nkpmRYD5OlB7YiqF5roa5fVb+XjM+HHUva4wdL\n",
       "BwkouG6a6RGab59fHkpZsWvfQhKnKBPclp5R5TxL6W9CBNeZYe2LfcqnbfAVBtMTobO7hjmViG2D\n",
       "yHvU+lmuUKsKmovcw+0dlywA1nJffKuwliPoQGF4n8TG8p/9PN8VtwAAAgFBmohJ4Q8mUwU8N//+\n",
       "p4QAUjmXamoaPSwZy1efOeeARIlzOV3i4tq94ICJSxSivKMOaDBNro973nisrrkFWyfMtQVOFtus\n",
       "oB15rRXeyHyFbkeMobkzSdQa1RzH+pHVEzX8PvgM+32ZIIpitK0CXHFAEfVXv21xZpppgzI24CND\n",
       "dEWzL3RL/v2/denqjnoiPOIIV2gdqWDMCMetiPpA6y9ktqC8Md12vG62YNvu+j93P91dvk5DF1NE\n",
       "7529SWDL8oO8tFkHG7MT7gEa4VZHFsQvhVOZlHOjmsJC3yYOswS267jJ4N3XXw+cOb2Le4Jq//Fb\n",
       "GMoWi7cLuzy0gM2/1rj+B3heVEZ2GmiaJPEmmkeaxXATlY3mHTNLEA8IzwKhCNIl1JGbloo702ao\n",
       "ehPXGoywIqk8HTe6WJc7DrUMXvskcd6Y3WijyOpfj41X5vwwCfmHHTuWqtBvMqIemC1HPvK1DV6H\n",
       "aHDyo3TDNWpqO/U1OqbfuIYXdMBKhYRqRiNj4KVb8QN0LdGrqTdxydQajYJcpECTPvXjxKgeyd2E\n",
       "uDZa/woGVcfTdta/c6lCZUVWW1fM393wWhFctvUxsTnABIRoTOj3P68e4iYTe1sOPpJrsmjAzEvC\n",
       "GGob+fyv9k4kHfLdI2qFZFZ+bHAbDAwO8X/rGHd1liX23a0GMKljpwycRYEAAADKAZ6nakK/AEVk\n",
       "12TNHl8n6AAnBeBxXj/pxjX2hO/P/FI5+zV1+rR+AHCv1qWetJn/7yWFRi3iP4Hey8DnXgFLokLd\n",
       "S2yH7sBRrWoyhyyN+bjV62yfVHGL3CrWMIOjHuDCEoURZgXkho5IKFoU2u+iE2yPA5/dfjOwN9Ld\n",
       "tnbw8QH+VqkfNQTDEwbVK87YK84MASAaGKdt2rx5WQMwVfBwnoKCIkmhZh39peFR2HQav4SrFefF\n",
       "gq/dvEZSAlSYSml/8zgGEzDadxAtpQAAAbBBmqlJ4Q8mUwId//6plgAVT0o35mtkJ4SQbs3sOaGD\n",
       "BNsFPiAEISf6eD9krjZrF8KhcFWUdU4cPti5dbtwWzOXRnMeBnQCTsbgHfVmnnN43bLcODoCpspE\n",
       "VlW4Zl6nzaqv5fuBkiVe3EZdEI/fKsANkTy8o5exG2mlk3YzDpHD/7EGMpZ+ZairuVaGouR0Ef3t\n",
       "n8lYKvmevxrYvWtCLAYagVGUagU9ZfE2+02L55mFYCL4Am1Nr4OiUaeJbbf+MqiHu9Ch/6b3+42M\n",
       "eRlgtbBhJpacS4BoRJks5VhEYz4T7pxAR0cCCf7yheVxa2A966ZbD8qhdrc6YDIcERIXVpg6IYsQ\n",
       "SWostpxjqF5lyc3MzvVuuqSzRntdpjxipDFDUqNnXu5NtXBW9cT2FojbSa/Q81NrsstkOLc2NFsH\n",
       "Aq/zVBGXTHAiP5LZZyeVoTDkoT648LKIA7yu/J46gvsUIs6mue4iAB4Bh4FRT6KU89EO1BhdofYd\n",
       "SWsgX+3PhDvwcdLt3d/AdjeJHCsbN6HFAAsv+aROqmOGVKHEVSEAAAMABeypse+8zy0qI6Ob0ZGq\n",
       "qYAAAAJIQZrLSeEPJlMFETw7//6plgAoXwDjSspTpp/f9czOlHIUTKcN7ugxHdZTdwXqX8AAdCDf\n",
       "65K+9AgYswvb92EPyVlZtVXABzeJAaDehuxM+3Mq7Db7sEOe5mpbpsaeuQ/zrmiLFtXveyDwnfvF\n",
       "MGpguunJCV7wPLFNqTyQTLRQuUrALvGlz5baxcAsG7W1quOO6e52eG0a6tBQc39YLElBmSx9OwSw\n",
       "22YxTWLtwcsn933Rcqf2Spgy4RT4OXApbQHzMICOvD1+FtUl5p3IG3tuPI35tiMyCx8qqIIhC9Mu\n",
       "4DgsgNs69AQYrI90BiOKU3tgf/qBP+lnlFkwrzPlytvRsYJiih77tJaaWRMZk+Gpl1wXYVa/KzOJ\n",
       "AaTYG5CCyBPItBYlPOS3ks4U4UailthbGfYlzSjGXm4hWufhE9ThkL2ksmg3HnQQAdEMaApLwagE\n",
       "Hn7yRkLAMJUDz8aHxgEW0WqAZ1An9cyapEew4I+lvnJR/plBpBoyRoRTtPSDVvIr+9Yxen8SPUkd\n",
       "/cqK+Xd9foKbcIdfNwhHjslCxpRs/Pip2E+0R3/6qxAOQlRWJ3Ywfz9dhPvz1eXrUClq/suqWzWP\n",
       "rkoD0Ds6WUu2SQQ6VUOnlGZMHW/P0exTqH3wqqi9CAOVTx9baoLpEH9V8jko04ayiJ68OqodplJ+\n",
       "ZswHIcypAn8U7WLkLY0whdJuE7iCSYcYTvApuNJeLEYR2L/2G+w8Ot0N2wagC99pccEzJ/CIXMMj\n",
       "yVOoM+W1556fAERSVazypII46YEAAAD+AZ7qakK/ACGyE5MPckQ49eH3rmHqS+7zjQq6eKXoSAEZ\n",
       "8dvfZYNjpRi1DpndWz4WXirHgvzLoHax8lVJCpQhgM1s9sArbhvgstZZl8eGzj6+BLrkH8dODmow\n",
       "AL7ZKUMGLwcyXfhhSd6Txv22GaFW5TFLvARJ8suL23Whu77eqQZALs4Byk9hBn9IkDJRIAyZojte\n",
       "ecnxHtbWIitnETmwEImECiAtGIPQmQQ6zRUDv9bLqggUpMaSjtctNu1gRwjtzNTD0ridgzvRFTly\n",
       "9YSTAjMmfiBy6PmEj6o4uYbdgzRRD6zqa2Qg0SE162YgyCZ/tz95+D0C3vOOOQGSu0wAAAKYQZrt\n",
       "SeEPJlMFPDv//qmWAAqnwDZuvLvyUUVDwgiTAAC68hqHIvjVZjSJP5RAKvzHDWft9ikhFkcwk9m8\n",
       "Vbthxag8WxTi0KbacdiPB+q9eZggm2sT780K0CRrXz/7DFgvJhBa9GcllDXSnu1lSrOoaHiJ9FlH\n",
       "dttGoCyn4eMftbYquYjm4lGYK8HKQ02d2GJxHO8NE4bgTZbRUD+IPfk1DEMpvACQTQl8vrE53rOE\n",
       "hiLbwyv8ie+lolVsM27/llNIayE4/TCNb/yrJAJ5Rsf6waW+kY/wZ2PcdtorSyP+uQ3e/pD5q9U+\n",
       "dFQGIkYhYCTadw2VbZb6mRFlAeQzT9h1C6hHMEXzVYcIyiyM5+umwnuChkiebEU2ArNWz3Qn1+hn\n",
       "XFzZKZU8mDsIGx4gY2NRQzgCcXPg8hsrK0Ak4BapE2H/7X9YG7olK1Iiu8pfSvEMl5avIDRQpkIT\n",
       "S+L5xLXd3dQvhCwxRmCcETz6z3ylfcCUE0l+r398jxaAZ4r8qD5Y/UHVeVlnt2Dm4YqBAfo7H8vn\n",
       "KiuQ+Hu/AKAbgEOM+t+mndOJfofZmJNu/g8PaVaXcx1VZM9XmZ6n6V++DbgUPNvy3oH9UtttH1+Z\n",
       "Os4BK+ssCzag1UqiYyR0FsrolXOE8AJpq6JDLkHBNGrViDfcUtzJ8zJ/VoRZ8naGFa4BNrn26Oxs\n",
       "DqOouJJm3hqB5hD5Pj14gdM4YsnsRmL/W3BtCFUv3JY0kDlv84QhSh3T09vHWNNe5crZVkRPqXvh\n",
       "tAvafnmWTFAxnXzU6R3FUQf4AYn1JDFNJj0kzdQfonoHWxWtrj7rKyhRUHqL2CCGKWZvzc//PLk1\n",
       "pUG3QscO6TrUSiV9ppDXi9CqTs9P2Y6Cg0ozpAn0Xpw8gAAAARgBnwxqQr8AFwtzJ8U2d1r82XE8\n",
       "Ghwh2Omw9e7kAJ27oMyHa4kaBXRqOxHWRl1wZpTZ0b4Y1W9B6aiXw8knv54ku2MDre8lW960hodB\n",
       "sSAaEz/RnmrzHqZlfNGVBGue1xAdgX5e9y/LW4WOQhAuf4nNozwIkKthsE9IEZI86t7ED/lIGZ2m\n",
       "b5nWMDM6bSMzlPQ7RcZSh7sXZD/pJeMYX+nmaNT+3bvqrThq/RdOPoirkuuQb7d9ON3ap1Q5G5DV\n",
       "+Z6lFAri/yRSugohaCbyqtgUffZETMSQYPLuXOcenuPNIh/nVSx56yVnMkeeogu/09MB1niG7q9H\n",
       "UeKX92eBkFfCB4zBw404N4YnAYZTAdykiqSTC1IUE/i5AAABx0GbEEnhDyZTAhv//qeEAA3Y4OUE\n",
       "4otMOQYnF7/FEqSOJKAaxAs/P9nuCHg7fCBJqA+R3+9lggpSktpYcWlhAi2IbVFFesKHmAo6aie8\n",
       "S1R6PbLYwjB1t8QNTEUX+QtrwH8J14SmkA9W8Zk7icPUkj8HuqcTAyfnr1PAPqBpRUBeULQ94Ju7\n",
       "MG0PM9snl1vcKRKDF9jcFXGA58VRRVuuHL+6JmuwJI8tvUTSYTr3b98imbWz2r1Ox5tBxdXqoftR\n",
       "cgnuiRg1eiaXg29WeAmM54LNA/7RnSpt8vJl7FYrqiA5lzQwfSsotVCNP38wTKaieiCBY1yim4J9\n",
       "1EAMyvbiSGSQDXIBt0aaGN/tGlv1edwJnyjjSQQky0H0Cocs83NyhOvW2I4eoYCjWQ8TUNnyD2U4\n",
       "9OyllfbOdG79NvdVgCGkFVxEG2YpIxFbnzyzscoAiY/ZVCd8OmHe7C+9Lw9Z3/0qzRqIq8VfCrwh\n",
       "l2GBQLrKwVpAhq6DMeXfVDoUaXhVAQIPSgSYt4oLI0LEapqxn2a/vP8SchYgsYZWktvku+fmG6xH\n",
       "NuMJhsn6jObwEam6d3zKCo17hCSK7DaZEsaYH5jFRYWF9CXhAAAB1kGfLkURPC//ABCouqdhCllU\n",
       "zIHCxuvonzJo5Tslsm4AQNtJkCoGoK7LD1eZe0/XOlDB/iDqSZ1uN0SmSY1Bim5v9zzPFXA4tptE\n",
       "oRCVlRMtDrgui2t3evIUSCqkCtcOKa6ja6RwKOpuU5mHFvnIMCdWCUaH3aAHNHjE8+GR/x2MqtjV\n",
       "+SL0fn/3ZTqR+r3azMzhYi7EID13l23yex4bRN/CIHjCZ5Ih85BKiya/w/9jW00i/r74IUQDj6A8\n",
       "IMmI81FaM5nq12qmt0mL6SG1KMK6hIw9Fw2clvZOCGQejSvRiZlDssBx6cmy+7BMfckN+mwL8ys/\n",
       "rQ7C9ltYW0+M7Ba1buUw4FJbnfewFS4Oe22agAZAjXF5Ki+BH2B66EpDxOd0x3yYVFO6ttVtg5hr\n",
       "naWuLudcnZFRKhDv9WNhhizEqPL7hxC49QJXnvux+ygKVtiXkHbm5EYcoSEMOkudI3/KPndvSOQS\n",
       "+16YgIJRalNX6O0WxcU4DQCDKN0h3HJDWOwD1O0dT5HiTv4lstNWDfgak+U3s0zCopMBHbFb7fgo\n",
       "XptQHkYxLxKgyI9OqPQ54Oy1aTG6fic6RLfqj4K+KbS7dZYuOYckzWYGvh8/cOIs40DpYhEfAAAB\n",
       "dQGfT2pCvwAXSwBh6qcqbCddraAEy6pPOv1/JmGTUj1VZE8rU3uVRoZtfzfPYjBZQ6hb1sIt9Nud\n",
       "YMBpznZqUO/47j8ZW3AlQxLslgrjfgFta/MKLSCMNSuNKCMPi9D+oD360ZzHTm95uCI2OlnlAAGY\n",
       "LfpciFGv5IwuwR+dj+82gYG96Q0pFsfl5CPGwSpZ3VgV9j2FZ5mFypLiZofzvQ0x/oVe389l0kFO\n",
       "cM48KU/vLl712pVEOZzDaSQ5P07TTC7BRq1ZOUpM4JWISNeRIpkoKKZXqXXSDWxN4qj3cumWgGEu\n",
       "zCMeE9nOyeTtsLz4Op+6pkokfViPy0Q59+22BtdXfnhGvvTK0hp1H8fbgsW5O8wzXnaLvbTRf14p\n",
       "rFK9poT/0ZZIO/6heT5P61SUS4owo2T31t8t1qZkaV59OwYAuF4m4Z+bixLXnnLkNsedEsxIpTn+\n",
       "2PYGFZLnuFoylAxpptv2q5K7UBMUDAm8FEbHQ2zsCtgAAAKhQZtRSahBaJlMCG///qeEAAboelIS\n",
       "v4dves6dQAAui6D61bwk2+LCmZXWAv8/wTNvnmfwMr/8kmmkY4KonhVCWcuR5reQCIsrxZy/miE8\n",
       "kw3bHQ9G6aYazsIuRCT1ywyBFLz+RnKYCqZNAJ9IgUtcOXtOSXuK3NC+ZmsE72QY+tJZxkPq9i7q\n",
       "wVb17uDdBrYuc/8lzm6HHcohYrY//tHoOE63UflBbhIOSXawB50J2QRygxru6gZWUKHKXKCgeTaL\n",
       "Zt/lu/QbhLm0omYf1aX771eASI7+pT230+MqQCRMyKQka0tU2cV098aYc4dCBMHv71b1I5gwhfOz\n",
       "DaCnAekzgbcYerpqycO+STrxCtS1MPiRtZSoQah6+plYHx2HK+VnUMj10IzgngFiD2RXMxPXUShB\n",
       "34TgU7TRd/7s4BCTAMqcvavqwTzUpOTCe3pcvM85HFfx44PkwJjyIkueeLUmH4au3wR+MGac9tVJ\n",
       "HA8iyNFd9YLmrFdhsakGsmBQIrzfuXQUY07SQY9Lv+M9qtyTWgcU4nWbVpbavPrhXATGKUxQ00ID\n",
       "cDfXtsWsdxKfqDJvoNeg2jzQVAjtVL8JcNUR2AhiU56tqfOVkH9kJLJ2PRYgHCt0rU3uLN5WZzpv\n",
       "UkbrCVZHhgEaUg9jR9HHuyWQd6Dej6BpcibZG53WlZzK34k7GJzfHzVyd5f45/1J+IfgxYO2RctJ\n",
       "OZX6hKOBT524FQDuiV0z3AjsGqrLWlHUCftsdc6CUrOpcm80hqsrma+jOYq8MyvZdYK1OYA2ipLL\n",
       "ONsL2DsD+TstdzVLh36te90ETgdy4EkLE0+bcLNfUFZ1OS7PvTE6HXM/ZWWhaAfn8XjTvPBdEolq\n",
       "nAEEygtWTLbuEVJRklR9NOXOGZth5BbuSAAAApZBm3JJ4QpSZTAhv/6nhAAMi6d2UwbIAia1nsn5\n",
       "oulBLBljvge1C+KB6k7WI6eHBZMkyqTPF3N+JhsxpQR0ss+UzUDT75hhMy5+MCH+UVjJd/s36tqy\n",
       "QKC0W80K5za/UHd5YailqHLtLwYV+LpCS4N7XfNMnDeRBExL15PNeK49+2VUmqrRL3Bjsuq+FQ5t\n",
       "VqPVNHdmxorKyiQHtMr5xt1LFX7l/BAGfHyAF/8g+2V4sBwNThBRfClNkMbEPIL1wKtmhkpp3fbY\n",
       "CYqSTk9Owskgiwj9yOD1KcmCz6RjR4U9SN0tYIyTUMLFjlDU0tpviy3CBSvcZAuMmz0sK2V++J6z\n",
       "uvymZ9xK2ymlo6sUShI8cgiIRkgl1ha13IlZs4CNqWXdZSiYeq6xwA5XUX+7Yx9pU18wVVQsvBNY\n",
       "GtUXclfhQkkzUp/Oc9CrYJ51vVMjU3LzY1JTkvtrWZAS8wsOJXtoiNfNyhIv+wpnP5A0gLLJCip3\n",
       "f4nwCxa1iCSH6yplHvohfVXJy0XSbNAcjViLFkZ69pX/jfthI1o86KHHR/EGYwzal7Z45oe+tovm\n",
       "demrHBtVe/Q4HllZgG7XDP8rIotbvHLejA53dO1AgPI8+199hdBXEXk8FMmWXjduXbMdvUl28vs5\n",
       "XJoYr4e98AZ2/FUgcbw4eg1j+22J1ncT0j6DLIGfPFH8YNVXLbokYjQar+fYrlpe0dYuL+rL3RzD\n",
       "DePArTAIN7wQAI8E99MHlAyVZxamR3AoL9fxLMEsS0CpOpH3DQsUH0wPhVyNAcQEy9P5Qov4RKgR\n",
       "EL/PL4rNWxyddSDkjis0hMnkWOrlMZMANOXNKSyAxmJV8b/VmB7029fDKUe3cmhhS1faeJ1yhLFU\n",
       "4c+aDsJDwQAAAp1Bm5NJ4Q6JlMCG//6nhAAM3FyQB8+8zk/Kj3eXdOEzwb3TTVEzrKhgmDI9Hfzs\n",
       "AF9IOVlEoVjujwZ5zOs/xP6yJXbdrl5pGaams/3MdiMFi/WPzYJ1wO5rLPyGbH7/YU0j+slEpPE0\n",
       "Gcafo5DHMzyu8LVSFCN5o+dYTLvF8gUZehgY4JlvWvkd605lPhEsCMCkKvve8PXyW10AShXUVnyT\n",
       "1DZwGJ/rC/sZP04VlCjSt1z/G9psrqfLtkwTRBQRo5H64fU0D52HFdKLV0gep7pXowETIPn8Q0cL\n",
       "uczCSZQNJZX0cg29DGiswCmdwz29t+F6Tly82iaAraoG+TODWxjJ3blCpU0F7paZEdTG2dWyinZj\n",
       "2Ir1des0q1Kho/TmrN/OD/k8hX2BfsXFa7pQdPS9B1FIsCRjnWxCNjI9N+aV+d2XOP02li+mAO2c\n",
       "BBJm7/ut61oxJsZ0I3BKXDQEL+bW5+85Yor2vY0si+hBmYb1GpjNcBmeqd/YnCq22FRXPqspC8GL\n",
       "OjPu6NbWseJZBb5T7kHqfwKXp/1QNfX4200pghZI+nx0CvwRKrrvvcdfR/xbKjyMBwNPbnTAp/aQ\n",
       "ObNFpqybahLurSjBmyQDa+FgPiZ5onpJ06TCHBrLO5fv+8/VaysTXgBPBU0nlQYvEBFBOqx5REtA\n",
       "ZOrwfg2haahgn4QsmsxIFWPNn4p/W+LK5rPjLwehQbMF5bpeaXhSHeh/1YVO1soNmOKUc/DrdrIo\n",
       "HL09U7MKLn4SEipAg/1bkBS0Rx8ie5x13jsM2VD42N6svC8jthMJRj4bRe9LLDh4UCJH+44d4IKB\n",
       "Vcp2PPAo9Kpzt/yvivg9IhAyQAEywp+t3ZnSiFHs9Xajr0JCVfu3fLwohnYnJVjkgHkTO2UAAALt\n",
       "QZu0SeEPJlMCG//+p4QAGHdDNJlaAAnbX0AlPE4kQoSuJd4dZjbw4v3akLZMm1NGXnvXjL89dsIB\n",
       "2dab0EXTJPf5KzD6CDt0QT+R4QWytE5W0R3UtPwM/8atRoXlUUlH5gQnNvDmavvRglWz+7CKks5f\n",
       "L6icK5sZGG7gtR5o1QQpbtFUjU46ULID4gjxPzNwpTiLfkAr4dsALNWxO8WRP/opc/eVaAs+A/C+\n",
       "850h0CpSZ22DU6HA9QGS+NEZh9BnlwCYklVp+TEd8codBEckRa3y+CNJG6is2z/3NcnkFewBwPE+\n",
       "0peDEi896N/jDQPEyOGYQQLV4zxikVf8gUpxDNLGDpsf756pgh0XyoVjx9EnSKZks8/FXOY4GV4L\n",
       "OsAum4t9S+HQZmNwwMYd9TCOhKeOcA9nRGqhs+INm3ffXV25UCnT3jybtR7IT5xFDu37sdOxfASU\n",
       "xosSwYeW1mJtlfHTwd87QpquhrzYKOb8M4xsS1azRyyOt8T2+HcOhIWqq761ieMNpYNhsECI9Uwo\n",
       "unqCmcCKFd0l8buelDkBWsN0gzL4xKJgVMH8KskB38JjkrirOer49hqd18bzRDtP/7HBh0FMDDN3\n",
       "ePx8YK70rRC3E8OYeG83eFrwEKdcYxsBNRJixbrnKqeJYPiJRnCFZ+CvqA3Z+LHnWSj/Ky8Y3qfP\n",
       "9hutwmI7+ywfiPp6K0I5gzBQISNKV0eFRSQtXEM7aBEdvHHEesgE7Ex40Z5N2niDTQOwRy/AKdzE\n",
       "eL/gAin9//xQRruSZML04IZfCinGPJI0GBPGWTVChP6/vPloMp5MQtudg0E7kT67ozgLMuGtMMT3\n",
       "RJkOdFRq6vPacuKVReF7ByBalfFHaYlCJTNw/Jb5CKDcGkyAw8sM9qqF49IOOBZzjluwlB9MUy+k\n",
       "doz+ITqrp5qIC1B46d5BMq7FZjZuK00MHVFRLAq7BeZrX0uuNIfeUG/tC31PyO3DKk/0w9su6S3f\n",
       "dlCmQIs3L6AAAALnQZvVSeEPJlMCG//+p4QAGSE8IJg2QAt43oIUG1EQfkCFsYc1Z3z1UKfpojju\n",
       "A1Rsk4iaAXieubZCAYpioRgCOqxzH4DeZQ9ioKM47eC1DsYGcPq+rj8eAZTCv6iyQ+gLgumbGP+5\n",
       "hyv7eZ7SUcR70HD/QIcCDJ4ejDzd3y+ubhVgz91RyEw/oH8mSI4+38kXqv5gbgiRKIHlf6U874K4\n",
       "S8zWWDMRN15elcrABheO+7/Rzg0j53sg6NhYNDHu1dEHu7RciF6QyrxyH8TnQei2REBxJwWUSNXG\n",
       "TS8CEjWsUC+3/2BrvAFIdr1vF0uUvEWgWe716qeNfmfIRPNbJdaBfJHOm4in7T2xrkunfVwstPxt\n",
       "CI/+/Y7z6jRa3n/Pfj2TDvRXBtvz5a9o2fZ+vTcVXVbHCzVn8pK9HHVda1qVXiCxf9iqh9szWpTZ\n",
       "XPaTXRJvojnMRH27J8sZfaUfwwuVqPv6rYxEkmrX8Fr7ElwV12HJ6+ESusRLl6ZkEv+TB/vcKJYS\n",
       "N6mI89Cz0MRYkgcGDi4Ce7aDKKQJb7niBgeL+QIomCIsmbJHv5KTvwcyXsrnGJ7+HqBoaz0Pvmqp\n",
       "XaVnf5Nfzm1X+hoTtcVpl+yXcDpEFwfqETecjJ1vvqW2FQyZoG8AAAmIrIQc8p+OpDAgCvFcED3J\n",
       "dCXgv4OS4bg2wUZPCUujGBhM0hDOYBpT0/ycuySpofdnjHTkBTZPzbwaquRpLyEyS8+0gPmZgsLj\n",
       "RMJtQdy5Jb8HLGcHIaxJwTSUsBMcL1RH35WJ1SiBZnkwD4zPpxWAHPqlqU4U13ifuummUtNGPMZ6\n",
       "5ZwZBsvo+6b+xNpnWoiBgA2LV4w2W6ASRj+AR7kkdCRl1IgubyqgOWCciaerbGJS8M6QKZYA4Pkg\n",
       "UFgQQMXMvGz/+YqRB56k4rFuOv4HmL07+AnvA8tuPcilA1OyE1Ay8TpMNqrOFQkCVFt1BkRT9F9p\n",
       "SlyQ1pGlDOWqLIMPyGkAAAK8QZv2SeEPJlMCG//+p4QAMPaGCK9JCzfppzRW20xr+2+iapvYnofN\n",
       "VzwAfyj6Ra0Bz6LVAO5QpWBmNi7zcD+roc4LisIO+N6R7+Df1WVhCZD2j4eRekv5uaZQhh/aR3Vc\n",
       "h1p9PVL5rfmNnDjmFYHDhIVkDHVlS7dsKIiXWWzYdra4OC6KfZct025zbwDdf6MTRyFBo6eJesEF\n",
       "qPt/s7MJq32VpVKamXH77mQ3hXCGABqKmGgPjATl0E7IarUG4o3QMAPht8ax/THzfdhV7ifMyYVe\n",
       "iadgWSMyZgsVK+mFOaFKrOYhVScoHFVBneg1864CDGwzbouFHELzVaQD68ieH1KSecTqXJK2zsCj\n",
       "Sr7IyGIGpcN4OxaVBbNrXk9fS/LVVozcSMsvmlVAy+jdsCIrI4uOpE3o3KzrWNFQpe1fxtGsy8Wp\n",
       "QgqwRoI87g1gN3hO8YBwaGIac0caK/+C0a2Ef8xZ0p+XDyK2qNijbJKpCNQvl8i7iOTF6CU/9lU5\n",
       "S5rjkbrETJ0JouW2h3nZK9AtK/Q3zJu/CLEINixF90cJqFw+JYkbehSYSAquNWxENsqz37mYjZar\n",
       "TO1xhlTHS5RzTeshdb55zr2qdp7CKu90LCguuWGpjL+xJWJnyBTkM9DbOSW20UmSvHMrY9mFumvc\n",
       "0liTWjNE+ij4RQz888EsEVHZ5HTzMEvJj/H8QN2mlRPtUAYCLsKWSIRTyfUQfKRWqkJG1SVqDm5I\n",
       "0EEuil9L10ZA2q7+aGBtWbOe26G+cBgUi7rRSBCjeBEke1drAYIgdw5EQ25wfak1gCkALTcWZdla\n",
       "oF/b3YoBDnHuxOBF5/4fOapB2mi30TZ7DAybz5AsEKVTDbzfkf4AKDJElj5pVmzs5OsO6zmEbCDb\n",
       "A/P7xiHeFcoX19xDDuJBRo0PS6Enk7AAAAMAFCHQcGBRwAAAApxBmhdJ4Q8mUwIb//6nhAAyfI/D\n",
       "EEDq/hSy8X/czteFzq9EAJXlX1A6p42zgq76CMOm+MZ7FIUD9Z0cq+zAO8p/HWqmb0p2ozL4iwhG\n",
       "WiOia6qh+CWUcJYpO7MF69lO3BNVEvV5DQ+vnTkcPTQcaJ6PfyvYla9CxZIfEMK+CTVHVtluqEka\n",
       "oxwCGaDFyWVAxA8SbtUioJUu4AsnhmodNpGDsPzU2EePGxfeNDA0KCc91y21Z0M9wcliy7MMfJFw\n",
       "G8+oMBxm2buD9MM8rx8OJaUHOrCP3AcJ4e0exc02jmPMvAS1DLV8na+61eZXsGI5raIR4atU9qzC\n",
       "J+boQ7unpNFoexg0iNCfeTiGlQlyOfiOe87YXKWEF2MDNyqODlnl/jFB7EoPIIdb60O7hm4ijyfI\n",
       "olaAigtppYrIS+wEYP6tTrFSTisv/TQbMoMy1z2o9xE5pxs//ba21YxxNfwFr7UUVshJCeVFjO4j\n",
       "3zGpAHMO0PKnf1dlW0aLLEPQcx1jZYVD1tFGA/yKiLH6Z7G8gSAOX05TMRSLf4x8tSOVqd6cuQYx\n",
       "1lwL6H59pHk5sUxZBB9MYOSVoBg8bSDPcmXCLwVCY0JzdytOYTdO5WFAT8nAc5PYu94gFN2sL5Io\n",
       "EGKhY0VIIYY8uY+WlJXbdNgO2dgr4t9HYTPyceyYV7o5mE15oQVjQj+xHUNdmns+0A9VbCXnOwW7\n",
       "cAyUqdImqRyIindDapgYY5K7yuSY9i9PVS01T5VR55kqgLyRsvkrDY9NXFXdVRAYsdPZtO5Uk2vK\n",
       "wYU7YgoPgF/k1K8bzQ9dEPeyltSRiXtNtyGioX8vKfX5o3e1NF6W5Uj8g9/hNoFJEd4YYaZxel9j\n",
       "OTQxmLMYen0QH19Z6SFZdSjQ9uGeQQAAAr5BmjhJ4Q8mUwId//6plgAZS0G2e0lMAOLcCUSqEb7H\n",
       "6zlcM7eH4jENrLD8xfZjEoObo+nKDI2NIqVRxQUm2WB/3WxspRXqYkjTlkOo1lUfJ2FemB9Z/R3c\n",
       "0Bqv7+Lqu+HLBI88oy3xojtfFHEGD0HwSI9dAhhbQrYirXuxzHihw/mMWRR5JH/mvHyrIrmibeUH\n",
       "ZBFYDwg5S/9UqJQ7epKR0P4Iu8mxelqUj36wyyc2Kak4s2SbQrsECnEpSru5fR/5XIO02PkmHlY/\n",
       "WsItOtMPusU2fD2wgYpjIaGynubGa0x4ecynveZxJKSbOpnVp77GL+fOxs70/V5MGr0ubnlVCgZ6\n",
       "0h32iq6sp2r+MlZHE7vuCZFJPC4KCnj8Fj3aOC25KP+Sk5IhLoXKEKjhDCwv7APuTcaezah2rVDa\n",
       "T3cFLNL0nBI8mSR4nfLcDXO+iFhZLxAgK2xJmMDWmq0KmhALoWxnnZwhL0swvTsX2F3RLp17yv/6\n",
       "JgdK9kgqW5HizanSBysf84oc3GiyaCDhAkZVLzsp/bwSwEMGN+W9p2bYEN8YpL09D96fW6hkLaO+\n",
       "+l1JDWRFZdUNQNpdUw0A7QFBIjKE7z4e2T+KKQgsTTdTRqALAQWpodFanxHw6xAcfMJmAdj0Wgba\n",
       "Vo+uWRDYDZ+N5vcK+0ao6IrG67ELc8CMsFnig1jsqiZAw/53ETOI65FJsy2d0ftfXRgvyvvMAsdc\n",
       "LkdRscqvnukIXStypxZPuKqHMRkNNX8UNffXX3V3hQIRxk3eenEzQQMSk6X/z/NrkqLFSG++ZvKL\n",
       "yML8oA1BWegqmnPMgo9bnm9TTo3TeOwzpTsVgYDm7PHXj6B2rKUV7NcvrgeZNov99iVNcWg9fZKT\n",
       "sfsWRbMJn2bxvd1B/JK2EhzfgvjGhO6HZjGXyha8ufoh2NRkLvlKHm2lNacAAALtQZpZSeEPJlMC\n",
       "Hf/+qZYAMVHoTjaDEUA17hszv65ZbOuUSSMxTvUFbZxOc5ppOj0X1+XeO3aSQSwHqMRn6FjxpHLd\n",
       "LkaCJmd+viIPn9Ae21fxyjk4vwoUT+Mb6aM85ZzB3eXZzE+HlZxGGjtEXMzfDWOdZQFXJj09Z1iW\n",
       "ypOpaMY54hu9d2hULT1JiL5GK6UILRgj3xM9mvXN38ZU/xqRnWRdPzDqrlUBgFy1Hy4PPqfpE/ST\n",
       "3DQyHkdWvxodAf3kDkFEGPu7ReriWXiw9B//Ocn7+y9wzLV7J/vIu80t2WXEbkEkQdeheL6TLTwA\n",
       "p7EvGv/R+s2tLoAYhb+7nAyF8Rz1EeNaWtdjqNAvoLKCKSHtv60fhPMo5ACfSylVyC9wApHxTho4\n",
       "jjsmr3BnXY1tYuIRViXZZoYxCrPoCqWocRZAIQTSI22P42Gzg5A9dgiMXovK5O38F254EF04kIKK\n",
       "uEcuUXfzaEYP4riI01DqxYbRoLdURZ9uSVVCnzs7gyUU2QqbzsXqLCcUdh+TXHwXVlBYQrisnftd\n",
       "0LhnU6WZxfS/hWcKZlRpZXbUL7/EVD8gvniRGDTTok1BDA6rP7PSjBIBNyHYpOG1WsE61zviHwDt\n",
       "lzWgNO6Ylt/DDG+uKBX+9ZSYyJqFKpOAGk0C0cH9LI4CQTfvoAV71YpkclRl1Qle8e0KjJgeVqV8\n",
       "Cs5F6aiJmMQzm5qy7Rs/Q2anmoF28EOubNzGigixp9xG3XpuJUrxNfkuMrqx/7yocgP8FL5tdMtv\n",
       "daufOf6YlQ1gNipqMmq6x5rW0CGEbnCde8MaU9SFDhpbuPS62FUWWPNwA35T3wQ5/W2cSS8oJWjO\n",
       "1J7UkJbpJwdg4d8Iaqv9Kz41KEDv86Gh3eq7I0iOJNzH+gCf9F8Z5hjaKQwD7CY+37/Zwdp9Wpxy\n",
       "knKy35TTkMai2M+IJhhxWxebx/B7nBXnGbj3Zj8xNWDcZ2gFvIkEeORVNhhrJtAOAqLXKWnex/AA\n",
       "AAOYQZp7SeEPJlMFETw7//6plgAykoWgoXhpXIDYzSAxpGOtsMKeLhp0zHulRy4zn4bhDPXGV9KE\n",
       "X/mehimJFjEKCz5JNQ4/t1wpDYPYsS8OfslhN0qlxQQaOdwK0D1KlbwJFux1sfc4SXQG1PHM6hRw\n",
       "bFoMIERNRt6q5JR1fLUqb1HdXkYmkiPKv/X/fGvKaoA3v1kYrHMM0evCu6t3byc4o6zUmpcaYmNx\n",
       "YIoYzzdhsNxhegJZuqBjDhtpi9HLuEASz0LRI6faojL3Sia0IgjnBCjpT5iBtzTvNQb2SRHNptx6\n",
       "Hn/DP80QV4OC4GwdP30iXIhf5z+d+ye0SG+7b4vNkQ1m7w1PUtQLng/d2Ht94ZjwORZCjzEYitow\n",
       "1MSk0L+CgONCnsszqNTEY+eTHySA0Sw0WjPrX2OL14uQPkCU9dodhCuEZjViKbaHCcZbzxrVA1Oc\n",
       "Ds6v8E0l5UVDbJN+V213PaBLnR26/MaPKJ64sp7Q/ETA/U2I0yx7T8xc1M7ddhUu6+vvzS239y/W\n",
       "62/k2LgLDQNY+bM2NIWIZsBw6Oje1l8bFnds87ulen+Cyey2XaoGylkekpFI1e88UA6lFzti5sr8\n",
       "A1/8eYps2msVXkxQCYMmKn9o1YnyDLIBPK5c/fNhYAh9sFE1ZiilTefbMNx/3R1VhizbmB9i4b/w\n",
       "lykUTAeZKjFJzgnFNSzM45CbFLsNsbG9rEVSrZJ/bbQFyEJai9CVGldfXoItppE6GHD2oP7dNIiO\n",
       "DDLyumN9GJyNYyN6YLllTVBjKljxxrKSCYkc0wPA1kfdlZ1zoNUW/5gEfQyK+OOQwm2CKzS9bav/\n",
       "Nayu6KDcURnicKs2aYfCiWoU0b1gHSaLKEW43sXbozv3lCRwxR2ncIuN8xNvGtD0adIy3TYT9puX\n",
       "rJbCrdaohcSeNfas2Hkkqjko4eEr6TKLaCqzZaWoPCl6GBteK/K+oqq7ollCVZrsOoY5Me6hxnvk\n",
       "G9bI7guA+0G+srmNPRHcof2fR79XEuaHmJFMgEF1uYcHkebAUb0Z34Gfecu7MbJiZh1HpY9PnVJ2\n",
       "JnjrPITCVl9CyxKj4FC3dyJP7svLMqqpWqWMlyiXkCkx8xYl6dpgu1WWbruayccdaavdBwcAeN9U\n",
       "RqgC6lHwtjS6tIsUnaibsFa20JrkFXkax6mSaB4f57AIr2ZbpmqGcMeWctyeHY6Apgcbr3gspQFk\n",
       "6174YN8q+mxqPmEAAADpAZ6aakK/AFHr2b1H6ABcsSVJJng1hNXQGZX+RbkvbuE3YVszNzq6dmQF\n",
       "1idIh3MMlLsSgZ4L5n4PWQ9MRJq529V1qEtjEI0oQe3og1WWssEBG7NxjT8JKOX5awGyBvBTcnha\n",
       "qyck8oBdixSTf2gpQ5w1hVnbaZnavOeuCu3sZlo8vk+gGpH9M71zqcQhY8j4ELKkzJBcqUpoGkSy\n",
       "OxwyNdMrFd56rbU5UKPK2Hp9UAxcmRGylnU/AnKuIBPpmQhMQSKomJ7JKSrxfoRJZVG1MsqDU2bx\n",
       "4DOt8VoisOJ1TQvK++enoSkOrugAAALcQZqfSeEPJlMCHf/+qZYAYqPRA+VXY5C/nkHTVjAHrwOH\n",
       "BhZau9On0vn+EwVkriRIU3AfijTCEZmgR6tz9TvfwL94P9nQQnGIRTDG1ySP6t67GGpds5UpLxQa\n",
       "r67CoYRQa8dkc3RoRincM+2HUTEPh3SmhNVeAyOlYBe6Im7T+cogdLprKhcWC2FewlMK17Ak93Vw\n",
       "PG8SYZuaatFXWCT/pXkNGVRPVRqnOIuRaO0hfRbjm2s6D+tgL0GAVCfQvgas4BXUYmRppc8/xmWt\n",
       "UKFyUjxWNghRZb3bMw+od1VpMtC/+jVdHr6T9/60dCVNTAjYk9LGTnF3Wx9yJV3ioVxdTH8n4aTQ\n",
       "BAQo7dpNvXcGjicfVT4Plcg9/N10xnCn/f2TuD8nYmHT2qEHF42CR8Y6BPcIf1f+AYFFEAp0jDOt\n",
       "7L6yr0tRF3pFOYXzXz6ZTTE1vC9oJ+iem4OiXrbEW5cV6vCjlsjCobgnV/kZla28bSZ6apZPamJ6\n",
       "yehzPE+MYH/Vq7FymW/yRrVSEsj+U1+bugxu0o8AEbSweHFX6m4sVAvkt1uMAAytCAYiWqL4DWD6\n",
       "sGIcwLTCZmakKbQsmTpmXwH1lXflATgW+VqEocI3y9Vu3xq3yGLU8IAiS3mUmXdl1S9qsxXW0BCX\n",
       "YcyijDPbkymDRT+B0khHshWHFivVu1K18VsezfJnqChBrJ+EnBViObNqNpp3yIhT5r4TbnkkJ0nC\n",
       "a3USjQcK+/fxlyZuXj2znHV3uXgNxY1Lgo4pLRgbEp92sRCuyOJPPhEDjtK67i2Di16GaHk394pJ\n",
       "/r4sEye2cxu9T5vrS7hLd/Y//S4QPlKWESHJCzlgMFYoV9jjKS/Oc8e9V4MlLuttc/opM05Ln3Sw\n",
       "Z6/NA0NfFLNNGDZuzo2fvU8bCAgb6zTVAlsZhl9dcvu2xc/WHjGczF8///Y4pXS3sUcJQvpuCZyz\n",
       "MUIecNmxOjd+fsttzHahAAAAyUGevUURPDP/ADzFiDbC0/Aqxecv+PB3f92J1HyhQAkBrutAB0Ul\n",
       "y6ukP9M0LkQsKGeHjyEMEpsN6ghHOtcre4iKYuJFlW9GF7m7ENWs4IWHXhVqg/QN3kHkKDt1q50Y\n",
       "H0YclGOlVjmp8rZap5bqIeBr2BKcUWSwHlc9aoRG5vZQ8bymsmaEr66vz/bADYjL6h3BuyzwAxh2\n",
       "KtOQNcck3GsfJyeVRSFy+uihrIrMTk37tQbEuQJGEhhtn3A6i7UWpje8nQAX9XJBsQAAAKUBntx0\n",
       "Qr8AUdhHvGWEMl0NV/7cyfLQd0XvDFJMDIXff6VUIIvtffhdGKT9beDRxZjeOtCJzuaZ0YSa64yd\n",
       "53EQm2Qw5j2ZNg5Qidbph1N+jczgiYObbtnem0zeC2tLbO5hrOgjMzjXn9RLo9iHQBmNZZuhfk/y\n",
       "NUtE/8a9HkgeD8AK347s+GDIU12V2zxvfawhGc8TeYUPdjb8BCAMfTPCKAB4ZZ8AAAB9AZ7eakK/\n",
       "AFHkFppSr5hqD73vRh51BEgyVKxT3HWQc2eQSmrRQeKW5gW0y607ewxqYXUkDW6c0S6Tm7Bl8Llx\n",
       "aKCiFfOV0rIG6TpQpmPz/SnIgt1j6q4g0yfuHOTVgswstvCtGzXgIAALoAFT8PoP55nqO8VJXeaR\n",
       "2LRV5oAAAAD9QZrCSahBaJlMCG///qeEAMPwnmjzy/oLo/VMGhIAFzRITQjcFj4qRU0vEY89XOiu\n",
       "4IlR+v5xvQWdjzO3PpqIUY5cTRgMINGOo0w/4nFPIPl8+QOINr1Jtz4MIuxxdNjTh8DGVsyrR++w\n",
       "P+TmFcI0EIp9IHzUkq43wga3wtaR1zklH6vLCjV+eqi02iyGT9+Eyj2Nd6gLJPWy9pYIEpjltrWF\n",
       "jIYKMdGHTI47XQYSDmAWGVMVWG8vXc199mKqDiMUPOI3uFnE3AhAsZwmABFejw2cz+HaFK7G5VWN\n",
       "b5IVYKFEkGUewk9sptMMr6u7KgPfaF3m27qLOhUj/vQfwQAAAFxBnuBFESwv/wBxPla63jlyZotN\n",
       "0KifOwy2hWy6FGBEv7HmLndnQ5vTmQWd/nfgE/vVdm/8c4uVVr0WoTG9IQYoqXqQ7/3d491/nGrp\n",
       "IF3SnkwYoOdllIYaCJiv0wAAAGABnwFqQr8AUenu4Mnnw3Mq4SgTVhYj+LhA3E7Xr7KYgOpl27SF\n",
       "l06fuO+6xDjCOs1Y1jL8Zqjtwv/V659bghvI8mnpxdGUFZOOt2DyinZe6sZE8kAZiABuqEBci1Ua\n",
       "OcsAAAE5QZsDSahBbJlMCG///qeEAGRpJFqZ4geP693ZYhorZmOzHgYbVqABdUp7M7EppZ/XBflt\n",
       "8Fc0J4KRROBTL9HvHxfysQ6AsNIRxPJAvpTGWDCfqi/TOaCz+bOQTz3amrnCQvmpnAbOPcqo17cq\n",
       "SESIuyhvhBG16G6bKErliWZjgHufxTIuVNhZQzyFZnOmOdo0LTitN8bblE7b5SN+BI74anbdDYG3\n",
       "jPIvstmohytUSne5Yp5PZ+FxxbAVLh4UJLSrgZz5nxV9a+/gBrtfGtrOeAukb5BNGqyDWctrj9qX\n",
       "d405HKv9XEP60KMIzl/4uEKG/XuLFpLTWaF/iadDZYgycQUb19LrSpxyH7kbD+3/5m5scZ1vGckt\n",
       "fF1o5teY6vltuh/TuUrgQMO6Fbsw2K3CLkQcuuc5wQXWgAAAAbtBmyVJ4QpSZTBRUsN//qeEAGT4\n",
       "TylKSAWAoMintcN4AOHlOAmIrw4fPLC7Va/YqTMEseJADCVtq2R6ZFMhKtt6fzTYO/234dhlDYd3\n",
       "w48bE8DFUYNqmNUpa1BSH0Dboe9jTwwmRAWfosIZ232yDHd3qXOxzljUKtXteomK9suNFJwM73oq\n",
       "ryVv376jZ8CzTK/navT/pWca16zzwZMZWGcmKXVW01RViUtPOgtsuo2xqV/67oms+LHhWjLegmyB\n",
       "2PFgr5UMa5cHRoKpMuqB7gqvf7b2KhXIR7qzK5gPw1M6aeMDd7jZinMC7zOrmcNPgx1DPXo0+d7c\n",
       "JZKfwfBdVDzePBcv7NS44drPhtatrEYWtYlVshrHSa171Gs4QujySpBEvRSTK6/wYvzzTwfBsjGP\n",
       "qN+22hm+BMB8OEIKFaBRKfa9E/lj1F0nfMq+O8Lxxw+i3QyZW9icEV5LpF1ybITqGDnqxsvE4aUk\n",
       "E5U/hNhkrvWllJuwONgkRGLB/hZSN844k/GAK+sdRoPp6sEThMtnr15i848YeKShtjhRiJBshHcV\n",
       "iUKqBsX629VrZii+HzIhq8Fd8d8cGviHVQAAAKwBn0RqQr8AUfBPSqJk2zgooY5DQz0G6a1PBQb2\n",
       "TQAOU5h9P0FBTqg3vQAqvJixOLpTnQUrFXp6hVxUUtB1aHpjc8hYEbBnEnCm1HgxIXXgc+VzGxc9\n",
       "4hXhMxjLTNhI70Fr/gylny3OFYs42HKi0je0VmBgZT1MhUT5b4vdeXrEwU1HzdYecCF+jCrBbX8r\n",
       "Pf8KO3l+DOeX4X5w/78+WzJFp3rTveXJUXaDRBlRAAAB1UGbRknhDomUwIb//qeEAGJ/o/R+3HN8\n",
       "+Nl/fnWQnXKOpRP4si50gDBRh/q66+elWSLw+rUwWAWutZ+QfTxM8hWwF+BqGejzsD1AWFX6QGip\n",
       "qebzqTPEDAx31ld1Q45SFEG6nOh+Xd39M+h+lo/47tEsgY+sW2EGVhYcWJW56EauRNIwwKRTiQMK\n",
       "FkKLxTn90OsdMCmT2PeqevCNpPm9I8wVQe21KcnQ2fmr6DBYMd0Jr4RoiZC62oUQhfD5n2ztK8BD\n",
       "p8pdL84PlFaWin+w944l+W9nNOowcIPdr9RsYr2FQ+trSoZVWt90y40BF1M2RfdqAF7FskmvwK/1\n",
       "kjnK8Al9qCjXNpABN72qrOGmEjb4DX2LZ1bdEaPVb+6fQJf8O9YP8awR2YIIV2GETBIGePFYMIHm\n",
       "lryaRpHa5xtcxx1xsUuu7zrK0TfWVzO6FfUpj2CzD1C2HVybpMhPmjJxD4uEy2e+JQnOK2rGcDf9\n",
       "e656nD46jq7XhH/WkEZ0uvzfEMOzEWe1+I7xPr1+WenJQWE+Izbo9XSRcKgtpT6YZ2WR5tghKswq\n",
       "7ZrxSg1LuQ4Jnda76OS2KM1JPgVz93lU2f6+cf7/1xnfUCDJdVUojOw65NDQqYEAAAGiQZtnSeEP\n",
       "JlMCG//+p4QAMi7GAF9kAN1eFxz3tjToVbGnzNAHPV+0Rf5r8PTVD7B7YsjP1waQ3Sz278bxe0jh\n",
       "3b10mOXoe2xqoIQd/n2MRmjqSE7mE2cXyAeBsjbmPKDFAPnA8jCKNvk39KVVV+czXClZBOpLTpW9\n",
       "+mIbj746IugLYI9S2x14UeOqxzEcszBDer6AlwZZO+l/VPf8hmDQpluBwaSSUI8Eo+KXcW0PV9MW\n",
       "RfYzxlj8gTOaEvOKgfWnmXgtaysK88PaNJ/HaG8SlDANveVCH7OLKSIzO5r/QBd7b5JqyECoS+oN\n",
       "DIILDiSq37xvd4czb7IDJ+d8un+i+dTyEQFJRbXta+Cs5UnMb+mBY/2Kv6JANf+1OsNzCw+EIJoz\n",
       "3x1O0PeGl+DGuoyyhU3Pm7an+vgNfoNKJ1Ddlt0bx88e0Ej7XBj/FqpZUCTufc//rpKAxBdOMLpV\n",
       "k1qRF6fUlLW4FUUc121boR2mZgRoS6BHl57NkOsF0aK3BkRxGqBJ2YKWj7oTSeNOP+1ATUdy2Ozs\n",
       "pmL4mOigQ+UNSqjtgQAAAdFBm4hJ4Q8mUwIb//6nhAAyf9H05/m3SvfG+c0AmbpoFNOYrF/6MzFQ\n",
       "V3ooJj1ejJo6wRzPuZU2E+Pkvx4PPrdruR98LVv9ppGsJN+QZGyPZUtf/YGPGYrH3/oSzrwy68Dy\n",
       "JtDLrndQ+8cF657Ef1fDK+mBIsETusICEiuLB7VFMHYzRR0mwFc1pEiDutCarAuZRAd1NScVWw3D\n",
       "AqNzaBC9f9eQKNbtdPDqPcZyfGleAch4OsGpq+FY21OohE1PMj6p/SPVOqP1C1miKli9qbaEpqF6\n",
       "oj7E/97zbL2pcLuWEiobl7w6OMp792eNAtHwbh852CAMLBnQePDQT0PeSnabiC/WZ6BmyC11Xq1A\n",
       "UNi0r23/Tqg7uZL6AohMmO/xTDasafRAfo9NVNVQzL6ADrT6D3uZDi4kfKQSPCnrB2eCwHlYNoJN\n",
       "OIHukodqNKo6PuaoU+XU+5L9d1t2GhtAXoWTLS4r2OWFqX1MZeBTx3XrPcdvAWwe6UkBR++0ned6\n",
       "L/2IUQMqjkLMe8ShTcrTtfkVEBwFEW6jguaeE92kTS2Av0/ujMhP+y6SV5khBHjNG4TQHOQOLy+T\n",
       "NBDbMUC2dlD0nMxARp35WNhCIBEt3Di+2n4AAAGbQZupSeEPJlMCG//+p4QAMTwnmSxEOV5nunW3\n",
       "DEAzXTcSy4BVbX1h2tSCqBq/fac9k7S4ARfiTFaxDT3rSkl0LbzZJE+OH9rVCurZuBKgB9TJ95c+\n",
       "BFb6AFd+o2rv1QKNIDCR9kPCJA+R4u8Rk391P1+m+2KC52G5plHKHhsRJ5JVfqCq4thf5QvPdmLT\n",
       "aDwS3D1de8ql5gz1QItD+v5J/YdnDSpuT1b2nuPirEjOOTyml6MQtl/tSD1OdV2PsSmLiUXkRcFX\n",
       "UFboWro6BBf5jdDUrCpvJRKqYjWv2wXYScAqkl9JijviH/W+cpXGwg7jTKSgFyXfMWWZWmGM6IIN\n",
       "+xG+0QB9hBQJnMesvdHbhpeewtzi0PFOrpQVDSScmpykCh7t/PVz/3NFS05ohAbApyDi6KGWheVT\n",
       "M3pKXVEprGNZNq3nS0wwfvawaOsC62BysFqPFgEG67YVrne3ci6C+qrn5HkWYywpRNcz5Rqo3VoP\n",
       "3iktqzGOM/u3DflOkRE9s+lL4YpgRUCci4ZQDtw5JgALBlPmL3reACcgAAABrUGbyknhDyZTAhv/\n",
       "/qeEACHfI2VVMgF9sALoxw/XAuP+kOQ1kxU8C4i8UWKV5VBL9Eb2m8j5Q7Q5D04NSYdk2IAM5y5Q\n",
       "T2s2EF219l5TRenJwQqvPYYLvb2SKK3Xv9x+2NjAyLy1ycI8GVUf6XUAAAMAAC7XCI+R/mRMopAv\n",
       "aoqC1ugF5QRVkldJw5WTLbqKarOLwsmVhStwDamIJnu/2zD03oGMvb3bZyGfLC4iWHNfAplFc4HB\n",
       "kMCDGHP7Bo/untbnAZLu09r6xoDmxhTTojFJnCLl0rCMKIem6/RS5OTDJPAtWua05ST8rXMI1z6I\n",
       "oeTVwilnCjWNa0kL50pNraoLfYpjabkFa5XH0gIWvO/M7mPdr1/uO+OgD/dV6og6LQViFWegWlA0\n",
       "VxFSorc1sbUGdFF5JsWmFBNMNAGZmQJWb3V4Zp4lybAwuKWLDIXsklP13XnOAsso6Q1GwBy7I6jl\n",
       "VXxAjS5zcrLjc/ECZBhxm5L3lCU+oG3mVdxB/uIr+bWsBc0wU8jGHiZz620h1gLWlWQyE5exHy7A\n",
       "jm3nNITICPZp9opqAXTkDXIC4wAAAfNBm+tJ4Q8mUwId//6plgAMt7cBJ3Fdv2J+AZZeGoFDyOTw\n",
       "lTHTjfX4ZbDB7XumVl5O+ahWqFmAzOdc74+3W9CJ+yOayA9MaC1jOIGKZHom71mVhNzCA76digb6\n",
       "oyT5pLVT6XGbYu0P3ez0hu5urcvvE43Vm+hcP7XRNdBziSjtxXwk85EihHsq2jZKIpdOuo2blmjy\n",
       "PBOUr1tceDTeZC1BGEDypj/giaHnrR2pvXv/TFwCK40W3ljsuQ/weRZHU5NlvRrPVcA4Nr4/z5qu\n",
       "6QeuTXhiqrjEQIuD9CkK5uzhxrp14XKT+kn9txehV6sqy9RHY3VsuDz0SC+UCh7NykOvB0LC125F\n",
       "GBGxCJCEEUJo2NS30vdP8m4P5S/y4ZZtgNaqW4wf+i6l0FeGBuO+zVD/d1vaQHgg83v82XpnmZho\n",
       "74yFcWR1FRsLvS4i4ID7Jgn7GBFVGpnviSOUbxBG2aYAkQAlJfueSdtUYYW92ykVGwOUwcCpjg++\n",
       "hWve3DuCza3jJI090KBz6cIeY/zf+JzJn1KHdI3G6jCQo7DzdQpeNXIdTnYWx71LVpACh+2m3ien\n",
       "Y/FXaHP/1AMUjYpIwO7/s0xt5x4RTjr2yVsjGhQ3c9myDpJQbAOaRYTWegzjfe4fki3no/MF3SxD\n",
       "rTL0LsHIh7KAAAADD0GaDknhDyZTAhv//qeEABifZT8F45nQfxzQUqUmqju61UllIpr24W8HN+X4\n",
       "QEwRgA2q4G4VPbM0qhsiNyHrHy/YK7v/2YgiHPANhh1Vn1b1uGAdHESA4dD+YKPXDLZiWmbT2N8m\n",
       "uKjBz3j8KiyZTD/bOHBS1ueY5HytPdAkn/OAMPVN+zBYWP/phXVc+WhxlHn9J9E7EPxz9pUefcLj\n",
       "+s2f14cEK0JyWrOTV+pJlOTLEY1mfpdS7oQO2pYb/j9s0k1Jl2Y/ordkIDahevG2kexc8HJdf+yT\n",
       "kQBo0+XRoFB4mmISme/ZcXQvARo6GFZkPFAhPyah0ELsDfi13aA0QaLbDJzjfyj83PRIhbsliAr3\n",
       "uleziZ1gahUHRs/AZPcvd9Qq8PRn9/fOpnnMBg6K17FcpCx/MYNvLlU1QMHTDF6WgzwBHGcrGrB7\n",
       "JRFLmdm2qNJIlnWbWzfzxtdgukvEM1Cc5S3dPd9LR/sAQRMwka4Psze4Og4zHTFAqq6iPgVlsY0E\n",
       "+UVn4mS9OIh5ICnb0lq1O5WdAzfOUb6GYD+MsGS0BglRLjWyOFm07k9X7IwR+eYom5UwvlVlZ7Cz\n",
       "LTy3qFM8DM4CkTCZU5TvYZ/StCBM+gZp2BKPW0drlYZehbqqViKcvBS1RXkETnBBsjlceq0yJUEn\n",
       "jn96MARpMLhuHjqmhmuGPTn5R01VVOc5DHWp+Nc3nY8NXs/fReEqLzS6p6zrTIgRnqBF1Zk+7h25\n",
       "1rei06LhYiRpmvt/aMV2M5DTiWuUfA1fGRihaL0urxauVhNM2ShhYxAbec+uMdzs7vIPNNtzroSr\n",
       "14ANXXcfuHHjd+HpkJCvTY5WJM/Ic23mjT8DMar6153eZ20pzmcHcx2OnswHM5fgBYzhakOPKKfy\n",
       "PFPp3CGT44uvoAxosmCr2o2qsYL1Lvs6BA7Xp5WmziQW0sulBz28fesnn1XsEOWyGGQuHHi9MJaE\n",
       "he7FN6iRznDKaMaRZ5CzmOvIJCQXHB/uMk059Tpyub+7H8TUliSoOb1Uof6veEAXice65+DPgAAA\n",
       "AaZBnixFETwv/wAQqLr3/CA9r450eXS0BdQ6iZAC54EvBppcZd9agEWWoeubADsfgjVABjPFmd1j\n",
       "Gc2j9aGOz2FOkem0zA7rSm0SJc9aql+2Y/RY5g4D3SW9dAAP+MuwakS4IkDBoT03HN44H+i44H96\n",
       "eZLNv31g4RtTC2Ix+Y3ypSKTbMvewdIAu8qEayZkOEU5zLYBS8KOPhVwtpypUaQKBexksbCT6eWo\n",
       "u+YTjp6nbwoHKApDAPjXI/90dwGW9UpsG9N1hUhFGmDKTb89Ucl+8ULLUY3ajECblPKaxctxP+hE\n",
       "8LmBBW4nLiIVgQOubRM/9uGbTBtnSYGqXBmUDuGIkkerQtgWKz9xsbF5bsguFHBgCAu3sMnFcF0f\n",
       "aZBecCEII0uoC5E7D1Q5mzSglZ4n2BUphCqGcNPrrvSSbgtthKZ2EUmVg30b0+d2HVPL+HSwVXjR\n",
       "aP/wMF1/OOFj+Y/NCkGP3XiDnOqlQS//p0twAhmxugHsuGGkgGuCG+zCBI/q+/EYzWpyx4D1sVgv\n",
       "tUuorX1f9I1Yi8jvY2HO1eAAOQK6D9w44QAAAUsBnk1qQr8AF0sAm2aAOKiS6ZSJmT8LZlnbBbba\n",
       "f89iepPHkpMYDFnqpf3LNJo6Sn4KCFRCkOWDLFfGtaE9XBE3NEcVNq+EbSox+w6Y+3GHrkLIcDlR\n",
       "wpvuImx4UJ8lE7ts/E/XvyvvJ5q4/3bffcvkjRuWLpvJTuAOsNAsLneESUvncPIKsvzpTm97EZxf\n",
       "uLXcElIpz3y5cOfF+y1TZQZDw+LOPlB9AUJNJuqaO72W3NHS35ty/4wMIsASNJfFBTjwdRxM4Sv3\n",
       "LnT+/KKNZMCaHJfYiCAv2OkXQiYUYgJ1BasL8Ey0D0IiXZ5wKS3LK6O0xdnsfXT4DsxElEbpK13x\n",
       "9sn0NsZQrq81GoCwOkpDrDozBMZtP0mBTFXXhcsDcF/U16QymSpqwjGxCIYcWrQeg8Mfq59uVSQu\n",
       "q4OgcSZrTv+ue2JvU3W7PefNAAABSkGaT0moQWiZTAhv//6nhAAG5jj8AFSe76YttC5nhBNBerWw\n",
       "gakd9wPiMEX0FLilxSQsboGHigRv/O9xcLp53AbDlzeBUZPGpHxcLzy3EP6ACPrPafXnk7pmeN3G\n",
       "yI3ILNWnIDzuw38WU+LvEQ8UvfuwloOpoZ6IanKoQA/61FfRRFfEgkFRoH+54Yk8HsWDP12hSaWu\n",
       "DwGXe7b7Z5JBeGP/SYAsmJVAmTlx1MGX3Y77Zjqduvbb8iBYK1gAj2BQHSUmC9aMkUrIWmzncb7Z\n",
       "Hif8ynd6xdIanuPnU+OSRq1SCvZnpKZhuJHOOEdoNABUMWGnIx0KO4Q9Jr5IpJLmX6fEgTXE4fTW\n",
       "cdjeOA0acj2roZKV4wSmgvAqZiOBo4mncrDAF7gWzZf9eL37RDH4NTjgrXdbES9mGNe1KY6wtYR4\n",
       "VvLcmoJJn5YS8QAAAitBmnBJ4QpSZTAh3/6plgADezkqSlgABdOWj+3RJuCT1ptakhTGZE1um/yF\n",
       "WOWq3cSBfRybnXP42WIspmbPC+zWFfKLLjpumleqs7ooZGP1gFlE1lgEDdhMvJD94GXROBM3vMPf\n",
       "SDQUi60kLIKuePqmXZGFA5BCmhJ1JaupydAHSB0yk53JFUOzf0RSHR0zWEj583A9u7+KvzvGp3Y8\n",
       "5mybbTawI2eitNUkWXYqSEmTO/enSAFXt1Tx73waijI05K1QHg0oIaWG5loz1MjARC9YERUNwoJq\n",
       "3a6lr+1zwOHRhx0qyIekd1r+fw6U27kJMH5dKH656u6A0N5pGU/WhBSyMWR5ba5sITkE88asNqOW\n",
       "/Jqh4MJUrFHKTal8jNQoBTTmXT1CsuujxWEOJEN6mpLWk0fhViZfgRFDvvIdtLMoHeQ8QTRnlutJ\n",
       "Vjy01NQlkzottOkb92eP5VFc1gEu6KFFwYi8cuPAXwhz238m+KqZwQoqOm2Zi4b4IL4OhcKnrPb3\n",
       "XlMPhb6HppERl7kxWbioEFDU29+wyS/olkFYAR+B5zv9epnVqMW6Wg2oNEdZ/xUa6jgU9mMvkfz7\n",
       "wqVE1OaJShXEKdDUiMVFUBU4TGt9jBPkujjVOTkniE8KRcIIo5D567cYrybvIiF4H62GNXoJCHeL\n",
       "J4TkGApnN4Ad05tD12XClZ7xKAvc/anosmtKwpW+GikVGVt7a2qvG0iCsdyLMDjP2fCFpH2ZFPAA\n",
       "AATHQZqTSeEOiZTAhv/+p4QADczA2AAqT3mUPV5oF4KoqdBrJELMv4dR5L0i9sQpb2rkfLoNZXKq\n",
       "gCQu8iyEa04XIy4A3FEIL8DCSTmxcBThbUJdlHZZDiKXhJcpngNIqShRgPXfjjipROUNPPc9re6R\n",
       "j7RNAM/HnoClVsqrzKWu4O4DkKntjFD83JhYUUT/vL9tSHIBVcnTSPJMtRXlvC5BwQ+tDS8nwImw\n",
       "Nuw7g7ytx09u7qzTJ5xiQynYNcUlNy3E9U4Hm8DR3t6e7ynz/z818d3/jigJa4pHWD0fDGv2QRGM\n",
       "8frrnHQ1jnRMemXjgTS40X+zWhxN4lwJmkdxMmZOklzQyjysgJXTUyXkK89cBo0eJ9mKlxAs692M\n",
       "HArau5XD/u/PlGsOwVJJ1Y5lRq1+5LnWmoi2MQMK0ccNFLk4jJmKxXa9d3Aeho7ymkZZLr96Np6I\n",
       "QW2uVOkoEpfh9FzjJmmuFU20pOE8+i0KLCVaHdjrLKGYHeuaDrQ83e5gr+CfZbeWg0nR4wuHL9ak\n",
       "I8iS7UOGz8awgwyJ6pRAV77guDAaTI2y9fJT05hY7+WHAJe7IfQk4MN/mVlio8fFcWJmTd23QDFu\n",
       "XJhHyxv4IljChdVDjAuMASXHF0UMOXGTWngaLG6WF4Rw5pJLX6fSiMXFD2u27uQnlccyf+FeCywu\n",
       "MoTi4D6P6IZSQKYMWGTgEYlPQNx89/YOjmsrpN9ml/pEhk6hYJEHbDCa3u9PX/JsbB/QU7rrHHGl\n",
       "HQ/Keayj6+SvxMCGteztLR75p+v5WEq6gNLjkk88Ni1j7Y2Ee/aQlRgh/nY4fBUdlu3x8kPHltbt\n",
       "Le1bn0Fwy64+0mZREb4mXxI3Bux3BomHpjoYvFbrrw8tGNM2x1mSk+A79DbUrnyV0KjTEtyc2/jz\n",
       "0AdSSbUyNGKe+USCw1KhXKwOhdg9RFUyZ/1UCGuuq4WpDtS4AavdeFQiGa/nPp/p2ixPUPqvMgbs\n",
       "O0ADMQoQmaMCt0nmuHBAN4ydR0dpBSnktKrFuDRDoVRH3RrxNst0D+0FIS0V4AVnTPxiDn3SUdyH\n",
       "HEm8lW9C+ihkmaybYBooKXrOsLC7dupOhQLjPneva6gXSuqBEZ2VS6uDQRtswCT1hpDVZEHgnctW\n",
       "SlIXX8ZcKvCDMaMH7gLJgFmM9JTLl2MZkAwtEf9N45ga7IO5m+kDtXYqtZx6A/VPQVforx/KHmQ/\n",
       "JZYIOjK94v6FWziGD0L59/w8T8cbzNI3Pp1I5xZZuTv9GDl0nRZNRa+rMsU61LL981KMHr2WcMNe\n",
       "lNOOt60iAWAWKaiAASXGTo9Y6nqUvga3FyYtPLVTS89Yow9tSSWeW2RxzWSTPVWfCGbwiXfSuSc/\n",
       "XbjVFBJVNZMndb+rWen2wPGzQUnZrbNkAcQes0UrfSFNWK5AEKiUXbDunsDBYGOQroDnvbASY1yY\n",
       "58HMmOQYm+XrWomqtke8lBZN1fVxgVR7//gYyPFhw0pMxXkTanzx2laSdJFp6POyhT/NweaFsJsp\n",
       "VLcOL6kfiKXxgIhNcbELLYIkdAucMz4V5jk+7DI0VZXT3BhSzpcBq7CmJUEhbeGhvbHOmBd0wUa/\n",
       "TP+Zb1+OxFfrd1wWkZzDZwWhx1hgziFgo6nwATUAAAIPQZ6xRRE8L/8AEN4vfkZSOzH0NTbSZoTg\n",
       "ROldC3sQgBB+NZYg7/3gm6Y+5IxGNOdNAvCAmZVF2DW3KBpF8kOqNuRLOLM/pBigeZkoIUOuY9Dk\n",
       "vNYDMhDZiIsqRlMrtb9MRBiTTLuNft5KYxOdNrm96lJLq7pGs70MowTSuHiA3ZFPk4A/5xxbEu4h\n",
       "Z4UIx2ElglQWAPnq6eF84PBy+ipkMpGfpXLTLJNHDt8H5NTQBktzclOa84MYeMT6eIoIWJTeNjzI\n",
       "F+xMXWysHtNy7LbgkcNSSO6uhxLDt8cbkjfY3M1y76TOlWNE+T4tZRyoRbJllw14l6TgPbhTXXR5\n",
       "1b30e4sv4dwJQm6qtu196Cl/dKcy0sOfhaQxwVb+FkV//OoXmph0QJnHP0Plf9lOu/ay2PQMtt7C\n",
       "r0Cy1WuDO4HDBg0tzRdlBHo4xij9yE+XhPjTUZ5KOXZKbMwU5dnenm/2sfclAGTZ1OEIo8GPRS4X\n",
       "2u9JPORn1AZKJyPtwXymluu8FlAQ8OxcRctvzMiNIEN3TAt0Uzio6w5L3s5/1SBxpMHHtHRom/uE\n",
       "FU6cC9xXwaw/lH7W89KIvWJ5sQ414qNFStf0YYMdsJLgLWpOprA+I3wNB7N42v8kJt4YKzBD6t05\n",
       "f8n6PL5AOu4mS8reA4AEY/Xs1Cf6MplVxrr9f3HcNtooVJ0Hdt26gcz7oKoKTecAAAFIAZ7SakK/\n",
       "ABdLA+gshXc/GPy7mACdPnX78CoxfMgsWyXhW5uLDpTT+ZfU+S9uBBecv2yDBEkTm4hupNonDG3v\n",
       "DykBqwimmIvBdozJQpCTcYYy9bM1fVb2H6FvyMnfwIC2cMElJdPHmOTcOGM5PE/T0z2qKv3dlZfT\n",
       "ccN+8ex1Y7RnH5gKjwy3k8hnRofZ474LEU7s0ELGfsEJfkY7oRP4Ei4wtYj6pwg5xv9jTAm9YNep\n",
       "4iqfXWzVJ1zETYNsRxlLO7FZjxooYt0oo6GI6+Cf+4Q7tTRVivxNCn0Yf77E8d4bqTI9UZeceE7I\n",
       "Ze2YTksje7852c0OeZY2dtGlPCYtdd/pBYpASYOIpXCVTRukt14hW6r5KIcm7YWAOnvahCacnGpf\n",
       "E3H5ZAPZXpQX/1CxjopSBmNAi5uuSyHPl39W+18YIHhhMhygqQAAAuxBmtRJqEFomUwIb//+p4QA\n",
       "G5jw6AA7S4TaJ9VGEfUpBdhOi+vVvOxFTzml/Cx9NdsxbhaogfVLcx15gAZce+kXRYF+3XrdqxjE\n",
       "L+Zt+/UubgTDH9yyEHHL+oi3oPJzrZS99XM8QUMGeOSKElA1gkyYUZPKbOK1/EmdB11zZ0w+Jziw\n",
       "PMm8nson8O6fBvzR54C5yQ2aXk0zjtFSXE6iDiq+uAr71s9tF3YZCvrlqIbeuhPpHH5WtQKJFV+K\n",
       "3yno69KffmCbeKChXIlu9SwzMSNa40vRUgA5h3NxddU7JKdw2FJtaN95mnqdjftL3brwGSO7oDqS\n",
       "iZ1pArI4PO4l4jnezqs6pIP1x+glv7xefEfltIniy86uyHhRzXLL4ZHBp+uptNWBDN+6D6BUKqNh\n",
       "423MLaA/NRPSlotrMpIYFpok6N1e/WQJXigH23kwoMbrUg5WfnxWZCLuIe/Z4y9fbAMuOUp/kiCN\n",
       "hjh16pisIaxTUA2T8X++J+A+icz3Byc1n1t9UQeSddtl34drmsW1+44lKdP4evtIOzhQFe1XC86Q\n",
       "zCK4GtngfJIb2+Kxq4K4vkFRVeRE87FaWTBtVYGbWQ922aiQrXmrRdjX+vqNBLh6LU7a2mGiDiBy\n",
       "jCUWpT5PkW9pBDwmUL+GOaRmPHbFSUDLsM7K9L/qSLzYUNoG17MaeQM1WSS+Ov/qjbJ3IaPDWLWG\n",
       "oI/4PF8NJrN9jCR1WOkbAZkDUj4L3MkzcMiFybLW5Ua2/gq5/KnxKOQb/67WIqudmzmAt3YV2Y8Y\n",
       "gcb3et7imBmnGH4hqasBBe7IRiNZnfOPkHLH2aLDkqyrfYtbcL7ne5xzWhNHocGgRLItnLz4pqky\n",
       "p9fYByLPf+PONU7IQ0d4uIRaStwB7Fkb6jwT97rUWU5+RZoHGke9w0nrUZ2Pcno6D+srMdaQQ1VP\n",
       "yPTEOTOk/Nrm9ZihTCnmd6KjG5pDznlEbwvceXeHJXg6YOx4GmRSYWPe48KHEq3oAAACvkGa9Unh\n",
       "ClJlMCG//qeEABxvgZ8xpkQ2TNgCCoy3IyN7Dw/gVGMd/vXcWXlChF9Ue/q7ynP2e15sln1f/nFW\n",
       "H0JGGwngtJIuU/EaDLnkvvZFtTttClm1rdYdmUZQroX6PnzDhL1IiEYHExmJLfsq4FTDxIuboypc\n",
       "a1SQfqpZXYmgfhG1+EmnL9C+uLDElEVKhXk5Kg4M4ieRFHrrWEkvq1B4wCYNNVOYA3xGf4TAM16W\n",
       "9odxU7pRrrzxTLyJ+7RUnR0VPDzGqIVXu2v5x6vqXNpLnfCDQ37rIuUcMbcpYiSYMF4yPlaqA4xh\n",
       "UvdFSsjUzm/jvpbzJQ/SXpGVPfl6mCuE/fhmZgRHiEYav6rNvsOeCFmPCiZ8H2m4oU+nvtRuKgQc\n",
       "Pz+/50YQsvbr1fCbSsarQr8E8DUGZeGuNXf36cSHV/kgZl7Oc6Lok5c38aDns97emKlf8a6MCzm4\n",
       "a3luWB5GikNxdRN8jDaBcsO6b/fWKJRMu+ZwpJI/iKE9VLzX8F2q3ypZ1ZvdliULHUO920MNXyWZ\n",
       "XVkeltp+qSoID11j01DnOxmacvft4PZMyQVLUhyDEtULg3pUJqkeqSMofhMK60pWcfj+CWi083iB\n",
       "7FJNlBnBYKD8DEyKlxBWylRtv/T2VmhtM0oaouPF1lCu5JzESnlLgWV5N0eKVzYi8FM3CboifaEw\n",
       "khnSg+1vUsgYEQNFsB24mkCA0KxGqvT5Ab1E2DctCmV3Uh64vYrBWCiYs3h0Xc98exbDlGlS/AKB\n",
       "Qtwjl37uxDabwNMXgdNxso98xN8O7t+EUFMhTrjHghTPuAFGVDUZBehHVQVSZOfNju3r9s/4uEeF\n",
       "ESw0wXDQhZFAT+e7kiPrOqNQjRsfvSwBIQcG/XmgVl0kBt34NHjR0Mmk64uoLbS91W5Jv0M1+RJk\n",
       "ON8yn+dxsCxK64lODQAAAp9BmxZJ4Q6JlMCG//6nhAAqDh31sRaxSAD9yBiQdZo/FFufeBhxHdkp\n",
       "kXmfLnL3673vlkF2Ck3ynyOg6ohawRiSR7naMWGEMoZh73sBD8cEguAtl1wrREVSPxOLObpAdJWD\n",
       "EVRljVFtgDRI4cf6quzJnSj8ETifoy/DBFDWnH50RQLzaEjGR//P4Jy4bJuRPP7zt8SvJw2p/s/J\n",
       "muLgcVOnbSOSL/irCLH4zwUzs8VModEy24R1FT1F9ISd856Q/pyUPfQ2pt6NyTs1suBlyhY9qOoS\n",
       "3MIgCnBeidMTWDJ9T9wpsSgt3u0N1BN897uttfo/nQnOMwhvNqDMjeJsJ/TdHQaKYrxr0LhF1L2V\n",
       "u3k0c8zw777wkOeJe8tOQJhPVDnVILQP/NqOgpJSR1zfh94VNA4/T6MYhzVG+Oav1pnIlwtcKilX\n",
       "c4Hbe0KG42ppGoMQiqFopK75ybqsv6MCBPrMjYe/wrE0d+BcGKl/XMtPT2vnp3t6Xcl+HDLf4FPt\n",
       "QDFHZ00rcVS1elPFft1ST+/IrRxI/wqBILnn2kSs9DXrL3l2xrMCN0DQaMM37Fu9YWNWyT1rNoXu\n",
       "MsKFPnq5DDcgdWAy/jsOk2yTpey4/t87SpeZN1YbCpE134xVCUw6jaKpCMUZg6GY3anJYQvAjaoa\n",
       "YtXdhmRJURZRMyWUU0bRwIsrdPZ8m7A5A+k42uZ0O1UXCTTHdlgBA8hmtBl0bz+cW7ZnnOuDMUeA\n",
       "8dSx0qVa/jSND5WYcL160v3+SHTHlLGQ2KBdbmES5EKGHUY6H4jmzbw3EInx+3+BxiLjFjGcZaCI\n",
       "0DDNjdypFHMONgPv1auAwLIWnsj74HoWtuWGMYeP3LcknvGPMCVuoC26wwFkMitY1ZtBTJkWXdXg\n",
       "JTVbOAAAAqZBmzdJ4Q8mUwIb//6nhAA3MeHQALquQj3NI8cq3XOlYqZod/u7G9eqh6Y8jc/y8+8u\n",
       "QEkqWWVWeUqhN0LraTfQy5j7lQl9QWOwSseZqHJ2vZTI3m9IHnQt7ajqrcIHceqlGoXFKFjx0ZNF\n",
       "CLAYDnny/O2av0F+Bv4LP0gi4wMp+wn3mOgPAfE74fLtKP3UHwyIUc6PgObgHsP/bgzgGS/GUBp4\n",
       "SiIufyFzUub1g5JeKoU8HNuDwmxNdWFHjigmkBx+P6czP2Zabx7fH1YcRDl/EAnubfSrO0jO7VRZ\n",
       "Ymv+ALTJhHIJzeGfuqdUoI7w+UQyIEdTjlfO3zywL1CPF4RkN3bYwPuV2T8yRPjoVTgphxjCTD6Z\n",
       "971LREBu0jgd4E5hLwPUjk7QySylQsSM/QJnhb1RhwV+u5378qvYWraiLPgRsJg13aLggxJi1Gzi\n",
       "8bBpqJi189mr4w9JQ+z2Pydyj7IVIslxviEJEuQNqMcP2++SetAZ+7DsPz5jn6aJiZTyrk/r49CO\n",
       "cau0sU+/z0t7vqRIg0cwgPkfdHmzOko6QXW2MyswO2ssHh1PwE6zkiKlJIbk8KIYZFudOGdow2K5\n",
       "ZgyF1WJSc5+VBs4QIbcAp4DxapLMirVXLZWwL3HUIaWN3TAuWRizhk6Q6T9hBzz+cTvrhAiBwB15\n",
       "Z6G7aliLThVNK2W11y0jNXIs6BjPb8dkxbIroB33rnc2u6qkMcR65X1nOo00K63BssS9HysBhvXB\n",
       "WJQl4tfckBn95BAqhySePt8Us7NEkbZ9TdaBtGD4CgZdMYgW8FUyaGA5MF/P/ygt/C0Veo0oS2q5\n",
       "Jtp8DQN33S23yZ2T7v3nTsUuTbhHqBzy92SqnCPE6oH3q6Ur8GbnBelYZNp9h+eTcCkXf9PFdFNp\n",
       "z3EAAAKaQZtYSeEPJlMCG//+p4QAN1HuxnIgA4SHhql++RfRoxbnw/HvIR//pWn6V2gmLgAN5av+\n",
       "H+Cc0vSpecynh8fJjB+B64pAszIe5FY+MZoRv0/M2dl01TlMaNabrlNO5MZrMBu3RdBRfEvRbfQY\n",
       "kSLp7WfV0yenjkssE8/Yk8X/YQgt+KKyIbGhGY8Ym+xtMjgnNHFJRQkPeqpSrpLWijKP3L/znbiO\n",
       "LLzhM6/52T2wL7z8lMnaiauoDzi36/iIA+PTiSBphuT2+FXHm98JwQdHctKRL8RXFAIXEqW0+Apb\n",
       "BjUg3/yDLL0esePq9DFtl0wAP1pl/KbwPBJGFhiVTOLB7GkknITsO1gMtr5bRGPza4fc8J3SoH2z\n",
       "EIkcvSjfBdEPIny2opBbax82+K8Jb2EMMWmdvA3UPfRMuvqd6OwX3WyWxZgJnIt2IBJDRgrZPrpB\n",
       "YX1oEz41h0PsBWmDkmp6X+oE2aIb7skZj2lvFCxo8RF2rIPlLDVtWybONo4V8Yapcy7lgVV8NJQx\n",
       "dqtLK/Hn351+P1hWGpz9CMvkm07Gm160vkxFZmfpPVPaaKjodIQvgyTmWalVibO9X3PsU8UvppOF\n",
       "7xdR3kmJXWnp61y7mThNVnaiawVAgKZx0Fx+7VswLvTuRqOMcRurzIniV/jh+PjHmNAPJRqpYyXY\n",
       "Nt86l0bNvF9ntSWYXil7OHQS389EX+I+z/SSViteDf4WObjjsF6s1CxQkdndhRqA0tYJURE1wM4a\n",
       "foIZlOWzF/OErOprcFJf/+Fp/GxIutJBY6EGBhehh1/6PpRMuKI0PtnpYxYaRlimup5s5jtUrYJI\n",
       "xu7nK+qT12RKezAo7/cPoh0eo559TDxI2Fb67QDkdJAJT1hrZfPYv4zR0OabAAACnUGbeUnhDyZT\n",
       "Ahv//qeEAFP2lqDr+T3D+y7giWF7nUwPrw1SN+E4qGcxO2uCWXNrQPAq4HGuGcISnDltZdnaE+KL\n",
       "kVyAa9+mE1By3+C+nWNSkA2q9P56thZDtpW2t57yisfwev7FblZKhP1Tb6JetltejiOvJ8shDR61\n",
       "yw70n3JKg0pGEMGXBGsjaLMhTaNQWa/DybxzSAdTlIRmOQFpKb1JgM8rxP65WoYl9tbeFn9aqku0\n",
       "NHGCR9J5fAky1hPoLJswC+yAjcXfQ92If1oYo2aTYQwUoarabLZgcPJ6MOvqF/xYhESiUGOyZ7bz\n",
       "3TYqVj20/e+aB4FDxveY7BMOM8d685LzIURnNd7LN92dMJ6snX+6POnZylXPU5gmUp/iTbLiHr2W\n",
       "t8dYXxUe3idypIXSNtzHhmn3/5kmJm++Jc4AGODjyUECcgUjFdHsaSfGR+swxo49lMgKJXvWHPLZ\n",
       "JAhgoXrMvHwuY2JSD/18PuNcGhjwH2nEHLe0V85OHXmKVMkBU4lBTSyI3NMiUik6TS2dau63gNvG\n",
       "2xtAcg9LFq+SMfK1bBywkV49hPjPzM+cTaF7ShPZxbfEBAYvfmxlcr7KhDPHywB2h6poMHpgc9+C\n",
       "tyt90pTTDni4FdrU10SNl/xoZQG8u1a6QvQp8uL3Jd3Z3ab7uC3Ryfycm+aCTDdfUD5L922L1+Gc\n",
       "PrNC2pBnHN/8CodetpOOuGEiQFf0EqkkXhFYYWXRXiVI6a3hAq3P3b77ej6GX3nioW0J7nfgPInF\n",
       "jG9M70Ntcn2u50hm79W+GvVDgm8mLjpr2EwSukibbFdkXZNP+nQO+Qf9fKp1CxoFKS9rp/GcM2XK\n",
       "5NnZ1pQW9mXlGCFLroTXXIgO2jI/AdQnfZy0WIY+zHRbdgAAAr5Bm5pJ4Q8mUwId//6plgAqbCXW\n",
       "NQAr0H073u2EbMaop8Te61FDCP6NId0fluXiCwmCGIUn0FBUcc3nwljYHBps7XhUVlSUZUopRtZJ\n",
       "Ses+osW0xesSQmdA0FEGy9c2YSZnsTWfomxT+J+VcY9BlV2RPlDmDEROxEHSWA/KpTBb2ObHdjAb\n",
       "+InFDbufuJ/PfTrCFTe+6xrLuYLGQArSIG3o7243JQr497duYAGWsgpWKNL1prVgnnD8TxsdZdEc\n",
       "0057pLl2r7s47Qk2OULDvBfDn4Ohzwo7acMiM9D4lGXZ5HuIC7+1NZTe+3hEluV01jkilHv2Sfk0\n",
       "ewWZRUH2lVgm30CRrnaDe4tHhPrVNbBT97+hFJpQT4gOdwvzE6GBfzq2++UeXRC5enH+E50TEvLW\n",
       "sH0fjlA6zdA7PBVJkcN83pGCFSqQRbJBrMysx10EZV1Py2skCnauorBJJio4hQ4eauAE9BBn4e1x\n",
       "YcL6iYOhIA65S1oLYkfi8nKH/u58oSOugMxK4DG+LZ9sm3nxbFhytU3V/P5P7G73JzDNIHFJX/Kd\n",
       "6hFtqrVTdDVEHL6+uSXss57P2lZCq5jYV/vk8HqlynTS7JCPEZx5BxFze1MFYmH4qL90NGIC4DnD\n",
       "l9NvlX/mQfTefdffsieCLgURLrCXSucfoqPHyBXCbomgIAF/O0iizxdfzi7DCcFvZg3C3y9j52xm\n",
       "g8AJrEkEB1K1WiwBxkAOIC+FruvKzOUxwBGcjJogZLRk2k5hM8+tonFiu5B3srqaAk7FXxclNlqI\n",
       "O1qM0iO+ybmW7ck6wCXsnh/QDspv0NyRUwV/Qz7Fh/jnnZ2Vziicy4HktR/H0asQSgD2r/gjB0B7\n",
       "oBn4ZJO2WIq3I4IH6kDO11SaT30pOXPQFPBP6k5nZmj/vHt9UrltNe9b6I2H62lSDO4VvvwXKvcA\n",
       "AALmQZu9SeEPJlMCG//+p4QAbmkCOygB0gVkbqZH6lAbPFjdPvTYomvDis/BJyjOFePMkhPfhLgh\n",
       "0CTc9IQ5GjxRBttBckhJ8mu1vTaTvGq1O5DQv8h16rnpYDAO2T1JJm/tLAwzixsO+lG8EGUcRYUT\n",
       "Mwa3xC5lifo3lIFik/U1rvcimXBPSlLWFe/OjjSzMUiMBMKrPXi3KAgdFPRtTPByNfLEh6zpPC2X\n",
       "uDU0Svvt5whDeZlqt47Nw/RF2yPIRWGy+VKZm/Fmo0bzxrw1Nj4xYwc3N1LpTqKT3of+revm7xuA\n",
       "dHZKfhnD1a4lchqSGr5tkb3VsfY3XypVXFks40WELfYNUl8QAs4wLgFv7v4g7vS43vz5XOsTo6VY\n",
       "bHTAxhuiRYex9DUBcNSyEc7rK7E50z8t2ax9tevMpXuaJ6xcigX6Sd72mdKlMthyC2u9dLqTvT8u\n",
       "T+JVtXiHeNP4OpVjGukRgirunh+Ho1TlY2+jsUUau4M0YQYqBdJhU5REeVT0rK+xgoOtkTJ+1v3H\n",
       "6dRVnkFB5Z9tnVkMEYiFPduObXe2mbfDonifF+di2LZRxe2SoIptRRs1bOdBrGZtN93ohX6Rulq8\n",
       "AKX5AbnfY7XpKIJmPrQSD86RlqSGGyulpHgg0Jo/AA4+2Z3BUBEaPK1Em5VyfkOwiYVJaEwSFtZ0\n",
       "VYsSiPOjsmqeIt9N5A0qMnx+IRrsW7qOAYLkqDfWd3g0CW9nOMiPI/PoYCVoA/YQNuFzLBtwnOiI\n",
       "XSH6e7FdFgTDoG09IlwVEX/1Z9MqHiWsIa8UxA3zdBfkk/YgxuawJQDytey9xouPGDyEPZ6nJ8Fg\n",
       "l69QQ3R/EpF7tjlCOtHMzv1Cxw/Nj0A7UqGQ4Tsu7Fg/E0fZELFo+J79BfzNfB3K0uJK2A83Ib4M\n",
       "EhaqiBQGt1ivIpD3VSM65bV3SfLIMX92x8/9PKu2nWRjrd83wmGMb/m/fNwsSZYTVxIuHBJxT8oU\n",
       "XVxSQAAAANFBn9tFETwv/wBBc6nXqcMAveLlFEV2nWs6tlrwEnkNzwMXCv9+sd99QiHzXr1fgvWW\n",
       "BD/zeJ3s/yYSb+quJ+ADTnOM8knrhS3tKn+RVjbo/Q9NcIXWeUaWNDVLftjKgjhrib5WhXdiP6LU\n",
       "LTJ9OeiGEy/iOKfNACMCmLyQhFoJ42NO7Vw9t+d413NWEmkqZzUq+liauU78IAgDhxZ9KCvbE6gq\n",
       "iThysOfk9klgeQ9R3+etHNZwxE1emKssT15aiTQQH1LdRCBH1sauH0bSCkPyYQAAAJ4Bn/xqQr8A\n",
       "guwXjqzGaunWP0EzXXTVrKdMqJvO4hnT4JiwC4lyDRp7HoY1tDVq2AEJiDaJIM6i57jfgqnqUrDX\n",
       "EvPcAyso27YadoCauzMzhyg0bdn2AjT98u5nwwiarPh3HEY5S2YYZp+FUXHYTuoKD9GwpYqGSZSs\n",
       "94FuE8R1zyyQJDtH+xvZSxqHkl2a26jnZp3XtNu5GDkGBFRMKQAAASpBm/5JqEFomUwIb//+p4QA\n",
       "bscW5tl/8m5+DyBwA0cwFqNUIitgBpsHjE29eIHoddX/siogiC4Q012R7SqzGNPuamKcRn7qmdJF\n",
       "VpL+lq61sjg1hu0LOe920+4VZfT0Xxh5EmnjvwNIHYpAnmKM5fJsJz5NVnY31G89+JlROPglsOF/\n",
       "KAPzCM3xCRmeYNgiDnhwGUzkv3ysODcDOC4qMuhycFwK1mOH3Dz4HSk6jOl04yehCYQgeW4Sj2a2\n",
       "Y0FZo4JwkMREVvCgfXVkvsb/8wAOVm8y2DN0Yvs4Z51GUBKuQiMQGpc8ruRVF0TU9XvYAcbNzDFG\n",
       "GmMcfsIpDa+aWbVPFPs9seMiV1cSjU03xNugxNktmST+9Vo51UfLdjW0AyKoGJXY152D4DKgAAAA\n",
       "o0GaAEnhClJlMFESw3/+p4QAbnDh4DeIA1GoK1AfMzLjzm5kndPGNsjgmKHkzOT+Kixsvf6TEzC0\n",
       "271IKZjk/cvgKfqo5lILkUpqTf/2c0v/T42tfuce+ncPwxDnjAs9Shps3Cjs0/FLCRBfoe8DEQBS\n",
       "TCkP1Jgyugwz5cSJfzDy91PlZBd58TNrMbEbG8CBhy1pSTK9Nf/FwGX3N+Fq+OK4jYAAAABlAZ4/\n",
       "akK/AH8r2AHpALrTeHBHOgBGvIYpcApSZdu6qwQQb2p8U0VmN5eTXYLFlV2t5F18OCChR+mF26Tm\n",
       "S95gQUZ6sObmWfgLGuolz/rwgCOJhzb75MZPAbMGsZef+ix6xf3WFbEAAAD6QZohSeEOiZTAhv/+\n",
       "p4QAboo2I/LsaGuoAWw2XgFuhuOQjg2/0ljutkjUMT6xpsNa9ZOz0Z68mZYprILvikMpVyxqVZPf\n",
       "CQCBrBH0UNyekvVffZqp+/Y/tQ4dhD7COaaj2/lAEeekIr//3zG3THYPnWyjciJgQdv3sEYRe343\n",
       "RklyoWAB+SftMLInNz/zgxlmul/lTWSMaal/vJCc70cSdIWmaiw0iVHg5BKkowhidyCHLvAmJZvk\n",
       "MNKUHxTOJLJCRX9APtooTrJWAOU2CU5ueW02jVKqz8L56uLoeQ593wgN7ItHOnhHLzOXB4+kpR0s\n",
       "sbs1BrvFsB7hcAAAAQlBmkJJ4Q8mUwIb//6nhACj8y7U1Cf/TPkRwKFkDX1amBWcO3EDX/J4XhuL\n",
       "oAGf0g+30E18E/8pLqu572gnCF2YclEnNYCReNHSfLlKwueZc68q9dsqugU0yw1XL8yaSybUKxeA\n",
       "pBhtutu/qSkVVsrjRNwXYhjDIVHpUnm58Uslisv8NfBYyYJQprYAAf027Kh2tc8l8v6Zmm+8cCJG\n",
       "g3emKNpir+ypjNJM/eq5Jb51gCKuQSuESl0SRombzD32lcBHHpLNOTWZdh0vEgCGS9NPfyVxsDV1\n",
       "hKBwZQYggdX7QAGoZ2OmMnqV3lbOo2AQ4W7nFLJT1cLweo4R0GZ/dEaLPPycWJTXC7UhAAAB30Ga\n",
       "ZEnhDyZTBRE8N//+p4QAbscCtQ0tFSVjBdvgA2bX1kHAmqz08rsbLBBrGeL6+uhspLeE6yuf+rDC\n",
       "/6y03HoX2sny/MgbYY+1K9ru+ZCAEuoPMo7Sg8VbdO9FpWSAlp2k+wilN81q+JtzKNBl3ZVPcbIr\n",
       "xXYL5f6L5831QunASJqoUItk6NJRkHk25cMLglCv/ZDFUdWMnqUwX5r3dBbeckws+y4SoWeLOfH6\n",
       "0ClXSWonUMLT3RXU1PlZ9ZzA4rutQG5XfAZaCsNTZUNWml7Oxtqh7tu6fvYB2+j7TVzHeUiVACle\n",
       "DGx/Q6vnwVt/Tzt7vwNr7PQ5twOf67G5XEHlxC24Xw3Ayjm8LJCRpTM14zC0iRRIbfO4lhF07m9+\n",
       "gP0gQdnan2oQGyTx3xXnekgStO5QhPLPiNWCgVc3z/FGNoi6R/p2EIOlzcbzXm6cV5Yxuh3epHXO\n",
       "8rYQXFxUampSoAx+Bndx3i0Ch+tNpkJWRNixeKxuu+KTBIgSIIdOOB3cihJpOgj1eeWrnjpFh/EW\n",
       "4lUHZ7Lj7TKYeBoJJfOGzBqDoRJFZ6Qn3031HXTv/3ykwbuee0Ui8/NwkOTmfnrR/x6qaEpCwyAw\n",
       "64xe1PIzSrKf1cAXBVSlUxoDQCOwAAAAugGeg2pCvwBa2qZbW0ImBnimNjxKkUUE/CGh7NsNkLvP\n",
       "I2ykCw9RbTx1eUAq8yU1Fs0EiEI2uUzbCgnTkFVFvVBbUhMqL3mBNogfOJ1GOkdiByrZqbhAKrBs\n",
       "RtEGy5bIdTz/b56NSsVNLh1P0zBx3Tw9cPwToVB9RuprCV2trM2oyTaM1HqAXsuoYUIlShvuzkt/\n",
       "VDbekkOIwYzwVSd/yI4qhTctTW4AC6QnaeU3dntowSJUb9B9dcRAwQAAAbZBmoVJ4Q8mUwIb//6n\n",
       "hABUeZdoTAaywQAUmOu/exZzRs3QFZPKxNtL//ttt636qNx3Qa8/GFZWzg9X4jQoXejoVoRXLD8c\n",
       "ZpjdD0F81t5Owb4uuO/bZYA/bYRtH4Ob+9WK58PUQsm164sa5k5XD+BHWvfmR7Is8wpmdSMQFylM\n",
       "CeC84iYeastHj1LDZ+bvy4K6jxZPSLMz/ROVrAr9NbMVh2RrnAjPNTgn0Mr8ufdKjg5fo0sZ5H0M\n",
       "RLe3mOn+xGJupgsp7hhO+3SB1NdQndIwFe71a/TTPY8x1JioouL+o55BgJ8RuWlJ8M2XYVKz3Yc6\n",
       "ut0Kmbxuh+3qkp/zLb8uyavaJNJIg4xtbRVjVF0uyXqSeG2wyPg3HDHhVfeyMRW4QNZnCgwPIfx7\n",
       "g+e++wYM2EXJcR+mbNfeej3mx59AKN6VC/Fn9P73AGNk3hbyQbqILcJXgA/3We1e2fUgTdCmEXcL\n",
       "gsLzTQuE7rx9y9XEb5gBuTR7aLzcirp8iwaeje/R+sclFsBCr/Xu1DWwI8C2a9klr4iV6qVBepQd\n",
       "TvHEVU3ES+hOaXhfJjUJtZPOy5poH87ZjyEAAAGHQZqmSeEPJlMCG//+p4QAUjmXamoeKkShKSVD\n",
       "C4AQp7x1Wag843R+Li4Iz8sSLiEnCXzYWFSK7MR3IVs+p8U2u8KyBhbynGc+YVXmZ2qYcMzEcxyZ\n",
       "7IjRAFpSlZ+3SdAJMsOXjk3Kdxd8D1ctupYuwSNBukreluYXc/b1qP2gzHjGnh8dmz5LXWGWw5Mu\n",
       "SRWYzM6LDk+0/Hpakc1pd4H7QoUegmEElegF7vGLfwRfotkXKTZrA+7wXm2Uc491gpfEgz814T3W\n",
       "44ooYnZVCddkucExOF9pvncbDtTF16JoTEl12aTVGwr5KGuWMerLX6YVOwg2Oo5UCpWtkWPv1ESG\n",
       "5Bzv9NCGVdlaRsqYJahED/rgjBfhzWb//yEkjBx4pT16u4VT3Cwgq5+KXSGyzkhnNbWYlE2pxgrV\n",
       "bwQWQViQlsqxcEV3964hBhghCb2qDj5lFfezd9+TUb4THY9DNJkl7tvRnVVdBzFSdTY3IW/nkRhf\n",
       "3VAygJMznXoCNDZWjpj8lwUacNAvgQAAAZJBmsdJ4Q8mUwIb//6nhAA3Q8y7hICh3I6H+1TswZet\n",
       "OgAVmL8n0ROvv143wpXKUfmGD06hhImdxi1mx5+tbQrpLpkuz5P6QHvF/N1trUGEUTS/NPJXCPzk\n",
       "I3dTanNndpyiEiLCEFnvc7Eno8Shq5NoSHalpaMeUYgocVSQrMvIyd4cvCB7gySOZIdqc09jJ6rW\n",
       "fkJGOoSA9m9OsJAIgRMt6fM+pB03Ifh+yRDnBsH0ethHBuqCgTNCKyBrL/rLETApXk2Zy0IpyJjs\n",
       "FOj/ncXi8BPsXqlJFrhojJ1bMjxCI1ulWe1njI+8aHbrPUfVI0jLm/MtCHlFp7tOgocrpsD/+tO0\n",
       "P3ZZP52iKB0IuA6Z2bdstiqW7aPikQigSR2MZAwxqnCteEvNbVDi3oavE1KKbpFUrTfYksIOv1Wd\n",
       "YuXIOsF2mtOAC5PPS911NNY0dNWgeswhD1e/S+KCFi/EiKE6Tb6So/L5LEudkpY8QuUVQxnEsn1b\n",
       "HX+MyncenYU25HBFrjDcBVHg/VjHdAJAEmn5ltkAAAGHQZroSeEPJlMCG//+p4QAKj/SCKWd//X8\n",
       "AL2qc5lAHqlCdLGYoYdHUtuWv1cpATD8dg+Lv146n8GMSLzTi8o+gG/skPK/+vTlEPn4nOECniSJ\n",
       "B6j/TZDR1z35r2kO5MCCN9E/M2nkL8HqnuCFYbx+sTTkNRjpv2VH7a45SPqTTMW+swJQGprVTyMb\n",
       "NGJXpcGrJQ8JiSD1B/47+Yd7w8CJOOrPFPy+rgl+78pmElJf6gKyW58eXebiFHJ3WndDVfWv/PGd\n",
       "MfRTDWI9pwvKZjXvxaKbVbgsIlA2vDmrq7RNSBGqqT08Sa8lkOByW6O7DH8CdFeZQP53xxSMEvdr\n",
       "k2YAAd4aZSxbfEVUmrl8ZyzufUNLmx2iP/WlDYBBxkuo/OovC/cdadwQHgulkX2ZLhjjJC6qJcWR\n",
       "/WGRj87x4aJesdrvA6EMWecHkBOWDSyM1wQ1lRZJmzJcQJkOSKneiV6Y7u06EkAgSN2NibGq3ZCT\n",
       "DDBXej3VQ+7Y2Hf/nE9nnm2aY02Uh9qQkgAAActBmwlJ4Q8mUwIb//6nhAA4ieMbZl1rtGh9kMiK\n",
       "AB+mOH82DI1YErCQF7w5I47cDtHsWF4q5MpqE5O5+Zn5iIVi4iyTGe3BG+jt7Vkq1RSuvWmkQDwe\n",
       "d4FL6N2Js8eySLFONG5mFYhd95S69dAHg2+FmAsTsvpVkYSrlvRAGKrlwLZcENm+2IXOyyr853ra\n",
       "A9FgabhWG0hsTUs3JOXp6m+WisMLnPBxYIQvQiRtZbn51++sFEXuhaK8efHhGo6s2U+nXTS/7sH/\n",
       "2dqw0zNL7+M2jZkgh4EyITafLzBi60FmOHyj5FXAfYhdc6BSxxbRk6o32IrXM/i39T9UyQ70tlBv\n",
       "3yqR+Z3ssiywLslFUdYWKyIXUsUJLtLYhEQpLf3Bjgs+ayQPnTFqTI8R4tTkXIqMoIVwydHarVZF\n",
       "zBJATz5O2f61Psf61VMKjVody5HZwKPF6wh71p6Sc8p+MXzwM/Hehj2EMa4MEXMHdVGNsHYGejDP\n",
       "yJAhyzr3BrV74rPr4t5UZZM+mGlrDNdkjomLjyIoLdypR9W4ny1jvRdWiQQsxkQ0eQMSY9fkHegR\n",
       "TXEyyFP8DOFhAxyvEUnPFqDZ/LtIbBGy1tbXnwkZ6YAAAALaQZsrSeEPJlMFETw3//6nhAAcb4Cr\n",
       "RuAn5Asueco8FLIknurpvzoKUIogi3MDyEFa1mvz5HOwZfgfiNWWt1FudRvNC8W8up5yu0Sllz0o\n",
       "XUliw+enkOk5BTgHogHAJl+0Th85cESP32Glgv6MJ1CzUuC9DIxcWhoKToMiuJEaSp3mnuh6mQy0\n",
       "cmxvQ+OD4wi6qs6L9b1xcG2wA7KCjx+VKmGPvPqPRcEMnwupNhbv4Dd2yOQvJ1NBqNzcwDIAjnPw\n",
       "AdAEGem6AhFtnu31b7twLDzHDmQoOE21A5qAr2fkwQ1DNajNk1erl/5aY9lOeud46QImwilYQSuq\n",
       "BZhSQECEYWd5F2qnpRd6p6/6ebW+rTnSaOi7lm2YIn9uX8JIrJldscB0mvPzNGfwZtRapVVJrXPE\n",
       "FoqpFa1ph3RH6O5e+iKhsgxB+uRQmOShv/eoiJZ4oVCz+4BR1bXJAqZ8bAWf0RuxN2uL6GdQW1oS\n",
       "avg0Ir0IOJA1mjPXSH/kaekALmPl2movFXaHiRbjvDqd2ReFyoLKjcA/abz1QainJysppYjrkk/j\n",
       "qEaJAYlA/Pg+0YuP+ILeLW+i2Z55wd8TBCD5/wEBCFdSvsOvGkYu1F1424S51x2MX23CPyvVVh0n\n",
       "4Hu5j77wZNXlDrjnhIOtQcBaiyZYRNhoCtvb60TR3SYucgrqPffd3zBUCNqjsm+nE2k4MPjf8GRL\n",
       "PyHiOZcmfWKzRjVXFB+E7AVWlPlGIuG7W+n9FNnYJTPSMkrtFPiO5aWx9MJV+i3ED2e6vLXOmTo0\n",
       "f2lC4GYtGcu4Ln//cWuj+BwIF8Rde4j5j4aenOtoU696Z8GFzI8I+U9EUzmsvvYCoru4wzMaaUfm\n",
       "dWyqktPpN3P/WGkow3d2n979gKXBkDH0Y9QU9lC94qE/KE9GpQWR6WM/bPvnAiuzXHuk6mwPZsS8\n",
       "aAmLlpeOBrPp7m2K1QMor2w0l3EETCTZ8QAAATQBn0pqQr8ALE1Pjqe1lEDja57EcjITdDDzkALR\n",
       "YwZG6/VO6gacxY0M5iEeaa/XileoX7EjqBNRqbSOa4ei4+eJh0cFM2PLzdjKRekZSrHJ8Ghby0bM\n",
       "psS7Pr33q1n6zuLOqN60BWVhPFK/vZ85v4Odjja5cs4nFjVlBQvkIAkoxnGkJiwKHGMt79NhFNx8\n",
       "qpDHgKuLsKydMcOs7ht1S4hIX8HrEOcyljthVq5bBaYjbyCoiUO4KTgLAKKOZEP+k3FM0gLybMeg\n",
       "qkScAyGwy/hdTriH1Kpy6wF//sjUYUEMvxxOFZkNfODiQiGiwx5AAfTW8iF+RskGsX+GdllkScM8\n",
       "8AMKsnb4O1shOr4vPRw6phF5ApQiOCG94a5p9SDmEw4XaiMACrz4UlQEm1Goeacw8TCLKAAAAhBB\n",
       "m0xJ4Q8mUwIb//6nhAAN1Hu8fLgA5y5LFUTewxlqzdxLT7h0sLONHMc34k+FLsswWQLTweXPFnn1\n",
       "DYP82Qc/zINAs8L1LRdPecmcfWP6SgNxanFCivEiL7qhYZxAXmy9fFBF+ftUDiZhggyzu/8Lg88x\n",
       "tPQuaLqvbKstmAlBSAgM4JWzkZFT5hydQeuQp9M4+kwitPov+CrXkR2sVdEkvWqKxgrBYZOj5YzU\n",
       "sgmEI5TEMsGKcCbhxB3qPAJ05zAPQcbv92fxJiNDeJnrpoz+gbDM0UUoWUrc39I0hG0Jw9b1mq1p\n",
       "XU7YoEZ2mDHoMjCMtJV12Rjrg+9LDv1OSGnXekFtN1FSt9CLSUu5LkxoHeX7WDiANrDUPk1lxPwn\n",
       "jP4wb5xAUYRo/KP2o6ZTM7BlXV3bmJ8ZHLQlAGCDcUz36pcakkEXyvJfDk/HLmxHxVx9r56EDRSI\n",
       "cX8taDOmtjTRs3rUJJtoK9rkykTvM2Vsd3LUlsCBTaMXD3OhAQ/EEo3bZjXj2AgsLg8rNAsZHWtW\n",
       "sL7nskUOZglOjNRFAOwPH4GjUsEgeUnXnluTHdKrtJvTkD7UC4sIwKnXGvKjvZXVeY/WqCgTACDR\n",
       "m6LSL0NkE+LSaIwAqGN3W9jPH3PbKRZG7U2U1r9Uoj9/+SWtLfHk225cmPfEbUFLf4EsD50hzgvh\n",
       "gWZ2YAAHDi7hKASqN2AAAAIgQZtuSeEPJlMFETw3//6nhAAN2eL+yji+u86w5GVctG+VkAGGeM9t\n",
       "WRnLzUfTrDJSlPgQuEb5Gsw+dBuj0KHuR+qnwQOqBaKRPo/nWG2oYeWW1A4xd4nI0UgQaeTTN4Wv\n",
       "yG1CPLAaozGIVU/2g/VPMH+Bm0bgKhWVbB0ahn9yWQ2CvyiVZco2Oq4YCMyeaVdRoPulegJTGM7M\n",
       "ifEiADO0Uc2H7d1aqrBPBz0zQ7g/wjrhN4Kn9CihfMXO2SavxCrMivZpj8p4Z1DXJ7gEcRlZ27hL\n",
       "q94gu5v1Yp/ZlZUCprtixqmwdMDA6gj7iRJVEV7636nXtigqkIwT/ubkY179x1RHz/ozraqJD2d5\n",
       "0TyZkZFcBHdvwddKIb3Lv5Z4XQCJZmmjHTqiFaYdY/vtxakJtcei/fmS+Gm0IDyf9MtGDewl19Eh\n",
       "2xTMsoDKAM8gRNgtlJbRN/NNujnZHrfYq0bT6gmCyQCOj3ybxyCJZnEKEjEgFt0cfaPycWGDg0Gg\n",
       "jE/LT6BOIu2qtBfaC2LOOZKh1klhKAu0vls79LzIA+bNANvZIhwmC6LjmDIgQFBZx2u9SR09jNli\n",
       "5L/u3JPCMIUdMqMNrZmOVgmnyWj1vUZUDJoQVMM4VDC4ALNK7USH5+lVBSe2yye7CCJHr53C5w1s\n",
       "heFsS0ufH1DoLCV12ESD7ruqa6+5eGW52vYdLn3UnPTKcpWUdCZCQWiQ2D4rIrUBqQAAAWQBn41q\n",
       "Qr8AC1tE+mNPKnq+SyxACau56pQpQ+ItHe4mz5tt/xwsgPDDhsrHpITyyWbUcahhB6R90rZ7RZvF\n",
       "SA6pRLR40hZ9Y55KHI/QrfCRwjpt4I4M+uO2IUG6J5plegaSvgox4Elvm9KkL1gTAOExiYzKXcQC\n",
       "cLXTRKE/UEMgGOHXRHOhKINf8j7Dae0T0KnAj8MdXya1g0PoHdKCse+uRKqx7z8OeuWV0P4c5bRp\n",
       "PpPyqNMHjA2vWAV4YpN/Asd2v58CW8SNr3F7JOTSc+1GtkxazF/VK9JV0JGLrvP4RORC4OPvF9gs\n",
       "EN1RIks8pj5QVTV7slbx35Y2qI4DkFNz2fVm2HCcO+cs0XvfUpjDIDw2OJRDvPTM+iJDpR+xrBHf\n",
       "vhekXpo1rHYCHGryGN2NRWSZLOQKg0w+TFS63xHBO11qvZYTsS1I4WpTl7VczMiNaSb049I5Se9Q\n",
       "i2RLgL9HqQk1FQAAAkJBm49J4Q8mUwIb//6nhAAG5wMtH+Czw3AHLPVBIxFkik3+NZEIVN25AZwR\n",
       "oiISL9ME/zsFaFpplYzogAkeKD0shCiQ9zV+H8WETUO4f8kynRajNVMaDwyCD0EH1zs2v8POyNcp\n",
       "JVL9rCCrAeCijyB/ps3yhT4C5zWzRBRzGE01Pw76fXddDJqm8gY9/b8POvLgBmxmKuj7Movh1spu\n",
       "mwQt6QkffD+zwTJcKNgKaSQpmI+LRNyJAZ/hmpNr8+1tVY5kGcoMLeZV+0V/G8F8rr5TTAvGhNco\n",
       "4h0MWF6wX7vkBxCb5tEBdXy7wdGfbQbFEwDDoBje1IANrYfAXoPlwSoky01QRXNsx1tK5VnMBXgr\n",
       "zAbgusznIg0h0G3TznOZ/Z18TNdkY3TzL1ZhtGJ6KvcHiWmRxnHe55NXuteMpm0GHj8geFAfkFoR\n",
       "GbvBcaSOvTaUTlr9DBe/u62GaZ5SFx8fEwKBix4f+WvYv/0xJOpNeWaSHOzhcaQwv2D+YzP3Bcog\n",
       "hQH8tbP+53N9uHeh7OoISyl68+0QE+mC8QmMn0Ydg07q/trmGafI7+wpEHI3wA0YgfknDtH/yBMX\n",
       "08JygYpErS9OrRvE+9Y5ZnpcB+jJBLryVPvdiBtHRCl8qh4EpbzqjLhaq/CebVGQfD1FqaaJRff2\n",
       "pzYPEjOuQpFVt+Z8+8kqgvacBvY3c1D04zUz8RcqKu4/8dP1LKqz/hMoLIWTpl1iYYGeHtp331H+\n",
       "bOAWzTSg5P1SBmXcQT5lCZ3QIS0aUQAAAi5Bm7BJ4Q8mUwIb//6nhAAGx9k+VzZAY7ACdvbUauPd\n",
       "JWKRal2JGicVePZRn2gQks7FPDWtpM34lJla4HoiPlxUoAgbdsX2/qbfQih4G8ElZxUtTtG8tkyW\n",
       "Y4KfwlraBtBbIwz7E1NxRBazzsErKBgftqohZ+ka/eu1aB4VH70MBH8y8NeRq5H88nwJ+gMuzqfv\n",
       "seCK3VyyNgtesQ4kpubsmhou8hBXvSNEQuDbcNhgMZ2Dx+T6OGbpg2RoTDwOX+vG1C3EXjoCVBOg\n",
       "TydqbKxMurFHX4M1ayP5cmaH76JdaC0eM3rVRoARfd29JhMRhzrGkIXUa7/LkXbinXdX47nopoyx\n",
       "oZZtdmN+Kjvx/nneegu9JL4SU+YX4OF9lNF/nlYVtgAAOZNNccCVBQCp/SnDjCtc9zAzOr8twyAP\n",
       "f8leXU6rQRQ1diRcDg7feuaywKMYLGH8jnJHPUH61NfHjaQe6qKZV+iDoOyi1GHmA0RdCGWZl6Nb\n",
       "YGdJT/Y0R53OLteR8tN97JxT+j8+ER+GSzlR3TYKKdIOFUTraipivvkNZU5kg9rqNaUeO4rgKrIJ\n",
       "yvqYqjE74664alBhrNKdH9iOfbWrZwksJerYJaCjFx8urs2lq03gMG0RN+sxiu9fL9murwaxgN4i\n",
       "iddqV+/LrTQMYrXt3lKAxTphazrLmYQLiiQmnSu8/EXQuFEegBvQuIWfU/nYvwuys9wXlXPaK/6/\n",
       "X7lZ201+vPf774Hh3y8AAAKlQZvRSeEPJlMCG//+p4QADJHFewHoAbIAboVzxjKAZJoFrrTJVMx4\n",
       "ncYp9dtcWqXc7s0txage7wcSTsQeE7f4Oe/WUUpelHtzk+trpsW/fXMQmCNdnh5KqomlxZp2NJxy\n",
       "d2eAph4yX4x79Uc7AfWuhvmvov8RsoLgP3bly/CzNtxgt0KC/0htBQUvamx6C4FY9ZRzMXkXByKr\n",
       "PxzUYRP6n/4iFIrzlqc24q1ftrWIifhN3W0TBM+erj+oI4WoQclz8jZQnJi/3P6m8kHyNXXs7QII\n",
       "413sxJoDHmld0KBgm8b5Zsr0ldBSZg/1gTZOVDH+pI2JTjUPN/XuaMqgM9KKUiQipENba1pWLJtz\n",
       "Osv1JZd4Ksec6aDhq0MXVbjVYANC/TTLWETdta7HN9Obkeuy4nozy5D1Op189r41GMwbehKavv9N\n",
       "cqDbzQ8fboq62IelO3iIK398abJxbH1xsd7k4/qDujDxQm3sgwbprZZIQ+XOmDNMwi63zusA3XZl\n",
       "CBqiGR3b7D3o07r+376DEGrQ8KRHPzH8FcNDcu1+kWzmSadvuiM8EG+qqq0fvPjJfR/Zn3TJr5va\n",
       "1UHoyIsZy6x/+c2KNHt+rwXOwF0dhel5n9tMnF+BL9qzhdvxIavT5dsRjmDvh8dNCRWXS4w8XBqc\n",
       "3plxgqWh0SdyTLT4Sk+Pdl0K+DVrwvuSKMSQC7nXWqF58a/BQwprKYo/Bsn8e4/KrGza6nv43AXx\n",
       "MSozirvLndN6PllrSXLsuEQoFVEiWGtymi1z/5mBAD1Skc4jFC0OUwl03JGFO+uRQrqpEPVUC0ip\n",
       "1WSIH5jIyHxqDFrL2W9fzSLZSxr3m2YJACzrQstzyK23HE76vScXGwqRdcUyMNBgaGutL8gzWcDv\n",
       "+uBlHqFRigQ79zsAAAKzQZvySeEPJlMCG//+p4QADOCesp+mQCauexQDIM3T6pY3Swd5zBv6wqTS\n",
       "d5OURMGHYptxMbcaP0TjpLWx3L6o3MNOmpMxozw1sbxZTyHmi75Y54NXIrGIKgLOeVstf5hzTyij\n",
       "lEJiwlBINsWl9LEw9tTrNWkj3/3fAS6RojNACNEKylgLf1ETH+C/kuTUh9NnPMm2H6fpazbVv+1U\n",
       "KcYb80eLQOAkMpxR37GQzi+K+pPJ1yiQh5+Cm1D1dQqKamuqsz3zcljiBiFOQIzyW+4P3K90c1Pv\n",
       "q5+z5ANu800z5fyYsCD1B/vayX0Mnixu4ZbOdFUx79a58L+NI8t7UKcn5e6JXVCRLqmXPoX0Nwep\n",
       "t/stIgdBByEjiRjsae/CdG2Qac55WP7olh8QUaPEAa9V1wZFSOK4xbfV5MM9GTixeMp2KG91l4Ee\n",
       "tj/S15xm4EnT8C4MwuAjQFNCoJap3NW55J5BZoNPvaD1BpWNM+eogkVUc5fpV42v5WhVXHNjGU7C\n",
       "fHXAzbuW+HwtIGfdHpG5bY87+44IB324BfB9KMlGb+zNG6zJIpzX57OViJSnnIstXLiBrP46mprD\n",
       "YzGhGz7V2bb0bZRgIGt6gJSwRF/dDYApoCgYPuv0Z/5y9jcfixm/iKpjg2Zb96JOhrMNKzyHhKrL\n",
       "ChaN5b7ju/6OhskPoXzJ/K2yJJDzUVshTv2WS/cuJtnhQCxU0QHZwVf03T+4mGeto5eTRY93NKVk\n",
       "CNrJQXURV4G4QF1lKyN8X2xFbzvLO/1WNKM1a/NT47ax5IHB6A0OLZgKtqRZheGMWm8FYzdaHIGZ\n",
       "0P4ITopHQE9J5V4KsG4ebhPtSl2bjj7QfAA5q3a9zGf4/j9ypV07EHswRYPQ5rBwKPh4UKAexmxq\n",
       "74anb0C1OTiBK3AahSux+YzAhLEzvQAAAudBmhNJ4Q8mUwIb//6nhAAZP+j6MQ85ljCG6b0hAQFB\n",
       "vH+3q3dCGj7tkcYT7bqg5wG1JogxynUnZQR5iDNz0vH4qXbkjQqLgNG+GNQLAMdiUVU7q8YZH+HU\n",
       "xnEMSx0I4blRJVIQn6jkPCvTJNfHUbmZF59og6//0aLdD5LPmMdEEGIW/yN1rXzTUTLcLjV6dRw5\n",
       "gR4nK9Cpt8CrlQgq7oup153ZVzSNN+dfX1gM1cYpvXNzbPQ0b9pwGvtetLhyARDvx/TamCE5WvdA\n",
       "juXhLq1GCSRQx53TPQ0xIN1FBYo8kYA6Bw9FcjETGfS+4y3/Za/dnxYYUZ0WvWqHuNOL+mcndRAC\n",
       "B7XKqLzNVUcKBt+G1OIn+bsB7sWeSSnEpS7o+YfWL5DxuOwOH83ZyG8JZfvF/AgTluDK/aqO75KI\n",
       "RR5rGLU4XlqCBbDcudzLzq16bO1hdhxtLkmOAzWX8zJw6obnzvtXACieqx+h456gdeRYrqvhAwjl\n",
       "lc5zR/NhUzMFu8MdYOphIUoI9lL2YsEP6zAKowrd4Ye9ahc52/dFOjWvMpqgirh/ljImIG8wcs5N\n",
       "AoM7xF4Pd1Tcb0oHDbowm8ZHinZJ4rHr6Mmtc4sYmE19eiQce4zm03NYVjbBbfs8n3Ar7/HNseNm\n",
       "IoSmmnzDcIwU0BPO4iB0n7HvjpO5dF93grAylJdFOz45GDqH6yzkMVo7poPJ9rZgyEPG4TJyXEKW\n",
       "mkWh/u5GpdkfYLk8mxJToUTYA5VFgQLZnHlNSPZgN9itFOS9fezw52xetFHWIvDUOX/HB4jzrj5h\n",
       "K1siGz37eOFp6Kp+gFUzOw1QTPLOdAUGnQrvadcbyJEH8PiDoutb6uKUjJOpwEaqWEDjrgGrZEn7\n",
       "/RhyJVricjQMkWKjRP+TGt1cwtWDYr2teSZjbIWpNwqRD/gy1DTtdAgb0ViReliA+iK+FknuJ+E0\n",
       "YT6vYf6q0sFReX1989igvJzvV8uxt2nccB4/GAAAArFBmjRJ4Q8mUwIb//6nhAAZFzyCZWgAON70\n",
       "ol9ZCeNa7L1fxP8W5z7WSOTC/0vYe1yH6Td0e6AO1tAA2yHUGiqov3swZFJLhdn2kgzjaiDaeznU\n",
       "vW1y9JfriudMm3rGFqqrndrodyn9GwysliVYrpJaefO0gGpXFIVt+uAb1Hw6no3VN1WYieO1ubNZ\n",
       "J/mBlY8XzCrveBp1Yag//UbQKuMnKlXz5gct8ub1R+TdbDdeemgFHRXjFcHW41GWZ80iyBszFzso\n",
       "8TMSBGMt5ufZ5kkxoF2chGBh/12VwknHexSeztEqxtkD7/+f8olSy3a5phxThpPevq1LJTfQNRNt\n",
       "kaqr3GG6Fd8yF8jnU8WjVBY8JflGpK37rtmMNQdz98jJjv18v3dQiHBORlR7yFJrNvvys5FTZmfJ\n",
       "3H5W1/MYjLJJZ45KuK1+Au9SA23AQn8I7WGJI3vOhuMPjWQ72fsvaskqBRVkxRtxxfVRxvvt45Bf\n",
       "/NLNTm0Iq1djQSd7H0D+WmMv+R4/FL4OOx8nwit6PlN6ycqKh5lTWTPw7EimebEyGkGVDKPkBaBZ\n",
       "5sIOzr6MBES5KuW3dNq6RbbrnVw20EEuUuJE9GIz6fOIonJkS6iLtDtu2YjLHf3NtSNDkbFdi6nv\n",
       "2LGU7okQY0pnDckwNHbaF0zw92uI5oVg82p/JGN0h9oxhJHUnlwcna344QdHEwBHQHoSI4evNHKl\n",
       "eGOj5Tg9ldVi9TJkk8ef9uq2CzcBbIy+/Ufd54P30JXSxAA5zfNxiQRgKMWizLqa9mKrzpzVOFxY\n",
       "x5YMCCYhw8Qf6QZDkh+zafVPcarfFAZ54BtBJm8ix5XQu6lo5orb9HzsnRGZXWRSLYbQo+yNanY5\n",
       "7B+dtZERhBLthdeHC+1z0GkFAkJ4c9LzSAAHmDAAAQ6jsxwuKAAABAdBmlZJ4Q8mUwURPDf//qeE\n",
       "ADIxckAfPvM5XuWVw3x8JHTyxAyHlml1eH9PztKeUkq4p7I40wh778aWnP6M0YtMlc35ns4tIvMv\n",
       "C8RxR911Z3w636y1ypRwRdS8ulvh7o+0DH6feqMF9x1TuD1fqNUInXzYRGvZSHribTYCfj6ttqHR\n",
       "aVFuzhbN+62gbuXNYt0i+rakh2VmXZIwZnBRd3bVBSlp39bRKv0T1QUU6U7JLdbcWpvoYuxsqrfH\n",
       "YqJecpXRVnGYjRI4OWUEpdW7CJ6ODakX4k3lSjQiKqB5BunwejJcZ7T51UzDmXVaq48HvDCLZtme\n",
       "/fprVP3QhjTCvvdqVZOZb9y8lOcIUom84POSTjcJ8ikj99xCYHxEdltK668VI/pR5U1tJRx4JcFh\n",
       "357JkWXxnKgeOR0HU96NY42/T5PHp7eiwEAYwvyNwYUEZfWw2mUzABjHlMyA25+LKUcXLWlvv1z5\n",
       "7cnrPLH2rwxGc7fPOSAI8axR722B9RWW0Wg7yuwgQAIxXWcEbeXvj3jaPZ/ut+5QvY5L+q8ABeXZ\n",
       "/m3gT4AK/GcNOp75crrzPMBGlB2PkP/Hx0nZPGPUgAMIPntFfKbIJyC4Aium2stRUkfy3GvTzPhA\n",
       "UuOaHBlRbjjLtvsQvVNnAAgFhOxsOED0bccQyOWz148SFybf2ut5vhcR2tQgQ87UMMoEalHCnKTC\n",
       "9VdjmO8ONcfyP6zm0dwHp/TfC8teqLJXF1IXQQ8teU1n+iR0gxvNVOGvKdCu/c5WDNKFNLdzN5po\n",
       "5YJkf2EClOjGeuxaMbbPptYcrD3pU2gbqwN/4X9gr9xc/pZ7hg57iVj4Zd9c4RJhURA5mXSjcKke\n",
       "oToKPPhpsv7o4q5LMlbYQV4x1zCRX4BOW2ms0jq6FmZSpT2dRET5vkrmgOs0M5w3xFmnqdV8qrBK\n",
       "yT4PunGWdCTm9J8WAllZpwkOsPufnF2qVjiB74J+fMYt98EsIROVwsUVfmJTDJiJW1GNWoj1ohot\n",
       "Hdpu/hjBm9QCW58HJWdOkfyYsDAhu80WL0x0ahMiCZhihptbjaai15yADQZ35xV+ObFgxOW44VOO\n",
       "6Y5Xv8KkqsRdgNYRPzCJ9E2Q+zC90iREXE/QYTeGER2T1Akm5baDVnfWgyweVVgaSu3dHENnNNJD\n",
       "uHSSVoKMMB1uNw0RS9u5fY+ZWnmpNCvUr+GYM9RrB0j3cHneH+g15dqn1/lGAHIT4zN4uThmoIRs\n",
       "q8d8u62yXcWaf+BRKcymPy7Q+peEIO99IpXERdlMgIe/uyao4EuvBDcFlJikVAEolB5vgavRnDo+\n",
       "1mzOdHAg2OHcIKllKLug9cxx81e5euKld554eKj47TmjIMkHSJgfkeDjoxk8bQAAAPMBnnVqQr8A\n",
       "KHZjkLv//S/Qb4J99ZBmJvR1cQGIYXJwgAtuqtbRsLJPQJCMPa3U1Y4ngpvMo/M8byfyofru3k9B\n",
       "W5bq79lwiIbNt0QUdjhLEHbKkRsShx4SFMY4Iku8AMe5RtzbSXvdZL395kn6Q4v5Ce/h1jF+4uD5\n",
       "AqctiUJgVP0Nk3iwDGup20MB83uEBLuQ8Lih5VeSXYdOpcCWfZ6xsbvfzWnUABnV21Or/c9q98wC\n",
       "EvisZMT0Mx7aPQdNSJqbSpiezjlbt2LqXQhiNEnVrhdwlFTnWcXcr6VwFku8zKMOSyD0nFFUog7S\n",
       "z0C6EMCLpcoAAAKvQZp3SeEPJlMCG//+p4QAMi9hTDZAEQYgg4fxtMiEZH8BVwoV9oMSSyLCuvw5\n",
       "mtyf0NN4lGlwJ/It6xxkvTrQ8sgOTdg9pg3EDIa2ewBxBNZXA2Z3a6nJ1Hsf8/pA8SOUp9/vUJxh\n",
       "fABB2ldXbRYyeznd6DqG8IpIwEN9ZKNwh9L3j0ksjInwo2DAUv4UO8m2x5oVGHpArPsWnN2TiztD\n",
       "PCjN/hCD9NOzwociTfSCOL05zIxTFAkVScuGNwtzi4RVu2VYqGWZ2Twnlr9qiPiEZg7AlqTBL0b2\n",
       "PjHBn5ufwV3fW2s+qELyb52kzZxIz4fmiHueMB+uVzx5csPDUFRkbfj1VSVrCc3dx2mwcLWd3SD3\n",
       "Q4ztSJhIbPU2UmpHB8mxAmypEPXnllJgITSqn2lVg5QoKTEORny4IYTfJLkX3DjVo3nJ5sBl+zCN\n",
       "4etGFZ7BTIjKpIyp58z/N96u26FDCNrXpGf+DWWFV2pKWxodJi3TKfrQZmJnrtspp8zfnNmnzBxF\n",
       "NnOcBi7A7P4puWBDIFFDqnFpEJsm+7dgdVseQ+thRXy0EXjXYVk8ShRpucEk/S46LMlOk8aYGtpy\n",
       "dAn18Tgx2EI/kSYu/de0MacSnyHJE1QFMfRigx5Ce22b6pwmJb9aCEA126h3YttR9pHUM7C8SDSR\n",
       "WSX4G0S3xV+SjjyoibhiyjT0mkaLItF9gP/r7tVSMcw9Muxqar020rMY//Yv51s9FCGN106jxgaH\n",
       "yJLCKz4EynbXgCyy9BzzmQcqMKFOQoYOvETq6AvGPA2T7+3PO7KqIZqs/DFWPdL9QVWWdUcj+7/U\n",
       "uqHXRTBpvuBCBBzoYR5Pgn96PjIcdDqK9lLSlN+IQWhUvNCCwu92b1rCXz3qqSWCtTWMe4UTwHEg\n",
       "LDNwXvHk0PjWznNxPiV1AAACtUGamEnhDyZTAhv//qeEAGHtTBJS4swMoYZfFqS8eq9Q9eiHqVZF\n",
       "xT0B1r66neQwgPzv5Lc+IQO17BtWFcQxNK/Oj8k4l43/4fzYLzFFdxujjgKpAeNDinp9Rw1Y+CXb\n",
       "b3JyfBCCQlU1/FhobO2jg4uXmOfPxK2XCELI7O6xqaRqVoRfqsodjaW371AWh0KUeeIAQfdnK7Ht\n",
       "8T52EUqDR/A6xS2eagC5iCBNEFnF5QGC9wD5dyyCH9gZnE0hXIDfOTI8iUQBoMg9L/0TY5p49WMV\n",
       "wIZBTpxVomlJrT6bDl2fZlF1M59ut4gkDPNzPXsmWyPr3vgdZV9REeqguD44Ys79kCJdkHwMrE0p\n",
       "cNb//8yQXPBUPDKbFQxArPOhNHWKrvhali1hIkzGwmD5M54ctiI2f0uE16ZXPY7Og1oRC00/hrXK\n",
       "YK2jF34OFCAI0IEt8HGBdrx6aFGhedK/B1cKaiJGzlLQasTCfBkzrbnwegh2FNwkAxhvcyAuvYAX\n",
       "RvbAIMSTq5nkLNNGZubtu4op/qHo+2se1e+vM7Ao565XDcb7zrnl2aNM1DcbZoo7+m4up1XMhyV5\n",
       "rekiCok1pShTe99KbVuRibOeG2zk1yoDGZA/fNdNe/V9t/YNXjxEuC7lEDhqFDBLC/bgaDzWKp+K\n",
       "NuU0emdLw1FI0piE5sVWwgIa7DCJibejAnUe2pD41wmKghbz3Yd/l0jvKuBmlBQkbfL8cNpbVnRe\n",
       "79clFX/vJoFGC1NoxOLpgpq6y/iXy5Ti40vI2OYK5mu1Nozb+jXwVMGKELWaIbX36auZ0ku6UTYA\n",
       "KtqRZ0DJ5h6FsnPHFcufFcWSUmXGo0Jgtw5ajJ2wJgSMK2RldeLdzn5Bdff+U8hqR1upGPwvsULl\n",
       "SWJYbjuBMmI+g1xCqK+ZoBG+jCFvMABaNgERrQAAAmNBmrlJ4Q8mUwId//6plgAxZjPvq/GAC2XF\n",
       "fhjnstKysfx5RdOwR6TJiN9c0XcbGVgNK9WkUqMSwPoECPGxJxyqGMIfr8e3BhyITakppz7UVYDD\n",
       "XxvxpIWOOoxjHeq2KnwBpAc+AMLssNEBAsAJm5uGQCF2OJRCdBp7WW5Q/NQHFhoybftMKWeYNN49\n",
       "1yg8HF5peXMuRCb8K2METjYqkOdVXGY29Uvf7GZnl5dpZfyEX7B4MLaKt4hncofQg7wNdqyGqdhO\n",
       "XboR1qOvAwC4Qao7iBGVIxGo0NS99J4cZl58kJZJcDv6i+3uZARlT+6S+E39xwkS6ZnPDljJLI2k\n",
       "hPAkf0o8IC4m2L+tdJOanLmst7wVX27L+mf9lF+4rZQnRav2b0n2c6IR/Evf54ULeT9h4VfWiQ4V\n",
       "xkiRJd8sw3QP75fe4iPOlrSVioLcNqMi1h6F5TjNUOlFA3002SuBRe8zVFzGdDCskuycEAAIfOx7\n",
       "ug8GKx0DlX+MZORS66MvF2lDiZOZ1TVBjbQ4xR7jrI6JG1eGEbsIBsO1CyoOYeXb8aUmsoiTrm7c\n",
       "vXsoMAAAIZHZU57RByP9acS3a7VWYAoh6yHk5Bx3fZcpTmXrbTq6iMyCy1aO5MMW8cQ7kq5t/DWZ\n",
       "TDcFemtlgwg9QSuyZMthCkRjiXWpsvRKtLiC7ds1zWwQtX6zoI4cUtgpToYO48Y7tpdMwtF5omBT\n",
       "mv9GOOi/DniExutjamLLAVUPjIh11i1pZ5tOSCckV7KjG+sxZjwT5QDhyznB9sGmxdnX9DlZPX4t\n",
       "UlrJg/9wVECHWcEVczcKwAAAAy1BmttJ4Q8mUwURPDv//qmWADKjznaxqAKDZwpsDvso35dYHXQd\n",
       "UTAaiDJsx+uG6CSVVYqVyps+TLpk7IF2PK8wOEfOOStoBv5JMIG3/aBdFoaUTHlyS0tihfwtwa2m\n",
       "LfE4gdDCfzjxVbuxwSmMUwuSs7AM8JIpYtHNQ1s+MV4CGYH2uk2UC4xMCAxS5/pOB9bQERyBGuQ+\n",
       "p+ngqkEirPsKUhX/kmVkiSWo2wU3P34DJUaXT4KyOk34O/2DS8sq6TWRzTiM/Of3UzuD4pQJQ0Hl\n",
       "4hkWnJiXPVtHDRaKRihhr4mpQD8LpXrntWIvzlhOmvddSlksSoSqNOr7gk+QMramvNmGe4mEJ+B3\n",
       "jIq5JpB1sPLeYgvanEVb1YG+eU3akuVPrWXnQze3QCHSqgo9d6DSnM01MFTMmaoILB874ysEfGac\n",
       "vrKNG1Y5LRSVvp/QuVCGQ9BHTMrcUmgdXFUTD0ycGodRAqGfs3Yn9qbR9rJDi4qE4cleaWtg72TG\n",
       "+2bx2kMliJ9zA24+C702H3jqa1KS6VZtlkhmNFaES4b0xoREkRr2VUjl9es8Rr5IIB1pmXEAObh/\n",
       "446GJjqqUMMxGQYcDYHLpDLH2HvxcABH5iRbfZbSzdHiH1JUsq4rTb2q2fKzOEfIHsChPFCpQTQd\n",
       "x50nR99Q4v029lUVQVp4LLPTDkGyaYtL92rxXQuht+BRwGESxHovMVqhsiO61eB3qCE8VCzu/FaZ\n",
       "H/FD/AR9zPFyeh+BiKcDpjFbM6CCNLdmYnPYH9b5yziEQpph6J/punOBlsEo0CmKTA7GmL3YBhT9\n",
       "kOVKxW5b0d1KK1QQmv3odamOb8xxmyXWq1V9c9LtVKei5mvbJSsARZX9Bzy5dLbvbVv8X78lg656\n",
       "zbNWI1EHSkr9K0vmb3tN026Me+lzYiJadJj9G+89aBQmT1BTkPIhnK2BgoZpWSPthpfEIv0Fc638\n",
       "hIY8NJxwFsqpJZEVp0dcHu4enc8ELwFL9WbNAVbd7NvXNEhnOu77740HbuLUECMlp7/RFyNLNpLT\n",
       "wbcfudCM8g7YN9qjzvH0QzUQT4qzIfBb4gEXr3XIs+UdXIEAAADgAZ76akK/AFHVNI7LZXHLUUq4\n",
       "E/M2WWoT3W3fmS31K0+GHm7DYfE3cfRx4AC6AAADAAFhqDAXoXVSy8b9NGl4Z8+DpTvok6Co8zyO\n",
       "xj81OZPQsStFiuy94x76sDdwdcN/WELJcr6iqPPsy8Dn4fAVFmYllZvhkB8TG4LIR9/FkKjdjfYc\n",
       "I4U3zHutWE94e9noeyaZp9XvCv79ezhYR529lGFPn6acsA8Qk00WwHYcbMSN+TAE7NA/rsJrHGWz\n",
       "lgvDCDzNYKxIl0fBO7iNsP3/wxVaCBiAcqNTLuDgEe+nlsAAAAHPQZr/SeEPJlMCG//+p4QAZMTk\n",
       "49RABzQViQhue4WIhcbLQbQ0dbsFq8gEQ+xz83Bm825d+jYtj8BCaZ47a1hzDxWhlSK8eajw0JO/\n",
       "mqW4tksrT/hzF9qjUxW9np9sOWMbs9MbTh4S65XL1f9zyRrimUUjKHrB/wTH18oLqfI2fHXzdnUk\n",
       "jcVxNzWYfDz6HwIoyrg+v1/DHB+/2gKvamDzQQutPqusV+DVqbH5/Ma+o0EJXMF+FDa2qM8z3qIE\n",
       "KRZXUmzTWvo1pIidklJ+igS8tmTpyAR9uHqKx+MZbG5HsQh1DgH//HiUhL+6g/MLq+P99TlGGNWY\n",
       "6TYFQxzwCnqa83Rst0Gtt7FXNWeRuVVZqLGq90iQDrzFAu8Cl3EkN9zjhRaj/JLejl2qMrhyxfMn\n",
       "czBiC69MZysCST8m6yIvhN3c/AcIJYBtKtvNEkRrClRp6JpMwokFaX4201dIFx5zyFOtfT05bRbw\n",
       "cxpJmIRXkrDUjvbL2WKTORGKR7RjkG6xl2tJUHZn+JgeFAAPisOzwgZArUatu4SN5Rkm6QTwJQ1A\n",
       "nBbqdJqIm1guVcQZPEnDG9WAp5NokKeCRfFDM3UlVal1EbjUk0e3ua44NR2wxwAAAJ5Bnx1FETwz\n",
       "/wBWYDybcowcwjPGZDebhEUidEzgcMLfVb8yBVLkPCLJtZV++VrwKvd7N/HkXIfi8t7ur8Riz7vH\n",
       "X8XQhprXzholHtqbXYX/TCybDyEtoME26JMlkusO9WOtm8ef6se7YKOd5ZgvhnSyrPVEVyPN0jeC\n",
       "mGk0MDieTaAE9HAqdLDte3mWqFBm4lgCPahXAdXk5FfzSmIVLwAAAIQBnzx0Qr8AUdhrCpJDzstn\n",
       "a8YSkDryVlXva8js/x/qYmnJcgOuq1WJQixVtqFSKZ2f/zqPLniJoJvArhTqgR38rwyraVHCNcra\n",
       "TOKDlUbTqEouamOylMtyhAAwrZvQuN8h2XpGLf//zuNsFfCr9/ZAPGgAk2ic6ydRyKVvILuWb6rI\n",
       "gHwAAABcAZ8+akK/AJ9YHJKOrJoQKjes2bdm+8l3dFRxwunGX8cSUBAAUvViDqn3KmHrWjVrrVJ8\n",
       "W11TpLnf73F2RS47LvxO5YALDDMz0wiHlLL7IltnbyP6xwG3c4U5l2IAAADqQZshSahBaJlMFPDf\n",
       "/qeEAL7zLtT2i3rdOUUFxIulBFF9oASMWeZfn4xMDz+LqCY5qzHy531F+4sy2DbySDpTMRHnhnM4\n",
       "VNMEp+0pH1cr0MZC05aSpv5yeSMzAW9KIBZOqwkMcdkh716SPT8Iz8kgtX58zLUuY5SwkvXynISt\n",
       "GWTjZy1T68D4VjygLzhmbdCdMqDFRu8CMtr9qPbuGXzRDXNlTjOvIS87pmk84H8bEP42oPRNRluA\n",
       "CwmVSQag8e1+7typ6LLxLHHuXGWT3Xz6p0MwiiE4Vhqpl4veTvKRmR4UEFPeeq+9hnRhAAAAdwGf\n",
       "QGpCvwCfcnBG1BgM8novOh/kuYAApY8l5onMm2nBHLVFKvKPDFpBEL9NYOvBxsezdp9YSgJqgcZK\n",
       "81JkBpZD3yGKfbE1bP50xuafwu0NgfwG1CjLxg71GdgfwKJebCOQl0c3KxiobecV1ExRuX6C/5qN\n",
       "EtFlAAABVEGbQknhClJlMCHf/qmWADKQd3wIK89jpanyRELgBYDIY3qjxRnOLKY8kEoCJ3yshEjY\n",
       "rPPVarnU5V5WL+kmD8q2dOXqQMH6zXe8HAl9L997yWJ1FzjJKOdqBQPuXJBgGksO+vE4EinFrenC\n",
       "ILCILk5ehzkGtGowqXYyh3ToVrAvoQmwuxiRn1rt2W6XmJKTZIrjcwFda6vLsko5HM+oSePZJOQ/\n",
       "0tBtJFqFPWMPhB4PFA3z2OdwbINZcCvlMI4DkOpwAIaKH7qLwcZXUMtF+g0qaiCLV10Kx7e9ZlbI\n",
       "a9pecuzWLTxhoNtZtnyAm2jH7j2W7X/eit+pfPGEJCMalaGzcVHaL92bBqPzYFtuvLfyXo8980aT\n",
       "/6htlxXEnRV3srJvWTYxk2YvAp8YXMb9NmfV6ktRobCSCQsyKrk9vz75jd4aXVjj6U7Nvix/Gidy\n",
       "wmn56WEAAAI6QZtlSeEOiZTAhv/+p4QAZPhM6Vd45OERiHvOwuixstdE+oAWb9ETEuBaoCTUpDkp\n",
       "EFOllq8qziSuCY0iMhidVBC0pCtRFvocKUAg+PC4GKQXGal8Iba3myADtdhlF7/A5p/B6FZeaN0m\n",
       "FCG8J8RYpk6TD+Eo/aJEiWsylKgHc3TmwBPqsZUocx1fmCe6aec+HMJTseG1Bkj8B7uFl+tujl/f\n",
       "/1YN5c3u2w+viZqG8MZ8S5YbvpIyfF/e9VZAQwDsijntXenydOYopkbRcyPh5ICscsf/J4UbzZHc\n",
       "uwAU7yvEqCiVFVfy7K172RICweevTqopHOI8r/u41sQGR/GTQxvco9sIhWx7HszrOIHozVwtiQ/t\n",
       "hFpeqrqi987RiTY+QkSwIbIgdG2R/HXzWA0L82nk+2HE7M8oFkhS4NqTbf70wBVCXBEcSJZf0lAs\n",
       "LM1IisPwmvibgRhWIl5qaT7WLnjvWicTIPPg8hPmd2AFMBTkBMSEqUZSeHGFVFek9NnqY3/mVCfX\n",
       "vzsAMbXJdN1qONEzKvZ+UlaSUvNKD/FWn4u2TIlB8iPNSeowlRHbU6sTBmveEYeIijJ6y4y8RWkR\n",
       "SNILucHLksofq4PkaqD16vD8ACGsctyDXCXKdhiDQOi8tevKNg6CWpnLVmaOgCMVP4qzNYNSzaGS\n",
       "Y2bBaS3OdzPiEF+k4Kf2l64wIkOXcYYfetcWHGY89LiFEmL0/BWDhKR/l3zfnJlcsmVUl/Kw5PVb\n",
       "RnsBW+Cb2tcYAAABAkGfg0URPC//AHQaw7uYd2XbLTAHK1ABcNZi5R+zCtiXTOK+pEcFDiaMobFn\n",
       "q/D7Q8YjTQAYX2mNOPm/xkZRHC0DLBnKtk1T/5oyVv2gsOPCEo7Iq7xAl84sy5VkaNsLO7Ecf1P7\n",
       "rpoNV089TK8krM29g45uns0LZYa8aEPAYaP+A1Kvk/PEcRpOvjai5TxqobgAsh2mYM7VvHo6KC3s\n",
       "9t2cb1fGzloS8kD/hbutwrSGOL25bwZIt2Mu4joDHjpm6htjQuHNjKIKdXJwXRc6E5JOL5e7agFe\n",
       "Y+JUBq4rIt/GK5jBth0B+C5F67OlvQIdXX6IBalnDkweEvnHwGkbFs4R1wAAANsBn6RqQr8An1gc\n",
       "kuvtuEm039nY25YpwBOFIUmnxq1pYCLcn6HIHhsUoZnG7dETlRt6PENZdP/I6I2RzDc2vbnr7Haq\n",
       "fUfyUBJrHL1Ci8WryT9+u6EOvIW2bQArdHeISzydbHbevZxm2u1ujoFucQji1QMIyIilKO/3IeQc\n",
       "q+ETZt6Y9LsROeTJSxVz1d0+3KTG/FtUlM4uku/s1PjuRuXz3UBwE5/A8RMqTdH37uwlMa1V5oZP\n",
       "XOCKk7W798AAAAMCBaKnFYdrzgh4+sH43GI79p93Fw+iXkokpH8AAAIfQZumSahBaJlMCG///qeE\n",
       "ADI17/g1rAAZugFJAOioqPXRO5+Y0pUsIETdt9kkhR8W1rI8FIf0u4n05zr8OGmBkFK4+NEWp4lt\n",
       "9XZbHmYVwTmvDpdMaWjcpLQMQxVyvHEviN15iZW8Ltum9j9pbZNtwSk75yx6fMcYfwdbYTm6H/Sk\n",
       "cr8hHUwoPNInX3To1zqxxKv/gVanwQApGghOCGL5at+EbmnnAg418yRhzxosU/AwKosCUSYE4nBZ\n",
       "cj3MS1fQnf7Or5vcR+aI8JuefMSYcRYXaLxnhcPTu2JvGmhaWP3INUeILfax/BLHWm2wHbJ4gIjS\n",
       "DIy7FuJgoSI0Q+cDOY5WXWvTSxk5b66sgQ+brDSK7bp/jUCNvndKZzx6IYV15eFoi0FkcW2BVakm\n",
       "YCrwz6aBQgxvWBIpcCnzwIE+m8ksxqv/a1jpI9tPk0/29/wY4sJ5xB8m6vODcJaBNTthR7LMnpMp\n",
       "p4jMaUG20TtEFG3/9b0sG46oyhxxAvyb4m12IIh2QYUxycEOFNR6Btk8oCZULQOXVmcvY9YswT2y\n",
       "g2Q/QeDtQ6h8gCbHJx6/oMMG0hv9CfnskpFrtFk0TvSzlKBPNv/tGA0b2wv9bNWdOvISfwVC8/09\n",
       "GaDjokTrOo3MdvKjSLr9FIz8/7lIWYOcKgaoAdLpNoykX0f0UIv9BBLgMU8H5qC+j07vuZYgIoTj\n",
       "q3gIDcpqGBz4PKoRKhiNAAAB0EGbx0nhClJlMCG//qeEADI3Urc5WL8Oc7KABOcNa5xjHJvUY0UK\n",
       "p6Wug+sLXT873HxCoC3DfNbjVwEFHLnr+vijgPueif0erdYIgK12IAqiOTX5z+RIapqGqMEhCmRO\n",
       "lhEymUigkSqVOzGhTXwnGQk+QQnuoAlD5F4z/7ibsqoq9puQlZ/UCDgCr3wbFjgJTmJNVC4AEYOy\n",
       "q1npzNBQcCOS8T09cxRNWHxfhz3lw87ZXQ6TWxoDmpZRjudh10+NzxIAf7ZBZmtzsgDLQ1jhLhoL\n",
       "HObIoOGRqGpzTAgoRdGQhlple3srJldq1u0TVWWqFYbKjYzn2VK+SRiJuN74gLbAFYExtnwY0ANu\n",
       "1iayNCtKl6nnN2Oc/5hOV8NKmTgMSFPsEPxlfGKuj5CG0+Ztz6uocUf2otdHiPQF/hbrTp6TlVQe\n",
       "gWGcmgb8zpYExObbrhcQ0K4+V+Io/0NEocuH9BjHcGBkD5olLtm04b03pTQH/+TSG3per5O72yym\n",
       "sO+xOtiPpVrPkvnLEjg+uy7eplEZ3d+rveXKAGYdMXC37hPGtq6/fA7H348ereNOcVfHKFD8mU3a\n",
       "yGNYdK5hdT2E0VjnD8I54/jlOt/6Aj2+QuENAAABtEGb6EnhDomUwIb//qeEADE8J5krTu3emh8r\n",
       "qrfyRCAud5KbWZu4FbbfFw0M7ogecAIRv4bt1c391JgssqKtjuahRBCsVUQNIZ5qA9CEJc77qf+m\n",
       "A83mcR+KaJVxKzmUkwbjQauvd6odDIN42VaIus8jOZ0rRwdlWLUALvAgB+YapUAl57wjhOnf7xMJ\n",
       "nGnavFJTvs5+d8h3JFKoNtHaCNZk2+7M/yZ6RmvePXLSjFgGi1dmI3aGeFTkWUrNGWjw2O9C+LZJ\n",
       "x7CyK6diVgy/8VyvtxIOy21+oIXiZQgA8LRUnt6J7g8TGy4CTxA/hypmaEI/64cKi87BoxYyJO/l\n",
       "GbAanUcgkPdJEnm15PiWE6eD3IfuXG3P+65mNZ+cWP86t7JO5oSx5fLju85SbeAlW29PCVf0P56C\n",
       "fzDpHYAaHHjOph/PVxsGGqZBh77+3Bdfa0SAzIEbe2Hpqwd15G2QCpUb/WU/PiG0+tpj23RjnZyE\n",
       "vq+SH+q9HYLBf7H28xdDmr8DArLiC4vmEUSpx/8R7F1yEQIt1H+8sK6vNpV8k1osp2+/F9Rgkp7x\n",
       "SwIqxsJPydaA5YAAAAGhQZoJSeEPJlMCG//+p4QAL/63re3ez5ywwqQSWGoAAA7D2BTYKgtPid3d\n",
       "kdJ+zCZ90Fzh/gpKHsEbNyKSyiSpUOfkG8U9IjwFd/tkRCaxS16km13Zs2qmIYa5ubjqp9CeMLJk\n",
       "2fxkMq0udWO6/H5z6QI8GbuMAeDiFGwQL1lHuLF4aLQePyvcsZcYxY4Ph14vTB4cG6jnJh80q8qC\n",
       "gqv7gDhWICKPif9zltMDBRgbN+VbmscnotybG+8Qftt+DiH5YepNDoqqyXxqamXKBbUOLgiV/xxp\n",
       "jtqjmMsNfmU2h6Ck5bfH0k2ABV2zRUD0GgZJT/L++FN14Kgwtm7wnkY4+gPPfW1odTbvEWzb8/X1\n",
       "7wwqvsP43siuPTDZ7fNd1JoBrMTgOdUxqv8M1dPkyi0k6XxYOLEtXt5FHCUTAsP3CNkP79BW/v5d\n",
       "bbhgPpj5w5LPBFdlnZGbC6TrMPUOTheYEvfL9W6R8TSk2txZ/Nq+KGaqFGi9ESh+jPiuP3yYYA8f\n",
       "+B/m8JeaqO05zsx1p5ZuwQDdOudt+ID5aWRO8qoFPDkgAAAB2kGaKknhDyZTAh3//qmWAAy3F8Zg\n",
       "542C2wVXpMRJINbycpsLaGAKAIWX5sIhpK2xJGUdI4MiVO7Z3QrgBNqP0Ve48/aBgOKo0/WUKRKD\n",
       "zRi7p9heJDB6R3VEQAAfscmdR9dDp4am3g9th4rrWXYNiEFnnhO4i/l50gCiiFRq0tscSzy+F8LZ\n",
       "y1kEifSYcQZohapZjBMJHeHsLlWK9UCug2e1Wrrcg6GnGBf2TFGynfcRvTxZ8Zl0ONufkRjEr1uC\n",
       "xk34+ufzOCTiz4NSxWUnKY/lsv26RAU7FYaO5Cf7FlF8tUacnZm/U0d0O2w6HqC7rTXKN6vMy67f\n",
       "f9LLEOP283lzU+t60jfUYDuqAQcQstDCFJ2fKf7HAYJDg75Hftr8PgDxl1icuk2nTYjpe10zg0iX\n",
       "MEh4+vluISjQJUqvMzZKd6+6iL7JftB7KJR/DJMgFql0CFNAZBObHfP/ZO3bFFhsLjGjxjrl48g/\n",
       "gAGEzTa2nruRg1aA2VlwTmsG5IFw/bw8Qn2B3RO8tkiMVRb6f9EE8w2Cin+ONYFOox8PQU67FlRa\n",
       "NhpT5OVd1OtQBAxqH9xpl17b2KoCoAU4AQzK/Czn9bu7fbFSi267JWKsmw+rLV/f0x/QE2aImQAA\n",
       "AqpBmk1J4Q8mUwIb//6nhAARb5Gyq2B5wfvXLJsIlbi0df3ciAd8FwfnHbibQAh+q7aC1uLXesr4\n",
       "p0tajIWpSj9h3WgnpW2e4lMDEVXz9RcNIvaRuSCS5NOGNnkHaf0d1m0QF4rrojFDpjw9xF/yTWcr\n",
       "yQk3GJ5BAw7cMIdETFtm41w5POvb2FPaiKDJQMiCxl802yb11290A3MJR7NZr5VlXLr6U8H2Dkm2\n",
       "wycwk02sUWHRFHFrxV4xqone3SEXZQ6O0PB41WsCN03h/zKRv11fQrP3pxUkLLlCCRigyF3DNX5P\n",
       "O7YspxqWkil/skPMQb5ZIBUkxc3iZncRw5YxQ+sMhx0fqb4cAw5O4qWXVYjQf0kM7DSNdesoD93u\n",
       "vdExc7fx91jZX7gknAboFhJjQ8YOkWuSu1m419f2cTn/Dbd3BYO2O42AOMmiBH6cYzcrP5ZOIMUK\n",
       "x/UtrsfInWSNyToRxbuion9jBqU1mUhUmnk+W5zIRX9rAMLXkZlX7pjZpu2vtwLGHL3+I5E+tGCw\n",
       "4bSPh5fOvOtQP/kiYQuMdMFqp41gOYcV8lo0hm6RE9ftV0+xBk+u3Q2FRclti1HTcBIoRAazto4L\n",
       "fvOBrifO4eZeEERZvILYJQ1IjQEhfSJum/FX51DEj2NrTD34daW1eEqG6SfylYhxankyjgOePfVb\n",
       "ZOTPSOJUEcKGvsm+QSh0wj+7+L9M3JyTo1cA3GCh/GvaPP/80VFXPpiEzE+mj8p4F+aq0yKW+e7V\n",
       "9kyehWICsP6uv7ADIURhjR1G06708jYRqT8yE6WMJ5aIcGMlD/9UtPUOIFAF0G1p4ymUSr1hUQRA\n",
       "Bc6a2Lvv0EWdh4C5Lp/TUk40/0OgWNsNWE9Lg/GjPuzk+DESTcjcXzSSLMhDa0XxLvO7A7pW+XEj\n",
       "AAABvUGea0URPC//AAqDEYWKtLoNjKrpyD6ABxTi06mbgc8w9lIgkY5zdm4mMua/PgOAXjB2zpVK\n",
       "HxTuLV0j94nz9EU+LICk8Uro5tP7J8fPvVfbIU//laDvcQq6VfZjbzKG1ZhHwGznscpaN8kV2Bdq\n",
       "zhWQpOIXwX23eLNZb0jTERUFtmcq/qKZx+JBXGuI6XwHOyTYJ8Ok30jMAXeAwlRaIS6/RbGcvrOm\n",
       "lDL6DJBbcCOsEwYicnkm3709UVDFCAKMFw8l+J/s5cqRcRM956olpZqcTMu5HCYoH3w2SpGPmy0n\n",
       "BRtf0/VHGsHK8jGrE5jRNGyD4o9Y6Sa3Gg5o+iEcGmeq1Y16BXtoSzjLazi5AB/aqEFJSEHJG40F\n",
       "Y/WEpubyL3tZVFtmuoQZzcxbRYCFrwhnmgITEem+xiYW5L31AYntLp1LrQ57waPebx2mirOB5Qdl\n",
       "nL59XQ91n5PR2lRDnYqiUmeqb6YgQNJv0eX6jdg35Kwt1YtinOMwyNvUArTHTfVPHH3xCNcuxRF0\n",
       "hnLnExPI13VCZs/WKXAl12gTRDBaLqe5y5pz/TA4kp91q4sE+eHhClr10fKxkC8w3oAAAAF5AZ6M\n",
       "akK/AAqDRNnsz+odGE5jR2KY5suWoFYAdHyQNvM9bEJ5hk1Tnacv88RM0QOLire0Yrj9pkCsssSi\n",
       "F45FJk6cmC1sWNUehW9JPD9fF1cMhT+EKSWFJ4vfMehHctfu1oOiCIYdS1iG1S/uNvlAXaSb5K33\n",
       "lyUkb3uDji5SfkJyMgyxKB/0OARdi9E3cn56JPQXXfxjqQMh6Nh4gIykNOpe4IM5HfvDPV9RBIlW\n",
       "Z4B3mcDfbFQA8OeoNZZjlB7oMnFxoFIoasxvO+PMPAhQNZcWXn13wG1423DvCXEY9ft3P7PGMFuD\n",
       "U4dh9LBJjbMcUdhqwOHKiKUDpb8ow2lQ0jN+SDV9n4TcwAR1JxFfWFOY2xy5tdVY4Oj1fT3YgbJb\n",
       "2/ZyVC2TDm1+fMRx0uy40JA697+ohsmEhrJ3XQpppu1+Ha4hUq58GVbIKwNJoE3zxvbGSC/SBJx5\n",
       "i8HagutsDXMRHAszer+Mub3DcUsyw6WA0Pteqy8gdMEAAAEXQZqOSahBaJlMCG///qeEAAboeb9W\n",
       "gAGjege4O+NZLJEhphTuKlE52uuy5eMfoZMTBbO8sg7GEICfxqkyKc+z3A/Q+aqldDBLInIk337x\n",
       "uuHCfEBdsbB7MCQqtT79XXxX8zOQYHXlE3WlvOie8OaiqZ0fLcHUS2mphL87V2smHsUL1n0uythO\n",
       "YFYhOq9kmCsec1vpsGuajPBPShQ6jNehMx4auJ+6nnEETtbq0ZoHFSq6lydeLimJUUrVl6S1+lzB\n",
       "lcu6J5AWnDxH0KeMBqCCUi83yVXUEGXWdH3+l3EBwixFC0G5ahGL1y5HfxgMuK6nL6h8HIUqAaJU\n",
       "rS4Nj+ZOWe+LlL3/NEfG5AK7U5jK/Qne62pVAIOBAAACe0Gar0nhClJlMCG//qeEAAbqPd7P0ABo\n",
       "3tuNGh6gSd4FC9P0fadIkfmrdtcxdDTzc9xYIrzqLhRP7gHaUZ+RPBp5/5r2htOBLbSJVYlIv2nS\n",
       "Wgd7T0wNsEDQyTOaE3q3yIWmvUu1UOmQl4ASauBqWU1uyb8pyFnjxtstPHqnXhE+hJfRp5DDFN9c\n",
       "NCE0aKuyJJlBeBGW8C1JfFybFm5QDoa4YED76xkVTOciSUCbphtZNkbbV575I+NJHgHZfDl5rsst\n",
       "vuLDA2zAZmN8ASCj3ZOUp3YWfAUkC8qp6n+HgeI96RZ2SkINErILrrkdAoMTOa7ivPdCkIAQP5cY\n",
       "TT/FJqJXfzi8LZNWsIH6Z9ef+dRra8kRrKn7fh+03O3zw4WLy8zSDCb7MVD7R0e8eA9zYJxPK9nD\n",
       "AKwy1lKm2DMv8+iJSXBh6WcNg24uHhuxKkIyYq8nMW7qUJqyNLVii4kQurg4bM8JIsbPY10A7T52\n",
       "ykZ3c2dw9EiUd8tLVIYEmb/Ug2372UtcLp2gKNTFfGX+kEU/KNHqgwodagUQALbWqRT6pF2Y+TBg\n",
       "Fds6725SEUpImdO8Ne/s2OU0+g8AJ48qpVTiLPMSgnIp9suanKooYANaJfwhh0yV7RHGIEAsKxbe\n",
       "0BJrOVau881auB71qxbtxR9gaAFI2/r1N0lI1/fvo069LutQWrsW2e8V4paE2E7zCsLWh7Vbf2E5\n",
       "Fnldk9hJzuH/oDijz3chZHhdK04oNYAAGCYV7NEu1oK3kyTLBDcrvAraXxfaMXX/ajB12CFrJNEa\n",
       "nBLmteqgV5x0y39H01knsvHe88x6elOgvZcR8OWOcHwolzUHpHmn2pixAAACfEGa0EnhDomUwIb/\n",
       "/qeEAAqJ44oGmztv2jMZtDjD8QAkUZkjORl/SJc/DdKfO8E/3MAQLdHigDNpDbGZv5TcwZBtrUku\n",
       "gYYndTLnE6DKmtnT8wAtXz5P4rdtk7CC5O6cp03MGA0H7y/tEsTeIylkSPWce1RbesHF+td/1QAZ\n",
       "CvTE0zAUe/++cDv9zjX4Yrg8Ae5EwGhql+16YEIsGASh1BK5ltWWZ0Hry/ktOogvQZdJHRP9N0bg\n",
       "DCG8G/y0Xt8Mm7WwUSWPPZ0W194GGhy1dSter7HJS4AvoLvds7Xka56bmkFif8XKW1ECYwZb/Vxn\n",
       "n2dFOgHl32PNCQgNcDWoI0erQfen5QXEVkZfTJkP2Us/xHvUzsCD0EXgW+it6WlAfo423FL6h3Kj\n",
       "icndLPVLe7aIDaHufs0I+uPZDyQ5Gjc7GlBl4ps9Sh4BoVCJeGY8BdUvt/DDilm4zcfODbotlEhX\n",
       "h0tilKPhlcml6HTAY996TmpLj4d449vyjgKfnVSAQ3WnAFarmaJqnhEKt6ftBnm9DrbYFBPmaCHM\n",
       "TQrBvdiZF8bLHThu0b8CUVRfh+rxy5dUhlF/1Y3muI7HgAvGUkBSW3HeIkSv/I/E9FjBlPpiC1Yt\n",
       "N5Ayn0gfgUJ/3B5plLJruV5jAly50Mg9GZDj3/SpXLEjrwoCa0zcVsOZxFLsZZkkFFKx5YTZj7r1\n",
       "tzmbBpBlxJE+ocnwgb5AULmghcV/RXSU8xZeNg3vrGnhvAgy0Dg9kp+rS07l8G/sYuiSC2cCMhUH\n",
       "REGS3KPdsX90mufykMH/PVoyzzQUV3X9VzH5atg4vU1XbruLrxhj9BNE2T9nYht16sEsRbwgmgAA\n",
       "AtVBmvFJ4Q8mUwIb//6nhAANya76EJVBpSACpNE/+Xc0koEd5vcQ4i+STrHcEt3a4IhDqYKAb8ox\n",
       "79MelCREsHusLTSSu/0NyDd4E6Elu5uTxNOfmfKPMB7TAaD5EoQ1HAe7VfP4NiFjPu0eioVPybzr\n",
       "nDNQczjNORR4fcxStjbBAuVLiGPtMFy7mzNdTCR0w/rpsnRZHC2OccdFABIG3bPoG2JZ1fUtv7cm\n",
       "/92SzL3L8LbIEiiksfKrL43LD/DM2sPRsUtp4GR8oUu+sZ9nVUlRYrLkNPCqhj+5hqXe5hHd5Ww7\n",
       "uZK8sbocKY33Lbr2C38fwsrr/dX/vQ+FBJNmJvs9Xv6wkRd00QVov2YcyA8klDEnZk8Akz3RUOWv\n",
       "E1C/LiGbQIHY1OdNOf0bj+ToaPb8jIklySmx9dOu8PHmEybzG4q8QGiKmVWGvmFj93xGWi2oTszc\n",
       "KExL9l8QYdlZkRnkqFhPt+X9GsefV65Nu2mZ0aNoEQGKXm0VN81MVBlvqNi1qyFwGCiMIGOWRUNJ\n",
       "d/jVm+VrPKTEmnGlEstxcT7FmICA+FUt4G8Wz+dyb3SPkWhkURzkqFg7GWmywiyPqN7S0CH1GGU5\n",
       "1ic7yGKNIpe8SMCSuunW1/Xo6ePXPiCCkLERdsuyAuS1r/SvLMzV56RJQ1Hr8wn6nr+/5uUGVx/u\n",
       "KNTwyuJKW/kqQCZ4Ds6w2QMx/q+Y86c0z+FCUB3N5joIzK1LBnin7B8s/VRAMaunZBGwhA916AGk\n",
       "nDYC+0xPkWWHocJkJQJ547rqKSVYYaxRgELEHV+DZRRAJnDB2cYPFxaIGSGd/CnE10n7hYt1s5w/\n",
       "6HNkV5zvKQi8W6IU8RiK0WM8+z7dJmV36CvitVNkTbNGs78/UG4pFT/Tvf2d54BckFNq5N2pfoSV\n",
       "MF2e8+DacWjgG6M6Lberf1vgAdrLx7Y8d0fNznC5VknclnbsgHgpQNeSmAAAArNBmxJJ4Q8mUwIb\n",
       "//6nhAAVH+aydKyM0L+BSM/PZ+HJlaYrMAeXCZPauy5LAUCpzsJMNrXJciC8TAx+Ab42tjk24O2S\n",
       "BRUM+rBUVMoVGljT+6+SjgAvJfQFbK7Ki0PvvT109awWqJACShqfpHwNbC8T9JaVrvdfJJXvQC28\n",
       "KMvIzYzV7Jz717c52cqVbvU9LlFjqbkxW1b3JsEmKGwpJwZ1tctiT6wzOvXPB3pTUnIsANog6TGy\n",
       "j5SEXW+SIxM06Ym2kWZFKhuGo3sJvOCNqpLDzKxpDprmzPJuTwuxISCvPwzEl2AMrZuD+Ri6vxAO\n",
       "1GEg+65ggM5pOvlGqvE56to6Cq2yrGBfMOsrQUtgKCPUNp5yptylx7/Vyp5PGIm1L+NibZVbLTbI\n",
       "F/FDVZvmGQh+KRc3GKF2kWf5QN+tzBj+VGqyrhkUGBRLJW6mSf/r666epVgXBRFvLrG0HboMcNTj\n",
       "rSxL6rIhjYXMMKegfUyoZ4sEyFXEvYvEQY6JpTG6IIQFFJd9hNK1OzenURxK/NC5KA9mhr0ESmLH\n",
       "MyF9bM+q+Pbf3+6/H1E6xuwzpVIYyV48yNrMkBymGfUtJVnaV4hU18vV97BsV20HCd8doa5FaFFU\n",
       "RDhwD2eu7n0fMHtLmbRWv3rB13PlkCpE+bWf+vgns/Pt1ejtNe9Fe9EOHon8RWxL4qGxctAXCisV\n",
       "rRiBhJ7rHo59DtskzHsFxuO2Fu07Y2jnWPk3uC4MY/aLgCbjbObpaEs7lUBJzgn/WjBcauesRonc\n",
       "WAd4wAZh4q8zIV8X6wsKqEh5n1G/5egPfHemmmeP3x9EQrwsQsM/u4h+tcloR74y5QYbJQdvkclk\n",
       "he/P9JmRYW6rgLoVEaW836pANPq2xb1qjcyx7ipKLUk69LEm2sXdWyJwM9s79qL3usjPNx+dAAAD\n",
       "A0GbM0nhDyZTAhv//qeEABu9FF4fGMAAO0tOW4K3UruPfcJOdEzNH2Eza/yOVD6jqFgSWt/rlR8d\n",
       "G7bm04dhadMwPZ1dSWHv3jSfNFAIiNEKmeOVWP7RT8jXVjG8fV9e5Y7MYs2bPMR3frH4Avi7knur\n",
       "+HVt00QBdo2bnfR6vVhgzsUCl2CVKdV0mGMO8MzzPue/87nAoGd8v8WVzf5u2GntaCWeSsTvxQuk\n",
       "i5Lb9X2P4PWU9QYKnD8vOyVLiM/qllmn6AAOK1Q6jPExL+jIgyyQ8+OGO746mJnLV4it4oZLBXxn\n",
       "e9bXk2m8Owtqa6r3yqGc3MvAKEn3vbIRjKQoZytAlzFycGq1DNVyOgEe1OeWPwUer5rmWvV4i/eG\n",
       "7fSra1+w+jYXxtB0JgqFgA36NJkQcID/kcPl2IBhHr8cvdeX0DNwhK187WnoItwfZLttwFMYBrGE\n",
       "vUPUUVLhAI/jeACV3e8Zo+8vxYYWisOOYAJHtll4nPFxyXD9s3ZhfHE6Di9oBM4NsalYkOXhGqHV\n",
       "9oGBH/bL8cp2ssqMBOY5WwZMazG1lMdNth/KDZnXbivnSysatu8t8MpQtlmcmMGj+yswYSVJr7Q6\n",
       "J8YcazuQ6o5Bwur9ocpIOiT78QQWxC1TIURObFvJsK/bo6/7IA7EMf7J/V7aRg8SPwhoMHJtO4IP\n",
       "rU+hVDGSP0DMztsrH851DKz9ByuTpXVxDMnpXO8xtteU8Ek05A0gSiCMop8a1gkeWLPVBwZ5RKbg\n",
       "P5OhmqFs/0i9WbnRZG5njZpmhdoW6OAOfRQ8aNwIPE5HBIMuxGeBQlNbsj0hASbXPng0ihclP/LC\n",
       "kQRF50TkVQriVjGIePLwsHD/vKrxUSW8+MdXxjGgEJSeo6UbpzRgv42WSgtpjPkO412hs/cEvMIQ\n",
       "vwRPoJ4vuyxHoerkjdcni8kCXMCyz0FbI5J/yNLxr9PoXbZT9B8S04Q6CmnSvFF+JI/CDANpT+ZE\n",
       "7WlKgRiBTQZYUh/+OZ7ifnAzt7QxZFpwoz79eC3EwAAAArtBm1RJ4Q8mUwIb//6nhAAqPMu0c3uz\n",
       "36caPUuQAQ3sYPfbFA5az+AUSVQV1HNDIBNdpFlJG+veQDu2D0BIVUNvoCXIP/79PEe27KyRn65g\n",
       "oStt7+1DGLlxkFZ6sWoj+ONhsDxCtt/5RF8XFL/0ke7Qk+3AxNuOvdEqr2pXi6YsPZqVQJuVh0Jp\n",
       "0zMsyoiw0ICznaw5F35hox3+/7zhYJCogGiY6fEMGFc2SbssCBnLAslE6IE++K98Z9X2zqEbRcZo\n",
       "ULo0iAA4GvDfaRIAaTfK1JcNoHBTg5jP1uv7ZLLiUntWDq8Y4YjA8rqdhE+9tTjRDaYRjHOPUlCy\n",
       "hzH/Ds9z4Ws0ZIVLtOt/TFXYKPY3LsTvAW3CReYkIc2FaT+0dPTNWgvW2sX5TxjEPrpzXN2lUXAn\n",
       "tnZFzVt639xB76Q7zfvhBbL8w53uQ3ZwN7N2K2EG8kua3val+4VW4PAv6BWaQ4J207wV3c8bgedG\n",
       "kiDw4Sf5lDGi1spWTAZ3E6iujN397cZ38NCS1a0jH1W+JhQe2EKRciH0KmH8KJxtmJX9EWnN9vDB\n",
       "DQhoLuHEOCFGt9QqynWwdgATH7wjdD5ekTbwkrVqqIdtnI+9eT3+WSMY1WXRw4lrPU29elPpPuX2\n",
       "oq59iqmFU+PBI8226qhaBi7k3bQXhmcx/wFTCYHt3/8H+eCfUBNyMZ3eoPMkMrP1cNpr73LYg2HA\n",
       "dx7WFiWtQgD178No/lcLKGfULJQaOW6zxjZeiaaZCMVHD4uuUnEvML5AI49pWk5cN9mglxWZ3+ka\n",
       "vyibv/1BJlXMVCiLpfccUngyhqWbSYwZIho9EMpQl/KkyMUPcSa0dCbOoLlmW/Ou9G2G6fqrbOya\n",
       "7NjtrErRFZuxCnl1szVbN0iy1ZIwL843IJ7H00S4RKqiguAB5wM4h87M7Al3xHcEFNAAAAK/QZt1\n",
       "SeEPJlMCG//+p4QAKfpCWZRtcuIATRRuDHZ+1dVvfJvp/GqGUHgAus1F/R3cpZt4/5oRsd8WYBPm\n",
       "mQE6AjSTUpWrodVDAyUOfXxCb8nQV9pmc30MvxTytpT8240IA8nkq4aWK0hu8ElwAe9vSqvrJ+Fb\n",
       "ZHkDkYuQV4X7ntX7QPCRMxW+uqD8OMB1zz04H8WZtRjziuaTQ6w7AfUReyV1+0jNEvIgtgkoFJ3+\n",
       "ngzJjjDgIaA0sfaljl8CrLHuFsEhWu7jacu5UxBw2DKZcBy1oQz99m4D3CCWmORhdPhWOkDqnJAp\n",
       "N3gp8qwqU7ia6AtWfu+H+DmNsPFcxSYoXXNu/EIvCw+JLgFehsn1l8re1lkXCfFzDiT6xssEApSH\n",
       "WcsOdwKU0mVAlmoHYf1QTWbr+mRQbY4PEsI55h25wQskvufFV04/DZCwoPOUZBC851OHYXnxiW4H\n",
       "I9ErBPWdt4A6Jf8o1MztkfIQivoAcOjzvXT6gQBkSg/x8U9LRWWXqv94CCrmSTB0rnVqq2iLbscQ\n",
       "65BhP60XMGi7ZKlz4J3z/UBCZiOIOziHwyA47NQuVr0ZrQgZMFO55aIna8PDenYXJf1x2fypLaj9\n",
       "ot9jgRvEtphr12qVgTSWFMnn5uhdeS+Eu8mQAHnFGY1gGf1RzsWFUjd77kbP4BN3JbqtbG+NjARr\n",
       "VJmSa6fky/5brtrB27XSKXOFokje8jPNbeZZWs6HQ8Y2jByo91pTZozM6Fkeo1PVgA8CCAjtmmNW\n",
       "kgDAlJrYC1Sdqi1zWMANbRiTX4XY2DQB+Wc6FOq5+MTBgcHehJl8QcEYPjQd07ADR6D7hoVrBAqB\n",
       "TOlRGRB1hgxp5NRvXpkR67NM3JPZTkzU49vluZmsYApMEjFvlNxZPQPZwJ5VxyI48Oucgyy1AlgM\n",
       "R8f3eYwnymOPlVPz0ZQZ8QAAAqBBm5ZJ4Q8mUwIb//6nhAA3McfgBLVyD24es1/DZE14ssXb1rZY\n",
       "DZnYOXCLrUtPJ+YBFY6Dn59S94bPQqH03I4dt7PwrRkYRexdulfvI22QjRFFAKURvfJ8qAM3pGzs\n",
       "qxXD0Bce/80Lm/D83pjvdnWCDvQNI8aHdiw8Zsxz32AqSS6bN1IeQ5JBlGkgPi1cqLJKrbIbxxkj\n",
       "f0f3npm/V7wFjBW3avWiVq1STNIUTxceKvap/lPkFvIBWQXWZuOuTgWK3klf/xESNpm/58FuoAVD\n",
       "pD8zcTI1zaZw14VQMebIOWjaVP0sYJso8ry93acCT+lYqgqr1T8rL1PHwG6qPoarL9FPubcJR+dZ\n",
       "HSJ6nj3R2KhEyJqYF630dPXB0XnpBViHaOS0WAc6Ftdx3GVl6MfwI+lkj+41gvJmQ/3jy74tfg8u\n",
       "XYn17QjIJhRvbIzSc362jEQ6MhqqxdyBtKxg4fLBddzAmiiaLF5+opztwVQwHBIhRBUR/9KoaqiX\n",
       "lkil7GjFf3+dJqgbjaaCCxGZ9Tn2YT3wBJSK4vGivnU7gwXuPjWw/+Ki0X202QLPfSW309vOvX23\n",
       "I5tS7SpK25rgluq2ad6scnY89fZpBefTpF5n2DCzGVMiXCCqwH5b0ImiQsF5lPu5+xLrJCPodeUW\n",
       "607ltKumroHfFysyYxRlDF0w/RcNoSgrcPSGZiRUe1OLaQDvNjDyMRdKaSEF5ptqcQMgQwjVpZAw\n",
       "zV+ECFQ2X3+0PnERWZASBx/M7auLwUvu020vKvgu/x5cgT8XDLdi8fPMIkRBH2OWgIN29W2RKUty\n",
       "7e7ezdhk7UQ54gttF+8KvcTizFR9awSCeh33W5O/shBpE+QBx9wIN9pLNUWBqMfInLKJrKSM5+28\n",
       "KpfIZx/ii8gAAAJzQZu3SeEPJlMCG//+p4QAN1Huxq7gBbGszGqc2DvnxSro5n6l1HVYBnmwyk2L\n",
       "hap+QJLQ/qmYYAoD5AXk3X7466KF/3ZmjzZYIjI2RdggRs28lUGjEMCnt4ocUPaS5z5zEmeQlKhg\n",
       "XRcwADprHaQnp11cfmBLeSCCLq5C+mf9+lCos8PrVtZEOQ5LlszF8ixFddaDJVYAg3ySc/ya4dnA\n",
       "3BUGu5WE6CCZxZUc5nQZXrsjdgQUpzPvheLssFL2uLkgvVdclygtjONMnFbPpM5thc1IHz0Pu7G9\n",
       "yzsJp53igo9UBjtk8uzP1XXHdFz75DcC++Ru3zrAxBPjRxtepE+a+Agun7mFDi0M1m5KcAlpUefq\n",
       "muVPUJ80kl6KhH0ci8A7CkWDakQtsh4DAdnG9HDE6oT4MmZuk6AMJS/L/HfF4JW5VGdqQqq+xsqG\n",
       "y0RjCl2EMrsLzoSMz7x9Y0xYlahFK1bF6x5FICGQKq3wgukeBWPZslONK2+n3wPIiqFAcsHWzx7x\n",
       "nXOoNXfPs7eC0YMB2V+6Ov1fr8v6an8iMzUVGQy29NuuZgcrmFZIuWMXMfCRN/VXNhbJ7LT0Aq2E\n",
       "2FKEebZKyRlIKceQ/kOtzeeYTaEv+3iI7JJBH4tQ3mJ+avmiwnctPb3x2DiLXyplFnAMR4Mrn6LD\n",
       "p4kwx5AMyM75JMmkG75xADy3lHNeqTvRsrqGXPss3J1oGQO2PB3S/FpWosDE5Rzx4Qc0lJ9Vwreo\n",
       "+1VXa4BCX4CxlAiU91leEKgtoOyKFuNmkTxpBenkLjqcD2jdZDJj56D5HcZvn3DDQt4IAAADAzZJ\n",
       "aYe+byGdXIHNSPh1AAACw0Gb2EnhDyZTAh3//qmWACpcYJAqiFqPVMHx6Sr5ZuunRTggCTEPMSth\n",
       "tIvC4D+91HWD8MBFg5gatgRzuxIFq+IepXV1SqIXixGZL/YGVoQORvaT5xEJnYrBEzUqvAcDocnh\n",
       "cJlq8VC9rv+GsUiG0dwwSlOO6Sozkk2lRGntGB9SAU2vp2JmG1Y24hhJXPrv+2NxDVZEc6t/Wizm\n",
       "Ci+Caj5p0eKYFtMu7WCFxXQSgmwfT3ii/yDH2Ez0xqVtt4C3PSjATwlxLQENL5whrezVKZ7ENFZh\n",
       "bN8LGPJ9cFJ8DilDPTQpJK4EPa8Jf7159DN1ciuD7ObCUqCwCkL9h2vx/3KcHAid0bnOPn7IWNFP\n",
       "S5NavvrSWGBMT8h/4sEZYrC6VJtK6ZaNcUtVZpOe2qtHAD4RG/tWl++jXd48jyjjua4rKVoWF5Lr\n",
       "skCEuZdxttgj8mjjrp5YxhDpW+ewPTvNT0eYtnowxMG8MYa6Omonc9tRLG9XLExGwoQ8lwsZyHaq\n",
       "oWCNrQfbMw7ro3Tk2JAiu5ImYwfgLBvJPWp7hRnoB0POetKQ6Wcig/cKvI/Iku1PVFu5K1pPkZc+\n",
       "FrbP4rUUynKQXPkE0/9TBQahOkbts+/TDVP7XD9UMJg05gkx1v6gdrQKBayR/D8Ym+6coHUcL6U4\n",
       "OQ2xJbiA7ngEobTNRifP/+fMN3NsRloq7Kj985hHlSOxLbxkbev5IPV5Fi/NaCIXhWgeAOS1nt0e\n",
       "32M6jB+IJdE27gRfNRkV4/tEnBGbTMezErgveJppBy8JWVSkkjszAQaltOevmghmfIFt4PdaziKR\n",
       "7AeluBITU+v0jZE/92A+g0cgi2fONdlwKCdw63uOa2YhANRsCsPi7VNUaHf/L1HEVxLa9KKQZGNI\n",
       "M8roNUHFDxHT6649/LZTjrE2+1IAU1dPksDaplaI11UZZMiImy1hAAACwUGb+UnhDyZTAh3//qmW\n",
       "ACqHXgEhqYAjeYlb9zg+eXrYSk/2RI/7AaCuDWwXtDD6ybL54TRgYXIgTJH+ElMMn+D22EzRsC4n\n",
       "Ph6iAgtRx1Rp78l/CSsBwhX7gqrFQ4Z1PKOyyjubH5+109soFlYD4UQktUR3IPyjopah7y5jYgv8\n",
       "hqrcofmP2HF0fA9VT7dMmguZnGcuJYMfeSw1OC+Hz0yXX9f0HwqNighg5yMNcgyr3biPectCv6cZ\n",
       "AzfSTvnjZLf1itOses0jyFBVEuXvMgECu08rrvZUB+e3SbE3sHM3fiWfxq4H7dOfbfLe0heyP5ex\n",
       "35ux4/kHxXc8eVDEXNtDo44rsoDLI7ezLYkQtRG0CQYpGHHJzAWzfwy0Pr/LfI7ik7xM90lycqLm\n",
       "ipeMOGC99YnGdbV/XNC0v/nDq5kTq30+h2UEPEyDZ4N/EUp14T+q91qxqWJzJNRp2Iz4A5sVY3rk\n",
       "0/dPEJSD8gn0uLIVmtBDEfXGy9qSzRBs39RNKofFqGudXWrYFpmTe9mZoSclpvtgnnDu3W5Npx0D\n",
       "0ZfrjJUJrgQ0hYvOrRi380pkjkIkPjt9Wc4xn/BqL8m8y6HLsJt7yZp/1U5JTerDJfSk+pc5EZjb\n",
       "AyMb/Cbn86T+BRvaZF8LPbSHAaaRJSdma0Qt8SttutWb+/VdWLggQo6eFHeRr3zH4fIlrvfaRhRB\n",
       "vvtPH8OC2LaUPGiRWdsn/APsPzIo2u+psglqIFZqbZwlPdfcb9sKV4czkkKd159HjjML/dS+KOGF\n",
       "srLp/5cJoqqVYXXj+Qh+aU88/CUrlTD5xgY9W5LWsJMYRAKBJp2X7EUqhc+BjlK7iSSVF++b1eOU\n",
       "iwLrw15s5GWhhBej+7UFBPC6pw02Xs+gxSU828eavHDusPUfUTrGMcFI208FjJRT0J/KynB6dKBX\n",
       "vcvTQMlCmgAAAxZBmh1J4Q8mUwId//6plgA32lJfHdF2AIhDBi8FVxvLtT87qynXq3gC6rtrk/PW\n",
       "RctozCQ7Z/SdbnUzXciCW8886YhbxoB3uCXvOLK4rsf7DqP1Xpe5ZehgqQy+dfstBRuj6DlVk0Zs\n",
       "pjNhSQKpLkh7feypeBFe+swXlHw8A3fp+wRSVrbdaL7QZ84xT5PQAMfK+1/+XAbp458WvKuyIQWF\n",
       "Sc9KgbS45bh/Umroc4vOxkVRuX+Z7jEEkiH3gnGpCx4+9pnE1MC4CTRzp8wX7ifF3dyHyTDAa2Dj\n",
       "GnVJ5WV0gUztzEJd9OBYw4tcnxodb/pZUDRVGiHIkHen+xIEjkQfRro94iDqvotgPaHeaunryZbI\n",
       "DNLDGEppQaMfAmwheBmig7f2UfEvQrott17QaD0d3wonI01TkKQtyOxQmCG5zeh6Vryk7I4hVigS\n",
       "oRFcatox2s4vhXRaNFBnBjQm/Aw6vUKGdO8HbDWs3e4prPY2hKxJcaWzgJ55g7n/UPCrQoBftmbA\n",
       "BU8xbFjSBpEG2zTmYqpOquMW6nXGSXXWlHFNEKmqb3+d5DQw27pQJkYro1CWq+AR13qVBYPvFB0t\n",
       "YdfSX2XXQYZtIRJ1dlN6CgN+UvyedUJJGrkKQzSmPAAxXyyOrOTe94a3nCtnbi8iu84xRrhec1M3\n",
       "bRcRUnmyGQdOvhMEWFVbMoHJrLpIMqzqwIyl5LewvtfNnyIYvqQRp6O6aJYGlHq2NNsbXLQ8C6xA\n",
       "JnskXG8szkPrPBggWeXd/OxGFUeWtAvWL9dk90iaHBplg+ps638R5L4lhDlaiPoFaAcxgSz5XpkC\n",
       "VbiTqHvobCh+rpEITRzl58oS0E/P3VX4N+15W6veY/DXOU5MEwthx1GfO61SXzldnW09qheOEZnh\n",
       "6odjnNnpQjH6RoKv+RS84pKxXATrKK9QN1KeIW8OTspqZL3INyEDNSV+0zBsVDre0gxOutKa6erY\n",
       "w0CceI6QljaqaWDq+IJqMXaX3t0PRVc4o+7Z2Jp1vF35lLgNEHT4i4ir+3ctfWefKURtmy1f8HJl\n",
       "XVFxAAABBkGeO0URPDP/AEdyDOBRsso448f2stgUTzNJuD3ACVROqz15O/9PKrkcPXBOZ3p85z03\n",
       "pEL8gUMOPsivFLcKQgcPIn3cTvx7hMAfYnvnmpnh8g1RnZGiOt8dQ7gA8+dVXcd5ds3Tgu9qjIBB\n",
       "F4Szf0paEWgU0pK81i0ORtrn03Lz7siSooAwsaGzaTdkqEXz7Np6qaMAO7aZMT1tAs3XChnX1bWt\n",
       "QFIvPJjDg91gFksunIj++9PMArlJjloRcKBlYPwPKuU95n6B3Fww7hRnlEeD9hPWP469dhwQMj3V\n",
       "nnRa063hAToDbMokaLI6jPmHb0tm8l5BkfaswhjJOf6Qwf9VnDO373AAAACnAZ5adEK/AIK6NZLT\n",
       "0D3GYHFncfeK7z5/VueYv7oX1p+06JyOGeSOHvpcx+xQyhVcWjlWFuPOSBN/T//DctZKY+Uavat1\n",
       "wApbfCMGYE7t0bkzdoQ16OvSVq8fv6Br3LBDZWsT1nXgcov3CURExDYdtyQxBOCmkdnwc88TcYXq\n",
       "fPV/Vj4Y76HWmHsk9sEDXx4t6BkP4e+AI1SE8ruwMNedIXd0ObKnfbEAAAB3AZ5cakK/AILsF0BJ\n",
       "H7hnpezKPBkKI2Q7GIkpY10+hGbTx2c0zyIp78aIm7nF7R8LkPmUAbGjfC/aPyYKUkPWYsdtFpEK\n",
       "GHGyP+fCtqWViCCwlAUrW6sIfKwXNcgBM1NcOq+ZmBorvvRafvfAo9IDo62FsrSH5YEAAAEQQZpB\n",
       "SahBaJlMCG///qeEAG5SjmDDuPvTemdDputeZIbb0vnNeRoN5BN+MAAF9NkX2RIoFwDCWBpu4NaA\n",
       "JJlvawdV2AuOddzT8gQcAiC/IRVxhyUmlY25CRHEb5RWyMN647eWNgKcNlipyI7hseFO9obgPKk8\n",
       "KFLxfWn0r1t2gnhRh+K+9PIlcHDVZQ/ZFE4chVQloGs1+x6705CxtsIiZ8seo7GVb9RD5+FxlA5W\n",
       "xaqL05IsS+vR0FJahyx1Cj89W4xwGHN+OidfrkOLRIn9T9FaPQDolsX5O4LjKR2WUf13NdUnwt0W\n",
       "Q/9g11ZxiVvxJDUUQK/Rl+YFwhPnn+LV4Q/jV5rb1w7QDlG0rXLG2CwAAACpQZ5/RREsM/8AR3XZ\n",
       "9PU+Tlm/Iu0X9DSzACCr/Ur/7L3BDdiM9dWkZisfDuLXfCiPERtnykoO0YORYnxUHVo94Joyno78\n",
       "HL8QiA8wu2OhY9PgelQ+MO+zwNaj0wxmtQPWjMGWiwNkcAHvB7KRy0vXSeH93eQYzz+/BHcTLNJ7\n",
       "LdO0eD3Yrc2+mP/G0FGTtmXoLViqoU9kKlhJ92RfTVhpXiTA6rbWwrJStgAAAGMBnp50Qr8AgSm+\n",
       "yUF2SooUMF7CIkoUS2X6AF1vI2MrW/+ecMMzBXyFOZTeP+L68PBp64An94bdjq723E3gI0QXJYOs\n",
       "rQgexns4I7rIje9rjO2AwlVBU1+SJWc5kAkgV/ZT1IEAAACGAZ6AakK/AIEqk0/KB68+IWSepaIW\n",
       "4M4fKzjS6Hh5EqU4Gq/D3qPyZ1UQsz7gwwl224Y5A/mG3R2M0u3Jtuf4djuIdqiea5s0X5tDkhFu\n",
       "yW81hF/TJ6CmmtCBK6+E5VCSZTmHVRmN43BXx7+oYm/NcneNPeHQZ7fCNmZ9CM1HjtuioEGOMEAA\n",
       "AAFkQZqCSahBbJlMCG///qeEAG70UXgnPdaucneAHHbC83ybhpJ6zF4BgEKSNmuRj383VyGfDWDb\n",
       "Dfpvux0zjK4RMHnJo9qdA0j+o+r+/NB5UMW9hiQ//2iXkj1rlkS/nHHno6bmYlq3tMmwwqOnYdcf\n",
       "EiIc/2M8STZw3E0LBsksdKX6rPzaAsJdJQpL8cF0YD51PPh3xdZ06ULEg2l8ld6+8jnEVDDOAw2P\n",
       "qwwfwiqI2WxeEEHzghMceBKh0qQ7EQ5Y61e0FmtlcberNLkb6osxJWjdmtIb3G/OopxLf7SAbkwq\n",
       "H+a1FLlfkIVTc4vdBA7rNgbsZoJuuem/7AuZLX+sXRcf3X6oxyAOVKy7wnaamMgytFSE6kPL/dfx\n",
       "e8xRUApV5AhUQTresXHJcsS3kiWguJAWQ8EOvJvIz8OWT0EmYNNOvntLkoDHYAg5V/Vq8r4R7cln\n",
       "M6eVQB1Px1o8HnKn7pL37fkAAAFFQZqjSeEKUmUwIb/+p4QAU//CxGSAHGnAttM/N855kwYeQPD/\n",
       "1CQZP/FioqwfFuHjDH+8DU57bEl/8KvY8eD9XAt9n/ZbjCZu/ADCR/RWRqpI6kcT3LcJbaS3eiAI\n",
       "bRbst1mcLeRIgyZLX53jE6+Y1HzWV7bh/HpFLGYfV7kDCMFVNRWpBIaPXTr15w9CdSAOFKdkCElF\n",
       "JeP/QbcEqI8lgDCAqGf32xAxAwu6S/gd/N4Xjez80WhvvIAjlk8Xf4S0H7/ufypmwtgVkwSdNh9D\n",
       "guyXTcKWhboYdpw840bDQsA7a741bsUGreLQEUz3laAGZOfkJgovGpyfdaPwXcKbh3ZH0Lg9bsCG\n",
       "9yAPi8Pr+rn5qGFnpYzjZZoDZ0vRMy+gv395Vq9ltyTxP6Uc9Le9FCYZ7nbrrr6ddh3URCLS4AZX\n",
       "4SyiuAAAAhVBmsVJ4Q6JlMFNEw3//qeEAFR5l2jm8oepWbLVGfMnhvl7wAO0uS41ev48a6GadSkJ\n",
       "bpL+I2Uahg+TehbzRrP6jZeGHfcDggTq7/9vFUz6Egj21t0K+0Kml+/cxWz+gzHKL6/WSI2mPfyB\n",
       "S49bpXA/trX7BqHzSadxJD4lRUWjsRMd06FvfuRFEM7ddBeDOn5GUr4e/w7400cLybBd4r4Y66Eh\n",
       "ro/7JJbbDdaxc4a9cvFgVw2qbHlBiQG8iK++YgR0asreNPnqZAlalkSPQuhJ1eAbHvDU4eet1UP0\n",
       "MKgWqQ6T+6OhrKjoee55IQu2nz+i2x+GLQkpO8XdTxv+sK+R7/QNuAgRBdoxIG9WdBjLJ8tVO/Ly\n",
       "qhrxn/OJexARbxuFnnISWKzpxlt9UWAS2fODGAFZBvg8Xc3/6EVTG4aID9JH/qvUTX5ZEya6W7ms\n",
       "z52wWqumh75Aqr2+RJ2EkEaGi8w44MTvnlGDVzwtchSc0lcwPpeFiXmlvF8WUe4u5ga08BfGneoH\n",
       "26I2dkokdkWBgVQ0Z5JXI6xL+ootAB4b7oIiMv/cnEmcC44brw626JPkY5qkS7HmagipPqdeyuUt\n",
       "7iSAjKXKHmwKa0XxJx+QGT2Dwm5Otb3JKrMxq1UA3nUDv9M84FTO4gP9uwtxNCi/ev8IkRWK0Ntd\n",
       "znlcMAYq+nLkE8KPRQ+Ftim1y4/4URAddtosYQAAAPIBnuRqQr8AQ2QnJhZGwzMGtXoAJx1Rkwcm\n",
       "RQgGH1ah8IGbuvmWrpdG7N07HR0ksxP33qqnBqgv24V9TY9heEYvYZb/g/7ciwK35DIIAemTI6PP\n",
       "8cCmFq903GKHC7R4AJ37S6GYumWTiGA3kAYSl26Lv2dEscl9gknFSW8iF9SB0SujF8+IAZWVUw1w\n",
       "244AUbx6hhTfdngOMBzoo/hkZb5XbAY6dL4/tic3zZnwPawFcf+CE2iIBbhuIIEVoG4RhwUJq2QJ\n",
       "jOrQpIl+AsHQ7uKTpHQZ1bx7UaLUX65hJdIleIFI/lIrmrrG6G2XSQP9DdYF0QAAAeNBmuZJ4Q8m\n",
       "UwIb//6nhAA3QnRjCQFDuS412qs+UDykGtur0cX5Kn8EN/Tn+rwwztDO1aqIMuqzysGS2oKTKjuk\n",
       "tLRtlqkKwPjyBpyKzAqWpYFbRc8eMbfNwkacX+oEKfIv+vBopmqqbQ3zYFPLnjDVmZwaWhH+Fyhe\n",
       "SevGhC59RbiGMUxkKvdOoHzVM5/op7Dm25lxemiwAQj7JYqQjsA08YEnSm3MxD+iUoXltioHEMOD\n",
       "S3I1PidigtonYghTlvBvgzTkHpIKEwsQmnSkmXEEeKQt0sEHrr6pCiXgLXv1dVvcMmaP0WrsEPxs\n",
       "o5+tcdOycICGI7WRaL2TOjUo/HNCx/Te5gPvURMXAFbSPqdxSMTN7UUD6T6lXGL+wSch2HQceug/\n",
       "cd1ainCbm/mfmVuNGU66J2WnEHH+2XAaM+NUIzbspogMgyDLAKcfJVHqRhsegns5Zp9W7PpDvtaX\n",
       "a/LH6izLUW68D2Gl2Rl6tACuXllGVpW1TD/f+dOLmX9v7IilLrq219DnB86ZCBpN1/kH412eCGhj\n",
       "7XXDHAM7MiS2IT4v99vsBJx2Mj57adrF2Q6fTVPzXjf+erRKIRkxNekGik5sLaImD8jxCvjqCxuQ\n",
       "o/IR6B+nHjpb1pPyHCokcKzQHcEAAAGGQZsHSeEPJlMCHf/+qZYAFU554xBvey0Y5PiCBOd4AC+o\n",
       "KbTZuhFHjVmWv7TBdJ1yCCt3/oKk1H4VHglTsXKLEWsK9+kKUMq4Dkb8p5QfPPfrw+VAQOvBYknI\n",
       "41gnBmkwOpiioBBwWV8w4k0/QG/AZirRWbkupkscHwl+MWfNjmwlNjVbisiEQ50C2iI1Bsc8vuiF\n",
       "EhCe6e4KuYKpkIhI7HUIXy0eiz2HVTTtLhhzZ1IOSwqE2X4Gu5bNKufl8zgryYCkJw4hqw94Fy9C\n",
       "iIyAqtL0izbq2fOpkyYF0btUgTxSTjd45r7EMeqhdlD5DoeIQtnRk6ZI0pgTerral6zbMLo6dKLQ\n",
       "4S/oS5Afix0qY2Y7XRBlYi+yiPEwYfy4nMFe17favlA19fxzmHBdb2ReoSbx2BnE/JNCl5tcHPgQ\n",
       "HsxlRblNjFXYnruBXrxZpngBkQ3eYWX2SOR83v2Iv6/3CTCGiJamwcDuZrJr4xYI1vHnHqVEEc0r\n",
       "kWJv3nTcLQBmC9qGrrbRAAACkUGbKUnhDyZTBRE8N//+p4QAG79lPppi9eI6dF7VEh1MoWQBPdCC\n",
       "FFjWrbNRVhoL6z1q1+vz3X6PYg0G4qt4To3rP7jB8DrV2MNGg8mLIQNvkJV3nF7Uy0V5ec14Rntc\n",
       "Ih458zu/8F0U+vu+yt2C0WRwEgWzf0xG+MwD9VqLhhp35sNHMdzizGvsxCRiLP8ZLdEnsAE38QY5\n",
       "I7DvTYb4kI1j9aUt/BWEwH4Akvy5PfycfhGF3JEVI/Vqi5Wf91vL9s0IspCi8g/0obNxTYw6rf8/\n",
       "8sptg9fN4xW24RNt19ZSSjo1uLnIjOdCaxb0dVMChKf91yKW2C3G33p/j3GRc1hbEWurOMfs+Dk7\n",
       "qcDBqaxSqj0YIvitNMP/RPkMnHQzy2+Y1eFbZU6++tng6u2elwrn7gL+d7SuwwArgp7eJ0Vtjobv\n",
       "/YIf8D8RUFLBSKBv4KoYcAn+kk5thT/W5kviTCyi1BHHcqFYASBZ0MN5ZC1ArmH+c+KepCGeUyTi\n",
       "ucA0wfSqGIYtsKVtn+fwj2aMiaWAYGybQy1w6kpK5/yYKMK2oqvYHIH45D97eCcmrsJ9w+gaeZuj\n",
       "8jfaz+BHfcxllF00BYShVg15USFfBqAsMs11Mwb2bqFezHX2VqaG8dqiMqKbSvMQNBkaVLJwD+pg\n",
       "SVjLsLCsyoni8cFksECvdAGz9wpu1rxPtloC8S9vi2YSNM7sqIAMTdNg49EE+chYNn8ARwIpshm7\n",
       "KCM214t8xkuuzIf+KBa20KkvF2w8sMitNYojM0f8Lgya1jZsyLxZyKjp5/syGHFdp+GmZHaIMV4B\n",
       "/z6EkJuASxsgUqRJhvHRQ3CaxtML6AcITXdhIE1Tf1Zx03lzrYDJwWZGEycV2SJOiAAAAREBn0hq\n",
       "Qr8AH3UdQ+Vmg+SMV90qIb3DjwKeQAjYBy8K91MC+YHdDVnvfaCCwURPtwi20BXA8uEXusUyLZyG\n",
       "mtzKgBHtpbhYwLB7a9zvAtyJMrqOcbcs1v/EefHGTOibbdz4Z2p4Yu6OnBjKwi/0eUqEotvpESZ5\n",
       "8C2JLLRxod8/3Oroj16QnHUIV/vuafgqYMMIK0Dm/pBgcYuYpnhBNpOr5acxf/fcU+NpGJsAZwxa\n",
       "K1INicl06eJdmJ/GNarRThGhkryrmdxmJxGo6FRycf7E7D90y0iSKBJKgQoTvCIPW0mIrr40EdEQ\n",
       "LEzBFYA0x8LAtqL1ApkfvQLhtPnEiycjRmhXGKUCPmy+LadDkEfjodMAAAIvQZtKSeEPJlMCHf/+\n",
       "qZYALx8A4ty2grDrCes7WssL8Fw5gAs11vRhXwhjxx0jO8+22ey/Q53ukQqK41Vqr66wMRLZWVam\n",
       "qIjUrw2eem2vgsG7cnfybp07ExWNQQ8mQQZb3OZp5CvKFT65Pe7R+EXxsYTMgG1VqOE+V3hF3m1+\n",
       "4418McV/22K5CWSfQMq34SyK2TB+tztK4oxVUPSNmlmrFs+PV7OFrrypLQdbGNq5O0K17rK+H6yQ\n",
       "3iZWtEuVc/Pe8PVkAsL73Ajvy3WTXl9FJpaau2b9EXEdlL0rkTq1kzubzRxdiAcEjOggvS9ypapU\n",
       "MI81SzsT5GIwqHWUGZztUKd/UNvdEPva9Urik5ZBWPwLHlsIRD8jMUZm9yHP/tfjklA2tsgxQpY/\n",
       "u34YBS53gQ8uDQtjereekSDu+ZBE82okH+HTanACZc16WdFPV5xL56z0yHN3DS0vwpPwk50liYIA\n",
       "Zz98GYrwsUD2M3nRb64CTuC4zfGtYWjjY3JxpzStbIRmEbLGWInj/FMrGkkgzvbhKVd/44n51HPz\n",
       "6Zb5jEyneZ8A4+R5u+IqieIl7hc18aZ5OgsSmdW83s7B1WkWuDYVF4tVI/DHM7QOz+t5+suLWbBP\n",
       "/hzwLX9tLx+R6bvFGAmNasZuKIoBJo/znUqk94llF87GxY5anmZTI1nyAgX/n40T0h4QlqHH33zr\n",
       "62nwK+X7lNz9WK3oMPMtBzLeBjZ6TZZ87QP7OaME/MS4bwAAAppBm25J4Q8mUwIb//6nhAAN1KYu\n",
       "frpfLD1GOBMnAbuMUhn4CL2gKTcLQtejgibLoZzhEJjhi+bDVCg2rw15v1vK7gDiQvUkidyf9wqQ\n",
       "9JNO3lVLP07jjcTRjxvZJ5f/d0NDjVVWp0mlU6dIOcDTYjqCA3HQyjSe33cfMSju6mX1vsn8pgNb\n",
       "roE/h1Zt9As5MJwX/xPXRy58EVO/k4ByP/HKB2/PRVkNZebdN//OOm7W5U6M+pJjBsbypc9lgblV\n",
       "at43M036SqP2/s5dat1w/UILh3hxDMWMt9Y+urc8hIxxzGO3C6gTjDPGVKHLRMqpREXr3EnQCymF\n",
       "PWHPMkboMTLaMjhjq1RMVHr9x3vcFXHfawGp9u+fGIC4LmUtpGzR1jcTJnIng6RGk2skLXS45Dv5\n",
       "QesRavMLdGDJemZvVxMi7G3NP/FovHuY3YbQtHhWGQnu9atzipyMKdXF3JcwtvmLsa39JjHDvLuf\n",
       "efY+2A3qYAJYRc1ujUtnpK2PqPzRIJjd5iG2F96NSbuRdEfapKf814WIz6tOx3u7EeUWO+uQz2dv\n",
       "7QdwY/lQKm77x1NhCBZwczb0yTvRqXWHBo6gruPSNmiJc0IsS+Q3laPnxoK0ds+9WgFzeb36tFwz\n",
       "qOURaA/Yf5FYwng5FFuQsioqiCQmKkEnfxOfhX4k7kig+hguDUoTbWZA5AqEyyeyIWxZLNQKg6gX\n",
       "WAlg0V97rdFeWUym8wHBz1cbNhbqJjzhYan4gjBWrgKHHttGL3HiHkPrMTCA+8NRKcp2h7ypZR+Q\n",
       "/Q2RdlG0nw2o/NvanZTI7iy3feMsIykkRx+tXYqelmMGS/sRhlDpweCbv9ElYViYt9i3rrPt2Nwm\n",
       "8bRvRThKaTEpFxHwVKBqfSckMyAAAALOQZ+MRRE8M/8ADG8R07A0BVEwhTOmC8Kqn0ADtD5uFk5U\n",
       "dNT9QaI9eN00Td/EljkzjGT6EIDF7Wrz69tVjbJDun0A7Jb2pAQ9uXKtZQC8Ve5TMvSmtKT4s0t8\n",
       "/ZwqOmG1S7bNUn650TQ4xA5gJpoN1bov6UayVfodE1v0QGC0kvf6UEOC3zHzPyNOM7vpFYZcD1QZ\n",
       "sO+vJS6VnwwOOBvHylVghqvyycDHuFU7srM2vmwYExlIrjeA7IRCf8+fkFrkIp1XL8ch1e7Ni34R\n",
       "w1is92CGZjp4pl53jANbgcSUVuaKwiduNAZU9Z3zuV8hf6LaYoXcMX6/yy/Gx9kwSbq9KWeeIax0\n",
       "XU/zk+JURBHUfQ7JOdsP30M9R0Irzkro/2pSzE5w7o0Wzf6VdGb5i9ALoWBXLzfOkUVnqsYYc1IN\n",
       "92ojwbr0FDbYpG750TNcw2A6RiZWYLSBgwA4Mk4jLCYIyCq6JWwMcEVa2glYydrm3TMBFSL+W1Oj\n",
       "cQOQ750Il+Zq55MeBd+1ZRCScHOlKGrcQlH/0LWGNFtDOwt8YgXFAXhwYxs10Hz9HRMLqvongI17\n",
       "ysuk9OO2k3z/8PwmPNIAaLK+AtKXc45KmkkNseLA0Er5JYFOyqYG+iPyMzxFBP2tny0RvQtinOGv\n",
       "i3Fp3PxRBtoENOpjIba8ozHNiPvpBn7ray+x/BKeX2k+0nncBWkO+wFPNOKMqh7t4OfJ8G8Dinqy\n",
       "rg/aO+ZzhU+0oLQG7x+mY3HYQB/hh11ymvm8TqHHGazJAsl8fEBy+0d7fXWcouxzEowrxyRlVmNi\n",
       "DHwCm61fokYw5kYxpWmtNhuynOf8ERKoYvRmi1tJanx98LHzRPZm13N00+tgTSv+WLS/gUrb9DHu\n",
       "pe455SczKvAC5pCuXeg7M/jo7+CRqIriHMLxsZgh7ZGkrM/jpjMkDcFidRDiEy4WEzTJ+4nRW0QW\n",
       "MAAAATUBn6t0Qr8AF0TEcFq/yc4ATV5wEYyVD9kb+Ie45PlfjWkqZmlv/uX9TV0ljakGPQqDvX/T\n",
       "poNfis5Y7gWDhokhjLZZLKNJR+G+rokuSm+smZzyU/xPbIO+ojbaEaVA2arzmo/6PPogJ5B8flN+\n",
       "0W/8Qa0tlFr7oBEjsygnUnXwMINOhOMqgPTlkQXUNY3a90rLSEfxP3N9zutXwn5LeGO/OsnhhPMJ\n",
       "8xZcn1GIpKt2aWTwAQO/zMV8q0h0VuumKn2ekwvRMGOt3bhffKo5VelKdIjsBEm7flGP+8qbVZGX\n",
       "s4OboXDMWB2VohrlYxrSP0wqpfvILghzQ7pHa+/cm/bDEQYHOXfFa/R/Ke7xQBN5Pl24TSdWe/Qf\n",
       "MDNqezLmK7JSe/dIv1yBLkq+nyRJbzw9TYIhYQsAAAFAAZ+takK/ABdLAG0wCtHScDAAJ27qiGqx\n",
       "kC3/PtBqaXEl/LBe+0ak5dOF5i9YCR1LUzfFUpeMPuhADYvV0AdZlA8ZWUHNGPDOAbXU4lmy+zIQ\n",
       "OR1Ra7Y7n3irV0QmQkkbIMPuMS2Onk3eONo1co1K3jYGIzwxmg/AdO94UnyQo3f9cXScJ2cmWOx0\n",
       "xSlR8Ef2pOhfprx3Khlde7mh/93KHKKmUizzPeJbPqCjfG8T5C2LbotHYjPbnDAWxE4WRPkN+Jsb\n",
       "tMAFIQGxpUqVGNG36qjB+3lBmQ2aWGNFn27/z1sPotb9OPQmUxrTyEhvIdsTBJ2gOjIDNay1bAhQ\n",
       "xTrrV1BDqxe8ZvqVYN1LcIqX0KktCV0VfP/M8QaqQE0RxfM0dOU1PYC1Gv+6cGrKoAS8TIC1QwM7\n",
       "SKVNdU033D2Ad0EAAAJBQZuvSahBaJlMCG///qeEAAiq2nNmE1MqXhTizAC3rgbiKFpTl9yVfjGO\n",
       "5iGACVA36AI74tZIu7KVI3w4UklGvpgn/1i4MlzlkYzH01BW7gdjFxVYz2MBhkpsnA4vAHtZZYEM\n",
       "ld2QOsumzxMrzM10coFCv4Ctsr30a13de/IfH9nR77ufYeu3BPQFguT8UIW+lAbFvlnjC+D8Bfe4\n",
       "8QZjI2sgtRYG7cz9MU7pymtPIO91+u5V3XLeP8b6TUo/zgORM0x4obE7aDXU1Jncn6KP6NnwIvsp\n",
       "tKz4YDPTSGg721tubGIe6gQAO1m7XXM9yyvj1HRSvpd99/6a1xnExzQozq8nbyAclxEhg0weJK+M\n",
       "lFSsLtSCGyHAT/Bhiwc5M+obtZOru9O63tkmssk+PPlThX15f+tA5qoSBKQZcTwgUHxScskH8AAL\n",
       "gIBq29FEuWwmBPPDqDHdNm29s0wPGvhy3K9+JQ2gA61vFIjo0wrwPeK7ETOGOkzAx1h8/NphMquK\n",
       "LJSmsWnN3fXcOXpl/gX1qFF5Gx5+2Pal9zhMbTdkiPOIyHjrPvTCQDqsnHfHMhWusk+KcWQrueno\n",
       "TfvlOcECOb4Gsyx3z1kpWhcik4Sb+dOVHRv6cDyN4UZF4MGeD7z+4hJgggAtcnX5Wj4Ncx5gZQpK\n",
       "nDq5f0o0MLdwuikhsdqOOKI67Ryf7gxLdxSuzNPzajm3NVEFVuQnhORsbLXKTbohMa0F2S++R+Ze\n",
       "aMolufchBJSFDio5ba/TXSSrUgNqFQAAAo1Bm9BJ4QpSZTAhv/6nhAAMi6Z9THkQAlqQloAEzhMa\n",
       "hszEJnPXE6y96vMPG8MPqfGo9NCBx5O0DJAMf0tLTcgEIpXD4+BJM2rbGH+9whXxF43KeivBYCZQ\n",
       "9tU1FSEZSRV6gHrCftXb5FaAQilcblJ+60PFZztZ7+vvUCIqgTzNRLyLAh8ZZn2hvBXsKMRpZIdP\n",
       "Myk+20qayMBEmtCWcJALZoLgKeIuUpOxZH0mfw6I75Za7itxnFzSLuN3bFYCadk3AJPrbUTZX0Rj\n",
       "49xT3mE2/uoBwATaNlgaUxI8lXPzymiLkZSis2FQeygYFI+hoh4YwHqstI5Y/21MOfLvstuE/bW6\n",
       "RzynpaD2puHIeRVmYgQVxzdCad/Stb3kIPPq8Iu7YdrCfLj3OHcgv82WIpubQDAyfnulTlfgWC2q\n",
       "YG2dBAZ8UimbTSwFyJDGaTY9bHlbP+qRj63NoEwcO1l460hzCwYvXJjqWW/qN3xMFc5/suIYmNAo\n",
       "ixKCErAj3fVjoOEVgOYV90Lu+B6HetBEwbTnRUjgIWhQfLdZUAyaGtFxz5GEYDHyccVg4prT+MRY\n",
       "wttiHxNxaDqnC844gqVBcl1T2vYvkfXr1c21RRZJU1HhFURBiGEHJQwQj+YOB1lXSJ9pfm23qCap\n",
       "5QDHNMfF6O9+tQem6W5V2WZCI6xWHmQ8QbMomd8K/LvpXgzaKeb0EXkxrTtAriT7iBd3zmvyZgdD\n",
       "5Hv5uC5EyW1GBN0KEAfOV16MXL0voSvErNuNS46p8d5lm3deXGjUfqMxMKVRsL/p5BTJTBIeZPgl\n",
       "XvXJbVPQqs4q/Z7YbrzW+9vAmdfLPsA3ALBLS8B+NDGNBibnt/mvBuCRlmayK65WnUjOgAAAAplB\n",
       "m/FJ4Q6JlMCG//6nhAAYnhPMliIRfsMOfP/BPqAEZDhwll6j32zHoGDG0QvDGZiHPwtNQU9VaxTo\n",
       "0LVbWG+FLJUI3CcvT2IbKEdGLaGmrRJ2zuVj6EHHGP1Yi7h8iHbMxyV0mbwIjYyEn2jMdcWpTXQr\n",
       "5fSTER4yr0/zX3KJVOFOopjeyVmq+Fmmz0FVB71h85f+rnK2ddpzWhca/7Pprpm7BChtlWqjenk+\n",
       "OZAoh4C1ssf7wjsMMtt0dGHNKtMp9QaZezih1l4GM0gFMjXwHAtOkSQgj1uKk5Z0i8cRU92UFwP/\n",
       "mmRD1QyYBBnV61OaTUgnLPzaYLZ9SiQxfIRuqnV8lyAmkYCiPHjaian+Prc4Bvq1HK6/VXwwIgbA\n",
       "nHtCBAWOi62ZBxDYpCD6FmR0RTupPtQFgoZHUcpSFBh/5LVh0Y4YydRIP9f0udO61bqFScpGB0Yw\n",
       "dLndUrFkef4Cc1M6zNdylTMH5vRG7eIe+kxinN7StgMaR7tp4akK5gp2ePV86XMK5ywRiCShr21T\n",
       "7O5i6aE9CY+JQYzEjbHzranA5oxbe5Nm/aQJZ/T8w4t5fYzD+9+5+JMYCBOhbA5cifnc1G410RBP\n",
       "2oJeqD9sOZUifPOSdnalYuEoq0KKz9fpTwm4cJg2i5gYhAKHq80ajcy1Tc7snKRsDrcVjr3IG/sM\n",
       "x6F2x52nJ7DZmBnxtWGVpG+TaK7RtYH0yibXRxQ+kKeuYG1t29qKiUilI/He6is265RCjGsmcD8j\n",
       "uJ7SqwdOLv4d00CikY3/aqQB1t/oF4yTAhv/UcYoDsSZ/KTI6PEiY/TIhGeGxHOK9MGRoTGPuHPn\n",
       "ILwQCziHLHKWTQR41Fup3bdyIS0HHG/pGoEhY+OpkGgAeCm4wAAAAt1BmhJJ4Q8mUwIb//6nhAAZ\n",
       "IVKv69wBQCrQLpAARAR1RGFtucCzbadD4wyo9D8MgUkPtAitF0bl8n5QaVmrDnDzjLX2VGcZt2Xa\n",
       "bwRQb8jxOFZtCDBGbviUbmKbCo6T9NdTXh+jXye6K2FtHCTvkf5NC8x1VcUWrfZA1f+EgM1kMLdg\n",
       "9KpgPS1SCX8tEOqAjpZEB8SPSVEmqorbI6hHLg+M1q4hUeJ/XWuyM5WGmBjnmX6uCRssP2YuP1CH\n",
       "g7QPu42GVe9hZd/zQsqH8fUXUD8GypbM4+m4OUIftROChcaRlLe+lBX5GL25XMdnWaJfmGkMrtEt\n",
       "nIc6QgKsR1COo7bJ+2k12yxf63HwhfiLkZd2MNpCni++u1mgCkNqqc5oejK8UgAfftsI6upZqo1u\n",
       "6o9T2UqqaHYw/JU2iZcUmdFKFg7Wg8+ZqPLuQYq909QefqZkfyHr4MIQoRkPe07BzvjauuNplbBa\n",
       "TQFQ0cIDbo0l3tlnfuwnhpzvfvRM88NSx9iH1iWvM3NkOdhAmN3vvyOZaqi7wEXHtmJ277yTujNH\n",
       "wNofDju8zBwJFCzJX6Nda32CHYPSRfOVWBgLN0DEaSo3MIiQky8wlByML0ovCGsV2KjoyDEL2Ar/\n",
       "Me9TSY/u45vUUs8070EMVu4FvMor84CYKeyq91JoRqydxupJBlRxecpMNJQsoRIwO1s/Dua3QbZw\n",
       "44HH7i3nFAbKVoGQxMTgwD5dehVJ7cBaV0NQHHjHl7s2RZLBsuPEFNw1zq9BnKkfIn6o44d1/SuQ\n",
       "b6aN+/LKJ6mYpe+3svKjJuNKNv9blER0vTGsHA1q6HyNaKZDWJKY7wY7A2AjaxEdck9bM+rmQJyB\n",
       "zu0C2dTo7qPSRSG9DZeOTzUI5X+mlMxSlv9r3a3T9UNZVS7Da/Qxd3JkeCdpCXS6dV9B21OGoxTf\n",
       "/0tm0ycMWeFBE5J3fQ5fs2M6dP2JnK4NYZWnMpfQ4IKBAAAC2EGaM0nhDyZTAhv//qeEABkxMFrT\n",
       "jQAV3g2CFp3SCx5GSrplmP4zfduU0D5CRVm/P1zxQng2DYpDNJGfnuF9bbKAAbGnn1FA0D0TwI1y\n",
       "fEsclbnK2OXrJcpBc5c0VXKcf8wgG4werzmXz9sN5KVG5UlFh8zMpzo2bif9o0kySfItZeYZAWkR\n",
       "2z4CuQiTru7Lf/OkHT4NgxMG9+iAkf3kp1Whti08k8xD+UE2GrHc0Q/UsJxLuMxCDx6FP3FfOAjz\n",
       "9n/1jrGCn80Jnyk1avmiNpAB+Al8z8uRoHhGe7vf7HNmrojiLtKDZ+O62Uk6rR9AsRxY00uPSNwu\n",
       "UWxxhOxCHFKY5s1eoPkFq7I3WZE+6nkXzVK5ovLqGrNS6w5k2EICtMMhKdaWATCJ81JbvqJ6U3bw\n",
       "uvh7uMtASN1dR4cP7lg5QD4dODvyswNj7DBIE1d7C3b1J90lLO6qpXoTCPr4QUqtoxd1u6CmzlyA\n",
       "IUxF+KJZ3b4a7aYIkMfo5tdoR56kSChe3P69lQl9EP5QkpBKjb1lvDwj0qha5JTNbK9IUx5wTalY\n",
       "7OHsjctajABqZe5J2e72oBR7jqlZ5j+KqJEDsrTCcWS4v1LYnWwcsBMG/TJDX0xNSmTPAbM5rvhp\n",
       "orOisAJMUU8lOjnWrEEC662gvxuLH11478n74QOanomlLQTt4AaujgYsDxyGQGzBvWfynBQOPN0t\n",
       "AD2L9/QD7hr41vnjCGVBRSgaNEh+9lp5M1pXFB+Fyu9bAsfp8O+ErKMrpQXlaHu2g8loRVxa1g9G\n",
       "qLLEAfvCbaqSmCT3JS8Gthy/+lswwKVMI75HnHUGFGcg9dw0Eka6PdaAR81UJBuy4aK6GG2H+J39\n",
       "ZfP4fehr2Zmahh65s9aeS4sTUMNzZZH/CcDAbkFLeMxrT1yNvNBP67yik5hUl6jt03qz7fGWg+FT\n",
       "TQHexZLk3dGwmnrrxo3V3HCteUMVtUL+AAACqEGaVEnhDyZTAhv//qeEADEDzh9sgDmRJrZ5altY\n",
       "U2Ieuk8V9vVwsPRLozBqWoWtLPlI4GZB92xq9y1fAzu41Jo/q9/AyEbQxVaFnVwqjHufip6ngB7p\n",
       "5U13jdu60l7imlTXBUskEsuSoA+COrXwOzggwYdUhy+Tflo30K4PAAzi6fxy/h4tZm2F+QqRPN/S\n",
       "ftDZHkWOfids2/GsSt2WtzcaQaveCwW3yNgD7aDLKe3xCuQ7zDIPQTgRm1NtaqynsVzofuzn/1AA\n",
       "D6HaomP+HRt/V60ndm97cErZmAdzMKNs4rNxVKF5w5mnI4AFIw7R2UOkC+v1r0CptWRIgRuniRJP\n",
       "V2zlqS/BcW2xt9bOHKDRX+EhQxf7qz5dqR6qzN2ZEIeqX1kHhWJSj/n3chDMy+i5YbY/XNXRSWxL\n",
       "fUsDYit6SsJW7g7ytTaPm52GgeU1rM1yy5LPY7mPCuV/G/GC/WL3KwxEYmV8ktjsI6aDLPSRjai6\n",
       "rM843MmIxfhyv7svroTjTV/hVPvDmH1ataok5BPsXtvrqh0B9WU5ZqlH+G4pcRrbIAwLYHuPcG9t\n",
       "qctLqIao5c6SN/oxMoYqvg0D0TQFaLpXAdid67YYNJ16zwQa0ylmz8vBhkoXp4QhtX/f0yRp+UQE\n",
       "T61188kvUgR7+EhsBqjSQ/YApgOros6uScd3QneyCI4rOJrA2LThijuBI1VSdPwWXQ384NceMvZN\n",
       "N/dXPz9xs6asAu2D4DtR7mrHgwPbkICvS2EBnsyXFUHS8t9uVFp32cZPigsuz2a0e71BY0qgbobs\n",
       "F8Y5XKGRsn135tOD1/NsBeEvohoK+IqITuwqymbw+6q0HueBerFK4i+mjbd4qE3QX2Vyf7yxo+xt\n",
       "Gex/Ogw7XDcKjKDLyDmC6vwoiCWLVkFpAAACcUGadUnhDyZTAhv//qeEADIue40wbIBNXNSUDeRp\n",
       "d+Fh6l5TnY7iQKzlgjgp5hp9oMgxBA6v4UsvXNLzMECJI1vqHBkt/LUqu0BOsn3NswyCEblOesvo\n",
       "uSpk/h97dWPGasQb078iw2j1Jyamean0SUx0erH54GmND5A4K8hPEBOZuQDzAbYtMeOI5KWhBK7N\n",
       "YlJTAVYgzQH1AqOxfhfhgAwh5KQyx6w4hLJEmhHD4HLiGL+43UioR+cePCH1FwqFlkUNkRgQimIQ\n",
       "mltx2ew3FVIUYHp5SER9nNBqwCqTh05fKFGjuu8U6116US/aBU/+0Eb0i/j70C70XgM+tw6QPWhZ\n",
       "NtZ0/FqoV3sffMZyocKrNzjMJf8LK7r7fG4HVMcbx6JFkCC4TVrSn4Zdc5BR1vOrLy8Rb3lT2Oke\n",
       "+X4SB3HoqEadN1RP8fwBjyzwGsfLeSL+q4xFnrnEARJW7EBeJXiedV5Rjo+EnfgcrPVt2VeXPRq8\n",
       "hNuWdQ6cVKIZ3yDDv27zvSSccuxpBOPbuf4RiLxVCYso1BzzO3Ok7bNW8MDFX+Ou40SBYqiW8o/A\n",
       "dQ78QImU7TBmBB2DqdexE46C5nORIMcYpns/lMra9pXZhXI9mDXQUYas7NR3EcVcVhub+cXfmobr\n",
       "jvwsimdRPYgqDduRCMcUZeMKERrAnmpgfnDcrpK40ygw6WxkfgOOZwHTLXWL/iXtvqYZCTsnmh+r\n",
       "GpUS6QV8P2nvrXggA1V5ku0Hq4VVZvRmG34R/Rz+VUZR/OdaUxwK7u6ZstfWFmkHAiX4gi9yD05z\n",
       "WfT26S8oZKcBhgJhAdQAfLUlEOsH1wzEQ8EAAAK0QZqWSeEPJlMCG//+p4QAX/hPNH4l43j73QBE\n",
       "j+MSwb1dQoLSBPC2g0bBvvCKkbJzAb4NrmUZ1XOo+fSlWPpuPbLUk4H4SB0uWSsCpDF7gjnAdPua\n",
       "7yyyI89I7TCvzpO5wW6czsKN1vi+PX/ezypUL8Ia+LMZDRzDSIr36H7JmWoiWigXeetHEPgqePwU\n",
       "1l13nvvR/0RrDnp/oYjmR95Id2519fyoaTvGH/41rPIKxe4QfXFYo3CC40A6m9eHZGJ0v+lSXvJw\n",
       "5ET/eXdQVWhdpWpx71RVf+sU/Ay3SUYWOEdMWzSjjsnWlqSLIgCdsTh1Ej69ChZtkY5m3JFyql5i\n",
       "6J4uslB+eG71FX1yTp03WxpSTjCIUnaKnkGH3Ooj6o/OS9g43P34XV3TtixV5kSzABz9RP52uklR\n",
       "+hC2dGuhdhhuJOJcfZygGf4Mbzak3pLTsNeZCPrRU6lpUhpZB0k4SmFMVb9EqV8n9noj+DCSHUCT\n",
       "rl4Eg6d4IVxEr3PpRuppLn/xFIu7N2I5EmdaXHmb/YpAV/1icMaUcV2vI7p3lJOqnbAS4G7X/FhS\n",
       "xwRaMHJITyiNDBc02qtL+lXLMYizuXLdxY/FCY0pEoRULwM3ksMAheiI7mGJh0yNek1GF6f3J0k6\n",
       "66v8y7vW+PPLr0H/dJ8AXs0/4tBkKHhUwQJV9eeALOPCfjv+Z6rIu+IGdsCFdO/8crSQcFSXnq9/\n",
       "olMqKyuxtF3BCBwgAomg84RA6e/HrTw+Fw2ONMkUONMVSSXekNdvKDAPWqGTl7z/leqHbuwecZIh\n",
       "MgXJ/Mp7bTnI/1hyL2Z19xTzsRbb2pOM8z+GKGIipYuErMHE1C9xOQTJUH+L7DPtU5bNwoWny63d\n",
       "EKUAnrob9K9j9X3OXiTuvbwekcCj+OsYmRalamv6JEzYkn2YEYAAAAKvQZq3SeEPJlMCG//+p4QA\n",
       "YgTSFraiAPdmLTTVqFrpcdiCn8tfeap6qANS+4TNIqCfBBU369te4gMApXucjUq5N7iQAA6E7wd4\n",
       "Mpl6TQtEJomZEkgjPPWu8YnjT9b644i0BJDJHsV6n7FoD3nLfDlJ2cEQZ+fifkbfLuH0R+mVBQ2p\n",
       "uzWmTD+iNzZ7qZciIu4TB79EG6MmFEFQ653R2ziQH54lMM23Z1gh3Gej6unMi+Z8/4cNhc1eQAR3\n",
       "s6b5dGrFIVZNTRuCa2sd2HRnVzFHtlBp2DEqmWrBuJQ4ZbzbMDhomUx7JSuPe9a7lmj0H+JdCBOT\n",
       "vXvSm/iOAsFKtihk2oCnD06l1AC35j7BMLTceUVYFU+OZ9PvKokvCtVZlBUniLQWUU3UzXsEChFM\n",
       "tbntyYnpRzBZXTeM/+Y0kGgrpKtGtbPQV8FCjyHarQ4vfd0pUmeGYdcG+HvxRTmMoj3TP3sAAyKv\n",
       "Fzsb5X146kzUntbD2U7OYI0WRbJ7CMFXQ8IiJVZJRvabcHnfksA5etdvDBkyhgZLRrK1ObjNjCuT\n",
       "5sfQS9rjPjM0Zc3Q4mejhsZZpwRED0Fw5BhCVApNtl+omPhifFAO572QCJZZtuCgbIeMu01SR3d0\n",
       "KUSKOG5YfH6qDazc8aAyV9zXXi85iU3t1fXMDjXLMMGE5w+FITSc7bcYeZykhS/Cc4v8vugj6VXU\n",
       "hi2jwQJ3C59lPenl5YyAO2Ube2SatD0jf7h4nQMj3FT1fY4XOoVxFQSv7A4N5ahr8d226/iERGmE\n",
       "NWHgGn5TzwUdRd6KaRa1y48o9RegoGPo7tvhxJXfnEeXZefMh6VuqNuK8ea+IgVfy77ES7iKyHVR\n",
       "xVryFh1Xa7xoQ+bC8BWEahgKWXzFWZ5CWITEDGG/qdkyJt0saXI50yML6Wk5AAACZEGa2EnhDyZT\n",
       "Ah3//qmWADFVE+IYAbm/ZIyXJzzBIwhRdIh/5+Ck9BNxzfpQoV5jDqRKvIqIeEN9sf720YMvpLv8\n",
       "3yslXSsUdL1+kNhm8u5uccIqT54U8TJXfCddjLUuSUkjRZQ7NcjS+I/EJMoNxqDpv4QgvLwjjjP3\n",
       "rCCW4GP3O9/gkjIjHKxKomVJ2EDSlsYoPTcqW4E1EYZ6qAXFjBjP/vBRVTodJFuVAhlr1TchrrYN\n",
       "ntCRCPQgGjJHTbFz5WumQt2vJRRSXGjIN/0k3OEL/teIE8gscTus7a7iWCu8OfzB7r50IIL+V2aj\n",
       "rRlH1uNbU0lQ1ZiJ9OB6lFM/8njlPSXI6lV/8b2gKbOovXez1MgPvBEsD0nhoXJtQmyH57pTmHNH\n",
       "MM7E2f6vrH4VGbM8k6ANtUQPASZ07mXib7Iv5wz2LbOyytbY+vbdatg93xS5lYrD8AD6zL3KL3dh\n",
       "AF98lOiVd1DfBbP3BLIJm2K+c4JnM4clCgBnsaKWuTxo4vMn3ebNJejek07XZj7DvfHO1YRfxnYc\n",
       "4KhckR1JfEVCtBFAK2n1XKPNcv24Eh+il6ZHG6AzLc8OvC9yKP1TFe358EyWSEuAfl8J7/+EgT6f\n",
       "6sKPuWm2WUKMPSlKEs0iOxfDcXxnKsneDuf8qdoJ37EcDtCnL/8+nyJiZ9W3aAkwh60+t6Ua8ywD\n",
       "DTKiOCQvma99D3Exb1tr21PgwNaPDRh5imUYo2aTmVhD75mywpvE2oAWdl5SbdcAn/MnrJBTxzgd\n",
       "SUJ+MvK11UWC42YSl76PPxjEDHrlDFDmLLbhGTzhacuZ0wAAAq5BmvpJ4Q8mUwURPDv//qmWADKj\n",
       "tW8famAL/HQRtmCerHpCcbHcTiEZDsXlQUC5w0haeTdH3x/dcZu5FRemj7QL9R6Q6xneu1z5IZnu\n",
       "DEeNtb60/nzSNT+K3A/Jy8LeZNynHecdHSnKa60tk5Uf5o8t6AO62U6lAtxq73hE2qTeXuziWF25\n",
       "o/lU6GSVeNk+pbEE2DWrZvv50YSTzUR4/hr4sfr+o5FRAC7JSGH7Wnx8olOWmcoNjz3D8Xva5YM4\n",
       "5r5c4URcpucMyQ7cu81h1QZmpSNFImqsK+8dsu8jT6Tiql2IiuoeO5IMYxFVrEjCJkbp7WhGai2a\n",
       "2ouarkaq4ESbw4j8V4V4gwq1tFFMXFJ4Da8hFELfy98Av1DcZE47M8MkAfQKsq5dJohZ9ma2VvU2\n",
       "8Vt+sVhwhV0hr6itY8kVw9RPeJdiu8xyhZHVrPdL6Tsppz3RqL1+FhXH1A+rZU4B6GULMxvuRZZB\n",
       "gyhmnNw55QCh5hHZRa9VjQymwa+bBD5sbU0+D9QUM2N5YBzOCcz4PDGrxlB085i9vKQ9rSNS29W2\n",
       "m2ZRQ3aGDFzq1WkBLUOaDFLetDTpqYINjgx2SZ7eOwTAK7yUIfrhc8GVXVqNa7N38UdLscP6HEya\n",
       "z+nHcns+2gNMm+Ef4AkZqDHSZLUY8i5eCpaW9iriXz8B5kFc79xab8h7oJzJdOeOU4DM2q0rnp8+\n",
       "wS6emBV2AjF1rV/p65w0ytxnabCGFNrP42pGtTtQwODotjNRxCILTdeTaHA8cFQzLMNnq6URFX58\n",
       "z0oVWQiqE6By56SmABzjvr5ftabihlrUUrVA7WEITWdP0XpYe7a9wfCPIrblIXQHwNajZRZlAeB0\n",
       "j6vZZ0R9eCAAN7MXXTwqMhyBt7q8gdFlqMuuBzsgn9zOc2IW0nB80AAAAMABnxlqQr8AUeMPpwXy\n",
       "pEWY/YALAitRepxp69ApTKQGowGUjOgz59u6UEO/F8qIHSGtINeJfJWBdZqiJll2bMExtGNJ5E4G\n",
       "YsemZqWhxlh1KA19dqvpN27upKWVzy9kXwUIANtcERz4qCrB5ZuOmHMdGr9m4BnUtjmRNK5xj1t2\n",
       "JAJuGvfHI7a+mCUjhy1Er3VrYk5lkpf9aKBTJU8YgmwKA0hreo+TMhUNF53GdgmrtHyrRmS1Kpko\n",
       "U7wOnIsqKVcAAAInQZscSeEPJlMFPDv//qmWADKQ2PifgBmvK89MeFjPYKBa5ciaVYhswFT0dBUw\n",
       "byb/w9p8y1xtfI1M2PwfjRxIB7p3LlWfpQ3gMeFle82SA6zLofclF6fBHkx19ua3GTkFsGJpQeua\n",
       "/6SsnSpMuHdxjphEBauyYkPsE043/JzLUYSVbbLneJj4x5JFAGlYZQv0OdYl0bvzfyrkkWcLCwFx\n",
       "uKVA5NjLJqLA33O1d472Btyv3gugJaSYGMeMbXHe250UCluJYi/cZbA4BdzDPhY1QLUdt7YNJCaJ\n",
       "S55dRhmfQ1TmrgDO37gYLIqL+eeCeUu+UY5k4cTzHGMDzNdM5oHbekdM1p1e1okU0j13+wgVFUw3\n",
       "oKP+M7sCCGeGXPdCB84gyglZpXU0gAcrb6G4Ixr6s0N/FV5zwrpmeXcpLJyxC5NgvX2DL6COdQeC\n",
       "5f2fNFjwAR9U+4xUjYIIUGW8DKssytvY0tQpIC9//U0Vg8TYYaQn2yUk9wajzlQUlOvPSTypstMG\n",
       "XL3JQhgXvDSVRHm0P6kKtHQhLy/rKic9zuziROshqfI75unss1wHvs4VWK36Z8r8m6sD3yayLTao\n",
       "Spvtumb2kk9NSFJpS4afof23W1ieOLaFjML+vqwYPjOooqUjXR5nPSR6SndemwzJNu7Lip/fYfBV\n",
       "knGVh5CNMsmIaRF61fQMEV4pQbnn45m4zNbqpl2FJw1Y0oEsxN/Cdr1QGNqjKvuzv5wAAACQAZ87\n",
       "akK/AJrsHJML/7DFWdEDOp1ExfHoePY1D1VY+tJseI8idr5MfPTsBhiI31GAEYcU4hQPngmkdYC2\n",
       "lXerlPzCO3JcE1RBNVri47v4I17el6krzQV2f214owk1S/FoatM04GenNS/wTML4FS4qcKIHxQte\n",
       "aDvJ/DeGrsMPcZLT5vsvmZJ1GZ0J47Z0DcsFAAAAkUGbPknhDyZTBTw7//6plgAykoWgBFLh5HU2\n",
       "D+kUOH4OLXLdSUA0x+Bj6OJm6v5qtGIMSGUqn8yxuKnto1tA+M9xZ2yGgKEH/Nte5nqMJ2MiUa09\n",
       "cCBCJWyzyrqXm7JHEPam7eW8EMIt0yVV4rhNsbzvcRTOyXkk2TXUDYnZka9QPMeXgB9hAOzjs7cP\n",
       "F4Ohz7kAAABwAZ9dakK/AG6sOIE8+mLmSTWqA7ZkAJaPq4xgkDoYNI3adYnrVxECiRrf2IEfooxK\n",
       "DDH/Jh44OVfAgr9Xqm2hb9D96bpOr50dx1N8ALPnORt48fNNTGNYIgnicg5ECjENH/tfWSjyFoA1\n",
       "NPhITDlflwAAAb1Bm0JJ4Q8mUwIb//6nhABkaRGzVoFZ+d/huAEhUcablv7ji3norADZYJsPgn8k\n",
       "wB1Ie/DyIxoPKV+PiPLN2g7cNc0GEGQO+VGVJhe76aYLvoW2nIIHKQXKeodqaSZVkZPGC4hSVf8a\n",
       "R2+fLR395xPq/JDg3Dm2CSt6bGNsTzFtk1aHdk2lxrQjoRoVvrZFPUjKAoLMftirR+yQAax5AW3Z\n",
       "dtfWmwo5RbXC5Ycp/Am+EH9xcF3AUgpSan5BxHxm9c+6zuTvzuktvskFEVO99V0baiymMEEtQWrt\n",
       "I6DgwK0Uv2w4+zH2yyy/GcZnUJ+9crXanOu1IKsaBPP+/uc45xrA5QCdZ03XsIr3sYNctirO7yWB\n",
       "95BRv1/cET8UMBWrdIsZrHQ/loJUiWol3JyVm1RYsobpFR78Pg2DF+nuou6i46DhTuP5ZmYX77BF\n",
       "O2A0krkl13HVSO8ZwL9QnO56Mg7PAHYO86aYj8o5i7GHugbKuF/OEL+1Uch1e0y5TAKRvPNyd8fg\n",
       "/QnK0aaWs8TJlA2xQub04KERSM7J+088H5VJ4ZSLdjh/rjAaXr37ew3As+YLnL77mx5lDZAyM67g\n",
       "AAAAvUGfYEURPDP/AFVpTd6lU7MnIWfd5mXxeXWeqzWjBqTk+dk+YVsDogA/gAAAAwAENpukd3vF\n",
       "Fg3IyP/E3tthWqFsu3cPHLpIDZ0dBaCuVc4ry/HdmI48gOIRHh4OGzt59WAGhnEES+zeZcm47gQQ\n",
       "mcajJLyuIkav4oNWXHmEtC0MXaxPTeg448Gqe7m1QBVMzH8CMnnlxH+qA+ZNZ89E/iW30uFMr7mm\n",
       "Gktb0WAqqBz4H/SSZMblqdamLbABdwAAAHABn590Qr8AnyWx0YulwjWRxYAFbt18g0TE9jzzOVu1\n",
       "r3HAO+lcf5MPvvHCkYtd9hBvZuuim+nNAghBh9crqDp3/rGrWZ9edK0j0siCQTAVLKdRgo22w7nw\n",
       "ZoEoteAhe8FzBlgbfPBYKtHWS9QRlGagAAAAyAGfgWpCvwCfV7mRut4XYlUarOOAEab6759pUFK1\n",
       "756NLccIBXord8TwSmHT6hG23sRlqcSmjBJnD+h49zgTCLLRhyadHW087JIN52MCy+Jkw/zBJo0V\n",
       "tsbbUGLs4JN4FeTuI2i5B9Q6APEgPy7OFlKGRqwlGaIprhuf40fwkWn2+yt9M5dUP24DvNdGnCJR\n",
       "/BPOXfzF7rYBxnbpxQOv91CL+7LqYWfMUsffzgaKWPw92cYP6HrTwsfaUWrvCWEL3gfy0o7K9/PX\n",
       "AAABsEGbg0moQWiZTAhv//6nhABh2EKr+57c3zqx7HnIA4/0hNVxDwOsaTG5Q+e9pDmb9VcXgXby\n",
       "l+P6Kp0NcJwsqqB071Z6+BhOIP2wSNjIMeJ2V5LYzfkP5lB1USIMB4rZJOCnOPKf18dS4tw9+WlT\n",
       "PgvuGItyvLn2crkTjx7d+kA6/elKTL9lpBPNYBI/V5r0GTGG/0a1BWJzdvDAwGQch6sFJzTT/yXn\n",
       "I6uJzC35UV0zopcWTAsam53/15w+YeYP0z4uQ+cU8ipaklstQIYjMBlRpNyocfakhATuywqwuwIh\n",
       "3iiidfJwpUv5OH8KA8eJzNUIpRWdbRFMD1smrUQDC50T7MqTLyNQDYj4xokqC15AGywTpGpO+tsM\n",
       "BIcLuhEGt6QnwVwPpAM1wxQo3mIJqEN3N9AWnEDYz9vIAwk+gb2pwL1if70iY38gH8nUy8/hRxKh\n",
       "ML4oolet/xolFYgpkjqku9MIHJJ4+MeKXabM3dQCqoTJstJwbPx2Gb5WkklFoXqcbLIVdtu9vwKs\n",
       "ocK7ljLBf1ZrE1BdhN5vl6lWzKlgkoXrXFUdH4nUwD7buGj34AAAAgtBm6VJ4QpSZTBREsN//qeE\n",
       "AGJ4TzJYiFu8z3gPa3dBLSonfhYwAlfYcz2ODr7GhkcYgDny3M9WcRINO7zY3mNLEMyVXhrUu1xY\n",
       "CxUPrl/+veg75xLzHbWUhrLuaKE7wwya7A4V8HpjmuijICdc9usBdW2PoYKUFW7ZxZ3Hr2ETckZ1\n",
       "JAI1FQkQ/mw4wyQiU8MAwQIiKpsWMsZW1nvr0YXLAgC5fkWxWzWYWcbcLdO8EbXm5lMO6CMYdb98\n",
       "veXLv0gZC2fTquJOsdAWxprDa/QezMzKjLCDODDNv0wGmsZI3YYYrOxUsnvlyp4+6bcUPE9rzs0m\n",
       "HDxdM57cbA8AgP3csbNZKV+Wg6IsfusgRIYhxD5/H+OA4xlnFu2wvzzen6B7EEDI+rGJhYtTedQi\n",
       "H162QTbC+h/AKc+WTxSIxmZQRQKxe7InoTetSaDTNaqSjVLgGJRg6qyu8uyjAJ2gJ2Q2mCZPlq/p\n",
       "5bs7mnNi2HyrRXZjPZk0/ZLmPKByVX9+Nu6ISintQjaTIkofhtLbeC6xIr1JamZafDdLhAn+HWK3\n",
       "Tu19Le5RIa3bTteBUGTTYoGa+6fNmUAKFskp22w+3NTVMQ8cZmv4SjDkSOqntZDkeGl6qhjX2z5L\n",
       "NEkaaq/pdok64oT4aVxzrUpqvNanEg/u0D23MvpLbI+XEdYvNI7lxJ0mod5EdDzXCX6pAAAA+AGf\n",
       "xGpCvwBPmifGpZ3pAIy/Jpz5HoASqEZi95SmpJ/B+WYy51FDMDVl3U8qjgoC3a0rA+FE6OWQD6Ah\n",
       "8fEAVRF5cwTKTkLJQXLJR2Vxr1cIppFymcnfa+ul7ygrwD4BusqMSsrg9hL3/UBgtrExrv5D/KFw\n",
       "drReu/K/dEnhS2K9MI45IaX+dKHrX3Pfno4sxm9Spz+SrLGzhQo41Y9bcFtfg0P2nUWhmNECxE8E\n",
       "ZEOcCvS+OF0h9Z+amLeBk/cngQkUXy1y4w+hSaRkx7lJ5XDkNpmmnE8DrhyBib89vwBTURKx2cqs\n",
       "CKC7304nDY32nyidw0fKYAzpAAABy0GbxknhDomUwIb//qeEADJ/jgBr1K3ZvExGKDvCjRVDYVLm\n",
       "vJPWCn8e0HuBQXYJj2RTHeNRVUOnxhEQLFCX7XmsQN39HZbFsQPP6mAb5tXENWwPb8i68EwyMQh8\n",
       "930IMt/xJh0MPbJ4oARGMF1PcpU/i5xoKLtGREzCEiaobrR0qhGHzB7cPwx2Kdbvw88rlgkHOeAM\n",
       "0lwgPEumFx2bnrGjN0nCbKr/WBhVkc/1Mn6cxl6e99rlddJxz9lXG1dA8XE0rCWwGxW7aUfi3SFJ\n",
       "nxFzY7QBiO9/rEbywOUoc2P0uOrw3cjKHx2991YUGmtwlss6UqOrKF1fg4JRX/FyvojOHXkrsjb0\n",
       "wHuLldeoHYhS7hVPGH23tCuaYuT6oH6ygna0YSfQw0rxc7MmAFuG/JKcu+e/rV0vzqOH0j6nBCqb\n",
       "DznPZ6st8hr0v9CURhSrm/GtjsymkONd6PkC2yhPYy7q0+f+eG3o/JCgP1PNwBTFkpgPkcKrI1W5\n",
       "bBdgDlhJwOz6wjQMnVQ1SsmKdJWILBY/TOWrUwCpujRrrpnKPQ7Gt8ZdlwCTil/QOoX5gzI5MkFI\n",
       "DVUyZSrvkTS7rWa/rxbCJ4f0zcC4AAC/gQAAAYtBm+dJ4Q8mUwIb//6nhAAxPCeZLEQt3me8EMu3\n",
       "eMrYO+YJ/60f5br8AITVsbj7EbFsoXWNie0+XtWWBsr8JjnWNoYpASjOh5cvcD/GeSm7as/ck9sg\n",
       "IzHtHndLh14bf1DEeP4/f3xX7DW0BPiTgm9dddJp0nhnXvw78VJmODULqwvkYePZUCcj8K6qeBXD\n",
       "6fDI6Mkcf7C3omwwC6wh0shfH84k14yj7DNRCrkA7Q9ddOvPtcOsIExzz+EW43reX8NgOhqBVri7\n",
       "zG1oL3ejWbB7kQ4XzZnYvZ6MLp6KgHo/3OOvTkn5DlF8QpI3PvuhlNYUChVZuX28I/1Gm46Q7hlV\n",
       "VXLEeP/ocMFpULWdzBqmBCDMbJ6GdRJd+JuafXz22bs9EbChN+1Bm/ab8cp9qlo8WDh1E7VYcwIf\n",
       "yyx7sEywqgBY1i0wbv2uLQ8o9hYW42ZkmIYftrz2wQxzG0R4a+vCp92U2ZUJYE+8w878Rywe9H4W\n",
       "XRIQlEoSb5XjfngJ25V+8c1HNdolTxk2NQAAAehBmghJ4Q8mUwId//6plgAMo6XyQlREhSQAVDhA\n",
       "qfvZ6lw+HP5xeFr4GEpZlVnCYOFhL6HulroL8y92+0DI/6EH2vXJcel04qEpZP/NEBBEObJcJnlS\n",
       "3AQb79OrjLglOUJFE9iRYRHIQEEsdY6F/9rWgamVT61ZUtjfSk8B0/vCp9PyJjSvDagNL7bLgSw8\n",
       "V1igU2+/ME8k5nCFgh4KamGdz+3X3I/J3BEpcOmgTY5w2+G5B2hKVsSGeOLuWRBVF0NInSM5VkP/\n",
       "vDLKol9vHJjlemik9hNEDDm/CbbP2/bRR9+MGmwiVzzDesU7e7e3hikVQ1kr5Wh9mxLHrlGK/6/r\n",
       "eG2uGXrX2le4rmxs1KrefeLNy/VJMqSWEHEZ5JfQX6Y6MtXx3i/A62cdkOeZrRo8vtD6go/c6kTi\n",
       "S43nmWhXxod8aQ9e9+3LL/B/AF8HLreXx/bRcSwKHviizEajD3Z9jvjf3sesyL08EFioaCTZ5ERS\n",
       "ldYVJxeGW0JHxEu3kLv13Q09KwMNj0GptKsY1Fu55klKm3H7SIcZ5zbZa+qluw3+sGNt1F7atUyw\n",
       "q/87q3Sak4mZOx8Y9QcdRFlHD+1xKZrvrYueihjE+dyHvEEEXegjq++5tIiGu+E0YOoFLZMbARvW\n",
       "PqZIIAAAA0NBmitJ4Q8mUwId//6plgAMt7aBe/y33p4dW4OYBerdD9m6aW7075IhUdwAJZa/wgF4\n",
       "mGprknFrdCA1mBsIcnLpN9oiApMeTasWwjaY/NuMiwJVbWNMRY5O6xPwd63mlCF/tu3J9nw/pGmk\n",
       "YLdxTPOrZR9oq+Gbqv3yfnGeENvgorUgh32v3uVQHzL9y2+sC7QTJPAHHhxz+19e/kcE7kpfVaRz\n",
       "yuxHWMrg0dBCNLA08MJT42mhurYKEV+vtq1ZUi/S5p+lGsGQchOMWaE46a2kQGJfDg1eL5RmhhRe\n",
       "qJxVMHyqpsZdJ1FEFKqoahwjUU4lzd2llI1iGKDaH6xq09ZIwa8bAJswZa9ealNJqYB6zHxyN3io\n",
       "60r42w/s1i3nZ+XJDKnOXo6Sy2sc+LunB6kzQiYbE7hcOy7xvEuFz7EqL+6w409iRIwxBthXnD+2\n",
       "rsY5z/OEjeAj2Zpeibd5L0X4DN2bvy6zwPinh8Yd8p8HK6GKsChqEs5+8RpSuXanvgaor69QXHnU\n",
       "To37lBcYkumCmDbTrUTySQjAW/w0ZPPc+BTVhiIre9FfA999J5yJVdMGxZfCge8QrVoa2+Klf4oK\n",
       "2/oGC9DpkvNrpqcpNBDNQFYOvxPAWGn94dfhXIW+0hxlyq0xW7kIQEoL3LGMcO+gUtFDz/OW/nsS\n",
       "MGFvlR9yHIrsNRUjvp6wBnXhF0QyU5FchPhOx3Frer1cpFurXGiPNLSYFs3doTdeF/70X9dfa6cJ\n",
       "zLYVpKog8LF+YicJHuHfbSuAeA58vlQ68dzxJqBTnGf6+CYnknKwu6hITsQzbMr6/Rlke5ceeVAr\n",
       "W5ZUdo60ZFp0t4Kfx30lyjrvxfkCGu5Rbm/tuQdXK4VyG4UT4w8yx2tMu8lL69saJj0zuiuq3c1j\n",
       "oRaM4A/zQNm3v8d/XJZETsKVvvDeF0v7k5PApOTIsLjc5/vGle8RmJ/S2ETsZYKtYzGyqsvEYwS1\n",
       "U85FNbZHgnv+fglz3RBB7pyH7G2X5yKI7CW/Gt5TXcaTgX8y2P58uto0KUoZrfsDqCzuw+5WhROq\n",
       "9qh7LZLTME0GHl6cIVy6UQxR78T3w/c9Fy97ogQFsWUAByRngJpBs3ZCF6yAAAABoUGeSUURPC//\n",
       "ABTKTxL1wUAqA8pWh4lQaccUa3ADdO7iG70s6WQcqGC9WOJMjw/9p+uJhn25S1kJejKJno+LOhBf\n",
       "xRM/zC/EycBNH6Xu50pHtbPAduh8KvHcRMli+OKwjfnzgxT/yjmxClOctMlzazBB4b1Mt/MsbfdB\n",
       "KhRglqE3/YzgTXSoVIz8RvYtGFGWjGGfaFqSp+PGXDEcgj0fs0WhQBhwYYN3jOfQ9vxNa9UqPiJl\n",
       "+7oNolIcpeShxYlbGlvTPeP1QkpIze5lsgUqZlu0SKXgIV5QNS0qKXMgbdOV8eYqVs7jMQp/EUY3\n",
       "Op8K4+NZ/z1lrFW1Cn/9gqNxAnwC0gj7zu2HKZXrRPdJm+eauvheYN5OiS7Vyp88at2d5mRe4v63\n",
       "IZ8me88z47imCOiJrAS0XJsna7QoQVWAKCH66W+a1zYdybgzRNDy4/bG6FUVJYWmZwVfkxE4X8ju\n",
       "izRCU1yJHmxHa/tJoo/VnWNqOE9/N0vQtW3yYkkkYEtFFqT8WAaoDMvtff3y0n9SrXyqL2gh9r+w\n",
       "16MHZEIx94Mj4QAAATkBnmpqQr8AHFZa6EjS1w9gWgTru7SgpZPSZFf3gAW2oMa3SPJkjbJclBz8\n",
       "XhSZV0EWhvyHvUjWV1wPcHOqr6diLRrmvR1HG1duqxzBb+9l6RnTbfgK28keAwTv6BEtEVdvL+Nt\n",
       "ZF7py9HryDxu0AlMSKfeinvc2Ta7PQodJFXdne9x6C8QcGKBvwuL/ZJQe/YR7EKQ4gZ38H8j/Apj\n",
       "jV7w6sHDc4yxXAkxdL69ExfucO4TM0e3Nr1v2azTtoS/aTatmrohVDnPI3ax2lHx/+lrc3So2oPn\n",
       "/4yoklzDW/WsMuMhExbiRE1xcvIyRYb7i5csYCgckawSmnC/k2l140+fYzFmrqRjOZKp4w/2fepI\n",
       "njt0qp8J/pCqq11j9xDBQbsm9le5SFOUm75LPP5gvijp9HeWoG/z0+csAAABs0GabUmoQWiZTBTw\n",
       "7/6plgADeSonADdi19meqPgErrNf/4ZdMCG5cqfacnxxJgi2Amc3R88MC8mEumc6PNER3pLIY6PV\n",
       "6nbz3/cDz4lqZfCj8JKLpZLspwwA/X7baulJ9DC2yr1f+/SJCYieydaJhTvDOVdNqitanBRzJ8IW\n",
       "S8hbo5oUjfqEpxlrKz/n2MIXzBZqvsIiH+DErTMqqTll2kkqShbbpPKPleoj/R33PPg0tsmahpjE\n",
       "wKMueI11xMr3tlpGMK+VGbnYESiD/XfT7cY19ozhk3xTw/D0E68XoLuTrOVEd67TcWevIv30qKmW\n",
       "4AIr0MkLvJ76tgqlizZrR3JaEwJZk7mCIiPy0uly6lKuhYjQrzdAO03mN/MRbhdTT2mN+1ox8GCt\n",
       "97qzkWx4VDYUxly66iNqfriIsIneAGdWd88VqgIuBNjypaMQeUsjWqxgzt5B+8nKB/K6AJWf9aai\n",
       "tyMzq5S3hv482iESCm/9jezYv3T+lU5UaSi2t2pFHwW3aDE/HPV1viHEP9JnQ/tANQPuMtxf74u7\n",
       "Uk9i4WTP9Z3li2QV6w0M/H2pI1KdXUC2gAAAAXYBnoxqQr8AHFr27pFOtEQo0lhZVNNQBSADiBAz\n",
       "rSK2jHKy0WY/mGTPRBFnHv49rPDrAmn9JedQ16eBRfejTQg9PaZklMCSg1+QAqF4PF/5IT9JIxAe\n",
       "7dFjPOQF49YNzZN+4Du7xr64i4puSXOFe/4J7UtQhS9ryT/810KxVimLKwpNZPsQcl4vAjBKRJFC\n",
       "OBO1fZKbd4Gs6/9yh1I40i400Lu73YESkFxELnBFb571PKQNdzQSybAZn0uYkTpEyfamOgRERQzN\n",
       "OOsDzHpDkPOLYP32fu1gRUHpSe/hgw6RLAfq1XovIDHfGgloZpsFiSYx9iAA2Bsuw6fg5rwON0Nn\n",
       "Lt+k0ugVHxXCVRtXrfBBQVAYGmHWbTfbWmWQxmGDBT/93VyHw2Xg4k03VOI3s5w0QgTIu8IiIIt4\n",
       "jVVfk1GVEZEP5Nx4kVVq+r11p5LmxWkEd0wd8FPNfic5kdYY6yRmvm0/f2DDCsDLPg5LMZm8c84e\n",
       "x3oDPwAABNFBmpBJ4QpSZTAhv/6nhAAbmF6ACaIncHSmJn8jb8cFebZKYzeRy++TDlaN0mlwrz7t\n",
       "753L7Jq/xKBwAxWXIE2ffMKioowIKFiwYda+BN52dMfHuS7YWDgFuWG+dGizctfeaHT+fLhW9hAL\n",
       "TG3y4VHHplG9vjOYojfprwTII/Z5h0k2vtKjWGM8mo4hD6JH2qeaFQWtl4mZmyP2nT7rkYy6GNaa\n",
       "a9VEwfEWQxo4x2+4Bi+yub8jl/t4s8mcff3RIC77n23PvzJlemxCUbzHiOWj8v0nSKqxoIhZwDNS\n",
       "6E/G9T1qKCx67ifCtsMA9Ui8Ak3qShxGGJaKouoaUaKf5/jeoioJotW7YWk4MwGeaZC7/ZCMO/xg\n",
       "SB1FBhMVzGWGcbir5KNdQ/SnsgFsleJaEPb+LXpxdY2oT0PPRMr4BNNVITsuY49co1qH5blt5CXm\n",
       "35f+2Vjih+zDGSodxKChzkqcTO9Dr0Pm0zv6ZSX+lP+4C7SwpxqLDgH8VtdWLwNlnw6YTFB1YjsL\n",
       "ozqeAd8F7RHN+w3fpJqcbKhL5hy9KBIS75nN0zXcEjIViwuue8Ru3JgVDglE5WitnfId1rinGU1M\n",
       "sP52P1gx3c7sacJdt0P0gsSuBqZqCED6l4uZdO5I4mnLGaEEYZpjrDxi4Z1YpHa1TrhLL08fwvlF\n",
       "uWqvSHB+ztMkCMM3KbKWuZCQ6yoBCInMz2gnf+ddml/wlSiHsQW0FdWr/GASMUy0a7zdN0zCdbIi\n",
       "va/rTcAHGY8yL6em2oSgeH9h0Ca4pdN38ptcUsA2DMYCeDbrRe6gbBXJYySgWmlmyRzrXeDFKIyw\n",
       "IAn3leHTCrw40Q9JJTcXvNiVv1iqsso18UGL//5mU+xy2wY/V81p/cCm1U0jjFc8cNnjNHAzXmfs\n",
       "Hgykq23alLifmFhjc2TPqjMPR907mr7R6ynxOZm3JYVj5adYvccyJYcFytO5f3hJ35azlBoIam4E\n",
       "R3q72xuQwefs6Ff+RkPHtxALBbzE/ipHy/M44v53nbLpfKyIag+1sUh0qaGEvV87Wqe6I74CPc0U\n",
       "+6AdjR3OJ4r/sOGdWN5vXoLOj0vgDcmaVPAymb3zua4vD447gOBMZCAAt5+Zhn/ErBqqR+f21bG3\n",
       "6Vl9ne5kHhA22Cw9WzCCtJ/uCZB9593/FFve/UUsXjQZzDiNyKPcQpDr/Y7y7uuWRHscZ4Nxnq86\n",
       "gjTypUzuYJMa8V7CLd0P8FcojTEKFNxkHX6NMBPYlf+0tvpzqgF7ROIQ1W+NLo56iNGlBl5r/zA1\n",
       "V8lVfDQg9WA/HlOkS1jgOlgKwxvDrGGj476ROnecDhNdEWr7FKeoiL3wDOvnlIAzAEyaEMnGzzI9\n",
       "NnQ4BDF9khGqVTgqoG1cstuerlrPMLAQg65sFEki2jmrmNqKOdHrDJT0ngl89R7Tv38Htn44Ngbc\n",
       "bhowPlI8HugopuU53ltbNWdf6vnUVeiGMGoEaZQwyZIJc8CjLYLmz6kDBalOWK/cfNPpVx6lr0nn\n",
       "TaJ3y7T5t33uc633cWdbwI5vlpFlHYjT1LHOLaRGqaHkXtWheGV4r9/8SJ0ORv4gHlM++bX7dO6V\n",
       "4ObxizkhN7KL9aQQaQEz5WBJI28aCvx0YXF1qGvp6FaD69+/3KVHNXoAf4EAAAH5QZ6uRTRML/8A\n",
       "FQtXvXJRTjx/y2HbLv9R08AIU8X4LEvFAWrK1iv57kOwEA1Ot+x8w9dHz+M9Ll1ntuhALl7kkhvV\n",
       "yAUR7h67zqgsQk7usfkTqc9FzfaSuHdUJ9yHvUCbM+KJHvreu+uC/ZETo/qdSU4CGQ18uv3xn3Vs\n",
       "uTW27fXph8lHma9Jssm/ScoPIAHlbCrip5QCvtbkCuW6yBfmsRZMj1SPT0q3h2hKoT/SIFBFVvbZ\n",
       "NULZnVmZPrhVxw4EadtX1kDlYKMloe8sGcwjxd5WcNhbACHuKmcAuZycw4aDYreSBYX3elJUj0U0\n",
       "x/ZbvposPprmPBhBIjMGrswWyX8BXJ9vn7tD7vaMFtV/BpMGVPX9qEfohf9oPaicfZMgnSSTZgdl\n",
       "HFG2itV56eMNe0v2rWoBZySnYl1r7PBZ/OIbM6W6TbSVrmXPtUwG+HaYwLxvgt0sO9erFLwYvBhy\n",
       "/l9id+3EwN4OeYzCV70FxFiQrjLju9zvYaRLTCzQYgiIR3+SZL0Qw3zqDX4ozqQBn+kI1/BM696v\n",
       "pH6sdURADVVy+JHL+GzwMZGku7iQ6rb6/7wFsDLcHvv0VGEDwlEYa6HgN0ZT7wLEsH/Syfci8Cam\n",
       "1mtICdRJlo6Yr8qsI548N81AFS4BblsRJ5m3dMQnxZ/xDJb1CiBdwQAAAUYBns9qQr8AHFZa6DtT\n",
       "+cGcZku/ke0E634AWyejPiYT3OkDMfx1dJuYAGdF5aenwavA0/U0odHeZPAzMY715UDwwz0Crv08\n",
       "8OOWbKg5CWwDrwwXozdRO6J05pPFgxVZD4V+G14O8sN+a0It/WzQJeVwmSmnnM38ohGuVuA167sM\n",
       "Lg+SDmgr3gHbMEtl2A29lKuAhDJN9LjRCI9bgByWP65lbyLdzY1muwqs0eMTyqgn6o/JmvtqVfna\n",
       "PoejDWGFET3B4/lddDVqwuv0KmfXuA3VShFuKfA7WbJ6Ya1OU8EU8ljdGIov5QQogk23zafUXPYA\n",
       "59st3bzHzvpLeV9hHjonTbAXBTAnjO9z7dTDj+RuI/PWKP8df/B6jVUdheOTD6oajBKl6nysbjuU\n",
       "QK+6LalkXWmi8dWBHJdEITAD6ORJ4iN+oAAf4AAAAqtBmtFJqEFomUwIb//+p4QAFR398DQvwdyX\n",
       "dLUNjH4/Fq0jASh8098t58fsqpb+S+2pTkBlutrj3/75MwM/vd3Pdup1XdQHB3TOWOJlofbvgJ7M\n",
       "JGBrOex9UgynlyfbL3sNHXDdB9n7MBhEbgpPErh6GABS+VMjMN1ZJztQacDxNE4MDwk6iCTAS7VW\n",
       "Yj1mKaYPqqeQsql7n62awFJtMipRW3ZgvKRDKt+qoVMETHAzzR8OeNrsE/fznKM5RciaiqJrEUh7\n",
       "U7d8tSHlmQK/Th1goKJmC0D6ROod8P17UNw5vSuJcbaZtJ74OHKMlI1osOR8DjP2iXS347GeIvN6\n",
       "v/LmF9z6HYPTjx6WCNpCWdFx4U5Mv7gHH9vleovtVCOTWkIXmCgyFQ5ikdxmsZPTWSQa0gnuEUMY\n",
       "4MOC65N0MHjc9GVzl0byQYxKWlvwj9T/mAZZSBMMwsP3OzHuz+mhI12eivK24rnChp2O+BokyXnH\n",
       "gZ2webaDFpoOZ7v55nFni8OXdUKHbGcstOViLh1Ppzo120+Xxub6OURnaiAIjT6PmaHmEVdjZUFO\n",
       "Bbe00NVOU5z0eEHkWdh26Y+0zqvby3YGl8VwIaSY+2jZWHKilmcDHtNDTPCQVdxBsDJw2wsRjKZC\n",
       "eZpgknKwcL2pV//s6S8s7CuxUZDEjMYoCL7pYjq9Bp8gnUFa7zL1Ymn40mrxmntGSRuSmv64l6jM\n",
       "akl7n9uVtQLqfZk8MQaF17HBBn6OIxmfTZ4G8Iq1bQprSMJWtbJ3rD64kYDI/5ugrMuHFLlAJaCc\n",
       "STyMN+7p8MQkihqlzlk4QXjktACbbaxxZiitrysmqyPFO/7UP4T5FIaaOGOP29RR3wLRUDRkwKW5\n",
       "eSUoYMmYe3Vn8DkoX8DT7zhFcv4fMbqEDWV+kZDXgAAAAutBmvJJ4QpSZTAhv/6nhAAbvRReHZhY\n",
       "AC+veZOAuYYcJ/yVSq/BAgyOxCoxiEtUL+8RiGzo99lwBc4pK9o166iY+bipR4NPCqRyiIU7Tka+\n",
       "9MAEioQ4QJn2YCHqBmWEUJL8SCatdfzzY6hygrgaiNAdMJtGrsO98CXVZmxdp0C/rPIs1KwNy406\n",
       "CVxytZaRixt7Y+aXhZTxurBwRQtHBzFVY3zqf3Ks2RFvZUua4PyBdp2nzEPGLQS/STvyegwCWZOz\n",
       "j4CSW/ULn21h2e1mnEEMPLeYTvc9KjmZM4ots5nCC4XVqi1286P+Hm2vspgqzOK0II+QEy9YUqQc\n",
       "SVT/EtRI+uMbdAmPgsJj4/8Ngy65JhcHDlHp88pQ0NaL22dFs/Fv551KUz7O3L/ZdNHOo8Lm4zIk\n",
       "p7iy/d8M1Q/zUpsAWx8Ks4F19cY4/s4PS+0OvTRqj1nmsijGSdYN0ypqAgacug4JZ0u9sH9wQIVk\n",
       "ud+JEuseNNyeNsbN8oRIH+uCayVTG7OQYCQvMTIH2x0sRBt7GYw/S0XIVgZDbs8uWU4ZKS78ry/s\n",
       "LQOR1n5+gLNa2GGJcZAvSt6kI+pj0UyFJOoGK46+JJBQrhcO3FTTgPalCWIRvcegKeJ4+/c/UPu6\n",
       "3+SV9PuIQAbqV7ZiwESRF8nxleWduqOi1wjvu4ZRKFK+pQ+U2nuZbLBl9YEhVqir9KtT5akGG4IG\n",
       "0iB9sbgpBBAmGFm5NKNdtcsKmo+QYGu9NObxwoAbRVZ75E8mezxpH+sYVx+JzoGzcmNSU4iA2iuE\n",
       "E2NwWHrmLO6E1QFMYs6srrPIw0v0clGw8UwxD9daiVIDj2+yH6kgW9IzskGMGMuU571hsQZub4dn\n",
       "rcjMRR4UYG8NjZZ5lGeM+s/CYds1QNo3vwKJUbyJwx61v04fM3Peh3h2zkziORGeCxpmKshQpOaK\n",
       "guJj8MWxEvn5pVrsP9eP45jfuyRLZMDyzH3kiwAbmdiiq1R5w+PsHbEAAAKFQZsTSeEOiZTAhv/+\n",
       "p4QAHG+Bn2W59A+LgAxQos2mrqK70w3BpirFAKmVH+/aBf6ybgyj4Zl2Pi7UtbFU6w59lV8Whlt7\n",
       "Y3okYi4wdCdQWoXKv8dM2nWs5uIky2BOEOJwOMjuUHI7hNreLrljqix67yHYqZe44UQBei/PPmQ/\n",
       "rCG0yNpJX67hY+E4N3hvJgTOFaKziyCpnH2lzxLscH3yxxUTdetRazYdBtG947hITlMNuoOPjfis\n",
       "qUHEtdrZwVV6TnVez7darfQENEM3eyaxGkcudCOdfjCDT+5/mnXEGcYnrxFyOl6Pl3OPQcNSOvcC\n",
       "Aea42MHVJs2vnz6Ve3jY5fs4nOOLg0XA9VlJAVladJRQ0GIXcoDvkpT5obcTx8EeNVF4tZqT/LuI\n",
       "uxB3UO8vZBrIRC4K6LpKAbVWf6e5HO2XBjVQ1EfamUjOktT5Z59j8zOUIyKeyycAmZLRcXTLc9Dg\n",
       "o8H7xZJB9RNKW280iONEHYnrVpUazWJ1NGkQZvVXPs4WMJY/RVw2GpeeK26+flEU8oBV1MqWW3Qx\n",
       "COdGjvm4rIXwko6sqaKFMDQhXb5zPYpuPlTkUopkNFi6JPH0W2VjWNDL8OS3NcFtWexzHnxhLt5+\n",
       "PY5wvcSyJL50x95KkjuE22l+SbkT6bWqwELP6ECNgmj4KGSdrkRlt8/BWi6fIDi67udOL2SRWLhF\n",
       "OcTATNqm/yF36jPZPRw1FL+JFc7xwzJVX/Vwvmhk5RBrUxCiPajXQBboP9hPveH78pm0oi4fkxPa\n",
       "QJL1qgQwYzXKMv4PrIBsFtY2szlQ9ayGQJrjkL632sG/Z3eRtTJxV1YjLlKJRByEXVHgCdSSuV4i\n",
       "ndL5DQRfAAACVUGbNEnhDyZTAhv//qeEACoNCv+vEEqrevzP5OkFVnEHdu7ajDQACc402o1ylrQ4\n",
       "J3ZQ+qvSrqyIvKE2JtGIqCVl7nABBsQrrbdOu01JQhz66Z5evanYXr7hik2o9M/u1mb+xVn3EsHm\n",
       "NhKb8e/lUXark7z73KK7vhvnioD3qkg1ckFaGHLAEhulbBasQfQ9CGwcsIaYvX0H5o9rcuZqVjQr\n",
       "R+I/TbYcs7ioqezLF8Zdy/S3cSoHHqSHqraFc54vHZTVr8yUq7zSRwAwdE8Y0v+yN+8zfjXm2M9/\n",
       "tIZfrOHwdT3EPNaz7rSKci/gBwm1Wm+UW84RE/uG1wTuPXgtVD9HBEAKp387glPBCyqzT7xsQOkU\n",
       "Eds4Bw+KvsFASEjRcbxhWAqDtfTKclvP0/9keoXmU6RPH7ugJCv1YQbSIlE3Q0uPmbx95rdQ1ghc\n",
       "+iJYUBATDr8hD8DH06VK1jwP2XqEpON5X0EAPzZiO9vpCM9dCJk6gDd8wsUb34d25eqgKGxc6oXB\n",
       "gA+HvG7XWGo1yCD3EwqynQyltNNVYbl5tJFDpxg9s1nE31dlB6vapw/7FZfLVi/ZeTas9BQa9f4e\n",
       "kJx4EWCsHxr5xnQ7vj38xafJy0wedSYMTVJLF1wmDiNmJ36/JvxlISTp6YW5irNm8zeheguWqlzw\n",
       "siDj/ryiQMlfaQhDNlEQtL3ddYFbTWcrjWL9vmFUpbBeG19rs8rup98O7xnjBBCHgNKzFmV8O5qu\n",
       "mU6n1ABQJR+MjC8HWjFJL/2iNoVVxpF02bNM2KYB82Z8esqHTAAAAqZBm1VJ4Q8mUwIb//6nhAA3\n",
       "McfgA/pCL0wk+vPvIRZa3jrLf90jADqEsahmemefoFZU+x1xqm8UwYrCHFJiSwEicoe73Ha+9KQ6\n",
       "J+ZM2HB2xtXePkrZCSr5PJVnzNag4ncmy4KdzD9U2F6yZ4ynCShzyW2dEL4IJhwfbb1jo68GslKg\n",
       "o3SjN+cWTpZfe0/iLZNRzaBR4iq+U7NGCv/2CmiZSH2+B1XUhU+mxDLBr0psci/3pWstkzOFE4S7\n",
       "st+ofHlDvsfGI2506JP/rwR0kajDqPr03t5MJc5Z5vf9GCfAXBgJUbAgeVO1D5FQkGxfCxUU9zc+\n",
       "jB8ttJI9SHm1Ps58sJMBX2pvJPYh9SbOGZO4iMGe2udwS+EaR2Rm0/pysxS5oMdXUh1xVvnNMKAI\n",
       "A2RE8Izd/Bg2k2+ZbYGL62/GoDCHzMCTzLilxzQ0hD7JIf/PcePQ8sKJ3aluziAz4zoKCusEVDTL\n",
       "1mPYnW3CKEe3iCweXp36qOm8oDFDy7vgJ7pEU3B7cvcDJE2YQinSoESmFfXismY2oYkbPsBhdOUL\n",
       "e06FcrRuM2DeVx/XsvElgbMVTQTLxXnG97kOnf0yL1RltJB0T7H+9Elm9+Vmz4LZUDiLwRi9LiyU\n",
       "UhZpUV4oEcId5FIj65r5JJKmN0HZ7fLWv6QrsD9ZpFaceBCHh2OBDdRG74KRseguKQMeRyYk+8e7\n",
       "UqaOdcS7UZ2Dc6KnqkxS/+XlSDYAo1d9X34wuOed2LOYbjCz8yLJJknBmhdar71LtdFzCa/eEx+K\n",
       "NWvxMTnJomekhB2/nIpv3MEOEJhS0ZSZWyOGr1+3zL7LecJZrZ5UhQnMK3GiUKjzOHe+ghBgDy9t\n",
       "uqinoG4SKNqmQjiTVlmu8/cuVAEcws4B0fz8CjvNAg3YU1EAAAJ5QZt2SeEPJlMCG//+p4QAUbVA\n",
       "VHFDjjP0KWaXeDZwcfLq6IB/oy3I74Yfe1dlsox62huHr2NWREqTPkW2cT6qQnyoE6MGqEcsP/FS\n",
       "hXYnygp5mCz+EewNo/hghewOKEAWRATbe5+OH3hPjx6c8sySNjb1Yba/j1YkAcRpovNmT0OQ6rfw\n",
       "y9nMb0W4+Rbm/ZHUbtnSkHhWejpLmxh9im8e7pHWAqS7ZX45EQryP9apF/VQ9lSEDBOArA+5uTCD\n",
       "vZ0EchmKXu4D8PmPUhWrA5i4+KbYEi5bDi5+NWeITdjj53Ww8vIZCC73phb6Tle71UNuOo2hb1dL\n",
       "ZyezEE0vkM59D4VjH0k+Pt93/rMkZ2NcU5LmoOmg0RtyhZp5J1TiKSte0FZyk4XKEBSLnaq/d/1M\n",
       "lVf6L86NL0b3oXBgeGboBufT2B3hUcmaQtN1fJVMBX95ba99WzV0Jcey76IRtFznrtBauzAzWKfq\n",
       "riLtSrabem+YRm+QmwwwqNXV7xw47DXp9QFSu8SS+bBHJh32yv5K4/z+G2kGT+D3SwparTPkHh0K\n",
       "0OjdUhuuVpnlWTJFkuXX75dpYkT261IkgGE1jXVKlQ6Y81g9q6MNkIBO5sLO/2H4TS1p5yJv2/IQ\n",
       "emFXLsYZSiYZLYxzPmyYSL8zYrCzXlN2TWKztHLngCEr04QSlTkgGpTgn+3fLjCXpmkXsv0QQz6J\n",
       "M/mkOx2k/1yFPHnQrduyqrt74po2u32DQrYlVIpYlRbedsX/R8+gltraljyOREaMi3xwNf/QN5Eo\n",
       "ip22R7qh7Cf4QWuBDogCwcIUi2zmeOGYm2Qbs1o5vxW0jHrhAmc6om9/sE7AAAACf0Gbl0nhDyZT\n",
       "Ah3//qmWACpbVAnjlcnQAlb/3WVH2X4ZWrZMz0FK9YqvUboF848+1GfdW9SJpNMEikNJAhDzPvSO\n",
       "N9luavL5FYlUC3RmpRKAnPsClZuxY/b3wvboB4aCxY0ORjD8Z4mmg+9XAeXHo5lKW5z8Q138u8Bz\n",
       "WF9TGFKR9B0kvbJx1zh+2k6p9HsOO931xWXnkpMPkXa/Bzta1z//5US2qGWaikp9lVQ6qAkuksYc\n",
       "5DZikioCgAO0xlk+CJ/y1+GzRtrwZUoJVs3P5k1iXYTr8MsjKjAQ4Mxx7EqXKiQs2VTM8KwOgo7p\n",
       "auHNtAMoyhsFbgX1Jyqgg8g3bExBotE3cR0xpPUAJ6OGykWMuCKka4jYEvV3fX2PWVzTyGOP6l/i\n",
       "bLjoxcJWo3ezY8UwEoS93kVHnDE4dXigodCvcrQUMwf6KYOKEGO4MPc0p0fPn1Z/6+XY/8Aqv+Xr\n",
       "17marmlwEZfpIXUtl5aXd5n1Qs21ql0XAj9qJms6vB8L/L6HvQ5w+4rv5g+iC6ivZUFF1IqmN2T2\n",
       "pSGl1VA4C0Okuc+WJsktQwCfu2dgFz5vgfm3gNWP4BvnNioTPaGelbQVwF9/8VB10rgNMS/BU+EF\n",
       "z8KyMm7u9Retk1slgS0vutATKjLyrq6E4marly4nqhpKc8B95+2UZdCeWGAGAMd7pKc/p0qHSo/J\n",
       "3mx0dll8gBq74qXsyEZiSaVgosmRZEvbRLS2mFdQUPbfH9RY0JBUqN8DqWv2bX/41wUZ2BcnjebM\n",
       "POhteUsQJx4MoMZyKD+rGTGunxOgzC+2clYlE4jUfG2o0EyiYMySoOTmhhcpsWLMvsTI/HeTbh9R\n",
       "xguEgQAAAqtBm7hJ4Q8mUwId//6plgAqcCAlxFMARdh2PyvZ3eYbNtKP6Kbx2PQdDhBkN3diYMKT\n",
       "6d+uweL4FClqAUW4SqwcG7Udh3j70M5DN5QN7L6TWT0exMVbykIyX8yKl9mZ2MKUW+rMc1TQwP4a\n",
       "/L3NQwRcBdKYuJLAYaCU/dA7MV4qvT7sW3YGEz6DZtG1sO0tj342fcvNP8R+838HTnbnc6PgVgw5\n",
       "l45Ec974x4dc2QsMsPRtAxgiJYvgf9ReLGUxx/zwdMcuE//4ovhgdKx3VMIaOoISQbXr3ci0ufWT\n",
       "6KiW8/zb6sUmd4f6KLayNTxHvqf9N3czSlbsLzWwNf5uWgon9/AksHzL8difejKYINzeQ4QNnMzq\n",
       "vQTj5/NhGqhGRCVsqTtERBRg0wD3sHAd+PvjoPkwYVVXz3PudhhVr8q3hugGM47VNV2XEBNgJ97W\n",
       "syQ/g9egzCSXaybsby7v2VqfuixLpt5o9KJIspFZZGOIvqHI1zW0SoSU1e35rjk7/LrSrthLR4yG\n",
       "0ol1NlaABMJ0j9ZoY1QxIovtvvdyxX7/PNLgYVu8MArRZErXoo7EOQ4Z4UYlZs3m/iSgmTRtEtYV\n",
       "gUO9dHMdT0VGpNlmK1AbQB9KFELDyBa3iga+6BHFaXpgKjwdmmQsc7zNYhRpIRgTu140p9YtUUni\n",
       "EpoUaIiEdbQB6xm8UfnEpjQVsjXJRoQTJgGRibdKjpwQtroZ0J8d4ygM7rZ/cn8yJYVfr5J1hHjb\n",
       "hbWNViYy8fse1h1lU/U8DSuZIoQppP2tTU8RAxo3jkF91rUjtjhpoPgbLMDTV6w2iWYFtqVr88Aq\n",
       "tkcDKNfyQCSLDwtPfBuVKaWjiqtyTT5YdUHfN0CkpyEQ+gfl7Sc6mC9QlQhC+pOlSAENtRebJxaf\n",
       "LEGaCA3YgwAAA0pBm9xJ4Q8mUwId//6plgA32lJfHdF2AG3zHQOqPsZMeQj7e2qVE5AP6UJ0fz1a\n",
       "agPfCh0N8Yavp7kGiwc+2tQtdSTxX2wwcnJJL1P7P3CnpWzN02kzQrKNcAV0ZLb4c+HFVRVB8roe\n",
       "TKkx66/ie7z2E7xcDPzRKgeRev8u5f5icJ+AmTC7SyugqtVMWyMh8iGZPdRVg+F4dtbRl+vghRAk\n",
       "KupYE6ROSA0v7Sk2+ySxSXAv55CRc/nscqCMcjQISoMK//MkIb+5okcjrQjyQOWP4ADfmihZSIJo\n",
       "sODqsjPJyNMPdcgCI+2YYRXDW5Tvtk3ubRm+lDwoZFsrpQaLv/V/z/Z3cd61/Ps2E8xvvDQGICnn\n",
       "92e+9jlMYs0lH3s9yZxgK7TO7cmvUuFaIgh9VwYNXix2Hnb6k3XVcDUmbNlRMyoVHCN3S6wDS2eL\n",
       "S2o15CUiGJMEkWmFfDLQVaqw5MMNSbW+VQyZPbb9Zthql8eilDsGZWGTu4x/n1wpvN65rr8dW0Wi\n",
       "ajfeDEJZKZxCeI9Qj2grTbK+omDh0vkBOB6Eo9JEmwy6cfaUDYsdubtU7xcHjfsBK9KNPgyLyGzU\n",
       "b1Crx8QXjaxMnbW3z9g2sYlvw0Uhr18SKRAc2Y4sGk+5qYS9sM85N15kuX9sU+vysInhWQH1bqs7\n",
       "qvt0a71mXWTY7aHpXTNe2NCjb/B0coqkKnrKBZzcQOpZoGSe80uRdVjN58DAo3bi8U3DTRYGxmGI\n",
       "EZBoiULUK8Dxre3YG+6N0f6n3jq+SOEoz5PFOoDqYgT6Y6ctZul09t8P7aVvmHPYabJvJXWpgWuh\n",
       "LsD9i/5hPuK+VMixIx3TaSwJXAyp7VU1IyQJyasxMD8pvSO28S867COY42CEzMvXERGYiON6ieZR\n",
       "co7Grvl7btajX6DSIF2S8u1Oe7aSZuR0PoLHTR7i9TPI7tPcuPAW49SCw2KObEDi0GYDFDDkaZm3\n",
       "6FJvVmgBYLqXrgXtp0Cw0Fokmni4jmL2fRy0xhulHMkN6yDkox/RLQYfzaBw3cvKOABbKMKmi7JW\n",
       "qKgb7sFcx5nlQwxjydpQeGtcF698SK4M4aIdsxisEnHEhXnhCnreskIViNlVqZEJNYdjcZWXMAAA\n",
       "APNBn/pFETwz/wBJbf2fvb7gGke2+H1FejduSApoXrABxjfNQ8Sbj/c6QS4GeTXXaI1ZSD6BKSCE\n",
       "n2kn+OQnSuvizGJZ57NuNvOiA4jIS615KN4tcuJZ9gYxr28K/Kd+v0HthC7KQGo+X/MAKCGR2mfo\n",
       "FklYzR8EmHVmRDQu5cywcPWel1NCR6B61Hruz10t9RX4d1sK7YHu9fGmVAUg3PU4JGFNZ3K7U7iR\n",
       "E0+ZueXY+/tBJeM8u2PMlu2wYQV/idVUDKBlNZmyQaXJ5Rx5A8/Zq1LHuXBdDCn/9gwAAAMAAArG\n",
       "BvJ1Amu9gkaCXrrp+MF3VEEAAACtAZ4ZdEK/AIK6NZLRJFGK2tF2DF4AmrJTatt9dszKxpo/wVtr\n",
       "9zj2MLj3SwRy2XlXMAK4i0/yG3OPwOpFmpEW4fu8vNcrv4b7o8/9WS7Pdu4XLhosrIrWW0J/aqWA\n",
       "zZD4u74cX1PWrTB2FmXHf42vMDNcVR6xXpUfr1qy/1Y5+iLwiX3ESXmou0SGyR6MUHQG0D0GygIe\n",
       "E+PaNsLhwrzfBcDywfOouhVpDrPDKOAAAACCAZ4bakK/AIbruVHiuUA7Q6bcttsJX+VILceIfTw7\n",
       "3YFVyXLq2wEddn4QzYb3TJn27HFWdehXnvRuSkeLj7R6MYSax8DThY+56+2yDn73dcMAUxM4YuOG\n",
       "b/sCz0VcgBb/hHNJmCMr1JZE2zOSES4ILyqmL+BAkbwRLIz0ubcS6bqtwQAAAItBmh9JqEFomUwI\n",
       "b//+p4QAbm1DaZUlMkhkANc4AAADADkRoJGmhW/X5C2pR5HuSvwsiAMBwxEXn1TIhVfkjkI5mDl6\n",
       "iTSQLVaViH1XlpTKC7nDaEzBmQ7rAOtfVj6GCmtbFQPIlB6qOw1VPqYUMJEoHUvXrCctB/udYBo4\n",
       "83FQMoeF7f4sjHpAtk5jAAAAW0GePUURLC//AGSiJ9uPAMmHMr6A0pPNgBLDjxKj5YWtA7WAa7Yv\n",
       "+WzekT97/QRYcjBsKjbzJauVCFXbjbWYRQ2kAD71YBJQbN5w7xANcqPTz8J41uHmt/bXJ9sAAABw\n",
       "AZ5eakK/AIbruY5/B+NCExgdYVcjG2JNxSXNXaWsibp2EvetV+OMcbYTYBnCCBHJufvJuGD61g9y\n",
       "roVTiDfB1XQ/A2Rl8I4pdudRLsXA7EZGXNasFB0YZO7tLLfRJIYViY82XEAK/ybn5dmutMYEAgAA\n",
       "AV1BmkBJqEFsmUwIb//+p4QAbsb8CjUOFYciCFgBZEt3Wgo/KTmDjKVa18mTBVM0IeJ4rhs0MqGZ\n",
       "Jmy5cGk+c0vWL3C1m+kRv6qxrVR8Cs4vJHKP08NpoB5ZqYlef/ldL9xGCC8VdnI07ObLQkX+e7YP\n",
       "BVatjpr91ZSIa793SD7qTzumlf1XtS2lPMkV8RHU8YyexO/QBZGVlaRXbCcXtaTipQQwPIXo3N7G\n",
       "kmmsXO1AWq71FYUuTNn0U7XxLHFgrYmWwPncX9oH3igNQbcGZNRa0LS45Cqae65A/eyf84wLTY3C\n",
       "gxkO5ZDt3sgeQ6t1mWWMHoqXxdZmyP8UC0kRrAVqmEqPP0LKLrRlqW8UhUI/wB3iThGlNx/3vrcj\n",
       "WQzsmbPF5mIvBczqi5yX2F+eDg1l7BQd6tp+E1d74eWF0KY8vauBUcAT0oFOg0tpZ1xbCwUNctId\n",
       "BiXGmaabzY1BAAABREGaYUnhClJlMCG//qeEAFPsOtegBAc4bmB+9+gCeeZ88JYY6Ml8SoOJ0qWg\n",
       "vTfKkH4BdF+cWZRnWubSr0DK8L6WzbkE7QvEs18+1eUXVZBsyjw2ImcOTD/L3MdrvDyx5oKD/CsG\n",
       "eoz207v/nPhIb8r/InQijr/gTVVHAWMV5mJ2DCGuCvsE5HLLjIb8VPTPXmvq6D6UykH7zgXF55Bz\n",
       "2wnrf4fQBrPvgmkz6OKJQ/Zg0RVfQ1LX0/Kp6FP4Fc1cSNpqwRq0MZT8lWQ6wWgWmfPRYh7SvK3d\n",
       "fIfg4nt5y0Xg0S/D+587aaKMw9avs6FanimkqPor4M1VONf07zPRSqKypVnnmYxau6q+/mZTa9YG\n",
       "snI6snWEyFqfkM6/vRHfXl0Dc3RSj8+7CvhlazFCK+8L/qOXvRyfMgwFEdkwZKn20RbQQAAAAXFB\n",
       "moJJ4Q6JlMCG//6nhABUA9wu/26gwpcANRZsQF8BOC79IrbH37s9Jflq4rl03MUpROPUiB0/1UoU\n",
       "BBz63NCeR0jYeAtCywLjG/2EM+Ivdj+rWLdvHWeOnVfnl7kM5eYhw4hhwU60E/u6rs8fnzBuliMe\n",
       "5XwdZQYAe3gS/rqgu8ib3bg2YooRJlYJZV41jQYbhVHP9qUo6kkmLrIQiFEu2IQOlSG2ww/Wih4x\n",
       "pFjZkWkhlUUhwI9AZByIS15mIvXhX8YSTe8U6n3r1gxdAImeBbKV/b4nDbJammjrmSar2wkQAR3B\n",
       "ZPRkRl93LrQyjSaQvRMb27ZBpBVp2Vw7ZRklqNsXiOnFE1rq4QQ+VlCnT+UEeO6/Jq37ty2fLDzi\n",
       "nqRcwoODCRYc66WYpbwC5oTArwu3gKERopNK47T0lF2D42MQ2C6VtmA8k/Mu3j0/FY792CFQlASK\n",
       "ev9GEe2KQ9pp/uANrSx1BLRCJ7/myJb/DTkAAAI6QZqkSeEPJlMFETw3//6nhABUf65UMdTJ2oqJ\n",
       "AwdNMIGoa8aiI9QAc5abtkFlrkDfa7tOPlF6eGBZHw3b0irjjoyLmEzeF+SyJTmqPXPjaSgCcNrx\n",
       "Lm88E3a4xRqrPmexiZ5um+6Rxb5enp3XndbaHBUR8WYSiuyyC0Z/ZvqtdrIQu/mNI85TDhztnDRq\n",
       "9pH0XDUC5dZf+PZ9Igz4652fPerOGqEf/6x+TDeifUhNmNrnEHDVoifPEJq8XEvJogJ3ErO/WzZ5\n",
       "kVo+/beQhUMJa/zODWkD5lPVPXjVSRl8yGnn+cfGSOq87gZA1CKBGb+TufDyIPmN6Tw0+T/cSDqK\n",
       "PlnYK5Yo0D+saZ2j557bCM0tLrxjBpkX6q0J6HH8IszLzMbs5jsbNy5AnGnqCFrz0Chd43WVWWDN\n",
       "AXFLt0hlee8on3o1MEBcnKBh3A6PfFzjZJ75Esf4GhvbLQ3//e6rG18niafWMe1/7aus29f8H0oz\n",
       "E6shkSgAs0YNZunmfxYX1Bx/qQdAAaEh3qpcaaweUF5mdA916hYYzv3InDjYeJC/Yxsr+BvtK1Vd\n",
       "2e6fKnZ79orYs76GLfSFeDzv+JPpzQ7/a/Gp75mRo9OBKbHKfHZ4RxhB7cE5Zq3XXk9GwHylYSfk\n",
       "A8Ib/OS9kMYEDdvQ8M1gmseBgk9apSRGVbdSpthGaOn/owNQ6S8gTwfAaAa6/5Qaps1V0+4nHhFB\n",
       "1cUVM/vbEjJxKG7n8vGuRMF54xEWQBnXe1MM8HxAAAAA0gGew2pCvwBDZCcmFkbBMfRn+gAnGta0\n",
       "G60Dkn2CDw92V28hwSKOr1gRl+OtdRTTpUyPoIcrclQENrXLYUdek4cZL4EtbZdOE2IgwAjDb3zL\n",
       "hv0RbM6TTu60wuA0SJOClBrz6Bx3onPKT6occlYZpLYdQVYP8g5Ek+notBeXA3UT2FFXoGYZdqcS\n",
       "TEE1dgosiq6k7ds1aJC5iSjSFFa8yUp3ZcFRazbAVPXbqKhFEAleGki4PJbOcIFwHN7lvM7eyfmB\n",
       "5JfCYgVEwNy6EowIls+I8QAAAgJBmsZJ4Q8mUwU8M//+nhAA2AhZsSgA/nkr1Sl3oiYRuOWtRWPz\n",
       "CwtUvvwKx+coAMl2nxXRhyd2eCvb4iNEFOZgeH8QEv5ITwtdwes+A2U9ANrListsL+SBsWn4lNcq\n",
       "+jfl6ABNWBlLeehnDeuGOPccXab/e0fl+RomC3zKkKTZZm1LtWBLvdzdZCSjFGVDjAbQHUJpFAiA\n",
       "h8pSBlNJVHNluaqFvCDjTlZpqXrDVJx+OSwI2xym671QZxUGs+bMPjvpS+h7tw5AWv920IdA+IUk\n",
       "LR+cWPla2UNat6gdqaGlG7YV2b8rEMSBqrEeSHsmpqk1Fvxh+mNs5VJHtUm3KieWl+bcDX5AYX0h\n",
       "/HcW3KzLiDra7+fAUJlO3sSbklrBfMC5HwtqCPUqXUyAYc9IKB4uvG+N2T9fv19ysn5M39E1NkaT\n",
       "te969ROrBu9iavgrwclQXNVMCWpMgAAAWyNPtjNvszKnGmUUJ1S9tfX1tSf512MVXsciykz6QzdO\n",
       "OXPGVDl1ygPxUHOqJW1oX8/GjancymrqqQ7lRo0Sa0+XPZuo8V4Gih/0oCUhbTcDCtYEU+3NrMZL\n",
       "JyhMSTa7EDGXkK+JVLGeQVq4yaf/8aMnCx3qNTMXvpZZ6HTfVpyPjIiU1VYEeoiQCNK3pTMgryJe\n",
       "8HKtqL2zKNRzOj3sJXiJQTRoWDrhAAAA4AGe5WpCvwAtbVE39uF4oZ8KyO82sV5SI2EF12I9GPW9\n",
       "brs68UTN3SSmwEYkogZzoB19gFcaWHiFEplQVDloV60AjAqICCTbXt7SBkMF8E8bYtgg79gc1b9z\n",
       "Y8wqFv0r0JR6Qtei/2CYUqPKI4wWz2IdMfSDiK3hcI8qtGDOOirCwSkXXWnipkhApwKGU6S+2Hdd\n",
       "Wn0S632vbdgASleHUbXGXVrgOl0ekTvWM1AEwVZs6v/tz/6NiHYAYQAWzJ969Y9oa3+O+XbFNBpd\n",
       "6V2kKfYzkQPjW2i1Eu9SsLe4LwNnAAABWkGa50nhDyZTAhX//jhAAm3wRLx2BeGRS4oaRUOUe/03\n",
       "vX7X4baIAW3PNk7IGBHDLphT/ez29sQX2TU9Gl7Eh8QR+kyFrwbXwkgQgbRbMDsC1FMMXU4Nz63m\n",
       "HrDkyGozXYugzWNi0OlRH9NFdf3zvrz4yarmJX99wZeZEtyRz+JbAc7y/UWU51v6n01TunBuaKg7\n",
       "uDZuQ3su1EMp8TD5VskF4WUbY/+9DS/EkAOeOAwq245/0ijMdOVnSDndZtzMhvTwxdv45HQ5VG8z\n",
       "bl6XU2CgN6MxEzUq6VUZNE91dOvMwOEUd0bJEFJCqAQ+IycuSAWqAAz85dvsrUULIbtuwco0R4BV\n",
       "ErtFf1w12zy5Msk7jiQ5tc2kLjo9Wzc+Lhp44wLO7fngpKrYsC6/wO6fhyTaD7fjvt9GYpPTkP6E\n",
       "ququX8k2T3tzoIWtotQQwg6iXeZ08gEDKCSIbcEAAAoabW9vdgAAAGxtdmhkAAAAAAAAAAAAAAAA\n",
       "AAAD6AAAJxAAAQAAAQAAAAAAAAAAAAAAAAEAAAAAAAAAAAAAAAAAAAABAAAAAAAAAAAAAAAAAABA\n",
       "AAAAAAAAAAAAAAAAAAAAAAAAAAAAAAAAAAAAAAAAAgAACUR0cmFrAAAAXHRraGQAAAADAAAAAAAA\n",
       "AAAAAAABAAAAAAAAJxAAAAAAAAAAAAAAAAAAAAAAAAEAAAAAAAAAAAAAAAAAAAABAAAAAAAAAAAA\n",
       "AAAAAABAAAAAAbAAAAEgAAAAAAAkZWR0cwAAABxlbHN0AAAAAAAAAAEAACcQAAAEAAABAAAAAAi8\n",
       "bWRpYQAAACBtZGhkAAAAAAAAAAAAAAAAAAAoAAABkABVxAAAAAAALWhkbHIAAAAAAAAAAHZpZGUA\n",
       "AAAAAAAAAAAAAABWaWRlb0hhbmRsZXIAAAAIZ21pbmYAAAAUdm1oZAAAAAEAAAAAAAAAAAAAACRk\n",
       "aW5mAAAAHGRyZWYAAAAAAAAAAQAAAAx1cmwgAAAAAQAACCdzdGJsAAAAt3N0c2QAAAAAAAAAAQAA\n",
       "AKdhdmMxAAAAAAAAAAEAAAAAAAAAAAAAAAAAAAAAAbABIABIAAAASAAAAAAAAAABAAAAAAAAAAAA\n",
       "AAAAAAAAAAAAAAAAAAAAAAAAAAAAAAAAGP//AAAANWF2Y0MBZAAV/+EAGGdkABWs2UGwloQAAAMA\n",
       "BAAAAwCgPFi2WAEABmjr48siwP34+AAAAAAcdXVpZGtoQPJfJE/FujmlG88DI/MAAAAAAAAAGHN0\n",
       "dHMAAAAAAAAAAQAAAMgAAAIAAAAAFHN0c3MAAAAAAAAAAQAAAAEAAAPYY3R0cwAAAAAAAAB5AAAA\n",
       "AQAABAAAAAABAAAGAAAAAAEAAAIAAAAAAQAABgAAAAABAAACAAAAAAEAAAYAAAAAAQAAAgAAAAAB\n",
       "AAAGAAAAAAEAAAIAAAAAAQAABAAAAAABAAAGAAAAAAEAAAIAAAAAAQAABgAAAAABAAACAAAAAAEA\n",
       "AAgAAAAAAgAAAgAAAAAJAAAEAAAAAAEAAAYAAAAAAQAAAgAAAAABAAAKAAAAAAEAAAQAAAAAAQAA\n",
       "AAAAAAABAAACAAAAAAEAAAgAAAAAAgAAAgAAAAABAAAEAAAAAAEAAAYAAAAAAQAAAgAAAAAGAAAE\n",
       "AAAAAAEAAAgAAAAAAgAAAgAAAAACAAAEAAAAAAEAAAgAAAAAAgAAAgAAAAAHAAAEAAAAAAEAAAgA\n",
       "AAAAAgAAAgAAAAABAAAEAAAAAAEAAAYAAAAAAQAAAgAAAAACAAAEAAAAAAEAAAYAAAAAAQAAAgAA\n",
       "AAAFAAAEAAAAAAEAAAYAAAAAAQAAAgAAAAABAAAEAAAAAAEAAAYAAAAAAQAAAgAAAAAGAAAEAAAA\n",
       "AAEAAAYAAAAAAQAAAgAAAAADAAAEAAAAAAEAAAYAAAAAAQAAAgAAAAABAAAKAAAAAAEAAAQAAAAA\n",
       "AQAAAAAAAAABAAACAAAAAAEAAAYAAAAAAQAAAgAAAAABAAAEAAAAAAEAAAgAAAAAAgAAAgAAAAAF\n",
       "AAAEAAAAAAEAAAgAAAAAAgAAAgAAAAAMAAAEAAAAAAEAAAoAAAAAAQAABAAAAAABAAAAAAAAAAEA\n",
       "AAIAAAAAAQAACgAAAAABAAAEAAAAAAEAAAAAAAAAAQAAAgAAAAACAAAEAAAAAAEAAAYAAAAAAQAA\n",
       "AgAAAAACAAAEAAAAAAEAAAYAAAAAAQAAAgAAAAABAAAEAAAAAAEAAAoAAAAAAQAABAAAAAABAAAA\n",
       "AAAAAAEAAAIAAAAACgAABAAAAAABAAAGAAAAAAEAAAIAAAAAAQAABgAAAAABAAACAAAAAAEAAAYA\n",
       "AAAAAQAAAgAAAAABAAAKAAAAAAEAAAQAAAAAAQAAAAAAAAABAAACAAAAAAEAAAQAAAAAAQAABgAA\n",
       "AAABAAACAAAAAAMAAAQAAAAAAQAACAAAAAACAAACAAAAAAEAAAYAAAAAAQAAAgAAAAABAAAIAAAA\n",
       "AAIAAAIAAAAACAAABAAAAAABAAAKAAAAAAEAAAQAAAAAAQAAAAAAAAABAAACAAAAAAEAAAgAAAAA\n",
       "AgAAAgAAAAADAAAEAAAAAAEAAAYAAAAAAQAAAgAAAAABAAAGAAAAAAEAAAIAAAAAAQAABAAAAAAc\n",
       "c3RzYwAAAAAAAAABAAAAAQAAAMgAAAABAAADNHN0c3oAAAAAAAAAAAAAAMgAABPvAAACTAAAAJIA\n",
       "AAG5AAAAqgAAAg0AAADJAAACBQAAAM4AAAG0AAACTAAAAQIAAAKcAAABHAAAAcsAAAHaAAABeQAA\n",
       "AqUAAAKaAAACoQAAAvEAAALrAAACwAAAAqAAAALCAAAC8QAAA5wAAADtAAAC4AAAAM0AAACpAAAA\n",
       "gQAAAQEAAABgAAAAZAAAAT0AAAG/AAAAsAAAAdkAAAGmAAAB1QAAAZ8AAAGxAAAB9wAAAxMAAAGq\n",
       "AAABTwAAAU4AAAIvAAAEywAAAhMAAAFMAAAC8AAAAsIAAAKjAAACqgAAAp4AAAKhAAACwgAAAuoA\n",
       "AADVAAAAogAAAS4AAACnAAAAaQAAAP4AAAENAAAB4wAAAL4AAAG6AAABiwAAAZYAAAGLAAABzwAA\n",
       "At4AAAE4AAACFAAAAiQAAAFoAAACRgAAAjIAAAKpAAACtwAAAusAAAK1AAAECwAAAPcAAAKzAAAC\n",
       "uQAAAmcAAAMxAAAA5AAAAdMAAACiAAAAiAAAAGAAAADuAAAAewAAAVgAAAI+AAABBgAAAN8AAAIj\n",
       "AAAB1AAAAbgAAAGlAAAB3gAAAq4AAAHBAAABfQAAARsAAAJ/AAACgAAAAtkAAAK3AAADBwAAAr8A\n",
       "AALDAAACpAAAAncAAALHAAACxQAAAxoAAAEKAAAAqwAAAHsAAAEUAAAArQAAAGcAAACKAAABaAAA\n",
       "AUkAAAIZAAAA9gAAAecAAAGKAAAClQAAARUAAAIzAAACngAAAtIAAAE5AAABRAAAAkUAAAKRAAAC\n",
       "nQAAAuEAAALcAAACrAAAAnUAAAK4AAACswAAAmgAAAKyAAAAxAAAAisAAACUAAAAlQAAAHQAAAHB\n",
       "AAAAwQAAAHQAAADMAAABtAAAAg8AAAD8AAABzwAAAY8AAAHsAAADRwAAAaUAAAE9AAABtwAAAXoA\n",
       "AATVAAAB/QAAAUoAAAKvAAAC7wAAAokAAAJZAAACqgAAAn0AAAKDAAACrwAAA04AAAD3AAAAsQAA\n",
       "AIYAAACPAAAAXwAAAHQAAAFhAAABSAAAAXUAAAI+AAAA1gAAAgYAAADkAAABXgAAABRzdGNvAAAA\n",
       "AAAAAAEAAAAwAAAAYnVkdGEAAABabWV0YQAAAAAAAAAhaGRscgAAAAAAAAAAbWRpcmFwcGwAAAAA\n",
       "AAAAAAAAAAAtaWxzdAAAACWpdG9vAAAAHWRhdGEAAAABAAAAAExhdmY1OC40NS4xMDA=\n",
       "\">\n",
       "  Your browser does not support the video tag.\n",
       "</video>"
      ],
      "text/plain": [
       "<IPython.core.display.HTML object>"
      ]
     },
     "execution_count": 86,
     "metadata": {},
     "output_type": "execute_result"
    }
   ],
   "source": [
    "from IPython.display import HTML\n",
    "HTML(anim.to_html5_video())"
   ]
  },
  {
   "cell_type": "code",
   "execution_count": 69,
   "metadata": {
    "id": "v7_iC9jhLTOI"
   },
   "outputs": [],
   "source": [
    "import matplotlib.animation as animation\n",
    "writergif = animation.PillowWriter(fps=30) \n",
    "anim.save('animación.gif', writer=writergif)"
   ]
  },
  {
   "cell_type": "markdown",
   "metadata": {
    "id": "-sWEGTQC-7GS"
   },
   "source": [
    "### Problema de aplicación:"
   ]
  },
  {
   "cell_type": "markdown",
   "metadata": {
    "id": "ehwaInmy-7GT"
   },
   "source": [
    "El Hamiltoniano de la partícula es: \n",
    "\n",
    "$$\\hat{H}=\\frac{\\hat{p}^2}{2m}-\\frac{1}{2}m\\omega^2\\hat{x}^2$$\n",
    "\n",
    "donde $\\omega=\\sqrt{\\frac{k}{m}}$ y $\\hat{p}=-i\\hbar \\frac{\\partial}{\\partial x}$."
   ]
  },
  {
   "cell_type": "markdown",
   "metadata": {
    "id": "N4Kf8fH5-7GT"
   },
   "source": [
    "tiene tres parámetros dimensionales relevantes, m, ω y ℏ, (es decir, $[m] = [M]$, $[ω] = [T^{−1}]$ y $[ℏ] = [ML^2T^{−1}]$ son todos algebraicamente independientes) entonces tienes un sistema rígido, en el sentido del teorema de Buckingham Pi: dos copias cualesquiera del problema compartirán el mismo comportamiento, y serán idénticas hasta una re-escala . "
   ]
  },
  {
   "cell_type": "markdown",
   "metadata": {
    "id": "CoO_CbyL-7GT"
   },
   "source": [
    "Por lo que utilizamos el hamiltoniano adimensionalizado, escalando las unidades de energía en $\\hbar \\omega$, momentos en $\\sqrt{\\hbar m\\omega}$ y las posiciones en $\\sqrt{\\hbar/(m\\omega)}$:\n",
    "\n",
    "$$\\hat{H}=\\frac{1}{2}\\hat{x}^2-\\frac{1}{2}\\frac{d^2}{dx^2}$$"
   ]
  },
  {
   "cell_type": "markdown",
   "metadata": {
    "id": "Df8JlGf2-7GT"
   },
   "source": [
    "Introducimos en la ecuación de Schrödinger:"
   ]
  },
  {
   "cell_type": "markdown",
   "metadata": {
    "id": "5UrH_n6B-7GT"
   },
   "source": [
    "$$\\hat{H}\\left| \\psi \\right\\rangle = E\\left| \\psi \\right\\rangle$$"
   ]
  },
  {
   "cell_type": "markdown",
   "metadata": {
    "id": "gP7ZiOk9-7GT"
   },
   "source": [
    "$$\\left(\\frac{1}{2}\\hat{x}^2-\\frac{1}{2}\\frac{d^2}{dx^2}\\right) \\left| \\psi \\right\\rangle = E \\left| \\psi \\right\\rangle $$"
   ]
  },
  {
   "cell_type": "markdown",
   "metadata": {
    "id": "ztj4_B4r-7GT"
   },
   "source": [
    "Proyectamos las soluciones de las funciones de onda en el espacio de posiciones: $\\langle x|\\psi\\rangle = \\psi(x)$ [3]"
   ]
  },
  {
   "cell_type": "markdown",
   "metadata": {
    "id": "xBXlFjOh-7GU"
   },
   "source": [
    "$$\\psi_n(x)=\\frac{1}{\\sqrt{2^n n!}}\\pi^{-1/4}exp(-x^2/2)H_n(x)$$\n",
    "$$E_n=n+\\frac{1}{2}$$"
   ]
  },
  {
   "cell_type": "markdown",
   "metadata": {
    "id": "u8SseCZi-7GU"
   },
   "source": [
    "Polinomio de Hermite: (Fórmula de recurrencia)\n",
    "\n",
    "$$H_{n+1}(y)=2yH_n(y)-2nH_{n-1}(y)$$"
   ]
  },
  {
   "cell_type": "code",
   "execution_count": 70,
   "metadata": {
    "id": "VvtaGX6T-7GW"
   },
   "outputs": [],
   "source": [
    "def hermite(x2,n):\n",
    "    if n==0:\n",
    "        return 1\n",
    "    elif n==1:\n",
    "        return 2*x2\n",
    "    else:\n",
    "        return 2*x2*hermite(x2,n-1)-2*(n-1)*hermite(x2,n-2)"
   ]
  },
  {
   "cell_type": "code",
   "execution_count": 71,
   "metadata": {
    "id": "cmjJiMNw-7GW"
   },
   "outputs": [],
   "source": [
    "def nat_q_osc(x,n):\n",
    "    return(np.sqrt(1/(2**n*factorial(n)))*np.pi**(-1/4)*np.exp(-x**2/2)*hermite(x,n))"
   ]
  },
  {
   "cell_type": "code",
   "execution_count": 72,
   "metadata": {
    "id": "6RFWfAa5-7GW"
   },
   "outputs": [],
   "source": [
    "plt.rcParams[\"figure.figsize\"] = (15,5)"
   ]
  },
  {
   "cell_type": "code",
   "execution_count": 73,
   "metadata": {
    "id": "A8XYuRHCNqY0"
   },
   "outputs": [],
   "source": [
    "#plt.style.use('default')"
   ]
  },
  {
   "cell_type": "code",
   "execution_count": 74,
   "metadata": {
    "colab": {
     "base_uri": "https://localhost:8080/",
     "height": 277
    },
    "id": "G-NA4R5x-7GX",
    "outputId": "c1a85af8-e920-43d5-9fa1-de6893c45439"
   },
   "outputs": [
    {
     "data": {
      "text/plain": [
       "Text(0.5, 0, 'posición')"
      ]
     },
     "execution_count": 74,
     "metadata": {},
     "output_type": "execute_result"
    },
    {
     "data": {
      "image/png": "[encoded data removed]",
      "text/plain": [
       "<Figure size 1080x360 with 1 Axes>"
      ]
     },
     "metadata": {
      "needs_background": "light"
     },
     "output_type": "display_data"
    }
   ],
   "source": [
    "n=5\n",
    "xx3=np.linspace(-5,5,100)\n",
    "yy3=nat_q_osc(xx3,n)\n",
    "plt.plot(xx3,yy3)\n",
    "plt.ylabel('función de onda')\n",
    "plt.xlabel('posición')\n",
    "#plt.plot(xx3,amp_yy3)"
   ]
  },
  {
   "cell_type": "code",
   "execution_count": 75,
   "metadata": {
    "colab": {
     "base_uri": "https://localhost:8080/"
    },
    "id": "4O0FJ6t--7GX",
    "outputId": "a4e64411-35f1-4c3e-8143-82a5a53e7d8a"
   },
   "outputs": [
    {
     "name": "stdout",
     "output_type": "stream",
     "text": [
      "Energía par   a n=5: 5.5\n"
     ]
    }
   ],
   "source": [
    "E_n=n+0.5\n",
    "print('Energía par   a n={}: {}'.format(n,E_n))"
   ]
  },
  {
   "cell_type": "code",
   "execution_count": 76,
   "metadata": {
    "colab": {
     "base_uri": "https://localhost:8080/",
     "height": 286
    },
    "id": "9ZGWUS-7-7GX",
    "outputId": "3b86fa71-6fb0-4102-cae4-3c3cd505329c",
    "scrolled": true
   },
   "outputs": [
    {
     "data": {
      "text/plain": [
       "Text(0.5, 1.0, '$|ψ(x,t=1)|^2, n=5$')"
      ]
     },
     "execution_count": 76,
     "metadata": {},
     "output_type": "execute_result"
    },
    {
     "data": {
      "image/png": "[encoded data removed]",
      "text/plain": [
       "<Figure size 1080x360 with 1 Axes>"
      ]
     },
     "metadata": {
      "needs_background": "light"
     },
     "output_type": "display_data"
    }
   ],
   "source": [
    "yy2=nat_q_osc(xx3,n)*np.conjugate(nat_q_osc(xx3,n))\n",
    "plt.plot(xx3,yy2)\n",
    "plt.title('$|ψ(x,t=1)|^2, n=5$')"
   ]
  },
  {
   "cell_type": "code",
   "execution_count": 77,
   "metadata": {
    "colab": {
     "base_uri": "https://localhost:8080/",
     "height": 286
    },
    "id": "YkxqthsV-7GX",
    "outputId": "dd96e0e8-b653-4f14-971e-e6bbffae6d31",
    "scrolled": true
   },
   "outputs": [
    {
     "data": {
      "text/plain": [
       "Text(0.5, 1.0, 'Probabilidad total= $\\\\int \\\\psi^*(x,n)\\\\psi(x,n)$')"
      ]
     },
     "execution_count": 77,
     "metadata": {},
     "output_type": "execute_result"
    },
    {
     "data": {
      "image/png": "[encoded data removed]",
      "text/plain": [
       "<Figure size 1080x360 with 1 Axes>"
      ]
     },
     "metadata": {
      "needs_background": "light"
     },
     "output_type": "display_data"
    }
   ],
   "source": [
    "plt.fill_between(xx3,yy3,alpha=0.30,color='g')\n",
    "plt.title('Probabilidad total= $\\int \\psi^*(x,n)\\psi(x,n)$')"
   ]
  },
  {
   "cell_type": "markdown",
   "metadata": {
    "id": "zpqGjm0e-7GY"
   },
   "source": [
    "Condición de normalización:\n",
    "\n",
    "$$P_{a\\leq x\\leq b}=\\int_{a}^b |\\psi (x,t=1)|^2dx = 1$$ \n",
    "\n",
    "Donde $[a,b]$ es el dominio espacial"
   ]
  },
  {
   "cell_type": "code",
   "execution_count": 78,
   "metadata": {
    "colab": {
     "base_uri": "https://localhost:8080/"
    },
    "id": "cKAl4z5F-7GY",
    "outputId": "5b914162-1cf9-4478-a964-5bef687985f4"
   },
   "outputs": [
    {
     "data": {
      "text/plain": [
       "0.9899965912926796"
      ]
     },
     "execution_count": 78,
     "metadata": {},
     "output_type": "execute_result"
    }
   ],
   "source": [
    "#El área  bajo la curva por regla del trapecio\n",
    "np.trapz(yy2,dx=0.1)"
   ]
  },
  {
   "cell_type": "markdown",
   "metadata": {
    "id": "n7g8VWAS-7GY"
   },
   "source": [
    "## 4. Errores"
   ]
  },
  {
   "cell_type": "markdown",
   "metadata": {
    "id": "O6W0mQjk-7GY"
   },
   "source": [
    "Sean $x$ y $\\bar{x}$ un número y su valor aproximado.\n",
    "\n",
    "Error absoluto:\n",
    "\n",
    "$$e=x-\\bar{x}$$\n",
    "\n",
    "Error relativo $(x≠0)$:\n",
    "\n",
    "$$e_r=\\frac{x-\\bar{x}}{x}$$\n",
    "\n",
    "Error relativo porcentual:\n",
    "\n",
    "$$e_r \\%=e_r100$$\n",
    "\n"
   ]
  },
  {
   "cell_type": "markdown",
   "metadata": {
    "id": "1dpIpPXU-7GZ"
   },
   "source": [
    "Ejemplo:\n",
    "\n",
    "Se tiene una barra de oro de 1kg (idóneamente),  sin embargo la balanza nos muestra 1,034 kg"
   ]
  },
  {
   "cell_type": "code",
   "execution_count": 79,
   "metadata": {
    "colab": {
     "base_uri": "https://localhost:8080/"
    },
    "id": "wxAk22eO-7GZ",
    "outputId": "29736876-45c8-497c-8e1a-e0b20d1444da"
   },
   "outputs": [
    {
     "data": {
      "text/plain": [
       "-0.03400000000000003"
      ]
     },
     "execution_count": 79,
     "metadata": {},
     "output_type": "execute_result"
    }
   ],
   "source": [
    "x_real=1.034\n",
    "x_exacto=1\n",
    "e_abs= x_exacto-x_real\n",
    "e_abs"
   ]
  },
  {
   "cell_type": "code",
   "execution_count": 80,
   "metadata": {
    "colab": {
     "base_uri": "https://localhost:8080/"
    },
    "id": "Kn4fXgyR-7GZ",
    "outputId": "27e9e702-deb2-4d0f-c21d-1e15377a6cec"
   },
   "outputs": [
    {
     "data": {
      "text/plain": [
       "(50,)"
      ]
     },
     "execution_count": 80,
     "metadata": {},
     "output_type": "execute_result"
    }
   ],
   "source": [
    "x.shape"
   ]
  },
  {
   "cell_type": "code",
   "execution_count": 81,
   "metadata": {
    "colab": {
     "base_uri": "https://localhost:8080/"
    },
    "id": "AWSqN-TR-7GZ",
    "outputId": "38e9d59f-019c-41c6-c894-4fc3eefd8048"
   },
   "outputs": [
    {
     "data": {
      "text/plain": [
       "array([0.33171379, 0.83222731, 0.67268156, 0.66248487, 0.64499954,\n",
       "       0.1968656 , 0.00354592, 0.44480885, 0.53998576, 0.12256118,\n",
       "       0.23701853, 0.98913149, 0.94612575, 0.92393642, 0.55265608,\n",
       "       0.22224701, 0.44095485, 0.58030406, 0.63491075, 0.02613646,\n",
       "       0.90380845, 0.95080571, 0.96628754, 0.34195226, 0.02033856,\n",
       "       0.17791861, 0.51126844, 0.02093635, 0.1055469 , 0.27834993,\n",
       "       0.30630584, 0.60750128, 0.74952154, 0.51361697, 0.23850094,\n",
       "       0.79886329, 0.63004293, 0.207411  , 0.79958092, 0.46157773,\n",
       "       0.64648806, 0.51908904, 0.04973432, 0.19352948, 0.05909304,\n",
       "       0.054817  , 0.31246165, 0.11461131, 0.82485287, 0.95908706,\n",
       "       0.21732262, 0.69565564, 0.92329424, 0.13441937, 0.87315935,\n",
       "       0.49948189, 0.25051303, 0.64476948, 0.77445071, 0.30919156,\n",
       "       0.8915778 , 0.33691045, 0.63267118, 0.76249604, 0.95988226,\n",
       "       0.05651559, 0.65199756, 0.69629009, 0.0353184 , 0.36150994,\n",
       "       0.56484424, 0.16477865, 0.01750112, 0.90821185, 0.01181371,\n",
       "       0.26208835, 0.11886821, 0.72440758, 0.67411295, 0.27173267,\n",
       "       0.80661833, 0.6851358 , 0.51035803, 0.63102601, 0.25585538,\n",
       "       0.14206499, 0.07323525, 0.44361707, 0.23054807, 0.76309231,\n",
       "       0.02983104, 0.94628305, 0.20267192, 0.47582342, 0.27557343,\n",
       "       0.41817236, 0.21646571, 0.23397353, 0.88816977, 0.38465843])"
      ]
     },
     "execution_count": 81,
     "metadata": {},
     "output_type": "execute_result"
    }
   ],
   "source": [
    "np.random.rand(100,) "
   ]
  },
  {
   "cell_type": "code",
   "execution_count": 82,
   "metadata": {
    "colab": {
     "base_uri": "https://localhost:8080/"
    },
    "id": "TIohM4fh-7GZ",
    "outputId": "d6f141c9-107c-48ce-91cf-e16034660077"
   },
   "outputs": [
    {
     "data": {
      "text/plain": [
       "array([-5.0035734 , -4.89372582, -4.79857166, -4.69692197, -4.6256154 ,\n",
       "       -4.48743712, -4.38856318, -4.29510671, -4.18557072, -4.09193435,\n",
       "       -3.99415715, -3.85370691, -3.7750495 , -3.68776746, -3.57335589,\n",
       "       -3.48440208, -3.39038305, -3.2780971 , -3.18941331, -3.07820969,\n",
       "       -2.9927102 , -2.8712928 , -2.78179802, -2.68528111, -2.57459202,\n",
       "       -2.46383773, -2.38835322, -2.28920126, -2.18423991, -2.07442473,\n",
       "       -1.98581433, -1.86137209, -1.77443847, -1.68046682, -1.57817336,\n",
       "       -1.46193167, -1.35604093, -1.26517606, -1.15667463, -1.04660125,\n",
       "       -0.95859213, -0.87084205, -0.76019394, -0.64581885, -0.53773488,\n",
       "       -0.45894667, -0.36389105, -0.26029994, -0.16076287, -0.06283306,\n",
       "        0.05444834,  0.16065716,  0.25610314,  0.33616937,  0.45084592,\n",
       "        0.55923784,  0.64307145,  0.75598455,  0.85901668,  0.96927966,\n",
       "        1.07702714,  1.15956424,  1.26640141,  1.36032941,  1.46596079,\n",
       "        1.55886587,  1.67877865,  1.76604262,  1.8613028 ,  1.96832123,\n",
       "        2.07043637,  2.16955653,  2.28403633,  2.35560031,  2.47548917,\n",
       "        2.57959934,  2.6713544 ,  2.78607391,  2.89229783,  2.9656898 ,\n",
       "        3.07064376,  3.18568269,  3.28885393,  3.37748391,  3.48585432,\n",
       "        3.58672056,  3.68118567,  3.79772759,  3.89158778,  3.97926519,\n",
       "        4.09299902,  4.19825209,  4.30317376,  4.38808989,  4.50784318,\n",
       "        4.59455547,  4.71902884,  4.79268704,  4.87651002,  4.99755237])"
      ]
     },
     "execution_count": 82,
     "metadata": {},
     "output_type": "execute_result"
    }
   ],
   "source": [
    "import random\n",
    "random.seed(5)\n",
    "x=np.linspace(-5,5,100)\n",
    "x_pert=x+np.random.randn(100,)/100\n",
    "x_pert"
   ]
  },
  {
   "cell_type": "code",
   "execution_count": 83,
   "metadata": {
    "colab": {
     "base_uri": "https://localhost:8080/",
     "height": 270
    },
    "id": "Cm_BDx3W-7Ga",
    "outputId": "20e862af-b54c-4b81-81c8-f8907b205692"
   },
   "outputs": [
    {
     "data": {
      "text/plain": [
       "<matplotlib.legend.Legend at 0x7f91b22a5c40>"
      ]
     },
     "execution_count": 83,
     "metadata": {},
     "output_type": "execute_result"
    },
    {
     "data": {
      "image/png": "[encoded data removed]",
      "text/plain": [
       "<Figure size 1080x360 with 1 Axes>"
      ]
     },
     "metadata": {
      "needs_background": "light"
     },
     "output_type": "display_data"
    }
   ],
   "source": [
    "y_orig=nat_q_osc(x,n)#*q_osc(xx,10)\n",
    "y_pert=nat_q_osc(x_pert,n)\n",
    "plt.plot(x_pert,y_pert)\n",
    "plt.plot(x,y_orig)\n",
    "plt.legend(['Función perturbada','Función Original'])"
   ]
  },
  {
   "cell_type": "code",
   "execution_count": 84,
   "metadata": {
    "colab": {
     "base_uri": "https://localhost:8080/"
    },
    "id": "ftuJPQv2-7Ga",
    "outputId": "4aeeb4ff-8266-498b-8e2d-a46252d4e460",
    "scrolled": true
   },
   "outputs": [
    {
     "data": {
      "text/plain": [
       "array([ 5.05025561e-05, -1.07732817e-04,  1.68510743e-05, -1.88300945e-06,\n",
       "        1.52610609e-03, -5.48109434e-04, -5.16163410e-04,  2.68770541e-04,\n",
       "       -1.01002240e-03,  2.02633686e-04,  1.03113051e-03, -1.06161926e-02,\n",
       "       -4.46728877e-03,  3.56317270e-04, -5.58988163e-03, -2.15753397e-04,\n",
       "        3.31889526e-03, -2.41840661e-03,  3.71938602e-03, -1.12193124e-03,\n",
       "        4.48620558e-03, -1.52674067e-03,  1.77669658e-04, -1.29514577e-03,\n",
       "        4.52117416e-04,  6.92612614e-03, -1.22015516e-02, -1.70863117e-02,\n",
       "       -1.49955173e-02, -4.79201856e-03, -2.08355738e-02,  8.68995173e-03,\n",
       "       -6.81184998e-03, -1.01711931e-02, -4.78214404e-03, -1.32409866e-04,\n",
       "       -3.56548381e-03,  2.11809127e-03, -5.69338301e-03, -1.90488936e-02,\n",
       "       -1.42924752e-03,  1.66713388e-02,  2.98682733e-03, -8.35894728e-03,\n",
       "       -5.87246728e-03, -4.06907389e-04, -5.65239924e-03, -7.47070496e-03,\n",
       "       -1.16890393e-02, -1.76147142e-02,  5.64901693e-03,  1.15565807e-02,\n",
       "        3.46504774e-03, -1.05343286e-02, -4.13003544e-04, -1.39415520e-03,\n",
       "        1.04229725e-02,  1.80595303e-03, -5.82509660e-04, -1.37847118e-02,\n",
       "       -2.19806788e-02,  2.35646745e-03, -3.12788599e-03,  1.52417209e-03,\n",
       "       -5.32843310e-05, -2.34547631e-03,  8.89476995e-03, -1.62998539e-03,\n",
       "       -8.77187719e-03, -1.77341981e-03, -3.49170055e-04, -2.60680788e-03,\n",
       "        1.17829252e-02, -1.57824939e-02,  4.60820813e-04,  1.46803030e-03,\n",
       "       -9.03813813e-04, -3.99130130e-04, -2.96221263e-03,  4.69085583e-03,\n",
       "        4.36020684e-03, -1.88981735e-03, -3.08282984e-03,  3.22858298e-03,\n",
       "       -4.85894616e-04, -3.82883118e-04,  2.26236226e-03, -3.37142471e-03,\n",
       "       -7.88333256e-04,  2.61247737e-03, -4.12587594e-04, -9.92808730e-04,\n",
       "       -1.25183957e-03,  5.61957975e-04, -9.13936769e-04,  7.56848855e-05,\n",
       "       -8.40704081e-04,  1.52159572e-04,  4.73951106e-04,  3.49673519e-05])"
      ]
     },
     "execution_count": 84,
     "metadata": {},
     "output_type": "execute_result"
    }
   ],
   "source": [
    "e_abs_y= y_pert-y_orig\n",
    "e_abs_y"
   ]
  },
  {
   "cell_type": "code",
   "execution_count": 85,
   "metadata": {
    "colab": {
     "base_uri": "https://localhost:8080/",
     "height": 268
    },
    "id": "09r5T6uk-7Ga",
    "outputId": "3b962430-512d-4e59-d461-275ee9009e6c"
   },
   "outputs": [
    {
     "data": {
      "text/plain": [
       "[<matplotlib.lines.Line2D at 0x7f91b3c0b970>]"
      ]
     },
     "execution_count": 85,
     "metadata": {},
     "output_type": "execute_result"
    },
    {
     "data": {
      "image/png": "[encoded data removed]",
      "text/plain": [
       "<Figure size 1080x360 with 1 Axes>"
      ]
     },
     "metadata": {
      "needs_background": "light"
     },
     "output_type": "display_data"
    }
   ],
   "source": [
    "plt.plot(e_abs_y)"
   ]
  },
  {
   "cell_type": "markdown",
   "metadata": {
    "id": "FGECBA1k-7Ga"
   },
   "source": [
    "En este punto utilizamos el generador de números aleatorios con distribución uniforme en el intervalo de $[0,1]$, esto perturba a la solución de la función de onda sin respetar las condiciones físicas. Un buen ejercicio es controlar esta generación de números aleatorios que respeten la condición de completez, es decir: $\\sum P=1$."
   ]
  },
  {
   "cell_type": "markdown",
   "metadata": {
    "id": "6ucKfX5Q-7Ga"
   },
   "source": [
    "## 5. Recursos útiles\n",
    "\n",
    "* [\"Nondimensionalization of Schrödinger Equation\"](https://physics.stackexchange.com/questions/442923/why-do-we-nondimensionalize-the-schrödinger-equation-when-solving-the-quantum-ha)\n",
    "* [\"Teorema de Buckingham Pi\"](https://en.wikipedia.org/wiki/Buckingham_π_theorem)\n",
    "* David J. Griffiths, 'Introduction to Quantum Mechanics\", Pearson Prentice Hall, Year: 2004, 2nd Ed., Pág. 56\n",
    "* [\"How to Think Like a Computer Scientist\"](https://nbviewer.jupyter.org/github/Yorko/mlcourse.ai/blob/master/jupyter_english/tutorials/merging_dataframes_tutorial_max_palko.ipynb) - Think Python Versión 2.0.17 by Allen Doney. (libro completo [aquí](https://www.greenteapress.com/thinkpython/thinkpython.pdf))\n",
    "* [scipy-lectures.org](http://www.scipy-lectures.org/index.html) — tutorials on pandas, numpy, matplotlib and scikit-learn\n",
    "* https://docs.python.org/3/library/stdtypes.html#printf-style-string-formatting\n",
    "\n",
    "\n",
    "## Donaciones\n",
    "<br>\n",
    "<center>\n",
    "Puedes donar una vez en el siguiente enlace (Ko-Fi):\n",
    "\n",
    "<br>\n",
    "    \n",
    "*Click en la imagen.*\n",
    "\n",
    "<a href=\"https://ko-fi.com/rcrdphysics\">\n",
    "<img src=\"https://habrastorage.org/webt/8r/ml/xf/8rmlxfpdzukegpxa62cxlfvgkqe.png\" width=20% />\n",
    "\n",
    "</center>"
   ]
  },
  {
   "cell_type": "code",
   "execution_count": null,
   "metadata": {},
   "outputs": [],
   "source": []
  }
 ],
 "metadata": {
  "colab": {
   "collapsed_sections": [],
   "name": "Copy of Sesión_1.ipynb",
   "provenance": [
    {
     "file_id": "1xC0lwzCqU32pO3zUvsc9VXoR0G_aQcN2",
     "timestamp": 1613831475096
    }
   ]
  },
  "kernelspec": {
   "display_name": "Python 3",
   "language": "python",
   "name": "python3"
  },
  "language_info": {
   "codemirror_mode": {
    "name": "ipython",
    "version": 3
   },
   "file_extension": ".py",
   "mimetype": "text/x-python",
   "name": "python",
   "nbconvert_exporter": "python",
   "pygments_lexer": "ipython3",
   "version": "3.8.5"
  }
 },
 "nbformat": 4,
 "nbformat_minor": 1
}
